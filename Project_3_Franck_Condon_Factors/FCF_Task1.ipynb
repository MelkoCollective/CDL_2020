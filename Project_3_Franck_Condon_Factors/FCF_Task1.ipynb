{
  "nbformat": 4,
  "nbformat_minor": 0,
  "metadata": {
    "colab": {
      "name": "FCF_Task1.ipynb",
      "provenance": [],
      "collapsed_sections": [],
      "authorship_tag": "ABX9TyMEyGI665enWuV/H1VL7pyc",
      "include_colab_link": true
    },
    "kernelspec": {
      "name": "python3",
      "display_name": "Python 3"
    }
  },
  "cells": [
    {
      "cell_type": "markdown",
      "metadata": {
        "id": "view-in-github",
        "colab_type": "text"
      },
      "source": [
        "<a href=\"https://colab.research.google.com/github/tina-seb/CohortProject_2020/blob/master/Project_3_Franck_Condon_Factors/FCF_Task1.ipynb\" target=\"_parent\"><img src=\"https://colab.research.google.com/assets/colab-badge.svg\" alt=\"Open In Colab\"/></a>"
      ]
    },
    {
      "cell_type": "markdown",
      "metadata": {
        "id": "vdTG9QRy9nc_",
        "colab_type": "text"
      },
      "source": [
        "Task 1 \n",
        "\n",
        "A template code for calculating FCFs for  H2  -  H+2  using the harmonic oscillator approximation.\n",
        "\n",
        "Imports:"
      ]
    },
    {
      "cell_type": "code",
      "metadata": {
        "id": "HVIPkTNW59xX",
        "colab_type": "code",
        "colab": {}
      },
      "source": [
        "import numpy as np\n",
        "import matplotlib.pyplot as plt\n",
        "\n",
        "from FCF_helper import FCFSpec\n"
      ],
      "execution_count": 8,
      "outputs": []
    },
    {
      "cell_type": "markdown",
      "metadata": {
        "id": "VMraxtPY9hK1",
        "colab_type": "text"
      },
      "source": [
        "Initialize the FCFSpec object. Modify n_0_max and n_p_max (the maximum vibrational states of $H_2$ and $H_2^+$ that we'll look at calculating FCFs for) in order to get 10 transitions starting from n_0=0."
      ]
    },
    {
      "cell_type": "code",
      "metadata": {
        "id": "CXEMS0x86DXv",
        "colab_type": "code",
        "colab": {}
      },
      "source": [
        "n_0_max = 2\n",
        "n_p_max = 2\n",
        "\n",
        "fcfspec = FCFSpec(n_0_max, n_p_max)"
      ],
      "execution_count": 9,
      "outputs": []
    },
    {
      "cell_type": "markdown",
      "metadata": {
        "id": "d6VP9vFk9sWn",
        "colab_type": "text"
      },
      "source": [
        "\n",
        "Calculate all the FCFs and print the results including spectral intensity."
      ]
    },
    {
      "cell_type": "code",
      "metadata": {
        "id": "GXOanLAy6GCm",
        "colab_type": "code",
        "colab": {
          "base_uri": "https://localhost:8080/",
          "height": 187
        },
        "outputId": "ee4a21cc-fe3f-40a2-e35a-c4881732f010"
      },
      "source": [
        "\n",
        "spectrum = fcfspec.spectrum_analysis()\n",
        "print(\"n_0\\t\\t n_p\\t\\t FCF\\t\\t spectral_intensity\")\n",
        "print(spectrum)"
      ],
      "execution_count": 11,
      "outputs": [
        {
          "output_type": "stream",
          "text": [
            "n_0\t\t n_p\t\t FCF\t\t spectral_intensity\n",
            "[[ 0.00000000e+00  0.00000000e+00  1.00000000e+00  1.03893311e+03]\n",
            " [ 0.00000000e+00  1.00000000e+00  2.95139079e+00 -1.28306689e+03]\n",
            " [ 0.00000000e+00  2.00000000e+00  3.49048846e+00 -3.60506689e+03]\n",
            " [ 1.00000000e+00  0.00000000e+00  1.55717551e+00  5.43993311e+03]\n",
            " [ 1.00000000e+00  1.00000000e+00  1.42278254e+00  3.11793311e+03]\n",
            " [ 1.00000000e+00  2.00000000e+00  4.36585159e-04  7.95933108e+02]\n",
            " [ 2.00000000e+00  0.00000000e+00  1.74174773e+00  9.84093311e+03]\n",
            " [ 2.00000000e+00  1.00000000e+00  3.46957789e-01  7.51893311e+03]\n",
            " [ 2.00000000e+00  2.00000000e+00  5.00381497e-01  5.19693311e+03]]\n"
          ],
          "name": "stdout"
        }
      ]
    },
    {
      "cell_type": "markdown",
      "metadata": {
        "id": "DZwjXTb192KW",
        "colab_type": "text"
      },
      "source": [
        "Plot the corresponding FCF vs spectral intensity."
      ]
    },
    {
      "cell_type": "code",
      "metadata": {
        "id": "hTRHbinG7kjz",
        "colab_type": "code",
        "colab": {
          "base_uri": "https://localhost:8080/",
          "height": 279
        },
        "outputId": "ae745c56-9a27-4509-845e-ec88c1b82819"
      },
      "source": [
        "\n",
        "plt.plot(spectrum[2], spectrum[3]) \n",
        "plt.xlabel('FCF') \n",
        "plt.ylabel('Spectral Intensity') \n",
        "plt.show() "
      ],
      "execution_count": 14,
      "outputs": [
        {
          "output_type": "display_data",
          "data": {
            "image/png": "[encoded data removed]",
            "text/plain": [
              "<Figure size 432x288 with 1 Axes>"
            ]
          },
          "metadata": {
            "tags": [],
            "needs_background": "light"
          }
        }
      ]
    },
    {
      "cell_type": "markdown",
      "metadata": {
        "id": "yUYPv2x6-CvB",
        "colab_type": "text"
      },
      "source": [
        "Display the results for n_0 = 0 and n_p = 10"
      ]
    },
    {
      "cell_type": "code",
      "metadata": {
        "id": "pPZjjJY48ifR",
        "colab_type": "code",
        "colab": {
          "base_uri": "https://localhost:8080/",
          "height": 483
        },
        "outputId": "bc299ee5-9573-4836-86b2-fc9676dee76d"
      },
      "source": [
        "n_0_max = 0\n",
        "n_p_max = 10\n",
        "\n",
        "fcfspec = FCFSpec(n_0_max, n_p_max)\n",
        "spectrum = fcfspec.spectrum_analysis()\n",
        "print(\"n_0\\t\\t n_p\\t\\t FCF\\t\\t spectral_intensity\")\n",
        "print(spectrum)\n",
        "plt.plot(spectrum[2], spectrum[3]) \n",
        "plt.xlabel('FCF') \n",
        "plt.ylabel('Spectral Intensity') \n",
        "plt.show() "
      ],
      "execution_count": 15,
      "outputs": [
        {
          "output_type": "stream",
          "text": [
            "n_0\t\t n_p\t\t FCF\t\t spectral_intensity\n",
            "[[ 0.00000000e+00  0.00000000e+00  1.00000000e+00  1.03893311e+03]\n",
            " [ 0.00000000e+00  1.00000000e+00  2.95139079e+00 -1.28306689e+03]\n",
            " [ 0.00000000e+00  2.00000000e+00  3.49048846e+00 -3.60506689e+03]\n",
            " [ 0.00000000e+00  3.00000000e+00  2.01446220e+00 -5.92706689e+03]\n",
            " [ 0.00000000e+00  4.00000000e+00  5.16711333e-01 -8.24906689e+03]\n",
            " [ 0.00000000e+00  5.00000000e+00  2.55047939e-02 -1.05710669e+04]\n",
            " [ 0.00000000e+00  6.00000000e+00  8.26500159e-03 -1.28930669e+04]\n",
            " [ 0.00000000e+00  7.00000000e+00  1.09734335e-02 -1.52150669e+04]\n",
            " [ 0.00000000e+00  8.00000000e+00  1.39346082e-03 -1.75370669e+04]\n",
            " [ 0.00000000e+00  9.00000000e+00  8.39894919e-05 -1.98590669e+04]\n",
            " [ 0.00000000e+00  1.00000000e+01  2.53763959e-04 -2.21810669e+04]]\n"
          ],
          "name": "stdout"
        },
        {
          "output_type": "display_data",
          "data": {
            "image/png": "[encoded data removed]",
            "text/plain": [
              "<Figure size 432x288 with 1 Axes>"
            ]
          },
          "metadata": {
            "tags": [],
            "needs_background": "light"
          }
        }
      ]
    }
  ]
}