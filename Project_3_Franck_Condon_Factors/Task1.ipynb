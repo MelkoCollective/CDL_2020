{
 "cells": [
  {
   "cell_type": "markdown",
   "metadata": {},
   "source": [
    "# Task 1\n",
    "\n",
    "A template code for calculating FCFs for $H_2$ - $H_2^+$ using the harmonic oscillator approximation. \n",
    "\n",
    "Imports:"
   ]
  },
  {
   "cell_type": "code",
   "execution_count": 1,
   "metadata": {},
   "outputs": [],
   "source": [
    "import numpy as np\n",
    "import matplotlib.pyplot as plt\n",
    "\n",
    "from FCF_helper import FCFSpec"
   ]
  },
  {
   "cell_type": "markdown",
   "metadata": {},
   "source": [
    "Initialize the `FCFSpec` object. Modify `n_0_max` and `n_p_max` (the maximum vibrational states of $H_2$ and $H_2^+$ that we'll look at calculating FCFs for) in order to get 10 transitions starting from n_0=0."
   ]
  },
  {
   "cell_type": "code",
   "execution_count": 2,
   "metadata": {},
   "outputs": [],
   "source": [
    "n_0_max = 0\n",
    "n_p_max = 10\n",
    "\n",
    "fcfspec = FCFSpec(n_0_max, n_p_max)"
   ]
  },
  {
   "cell_type": "markdown",
   "metadata": {},
   "source": [
    "Calculate all the FCFs and print the results."
   ]
  },
  {
   "cell_type": "code",
   "execution_count": 3,
   "metadata": {},
   "outputs": [
    {
     "name": "stdout",
     "output_type": "stream",
     "text": [
      "n_0\t\t n_p\t\t FCF\t\t  Ep-E0 \n",
      "[[0.00000000e+00 0.00000000e+00 1.00000000e+00 1.23378957e+05]\n",
      " [0.00000000e+00 1.00000000e+00 2.95139079e+00 1.25700957e+05]\n",
      " [0.00000000e+00 2.00000000e+00 3.49048846e+00 1.28022957e+05]\n",
      " [0.00000000e+00 3.00000000e+00 2.01446220e+00 1.30344957e+05]\n",
      " [0.00000000e+00 4.00000000e+00 5.16711333e-01 1.32666957e+05]\n",
      " [0.00000000e+00 5.00000000e+00 2.55047939e-02 1.34988957e+05]\n",
      " [0.00000000e+00 6.00000000e+00 8.26500159e-03 1.37310957e+05]\n",
      " [0.00000000e+00 7.00000000e+00 1.09734335e-02 1.39632957e+05]\n",
      " [0.00000000e+00 8.00000000e+00 1.39346082e-03 1.41954957e+05]\n",
      " [0.00000000e+00 9.00000000e+00 8.39894919e-05 1.44276957e+05]\n",
      " [0.00000000e+00 1.00000000e+01 2.53763959e-04 1.46598957e+05]]\n"
     ]
    }
   ],
   "source": [
    "spectrum = fcfspec.spectrum_analysis()\n",
    "print(\"n_0\\t\\t n_p\\t\\t FCF\\t\\t  Ep-E0 \")\n",
    "print(spectrum)"
   ]
  },
  {
   "cell_type": "code",
   "execution_count": 4,
   "metadata": {},
   "outputs": [
    {
     "data": {
      "text/plain": [
       "<matplotlib.collections.PathCollection at 0x7f270ca9f400>"
      ]
     },
     "execution_count": 4,
     "metadata": {},
     "output_type": "execute_result"
    },
    {
     "data": {
      "image/png": "[encoded data removed]",
      "text/plain": [
       "<Figure size 432x288 with 1 Axes>"
      ]
     },
     "metadata": {
      "needs_background": "light"
     },
     "output_type": "display_data"
    }
   ],
   "source": [
    "#E= hc × wavenumber, 1cm^-1 = 8065.544 eV\n",
    "E = spectrum[:,3] / 8065.544\n",
    "\n",
    "plt.title('FCF versus Spectral Intensity')\n",
    "plt.xlabel('Ep - E0')\n",
    "plt.ylabel('FCF')\n",
    "\n",
    "plt.scatter(E, spectrum[:,2], color='blue')"
   ]
  },
  {
   "cell_type": "markdown",
   "metadata": {},
   "source": [
    "For FCF from n_0=0 to n_p=10:"
   ]
  },
  {
   "cell_type": "code",
   "execution_count": 5,
   "metadata": {},
   "outputs": [
    {
     "name": "stdout",
     "output_type": "stream",
     "text": [
      "0.0002537639593145838\n"
     ]
    }
   ],
   "source": [
    "print(spectrum[10][2])"
   ]
  }
 ],
 "metadata": {
  "kernelspec": {
   "display_name": "Python 3",
   "language": "python",
   "name": "python3"
  },
  "language_info": {
   "codemirror_mode": {
    "name": "ipython",
    "version": 3
   },
   "file_extension": ".py",
   "mimetype": "text/x-python",
   "name": "python",
   "nbconvert_exporter": "python",
   "pygments_lexer": "ipython3",
   "version": "3.7.3"
  }
 },
 "nbformat": 4,
 "nbformat_minor": 2
}
