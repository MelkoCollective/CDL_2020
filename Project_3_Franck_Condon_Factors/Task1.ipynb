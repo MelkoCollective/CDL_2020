{
 "cells": [
  {
   "cell_type": "markdown",
   "metadata": {},
   "source": [
    "# Task 1\n",
    "\n",
    "A template code for calculating FCFs for $H_2$ - $H_2^+$ using the harmonic oscillator approximation. \n",
    "\n",
    "Imports:"
   ]
  },
  {
   "cell_type": "code",
   "execution_count": 1,
   "metadata": {},
   "outputs": [],
   "source": [
    "import numpy as np\n",
    "import matplotlib.pyplot as plt\n",
    "import matplotlib\n",
    "%matplotlib inline\n",
    "%config InlineBackend.figure_format='retina'\n",
    "from FCF_helper import FCFSpec"
   ]
  },
  {
   "cell_type": "markdown",
   "metadata": {},
   "source": [
    "Initialize the `FCFSpec` object. Modify `n_0_max` and `n_p_max` (the maximum vibrational states of $H_2$ and $H_2^+$ that we'll look at calculating FCFs for) in order to get 10 transitions starting from n_0=0."
   ]
  },
  {
   "cell_type": "code",
   "execution_count": 2,
   "metadata": {},
   "outputs": [],
   "source": [
    "n_0_max = 0\n",
    "n_p_max = 10\n",
    "\n",
    "fcfspec = FCFSpec(n_0_max, n_p_max)"
   ]
  },
  {
   "cell_type": "markdown",
   "metadata": {},
   "source": [
    "Calculate all the FCFs and print the results."
   ]
  },
  {
   "cell_type": "code",
   "execution_count": 3,
   "metadata": {},
   "outputs": [
    {
     "name": "stdout",
     "output_type": "stream",
     "text": [
      "n_0\t\t n_p\t\t FCF\t\t E_p-E0\n",
      "[[0.00000000e+00 0.00000000e+00 1.00000000e+00 1.23378957e+05]\n",
      " [0.00000000e+00 1.00000000e+00 2.95139079e+00 1.25700957e+05]\n",
      " [0.00000000e+00 2.00000000e+00 3.49048846e+00 1.28022957e+05]\n",
      " [0.00000000e+00 3.00000000e+00 2.01446220e+00 1.30344957e+05]\n",
      " [0.00000000e+00 4.00000000e+00 5.16711333e-01 1.32666957e+05]\n",
      " [0.00000000e+00 5.00000000e+00 2.55047939e-02 1.34988957e+05]\n",
      " [0.00000000e+00 6.00000000e+00 8.26500159e-03 1.37310957e+05]\n",
      " [0.00000000e+00 7.00000000e+00 1.09734335e-02 1.39632957e+05]\n",
      " [0.00000000e+00 8.00000000e+00 1.39346082e-03 1.41954957e+05]\n",
      " [0.00000000e+00 9.00000000e+00 8.39894919e-05 1.44276957e+05]\n",
      " [0.00000000e+00 1.00000000e+01 2.53763959e-04 1.46598957e+05]]\n"
     ]
    }
   ],
   "source": [
    "spectrum = fcfspec.spectrum_analysis()\n",
    "print(\"n_0\\t\\t n_p\\t\\t FCF\\t\\t E_p-E0\")\n",
    "print(spectrum)"
   ]
  },
  {
   "cell_type": "code",
   "execution_count": 17,
   "metadata": {},
   "outputs": [],
   "source": [
    "def gauss(x,x0,y0,sigma):\n",
    "    '''\n",
    "    The Gaussian function\n",
    "    y = y0*Exp(-0.5*((x-x0)/sigma)**2)\n",
    "    Parameters:\n",
    "        x0: The position of the peak\n",
    "        y0: the intensity of the peak\n",
    "        sigma: The width of the Gaussian\n",
    "    Returns:\n",
    "        The gaussian evaluated at x\n",
    "    '''\n",
    "    g = y0*np.exp(-0.5* ((x-x0)/sigma)**2)\n",
    "    return g\n",
    "\n",
    "from scipy.optimize import curve_fit\n",
    "xdata = np.linspace(0, 4, 50)\n",
    "y = gauss(xdata, 2.5, 1.3, 0.5)\n"
   ]
  },
  {
   "cell_type": "code",
   "execution_count": 30,
   "metadata": {},
   "outputs": [
    {
     "data": {
      "text/plain": [
       "[Text(0, 0.5, 'FCF'),\n",
       " Text(0.5, 0, '$\\\\Delta E$'),\n",
       " Text(0.5, 1.0, 'Franck-Condon Factors for $H_2−H_2^+$ molecule ($n_0=0$, $n_p=10$)')]"
      ]
     },
     "execution_count": 30,
     "metadata": {},
     "output_type": "execute_result"
    },
    {
     "data": {
      "image/png": "[encoded data removed]",
      "text/plain": [
       "<Figure size 432x288 with 1 Axes>"
      ]
     },
     "metadata": {
      "image/png": {
       "height": 276,
       "width": 381
      },
      "needs_background": "light"
     },
     "output_type": "display_data"
    }
   ],
   "source": [
    "matplotlib.rcParams['text.usetex']=True\n",
    "FCF=[]\n",
    "DeltaE=[]\n",
    "x=np.arange(120000,150000,100)\n",
    "\n",
    "for i in spectrum :\n",
    "    FCF.append(i[2])\n",
    "    DeltaE.append(i[3]/8065.54429) #Converting energy unit from inverse Hartree Fock to eV\n",
    "\n",
    "\n",
    "fig,axes=plt.subplots()\n",
    "plt.gca().invert_xaxis()\n",
    "axes.plot(DeltaE,FCF,'o b',label='$n_0=0$, $n_p=10$')\n",
    "axes.set(xlabel='$\\Delta E$',ylabel='FCF',title='Franck-Condon Factors for $H_2−H_2^+$ molecule ($n_0=0$, $n_p=10$)')\n"
   ]
  },
  {
   "cell_type": "code",
   "execution_count": 29,
   "metadata": {},
   "outputs": [
    {
     "data": {
      "text/plain": [
       "[15.297040418334866,\n",
       " 15.584931714509251,\n",
       " 15.872823010683634,\n",
       " 16.16071430685802,\n",
       " 16.4486056030324,\n",
       " 16.736496899206784,\n",
       " 17.02438819538117,\n",
       " 17.312279491555554,\n",
       " 17.600170787729937,\n",
       " 17.88806208390432,\n",
       " 18.175953380078706]"
      ]
     },
     "execution_count": 29,
     "metadata": {},
     "output_type": "execute_result"
    }
   ],
   "source": [
    "DeltaE"
   ]
  },
  {
   "cell_type": "code",
   "execution_count": 19,
   "metadata": {},
   "outputs": [
    {
     "data": {
      "text/plain": [
       "[1.0,\n",
       " 2.951390788936749,\n",
       " 3.4904884601401744,\n",
       " 2.014462201827329,\n",
       " 0.5167113333292207,\n",
       " 0.025504793875624196,\n",
       " 0.008265001585994098,\n",
       " 0.010973433460970622,\n",
       " 0.0013934608245199632,\n",
       " 8.398949185926623e-05,\n",
       " 0.0002537639593145838]"
      ]
     },
     "execution_count": 19,
     "metadata": {},
     "output_type": "execute_result"
    }
   ],
   "source": [
    "FCF"
   ]
  },
  {
   "cell_type": "code",
   "execution_count": null,
   "metadata": {},
   "outputs": [],
   "source": []
  }
 ],
 "metadata": {
  "kernelspec": {
   "display_name": "Python 3",
   "language": "python",
   "name": "python3"
  },
  "language_info": {
   "codemirror_mode": {
    "name": "ipython",
    "version": 3
   },
   "file_extension": ".py",
   "mimetype": "text/x-python",
   "name": "python",
   "nbconvert_exporter": "python",
   "pygments_lexer": "ipython3",
   "version": "3.7.7"
  }
 },
 "nbformat": 4,
 "nbformat_minor": 2
}
