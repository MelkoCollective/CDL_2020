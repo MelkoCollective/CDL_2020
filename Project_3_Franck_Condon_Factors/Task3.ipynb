{
 "cells": [
  {
   "cell_type": "markdown",
   "metadata": {},
   "source": [
    "# Task 3: Simulation of a GBS experiment"
   ]
  },
  {
   "cell_type": "markdown",
   "metadata": {},
   "source": [
    "A template code for calculating a vibronic spectrum of $V_3$ using a sampling method, simulating a Gaussian Boson Sampling experiment."
   ]
  },
  {
   "cell_type": "markdown",
   "metadata": {},
   "source": [
    "Input Parameters.\n",
    "\n",
    "Note: \"Strawberry Fields\" is a code created by Xanadu and is the driver behind GBS. This can be installed using **pip**, but see install instructions in the <a href=\"https://github.com/CDL-Quantum/CohortProject_2020/blob/master/Project_3_Franck_Condon_Factors/Project3_LandingPage.pdf\"> Project 3 Landing Page</a>. Plotly is a nice plotting code, but is not necessary if you wish to use one of your choice."
   ]
  },
  {
   "cell_type": "code",
   "execution_count": 1,
   "metadata": {},
   "outputs": [],
   "source": [
    "from sys import argv\n",
    "from strawberryfields.apps import vibronic, data, sample, plot\n",
    "import numpy as np\n",
    "from plotly import offline\n",
    "import numpy as np\n",
    "import matplotlib.pyplot as plt"
   ]
  },
  {
   "cell_type": "markdown",
   "metadata": {},
   "source": [
    "Variables.\n",
    "\n",
    "Note: The **inputfile** for $V_3$ is what you will have to create to run this script."
   ]
  },
  {
   "cell_type": "code",
   "execution_count": 2,
   "metadata": {},
   "outputs": [],
   "source": [
    "inputfile = open(\"V3_input_task3.txt\", \"r\")\n",
    "\n",
    "N=int(inputfile.readline())     #Number of Atoms\n",
    "nmodes=3*N-6                    #Number of Modes\n",
    "\n",
    "w=np.zeros(nmodes,float)        #vib. frequencies of ground electronic state\n",
    "wp=np.zeros(nmodes,float)       #vib. frequencies of excited electronic state\n",
    "Ud=np.zeros((nmodes,nmodes),float)   #Duschinsky Matrix\n",
    "delta=np.zeros(nmodes,float)    #Displacement Vector\n",
    "\n",
    "T = 500  # temperature"
   ]
  },
  {
   "cell_type": "markdown",
   "metadata": {},
   "source": [
    "Read in Parameters.\n",
    "\n",
    "Note: This is a suggested format for reading the **inputfile** that you create. However, feel free to modify it for your convenience."
   ]
  },
  {
   "cell_type": "code",
   "execution_count": 3,
   "metadata": {},
   "outputs": [],
   "source": [
    "for i in range(nmodes):\n",
    "    w[i]=float(inputfile.readline())\n",
    "for i in range(nmodes):\n",
    "    wp[i]=float(inputfile.readline())\n",
    "for i in range(nmodes):\n",
    "    for j in range(nmodes):\n",
    "        Ud[i,j]=float(inputfile.readline())\n",
    "\n",
    "for i in range(nmodes):\n",
    "    delta[i]=float(inputfile.readline())"
   ]
  },
  {
   "cell_type": "code",
   "execution_count": 4,
   "metadata": {},
   "outputs": [
    {
     "name": "stdout",
     "output_type": "stream",
     "text": [
      "N:  3\n",
      "nmodes:  3\n",
      "w:  [255.  255.  420.8]\n",
      "wp:  [261.9 263.3 421.8]\n",
      "Ud:  [[ 7.41673e-01 -6.70761e-01  7.59511e-04]\n",
      " [-6.70759e-01 -7.41673e-01 -1.49096e-03]\n",
      " [ 1.56339e-03  5.96355e-04 -9.99999e-01]]\n",
      "delta:  [-2.05330e-04 -7.33908e-04 -1.08223e+00]\n"
     ]
    }
   ],
   "source": [
    "print('N: ', N)\n",
    "print('nmodes: ', nmodes)\n",
    "print('w: ',w)\n",
    "print('wp: ',wp)\n",
    "print('Ud: ',Ud)\n",
    "print('delta: ',delta)"
   ]
  },
  {
   "cell_type": "markdown",
   "metadata": {},
   "source": [
    "Use \"Strawberry Fields\" to calculate GBS Parameters based on the frequencies, Duschinsky matrix, and temperature that was provided as input."
   ]
  },
  {
   "cell_type": "code",
   "execution_count": 5,
   "metadata": {},
   "outputs": [],
   "source": [
    "t, U1, r, U2, alpha = vibronic.gbs_params(w, wp, Ud, delta, T)"
   ]
  },
  {
   "cell_type": "markdown",
   "metadata": {},
   "source": [
    "Generate Samples and Calculate Energies of Samples. Then plot the Spectrum.\n",
    "\n",
    "Note: The number of samples may be changed if the spectrum is not converged."
   ]
  },
  {
   "cell_type": "code",
   "execution_count": 6,
   "metadata": {},
   "outputs": [],
   "source": [
    "nr_samples = [10, 100, 500, 1000, 20000]\n",
    "for n_sam in nr_samples:\n",
    "    s = sample.vibronic(t, U1, r, U2, alpha, n_sam)\n",
    "    e = vibronic.energies(s, w, wp)\n",
    "    spectrum = plot.spectrum(e, gamma=50, xmin=-300, xmax=2000)\n",
    "    offline.plot(spectrum, filename=f\"{n_sam}_sample_spectrum.html\")"
   ]
  },
  {
   "cell_type": "markdown",
   "metadata": {},
   "source": [
    "Now lets compare to the V3.specs.out file we compiled from the FC.cxx program. \n",
    "\n",
    "First lets read in the file and plot the results."
   ]
  },
  {
   "cell_type": "code",
   "execution_count": 7,
   "metadata": {},
   "outputs": [
    {
     "data": {
      "text/plain": [
       "[<matplotlib.lines.Line2D at 0x213497c0fc8>]"
      ]
     },
     "execution_count": 7,
     "metadata": {},
     "output_type": "execute_result"
    },
    {
     "data": {
      "image/png": "[encoded data removed]",
      "text/plain": [
       "<Figure size 432x288 with 1 Axes>"
      ]
     },
     "metadata": {
      "needs_background": "light"
     },
     "output_type": "display_data"
    }
   ],
   "source": [
    "lineCount = 0\n",
    "with open(\"V3_specs_task3.txt\", \"r\") as f:\n",
    "    for i, l in enumerate(f):\n",
    "        lineCount += 1\n",
    "\n",
    "inputSpecs = open(\"V3_specs_task3.txt\", \"r\")\n",
    "\n",
    "x = []\n",
    "y = []\n",
    "\n",
    "for i in range(lineCount):\n",
    "    line = inputSpecs.readline().split(' ')\n",
    "    x.append(float(line[0]))\n",
    "    y.append(float(line[2]))\n",
    "    \n",
    "plt.title('FC.cxx Spectrum Results')\n",
    "plt.plot(x,y)"
   ]
  },
  {
   "cell_type": "markdown",
   "metadata": {},
   "source": [
    "To compare FC.cxx and GBS outputs and see if they line up in the x-axis we scale the FC.cxx values up inorder to make it more visually clear."
   ]
  },
  {
   "cell_type": "code",
   "execution_count": 8,
   "metadata": {},
   "outputs": [],
   "source": [
    "y = [i*1000 for i in y]"
   ]
  },
  {
   "cell_type": "markdown",
   "metadata": {},
   "source": [
    "Lets use GBS for 500 samples, as this showed fairly good convergence. "
   ]
  },
  {
   "cell_type": "code",
   "execution_count": 9,
   "metadata": {},
   "outputs": [],
   "source": [
    "s = sample.vibronic(t, U1, r, U2, alpha, 500)\n",
    "e = vibronic.energies(s, w, wp)\n",
    "spectrum = plot.spectrum(e, gamma=50, xmin=-300, xmax=2000)"
   ]
  },
  {
   "cell_type": "markdown",
   "metadata": {},
   "source": [
    "Now we plot the results and can see that both plots line up as expected with a slight offset. "
   ]
  },
  {
   "cell_type": "code",
   "execution_count": 10,
   "metadata": {},
   "outputs": [
    {
     "data": {
      "text/plain": [
       "<matplotlib.legend.Legend at 0x213492d23c8>"
      ]
     },
     "execution_count": 10,
     "metadata": {},
     "output_type": "execute_result"
    },
    {
     "data": {
      "image/png": "[encoded data removed]",
      "text/plain": [
       "<Figure size 432x288 with 1 Axes>"
      ]
     },
     "metadata": {
      "needs_background": "light"
     },
     "output_type": "display_data"
    }
   ],
   "source": [
    "e_h, bins = np.histogram(e, bins=3000)\n",
    "plt.title('GBS vs FC.cxx Spectrum Results')\n",
    "plt.xlim(-200, 2000) \n",
    "gbs, = plt.plot(bins[:-1],e_h, label='FC.cxx')\n",
    "fc, = plt.plot(x, y, label='GBS')\n",
    "plt.legend(handles=[gbs, fc]) "
   ]
  },
  {
   "cell_type": "code",
   "execution_count": null,
   "metadata": {},
   "outputs": [],
   "source": []
  }
 ],
 "metadata": {
  "kernelspec": {
   "display_name": "Python 3",
   "language": "python",
   "name": "python3"
  },
  "language_info": {
   "codemirror_mode": {
    "name": "ipython",
    "version": 3
   },
   "file_extension": ".py",
   "mimetype": "text/x-python",
   "name": "python",
   "nbconvert_exporter": "python",
   "pygments_lexer": "ipython3",
   "version": "3.7.7"
  }
 },
 "nbformat": 4,
 "nbformat_minor": 4
}
