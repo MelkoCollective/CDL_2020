{
 "cells": [
  {
   "cell_type": "code",
   "execution_count": 3,
   "metadata": {},
   "outputs": [],
   "source": [
    "import numpy as np\n",
    "from ising_animator import IsingAnimator\n",
    "from abstract_ising import AbstractIsing\n",
    "\n",
    "%matplotlib inline"
   ]
  },
  {
   "cell_type": "code",
   "execution_count": 4,
   "metadata": {},
   "outputs": [],
   "source": [
    "class FullyConnectedRandomBondIsing(AbstractIsing):\n",
    "    def __init__(self, N, J=1.):\n",
    "        self.J, self.N = J, N\n",
    "        self.num_spins = self.N\n",
    "        \n",
    "        # initialize system at infinite temperature\n",
    "        # i.e. spins are completely random and uncorrelated\n",
    "        self.spins = 2*(np.random.rand(self.N) < 0.5) - 1\n",
    "    \n",
    "        self.bonds = np.zeros((self.N, self.N))\n",
    "        for i in range(self.N):\n",
    "            for j in range(i+1, self.N):\n",
    "                self.bonds[i, j] = 2*(np.random.rand() < 0.5) - 1\n",
    "    \n",
    "    def energy(self):\n",
    "        \"\"\"Returns the energy of the current spin configuration\"\"\"\n",
    "        interaction = self.spins.dot(self.bonds.dot(self.spins))\n",
    "        return self.J * interaction\n",
    "\n",
    "    def energy_diff(self, i):\n",
    "        \"\"\"Returns the energy difference resulting from flipping the i'th site\"\"\"\n",
    "        return -2 * self.J * self.spins[i] * (\n",
    "            self.bonds[i, :].dot(self.spins) \n",
    "            + self.bonds[:, i].dot(self.spins)\n",
    "        )\n",
    "    \n",
    "    def rand_site(self):\n",
    "        \"\"\"Selects a site in the lattice at random\"\"\"\n",
    "        return (np.random.randint(self.N),)\n",
    "    \n",
    "class FullyConnectedMattisModel(FullyConnectedRandomBondIsing):\n",
    "    def __init__(self, N, J=1.):\n",
    "        self.J, self.N = J, N\n",
    "        self.num_spins = self.N\n",
    "        \n",
    "        self.xi = 2*(np.random.rand(self.N) < 0.5) - 1\n",
    "        \n",
    "        # initialize system at infinite temperature\n",
    "        # i.e. spins are completely random and uncorrelated\n",
    "        self.spins = 2*(np.random.rand(self.N) < 0.5) - 1\n",
    "    \n",
    "        self.bonds = np.zeros((self.N, self.N))\n",
    "        for i in range(self.N):\n",
    "            for j in range(i+1, self.N):\n",
    "                self.bonds[i, j] = -self.xi[i] * self.xi[j]"
   ]
  },
  {
   "cell_type": "code",
   "execution_count": 5,
   "metadata": {},
   "outputs": [
    {
     "name": "stdout",
     "output_type": "stream",
     "text": [
      "\n",
      "=== Annealing Energy Calculation for 10 spins ===\n",
      "3.0\n",
      "-13.0\n",
      "5.0\n",
      "3.0\n",
      "-3.0\n",
      "-3.0\n",
      "3.0\n",
      "3.0\n",
      "-3.0\n",
      "-45.0\n",
      "-45.0\n",
      "-45.0\n",
      "-45.0\n",
      "-45.0\n",
      "-45.0\n",
      "-45.0\n",
      "-45.0\n",
      "-45.0\n",
      "-45.0\n",
      "-45.0\n"
     ]
    }
   ],
   "source": [
    "# your annealing code here\n",
    "def annealing_schedule(steps, start_temp, final_temp):\n",
    "    N = steps\n",
    "    T_i = start_temp\n",
    "    T_f = final_temp\n",
    "    for t in range(N):\n",
    "        # Annealing\n",
    "        T = T_i * ((T_f/T_i) ** (t/N))\n",
    "        E = ising.mc_step(T=T)\n",
    "\n",
    "        if t % 50 == 0:\n",
    "            print(E)\n",
    "            \n",
    "    return E\n",
    "\n",
    "# Steps in MC\n",
    "N = 1000\n",
    "\n",
    "# Starting temperature\n",
    "T_i = 1000\n",
    "\n",
    "# Final Temperature\n",
    "T_f = 0.01\n",
    "\n",
    "ising = FullyConnectedMattisModel(10, J=1)\n",
    "print(\"\\n=== Annealing Energy Calculation for 10 spins ===\")\n",
    "annealed_energy = annealing_schedule(N,T_i,T_f)"
   ]
  },
  {
   "cell_type": "code",
   "execution_count": 6,
   "metadata": {},
   "outputs": [
    {
     "name": "stdout",
     "output_type": "stream",
     "text": [
      "\n",
      "=== Annealing Energy Calculation for 20 spins ===\n",
      "8.0\n",
      "2.0\n",
      "-22.0\n",
      "8.0\n",
      "2.0\n",
      "-8.0\n",
      "-40.0\n",
      "2.0\n",
      "-152.0\n",
      "-190.0\n",
      "-190.0\n",
      "-190.0\n",
      "-190.0\n",
      "-190.0\n",
      "-190.0\n",
      "-190.0\n",
      "-190.0\n",
      "-190.0\n",
      "-190.0\n",
      "-190.0\n"
     ]
    }
   ],
   "source": [
    "ising = FullyConnectedMattisModel(20, J=1)\n",
    "print(\"\\n=== Annealing Energy Calculation for 20 spins ===\")\n",
    "annealed_energy = annealing_schedule(N,T_i,T_f)"
   ]
  },
  {
   "cell_type": "code",
   "execution_count": 7,
   "metadata": {},
   "outputs": [
    {
     "name": "stdout",
     "output_type": "stream",
     "text": [
      "\n",
      "=== Annealing Energy Calculation for 50 spins ===\n",
      "23.0\n",
      "-7.0\n",
      "17.0\n",
      "-7.0\n",
      "-7.0\n",
      "-175.0\n",
      "-857.0\n",
      "-1225.0\n",
      "-1225.0\n",
      "-1225.0\n",
      "-1225.0\n",
      "-1225.0\n",
      "-1225.0\n",
      "-1225.0\n",
      "-1225.0\n",
      "-1225.0\n",
      "-1225.0\n",
      "-1225.0\n",
      "-1225.0\n",
      "-1225.0\n"
     ]
    }
   ],
   "source": [
    "ising = FullyConnectedMattisModel(50, J=1)\n",
    "print(\"\\n=== Annealing Energy Calculation for 50 spins ===\")\n",
    "annealed_energy = annealing_schedule(N,T_i,T_f)"
   ]
  },
  {
   "cell_type": "code",
   "execution_count": 8,
   "metadata": {},
   "outputs": [
    {
     "name": "stdout",
     "output_type": "stream",
     "text": [
      "\n",
      "=== Annealing Energy Calculation for 100 spins ===\n",
      "42.0\n",
      "32.0\n",
      "32.0\n",
      "32.0\n",
      "-1302.0\n",
      "-4182.0\n",
      "-4752.0\n",
      "-4950.0\n",
      "-4950.0\n",
      "-4950.0\n",
      "-4950.0\n",
      "-4950.0\n",
      "-4950.0\n",
      "-4950.0\n",
      "-4950.0\n",
      "-4950.0\n",
      "-4950.0\n",
      "-4950.0\n",
      "-4950.0\n",
      "-4950.0\n"
     ]
    }
   ],
   "source": [
    "ising = FullyConnectedMattisModel(100, J=1)\n",
    "print(\"\\n=== Annealing Energy Calculation for 100 spins ===\")\n",
    "annealed_energy = annealing_schedule(N,T_i,T_f)"
   ]
  },
  {
   "cell_type": "code",
   "execution_count": null,
   "metadata": {},
   "outputs": [],
   "source": []
  }
 ],
 "metadata": {
  "kernelspec": {
   "display_name": "Python 3",
   "language": "python",
   "name": "python3"
  },
  "language_info": {
   "codemirror_mode": {
    "name": "ipython",
    "version": 3
   },
   "file_extension": ".py",
   "mimetype": "text/x-python",
   "name": "python",
   "nbconvert_exporter": "python",
   "pygments_lexer": "ipython3",
   "version": "3.7.2"
  }
 },
 "nbformat": 4,
 "nbformat_minor": 4
}
