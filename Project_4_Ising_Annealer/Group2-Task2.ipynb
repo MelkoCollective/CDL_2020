{
 "cells": [
  {
   "cell_type": "code",
   "execution_count": 8,
   "metadata": {},
   "outputs": [],
   "source": [
    "import numpy as np\n",
    "import matplotlib.pyplot as plt\n",
    "\n",
    "from ising_animator import IsingAnimator\n",
    "from abstract_ising import AbstractIsing\n",
    "\n",
    "%matplotlib inline"
   ]
  },
  {
   "cell_type": "markdown",
   "metadata": {},
   "source": [
    "## 1D Random Bond Ising on a Periodic Chain\n",
    "\n",
    "$$H = J \\sum_{\\langle ij \\rangle} B_{ij} \\sigma_i \\sigma_j$$\n",
    "\n",
    "where $B_{ij} = \\pm 1$ which is selected randomly and independently for each bond nearest neighbour bond $ij$ when the model is initialized."
   ]
  },
  {
   "cell_type": "code",
   "execution_count": 21,
   "metadata": {},
   "outputs": [],
   "source": [
    "class RandomBondIsing1DPBC(AbstractIsing):\n",
    "    def __init__(self, N, J=1.):\n",
    "        self.J, self.N = J, N\n",
    "        self.num_spins = self.N\n",
    "        \n",
    "        self.bonds = 2*(np.random.rand(self.N) < 0.5) - 1\n",
    "        \n",
    "        # initialize system at infinite temperature\n",
    "        # i.e. spins are completely random and uncorrelated\n",
    "        self.spins = 2*(np.random.rand(self.N) < 0.5) - 1\n",
    "    \n",
    "    def energy(self, spins=None):\n",
    "        \"\"\"Returns the energy of the current spin configuration\"\"\"\n",
    "        spins = self.spins if spins is None else spins\n",
    "        interactions = self.bonds * spins * np.roll(spins, 1, axis=-1)\n",
    "        total = self.J * np.sum(interactions, axis=-1)\n",
    "        return total\n",
    "\n",
    "    def energy_diff(self, i):\n",
    "        \"\"\"Returns the energy difference resulting from flipping the i'th site\"\"\"\n",
    "        # sum the nearest neighbour sites\n",
    "        \n",
    "        nn_sum = (\n",
    "            self.bonds[i] * self.spins[i-1] \n",
    "            + self.bonds[(i+1)%self.N] * self.spins[(i+1) % self.N] \n",
    "        )\n",
    "\n",
    "        return -2 * self.J * self.spins[i] * nn_sum\n",
    "    \n",
    "    def rand_site(self):\n",
    "        \"\"\"Selects a site in the lattice at random\"\"\"\n",
    "        return (np.random.randint(self.N),)"
   ]
  },
  {
   "cell_type": "code",
   "execution_count": 74,
   "metadata": {},
   "outputs": [
    {
     "name": "stdout",
     "output_type": "stream",
     "text": [
      "=== Exact Energy Calculation for 10 ===\n",
      "-8\n",
      "\n",
      "=== Annealing Energy Calculation ===\n",
      "115.8777356155126\n",
      "115.8777356155126\n",
      "115.8777356155126\n",
      "115.8777356155126\n",
      "115.8777356155126\n",
      "115.8777356155126\n",
      "107.64652136298349\n",
      "115.8777356155126\n",
      "115.8777356155126\n",
      "115.8777356155126\n",
      "115.8777356155126\n",
      "115.8777356155126\n",
      "100.0\n",
      "107.64652136298349\n",
      "115.8777356155126\n",
      "115.8777356155126\n",
      "107.64652136298349\n",
      "107.64652136298349\n",
      "115.8777356155126\n",
      "115.8777356155126\n"
     ]
    }
   ],
   "source": [
    "ising = RandomBondIsing1DPBC(10, J=1)\n",
    "\n",
    "# perform 1000 MC steps\n",
    "for t in range(1000):\n",
    "    # take a look at the abstract_ising.py file to see how mc_step works\n",
    "    E = ising.mc_step(T=1.0) \n",
    "    if t % 50 == 0:\n",
    "        #print(E)\n",
    "        pass\n",
    "        \n",
    "#print(E)\n",
    "\n",
    "# This is getting ground state exactly\n",
    "dim = np.arange(2 ** ising.num_spins)\n",
    "space = ((dim[:, None] & (1 << np.arange(ising.num_spins))) > 0)\n",
    "space = 2*space.astype(int) - 1\n",
    "ising.energy(space).min()\n",
    "print(\"=== Exact Energy Calculation for 10 ===\")\n",
    "print(ising.energy(space).min())\n",
    "\n",
    "## This is annealing\n",
    "#Monte Carlo Steps\n",
    "N = 500\n",
    "\n",
    "#t = np.arange(N+1)\n",
    "# Starting temperature\n",
    "T_i = 100\n",
    "\n",
    "# Final Temperature\n",
    "T_f = 0.01\n",
    "\n",
    "#T = T_i * ((T_f/T_i) ** (t/N))\n",
    "print(\"\\n=== Annealing Energy Calculation ===\")\n",
    "# perform 1000 MC steps\n",
    "for t in range(1000):\n",
    "    # take a look at the abstract_ising.py file to see how mc_step works\n",
    "    E = ising.mc_step(T=1.0)\n",
    "\n",
    "    T = T_i * ((T_f/T_i) ** (E/N))\n",
    "    \n",
    "    if t % 50 == 0:\n",
    "        print(T)\n",
    "        pass\n",
    "\n",
    "#plt.plot(t, T)\n",
    "#plt.title(\"Exponential Decay Annealing\")\n",
    "#plt.ylabel(\"$T$\")\n",
    "#plt.xlabel(\"time\");"
   ]
  },
  {
   "cell_type": "code",
   "execution_count": 38,
   "metadata": {},
   "outputs": [
    {
     "data": {
      "text/plain": [
       "-4"
      ]
     },
     "execution_count": 38,
     "metadata": {},
     "output_type": "execute_result"
    }
   ],
   "source": [
    "ising = RandomBondIsing1DPBC(20, J=1)\n",
    "ising.spins\n",
    "ising.energy()"
   ]
  },
  {
   "cell_type": "code",
   "execution_count": 52,
   "metadata": {},
   "outputs": [
    {
     "data": {
      "text/plain": [
       "-20"
      ]
     },
     "execution_count": 52,
     "metadata": {},
     "output_type": "execute_result"
    }
   ],
   "source": [
    "ising = RandomBondIsing1DPBC(50, J=1)\n",
    "ising.spins\n",
    "ising.energy()"
   ]
  },
  {
   "cell_type": "code",
   "execution_count": 53,
   "metadata": {},
   "outputs": [
    {
     "data": {
      "text/plain": [
       "-4"
      ]
     },
     "execution_count": 53,
     "metadata": {},
     "output_type": "execute_result"
    }
   ],
   "source": [
    "ising = RandomBondIsing1DPBC(100, J=1)\n",
    "ising.spins\n",
    "ising.energy()"
   ]
  },
  {
   "cell_type": "markdown",
   "metadata": {},
   "source": [
    "# Fully Connected Random Bond Ising\n",
    "\n",
    "The Fully Connected Random Bond Ising Hamiltonian takes the form:\n",
    "\n",
    "$$H = J \\sum_{i<j} B_{ij} \\sigma_i \\sigma_j$$\n",
    "\n",
    "where $B_{ij} = \\pm 1$ which is selected randomly (uniformly) and independently for each bond $ij$ when the model is initialized."
   ]
  },
  {
   "cell_type": "code",
   "execution_count": 28,
   "metadata": {},
   "outputs": [],
   "source": [
    "class FullyConnectedRandomBondIsing(AbstractIsing):\n",
    "    def __init__(self, N, J=1.):\n",
    "        self.J, self.N = J, N\n",
    "        self.num_spins = self.N\n",
    "        \n",
    "        # initialize system at infinite temperature\n",
    "        # i.e. spins are completely random and uncorrelated\n",
    "        self.spins = 2*(np.random.rand(self.N) < 0.5) - 1\n",
    "    \n",
    "        self.bonds = np.zeros((self.N, self.N))\n",
    "        for i in range(self.N):\n",
    "            for j in range(i+1, self.N):\n",
    "                self.bonds[i, j] = 2*(np.random.rand() < 0.5) - 1\n",
    "    \n",
    "    def energy(self):\n",
    "        \"\"\"Returns the energy of the current spin configuration\"\"\"\n",
    "        interaction = self.spins.dot(self.bonds.dot(self.spins))\n",
    "        return self.J * interaction\n",
    "\n",
    "    def energy_diff(self, i):\n",
    "        \"\"\"Returns the energy difference resulting from flipping the i'th site\"\"\"\n",
    "        return -2 * self.J * self.spins[i] * (\n",
    "            self.bonds[i, :].dot(self.spins) \n",
    "            + self.bonds[:, i].dot(self.spins)\n",
    "        )\n",
    "    class FullyConnectedRandomBondIsing(AbstractIsing):\n",
    "        def __init__(self, N, J=1.):\n",
    "            self.J, self.N = J, N\n",
    "            self.num_spins = self.N\n",
    "\n",
    "            # initialize system at infinite temperature\n",
    "            # i.e. spins are completely random and uncorrelated\n",
    "            self.spins = 2*(np.random.rand(self.N) < 0.5) - 1\n",
    "\n",
    "            self.bonds = np.zeros((self.N, self.N))\n",
    "            for i in range(self.N):\n",
    "                for j in range(i+1, self.N):\n",
    "                    self.bonds[i, j] = 2*(np.random.rand() < 0.5) - 1\n",
    "    \n",
    "    def energy(self):\n",
    "        \"\"\"Returns the energy of the current spin configuration\"\"\"\n",
    "        interaction = self.spins.dot(self.bonds.dot(self.spins))\n",
    "        return self.J * interaction\n",
    "\n",
    "    def energy_diff(self, i):\n",
    "        \"\"\"Returns the energy difference resulting from flipping the i'th site\"\"\"\n",
    "        return -2 * self.J * self.spins[i] * (\n",
    "            self.bonds[i, :].dot(self.spins) \n",
    "            + self.bonds[:, i].dot(self.spins)\n",
    "        )\n",
    "    \n",
    "    def rand_site(self):\n",
    "        \"\"\"Selects a site in the lattice at random\"\"\"\n",
    "        return (np.random.randint(self.N),)\n",
    "    def rand_site(self):\n",
    "        \"\"\"Selects a site in the lattice at random\"\"\"\n",
    "        return (np.random.randint(self.N),)"
   ]
  },
  {
   "cell_type": "code",
   "execution_count": 56,
   "metadata": {},
   "outputs": [
    {
     "data": {
      "text/plain": [
       "-999.0"
      ]
     },
     "execution_count": 56,
     "metadata": {},
     "output_type": "execute_result"
    }
   ],
   "source": [
    "ising = FullyConnectedRandomBondIsing(10, J=1)\n",
    "ising.spins\n",
    "ising.energy()"
   ]
  },
  {
   "cell_type": "code",
   "execution_count": 58,
   "metadata": {},
   "outputs": [
    {
     "data": {
      "text/plain": [
       "-4884.0"
      ]
     },
     "execution_count": 58,
     "metadata": {},
     "output_type": "execute_result"
    }
   ],
   "source": [
    "ising = FullyConnectedRandomBondIsing(20, J=1)\n",
    "ising.spins\n",
    "ising.energy()"
   ]
  },
  {
   "cell_type": "code",
   "execution_count": 60,
   "metadata": {},
   "outputs": [
    {
     "data": {
      "text/plain": [
       "-2997.0"
      ]
     },
     "execution_count": 60,
     "metadata": {},
     "output_type": "execute_result"
    }
   ],
   "source": [
    "ising = FullyConnectedRandomBondIsing(50, J=1)\n",
    "ising.spins\n",
    "ising.energy()"
   ]
  },
  {
   "cell_type": "code",
   "execution_count": 61,
   "metadata": {},
   "outputs": [
    {
     "data": {
      "text/plain": [
       "-3108.0"
      ]
     },
     "execution_count": 61,
     "metadata": {},
     "output_type": "execute_result"
    }
   ],
   "source": [
    "ising = FullyConnectedRandomBondIsing(100, J=1)\n",
    "ising.spins\n",
    "ising.energy()"
   ]
  },
  {
   "cell_type": "code",
   "execution_count": null,
   "metadata": {},
   "outputs": [],
   "source": []
  }
 ],
 "metadata": {
  "kernelspec": {
   "display_name": "Python 3",
   "language": "python",
   "name": "python3"
  },
  "language_info": {
   "codemirror_mode": {
    "name": "ipython",
    "version": 3
   },
   "file_extension": ".py",
   "mimetype": "text/x-python",
   "name": "python",
   "nbconvert_exporter": "python",
   "pygments_lexer": "ipython3",
   "version": "3.7.2"
  }
 },
 "nbformat": 4,
 "nbformat_minor": 4
}
