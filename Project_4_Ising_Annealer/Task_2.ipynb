{
 "cells": [
  {
   "cell_type": "markdown",
   "metadata": {},
   "source": [
    "# Task 2: Some Simple Spin Glasses\n",
    "\n",
    "We'll now investigate some simple spin glasses. Your goal is to devise a thermal annealing schedule to find the ground state of the given Ising Hamiltonian."
   ]
  },
  {
   "cell_type": "code",
   "execution_count": 1,
   "metadata": {},
   "outputs": [],
   "source": [
    "import numpy as np\n",
    "from ising_animator import IsingAnimator\n",
    "from abstract_ising import AbstractIsing\n",
    "import matplotlib.pyplot as plt\n",
    "\n",
    "%matplotlib inline"
   ]
  },
  {
   "cell_type": "markdown",
   "metadata": {},
   "source": [
    "## 1D Random Bond Ising on a Periodic Chain\n",
    "\n",
    "$$H = J \\sum_{\\langle ij \\rangle} B_{ij} \\sigma_i \\sigma_j$$\n",
    "\n",
    "where $B_{ij} = \\pm 1$ which is selected randomly and independently for each bond nearest neighbour bond $ij$ when the model is initialized.\n",
    "\n",
    "Due to the intrinsic randomness of the Hamiltonian parameters, it is generally quite difficult to find the ground state of this model. "
   ]
  },
  {
   "cell_type": "code",
   "execution_count": 2,
   "metadata": {},
   "outputs": [],
   "source": [
    "class RandomBondIsing1DPBC(AbstractIsing):\n",
    "    def __init__(self, N, J=1.):\n",
    "        self.J, self.N = J, N\n",
    "        self.num_spins = self.N\n",
    "        \n",
    "        self.bonds = 2*(np.random.rand(self.N) < 0.5) - 1\n",
    "        \n",
    "        # initialize system at infinite temperature\n",
    "        # i.e. spins are completely random and uncorrelated\n",
    "        self.spins = 2*(np.random.rand(self.N) < 0.5) - 1\n",
    "    \n",
    "    def energy(self, spins=None):\n",
    "        \"\"\"Returns the energy of the current spin configuration\"\"\"\n",
    "        spins = self.spins if spins is None else spins\n",
    "        interactions = self.bonds * spins * np.roll(spins, 1, axis=-1)\n",
    "        total = self.J * np.sum(interactions, axis=-1)\n",
    "        return total\n",
    "\n",
    "    def energy_diff(self, i):\n",
    "        \"\"\"Returns the energy difference resulting from flipping the i'th site\"\"\"\n",
    "        # sum the nearest neighbour sites\n",
    "        \n",
    "        nn_sum = (\n",
    "            self.bonds[i] * self.spins[i-1] \n",
    "            + self.bonds[(i+1)%self.N] * self.spins[(i+1) % self.N] \n",
    "        )\n",
    "\n",
    "        return -2 * self.J * self.spins[i] * nn_sum\n",
    "    \n",
    "    def rand_site(self):\n",
    "        \"\"\"Selects a site in the lattice at random\"\"\"\n",
    "        return (np.random.randint(self.N),)"
   ]
  },
  {
   "cell_type": "code",
   "execution_count": 3,
   "metadata": {},
   "outputs": [
    {
     "data": {
      "text/plain": [
       "array([-1, -1,  1,  1,  1, -1, -1,  1,  1,  1])"
      ]
     },
     "execution_count": 3,
     "metadata": {},
     "output_type": "execute_result"
    }
   ],
   "source": [
    "ising = RandomBondIsing1DPBC(10, J=1)\n",
    "ising.spins"
   ]
  },
  {
   "cell_type": "code",
   "execution_count": 4,
   "metadata": {},
   "outputs": [
    {
     "data": {
      "text/plain": [
       "array([ 1,  1,  1,  1,  1,  1, -1, -1, -1,  1])"
      ]
     },
     "execution_count": 4,
     "metadata": {},
     "output_type": "execute_result"
    }
   ],
   "source": [
    "ising.bonds"
   ]
  },
  {
   "cell_type": "code",
   "execution_count": 5,
   "metadata": {},
   "outputs": [
    {
     "data": {
      "text/plain": [
       "0"
      ]
     },
     "execution_count": 5,
     "metadata": {},
     "output_type": "execute_result"
    }
   ],
   "source": [
    "ising.energy()"
   ]
  },
  {
   "cell_type": "code",
   "execution_count": 6,
   "metadata": {
    "scrolled": true
   },
   "outputs": [
    {
     "name": "stdout",
     "output_type": "stream",
     "text": [
      "-4\n",
      "-4\n",
      "-4\n",
      "-4\n",
      "-8\n",
      "-8\n",
      "-8\n",
      "-8\n",
      "-4\n",
      "-8\n",
      "-4\n",
      "-8\n",
      "-8\n",
      "-8\n",
      "-8\n",
      "-8\n",
      "-8\n",
      "-8\n",
      "-4\n",
      "-8\n"
     ]
    }
   ],
   "source": [
    "# perform 1000 MC steps\n",
    "for t in range(1000):\n",
    "    # take a look at the abstract_ising.py file to see how mc_step works\n",
    "    E = ising.mc_step(T=1.0)\n",
    "    \n",
    "    if t % 50 == 0:\n",
    "        print(E)"
   ]
  },
  {
   "cell_type": "code",
   "execution_count": 7,
   "metadata": {},
   "outputs": [
    {
     "data": {
      "text/plain": [
       "array([ 1, -1,  1, -1,  1, -1, -1, -1,  1, -1])"
      ]
     },
     "execution_count": 7,
     "metadata": {},
     "output_type": "execute_result"
    }
   ],
   "source": [
    "ising.spins"
   ]
  },
  {
   "cell_type": "code",
   "execution_count": 8,
   "metadata": {},
   "outputs": [],
   "source": [
    "T = 1.0\n",
    "n_steps = 1000"
   ]
  },
  {
   "cell_type": "code",
   "execution_count": 9,
   "metadata": {},
   "outputs": [
    {
     "name": "stdout",
     "output_type": "stream",
     "text": [
      "[-1 -1 -1  1 -1 -1 -1  1 -1  1]\n"
     ]
    },
    {
     "data": {
      "text/html": [
       "<video width=\"432\" height=\"288\" controls autoplay loop>\n",
       "  <source type=\"video/mp4\" src=\"data:video/mp4;base64,AAAAIGZ0eXBNNFYgAAACAE00ViBpc29taXNvMmF2YzEAAAAIZnJlZQAA+l1tZGF0AAACoAYF//+c\n",
       "3EXpvebZSLeWLNgg2SPu73gyNjQgLSBjb3JlIDE2MCAtIEguMjY0L01QRUctNCBBVkMgY29kZWMg\n",
       "LSBDb3B5bGVmdCAyMDAzLTIwMjAgLSBodHRwOi8vd3d3LnZpZGVvbGFuLm9yZy94MjY0Lmh0bWwg\n",
       "LSBvcHRpb25zOiBjYWJhYz0xIHJlZj0zIGRlYmxvY2s9MTowOjAgYW5hbHlzZT0weDM6MHgxMTMg\n",
       "bWU9aGV4IHN1Ym1lPTcgcHN5PTEgcHN5X3JkPTEuMDA6MC4wMCBtaXhlZF9yZWY9MSBtZV9yYW5n\n",
       "ZT0xNiBjaHJvbWFfbWU9MSB0cmVsbGlzPTEgOHg4ZGN0PTEgY3FtPTAgZGVhZHpvbmU9MjEsMTEg\n",
       "ZmFzdF9wc2tpcD0xIGNocm9tYV9xcF9vZmZzZXQ9LTIgdGhyZWFkcz05IGxvb2thaGVhZF90aHJl\n",
       "YWRzPTEgc2xpY2VkX3RocmVhZHM9MCBucj0wIGRlY2ltYXRlPTEgaW50ZXJsYWNlZD0wIGJsdXJh\n",
       "eV9jb21wYXQ9MCBjb25zdHJhaW5lZF9pbnRyYT0wIGJmcmFtZXM9MyBiX3B5cmFtaWQ9MiBiX2Fk\n",
       "YXB0PTEgYl9iaWFzPTAgZGlyZWN0PTEgd2VpZ2h0Yj0xIG9wZW5fZ29wPTAgd2VpZ2h0cD0yIGtl\n",
       "eWludD0yNTAga2V5aW50X21pbj0xMCBzY2VuZWN1dD00MCBpbnRyYV9yZWZyZXNoPTAgcmNfbG9v\n",
       "a2FoZWFkPTQwIHJjPWNyZiBtYnRyZWU9MSBjcmY9MjMuMCBxY29tcD0wLjYwIHFwbWluPTAgcXBt\n",
       "YXg9NjkgcXBzdGVwPTQgaXBfcmF0aW89MS40MCBhcT0xOjEuMDAAgAAAAwxliIQAEf/+94gfMstp\n",
       "+TrXchHnrS6tH1DuRnFepL3+IAAAAwAWnJlD+2HHTlrDQABCgACFi9NLN/H2eQipRB4gFsbBaOLC\n",
       "NLfzJYQ+fFdTnfUXMxw7RS0CABCVoC/y9PgmlNXKIqK8Q8i7gkYQEm43+VvXZr+YkAe5ecAgYLJK\n",
       "z6kMSCr5ylXKRtGjOS6SmPUsQOIb/y9cfuXuDmLp2blN3XNvv8qf8YXtEcBMxWqN8GtNhOWNSfVY\n",
       "LAx8AUzdP171ipwX+unKqPTOJC8w9DsKCEdesO37EYtw56XgXA8uDb9zptClsrjhy7KJ1t872Ffa\n",
       "LHgtLAxFBfbVzVZjfAv5PCS9rAh6BiBqNJikmS6XXgWlLlunPNnrICvoSe2DDiJRsaWUNXTEZV8B\n",
       "6jJaGN5ftuG6fKwkevf0rP43QZFMRyudqKLfrzZpuozGdXMGid92bVWT5BlVP8stnnRe/K/TJnwd\n",
       "+2b9ZfLEDT9sTKaEfIZs/cCaOeSIl0dr6aXR5JycKMTBIukC+VSZppJBxzNmeQ7eeiUMat24I3uW\n",
       "II0/E2f/T3FPii6J3dE1a8sD3DntKSqn6St/QytDZCf9o86xTLs+WHl7ElBfpgcdU1+BmhEukO10\n",
       "nKoWu2v9RkED4Scc27BNeBAHeA8mgBJOm3ATRqI3gbWzW74b1b7pLAfqYkJrgbYcLaz+bzpIn0JG\n",
       "WBwMvwH6qxC715c+Du2wwG5QSBG3LzWOUlZlO8BP1OsE4yfFfCjVBcpaF/gbwr31HVCTDrW/WGPN\n",
       "KD4CkafySP05wtGPwWFfhbzWFsWAlpFLWnQOcu6kz4FQFVbVL+sCOkxvyfBAE4kOL1b4cpef1CgH\n",
       "ZKdVkeyQafAs5nLpWqyC8xnz28aHKzIp8O7RtsDr9NA+PG/rvKC2cM1fN6vRdEqjz25MMU43hXv9\n",
       "t7QpgzKTU9WCeQyFjgEBVgX3SoAFwXFJ9avJztM/N5uUAM9HCadbNjnCQi2m5i1PT+8sI14YcQqd\n",
       "PdsDHfFghzmxZgp9grAQS0/kAAADAAADAWEAAAENQZokbEEf/rUqgAFuHsWAUG4l8rWFIFCY1rt4\n",
       "/3T9aaX6UoSQpt6FmRtLk6nG9tsUB7KWtdr0vnptMjP8WsT8+T/9DbbjSIyBEBh9EjaF8Kj5M/bu\n",
       "3HjJaA5Lzou1+G9SqvIhdtzYHCLcfT3la/AvvCox+XcXtPyYoQUU0ZwjT7Y9y6ibRWNp/bLz28aQ\n",
       "LZRywH4TyPW3gAjuUDisPOfbzNBUgEX9tN52MKyYkB1VfarlMfQzT0D3k5f6SQcxoff6vF8AZKHf\n",
       "Gvzspcyh5FywlSytW/s1mN8sGuduAuntI9tgSd4qfFlzoJeriZ/cn4S7/iAl4kRNL/PM7ky3KsVx\n",
       "CsZUvkQKt+YvYBnCBdUAAAAkQZ5CeId/AAWUxThl661WkWCAj9evxoBHaeXdm/OoblZhUEJnAAAA\n",
       "GQGeYXRDfwAHw02mJIukxgfmHkqHMlktTBwAAAAjAZ5jakN/AAPMUIDnPRpCGv1G85zvHHD8pSNE\n",
       "UenaQX+OhvUAAAAoQZpoSahBaJlMCCH//qpVAAFlEIYIGfgVKbLdxeqH5oqothltl/HimwAAADhB\n",
       "noZFESw7/wAC1ZQKBeZMALIaJtugTNvD77J8IFCPU95YwOaB90B8VGufGsJYuwM5mdQKigGbgQAA\n",
       "ABcBnqV0Q38AA/emljeQtFxW8M/Dfq+j6QAAABcBnqdqQ38AA/hP/85MUC2Y++ud7snWpgAAAEBB\n",
       "mqpJqEFsmUwUTBD//qpVAAFS8fAAFh+fA0fJHDZjTvs9gcPscoiVnR/+D9GZUfQQqddcirOUN6oD\n",
       "IHpE0o1IAAAAFgGeyWpDfwADn9p5UPDpAhs5XqpIJF0AAABIQZrLSeEKUmUwII///rUqgAC8fYXU\n",
       "rGwAcHsbc1Vsn9xUns2OTGxsLI6PDSRzH3ZmeTk3PfSR33r3n9Hl11q6qk+WEWjxys9YAAAA1UGa\n",
       "70nhDomUwII//rUqgADjxadYBuEavg1alwMpm5GOQ3US4R/86D50GNl151szoL+SfdBL1ChrZZd3\n",
       "pNaO4lf4Kf3kzoWNKyL5+LkaftZQ1cP0j77n6GjDPut3A+VPS2wrP4QobfInn2mWMucYtsHjqATJ\n",
       "f/8erdZUUSH2cq1oPyey0qlmCSOdIvNeKcFpjcXVUg2pWHRplr59fKcjGVpVTQ6u5ge2tYqBQAlu\n",
       "XeCgfCjBCDhtQqm/SKNx6Vq9qMh2bhgJF7E2UJEHJyzVmB2pOr+ZsAAAACxBnw1FETw7/wADebS2\n",
       "Xf6p4xyCV/lMKs18CBj9nBoU/apl4Yb966nEoEDCXwAAAGEBnyx0Q38ABPjujBAnx0ONEcvcaazJ\n",
       "NS/dPoAIcQ5HBWttVY3nS0v44oOYbfnbLstwYHu3im2bxplLzrrGyeYO7rv+b6tvAAstC0A4LiLl\n",
       "HS6B/JV+GKwYUdeBaEr3V8GLAAAAIQGfLmpDfwADoFCA5z0aYjZLg10oa1spOIWo5LbgB2q6YQAA\n",
       "AHBBmzNJqEFomUwII//+tSqAALKUOoAK39Kyu0CFwvF5Wokd8gehgxMkyI/CGAA7n3LB57CGx353\n",
       "FmBEvjZ6nKIlPqJn5J5XkuVa2ci5iBSmv5AU41/4WTIEddJYncp4eAAPj0hsfvQ9lp20e8T1txso\n",
       "AAAAGkGfUUURLDv/AAK4q9ebbNrs+YsnxSSy9dqYAAAADwGfcHRDfwAB8NPIdomcJwAAAC8Bn3Jq\n",
       "Q38AA+64QI8wAgngGLYAcRG+jPtZf4+IuMK1+kDODluMh3vhYStWHBX0gAAAABRBm3dJqEFsmUwI\n",
       "I//+tSqAAAAesAAAAC1Bn5VFFSw7/wAC1ZQQsJgA5JAHs2MbOFwafM+dRrtm3vkdf8czNN8xrver\n",
       "ccEAAAAUAZ+0dEN/AAP4e9rEe5cGJLBt7KAAAAATAZ+2akN/AAP32sIymBwfOwyvZQAAAERBm7tJ\n",
       "qEFsmUwIIf/+qlUAAaD46CRVl7BrVI8o/9DMQACw6+9HJnUzuoP5Ge+YbOb+ju3xk3K3hq8Nq9aP\n",
       "YgRzwUnsCQAAAB9Bn9lFFSw7/wADKgj/dsvmsPvYQBvOann5SEAfeVTAAAAAFQGf+HRDfwAENvEW\n",
       "nrp/v81rh8FFiwAAABUBn/pqQ38ABHa9AOdVwWAst6gk/IAAAACyQZv+SahBbJlMCCH//qpVAAFb\n",
       "v4F+P0rQwASvFgvC4uRS+Wzp/jKEbUu3NxzG1iDw6IIMFCw7wElpVGep98pniuD3fqr5qndxpaUd\n",
       "5HI/OHPIkFU3msQbWKtDzF3DC61P1DLskN70iFbxgt5NblSpcokqJYaqXfOtCvvkA3ppcn4MhAbo\n",
       "AYYsNl2LdC6x4D9/gfVeoVa2792l2b8dzyMoFuarfF5wnbJT5g8rbo7CaAAYsQAAABxBnhxFFSw3\n",
       "/wADtlCA5z0aQh1hGWv0vT1kxyzvAAAAQwGePWpDfwAEePsgBNKcNbNgtuCQi5YNj/pwpTVo/IzP\n",
       "vAIT7nN0+HZ2T6f4XYaEags0K1qfzH0gUaKiySRLTiypDXcAAACFQZo/SahBbJlMCCP//rUqgADP\n",
       "2MSuAEP2+hShLeg1HmDt7wJBOHU/ylYKKP7pWelazozktFIozgM+jqrrvSSYqO1611ioIxL8ZwbS\n",
       "U5pG1YJv//Y9oMOHa0omec6vsSO78J1ym1IiOwx3XDPzJ9L3tyWdBWgbkA599TExyNMQM4o0SXE1\n",
       "YAAAAEtBmkNJ4QpSZTAgh//+qlUAAbT46CRRMjLcgoBr5WpCc4x+bmlYc//ysCp8y6PKaEyyEbJC\n",
       "G3cTPw/KLML36SR4o7gAAAafIMqApoEAAAAsQZ5hRTRMO/8AA1II/6djepatNsdAZZgYGHm9Lq7o\n",
       "5oTNWO+i1/ncxIYtpeAAAABNAZ6AdEN/AAQ2xr6R98K4jH8HZACdTsKcsnypm1QgB9MY5Y1qRM5U\n",
       "q1DV4i4C8aBKasLEPTr5Fvr7OSGamFJM1liJpvOvkT9elTIwiPkAAAAcAZ6CakN/AAS2MlIw2ITU\n",
       "VYyxXQWdi4bXmePEWAAAAC1BmoRJqEFomUwIIf/+qlUAAbLAhgdIG6BQ5VNZVM8MyFWNXYuwQEbL\n",
       "pwLbnbEAAABFQZqlSeEKUmUwII///rUqgADGbg/9DYEABYLbDoMosuKLVxSu5n6ZzhHSAu+0pUrw\n",
       "5a8A7gYW/Pnh4fUIkPtdB04cm+mhAAAAhEGayEnhDomUwII//rUqgAC8BGGKlwfR91gB0h51Ip/g\n",
       "DOdeqFNnoTI1NlK/wslnL/ndWRHIyC1wwug4KQoei8YzGYTVA/t+yR7TyqWKQxk4ncnufjJ4Cjpr\n",
       "hLQd+ugJMZ7gBgPfo6jcJinFOIYXS/SukJhVPLX3CZVtvUq76xa9BIBncQAAACNBnuZFETw3/wAE\n",
       "NyJNUeyvun/grgw/MvldeP9qvLQJ6RCHNwAAABoBnwdqQ38ABDYyUqzn9pIGalXoG5Cr+BsrKAAA\n",
       "AHJBmwxJqEFomUwII//+tSqAAOO/d0AOleJAtud4oJk1PTNPxBrXIMM0X/Pyt5POoryxw8WuFFBK\n",
       "WL41G1X3Z5mPKg6pfbds+NgIoTKYaySF3mtvEZ1AV6YV8TrauyRnOHZ7UHN4T52kUWgABESkhQKe\n",
       "ARcAAAArQZ8qRREsO/8AA3m0tk/xmA66WG60VKBi0kFJiC0lmZ0CZtlKG3w52kSTgQAAAF0Bn0l0\n",
       "Q38ABPjujO0Efjoo+zUWJbSADZQOiFUaH1WN50tL+OKDmG352y7JPw1hLuAEuafuUMrqEHZV80/y\n",
       "0pd6gAAdE9Y5RUwD9RCdak9Vf4L1fvFSTYqK1cV2HzAAAAAVAZ9LakN/AAS2vQDnVcFgLLeoJPGA\n",
       "AAAARkGbUEmoQWyZTAgj//61KoAA45+gebSEFW4P/Q8RqTtgNFcb8zvRStG+0K2+v6SewEVJD8AN\n",
       "nkDjFQAK54PfNVj8Xk4H44sAAAAkQZ9uRRUsO/8AA3m0tl7w/h76dgniCvD9cX0ArL7MIWaECPSB\n",
       "AAAAGwGfjXRDfwAE+O6M7W6F4HTyfik0W/rNjFQdwQAAABMBn49qQ38AAzgAoa3owI0UYAEnAAAA\n",
       "tEGblEmoQWyZTAgj//61KoAAxnz+GsOsrnXcajFAFi3Ay4B8nxGO8aewwACQYqhwxS8p1FwBuGu0\n",
       "ZC1xgDFD8pcUP7cED3l9B8VGIQHwAbVvhfb28Yv7ax3CX6c/wuM6A7M7y9WL/S9YFDtyig4qQQDS\n",
       "AehTuYpyHIWpEmTQfX7fHCW48Ybkth2cGpBX+wBPUSMtG7CKEwtROk0CjOtoPCqR22KXDLAvn9F8\n",
       "D9L71qzpTHEpgAAAACRBn7JFFSw7/wADAgj/p2N6fmF2EUVPNwzaekSiGpEm0A14bekAAAAZAZ/R\n",
       "dEN/AAOge9rDpHhQAYarz89AoKWvwgAAABwBn9NqQ38ABDa9AF0dJNkRyAJch1PZ0N3HEsrKAAAA\n",
       "mEGb2EmoQWyZTAgj//61KoAA4793QBQbz5zb/ZW7dVB3PTcxVNHz4pGg7f84pahMxZL8/eWrSBUc\n",
       "EmGheB4j4IqGJA8KTydDIQbHnllSPi4d5nVKBPSfnm21HBlKVoEpV54JFxUfbOyPyO/1tIatJtx9\n",
       "8v5RoYnweL4DA2Bko3ziGYjvdx+qDsvWkwldsEE+5TPby8j5tDyBAAAAKkGf9kUVLDv/AAN6CP+n\n",
       "Y3aS8cmiQCy0tAAABVibkhZRdzUN9FbOyKaB/gAAABQBnhV0Q38ABHX1mqsChcDxb33F3QAAACEB\n",
       "nhdqQ38ABPk6Q1nQhCMzWae+IQADQ+n8P9Tr4zKMBaUAAAAmQZocSahBbJlMCCP//rUqgACydRh5\n",
       "l5Qpr//PGUA4dHo0gtcmd0AAAAA2QZ46RRUsO/8AAtWUEKSgBOp4f75sj+rEsH87vh3O8vwn/0ZV\n",
       "xLUZjCpkU+SPBQHipAZGPNMTAAAAFAGeWXRDfwAD96bSqwKFwPFvfcZ8AAAAFQGeW2pDfwAD99rC\n",
       "MNh7J7PRzcXRMQAAACRBml5JqEFsmUwUTBH//rUqgACyektpuq8Q0pVDGzdA/IPSjKkAAAATAZ59\n",
       "akN/AAPL2sIymBwfOwyvdwAAAIxBmmFJ4QpSZTAgj//+tSqAAOPFp1gG4RqwX+E3xLyIqZGKcf0S\n",
       "mfT86Dw6/yATm4gORqkNmqsSesUpeFepxHB/ZVnM3GYamTDk/tx/tpEWENPrNFxIbcRox8YFnfrx\n",
       "37f6/+aDROBwjMGsYU8URQoqvvVHt3kZ8nXYX8iB/011vy9UCAO3XiJW0jlmBQAAABtBnp9FNEw3\n",
       "/wAE+TpDWdBgk4ld2F7T3shL9UEAAAAzAZ6gakN/AAMH56yK+ZpAC159CocB5z+JW5pZwPexir3q\n",
       "+OtAYGP//fyj/P5ziQPsSuXgAAAAVUGapUmoQWiZTAgj//61KoAAlP37ZWru7f66ksoYQwBtcBb4\n",
       "HBbhaUtbRdXNOcZumizuld2Xomfzvgc8OS/8FCrBrmtx4Fa4Uk2dDruCxY6OF7C9MfsAAAAmQZ7D\n",
       "RREsO/8AAmEVlA5jUb0RD6Tfmetg03q0cPUnE2B1bXeBekAAAAAXAZ7idEN/AANf1VKqxRTUwePu\n",
       "azu5MJ8AAAAjAZ7kakN/AAOImiqlWZEc9ABr76KGo/kqm5lWJuQxZDS4LBcAAACWQZrpSahBbJlM\n",
       "CCP//rUqgADGfP4awgUA8QqcEHi10AWLcDLgHyfEY7xukggAOz7zb6PwMzIUAYBuYgXoQ8AYlyiw\n",
       "2NrpaXAi7ExAGYAl9mj706HOhAYvyUZ1lzVCCCAXmz4NbGypRjsEsSx5uCOFEbrWexvDNrnbCloq\n",
       "evsVdq+oXCxPJc1eO8L0OurVI0MX4r19F1+BAAAAKkGfB0UVLDv/AAMCCP+nY3rPVABzkiVqcNkS\n",
       "bLe+0bz9GjDHHicfqxXdvQAAABsBnyZ0Q38AA8x72sQFF+5p4NLGXyIMabCVAsAAAAAbAZ8oakN/\n",
       "AAQ2vQBdHSTcDIy5bYeyIRLxNrFgAAAAdUGbLUmoQWyZTAgj//61KoAA4793QBQbz5yfK6DDHA7n\n",
       "oSyjwj57ZYC4f+cUtQmYslggeVg2VAYwJFDpZ3klCiDuPARmw0MTU3kBKdDrfm+SHpyMXctLuDi5\n",
       "twLP+HleoxhbC0gO0n+sBcyV53XfV9EDbl0ZsQAAACBBn0tFFSw7/wADegj/p2N6fmSrWi1ae74Q\n",
       "Cetv9oERYAAAAAwBn2p0Q38AAAMArYAAAABoAZ9sakN/AAT558hdHSTZEdxfiTWosT6kAEOIcjgr\n",
       "W2qsbzpaX8cUHMNvztl2Wib9nbxTbN40yl511jZPMHd13/N9W3gAWWYznrn9nbtP4T9LR8Z9cRkL\n",
       "5pTqroTTx9SfqKvnkHko7oEAAAAVQZtxSahBbJlMCCH//qpVAAADAD1hAAAAIkGfj0UVLDv/AAN6\n",
       "R+0dsw8fyEllqsdq/V/5dnYPAj8foekAAAAbAZ+udEN/AAT6JKafgPBbpBsJHrS/BUHdgHZgAAAA\n",
       "JgGfsGpDfwAE+efI100aVVO9+4tNsygaOM5lo1AWw/O3NOT0wD0gAAAAT0GbskmoQWyZTAgj//61\n",
       "KoAAnDPOlni4TyM7w3AAuwjC/2W4rm6GPJS19fcE896aPQOxNs5X/GICDhdfbkQr2Hq9x/50hkhk\n",
       "DIlwRo+GnJMAAAAoQZvWSeEKUmUwII///rUqgACcHnOvkP4onlb4aGPDR3PFyA+LX3ZgQAAAABtB\n",
       "n/RFNEw7/wACYOSbTHYgjiNqPMgj8qTBdHwAAAAZAZ4TdEN/AANf1VK7qxci8n84bUi+5JHvQQAA\n",
       "ABUBnhVqQ38AAzhdJiC/U3AWW9QStIAAAACCQZoZSahBaJlMCCP//rUqgACylDqACJr0yZcdsO8U\n",
       "xRZuKPZrlIHYHTRPuvWZdhCCIIH0g8OaUdNU8iWHagHA7/+bhU4CTj+prLISZm/7zfY5e7CC/+4E\n",
       "UPt/sTfstB6ci3ezpIAy3A+k6c2kLMrNPHPBqcDiSbdkh9oHHRl+Vn+HwQAAABpBnjdFESw3/wAD\n",
       "zFCA5z0aQh19Pzr4Xu0BvQAAABsBnlhqQ38AA8xQgOc9GmtP5C9scNuYj87O29AAAAAUQZpcSahB\n",
       "bJlMCCP//rUqgAAAHrEAAAAbQZ56RRUsN/8AA8ylMo/qmjuEi2jJB28E1jZgAAAAFAGem2pDfwAD\n",
       "zFCA51XBYCy3qCUrAAAAekGagEmoQWyZTAgh//6qVQABtPjoJFtz8uzWfOGkF/MdUAVP2EAI0ntQ\n",
       "FF9XToUBiyr2A1I5MEApL1ofu4bAX+CMF8+8h48qjq7dpTbl1xcMmRTO7mVSpLTVo+DsIfjoDkyE\n",
       "7AP//tu/psEoGCmSqeFUx2qExXh1O6yhAAAAHUGevkUVLDv/AANSCP+ncRxaNOYkdrY1I1TOkfE4\n",
       "AAAAKgGe3XRDfwAD7rg1f3poANNKIoBhgIaQjZzBcsPM6AxE7wmhJJVGZl6NxwAAABsBnt9qQ38A\n",
       "BLa9AOdoTouAaC+WO0FSgUFPicEAAAC3QZrCSahBbJlMFEwQ//6qVQABx05a4BSbzjYUrp1/+g+C\n",
       "+YBpr4tEUt5kUY92o1TfbmhnDxPOtdmaXdfWO1r7eynXTw9id3M9rcFPto22VmexSlRt0gn/+hhh\n",
       "tCRg0UXTseZGg/ctPoCvZH4gNS5oCBH+4/J0///O2jELwIYVMghyqGY5YdP1ZZY7xz+qlN8fUT5E\n",
       "vd8JF2ZWjpPA6plx5jTXkHnQp6KSDuL4QGHdCd7TOVAnTj74AAAAKwGe4WpDfwAE+TpDXZJWNjwj\n",
       "TrVgSyoZCWvanhTnG2d5fBXUGnK/4g+IQMEAAAB3QZrjSeEKUmUwII///rUqgADF7ZEWnQD+DQGA\n",
       "C2AfG+sUJv6IAy4B+aZEVfgCdwACQqkisS30weEogN3B9GyMFZTkp+BNMBh1fJcK3Bh91DejsfGj\n",
       "v3ezB4oisLYklz/f5C8iOW6B+Lc47xhytfg7YAAAJWiUWz4AAABdQZsHSeEOiZTAgh/+qlUAAYrA\n",
       "hgV8P+ts/qtAAQRUXzi/Mes4vZhb5LRIWO0IBTzqpv3yWVd4mnI0IS1LgWf/dQ+X9ObJtPv/8J6Y\n",
       "26WmSOQZuE6/o2SnHVMLHdTBAAAAG0GfJUURPDv/AAW5wwlRk0XCDPNGmN8ewNQkgQAAAB8Bn0R0\n",
       "Q38AB+9PMeFVUpkxelheE7Mm4IiUcuV02MWBAAAADQGfRmpDfwAH8KIEBoUAAABAQZtKSahBaJlM\n",
       "CCH//qpVAAG0+OgkWcn/oZjEAN0R8C4jN2X2DzT1iHKZCfCPc7uus3FZuADJb8sQlYHZ+q/vIAAA\n",
       "AB9Bn2hFESw3/wAH8Uq3A2OrBmQ8RmWRvR/ECJNRZkvAAAAAFgGfiWpDfwAH8KJEEDBRYt1rcOul\n",
       "SqcAAAAsQZuMSahBbJlMFEwQ//6qVQABssCGBYBrFjKtEPqVQkorQqyh1qCclB3wl4AAAAAWAZ+r\n",
       "akN/AAfxSrb4DW03jp7xyp2HgAAAAIJBm65J4QpSZTBSwR/+tSqAAM9LdvwcXCcopLRZxqO2pL/6\n",
       "GtBAJrsC/25HI8O1bNdKuQwQimpGm9ZbMLndvoeveTPPT9ouWl0kSCIBv0V4eX/5nBbweqpN8N2K\n",
       "oueMqIr5YJ7LdNHNVZG4rdBydPgA3XtW9SsdxUeBRywMG50mn3n9AAAAOAGfzWpDfwAEdjJSMNhf\n",
       "0IN+8S+6ncAAgzihAD6YxyjVboRUZ+0bIeLqUMgXfApXCqlOqQqCpjAxAAAAfEGb0knhDomUwIIf\n",
       "/qpVAAHHQL+AUm8r88v1/bbgoMt+HH72psFco2auBjSdhli5Oi7l3jjNKvd2KKDNVUcYekU2QAkW\n",
       "n1I5teOIeDPA3PquLu274lFkSWTO6oURDecaGzK9fhEAxB5Nka7x6MlLNofreAdElUP8hsYMKCEA\n",
       "AAArQZ/wRRU8O/8ABasYMtpWb17LoHCbVS7TvNGXGrHQymtTrZt1fkiH+GYXpAAAABcBng90Q38A\n",
       "B+9PMbJy7TpeIqowBuP9UwAAACUBnhFqQ38AB/CiT1kvQXmQ6ZMrY+Q/Jm3qE4JQ7Rk0nRDeVr0h\n",
       "AAAAJEGaE0moQWiZTAgj//61KoAAlP37ZWvCakeh4YB1lelzXF7GTQAAAC5BmjVJ4QpSZTBREsEf\n",
       "/rUqgACUHnOuG22fnQPyCNMiOCFsXllIpTEGsZYQz8qYAAAAGQGeVGpDfwADOACh9HP7Xf7btLJP\n",
       "D5Xn1IEAAABJQZpZSeEOiZTAgj/+tSqAAJwzzvLIuFDiDcADs0aX+yNEFbQF2xJD99pDSLf8d2n1\n",
       "VD/z+BDSkdSTTO+QKEgS7YhR5fQFp0x3qQAAAB9BnndFFTw7/wAFqxgvtNPA6ocZZ3yoSWzUdn0R\n",
       "XY9JAAAAHQGelnRDfwAH708ik9CMHloL5e0h2jslw7aXHW9BAAAAJwGemGpDfwAH8KIl//1xKSrf\n",
       "5j5u88YxzhO47ieYsKex1oGsTVGlvQAAADJBmpxJqEFomUwII//+tSqAAJwec64bOldWg/MfZCwq\n",
       "NtYjIUEFSSLMQaxlXoK2fax3qQAAACpBnrpFESw3/wAH8Uqvgz6181gNKOGpQu3a2acYnmR9x5Xi\n",
       "+SO2mkVzHpAAAAAgAZ7bakN/AAfwoiYO4e/MLxLGkj3Tx/DjCD0j/FhzQd0AAABDQZrASahBbJlM\n",
       "CCH//qpVAAFTYh2JxcmAU7gkvNesaryrc9cS9Q9DgBybpWx12P0R8ewqTWQR1y9QHSAeGfPq/UnX\n",
       "CQAAACNBnv5FFSw7/wAFucMH1enbf4xPNC89OqhnW4L8BOkrV4VZswAAAFsBnx10Q38AB+9PJ5mK\n",
       "Hqi6tOAEIIcjgrW2qsbzpaX8cUHMNvztl2VGa/3bxTbN40yl511jZPMHd13/N9XqgAbLScSlC+zQ\n",
       "V2tDRL8rQuC2w8aSjnBgrd068rHAAAAAGQGfH2pDfwAH8KInFaOJCBa+5TfEtlwj3cEAAABvQZsB\n",
       "SahBbJlMCCP//rUqgACylDqACt/SsrbEvR6s9KACHIIzgs78q3QvAB9rqAuc+2GXrfndxA1uB3xW\n",
       "cfDgk5Cmons2UezDZK+xztdte17mCNPZlXI0i6oWq4/618Kyn+EsL1ZvuAX/K5a30oyoAAAAK0Gb\n",
       "JUnhClJlMCCP//61KoAAsnUYeO86ZsfxUBnKRq24LVlxV+6ZLJlr8i8AAAA5QZ9DRTRMO/8ABbmL\n",
       "d5wvTuAD96JfPzZH9WJYP53fDtlEsVO6u8I/pEAUTnUDw1VpBUqarR1FqFZ8AAAAFQGfYnRDfwAH\n",
       "707zFBdvXnyFB0SbuQAAAB4Bn2RqQ38AB/Ch9F+jzYQz/YwVdbcVQ7xbZ/Ai8B0AAAAkQZtpSahB\n",
       "aJlMCCP//rUqgACc/ftlbavzGV0Qzk+xanacr6KBAAAAZEGfh0URLDv/AAW5wwurptWf0o/OdaU7\n",
       "JLAAATklKF3uLEkt+jzARW37AzTknxkZBKXzVientImL18rftfLYGZyu5DSwHWieCeEaAK8d7r9P\n",
       "olrAJ/a/7uJQLAATEnIQcgu0i4EAAAAYAZ+mdEN/AAfvT0QeoStMjmwtCZFsVtgwAAAAKQGfqGpD\n",
       "fwAH8KJEEDA9zNRmcF0DSIGvYQ5l3ec83NVaw/mHq78KkiNgAAAAY0GbrUmoQWyZTAgj//61KoAA\n",
       "lDPN+Di4TyKsw3ABD9vveg6kr3YDi3jrgNvUFAziPHzdaIReeUhqjl0TW7GR/8d5UyJz/9+Fc0Ih\n",
       "EpSfaZnYZOxCYBRWfzcJ816Ct4uF5a/KmQAAABxBn8tFFSw7/wAFucMHJrnbf4xQ1EAFY40bYZfH\n",
       "AAAAHAGf6nRDfwAH708ij562d/Yu6FE86LFq3z1QXcAAAAAtAZ/sakN/AAfwoiQM9yCVgNPEfAB/\n",
       "B2nVOagkt/b5ICtkR6Kk4llvyIXGpYk7AAAAnkGb8UmoQWyZTAgj//61KoAA0Hz+GsBd2/11JUbJ\n",
       "hHhQBYtwMuAfmmRFX4AncAAkKpIrEt9No/rjGavpkMsxSQRKcLh1mjpwCgQOzEHd7wEPAlabfHmC\n",
       "n2az8UKK829i2tXUd6enT8lnU16kUkj9SrD3fGpoY1f7fU3JcAUlz7k6epmKOBCPAGLSRxoz0QSU\n",
       "jvsjeKqnVgJmLe0RARdRAAAAKEGeD0UVLDv/AAW5wwqTAsNfRc/ckJGnqAALQd2qSMb0FPkb4WoA\n",
       "bMEAAAASAZ4udEN/AAfvTxOdFGxPXWpAAAAAegGeMGpDfwAH8KI6PNm1apyqB+Je/fezp+Utqkuo\n",
       "xiywsuADVzM5QWEnWW3jmF7ucnTYnTc/qfr8aFhTNiRL5aQa9+MXvDkuyn5v0f15j4HWnmfDlTue\n",
       "2oAIxg934AETIW95rTVPuRICVEWPZinqFg85boFx7xUZFBTQAAAAZEGaNUmoQWyZTAgj//61KoAA\n",
       "48WnWAUG8oE3JuetRnA8v501jqCR5oP1d4Hd6B4i28Uf2IdRQy7/I0bB48phgFw/+ERhSx3ebTrq\n",
       "qgnc/i64EbFB0Zxf98nfVYYf3FTrBPGvxs0AAAAfQZ5TRRUsO/8ABbnDDbXQ0yl5Z3qYdEekAMWY\n",
       "IO5vPgAAABYBnnJ0Q38AB+9PQ9DR8TGBjzIR2bDwAAAAFQGedGpDfwAH8KJPIzl0o7p7xyp1/wAA\n",
       "AI1BmnlJqEFsmUwII//+tSqAAOOZmHjSzc4L93/kIAYALXZiJVJLIVORQdHAMldIcYJplZfIjMWb\n",
       "7pHG4+JQgPQuKFKrBwrn8fPqOsuEjDbojQlpWxlSkstNbWDzD3i9rkP5fb//6FsKs91m7vtLa9mP\n",
       "D9/6ZC6zDktmrMsrYxOo+DCAH+ADqnDbPrrAH+AAAAAmQZ6XRRUsO/8ABbnDDaweCrdQZ1mwkoro\n",
       "7YWswrZQzSCCk9fZZS8AAAAaAZ62dEN/AAfvT08Q5Y8ngl13oDsO1CALefEAAABeAZ64akN/AAfw\n",
       "okQQMFFWTz542AEE8AxbADiI30Z+G23ZpuDvx8iQjlzSCvuOM+ladio4DuwqGT6nOWWL3rhZ+V9P\n",
       "ezrR/6Hu7/uKnXmJ0fM09r5mFSp4mX6sfZBhFwAAALhBmr1JqEFsmUwII//+tSqAANlNGHmXntKR\n",
       "AAjxJWV2UTvYGa9jGxgmC9iROviqCwPUeFzsKONNVKhSnk1KutmEfbsWKvbxey5SDGK45K1o78hX\n",
       "9lCe6oV/Wm4blDHp7Kuv2t0qWA4W+R14tLuI1v+GBCBCtUzEStEzg/Au6w8D3r/NGPdQl5TYf56Q\n",
       "SlbdLGiFADwFDRjrMnQWEqvQCVnVYHQzWJo6zgGqzAaCklXb+l4jaiP/9JixAAAAQ0Ge20UVLDv/\n",
       "AAW5wwwCHgyMR/oRtPgKNV34YBSF4AWWAF9WAwGNjSfvoVnTlM9Mph598TbIHGSzQhESFvlH7t4w\n",
       "JOAAAAArAZ76dEN/AAfvT0PQ0fFZZaGv9/gafvm7vr93VbYj9p3ealdM72oR/N6HdQAAACIBnvxq\n",
       "Q38AB/CiRDBNHdE9S+emScUwKi4nRAzGmrkyjLehAAAAVUGa4UmoQWyZTAgh//6qVQABOfqd5XQo\n",
       "LneBwRlkdkhMAmie6lfBCOqe/tuzI84VMDkh+vQNNzpfv+doxijM//p+SeEXb/AI+417wSNJ9UUz\n",
       "T4COTUgAAAAgQZ8fRRUsO/8ABbnDB2hkHi6TasXIJlnojz6FESqoErAAAAAdAZ8+dEN/AAfvTyQM\n",
       "mnMcKNfISc/CK/1PPIQOF4EAAAB5AZ8gakN/AAfwok9BMSAEtWocqaHQ2k+peqkvos+TCuHTEQNN\n",
       "ZFif/K4Jnv3g6u2qsbzpX3J6bkf59yhcTeBeeqLNs7nTDeOASRctWdHBmGco8AADxixqWosJw7vD\n",
       "wTQQ//tgHO+t7e1ycfSxnj45SjsMXuskvRKBZQAAACVBmyJJqEFsmUwII//+tSqAAIwec64BxPt+\n",
       "A2aLteNErrQWVunrAAAAW0GbRUnhClJlMCCP//61KoAA48WnWAbhGCymkBZeU08Hm2KbH7qB+u9i\n",
       "lqEwNlYJ7Gy4cjaxiGweO0Q7R7//hfQNp2MvFO8eYgUnnYarcpR+BsVb+y2Wc2bCH2AAAAAgQZ9j\n",
       "RTRMN/8AB/D58Y82WTqnPUL+hb+oTS/eqq/deTUAAAAdAZ+EakN/AAfwok8jN5A0go0IclHuAgbe\n",
       "gnHe18EAAABGQZuHSahBaJlMFPBH//61KoAAz9jErgCwXCwThFuHH1MIxNRL73rSIBudrDb39LPU\n",
       "8w2pQiNDutiI70uNcpGS7F7SHb2qaQAAAGABn6ZqQ38AB/FKtIY8Q5bXXABO2fnxm0iutgvEDiq7\n",
       "Ip1K+DQUU1VKVwVP6SMOqwdKK92BWgcu46G8s1d5m66O7if//nZF5gGkc6BZmHbCpCNVWRPG7kEf\n",
       "RphY7FElGbkAAADcQZurSeEKUmUwII///rUqgADjn6YD+HMZ+QdXADdg6JqqrFM5dZrRQ1JIifzb\n",
       "EJfchQDXwxY4y2sEI65PlqHCTKGau3K0+/u2Hbq2UfdD345GWkm37kyFMuht0G2/DSlq/qvh0N5b\n",
       "XURF9t3XnHvtOTNZmHFbhunx5HA1IkWKsXoAJxAbg4T4QL814ptJEZHLW2JyreM3jlQVCDnGjv/h\n",
       "syLVC/8JY0vMrRKFdyO/+VfNykLPDj+oOEheSVewhKtsNheU9xAQpUBD+mK3A7rJC4hReREaBHQJ\n",
       "mBHNgAAAACpBn8lFNEw7/wAFuYuNrB4Kzkusw7yfmSyFAAwh9muJSmtUO8Qi9GxEF3AAAABdAZ/o\n",
       "dEN/AAfvT08Q5Y8ngg+YKWjMNXnfokABDiHI4K1tqrG86Wl/HFBzDb87Zdkg1S6JhZZ1eW/dj/iG\n",
       "x2PEQKCPeDhwSjEi9mABL2IjovcUjpKR5de8xLrwfhLxAAAAFgGf6mpDfwAH8KJEEDBRYt1rcOul\n",
       "SqYAAACAQZvvSahBaJlMCCH//qpVAAGywIYFgJgCEABHyLyUCF3ElvjRc+l9iqGdHbMNeK2jA/kL\n",
       "qEo4FGCyqq2+g6Pu00ZWVoxmcR+b3ed3U0HN9eJTr1h8oq0DsBkrgV0vm4ZkX9yQN//8+B5Evyr3\n",
       "MYxv8jC22AYhHErH5kRsaN6+tQYAAAAkQZ4NRREsO/8ABbnDDAvQ3bQ2q8tQ7UYRRdBxOwmnod4N\n",
       "zgTBAAAANAGeLHRDfwAH7068hrl8QAf3gGLYAcRG+jPqXAyM39l67HHkmiyJYefgAgecWBhvtNQy\n",
       "LYEAAAAqAZ4uakN/AAfwokQQMFFo7hxfNeJGoYkBYzhVRH+iZmOGzHKLoQ2Ihc1ZAAAAI0GaMEmo\n",
       "QWyZTAgj//61KoAAqXUYeNLIR2rh8GgI+aK6CPlYAAAAqUGaVEnhClJlMCCH//6qVQABnpWPsA8d\n",
       "BQuhtvHRCKd7xt8AHCVxVbPQcf8paD97p9Z3ViOoHP5pXXw819Ab/bv9KMPmcPZQNJW4KB6/KxgT\n",
       "k/b+t6RMNReY9MsZVy0lYXi4F14Sor4e7kBx0B9gcoHQiREXbmSQZ7j5KI4k0YXDMaDL6c8S3vQ9\n",
       "EUtovaDVUDa9rHRcLkwCOF/MHTgyqjrPgeBNNJTVvMAAAACUQZ5yRTRMO/8ABbmLjcw6ADje88Jo\n",
       "MiOUii0pKGXS3l4U70TQi+j1oVyShUEMH0ySEMXN+nCYuisksV5vocdrdn00Bum+NnEufwR4C2Wu\n",
       "HUAw8htuA//+cUJgAwp2LJur5rFdjvCiLoGBW6UnuzWZoi6GrqP0c8mTlB7rrA7E5ftXHBSvHkBr\n",
       "eSvLySM6K7BXpjAfMQAAAHQBnpF0Q38AB+9PTxDlbmIh99WPcwKYaYn3tw5cYMJ5lymAAhxEzmAH\n",
       "WGCoNUxh76LdR1UXJXv2thfGTJy4lPoPC/1XTgVqU5yYxTVhn9ZICHBLbs0ncUkSbjA04yYHU69D\n",
       "uwS67DDXfeDBCog+CEEcgZ+BgQAAAC4BnpNqQ38AB/CiTyM5dVPdIyP4n7lOaIRmb6JBHpEW9cEA\n",
       "0p5FuCbMbGCuNnImAAAAYUGalUmoQWiZTAgh//6qVQABisCpadkQQABUmvtCbk0qiPe3q2INrGEK\n",
       "xL+0qOh9tRq3gbL7tHm879xZGnioz1y3d2RxWhyQcAd10YMGxbiK4e/CoUAC2fA1prv+4Qz8fMEA\n",
       "AAAuQZq3SeEKUmUwURLBD/6qVQABisCGBXw/WdiZSrFjqMsrDKNAa3qRXizTlabltAAAABsBntZq\n",
       "Q38ABDa9AF0dJNutn4HMb5gdPmwa5x0AAABBQZrZSeEOiZTBRMEf/rUqgADFTRh40f8Y8ejgKmfV\n",
       "FT7QjEAA0I/cpp//XJhRCES39ye4asZpRnonX8Y9B4z8fMEAAAAWAZ74akN/AAQ2MlIw2Hsns9HC\n",
       "+5cWLAAAALVBmv1J4Q8mUwIIf/6qVQABx05a4BSbxTqKPRh6EJirLHRBQcrd96vUKp+efvR/ej15\n",
       "T2gvMGP+lZb+0RUg+/x3jGwB7uF+zp2ugyvnt062NnLDQPr7Zc+wnpGN7E1y8w51nmufwPozGxnb\n",
       "axbN9Lzdykm7XP2eljOrS7VK1xi7RY8zHjqG1P3//D2QnkxAkjlAGSadSe6qkRIEbYirhzIqE7Q1\n",
       "iDi8HDxhyMvQXpg4rx4p9UMDAAAAKUGfG0URPDv/AAWrGDLaVm9fFgBjN4MQBJ+rL/rzvAYNi+W8\n",
       "0EWGiJOAAAAAGAGfOnRDfwAH7068ho4CY+B3l5BCXhXcrQAAACEBnzxqQ38AB/CiT1kvy+p1XmTx\n",
       "IFuTipx5NbSaiGIYvUUAAABnQZs+SahBaJlMCCP//rUqgADabg/9DhHAAHaXnms2MnzjNO9XHk7b\n",
       "++wYnYY/rXN/u/8CunIEUG2isrDDiLxFujPdm6rMf7/THee8uvA5lxgl9dVkGcnDzb65D6NkSwVB\n",
       "zCbULAULWwAAAElBm0BJ4QpSZTBREsEf/rUqgADZTRh6uP40iP05gBcnIrCSjzUFNV9m1p5LyF90\n",
       "JVaJ83NbY6ubQy9YbqReZztSLAoYy4PI8OVMAAAAKQGff2pDfwAEtpFfXzurjgv7puRJxXdAADPB\n",
       "XQH9dgljBPbRXo/HprHBAAAAV0GbY0nhDomUwII//rUqgADZScMQARI6O2c40PMMPK59fxJTZEm1\n",
       "XcaTDburYdpShPovLji0TS0q6T8lIP/3yUgQAIlvs7RGPKVFWfZYWgZ0Hie0V5JMqAAAACJBn4FF\n",
       "FTw3/wAEtjJSM3+3yCLGr4+UzYatBSGk9VvvEZuBAAAAFQGfompDfwADOF0mIL9TcBZb1BK0gAAA\n",
       "AI1Bm6dJqEFomUwII//+tSqAALx9hRIPQAsCht5KL1hpjjZ9Y8cq+kxDfjt5gPWsV/Ew/SGNxzHK\n",
       "chgugDJEnvzXX/afFHXQspfCNQCWkm7jXt3n+P8lqxfowPLEwpv8h+T70wwUQQT2FJUfbw0gVOba\n",
       "LfYSMN+Ni5xplqAkCkitIv7n2um/DlhT7SiwO3UAAAAiQZ/FRREsO/8ABasYLHnpdozyHzaDIGhj\n",
       "EkHaE0NE+n5nPwAAABYBn+R0Q38AB+9PIooX+91UdzZzudHxAAAAHgGf5mpDfwAH8KH429b9uSSe\n",
       "2gW+pzdoUVGK0Jc58QAAADZBm+tJqEFsmUwII//+tSqAALt1GHjR/xfjNnLNEWg6KagxFCwJ48RC\n",
       "oO8WIIbF5YmxxQVUYosAAAAcQZ4JRRUsO/8ABbnDADD8eMsjVAxBR7RXPK2UwAAAACEBnih0Q38A\n",
       "B+9O8xQXYRLQfXA47lPXu+Rzp6MvyEDyjYEAAAANAZ4qakN/AAfwogQGhAAAAKRBmi9JqEFsmUwI\n",
       "I//+tSqAAOO/d0AUG8+cnyugwpMlJ7AUD+ytPbLAXD/zoRC1928INiwT2fUgji5aWsxY2tPXoWdt\n",
       "uy+vR+KqpTJWLC5iBemPKkjOXBMDujMQENtAiM+4jkdTPS0ZMXxsDE3Tvcv23Z2X4cIM26X/JdLc\n",
       "My9MMrL+ummxiqaxqbkrUouybxHo2GPu3AzBT10I9gQjRGrNRpgiOAAAACpBnk1FFSw7/wAFucMN\n",
       "tdDdrIXS8doQn4xcuRuV1+XYNhEwQpT7N5rGRs0AAAAWAZ5sdEN/AAfvTyKKF/vdVHc2c7nR8QAA\n",
       "ACIBnm5qQ38AB/CiTyM5cLcgKepadmVebYvO9jpiADibdYK3AAAAwUGac0moQWyZTAgh//6qVQAB\n",
       "x2FlBXw/d497umxkddDaQ23gDobAPJResM+7qkDHibX0mIaLNKG/5Nom9h50MbjRBqwLULZne0v9\n",
       "oRHloaVIhv65edjh6+grXCq5+adftrNvrX71oTynfeSB8bijhvhQtRE4Z7imiXTC/uwQPEXMAj9s\n",
       "sQ1yFZTg86IEZI4hJQTkgosXEu2eS7Ab0WViFOiCfaOHVqMwiabRNwRY21C7rqb3f/MboeXvCXCj\n",
       "ClUG06IAAAAxQZ6RRRUsO/8ABbnDDbXQ0yl5Z4fUd6/OoNmB6AWy9/IvNkEYbqr//hxPqCxlEwIN\n",
       "6AAAACABnrB0Q38AB+9PQ9DR8SKvP1IlPWkcOGupy7paF0D5gQAAAEUBnrJqQ38AB/CiT1kvy+p1\n",
       "XpVmoVQAesiqlrOL/CzyCZdf6Kbx9tsj3/cUTSYog7HDQCcld9aiBFV9uki8uqnJzVWFh/gAAACe\n",
       "QZq0SahBbJlMCCH//qpVAAGg+OgkUvTapeOV9AIISAAWH58DPeh6x3+hDnaw8Kf1befmZSXhjLLI\n",
       "+j/Uk63uY7MKBoVvCZo2nmlJJ5jZtcNWCU+pK7CVsct7+9q9imzc8In5ijy/MKU4LBT9QxC/qofe\n",
       "lqoNymWCpuatEDwcxh3ayvFvmWdoX/XBc7umhNUNVW+SAj3qWrOhvWKJXywAAABSQZrWSeEKUmUw\n",
       "UVLBD/6qVQABnsCGBYCH7olhyyLILpTbeIIAKPl6LaL/PsyhQiry5MVTgln7cd24+B8GP+Lz3Z95\n",
       "Lcj6E2O2E6KR7szxFkYVMQAAACgBnvVqQ38ABHa9AOdsJ6J1PAKX3mQ55VvfQ4JaMFRH0RlUuK9x\n",
       "QF2VAAAAYUGa+EnhDomUwUTBH/61KoAAz00YeNLRe040a2oAG7I1i3ksP+O4npcQuGGEzqT3rvSN\n",
       "/Mo0zMiRysmrf9f7HZ7++UyR/8E8MhVh/V6pfHsFS6oJX1raeufR99EDxk1hGpEAAAAuAZ8XakN/\n",
       "AARoLqX9uld9z4y0/f9JR1OWA8iCfoHBHHGioN4jcriUeseFFcC2gQAAANZBmxxJ4Q8mUwIIf/6q\n",
       "VQABnsCGCKp0TcR9xR/kxCoAjKPu8PNfvDCOAGoYvUaNwoh8hAAjSJFPtaV+4SVBgw5JnAnDsIAM\n",
       "paqhifga3sXYHN5UellebP/jef0VfSyP5jjdDD1L815K7dfW23T4Y2u0vbG6MDpTxAYpPrDJJJa+\n",
       "EoETh340VlNrO3OnlxzZrDR0ZfGpBDNjFZuoJF879LDlF0RiQwo3DiTrllWMpQGp23agM4GfEBh/\n",
       "bvLRf1oIayIprmWjfe0w0rxMDGoSluRxiEys9zpQAAAAKkGfOkURPDv/AAWrGDFC4bfRvwTSNO4K\n",
       "Q4Su59NtlifzhQMH+B85+mOLgQAAAEIBn1l0Q38AB+9PUAdIAP6QLjRk8y2x+SYNcXX6MqEssGh3\n",
       "Dr3qbynQ3q4IC5jeB/YmSRly9qs/Sr4UJ7ULt4vpAmYAAAAjAZ9bakN/AAfwojG7nSptqcRPRTF5\n",
       "ew3SmLXfTnp/ZNUzhvUAAAA5QZtdSahBaJlMCCP//rUqgADafP4awMwS7cxxXgEyh3q/J0+P+deh\n",
       "LT1maFV8cx0+XAdNgzqYAj/JAAAAyUGbYEnhClJlMCCP//61KoAA4793QBQbz5yfK6DCkyUnsBQP\n",
       "7K09ssBcP/OTqg3GJzXB0jW48AqodJCZnDw+9iKbAEOISsNk6zlDJRmjdT5E92x6gmCuQGZJMk9i\n",
       "lnCp1FLYJvJ8OFbGTpFNhpGUY64DcjY0vkS1I+hoxyQtplk2ktv0T1ss9JvMCJL0qnz71gZ1/oYg\n",
       "0NLLKL6ilFosq0v4uu67xfr8a+5pCzw4OBYBgVMQDwro+lv/GtAsEJIr1sjgf3pw4bdwZgAAAEdB\n",
       "n55FNEw3/wAH8PnxhjxEGG8wETnPVm2VzX/hmwAZuvz4tTqlQW3xe9F9UtoLWczIGdout+lgrZMd\n",
       "pqDpcTistf62zRQR8AAAADMBn79qQ38AB/Ch6KjmfzlfEb2xv6MbABesZnrnjbVstMk/4Z4uiB7u\n",
       "SfEhTQ67dvGMsaEAAAB0QZukSahBaJlMCCP//rUqgADGfP4axQL/6GLjAFh2BfyFjPXGsZPswCQD\n",
       "PUZBThuGkwzTcST8eJ+bMRrwmJOCM+14NDzpBIbvvK0kDAIxMVoZXNWpXuzsHenukiqf4fOeDD+4\n",
       "36rGzmZ3AuUpum6SelOEZ8AAAAAnQZ/CRREsO/8ABbnDCVeocW+4xiLF0YwVLc9mxP4isL2oVZ9B\n",
       "7OOBAAAAGgGf4XRDfwAH707zFBdvXnzDRbZRZ/lHWTugAAAAKQGf42pDfwAH8KIxu50+xU4TfjVh\n",
       "i8qGdgaT2X99NWYgpoI7hFf3sA1ZAAAAVkGb6EmoQWyZTAgh//6qVQABisCGCD9ZXxlpt/FW7GQA\n",
       "rqvA2aHU/sJJfXD2WAGoYum8HSlW6K945VcuAI8sEwDrNpmFG5y5gEd6G+9o83dd4B2OhvdxAAAA\n",
       "H0GeBkUVLDv/AAW5wwlRk0XCDPNwyYK0PLl2Cs2HxYEAAAAdAZ4ldEN/AAfvTzGycu06W2etl8bo\n",
       "3ohIV0Ug29EAAAANAZ4nakN/AAfwogQGhAAAAGRBmipJqEFsmUwUTBD//qpVAAEoNxjgzNO0MDHl\n",
       "QAaKu9v/+wqW99OzilEVwJ42bqIjnRhLX2WaJkAbGa6RQGzuP1W/pHfiK/kR+P7qhuOO+5/O2p8f\n",
       "FRtCfEKerRqPFss4PypgAAAAFwGeSWpDfwAH8UquowC30FbUCQ0DKqStAAAAKkGaTEnhClJlMFLB\n",
       "D/6qVQABKFmZadj98ZaZIDy7v+BykhcyXAFREH5UwAAAABsBnmtqQ38AAzhdJbkxxE7dolil87Ih\n",
       "RvE2v8AAAAAUQZpuSeEOiZTBRMEf/rUqgAAAHrEAAAAXAZ6NakN/AAM4ppQVTvqR7sXHARrNF1MA\n",
       "AABuQZqSSeEPJlMCCH/+qlUAAcdOWuAUm82p0VRIdvlOGFuKbKLPo6qPRlGv40mEIgk4P6vPfk+H\n",
       "Cic+BL1bYnfMtF/48czu+/wJDdjf2C8KFf2a5DkB1aCAajbrrBFfMh3Oqz5oK47Wu4Fgq7B4lMsA\n",
       "AAAkQZ6wRRE8O/8ABasYMtpWb17LoHDlEpN3amKlqugiHOOBJmi4AAAAHQGez3RDfwAH708iihgA\n",
       "KFgRSJZoCTa9HNHDgVXpAAAAGAGe0WpDfwAH8KJPIzlwttBt2Q7R+K1fdQAAAClBmtNJqEFomUwI\n",
       "If/+qlUAAbT45eVyzPuVXPhObrmBWRB7C+V0nM/HHAAAABVBmvZJ4QpSZTAgh//+qlUAAAMAPWAA\n",
       "AAAcQZ8URTRMN/8AB/D576q5R+DUqcqqruAqVJdh4QAAACEBnzVqQ38AB/CiRBAwPczUZnBdAeAO\n",
       "a14wBE6FL+h5VMAAAAAxQZs3SahBaJlMCCP//rUqgADZTRh5RwopHA6pcsMVGPvTWXro4C+L+HTw\n",
       "YpylHnUtgQAAALBBm1lJ4QpSZTBREsO//qmWAAbyWRQAXVceFNGFB+O2jOMqaeHVSg17yYwy9JhV\n",
       "P9wQQYMbupkAdKSCJKI0x05WxwrJtCRrr4ZyHLsgOX2hrMQ7zgNEeG6WsCDwooLCLQcjmm7BFsey\n",
       "c9jInrd/SxrOFPG8vicMJ6efflZIkd2+z3pWQ5o55oeADGtza//8eRF+l7/90q3XjS2wsaZGJkcn\n",
       "LnYzWw8w/w78Y+1ghgj2vQAAACMBn3hqQ38ABPnnyOdr6xns6A93fOmDni991CWpGDeT8Kwb0AAA\n",
       "AzpliIIABP/+97GPgU3IAA2XOop6H+EVsfSQUXqx2aBk6gAAAwAAiYGOFkC1uVpxUAAA34ABlyTK\n",
       "pBvMW2iE4Q7gAhxTz9XSc82US+vO64vhSMHUCUr92577X6c02xWqOtX0TwVaVoNPp+0bmufjp0oq\n",
       "D7loR3fxzIJ1dZ9bYCgSgeT8dcYG0jBFC+C475XYN7rO/xh+1G8ZikunJHUYM0qjPThVxrhFaeJ4\n",
       "/i+MfFQZUTR9rPQERpo56yVZeqZST8uhC4ohthBl10n2RTmXoykdmeeloT7/79kBi8li9neZRib6\n",
       "HcmlS8d7cNsd3OdtjoNiH3W6unTTVuPcc/sA3Wb2GdHvyER2v/MCsilGaMaPphouuiHL+l8LOtxX\n",
       "eAuhUeanRIltD3NiI+bHonBkumVaX8y1R6zyHJ32iNdD6XCTxv6sWCjMaEJssTaEZwt3m7TpdsCG\n",
       "KGgQh+N/PqojDzQiOwZVsU6tq85/+z/5xuIlc0CUZ+I+8+eK8X1v84aW6Q+VcAXltEHSfhwpv/z/\n",
       "pKp+LpWzYMqSvArW0mSou8GBr6j/l6GhJD0r2KNc2X1VTtJWlxpoDYOSuDjLgf86GlRxHIon9EcH\n",
       "+HJtRZkt/VOGt5UIgUbpHgnKu0NlWIXWN7K0DhHId8nOhlgyKpF7OO59WXiz0oNFOlq/adj6WWG7\n",
       "h8qfsd3AVgNnSVbqJsOtygo15uSa1XlUXE39Ruy0NAzRL0DtPqUDPEJfgLY9zQSZh3Cnxocrqfwc\n",
       "d5o24y4ICx7nuBNOglW3gS81V84IqSOFTX+4GJDzolpmMlbqMoPEpqaVXPBDd7m3UHapVw22MA2j\n",
       "i13G/kK7y7kVQ4XpGIAycOTQL1961yie7Mz+Yi0GI1Nb+cXjNtWCQCC4T1cd/b8kB4Y+Ev93Xf9r\n",
       "/8wOWQqCU5DmxirHceoHTazQyd+XNlgw9yNDtR55u7Z1toFYsiIYU38yCA3T/9eTWunnCwHCiHho\n",
       "gh34VzVKLvqOQCl8UbdAjuv+mImn2O4mMQjPr6Aoi9ZcU9SIZVIAHsvqzTE+u3e1o+qz7iqzDS9U\n",
       "YM1uzN4Qhnj9Q9Ss0X0WEzgGi8CNAAADAAADABbxAAAAu0GaIWxBD/6qVQAC3DggAFJvOSpX5WKo\n",
       "RvJPfMmarL/WCa425lr/CFoCZIa8apBIkq7JAhTWl4Ttb3J3v/Q35CgngDgN2hlo90fSy3yKrROF\n",
       "bchDsqwxVcso7AYq6gGGWioxhvsPQ6B4pyvhf4qekVfzHLlDcuSGpQN6W62uj7NBfbzC5VPI4fAA\n",
       "Ry6DOhA5z7IgKfXJboW/yucMK90fuhp8RyujHQly4zW4lYM4LofnITnLvqltLF1YcUcAAABNQZpC\n",
       "PCGTKYQR//61KoAA45maUlZJ4/jAe7d3k47waAEEsxpMDeYfKtD7Ihtr612Ezn0yOgzuUyqsnsL0\n",
       "y3hSqyD52s4TAupFFFOsKmEAAABHQZplSeEPJlMCCH/+qlUAAbKVkGuPHQULl6rE703Lc7YN27H5\n",
       "x1CTFgkAa00GX7wjmy6effejOsgMkes9g78e4HtS4eMPZkEAAAAiQZ6DRRE8N/8ABLYyUjM9ag5Q\n",
       "C5JKp1qreCROcCDIW126YAAAACQBnqRqQ38ABHYC2/iAWRv9nvOI2ibDFY4Dfv12aMv9ps7t10wA\n",
       "AAC9QZqnSahBaJlMFPBH//61KoAA2VJLjv6jnkXukBs/q03tABeRzBk9LYw+3/hVtyKJGmwQ0zyG\n",
       "aXmhfi/QGOSr1OpjRm3ekhLAZvnyHMa5ZP8uLKar7uGtNWYWwHNVmD3f+IT3qlgiYPZ252OLNX+c\n",
       "n9AnfqfpvbqMOUNE5SRAfnvkbR96gqbxXxweIc2SV5i9CGAURc305RW+UCm/IDZ9do1ggb9ZbnFn\n",
       "hx/WSSp4KvRd8vZ/lOEqq9hdpOdxAAAAJwGexmpDfwAEtr0A10zUWprets90K5r8t0xVhUeWCddE\n",
       "zRJcXtGUUAAAAChBmspJ4QpSZTAgj//+tSqAANlnBQl7gXDdWI8Nlsmo+aK6+5YFr3FhAAAAF0Ge\n",
       "6EU0TDf/AAS2MlIymBwfOxBP+H6kAAAAHAGfCWpDfwAEdgLb+IBZG+VoH1/8WBrN/2ZFvVEAAACZ\n",
       "QZsNSahBaJlMCCP//rUqgADPS3b8Et62SwZ+8JBaOyWwQBrbwMuAfJ+Ix3jT2GAASDFEOGR7RrDs\n",
       "AwDJ+cMFdbAnZyhO1UvbWB44kVVXDGFinaNUuX2CUQmL+2sdwl+nP8LoxebeynbM4B1Pj68stkFw\n",
       "xE/6nKx4ctPwpfDAqUAmZGnhM3p3PnGXmLdxEac5e+0UFUhYopfrAAAAIkGfK0URLDf/AAR2MlIw\n",
       "0UPVHxXel2Wbvg+OEBi2Sq8tZgUAAAAdAZ9MakN/AAP32sIwz9ynBK5m24mtX7YTXHgpzv0AAAAU\n",
       "QZtQSahBbJlMCCP//rUqgAAAHrAAAAAaQZ9uRRUsN/8AA4qlMpsMo23iE++eBrvjfMAAAAAfAZ+P\n",
       "akN/AAOJ2r++w1nKGl7g83UfCWW3tz4HlCwaFwAAACZBm5RJqEFsmUwIIf/+qlUAAVNjFaBjnDJt\n",
       "9P/TrP/uqt+D65M+YAAAABdBn7JFFSw7/wAClKvXm2t4lOODSd444AAAABkBn9F0Q38AA1fnrInu\n",
       "gCEfAXie00jCorh5AAAAFAGf02pDfwADoFCA51XBYCy3qCU7AAAAjkGb1UmoQWyZTAgj//61KoAA\n",
       "spQ6gArf0rK2xL0erPVNu7UEZwWedjZ0LwAfY0jY2yoKOdYFn3FQT5SUey1g/FEtXWmteSexQC/v\n",
       "iHFejGxF9jnaIGNf8GJgWEsGwHls+pwrGtB0eYSfykrBExZT5wzgfekhbqUIpugdIIueAheJbxt5\n",
       "wgjGVgr0ulF6UZUAAAAYQZv5SeEKUmUwII///rUqgABXDa4M5QpIAAAAMUGeF0U0TDv/AALVlBCk\n",
       "oATqeH++bI/qxLB/O74eEr4ivVwARonmEe+hAn+a6KbtJeQAAAAUAZ42dEN/AAP3ptKrAoXAP07/\n",
       "5vUAAAAVAZ44akN/AAP32sIymBwUxd85XryAAAAAQ0GaPEmoQWiZTAgj//61KoAAxnz+GsUC/+hi\n",
       "4wAXaDoh99U7UYMCT21U9RO/g64uiRx/LJCsKeJrpNImrRyOrObRe6YAAAAaQZ5aRREsN/8ABDa9\n",
       "APEbp/y142DbFQOrvXcAAAAVAZ57akN/AAQ2MlIymBwoxqh8blKCAAAAU0GaYEmoQWyZTAgj//61\n",
       "KoAAxU0YeMUgUJVi5kF64gLIpSquALAobeSi9oeUxs+3LwwglOd9JeLfHbxm+w6KkMLehV1dNMy7\n",
       "XuSy3SJHAgO1juphAAAAH0GenkUVLDv/AAMBtLaY7oi/yF16wfrixVILIUBMXhEAAAAaAZ69dEN/\n",
       "AAQ19Zq7os5R/uIGeO3HH/IxPVgAAAAtAZ6/akN/AAP32sI9rkAHwT5PKeXuNGMm6KbxvJWD/uKZ\n",
       "fjZlmh51XVAzW2s/AAAAiUGapEmoQWyZTAgh//6qVQABUvHwAB0rzkqEFHW25mCv3AqTUZgLadmA\n",
       "phE1oXRgxH2h0wbeXD7Lm+rMukbsAz5Xg/jaJ/U/5Vl0g99jjB7j4/+/4DYoXvixdkqgU955HHh1\n",
       "hiRARVMLyJvsUAOhvPYiLiqdnJtkDTxJHha4NViQP9EYPC4oQ/0pAAAAHkGewkUVLDv/AAKUq9eb\n",
       "Y3p+ZBOT5NjtHLQeoHEdtQAAAAwBnuF0Q38AAAMArYEAAAAfAZ7jakN/AAOf2sIw2EXPWcYQVMSb\n",
       "Q8aizJBsMZUekAAAACtBmudJqEFsmUwIIf/+qlUAASn6neVyzPuVXPhObt50IuWqnLfLEFijPypg\n",
       "AAAAG0GfBUUVLDf/AAM4XSYgrtFXMLHZpwGM+tXsrQAAABUBnyZqQ38AAzgAoazoPZPZ6Obi6vgA\n",
       "AAApQZsoSahBbJlMCCP//rUqgACUHnOuASYKoEXrHyL+TAs+Y2jFI3Cz8qcAAABVQZtMSeEKUmUw\n",
       "IIf//qpVAAFTYh2mO6sJuoQSI/aBAFatS0xvw3FYDckdJE1TP7sRJw+WSleoCw6FxwTw7//PwJ0X\n",
       "KCP5c+wS9JJpcHrda3X/bUJekAAAACJBn2pFNEw7/wAClKvXm2BpNeKKnAjkiI1HG2WqKLWleub1\n",
       "AAAAHAGfiXRDfwADYITNT1zIBb1sPKhe9FG+C4f4ugsAAAAVAZ+LakN/AAOf2sIymBwfOxOFTpn3\n",
       "AAAAKEGbjkmoQWiZTBTwQ//+qlUAAVMQhgWAaCHuWgiPqXkxbsc5r6VvFtEAAAAVAZ+takN/AAOf\n",
       "2sIymBwfOxN42mfcAAAAdEGbr0nhClJlMCCP//61KoAAspQ6gArf0rK2xL0erPVNu7UhntWeYtgW\n",
       "MA7+ATGQtnBM5N353cQNbgd8VnDc8b1ARGGtWFbaZWeq++x0RLOW/+tjQrbHiILnvnti72fNS1I8\n",
       "D6VptlgyWkcs5U1GqTc7X5FwAAAAF0Gb00nhDomUwII//rUqgAAs30GKVj/BAAAAD0Gf8UURPDv/\n",
       "AACuGNGG1AAAACoBnhB0Q38AA+64QI8wAgngGH7mF8CpaM49azUe+IFkPf7BCBNvHZNVG44AAAAM\n",
       "AZ4SakN/AAADAK2BAAAAdUGaF0moQWiZTAgj//61KoAAsmxfRqdaOKADS7wQQYW1wswdBTTzwaRu\n",
       "8scy3kozrLmqEEEAvNvZTn3nsLv/ocxoimY+peTH6qoavimOEJU/OSFUTBGt/OinVpZ+BkT3MLzn\n",
       "x3p/l0pWIiIAOY6KSViFfQAwIQAAACNBnjVFESw7/wACuGKaSyuPT7iftZVy21SfyVro8pWg5k9V\n",
       "qQAAABQBnlR0Q38AA8um0qsChcDxb33GzAAAAB0BnlZqQ38AA5/awjDYRc9ZxpsPtFe3SxNIKN14\n",
       "2AAAACpBmlpJqEFsmUwII//+tSqAAJwec64BJgqh2ZuefqffWVuCnuCODSZ+UEEAAAAbQZ54RRUs\n",
       "N/8AA2BdJiCu0VcwsdmmvPw6ZhTAAAAAGwGemWpDfwADYF0luTHETt2iXbi5piOBcTa9IAAAAM5B\n",
       "mp5JqEFsmUwII//+tSqAALx9hRIaKALFuBlwD80yIq/AE7gAEhVJFcQ3wopTgDc+0bjeSsgT0sPB\n",
       "Ey6gIm8bDjDLsxEqklkKnIoOYpytlwkpqH2vffIjMWZ4pi9ZUHfyliVIU0o4OfCIMjDv43lBikBA\n",
       "n32Z0hAxRjnXJmTzzF4/881d5ZTMWvhR+0b8jcz+YAd+rjTJ7Jg6g0GE6vx8E7oS5Mep3QIYeUVD\n",
       "2mp/1P+CVlrlD7Kaiy3Oz+fXJYWN1GNFwgAAAwApb1RiiwAAAD5BnrxFFSw7/wADIb+u+g6Gmn6u\n",
       "mtWAjUUpl2AEvWAez5h81+VVU0D92vN6a67jmbwhrhg+WZAIrzIDnfWXcAAAAB0Bntt0Q38ABHbx\n",
       "Fp/PhQ01vqN7mrQktc8VeaBIVwAAACwBnt1qQ38ABHYyUjQD7yFbgAiDVBmCAzF2mXARB1XWkbcL\n",
       "pI8Ck0S1vnwNtQAAAJ9BmsJJqEFsmUwII//+tSqAAOPFp1gG4Rq+GhORDz0qgc4qorOG+zn50Kcq\n",
       "NY5Ei3dYnm9Y51pGORaRnC68Tnyua5D2uxFa+BRBGFEHRy7ENYmhS1uKiq2czG1EKsZo8Gw7Jftz\n",
       "i/HYM/fx9QnkXub3T/dkjMscWR1Ve6AUAg3+hQEBm1wKTXvlc6o+mSXaoWRTc1gFCH4y4CT/9sAq\n",
       "StcAAABIQZ7gRRUsO/8AA3m0tl3+qeMchW/NSl6F8VFxatQBEl4hkggLlaHji883Djc+T/5UdVVC\n",
       "T47euvJf/xhAs6ktZz95BGHPnoR9AAAAJAGfH3RDfwAE+iSmnrp3gKMb0KtN3yp0mr5vIIMn6FOk\n",
       "uWIETAAAABUBnwFqQ38AAxBdJiC/U3AWW9QSvYEAAAAkQZsFSahBbJlMCCH//qpVAAHHbvPOzHQj\n",
       "3IYLx60V2DnbiPbdAAAALEGfI0UVLDf/AAT5OkM/LP3MpZ3Ny7iguqE8DC9itcfRHIxKmUB6WL3K\n",
       "kZuAAAAAHQGfRGpDfwAEtr0A53EdFwOkElT1EipzdkOw7SSAAAAAMUGbR0moQWyZTBRMEf/+tSqA\n",
       "ANlNGHlHCimu/bO28Vpvrm/YlHHHHW4Qg+Q5NudW9YEAAAAVAZ9makN/AAS2MlIw2Hsns9HNxc6o\n",
       "AAAArkGbaknhClJlMCCP//61KoAAxdjErgCMUejcPhNFgyRtx+vQZTSRjyEkYfQBlwD5PiMZs5N6\n",
       "YADx+83HWnYd4LYA3B0DHQv7AnVk88bovpATK6Oxx6woeSun2OxwK1R/tkSzxjMHB7m2dLK9BTsi\n",
       "K4kwDZUSvRnhxn0qr//QvfNwoMprTgD4WV4gxRl50eQvlGH2tyqqk2HXywl2mRQy2H/OefOWlzid\n",
       "QX9RP3JvoQAAACBBn4hFNEw3/wAENjJSMNhgk4rS8DefZ9m+u1Hep+3NmAAAABsBn6lqQ38AA2AA\n",
       "oCHzmYy9SaoEuA4ZweBU+VEAAABPQZusSahBaJlMFPBH//61KoAAspQ6gAia9MmXHQTCC6F/LdjL\n",
       "zEBBBdi3oGUPKis9+5z90gZKXtpVAsxe82jMwB9q9DWPRFVEIdLvYl7GhwAAAFkBn8tqQ38AA8vW\n",
       "u6C36QBbZABsoHRCqND6rG86Wl/HFBzDb87ZdjW21gEVZQQGvbp/AJ3ISQb7bd3BmEYSZJj57qlw\n",
       "dhx3JOsJWLnkUiZZzi2hr/gWFRsxbQAAAGxBm9BJ4QpSZTAgj//+tSqAALJ1GHjSL3AlxNhKm3Kw\n",
       "SHtqfDAAuvssUuiOpStNMnONHTlTvdyjaxN1oYqZOBypAADH3jXF1tOZQMk+Nv86kzpAB//oYv1B\n",
       "8Wk3Xla3sVZ2ULYppvv6GYL4T/EAAAAkQZ/uRTRMO/8AArhim5XqPQskw/mFjyqzsvHr+ZDscPcl\n",
       "8pgQAAAAGwGeDXRDfwADy6bSqsUVPd9B6tu+lrN3tgm3oAAAABYBng9qQ38AAzhdJiCu0Vcwsdmd\n",
       "6JdTAAAAMEGaFEmoQWiZTAgh//6qVQABOGO5pqz6V3+uSBvUuIFw9xgfoKn278ZnP/TvoWO9SAAA\n",
       "ABlBnjJFESw7/wACYOSbLv9U8iJN5sA+tMrAAAAAHAGeUXRDfwADYITNT1zIBb1sPKhe9FG+C4f4\n",
       "ugsAAAAdAZ5TakN/AAOImkE7igUdMWB+2nWig5zT2wL6N80AAACGQZpVSahBbJlMCCP//rUqgACy\n",
       "lDqACJr0yZcdBMILnh3agjOHSMjm0G+YPtZfknvrZYTd5BA/hKy70nHwoG7aWHagIkhAIsnaU40A\n",
       "HYoVXClnX2Ob6twX8KCgDbg67QM6YuDhlkd/e6yEU23uNSPgfSSqCuzXtMRDi2p06+Vu04rzwNIW\n",
       "fJ0AAABWQZp3SeEKUmUwUVLBH/61KoAAxnz+GsDMFEzE1YoAsW4GXAPzTIiW9xElAASFUkWBJ9I9\n",
       "QvnMNGxHYfo9/bCWeUeKr5nTqb8paNZwjKy4y6LYdDTrWkQAAAAbAZ6WakN/AAQ2vQBdHSTcDIy5\n",
       "bX4Y2sQm713AAAAAOEGam0nhDomUwII//rUqgADFTRh40f8Y8XZhQOsiEAEf0c4tp/6VexegQ+2n\n",
       "Y6I/7N2e3XmTX4+ZAAAAG0GeuUUVPDv/AAMBtLZd/rLCy/SQyKI6TeFiwAAAABYBnth0Q38ABDX1\n",
       "mqrFFbuqx8K5yFiwAAAADQGe2mpDfwAA8xRAhtUAAABkQZreSahBaJlMCCP//rUqgACybF9PQdaO\n",
       "KAGuEAZcAxMpOq7bJwAHaltwP3Tub3+mZbyUZ1lzVCCCAXm3spz7z2U/N7DclnsLgaDfDco66khe\n",
       "zZIfHrdvCQMehabaef50zto5IAAAAB5BnvxFESw3/wADy9q/K0pcEsSOXWFh6DzKGYTtbMEAAAAU\n",
       "AZ8dakN/AAOgUIDnVcFgLLeoJTsAAAArQZsCSahBbJlMCCH//qpVAAFlG50uPWJXsbW3KdaHFNOB\n",
       "/WaAZ6IMTPyLgAAAAFZBnyBFFSw7/wACuGBp0FwBJ/u+ABy4TkmRjT1yCJ19Nbjp8Qfrztl2NfTH\n",
       "YjDvUuvZun8AoLRGQ9UcIaJ/urcoMfPcX7iP2NjQOGOIVBp6XLYOqJeu4QAAABwBn190Q38AA8x7\n",
       "2k+GEF2US/ixVQpexdaIrPZQAAAAMwGfQWpDfwAD7rhAdkAIfOxvMy61WYk3IvYxbAVzJWZMJ+Sa\n",
       "ZJ5KaGfgO/1rxls/RUZFsQAAAGJBm0RJqEFsmUwUTBD//qpVAAGg+OgkU+iibDzYIAW6iiEIC/Xn\n",
       "Z6qE8sUYvNjPIMHxQD197gZJOXagTFPw3xQ6Oeyx/vUWGfqTnrHlUMwErjXrfkdVbtv4S9Wpmycc\n",
       "Mhs9FQAAABYBn2NqQ38ABHYyUjDYYJgsNwbhcqBuAAAAJEGbZUnhClJlMCCH//6qVQABnsCGDTHQ\n",
       "jtwwXj1Ww8VzF5Mz4AAAACZBm4dJ4Q6JlMFNEwR//rUqgADFUkuPEh/FGEYmRVaruKfy58mbMQAA\n",
       "ABMBn6ZqQ38ABDYyUjKYHB87DK9TAAAAMkGbq0nhDyZTAgh//qpVAAG0+OgkUJZCClWpICyQl0YC\n",
       "APa9x+Sais2Swpf5ztXZ8JPRAAAAGUGfyUURPDv/AANRtLZd/qnkRJvNgH1pasAAAAAcAZ/odEN/\n",
       "AAS28RaeuZALeth5UL3oo3wXD/FzgwAAAAwBn+pqQ38AAAMArYEAAABPQZvsSahBaJlMCCP//rUq\n",
       "gADjxadYBQb0xFuTRGc6ZJWFAkzseFIeabFgbHPJ8Vt5IJhnfrx6h+Qv+aLT0g45D4UlqK3h49Kp\n",
       "TC8oCnJW0QAAACRBmg9J4QpSZTAgj//+tSqAAOOZmHjSx0b7m56FKQwJpgpXtuEAAAAhQZ4tRTRM\n",
       "N/8ABPk6Qz8s+GEG0ZqPsOOKxNQPFjh2C564AAAAZgGeTmpDfwAEtr0A52iG8gA2qQcNNLesbeUT\n",
       "x8an9PQ+qxvOllIiP2fQ2/O2XZjT7qqotY+vqFkYtg8MTDPCl6VCaU2L/SUE8HTGkP1EMWePbc+2\n",
       "zQTZ5yz2BWsLNC4YDKI8FaKtoAAAACtBmlFJqEFomUwU8Ef//rUqgADjn6B5tIPD9695D1aj1zMz\n",
       "zkIDcQ8MVC45AAAAGQGecGpDfwAE+efI8SAJG4VGm3icgWQf2/AAAADeQZp0SeEKUmUwII///rUq\n",
       "gADGfP4axQL/6GLjABdoOgr4u2GAJY8KrZuAJvVUIm+vtbR72aoPsBx/sc9zZXhsqRbwrcaq/Ojq\n",
       "4atPML+3INHRLjT4b7a6A3S6pMUTmHxIYcAPyC0PSVZ9EVGv3Z1ovHOynaYb234G7XY4AWPnbW67\n",
       "qaJP2PGQdUhpAD5XPV5fhR3TP1+aOCV1fG6riVGrdd+BCp5BsfOLPqSYObn3HsUaR89afwdsFhM5\n",
       "nMAcrVAkTv/sF/8okk/IE2lo6RD+9JVSBKQXGdgwrzqBI0aAAAAAJEGekkU0TDf/AAT6YEQqo4Fh\n",
       "roupynOq4oxsGHBjWvt/UktNwQAAADQBnrNqQ38ABPk6Q10+/xliu8IT7quIS2RKi3S0AB1wCPjL\n",
       "83dSV2gjvbJ+arcq+/58IpuBAAAANkGat0moQWiZTAgj//61KoAAxU0YeNH/q4kDnAajv7nTgNnF\n",
       "J6nZJI2bdIWX2sKOnAxfRUdvQQAAABxBntVFESw3/wAENjJSMNhgmWdT3CjqXD5rrKjuAAAAJQGe\n",
       "9mpDfwAE/I2AAS8ACT4FRxHvC7chhpAP5Sodbmpk+3TW6sAAAAAsQZr7SahBbJlMCCP//rUqgACt\n",
       "+kzOk45z+AYFhfTFlpxqPK1aquILVp9uDekAAAAZQZ8ZRRUsO/8AAqar17lqhmR2Rg+YUnedlQAA\n",
       "ACwBnzh0Q38ABPyNgAEvAAk+BUchSJTzfMxUDJp6+7X60k9exiiBwp6knN9aPgAAAFgBnzpqQ38A\n",
       "A7ZQC0GoWha/IHOrGbm954opB1oSwAnVOGEVYU6L8u4SDGnx+dTmFIYjvYeJTYdLDGAujSOhZ0DB\n",
       "q+OQaMwP/+/ln99Cti5u3oiCW4IplnVBAAAAtUGbPkmoQWyZTAgj//61KoAA4793QA6V59RyMwGc\n",
       "eB3PbVBhoDnx+DiyPzilqEzFlYJ8+nnYFQo0yEW/WQPQwfJ8RjvGnsMAAkGJ4iSshKSrwBsEWhHB\n",
       "XWwJ2DU6sI/PxUADgthJZgxGmwmvbBC/ri2GD0srl69d8ovd7O0jSNV6yV5vJK5Rpe7ZN5RpYyrz\n",
       "k/L+n+exkqtodVLfPMtXvsQDXRGeBkE3HnA7sOIk7L9xETpkBkAAAAAsQZ9cRRUsN/8ABPnnyOc9\n",
       "GuFMEm837k/QNywd5kR3UgSDcgihqB8NoWS8vdMAAAAzAZ99akN/AAT558jnPRrhTBsB39BVMn3k\n",
       "OAAnWqyqnD78xjbpNh2LZ7rxj8QjcJy0bGlbAAAAokGbYUmoQWyZTAgj//61KoAAz0t2/BLevxUn\n",
       "x+CodABDi1ZSwPAtj64e7rE/pEGl4njPYlh7uSe7wJCvUXn7dflGH43KbeWZjJhHSMtZgRfrkJIL\n",
       "nnZDmbZqyPCalg6radbtLbdt9EB/thx4uX+dP9InZnDTIoeMUHCYdJn97zUI7XzvLiPdIN7nmpeF\n",
       "XyE99zQmpUBmv7hUvu3MX7K6X13N+AAAACBBn59FFSw3/wAEdjJSM6uEXOVUtPb7zRshRNMtgkrz\n",
       "sQAAADgBn6BqQ38AA7alMp+LHRZzy6suriJsALXwYFgGN2NHbvp6axiRGGr467G9cf/r+U3tlhng\n",
       "U2MvjgAAAF1Bm6VJqEFsmUwIIf/+qlUAAcdOWuAUm842OiJyY8iUwXzYr17jK0dHV6hVD3IYIh4L\n",
       "JYDJFNHshfjtXdBd//h3Ngd4quhUu3LY15VShAKLx6yea96BSJSDb9YcoIEAAAAhQZ/DRRUsO/8A\n",
       "A3oI/6dvzj1NSrIjqSlrv9qmPe7UIjuBAAAAFgGf4nRDfwADX9VSqsUVu6rHwrnIXpAAAAAXAZ/k\n",
       "akN/AAT558jnZA5SXqwOLwL4fFgAAABEQZvmSahBbJlMCCP//rUqgADZZwUJlP9StgYNrMVWzSxA\n",
       "S5X/fJZnImPt9DjmjE4fkgp3+4922VA9vX7IRbwnyT6Qn0EAAACuQZoISeEKUmUwUVLBH/61KoAA\n",
       "xdQotOgH8AL/6GzxABzkgW6GKGuK4Sx6RCf1DpgHM99leAef9t/MXoQrAQo/Z4SbAIGUcAzVX//a\n",
       "ZUZDUGAq2xTA8urQd8Yw3lOfNSC4w3PRSaay3i7s6TWGdrGt3DX6iX+hCkQm4z/BZY4sZbuxOTB3\n",
       "hf3uk03gPk5HjfuFkh09MP67H/00uBa9TZtDi2SmUh5o+uz8JYgbb8+/AAAAJwGeJ2pDfwAENjJS\n",
       "GbKdaHk3oUvB4ojSqvRjyT+q7nvaajUE/WsqYQAAADVBmixJ4Q6JlMCCP/61KoAA2VJPH+2VuBvS\n",
       "nTbbnmuG/XqGl3RQu85mAiqmpDlRZ8XbGmWKSQAAACBBnkpFFTw7/wADUgj/p3JJFTB8lNRytKzz\n",
       "jixPu3fPWQAAADcBnml0Q38AA/h72OglgRnWNkNABppRFAMMBDR3/fS+oz9o2MG6RaH9/SD64d62\n",
       "TI0ic32yFrFhAAAAFwGea2pDfwAEtr0A52a+jFlfjmvV+dHxAAAAdkGabkmoQWiZTBTwR//+tSqA\n",
       "AOO/d0AUG8+s7H6Ak+ztP2yoH9laeyGAuH/nbPquMtfhDwiuk3U+DnSwao5uAwIehBpKsvlRwCVI\n",
       "14RSG/ulq4rpzJDdBY6hAbqL1kWcBeb1t55+v7A7P5eg4Q+C/VHVY0UGNSEAAAAfAZ6NakN/AAT5\n",
       "58jnaE6LgRfT+cix4Uih6e2H06KqggAAAE1BmpJJ4QpSZTAgh//+qlUAAZ8eXHBJe4fmvCVjBG7h\n",
       "nMoHSUEpuLIwqsbGl27ySk+8NVPIEI74x4w23lj1YKGkwualKQ4kLEgICVq66gAAACpBnrBFNEw7\n",
       "/wADekftKif03obedf2JSQrtt0OK2nrLAJjkM0eMrRMZg/0AAAAqAZ7PdEN/AAT47oztnZW0WNHq\n",
       "+QfYcp/R9yy26CnssMfjCSnGGeJMU4QcAAAAGgGe0WpDfwAE+TpDXGPB/IzvWrCuG5wmdTU0AAAA\n",
       "UUGa1EmoQWiZTBTwR//+tSqAAKnsE3BcMOYol/9DcuYBP9kNGAXP90M0Tf7IrCROC+sOrr/HdK9R\n",
       "TwVkyKxf/yGBArkqBryPXE8f0eMJCCxvSQAAABsBnvNqQ38AA6BQgOcy+41vlccBICMiQ6Ro3h8A\n",
       "AABAQZr4SeEKUmUwIIf//qpVAAHHbvPOzHQvbX+IvnNoRdoiKZOiNKx1QAANw3wDQd3nvXXAeYHA\n",
       "lDXbtkJLcgEPmQAAAChBnxZFNEw7/wADegj/p290ipeS6/lfNmVLfmKM6KJGrXf6R+of0GWUAAAA\n",
       "HgGfNXRDfwADn6bSquFxOhRxdwPOVxOgk8ntphwumAAAABsBnzdqQ38ABPnnyOddCseIQ8Xu+ZKI\n",
       "EFjUHcEAAACgQZs7SahBaJlMCCH//qpVAAHHYWUFgKK8/eYq/XOJNU6MAkuAGoYvYV9oUmbBHABC\n",
       "kJs8RT8JJWAnmDNuN5KyBzFN3yJl8floK5yLLemwwAnWfuSZUlKOa1h4ZCi5HStWtbFIDDS5GYQh\n",
       "lEaclYVu4AhD/9luXqcjTyQJdiGk/T2HHGJmBAx8J9U7FIWSfGZaZwhF0sluepokvYqRvNtW1wAA\n",
       "AGNBn1lFESw3/wAE+TpDXUE99xbaLmq6BWZQhUAIQRK4FUaH09d5CHx+kgGMvoBHKt1ALhcEf2wO\n",
       "mam3bjKDyQAkyBP9pgZ910L63xogcsMllGE6ejnMR5X8Tth3ZN+dlaZA+YAAAAAjAZ96akN/AAQ2\n",
       "vQDnPRpiII+9k4utt4VqM3gXcsgSI8qBHcEAAABiQZt8SahBbJlMCCH//qpVAAG0+OgkUJZCC/Iq\n",
       "5V47N73nq+jcAAhCnX+8Ge8FbNl0Nipr5MvSYtcNItHEK3qwkwj9uqT9VNujkSXX+unYnbw6tRkU\n",
       "F4QpijbnK0Bv/YFGuIAAAABmQZufSeEKUmUwIIf//qpVAAGywIYFfD93gRZgAI+ReSoFfHSefH6D\n",
       "ZRonbrmb/nCW+Js+pghcDmpPMuhYDDcoZQR0l9lkKcCZTiaNs+BJQ2u0hn4MVzmc4LYUgjTwi1ox\n",
       "gVacj2VdAAAALEGfvUU0TDf/AAS2MlIw3ADQhXGeJjBu+iVyrY7NnrfU2FVB69bWgbAJrmVBAAAA\n",
       "KAGf3mpDfwAENr0A53EdFusnOgAGAwrzRmGwmDoUp5ZAARkEbdPHjFgAAABlQZvASahBaJlMCCP/\n",
       "/rUqgADZUkuO40Qz85+GCHswptO5nPnWLIwVhgB0UfDqP/SJHFhHZA7N7+5odib422vyTTfSYsPe\n",
       "AI4hzhp/+FmQoFBMBX+nGhHWyWWK9dpNxdDHlhQjBvUAAACPQZviSeEKUmUwURLBH/61KoAA2U0Y\n",
       "eNH/MMQR4Tu60AItMYssWzGWuMQXYNqflDE7DuQv2gRPILbZsWN6So9zCn8Dk9wzZNtBpue2Zp4R\n",
       "MTUegqmNX/SB7nkSbPdK1uPftB+6+jdJcGKoGuMzprFJUV6FkjZnMJsx+ol6106ttiIYKKviTp5D\n",
       "+aYAK+JmxoAAAAAeAZ4BakN/AAS2MlIw2GCZ9poluDyuCXBfZ0eKFIJhAAAAVEGaBknhDomUwIIf\n",
       "/qpVAAF3DJZTUuwsIA1ZAHyd+Za3/gVe9QARm6bOkTkii6LX0rb29pB0de7qkDHQbX0mKSjtFNMU\n",
       "lmQ6yfIhpkPJ3pqauY+bjwAAACVBniRFFTw7/wAC3GKbljpKEmypldZ3bTm7nFKMU4pvjvoUKOmA\n",
       "AAAATQGeQ3RDfwAEak/ZE90NMdQs5ZW9+BSgACCeAYthNSwK0XphtDbzW7NGlrJR0jkZD4/IFb/i\n",
       "j+ZcNyTyesKQ0EuP7E4CBPcnPZYlhFXAAAAAGAGeRWpDfwADtdrD9CrAOVSvMa9Cvk9KwQAAAGJB\n",
       "mkhJqEFomUwU8Ef//rUqgACybF9MR1o4oAVxeBlwDGR0x/F4VAAzDrmTKKxucZ+jmW8lF7QuaoQQ\n",
       "YS829lOfc52Vt1tAaXCwnZzl1RwDtcU32c3DFLQuPTmyLEm/psC8IAAAABwBnmdqQ38AA8vavytK\n",
       "XBLEjl1hYeg8yhmE7WzBAAAAnkGaa0nhClJlMCCP//61KoAA5DksIAIR9F5CUF1fbSabHUEmSxfn\n",
       "JaJr4HDmzVdPJlOtna6mRbTNYkf0PGJcHfGTDk/rULw0pmgDLgH47/Uo/YUEABIUZJGcEl4NXt4y\n",
       "rjnuVxTi/HYI0t//4NjNL6n/n/XQk3e6k6KLlnlQSZvx19LkKaS4QXb67/v2QZeBekGGCv0SxPMg\n",
       "5jvSsCzAAAAASEGeiUU0TDf/AAT558jnPQXWMu0sOrrvK27du9ouEGAFjoBVIv3ZrZDwKQIHVDtr\n",
       "Z4egNBS+u2s47auobzMX4bX3ShcRTtxGBQAAADIBnqpqQ38ABPnnyOc9Gtk0Hk2wAbVIOGqvagUR\n",
       "5lTMfTqRTmkdidwNMVmUZWFh8CkqYQAAADFBmq9JqEFomUwIIf/+qlUAAcdhZQV8P+pw6h0KjgN0\n",
       "DvGm18qSEWPCq+vMmADHc71RAAAAGkGezUURLDv/AAN6CP+mAcJlWXrpfE27bvAXAAAAGQGe7HRD\n",
       "fwAE+Y1PDOltx8R+F7Ywqt33yw8AAAAYAZ7uakN/AAT558jnPRpCIhC7gr6JQvugAAAAK0Ga8Umo\n",
       "QWyZTBRMEP/+qlUAAbT46CRRQggyANzPcnLD0kO2GBg43tZ+OOEAAAAbAZ8QakN/AAS2vQBdHSTc\n",
       "DIy5bYeyIRLxNqygAAAAJ0GbFEnhClJlMCCH//6qVQABssCGBXw/d0F6H33EbD0c71t9eGfjjgAA\n",
       "AB1BnzJFNEw3/wAEtjJPvs9HIL1JqgS4DhnB4FTx8QAAABUBn1NqQ38ABHa9AOdVwWAst6gk/IEA\n",
       "AABtQZtVSahBaJlMCCH//qpVAAGKvIyvZmn+a/9DaggBNWvvRXDzGhiPvC8IBJKux8XxkLbxlDyE\n",
       "R0hAvYJCxj1EJ3J4txUYtBob9KUMfgX76KrEzAGJY2xHf5pqdfmlCOjAs5NNH7CqUv2vNYnpgQAA\n",
       "AL9Bm3lJ4QpSZTAh//6plgAG9J7HYDN+PNtP/ERdo5N3YW4hci/W9IEN+ePKMaGy/UKBEl4WICv7\n",
       "ZFdYrShsr2LMcdWOpzbshzczZkpFoyZ/rb9d5PAG185P1d9lGOajW9wsBNljjLCjXrvLLBR1qa8U\n",
       "ANb/zVw2vYW9d88ogTVSTl+jdCtFwWmSYzHjmuXG8xwBT7I95IjGRwcNDWbblt2sTvvy/6Ex+f4f\n",
       "wmK0bql4CZAa5L9sIQxQLfq7RfxDoAAAACtBn5dFNEw7/wADegj/p3EcWjRXEgUTY4lWh6Pzvc9y\n",
       "W36ZKCvHoMKzgCpgAAAAFQGftnRDfwAD+Azm9pO3nAHi+aIOmQAAACABn7hqQ38ABPnnyOdoTot+\n",
       "DYYfsIUKD70pJ39tCwdVTQAAAEBBm7pJqEFomUwIIf/+qlUAAYseC8pe6d//0NqCADLtfd9t8GRB\n",
       "wvX42Z7BQCOiNmVI3cFavNStYHtKr7xxDiswAAAAN0Gb20nhClJlMCCH//6qVQABisCGBYCIvn5L\n",
       "o2gO7MVF0juP8qEoAwQnKKPj7VGVWxKEuyGu3oEAAAETQZv9SeEOiZTBTRMEP/6qVQABspWQa48c\n",
       "tEEIcmnxrLWW4CKQDz6BgDYkAfJ35lsFDirSCACE3TY1Gu/L4pAJl84hsMksSaKocmOqVcWFdEBT\n",
       "mr4Oo9qW+SU0nw0etWBz+kzAO7ljiYpPk6b6kec6Ibx8+s1cPPYND+aRQS4O1p9is3d9kSIkqqEn\n",
       "/Gaip1ugOPheDMunMSHsVIODYA7Zb4+QcSoMte2hk2o2jxH8rU+NIaju6ZfdgFT5ffXtElRE2h5Q\n",
       "wL6rCpa+X3A5HapybkOjOO2Xk+k1ev1C2v0xDV3WKJ0Gwiq0CRq8D4W015wyB9+zH41ZVXeJ8tSV\n",
       "K0Nf7yRixR7c0IAcee1CJEGMCsLBKsAAAAAnAZ4cakN/AAS2MlIw2IgGZrNPfEIWGGXpzV0bueGK\n",
       "tpXn2EDh0sdNAAAAUUGaHknhDyZTAgj//rUqgADFbDqACJUfDux+8BHO/Jsn61R+cuO9bbFmdGIf\n",
       "bTRr9ZXqVGMZHkiaSM1fVsY588fsf9feJiU6RfpCKsq2bcZPsQAAAFhBmiJJ4Q8mUwII//61KoAA\n",
       "4793QBQbz6zRngGJwO57b0D+ytPi2iLh/5xS1CZiyQumDC9H1nsY6KE2uinibQPB5CC0jTue7rTG\n",
       "c96m6PgT1yHmfPm5S3ZwAAAAH0GeQEURPDv/AAN6CP+nY3p+cRG3pjh/pOr09hs0JSUAAAAWAZ5/\n",
       "dEN/AAQ19ZqqxRW7qsfCuchYsAAAAB0BnmFqQ38ABPnnyOc9BdYy9JbtVrYXZN5wjJyXgQAAALBB\n",
       "mmZJqEFomUwIIf/+qlUAAWTx8AARleWDSHvYTsi46B/LbEMjBLUkmLLURk65dbpt/OpKlMwm+lPD\n",
       "puRVaPPN0FKxGonGR1qPuYSGWYMUgkzOtDzU4MTusA/7MJJ2ixbowvERpJcV5DCkyV7NlCpLOPQS\n",
       "lvHDBz18pe7FOkIwHOgqI46G7WLzw/PV8cqyjnCK3t1e5vO0qjgY7c47K3VCsvF6BoH9CQw0CD3N\n",
       "xjFT8QAAACVBnoRFESw7/wACuKvXm2N6fmQToC5YCH5dm7GJhunSf9D5GUqSAAAAFAGeo3RDfwAD\n",
       "EITNT6jEhiSwbfpgAAAAIAGepWpDfwADzFCAvtoQaQZk8//IC7uvWy9PzV7k2z6HAAAAWkGaqEmo\n",
       "QWyZTBRMEP/+qlUAAYz46CRZyf+hmMQAZdr7vtjtOuGAGoYvUjuspbCggAUlFp4cmkr/Y6s1iteY\n",
       "B6r0orUCc5md9AbLsvc0IMbTlAbtciPEHEp3/AAAABcBnsdqQ38ABDYyUjDYeyez0c3y9AGRgQAA\n",
       "ACtBmspJ4QpSZTBSwR/+tSqAAMVNGHjR/xjxdmFCXZeACuloIdve4jk1+PmAAAAAFQGe6WpDfwAE\n",
       "NjJSMNh7J7PRzcXQMQAAADlBmuxJ4Q6JlMFEwR/+tSqAANp8/hrAzBRMwTqCR684Gbld55DIfo95\n",
       "VgSl/f+n19P0UIghY7IbzosAAACVAZ8LakN/AAS2vQDnPSp9GTm1O0xRhAuSAAhxD5QqjQ7GBl1n\n",
       "0H8UUcKlbeqtyRJprpA7rHnhRgGVYlH2A+0fTCtNcOo/Qnmc//w6F4wdhmivJYIRY3YNsJltaky8\n",
       "+MZHH7lAGY+r3yLQRmrUa2D3FQ5ys/l3+QtTFs4dCsmzJeKh2hZf8gKApvnllgp68uGv8IVkhX0A\n",
       "AACxQZsQSeEPJlMCCP/+tSqAAOOPJ0NwAQj6LyEoLqROVAMftCmgkeaHPwahFz9a0xDlIWhHAgZa\n",
       "WOl9ggCyBWd6pXRQDooLlc3rDVw4LZpg3MZpSx8alAv77opbktg8d/TRrz/+ENKsjOVczQbHJyHE\n",
       "w7OzEPuzfc106Rj53OPx8Uw8zGQUDGggxOxPbE1scyQBOY7A+ZVnIBc6f0aTTReULOIc7cAHz+qs\n",
       "wT7vVgpMBsjBAAAAIEGfLkURPDv/AAN5tLZe+XFm9WU8ZSo+gOdIfUgy4AiwAAAAIAGfTXRDfwAE\n",
       "+iSmkxfKI+C0pwJwCUilLZSeHGFRiS0fAAAAFgGfT2pDfwADYAChrOgwTBYbg3C5UJ8AAACpQZtS\n",
       "SahBaJlMFPBH//61KoAAspQ6gAia9MmZeTGBI+QN7rhYJr8kqvOVk5rLz4j4x1biRAgBcWvjpEvx\n",
       "D94fKyesI1jsvamgAxkviWv/DBrB+pEZWhTY9D+DFvDmtqSN7V4co3Yr9k54YzZY1xi3ldqYPj69\n",
       "Cacau1luPVuk9SLovDbD7yq319sKbliblPoH1WnM/n2sJ69ZlCoWF1WTKaH/tR9pPtO+uwAAACIB\n",
       "n3FqQ38AA8xQgL7aRjuWo9ofU5MPVu9HbVEm/+EbTt6AAAAAgUGbdUnhClJlMCCP//61KoAAvH2F\n",
       "EhooAhy8DLgHx+ZRMIhpQAEgvCvpE5O8qJAabfbMg6O2OAn3Al5y85M3ADBjBQd+4Dd5MgsCF1Mv\n",
       "074YjPgfTjL9btRscG2oa1PVVxglTa6tz7Xc3tVhfoJ0ZnR0bIKdW0YNNDtm1lQ5tY7soQAAAEJB\n",
       "n5NFNEw3/wAEak/ZFb+Vn5xuXzFUEgAcU7HyQQiAMV59HFzomzYCCZ/SyLr4E8Y4xzUksbaGZscC\n",
       "1Dv65mdh7wMAAABAAZ+0akN/AAR2Mk++w1owx5KDzNJTCc5sAJ1qpSblGpbUYQpJbi8hX2bSvu3z\n",
       "+KLK5MCbjnYQptkyELuKOUwi4QAAAMdBm7lJqEFomUwIIf/+qlUAAXcbnS4dEBkgKrdtwX2KABwj\n",
       "clRh6Hjf+d5itGin9wjIkVD0FdrXEowucrWUCVfR6myyGUYQzFlkk9gjdy3mCdVDHCsbSFk56+fV\n",
       "jjEWqbiLWKFZazT1q8mx7Rwzf/H5ILvOWPWi7KyUoXcIRDeQFSEVjWo2Uw6KzGjwUBrpHKftKbkH\n",
       "ufddXmvfk1oqav036llYgPXb8Ip9lZX2qxxSEigiKwTieUaG/C4YLvVisnkH8jzawjO4AAAAJkGf\n",
       "10URLDv/AALcYpuV6kY2NQB8Z63GHV4uZBGAQuHf6a1EEjakAAAAGgGf9nRDfwAD96bSqsUWFSxq\n",
       "NUOMm0RakpunAAAAGgGf+GpDfwADEAChrei8EYQ/PZYgA4oFPCdBAAAAKEGb+0moQWyZTBRMEf/+\n",
       "tSqAAIwec64BwrNTo0g+zd23e1YQe8IONUwAAAAwAZ4aakN/AAT8jYABLwAJPjHGiPaI25DMEuj+\n",
       "QBwH+W5wJKNVgXkLJMQv3QYG347pAAAAZ0GaHknhClJlMCCP//61KoAA4793QA6V59ZozwEn2dp3\n",
       "BoMNAc7KEbsj84pahMxZF3AYOr3zpX9mLdi8Js+9BqzMxSa1lQgGhv636uNIm+HD9a6jd8gfEmnN\n",
       "mhOSFPo+z2DHiPvx5c4AAAAlQZ48RTRMN/8ABPk6Q1nJQ9UfRLZyXT4kncDerOGH5DcjSm4RYQAA\n",
       "ABgBnl1qQ38ABHa9AOdVwWBDlJa60aL/onEAAACqQZpCSahBaJlMCCH//qpVAAGKvIyvZmn3kAb4\n",
       "TWEAA2JAHyd+ZGyhxVpBABCbqDj0klQ5sBO3FgLe50IbbO2W5d2T31hpyLnaCAvhVqGudU6Rb29C\n",
       "/LXu461teG0i4VWqxEeP1RBBO2+qbvKOzljJqwVU+yquZgd5E3nISjK4EHMVM7hzBOw7ijM5/Ccp\n",
       "WleIRRyrV7iproRQVdFGkSZY5F62w5EUGy7rY/cAAAA8QZ5gRREsO/8AAwG0tl3+1/QATtrLFhyp\n",
       "nQBXb6j+Acd7pZ83XT0Kb/7/D7EgfZFtf8C1nUzxAXm5HFNBAAAAKQGen3RDfwAENfWaqsUVu6rL\n",
       "1aQAcgdHQZfsfvR0QW0lTDB4BbMMEWzAAAAAIQGegWpDfwADy9q/K0pcEr8hmb81KUkUciDZv5RJ\n",
       "wJihiwAAAFZBmoRJqEFsmUwUTBD//qpVAAHHTlrgDcIvGzMbyjkP3C5D/pMr32UUGaJPPfp2wVtl\n",
       "2Qvx3Kytd/+Cj+A1b+nLv8QIIiGaPiPq2u0lLDu1AdtPuaXpSQAAABsBnqNqQ38ABPk6QEPnMxl6\n",
       "k1QJcBwzg8Cp4eAAAAA2QZqlSeEKUmUwIIf//qpVAAGeyjX2AeOWfET0U8rk+3XxZdUm0BmJWtuY\n",
       "ATgBfnz4B2doswTAAAAApUGaxknhDomUwII//rUqgADGfPz4fUYJEQoAhy8DLgH5ox17zsTkAB2s\n",
       "KItPsk+SFxfx5bG+zWfidxl6GfO4aQuIBFdxrucHf6vBmPgz45FnXltHhc5WUhILimJpJE7YwzCd\n",
       "7M0b7DLs0DXyWA8CMlgtUkSbFRKpKQ0zi46dWNg5caKX5L2yywVe7RUa93vaii6PnA9fTnBjHdBq\n",
       "VgHeoAT4emngmQAAACtBmulJ4Q8mUwII//61KoAAxU0YeNH/F+M/+Hszc8+5AuvX291OmRpc/HzA\n",
       "AAAAGkGfB0URPDf/AAQ2vQDsYTFiBRdzEFD8j/ZfAAAAFAGfKGpDfwAENr0A51XBYCy3qCULAAAA\n",
       "20GbLUmoQWiZTAgh//6qVQABx0C/gCg3lhGojAYNmRg9t6DDPgrQpGRkOq4Wzp7RgXBbfqF9U4jr\n",
       "j/+NW0OV/6GVQ4cc1qh0wM2/8OFJwrxZrYg3g5qCS1RgI2HnqO25gfUazkzgxKWDPZDv7DyfNq/v\n",
       "/TWsOhn71bvbp5IL9iZ1Hnk6DFJH3xWd5g1on3OKW4bELsxwdBtyczse5yYIabT2AYEvnDvLvAP/\n",
       "+7IZyCmt1e5vO0YTgMdIEX1q/7fCWd8wBkbIe9jCTRjKeiy+Bgs/b6lI/Y0aTtJ3QQAAAC5Bn0tF\n",
       "ESw7/wADebS2UeJ5Z4akM3o6GWDnTKfjivKnKPmQU4x8oyGjHVKysM+BAAAAJAGfanRDfwAE+iSk\n",
       "sObUSTTnqmEY8JyDpatIuE253J2CQrGm4QAAACMBn2xqQ38ABLa90KmzatWGwPR6DdQ8rTwdi9gn\n",
       "4R2QVpnz4QAAALlBm25JqEFsmUwII//+tSqAAOOfoHoGP4zpkZgBGV6ZMuOgl1Rdcsj+JYL9543b\n",
       "vs8oc1jxL8ULWQsBeeQ6VY2Q7grCUPS+k6Iiv9vKxDgLVMZ6gyPOoBl30Fcy8VRPVyfigNiw2J6N\n",
       "w3kgg3DBfTZvCo8Ibj6KYnlwwxKF/9ZxDgRfc4bXfJhnsk5YGk8QVve487Gmb6EnCsfeaIAL77XS\n",
       "NbpwFUpVHGPSk/Ncn5ISEPWs1vpmZcbugAAAAGlBm5JJ4QpSZTAgh//+qlUAAcdhZQXxpUq1iVFw\n",
       "QBqyAPk7+jjstjWraACNIuRiIJNWa9c//IR49MwAEiJtK8H9+ZkVDFpW+xSweHcf9uRd/ykJL4Gl\n",
       "zER25JlDD3F3hB23RaSqiaoX0bAAAAAqQZ+wRTRMO/8AA3m0tl8nYs42su0dkFkbgQDFVeMs7Vl5\n",
       "nQkzxgv/LDrhAAAANQGfz3RDfwAE+iSmn7WwUi23aSwNABtF0FKuXLAZdSkhG3aEJIHIuljlzQWd\n",
       "1Q2DeJd54CLaAAAAIwGf0WpDfwAD+FCA5z0U94iBBnBYSZOclAOl3U/oYn8GWhlQAAAAIkGb1Umo\n",
       "QWiZTAgh//6qVQABdxCGBfGW7eUEoOgXslXaUYEAAAAVQZ/zRREsN/8AA/fawjKYHB87DK9lAAAA\n",
       "MgGeFGpDfwADwFXXt369QAaOgFSC6BYFaKr/oP5QoEXAq+4RhSGc/KKc57LXDSZGkbuhAAAAwEGa\n",
       "F0moQWyZTBRMEP/+qlUAAaD46CRZyf+hmMQAZbaB/nQv3u5jzjnXSS2wlGauw1Vld0dIVSjoNuAI\n",
       "djQ5zwu3BYaSqDsA+3CBxtzqVYsDQ/9CEI2ovxrBFI2s0sbRu5iR8fiNa1VbClY7ZEofrfhj2NCY\n",
       "tyQqhxQdn9SqELqTV2iO+Hg+o6/T/KRCBdpC0VqXyeQ9oBKm+5rpnu7OrDH4GjBVEwAhHgNruwTE\n",
       "FQEID6ISkVgKEBrDqgXxB7prYAAAAB0BnjZqQ38ABHa9AOc9GkIdYigffHjdQFA4VDi6aAAAADpB\n",
       "mjhJ4QpSZTAgj//+tSqAAM9NGHjR/739u1+MCuFysdQCZWJ12PxBsBUz6AX+VfxkQgZzG8uTHNyn\n",
       "AAAAPEGaWUnhDomUwIb//qeEAA0/wFXsFya9aqCeNd6DZm1W2wJedKE3NUh6NFJf1R6ET9gOmQRq\n",
       "sUpDXHwP8AAAA4BliIQAFP/+98dPwKbo+WbLnUU9ITCK2PpIKL1Y7NAydQAAAwAARMDHEW1dy48B\n",
       "5gAAYQAAlg0bqXhYdLhIql5zALye8/WEnmLP4vrzuuL4UjGtIFK/due+1+nNNsVqjsNY24KtK0Gn\n",
       "0/ayq2Z426UVB9y0I8Cx+Rtii+saSyaLbwaHz4MDaRgihfKsd8rsG+BOeDGQGzeMxSXTkjqMGaXT\n",
       "pshVxrhFaeJ4/jTyru3KOmvlrPQERpo56yVZaqZST9woagohthBl10n2RTmXo8zS62u3m6c8uuF3\n",
       "aSVOVyUAlPGDJGks+hNFA7t5DfioT+paglXwHTppq8dOOf2AbrN7DOj35CIRX/mBWRSjNGNH0w0X\n",
       "Z8Xl/S+FnW4rvAa45aNTokS2h7mxEfNj2TgyYeh8n+FqzolEMw77RGuh9LhJ44AXiKP/GhxNvAPC\n",
       "VwGDJMPbN3kHX1tjhmIfbNo63C9jQoBjexk9HXCiLsf/556Ij5lMrugelJ8tz4wv/buafWqFBs2u\n",
       "a5Kte1b3iID3Iusiqb/rluMc/ChBIVqXUUOXsdtFO14rW8wKS1ZOENlQJe+oBREdDxfb4JytzUsc\n",
       "AsGuA/ujZGm7x3KeTU+SCXLvsOU+tcE4LJsvJmNc0owLatR7hm/ppObAOS3UOQBGASGyPNV/BHdO\n",
       "qMpWNHnCrcndHuL+lq/aASbSe5QYTPFyCCVFCp0EKaAjSZ/dCXh+JofTaHeTDgHa6PYuuxx3CK2M\n",
       "x8zdlrcddc5F1MoPtYPEJfgLY9yqD4EdRx0myy/9IyUNIMhTlFDm+1YXTWv17MtvXT8hzMELa4lz\n",
       "c7tsMkQbBtuvT8IQT/35ygl2juAw5j53384dDZk0CYLxSNJS1+q2E18xlhBWPszC9bUbPOc5r/ox\n",
       "tKAltQ6hXPbNONyne29IaWP6zID7+k+BpuUw9xuprWpcj+OOuJ8RCt92n5oMhjJCwqK3K2K3lYKz\n",
       "3HORJyj5P/M0AjUY7urzmTdC5LAHEb16IZn/jhHxg6uWL9hL0Z55R/FghqE3wWGFm9nRMAHrR57V\n",
       "T0sQ33I+FmDsFXa4P0jvj4/Ryn8pD6s3Hsk/Crmpkta2eGAAAAsQeQ3cvXngIxObR7hwsw/KiYsg\n",
       "PN7WtxhtQ/9XskaIQbTfzW/1Xeq0oApairE8MlLYAkFtnqe43xRyzIAwAV0BSAAAAwAHpAAAADVB\n",
       "miNsQR/+tSqAAW4fboAWu9Mmffk5KmHEnHJ3v8VhPW21qq/Xl++WUvatfGlvBYasuXRVQQAAAC1B\n",
       "nkF4hv8AB8O1hw1wQAHG9saohnsYTvQ1eMQh/9h8S5ESEIBGX7rb3O6jWgcAAAAVAZ5iakN/AAT5\n",
       "58jnVcFgLLeoJOaBAAAAPUGaZ0moQWiZTAgj//61KoAA45onLgG3HRfYqmeZaAtOf2j0Iri7wI82\n",
       "Jql7qf/mpdKhRe+KeXNhewO7nGUAAAAZQZ6FRREsO/8AA3m0tl3+qeREm82AfWllwAAAABwBnqR0\n",
       "Q38ABPjujBAnx0ObN56d2HSrdCMDu0+zAAAADAGepmpDfwAAAwCtgAAAAExBmqtJqEFsmUwII//+\n",
       "tSqAAMZuD/0NgQAKAj4dSCIRDXuxt89zPgYJRt4Cdf/4WZCg90wSBKWZNDmfpOQJkcs7FupmXH1J\n",
       "lUZnB4yvAAAATkGeyUUVLDv/AAMBtLYi3yVvsIgAEvWAezjcY4RYGyeRxIr6ZXYMA7Fnfn7JRlq3\n",
       "7PMvLMqOxCPZst0irCepv7GmTguWR66cTEUsNGekgQAAABoBnuh0Q38ABDX1mrurFvHDCNmkrIAl\n",
       "aF3qwAAAABYBnupqQ38AA/hQgOc9Gq5hY7M70S1MAAAAT0Ga7kmoQWyZTAgj//61KoAAu3UYiCKA\n",
       "LQMAyIBYerAAK+JNpGbps/NAR+d00NbPitVzGDZCDxfYElJZ2DIgYiP9FXlFl93kzViXA5CPhYEA\n",
       "AAAnQZ8MRRUsN/8AA/fawjKYHP0tACC78e5Rv3a4VgyQFztblCcuQHTAAAAAFQGfLWpDfwAB5ihL\n",
       "ehEmgAu4PVBn+QAAAD9BmzFJqEFsmUwIIf/+qlUAAWS/tNwJKqEAH9gBJ/fMnKJY50yJXUP5jCtC\n",
       "10yETeOL/hO/WT7D+RvQzMbxHxsAAABsQZ9PRRUsN/8ABCpP2RWFjqbPEgA/efKSvVj+B0rtMpAn\n",
       "mGPfowgaQ5R9NbbSzUxlMPZ0Yni0dFh+bo2zJsPwNbDH8g4JO3zA6npOyjSwgi/EkhVbGCBx7L+Q\n",
       "44iHz+inD/2ijl+7H9++bo+rAAAARQGfcGpDfwAENr0AXR0k2jThT4UABMK1VKxK1zne92pYNUzr\n",
       "R9KJq7/VhNsZog7Ictqdvu0uOFNH6m5SOrm5VrfKyWtnwQAAAENBm3JJqEFsmUwII//+tSqAAKmU\n",
       "OoAG7I1iumk+hJZ+g/vZBlbbQks5IJQwr/cZRltVcFx8TZ9au3gDRczDOXurIr5XAAAAPEGblknh\n",
       "ClJlMCCP//61KoAArfqTdAAkpK+CSSZE4AlrvsU/sJayt1I5ugaYu2+MPj8+PVstls4mfGWjYQAA\n",
       "AJZBn7RFNEw7/wADed2gwAmr1BTzfdxter3I8pyJQmptavng/pAXLvN493q5GkbUi2Tg2UNNR1pD\n",
       "6dD0lzGlfmK8ExYM03/6VAMPVlpBGf/v6MkB9mDcudCXaw9Iw9PTyJRJNy1n2lk3cVsoBCRt2uQj\n",
       "adivyo1jRxxLIlI0EWT7CAL/y7kDrToSz+M1q68lwYQqHYFOBHwAAABEAZ/TdEN/AAT6JKaftnOH\n",
       "95z++n+ywsACdU4YRVjPIcRVMPHhE9eLDvN5CAzLJ8ZqH4gP0q5agxoGwMYYaUch9coQwekAAAAh\n",
       "AZ/VakN/AAT5OkNc07eOBrCHY/2/GpR7sWGhontJxKtTAAAAPkGb2UmoQWiZTAgj//61KoAArfpL\n",
       "kJvqAIqbESizUsn+iv4b9VTLn3nts7KcEY62ZLa0p/EnF0D91QTeW18WAAAAUEGf90URLDf/AAPM\n",
       "pTKVTz8URNGpTzcbxVNGsUABOqcMIqyUgYMF3xJo+xw1OLHO7sKC/e6qEBmWT4zUPxAfpVy1HVl+\n",
       "k9PhxvnMMP7NjOmAAAAAPwGeGGpDfwAE+YtTgBb1qHKmh0fH8WrCa9tznhuH7O/WgpqR0Aw9qgvf\n",
       "/z/irj40yN+dY+/70c2u4KGCF4YHHQAAAC1Bmh1JqEFsmUwII//+tSqAAJz9+2Vq8i3/D5uscngH\n",
       "PFZQGx4HRJqtxcD8oIEAAAAdQZ47RRUsO/8AAmDkmpJv3631n+tGURWNedMctekAAAAUAZ5adEN/\n",
       "AANghM1PqMSGJLBt9SAAAAATAZ5cakN/AAM4AKGt6MCNFGABJwAAACRBmkFJqEFsmUwIIf/+qlUA\n",
       "AShZmWnlF8Uvba9UKrPjuCVSjukAAAAqQZ5/RRUsO/8AAoKhpq6Y04LQeQ0WIVkjGtF/hBJYs70u\n",
       "AsS4HDDZ2ydgAAAAGAGennRDfwADiabSqsUU1MMKt3Vm93XEpgAAABYBnoBqQ38AA4nawjDYffH9\n",
       "0h7igUghAAAAJEGagkmoQWyZTAgj//61KoAAnB5zrgHEPQYdcSWvuCIGElfRQAAAAMZBmqZJ4QpS\n",
       "ZTAgj//+tSqAALx9hRIaKALFuBlwD80yIlvcRJQAEhVJFgSfXgr6AGvGH7Aajs7C8QTvJVdzeF/U\n",
       "rReyCdFgqH1oYwU2Y4DoUBkosr6NVyZbMI3MtbiGzg+grTes4tIcUysK1fs3NUxVhbVVear/9wJN\n",
       "mv7f8nLM3zj4m2uUbwWs46FuOF/EmPv93lLyJtj8P+EZFRTEuc8HmxeJbSiEa9yKCeetR964iz/y\n",
       "S+ql/8VThhHuyPaz+1P+LwO8Yi0AAAAeQZ7ERTRMO/8AAtyr15tjepdV1w78A6sNi4FfpAxXAAAA\n",
       "FQGe43RDfwADYConhnmnsgHi+aIRcAAAABwBnuVqQ38AA/hQgOc9GtyyjEbsWNQPRrHhywZRAAAA\n",
       "LUGa6kmoQWiZTAgj//61KoAAu3UYeNH/GPF2YUCCjdD5qrrrDhk7wZEssAm1YAAAACZBnwhFESw7\n",
       "/wAC3GKblepGO0oaBzCDDHDqAqPBic0/ToWBXgJ7ZwAAABwBnyd0Q38AA/em0qrFFhYwbCnCOs4f\n",
       "NRDX/RHZAAAAFQGfKWpDfwADOF0mIL9TcBZb1BK0gAAAAFxBmyxJqEFsmUwUTBH//rUqgACuFPQI\n",
       "ArbMWZNmy5yQgVkB9lH/0OENkuAnYUcCaqP+D787AwZ7lkWJKmWVAbX782cW1aKM5WsX//hG6Ch/\n",
       "vJ2wlHQMrDy3icURewAAABUBn0tqQ38AA2BdJiC/U3AWW9QSq4EAAAAvQZtQSeEKUmUwII///rUq\n",
       "gACp7KShUeh3BpNkfItswes67bjc+tquuLYGNHivlYAAAAAgQZ9uRTRMO/8AApSr15tlsGftqIBo\n",
       "J0gUlkK95RgFIsEAAAAbAZ+NdEN/AANf1VLFFs1hVc4W/FDvqsJEItJOAAAAVgGfj2pDfwADqjxF\n",
       "xvcIrQAIcQ+UKo0OxgZdZ9B/FFHCkDvWulLqOzyp4n4D3vmrRAtY8PkngO6SW80wwAPCxG0wyvGT\n",
       "0Rf1GVeA+FFZ2ZEMDPvKF37hAAAAFUGblEmoQWiZTAgh//6qVQAAAwA9YQAAAExBn7JFESw7/wAC\n",
       "1ZQQsJgBL1gHp88haYWqhJ3iNOm6o8qhjhIoHbJjsL9eCCH6VURbx0P/JP5TwkwqrvGs29Z48o9W\n",
       "kOlMBineoc1ZAAAAFQGf0XRDfwAD+HvaxAUbMTo/5cWLUwAAABgBn9NqQ38AA/hQgOc9ECKZktoG\n",
       "Pjqiz4AAAABMQZvWSahBbJlMFEwQ//6qVQABZPHwAB0rzkp4fno9Nsht4HvuaaZm28jfQRwj3PJA\n",
       "BiYZvofY5seYGa/XagnS8rSFZ1mtjow8vK+NgAAAABQBn/VqQ38AA8xQgOdVwWAst6glKwAAAE5B\n",
       "m/hJ4QpSZTBSwQ/+qlUAAYz46CRZyf+hmMQAZdr7vtkP3hVzxppU919DdcMPK1ho2kOOtRXbopfB\n",
       "JhfOXKsGcR3aN3/Tck6LgYEXS4AAAAAVAZ4XakN/AAQ2MlIw2Hsns9HNxdAwAAAAI0GaGUnhDomU\n",
       "wII//rUqgADFTRh6uP4onlb4YtUGRY/1yZsxAAAAj0GaPUnhDyZTAgj//rUqgADjxadYBQb0wUGz\n",
       "novGqdttRX9I0fnQfb8CR8AnivvbuHBgJOMu+yI4ZES1zsV0XWt75dvm95K6WAL+dba0g0vtOc4v\n",
       "x0fa4N//43qwkZy0EH4oGrQlaODBj+n0kvMXQtW7aWhalCwmgaRK2C7Ysb/4HEhPJW/FbhsRZikP\n",
       "4onhAAAAIUGeW0URPDv/AAN5tLZd/qnjHHAxgmVe9H8rnrnrQfpTQQAAAB4Bnnp0Q38ABPokpLDm\n",
       "1Ek056omICx1acypB4tof8wAAAATAZ58akN/AAMQAKGt6MCNFGABNwAAACZBmn9JqEFomUwU8Ef/\n",
       "/rUqgACMHn1cJ2tj5r6bpp0zUIc+3K+0gQAAACoBnp5qQ38AA1/d6NQmBWgc3TFr49xg/cbFjeXI\n",
       "3GDhu/MZGyTDDIhok+AAAAA8QZqDSeEKUmUwII///rUqgADjv3dAFBvPg4yXezxgDuegqB/ZWnsH\n",
       "Hlh/5+VrnCWmBuEfUEDuvJwIIlbcAAAAS0GeoUU0TDv/AAN6CP+nbqCwdSSwmZiF59dlzgAC6UG0\n",
       "2Av5UVKeZS/Eb16Yt4R7QtOzfrgaFZYl57Sl6ci41vW87+ZCMZH9CONkDQAAAB4BnsB0Q38AA1fn\n",
       "rIrlTctJsZQYDyJpbwUffrvy8QQAAAAjAZ7CakN/AAT558jnX+dFvwildxpgTbbYk5+FBDEtMIoE\n",
       "34EAAAAUQZrHSahBaJlMCCP//rUqgAAAHrEAAAAQQZ7lRREsO/8AAlsIFpyXgAAAAAwBnwR0Q38A\n",
       "AAMArYEAAAAMAZ8GakN/AAADAK2AAAAAq0GbC0moQWyZTAgj//61KoAA48WnWAbhGr4R+8w7tf6j\n",
       "U7QRWJEs3Z+cbBGmvJKc6jjz2ebXgE/Fno2ZWwmvBE0M0qchyv0i3KepF/QK4wg457TFU78F2Ttv\n",
       "GweO/qJKef+CejimcHFBIIHpK+NYGa43b+GCHkwtNhOQfvHbsP2wRLfElBesV6Pv3F7Aez5UoJvy\n",
       "8fgcNBYe/ZNVjfXr7DWQAXSjsQcUa20PcwAAAGVBnylFFSw7/wADegj/p2+aD1jhs1RfgAvZKULv\n",
       "V2uOyrrPoVt+oeUgd610pb1EBrjy4il75q6fI+PD5J4Duklw0kkADp4eADBjjI1zpp0USyNcGvPp\n",
       "mljPRUx+A6tyI4mp/VzPgQAAADEBn0h0Q38ABLbGvpH3xwd6NjrFi0AO8Piy3i8aS9mYOsZv/ZI/\n",
       "SIekquhemfK6kINSAAAAHAGfSmpDfwAE+TpDXL/3tfKQ8ehfX+S43aThuXAAAABaQZtPSahBbJlM\n",
       "CCP//rUqgADjmZh5RwrbLv2ztv8rIwAAsNmIlUkSyfHzQjbYobP/nil1XevTrPuMlcYfXciVfB2+\n",
       "94VZolu9DkpwlfbMULAVKFJTIRX5azrRAAAAK0GfbUUVLDv/AAN6CP+nY3qU7+zOUGcQIQFblAti\n",
       "Ec1khzxc22Z6WLz7k0AAAAAPAZ+MdEN/AAJq+zlkbbUnAAAAJAGfjmpDfwAE+efIXR0k3PqHLbxL\n",
       "JI9vltTqXhhnT72uFDJxwAAAAFRBm5JJqEFsmUwIIf/+qlUAAVwQhg4Pd3TQu1EIQgQBWrUtMb8K\n",
       "Ar/khbcWSVHPbRSTNVbv/D1NgoIf/p+BO2iVkoU7vUmGryWCNo8J+BU/S6H1vTEAAAAuQZ+wRRUs\n",
       "N/8ABHYC2/iAWRwOQSDN6cj96hcrwhkK/phzJMB8otTi5NV5tsD0gQAAAB0Bn9FqQ38ABHa9AOdp\n",
       "9yLm1SZhTECt2yb/z+47gQAAACRBm9NJqEFsmUwII//+tSqAAM9NGHjSyEdq4fMsfNFdVg6UVsEA\n",
       "AABGQZv3SeEKUmUwII///rUqgADF2MSuALBbUa5UaWK+/CNzWkefK10TYTjRia8MP/yfgTrBl7S+\n",
       "iDKYkuSNVt2/yRL/iK9+QAAAABZBnhVFNEw7/wADAbS2XrsFQA1f7GLAAAAAFAGeNHRDfwAENfWa\n",
       "qwKFwPFvfcYtAAAADAGeNmpDfwAAAwCtgAAAAHRBmjtJqEFomUwII//+tSqAALuUOoAImkC2gzOs\n",
       "Z1Z8gehgxlnWhNAraKAAkJCZDNNsazIzOANKoQk/pYPsCeU/s13ZhI8ZAghIEZuSFx/gRgWXBbKV\n",
       "Rj1yRgHE1bOZVg/0IL36O5X+rMwe8FQ8hfr45qjkrAAAADJBnllFESw7/wAC3GKbl/6AC6rnbw4p\n",
       "BspBr3BmvbDIVwlK//cbwJkc4QYBz86wltrPgQAAABgBnnh0Q38AA/em0ruizmU/rxzIAUVxnqcA\n",
       "AAAnAZ56akN/AAPMUIDnVXS8IAOcgS5Zv9eEAsziuwbSW/hWH6++OuExAAAATkGafUmoQWyZTBRM\n",
       "Ef/+tSqAAKmUOoAK39KyvJay2uCPL3qI/NzDKrx2F+3g0nh1e6jCv/f4JUDBDF6ELFeQuOjkYecw\n",
       "d7OIFT1J6Pm6PAAAAHMBnpxqQ38AA6o8Rcb3CK0ACHEPlCqNDsYGXWfQfxRRwpA71rpS6js8qeJ+\n",
       "A975q0QLWPD5J4DuklvNMMADwsRtMMsEi8UyM1celbCvgoXaPMgtAF7HUMEhvX0qtUb1fHLEXxP/\n",
       "rOi6UfcpTX2dHokEysqAAAAAMkGagUnhClJlMCCP//61KoAAqXUYeNH/F+WzC6/84ny+2x4qeKf/\n",
       "RlykF2337xn5WcWBAAAAHEGev0U0TDv/AAKUq9ebYGk2rcMmmBeO79Z9sqAAAAAgAZ7edEN/AANg\n",
       "hM1Ji33R8FpTgTgEfdKV8VYcplkozi8AAAATAZ7AakN/AAOf2sIymBwfOwyviwAAACdBmsRJqEFo\n",
       "mUwII//+tSqAAKl1GHjSx0Wvw+jZughXCY0LfyOr2hAAAABRQZ7iRREsN/8AA+64QHZACHzsbzMu\n",
       "tVmJNyL2MYYoxcVU51Aa922hMP3zX/YCjoCRrUOCbB1CoRbuKlZvU4KzV6Sh0oHCe++VA1N3MgK1\n",
       "B0frAAAAdwGfA2pDfwAE+YtTgBb1qHKmh0fH/lLCb3F3Pff8mSR0jkKpMoB1drjAy6z5FM6N9FIH\n",
       "etdKUFCQ3/1zbOyUIXqf9SLc+nw3pfeSoFUAE704qO+pGVUaRoBh4FZj//tIFdvqGRmOd08osQSk\n",
       "IgH6sg28dlDY1GYFAAAAFUGbCEmoQWyZTAgh//6qVQAAAwA9YAAAAA5BnyZFFSw7/wAAAwB4QQAA\n",
       "ABwBn0V0Q38AA4j+TbNrkH5kLHQW4sVpYx46752UAAAAGQGfR2pDfwADV+esie6AIR8BeJ7TSMKi\n",
       "uHkAAADLQZtKSahBbJlMFEwQ//6qVQABtPjoJFCWQgvyKuVeOg/UyODwzAKDeclPEE+/490UCbrz\n",
       "qJPHuhLhlPWRYnIL5LGrbz7X/DhNyRj0AbB1cZ8QYElvcf9wrOmvvvfAiswJ9z7mKYhHSomYWNDO\n",
       "Jy/WxeaBxUORaRVaOD0ftXFGoRVWSUG17hxiPJwfn9j+g+mTBQUH5K6IJ0uFyu9l6g30nhzVoZaP\n",
       "AFEkW2GV+t5Fu18sfzXg7UieGnQKsgSmqPi9Ry0iZ+HKDTuKbaUAAAAnAZ9pakN/AAS2vQDnPRpC\n",
       "I7g47Qi6JebxErgXPIdgYHtshRoxs7/AAAAAq0GbbEnhClJlMFLBD/6qVQABx05a4A3CLxsQL0Dp\n",
       "YfuFyK/1LOsGNKMvfNU464iJv7D3CEH+2qSNMVIWbx0UNlZ1+qW7l1SGYUUzNUPS5K1vEazPzqrv\n",
       "BhEyTR8Z/d0WRokd3yxmY8dz0w/J/wQPuHhh/ixpPnxBHEfHJtOqU5B+ze7EvuLxZGG/CevAVBQU\n",
       "a3NSanSN3j2PXVYNd0lgWBCs7+6PYIEJ07TtoAAAADMBn4tqQ38ABPk6Q12PB/I0CdRPdbp+XieF\n",
       "tXlMw4K3bYYhe2piP6sLLb6O4S5tV6GwATcAAAApQZuOSeEOiZTBRMEf/rUqgADZUbHd8H94wPCO\n",
       "HLDD1/3unxie65UR7mgAAAAhAZ+takN/AAS2At82Sqsq37U3HxZB3Ge39wup82ZU5qWBAAAAr0Gb\n",
       "sEnhDyZTBTwR//61KoAA45+gedWw6GACIJFwcSBcyCT6PuzaYQrsjzZjW4XI4bKGY/IsGThxexW2\n",
       "LvJJij+ywFW/A7YFgI5CnMkT/c0PkoQi0+uLnedVx+mDI2gj3IPIin5Ea4XilGSDHXwZAxbRPF2E\n",
       "lioULH2isSFU+4Qhobv4By7LAl/ZJfHD6+eZ922sPqRAk9KNnj3gdY3DbWfQ5Hy3piNKVlgABU50\n",
       "HpAAAAAfAZ/PakN/AAT5OkNcv/eMvFYdAqdqBuwHHg1lgvCwIQAAAGBBm9RJ4Q8mUwII//61KoAA\n",
       "45mYeUcK2y79V/hkxGRZbQd4DgDmXpkzRnl7V4CkS/bNwIQo352rURZkfs43uL8wnpTiuCpeEDWV\n",
       "5M5jERI0AsJ69MpImIXbOyml4S7GuxEAAAApQZ/yRRE8O/8AA3oI/6djen5ku+cizP8AcnWaDsiD\n",
       "HbxoHMfUhfNwi4EAAAAfAZ4RdEN/AAOfptKqxRTUqgp+AsU+ui3TBgoRpUwdwQAAAB4BnhNqQ38A\n",
       "BPk6Q6VzY8L0mkcpAzK3JzoycYhaqYAAAAAkQZoXSahBaJlMCCP//rUqgADQfP4awGSSNRhsQ/i7\n",
       "DLqU0orYAAAAF0GeNUURLDf/AAR2vQDnVcFgLLeoJPyBAAAAEwGeVmpDfwAEdjJSMpgcHzsMr0EA\n",
       "AAAUQZpbSahBbJlMCCP//rUqgAAAHrAAAAAYQZ55RRUsO/8AAypH7SomxgNNJ/6+En5BAAAAFAGe\n",
       "mHRDfwAEdfWaqwKFwPFvfcXdAAAAFQGemmpDfwAEdr0A51XBYCy3qCT8gQAAABRBmp9JqEFsmUwI\n",
       "I//+tSqAAAAesAAAABhBnr1FFSw7/wADKkftKibGA00n/r4SfkAAAAAUAZ7cdEN/AAR28RafUYkM\n",
       "SWDb0EEAAAATAZ7eakN/AAR2MlIymBwfOwyvQQAAAK9BmsNJqEFsmUwII//+tSqAAOO/d0AUG8+c\n",
       "xCXH2WvB3PTcxwi+rxgRnsw80IBTVRxUE3GNRc+fq3qDhPdu5HjVJZnlhuZXN1spC9ZCaJNcDJ3f\n",
       "6UtevmPvQSxSpIWKYXnpT+qGJ6Ak2K0EVbhd2snSUd/qB3WGGZB5LyAlHCLdZpA8/2pCtu9lE6J9\n",
       "o4NhpWQ9ebg2IjhSGDHowI1KmIbOAnPnVwBX3RgEj8b8AGPAAAAAIUGe4UUVLDv/AAN5tLZd/rUn\n",
       "5IaHbEnTK89lR8uzUcJVMQAAABUBnwB0Q38ABPokpp66f7/Na4fBRVMAAAAcAZ8CakN/AANgXSW5\n",
       "McRMupDjnIdT2dOdDgFQgwAAACZBmwdJqEFsmUwII//+tSqAAKnsv9Yfm6AIsm9ts/CN/yVFdhpR\n",
       "qQAAABdBnyVFFSw7/wAClKvXm2t4lOODSd444AAAAAwBn0R0Q38AAAMArYEAAAATAZ9GakN/AAOf\n",
       "2sIymBwfOwyviwAAALlBm0tJqEFsmUwIIf/+qlUAAcdOWuAUm842OiL8+UkPgvmAaWITu/S8zlrl\n",
       "9ofEg4O5s3MKTEIA6qT4l9c2EMyaOCSWEixjhVj7XQ24RYcV05RIxx3HBDwkNrWC7flXHy9sGOI7\n",
       "P4TbQ5gx0CcQvwxKXsR//hzuCwaPyJ1zGmzZZuqVN/pY1fnP6+qwWd5qXG0ajOHMPufeHUkhVocR\n",
       "MZn3UvaEhkiD15rAX3jSoq4oN69VezbzaSREsQAAACtBn2lFFSw7/wADegj/p2N6fmQTqG0XRS0q\n",
       "+j6hN2cYB4r+J1/HuhuJCQF3AAAAGQGfiHRDfwADn6bSquFxPIVN+FgITvtC5B8AAABmAZ+KakN/\n",
       "AAT5OkBD5zMXkrUa+dF7RhFg6TwAIcQ5HBWttVY3nS0v44oOY0NzWXZHkvfJqY131ZAK7jav/vp5\n",
       "JcvR9NtrJSnboIZtkZGpkt+3Y844pwJ1c3ZKN2j8Vb18+KJq4sN6AAAAc0GbjEmoQWyZTAgj//61\n",
       "KoAAu5Q6gALVB0Q+/YwvazXRqeeB6QQKE8AKdrMVfNLefY2U+qeLjb55OY379itmDXcxvA4E42Mo\n",
       "PA3XGofrHQWbD4QJK9eEgi6OpLOfvHSMhMjWKdx9GnJIjlhlDBb/9CjPyDkAAAAwQZuvSeEKUmUw\n",
       "IIf//qpVAAGM+OgkUW5nEyaXUJAb6Gb2xkYGLxbxn9blvoZFjupgAAAAGEGfzUU0TDf/AAQ2MlIw\n",
       "2GCYLDcG4XKgkwAAAAwBn+5qQ38AAAMArYAAAACUQZvzSahBaJlMCCH//qpVAAGLUGEFaBVVZku+\n",
       "XMAHSvOSnV/9Dx7PpNkKO5LtCOR7fShxpcgTL1tObbBc0s/+p7lapCr+m+gVG6+RIzwM3jnWkNZf\n",
       "nwrZTA7+tW8QBmVmT2l8b/Jut6xOncFxjf1e5vPf1y4GO6gOyJqsYt6CHLyxCwWP0QS3snUqXRRG\n",
       "6ZNU0SMHZwAAAI9BnhFFESw7/wADe+agBbSDwLNl+KJh6Hzxhy1dniH/dyFfIu++QBhQdVkZ88yZ\n",
       "gOn+jiiLj+Bm9rXbP5gymRnPuWjJnpXfbPQk1/CxjiaIp2lUhbau7L8k33MsqQYskIZJa4ZzX1Jr\n",
       "uJUlU702nr9QF38NOXqhAvwsR9ENmIWK5cn5pnHcyGsBbrumBn4KCQAAACIBnjB0Q38ABPjujO2S\n",
       "14HGg08m6p+xbgAqwAlsgCdIGS7hAAAANgGeMmpDfwAE+efI52U3Qj8BqSMKADR0Ap4n4FTympHw\n",
       "O1ZmU7iiAm3vRTgGigREvREmiL0PuQAAACVBmjRJqEFsmUwIIf/+qlUAAcdhZQWAaCHuWgiPqXkt\n",
       "S2GH7zKgAAAANEGaVknhClJlMFFSwQ/+qlUAAbKVkGuPHLRBCJTyuT7a4w2LenfpwxcsrbuObVmC\n",
       "07FTYPIAAAAiAZ51akN/AAS2MlIw3LM0aDx2151bbLadAB+sljnOdXnYuQAAACdBmnhJ4Q6JlMFE\n",
       "wQ/+qlUAAYrKNg1x46ChcVuybPjAcTKeAA0otoAAAABIAZ6XakN/AAQ2MlHBwDssjHAAIJ4Bi2AH\n",
       "ERvoz8wNuzTcHfj6F//wusAFlZYGcVPDvEgn2vdc5tzTHUVKQnh7osFq3YEFIz0kAAAAI0GamUnh\n",
       "DyZTAgh//qpVAAGKwIYFgHH7hdcG0SAwrLuNKLaBAAAAJEGau0nhDyZTBRE8EP/+qlUAAYrAhgWA\n",
       "aCHuW3nqXksq7pRbQQAAABMBntpqQ38ABDYyUjKYHB87DK9TAAAALEGa3knhDyZTAgh//qpVAAGK\n",
       "wIYFgHH7hdcG0SAwrLuNnk0bz7H4Q96hR/lgAAAAFUGe/EURPDf/AAQ2MlIymBwfOwyvUwAAAAwB\n",
       "nx1qQ38AAAMArYEAAACTQZsfSahBaJlMCCH//qpVAAGKy50unnlkLqDb8AcrYB5KL1hn3dUgwNKt\n",
       "9JeLCzSfGX3mX4lGuDE/oEG2XwvbreGTlopcClVJYBSj/6OS54m1BvuqRx9PnVWr2XlSps4kV+Bm\n",
       "6bsAZwNXcldt9XX2OwCwLc5/gpiB4wkbuKIreQ9ULm+2PrquLocT1vDU5t8d+/3WAAAAO0GbIUnh\n",
       "ClJlMFESwR/+tSqAALKUOoAImvTJlx0EwlpnuBOiG6p2wNk2ScZup/ms71bMPV/7+hubNFfAAAAA\n",
       "HAGfQGpDfwADzFCAvtoQaQfd+aGJ3KDDHPlbnzEAAADCQZtFSeEOiZTAgh/+qlUAAcdOWuAUm8Up\n",
       "byxT+RUkGyuVKKDjvQWinWzbVCEBnhQVo2ufdeFQnvTli4Nhwwb7rWdeC3BYgJzaprV+LCvikcDK\n",
       "gb3yM1NouBvjr1ZgvXydPgsPuCHHgDAwMzNgD+7f/HjnrCgZf/w9uUyUB27s1hu1nVXlH771vIRI\n",
       "LTRewXStQNQlp7abg5iF9015g69+moJLXjjG/fSs75Or4HpEZVK5t450t9QoHF3LK2X/oVxtnXAA\n",
       "AAAtQZ9jRRU8O/8AA3oI/6djdpLxx87z+P1zuRpwAQ/7W1CSNb/edn7K0Vvc4G9BAAAAFwGfgnRD\n",
       "fwAEdfWaqsUU1MHj7ms7uTA3AAAAVgGfhGpDfwAE+TpDWdCDCN2fdGkW0gA2UDohVGh9VjedLS/j\n",
       "ig5jQ3NZdk9tknpjXfVkAruNq/++nkly9H022slKdfOj9nFxRnrSTQf1qtVWnYq7hJakAAAAY0Gb\n",
       "hkmoQWiZTAgj//61KoAAspQ6gAia9MmZei2F4GNI5UrOoszE8Q2TTSDgh8qZtTpXrXw+TBUwqavv\n",
       "IYCq/arqyx+s07ntDjprp9/5WVtbn6aJrdJ243RpARhPMPALrRyULQAAAHJBm6pJ4QpSZTAgh//+\n",
       "qlUAAVu/gX4za0MAEzEx6acK8GSUTnT/GyMkhdubhYSi2XIpXB105P2gCS0ypNnBER4jd+tM6KGy\n",
       "qGFuJQJWKN689Q4vW4W/ZNWv4k4Zt3ZHTulXDN5b8FwvNurLmGpNv05D0qAAAAAcQZ/IRTRMO/8A\n",
       "ArjhbSmGxf/K8KI/KAO7jGeygQAAABwBn+d0Q38AA8um0eL18unQLpmJ+FYouKGaCnspAAAAFAGf\n",
       "6WpDfwADzFCA51XBYCy3qCUrAAAAY0Gb7EmoQWiZTBTwQ//+qlUAAbT46CRQlj7AMirlZjRuS76e\n",
       "LOM9wA6GwDyUXrDPu6pBgaVb6S8WFmk+bR4lzKCalMyt01Xnvgu55JxDfY+BDnQeaVHwFkBL+0Je\n",
       "r7B6SW49rgAAACEBngtqQ38ABLa9AOc9BdYy7V5EMXTnmf2rYeJ+n0Tcz4EAAAAyQZoNSeEKUmUw\n",
       "II///rUqgADZTRh5RwopFzA/twupfTWXr04C+L+T+9QOYB9VbuXDJIAAAABtQZoxSeEOiZTAgh/+\n",
       "qlUAAYrLnS49ZcdoeB+jB2WYNEACWNgHQxRypIoNpBP1hfyURPUz3AI6EfJe7DdjY1LkSXJTt5LN\n",
       "dy27+9zc5sKEdNdlalJfusjXKv0BqELoAHnAAA8aVSyCThLAxlAMWQAAACtBnk9FETw7/wADAbS2\n",
       "Xf6u1ki6HOwZKtG10stnacVHdSu8J2K/JCQFeyRgAAAAKQGebnRDfwAENfWaqsUY28AG1SHILHk6\n",
       "V3Ww4uTS280gFm0zbbGskXdNAAAAFQGecGpDfwADOF0mIL9TcBZb1BK0gQAAACtBmnJJqEFomUwI\n",
       "I//+tSqAAJwi4jzaQeH/sfmvyDo9FxyEnBfMTkJKdymlAAABCkGalknhClJlMCCH//6qVQABx0C/\n",
       "gCg3lhw8fLeCqpGDtTBAH4KyBK3YOqj0ZRtrOy7jdsP3sQBqGLqYAOuFz2jAAKBjaoBIqYvyqg7z\n",
       "oCYo7tvsgbT3shaOOy4mb7djFj2fJnDNtraoLPcc5EK6w6VY3j2yXjYIqfBPwYD1MeBlIGF5DZpq\n",
       "64bqBHuCsv/wP19cWo4JnZTwvqY5Q/W+/0MVjXQMzbu8JdBKZNEisx/Npy1uypFfkLqHNa7Gssuq\n",
       "8kfvtQqUe6SjooOMo6hqy/pPEYEmaBdko1yGuel/xZYALGnCOaNxrGN1UJUdefWpjvSv1nTWMExx\n",
       "r2S3fhigY/wcYmdsex53Sx3BAAAAJkGetEU0TDv/AAN6CP+nY3qWmuxCWmNa14SR2TAYcMAsKKzx\n",
       "vwWUAAAAHQGe03RDfwADX9VSqsSkPVWE7IuLzH46DTyOXN6AAAAAIQGe1WpDfwAE+TpAQ+czGseY\n",
       "PCH3T++yXVM9YSCKk2CygQAAADlBmtdJqEFomUwII//+tSqAAM9nBLuU/2ytwb/sHn/kSPI1RXvi\n",
       "KAIKDlmMTunwC/NSXAmrwS2iE2oAAAAUQZr7SeEKUmUwII///rUqgAAAHrAAAABMQZ8ZRTRMO/8A\n",
       "AwOGoAOLWI8OCyRHMq3iXdUB42HHNSR8a1VbwFin5GZ3yX6Jp/2CHRuWayyPiRATp27NiVQuIL6J\n",
       "EaQmJi16q4+liwAAACUBnzh0Q38ABDX1mqrFGNvABtUhz7tfnnz0QJUC8d6EYBvxXOrBAAAAGAGf\n",
       "OmpDfwAENr0A5z0aQiIQu4K+iUMFwQAAAI5Bmz9JqEFomUwII//+tSqAAOPFp1gDpXpiJi+vIsVn\n",
       "EgjaGmAjzQgm7pA73g1Kp407rm3f+hitMcoNSmgJjYEdnx61Wtugy9VaQ0Agn9fg/y+c4n//g2M0\n",
       "XvMbUAso6+Y+VFGJH5QpTcnUtar9pHvBSK4Sx3hg/3pMkvChslYxJsKFrlVmBbhBapHXY2G4AAAA\n",
       "Y0GfXUURLDv/AAN6CP+huSNekeL/IPsAHaSM/Nl7gxARsMSOisL+61trR686WVXVk+4VM5QuJyCj\n",
       "yUi6ht6ou4AD+A0hPJLl6SYkInpSdnl0Z7nWbOPQBLxJM33/amhmIuLk3AAAABwBn3x0Q38ABLX1\n",
       "mqrFFh89rBKVh7rermSr5oBhAAAAPQGffmpDfwAE+TpDXNO3jeux1wGPsTYAWvgwL7QNcyBBmryb\n",
       "XsQKPcVQ6vjr6b1x/+v5TfDq0Dlj8uZ5c9IAAAAwQZtjSahBbJlMCCP//rUqgADjmZpSo+qRUc/f\n",
       "24WuaeStqilG3sG8NfUwq4rYbZxYAAAAGUGfgUUVLDv/AAN6CP+nY3qPa6TnEfuxVMEAAAAMAZ+g\n",
       "dEN/AAADAK2AAAAAFQGfompDfwAE+TpDWdB7J7PRzcXN+QAAACtBm6dJqEFsmUwII//+tSqAAOOZ\n",
       "mHjR/xjxdm0PwI3iX9lRF5rY+ckhQfsPAAAAQkGfxUUVLDv/AAN5tLZd/rTCZiAiyrnEJ0ZSqgBY\n",
       "DxDNYwM5VK8ww0avfJ+6/si/MWgMdQ+v/8EDqJMzUrEmc4WHHAAAACsBn+R0Q38ABPjujO0EfiF2\n",
       "75WpH1kMV6VseYyEkFqAYipNmRSqOx+7SMWBAAAAGwGf5mpDfwADOACgIfOZjL1JqgS4DhnB4FT6\n",
       "kAAAACVBm+tJqEFsmUwII//+tSqAAOOfoHoGP4owjDie8WvHJUNHky7hAAAAF0GeCUUVLDv/AAN6\n",
       "CP+na3iU44NJ3iphAAAAMQGeKHRDfwADB+esivmaQAtefQqAZK/NhlA53jjj07kvV8daBSeH/+/l\n",
       "H1n6YfmAeGwAAAAVAZ4qakN/AAT558jnVcFgLLeoJOaAAAAAqUGaL0moQWyZTAgh//6qVQABePn5\n",
       "zhCgDxgAohZ7qgDrhc9owACgY2qASKmO998yu9k47hL3MQkRFS1ZzANYd3dnd46TwIckv+96bdVL\n",
       "MPituxr9+E9isaMOMv7rTckY8nADg4sDRBPLxaKZ00Nf4b9bkdD+1Nly0cOZA03rDPmIKSxwFEop\n",
       "AsoKf8PmOty8Dox/tdR44MU0xzGhjlI8Y9pLRb7iyc6UYEEAAABFQZ5NRRUsO/8AA3pH7Sonly+a\n",
       "D53kB8590SW74ALo18qSNPLGhfqmSvFdtX8NFaQk+O2twqD/9fym9qhvlXb90oz/yhbQAAAAJgGe\n",
       "bHRDfwAE+iSmkxfKI+C0qx39GyEfRAVDM5AXXpZsWqWbcB6RAAAAIQGebmpDfwAE+TpDXQUrGws4\n",
       "OeYffE+X+ChECwaZYXYtoAAAAC9BmnFJqEFsmUwUTBD//qpVAAHHYWUFgJeDEsOWRQeMO3o4L5ee\n",
       "peJR/+6Madg76QAAAEkBnpBqQ38ABPk6Q10xm1yNVbSN7cfcHg5R9yBGykAJpThg52CXyQNoSVXw\n",
       "NwW/A7cwBcb56WDuNkdhINHIznkCMXfuagPY4JeBAAAAJEGak0nhClJlMFLBH/61KoAA45mYeNLH\n",
       "RvubnoUpDAmmCle24QAAAB8BnrJqQ38ABPk6Qz8s+GEG0ZqPsOOKxNQPFjh2C565AAAAa0Gatknh\n",
       "DomUwIIf/qpVAAHHYWUFgIPJA+Arp0GkJyRdexo2AAKjXe3//RQiuayp/9xE4ny1Oh+StoN/a2JX\n",
       "va2Y82MxaykCuejg+VNv5z4Z3Ub//CuwIXNaBvRdLzFLJeCh5RnoAQSjC9XrAAAANUGe1EUVPDf/\n",
       "AAT5OkBD18uux36rh7fRuPHYAUoC6qBWYzdQ2d+aMAoUz6tvmw+IHGAcq4HzAAAAHgGe9WpDfwAE\n",
       "tjJSMNiE1Fd/33PPlzji70i8Q6YMoQAAAEVBmvpJqEFomUwIIf/+qlUAAcdu884ihll/bbHdcUf9\n",
       "cdPuklDttsbOfKG+N4iBSbLdBEENll98IQbiE3YLe55nMviuhkAAAAAoQZ8YRREsO/8AA3oI/6dj\n",
       "epOCoW4/IVuKkGoRQzM7x9XLKHd2cwh8wAAAABYBnzd0Q38AA1/VUqrFFbuqx8K5yF6RAAAAHAGf\n",
       "OWpDfwAE+efI5z0awBQjE9lh9VKF2I7BcmkAAAAoQZs7SahBbJlMCCH//qpVAAGfHlxwSXurCcVK\n",
       "awz8s9F2OSts3fyvIQAAAEBBm1xJ4QpSZTAgj//+tSqAAMXYxK4ALsIu/tIZbx+fla6JsJxoxNNr\n",
       "Z/OARS/Luop+25j+OXbuOYeLCv4GTNmAAAAAOUGbfknhDomUwU0TBH/+tSqAANp8/hrAzBRNUFUf\n",
       "lJtL9XT3mE3vCCkclqXIvHVWP92B5ZifK7tKoAAAABwBn51qQ38ABLa9AF0dJNkRyAJch1PZ0N3H\n",
       "EsqDAAAAckGbgknhDyZTAgj//rUqgADjxadYA6V6YiYvryLFZxII2hpgI8xsEfUOitDwZifFAOEu\n",
       "2uUj2kFztXQwK48WD2LB8DoWdw2weO0Ekef//BrOCPGRZC0iJ+6pGdyxjRz1QSbLqs0Lm0e0I8/E\n",
       "1v06KADXDwAAACVBn6BFETw7/wADegj/qx12EmIi/AB78XIITKOsOlZ55X22sfk0AAAAUgGf33RD\n",
       "fwAE+Y1O3D5RUI4siB3dIYNACHEORwVrbVWN50tL+OKDmNDc1l2Ob0OH0xrvqyAV3G1f/fTyS5ej\n",
       "6bbWSlO0CBRy443YuJqUrvSTwYEAAAAcAZ/BakN/AAT558jnPRrAFCMT2WH1UoXYjsFyaAAAADFB\n",
       "m8VJqEFomUwII//+tSqAAOOZmHjR/xj2FmPnjVZmdwArxdZm/7CVWnBWSJhxPw7BAAAAMkGf40UR\n",
       "LDf/AAT558jnPRrGcJo1FAZ5k4ufdWizhhuV/UcbTpudI2eDqDgI7GpFbUPnAAAAIwGeBGpDfwAE\n",
       "+TpAQ+czGjG6HhCacpNjRPv/iqtn0FSWvVlAAAAANEGaB0moQWyZTBRMEf/+tSqAAOOZmHi67Yni\n",
       "8oW7T3rXv9/4M4eDLnXPDdFkc2LFAPJsL0kAAAAaAZ4makN/AAT5OkNZ0H+FeNsoikGwN3tA6RYA\n",
       "AACFQZorSeEKUmUwII///rUqgADjmZh6uP4yxTbLMr+WIAD3fvgkkqK1ORBfljbnB5H/4yCm5GYU\n",
       "OUrbYv/9TM2XVk/tMZimE/qFPHuNOEutWO3XhrC3WIgjaPLvFbTJXU3DF+//WQKSo9OtF+H6R/rG\n",
       "oz0nd5V8MtLqIVd9CiYKV6sUa4coIQAAAC5BnklFNEw7/wADebS2Xw7DsgKydbny8QIeNsXAKjCa\n",
       "XZVN1e4+alSPZcLfaNSBAAAAHwGeaHRDfwAE+O6M7X5BO9f66aat/wgFQj++F7BIDsAAAAAcAZ5q\n",
       "akN/AAOJ2sKs4Nb8182siC31itiJpzmg+AAAAHJBmm9JqEFomUwIIf/+qlUAAbKVkGuPHQULnJrR\n",
       "WMLRBQwttQoOXjfo+0zAG1v3vS/G8Thig1+KzXevoCAzgdyLk9PJRnTzwcGSkyrNeGKlpUtkw8gM\n",
       "j3WWf/1rJuWQtMbGYSgW3aHVEPwLbmYiJZlGnNcAAAAsQZ6NRREsO/8AA1G0tiLeh9HsDpttAH2u\n",
       "mKd7XGDG1nrSKhSLIw0KMa0ElTAAAABGAZ6sdEN/AAT6XWoAC6ogfkacRTDsyZ6h3VNx6deuXT0x\n",
       "bbUEaqEJGH0Vop//P+KuOUq58Mo7wHWA1PUzSsFEKuJilNAJ2QAAABUBnq5qQ38ABHa9AOdVwWAp\n",
       "k88gNSAAAABSQZqwSahBbJlMCCP//rUqgADjxadYA6V6YiYvryLFZxII2hpgI8ydPFmx4RdN3nOL\n",
       "8epIZkev/CVwsxkkiR5b7KHEaoMu5t9smSelJmbNsYHemQAAAIRBmtNJ4QpSZTAgj//+tSqAAOOZ\n",
       "mHq4/jLFNssyv5YgASPNdFUlRWpyKDo5dJXSHGCaZZy3IzFm+6MMjTQXXyp9hys/WL6VAkgj94Hf\n",
       "xNZMmeaHNcNV9y4dA58D02LYJ1CUd7AGOXsIrYzsYkO+sU1/ICMBJJS4/ZzmT1ee8qMSEmBkmykA\n",
       "AAAiQZ7xRTRMN/8ABPk6Q+jhGch1MNMzGpWgK/I2lAp7gAb1UwAAACgBnxJqQ38ABLYyUjN/t82e\n",
       "pzkqk3NM0ucmGPR2ORzPmRnRmgFTJ4UFAAAALEGbFUmoQWiZTBTwR//+tSqAAJwec6+Q/hzF5+aY\n",
       "Nz+ZQNQ3XVlIRYX3Z+UEAAAAIwGfNGpDfwAEtyL1acY4sNkurBxDo6De7PVH82E1qhz6MjTsAAAA\n",
       "wEGbOUnhClJlMCCP//61KoAA48WnWAUG9MRMZvDvqTrGZkzhpgI802LA+2eBQk73X9XrQ5hpFhd/\n",
       "CRkSGSQWRJWI/LYcaBR17NMH+9HGTSMAdRQzqKZMtkZhDzFdtdMKV+vHk+725f/BPSgWNq0CZ/r4\n",
       "cgnRQSd4zKQzK4eGWz00//JdEoKc2HVREbC7RXQke7Lg1BpsFFnHqfRxoDd07X39cxhViB4InPvs\n",
       "hg92itzkt6MVLX0uRwmIgCzwSUCLgQAAACRBn1dFNEw7/wADebS2Xw7ENMij19dC4Fb8GXUqEy3J\n",
       "Q2X0dMAAAAAtAZ92dEN/AAT6JKaTF8oj4LSvg/qqKMfy2OKJ0FIFyLDIYWAc/3d1D+bY/hUwAAAA\n",
       "DQGfeGpDfwAAxBdiLlUAAAOCZYiCAAU//vfHT8Cm6Plmy51FPSEwitj6SCi9WOzQMnUAAAMAAETA\n",
       "xxFtXcuPAeYAAGEAAJYNG6l4WHS4SKpecwC8nvP1hJ5iz+L687ri+FIxrSBSv3bnvtfpzTbFao7D\n",
       "WNuCrStBp9P2sqtmeNulFQfctCPAsfkbYovrGksmi28Gh8+DA2kYIoXyrHfK7BvgTngxkBs3jMUl\n",
       "05I6jBml06bIVca4RWnieP408q7tyjpr5az0BEaaOeslWWqmUk/cKGoKIbYQZddJ9kU5l6PM0utr\n",
       "t5unPLrhd2klTlclAJTxgyRpLPoTRQO7eQ34qE/qWoJV8B06aavHTjn9gG6zewzo9+QiEV/5gVkU\n",
       "ozRjR9MNF2fF5f0vhZ1uK7wGuOWjU6JEtoe5sRHzY9k4MmHofJ/has6JRDMO+0RrofS4SeOAF4il\n",
       "GIOpWEGZlGYTpETMXv+K2vD22uFLozwiLXouvzuH+CIuL47j3qiTcRUo7yCqme2CJ2SUnNmU2QPK\n",
       "9xY9YSHk/o1/5nNSU39LpVA3QZk1miuQ6ecI+hL7nytmwZUleBWtpMlRgYnDXoWVaQviSHpXtZ+T\n",
       "/GkaXtGdG1JQGwclbo/J77ngaxI9VpZK8nEdZWbUWYsv+OSGtDwK7SxAEYBIbI81X8Ed1j43qTN2\n",
       "cVbk7o9xf0tX7dpg4Wk9ygwmeLkEEqKFTYesTjtJn9+LHecjj9nxG0ZbHNPQ1jZmf7fODpMZPqJm\n",
       "WEqZB2lB/3M+h9nRW8RLvqVWxilD+egOo3Qew6dGTOAA6h9oZi4JfE5tNzu2wzbu8VNEByIoDRXU\n",
       "OP7QFE7daxGkzIGM01bxR5IsZ/Ju7RhCBcJJLmLFbNi2G6D5lfFZmXJedT//wygmNYepf6Fvq4d7\n",
       "4y82C5HqvKbYmezqohTh7ixwu7eT/xLTevC3K30T/1FJr9uu3hlAlu4994BVN23cbtqL0jp1J+kZ\n",
       "k48tb4ApQtwEsDAzaWmw/BX4/cH66aPYiidyguU6OLoxoXP03diM6CJA8XELuop5mt8HAFhWgdLy\n",
       "C1UuvTExKIacNs04N1uMV6pSYj7200roBnJZYt/cHimsAx3zSE9k62y5qGwDUw8lusjjwjOi7r3q\n",
       "hv0PitI48V+M5yNOziHl2LHcsf1iz6N/bH4bhVn4qYKOGlXhKOe3uPDldAWjj0VLKACcFp3CoAAA\n",
       "AwAMuQAAAKlBmiRsQR/+tSqAAW4fboAQj6Vli4z/ZgpVKZ+nHSX6244Nj8e0+WJ+q46GpK8sMToa\n",
       "X7g227uvmFaKIT0vv1/AK/+hFGmlEutbJHsENzJJhm3pKxUSV56c3CXpKA4Zl96Dc1kbILHv+//x\n",
       "nEn00finZGOaJ33Sffb/zqaAFisBDrVRr1zH7Z6cL6oBu+RqaMG9xQR3luh1dn9nDGbKe8GZwfzv\n",
       "8G4R2yYVAAAAHkGeQniG/wADy9z8pNDCOhT2uDG2zeyejkxOqb6adwAAABgBnmF0Q38AB8QZzgsS\n",
       "Oy0tV0hbZXcV2VAAAAB1AZ5jakN/AAT9EQAE7e240ZPMtsfkmAQ7d2vPGgrwzAGCkSd9bkhNKmhl\n",
       "XMs2IsxJmd14om2HvhnL3rKAjwzut1QwytmbOBrt6p+hu0cIcWItCgiZ4r1r+pCaZcJhRbeQjEJ4\n",
       "UTAB6fbta9KwX2JB6G4IKwP9AAAAq0GaZ0moQWiZTAgj//61KoAA4793QBQbz5zb/X/2OuztP1bg\n",
       "Vh1p95UMRz86D4cPWpdRrceQbsWdbaxMH7QuwAjzwdhqZMH6x0iqHyoWxA7SMfLhXDPobwgjdXQF\n",
       "F6VyUQ/kknWsMFEZaDgmU0ufc+wPzZUr0rue5BmFiKWcS9Iud7mOH1ZoZoxsbnYtiZsXVUxPfI3r\n",
       "oAvAGURQr13yxF25fpRa5fvq5NSDOAAAAB9BnoVFESw3/wAE+efI5z0aQh1hGWSZ7T3YrVSutGF7\n",
       "AAAAVgGepmpDfwAE+efI5z0aQWZ6WHZL3tM1NTUMwAbKCDrCtbXGBl1n0H8UUcKQO9a6GjfGJT+9\n",
       "vtqAsnYn6kFOH34g+NJ6zaAD6uGlrMviyuOuJHyhosVNAAAArkGaq0moQWyZTAgj//61KoAAsmxf\n",
       "SIdaFAAjvAX5KL2h5TGz7gac76S8W+O3kxm+BHiv4kf5Il0zXRp5Q6BvuRJriJbpjitkZAXtsl6t\n",
       "huACHjDfrkPN7n4QsnMy7JC60JmmtRIGbQWpr+gYHE6CkMnwxzntEAOJ+J/+CciTMFYoZU1ZGEoJ\n",
       "F9pR3SyPyHZm4dTjPID4Vwbtj8bEMwiqEj4+Kv3Dctfx14NqeGUnuAAAACBBnslFFSw7/wACuGKb\n",
       "lepAI7ZqjZ0ge1pWXYwkFYtIsQAAABYBnuh0Q38AA8um0qrFFbuqx8K5yFsxAAAAHAGe6mpDfwAD\n",
       "YAChrOSh6o+dMqsmTEG1Fc+d+IIAAAAYQZruSahBbJlMCCP//rUqgAAjP2bqVlJBAAAAO0GfDEUV\n",
       "LDf/AAT9EQAIyuBqbnZlZSKLNbVYhOsZook6AYeIWpv/wZIL4FE+TjUIYZ6LKA1sLDOihkoUAAAA\n",
       "FQGfLWpDfwAE+efI51XBYCy3qCTmgQAAAGlBmzJJqEFsmUwII//+tSqAAJwzzpZ4uE8jjHDcADs0\n",
       "aX+y3FXl9deacfAeo+EvN8PN+srQBo4N+pa1DP7BnD9+fldXmB1rcMg/4wCwH5+oPfO3qa0JfaJr\n",
       "BuypyV8mRIZdivzjiY4LkXUAAAAaQZ9QRRUsO/8AAmEf15tjen5kle7zTJmMQnwAAAA0AZ9vdEN/\n",
       "AAT9EQAF1XBOYX9XVZ/qaIIZ+rOFA8hFIw9pmqb//f8TzqQKd0x6OwPuSka7gAAAACMBn3FqQ38A\n",
       "A4o7h7g++Llj2D4c89EIy8Dhz0LEJpRu/GfUWQAAAG9Bm3ZJqEFsmUwIIf/+qlUAAcdOWuAUm842\n",
       "EUePW2QgC+XszeQsjFHVR6Mo1/GkwhEEnB/WeG2EX595R2tGcv1t/x4566ugj/8PbKBJEDn13uFb\n",
       "RDEZEnOaqhFJvCB2qdrN5RquBJgN8iLw69FGgOcAAAAtQZ+URRUsO/8AA3oI/6djen5ks3pSHzLL\n",
       "qc3ODIuV2efX3+4/2zbdQeOWDIcdAAAAFwGfs3RDfwADYITNT11A9qrHFp9NfgumAAAAIwGftWpD\n",
       "fwAE+TpAQ+czF5K7lsSm8WBup46lMQ9AtWHTYhpvAAAAJ0Gbt0moQWyZTAgj//61KoAA0Hz8+HM/\n",
       "obo8NuPXzSioaelC0k3pgQAAAGdBm9lJ4QpSZTBRUsEf/rUqgADPTRh5l6Iq4Zn5oJSoUASGAKX5\n",
       "A9DB+OeuEpsTkAB2sh4l9CVTrLi/jy2N9ms/HXTUEyKbQGJ6KTxmMhMoT/w692y0D4gefAt5DtTu\n",
       "o0YvLDlMVfyBAAAAGgGf+GpDfwAEdjJSrOf2kgZqVegbkKv4GyqZAAAAYEGb/UnhDomUwII//rUq\n",
       "gACybF9OJrpHRNACMNkQVj5Pehjl5ctjEBnMiDRC6zxf5wb7hp9Nh0aeTf8sK1mfm9hubrK2vxJT\n",
       "FAZqdUsQmHjxlabVpGVzhZo0bd4WpAXCUAAAABdBnhtFFTw7/wACuGKblepDyATyb3IWygAAABwB\n",
       "njp0Q38AA8um0eLyl4SBdMxPwrFFxQzQU9lBAAAADAGePGpDfwAAAwCtgAAAAFRBmiFJqEFomUwI\n",
       "I//+tSqAALx9hRIaKAIcvAy4B8gULfAiGlAASC8HBMVWuTT4lpigmliuwdcnucf/J+Bdb9Udi1Q6\n",
       "5kZUxPTm0k+1vtii9ZH8vVgAAABlQZ5fRREsO/8AAyG/rvoOhpp+rp+H+0agBnGWEACcktK4dnXs\n",
       "ihlvTMLta+cHodkgSqxfY50SVBFvsEd74ICT2xodhvoAECVY0ZNb0AHJYsz0iRb9SxfmcUHm2C4l\n",
       "zmhKrcMaUPEAAAAoAZ5+dEN/AAR28RSw4O3e5dABi2bYLLzPoTumNLJO2vr1evVJfcZMwQAAABwB\n",
       "nmBqQ38ABHYyUjQGLfcS1Ka/XDRO1xwCz2FxAAAAOUGaZEmoQWyZTAgj//61KoAAu3UYeO86V1RJ\n",
       "jM3UYpQFeJYoyLpa1P9U0R+6ZLDcOF3WdiOOr1aBWAAAAB9BnoJFFSw3/wAD99rCMM/cpwSuZtu4\n",
       "Yz3wx3w/0B1sAAAAEwGeo2pDfwADn9rCMpgcHzsMr4sAAAClQZqoSahBbJlMCCP//rUqgADjv3dA\n",
       "FBvPnJtE0no2dp9L2UeEfPi2iLh/5xS1CZiyLuAwdXvnS3DXwwIoi6XLOo2iWieOfhDSKJlNxu4s\n",
       "yBsjUPCqZNuXZlTCOqyQoLDOj2aU/g1f5ne1NngMknxPvnasoTLXWmiSBmAVsUnG9WIjheDc1hC8\n",
       "hS3LOq+lSdNNLCYHZQPK4dKnOdyeBsQimyA1xO6wAAAAKEGexkUVLDv/AAN6CP+nY3p+ZLN6ODRR\n",
       "D3b43f68PzUNV+2QFphbTKgAAAAjAZ7ldEN/AAOI/lqra5B+O7q6FvqLRiuJVUjn0LaCqEVPMb0A\n",
       "AAAjAZ7nakN/AAT5OkBD5zMXkrvOFJe4mUvB0h8dMBkwBsajFTQAAACfQZrsSahBbJlMCCP//rUq\n",
       "gADGbg/9DYEAA4tth2xRF8HjzSo3gHiFTgf4ZuQDk2T7bWlO5yvtZBsZYIsSzxsxF9S4C2uR0LVk\n",
       "MsI0Z5UUXg6qaVhVKu9H7O02wAEjnuIDgPODVSApeHiNdnKbY6kUfa0B2MbGH2MKzKFb4NnLMn0R\n",
       "k0fCcfh1dMxgxmX9aeUHJeNoYgsGo/zcioj4DcpBAAAAJ0GfCkUVLDv/AAMBtLZd/qnjHCriKuiQ\n",
       "OlL1ZHJqayH2ek0YP/0lQQAAACMBnyl0Q38ABDX1mqrFFNGfCAEdrexb+f0klPi8eLUMumDdwAAA\n",
       "ABsBnytqQ38AA2BdJbkxxE7dol24uaa+U2xWvSEAAAAlQZswSahBbJlMCCH//qpVAAFTYh2mO6sJ\n",
       "x1u5m5WpGhr+Bkz5gAAAABdBn05FFSw7/wAClKvXm2t4lOODSd444QAAAAwBn210Q38AAAMArYEA\n",
       "AAAUAZ9vakN/AAOgUIDnVcFgLLeoJTsAAAA1QZt0SahBbJlMCCH//qpVAAFTEIYFgFDoMFHgNZ3j\n",
       "5ALRcj+QeY8YcxD8hTmK5HWeK2KdT7gAAAAZQZ+SRRUsO/8AApRim5XqPQwnRv6FBu6DFwAAAB4B\n",
       "n7F0Q38AA5+m0qrFFWfeq8d5WdBR2U1i5assONgAAABgAZ+zakN/AASqT9kT3QiufNxvwwrUAIQQ\n",
       "+UKo0OxgZdZ9B/FFHCkDvWuhqgNYrcylxFsgPIfmBrG6XnuQi61lYhwAViGsmOALyllwTkViE7C0\n",
       "VnyhJOd2WeYPzsj59LphAAAAkkGbtUmoQWyZTAgh//6qVQABx05a4BSbzjYgXjT0RrCnwVnaQegO\n",
       "Oqj0ZRr+SFALTyACOPVop9KUnhReZlqhXx/TCpxmoKT8WCS5zWeAGS8YlLSRjMeO6PqPQ/gTYiCS\n",
       "IEDvvF7JdtmZ25OHjg/jDl6yQpTZNRCkzrOrc7ql/oT+Z2ieS3sFpDc37hyKJH0H3RWAAAAAiEGb\n",
       "1knhClJlMCCH//6qVQABnryMcGZqlACv4grXhY+Ry//obaRx93ewexvL0AFELPxR6yyNAncABSVc\n",
       "jEkRMX5PkbnRQ+93I/rsjgNqn5/KOypF9SRSeV2xxP0TSRpf4LSabQTT9Vd96z2AonBqqdjH8j6F\n",
       "NJ09oBXfwb1DVfdPDUwqvjUmoKEAAACcQZv6SeEOiZTAgh/+qlUAAZTKNoWQ60FDIRLPEABE64QA\n",
       "jSe1AUX1dOhQHuqeAz2a1I8CpLmkQ7U52yKv/rkk/pFfa+Wr/LwrPyIlS2eMns6pcAuNaw7QuoBg\n",
       "PYzAUKfZ3H576y3VFSu2/S1n4FQcCs46QiKe+osvRbRf2fFkKEVdsq+hNVu5WRVgECTP2K+ZmhvY\n",
       "iSk6IPkkUaW9AAAAJEGeGEURPDv/AALcQ7ZOXrumQqesZijLCchJEN6GacPHFnr3OwAAABcBnjd0\n",
       "Q38AA/em0qsChcE5quaILAf6YQAAACoBnjlqQ38AA/fawjDXiglQuPqYZGdi26dCp1SvP0tdh2QT\n",
       "BKNoFPbiJswAAAAuQZo7SahBaJlMCCH//qpVAAF3EIYFgJS93AlGzfbgsgq+P2uKJ4hyt9vtTeMX\n",
       "gAAAADRBmlxJ4QpSZTAgj//+tSqAALt1GHjS0JtON5sJMfbxCMHpbcFqqY9vp62SXxKsKOANEumB\n",
       "AAAAsEGaYEnhDomUwIIf/qpVAAGg+OgkUJZBrjIsOy9jLcV+lr4XlkH6sCATFXgaeZsxHwuH/2UM\n",
       "x7V3jrs/rOHDRvi8NhPAhAO9tG4JtGYvauwKbsqAJkxTaUqLjVJwfdps/t0rKm+7ZREhvgbwEPEx\n",
       "nx8ucXpsjqh/XeRiT9fx4Hu2PqcsaHeSsGYXRHsntWWVwTzUwmmFX2EqH5y7pytNhzSc3/DGmeLK\n",
       "v0IbnFtGvHjYAAAAQUGenkURPDv/AAN75qAEtXHhTRhQQGmjPDn2yqcXFiVfJ43He8hzZ/uPFuEm\n",
       "YDo2nFYJ8GXJ7rlLJFyWfKM4+gz4AAAAJgGevXRDfwAE+iSmnrp3bHsx2+jwVjpcrD1LzdLqBEmi\n",
       "Ce9WfJWVAAAAGgGev2pDfwAE+efI5z0armFjxb9vpjcPmtmBAAAAMEGaoUmoQWiZTAgh//6qVQAB\n",
       "nsudLj1l1IqBK+ehPh+jyAZQyHtbAegQctbsfArjgQAAADFBmsVJ4QpSZTAgh//+qlUAAbLKLX6e\n",
       "OWhnFBFLEOhwt099KR5dNmBMpln+/c+2LHcvAAAAG0Ge40U0TDv/AANRtLZd/qnkRJvNgH6Sbkhn\n",
       "wAAAABcBnwJ0Q38ABLX1mqrFFNTB4+5rO7kwJwAAAAwBnwRqQ38AAAMArYAAAAChQZsGSahBaJlM\n",
       "CCH//qpVAAHHQL+AUm8r8sew+ZuzIwfa/IVMnCcZCYOq3nlt/6G65g+0U2b06YGYKot/+0DZg1oK\n",
       "+evzl3QQh5T0PQx+Jn6r2JHvvGhejylxSFKLb3DwluCf664VwEExkAli+/NbtSHBZk9uh69RdT6n\n",
       "EX8ukC6QrcfSIlD5a/lmBsXe9IN2C1cOnFP3m9gTUN7n3IGSMLsAAAApQZsoSeEKUmUwURLBD/6q\n",
       "VQABOFl2DTHQjtcveNSfq/TyTxyBNkKsl4EAAAAcAZ9HakN/AANgAKH0cGt+Y4V98HC3VV49x7ny\n",
       "oAAAACtBm0lJ4Q6JlMCCH/6qVQABKGO5pqz9yXoGlPX8s4xN6FoZ46naHWr2aNGBAAAAI0Gbaknh\n",
       "DyZTAgh//qpVAAEZ+p3lctN7Exv/EBVq4dbhSj5hAAAAFUGbjEnhDyZTBRE8Ef/+tSqAAAAesAAA\n",
       "AEQBn6tqQ38ABP0RAAXVZpH8pzt91B+a/C1r/SRwOk2Xd61qI/xVcru8PaHYt//v+J502y0oKTzo\n",
       "OAo9nJFgSurH+8y9IQAAACNBm69J4Q8mUwIIf/6qVQABGGO5pq0i5Y0U678bHFUAIlfaQAAAABZB\n",
       "n81FETw3/wADEAChrei8EUNAUv0xAAAAOwGf7mpDfwAE/REABdVmkfynO33UH5r8LWv9JHA6TZd1\n",
       "Mju7w9n2JP/+/4nnT8aOg/QvMwzgvx+jDlfBAAAAXkGb8UmoQWiZTBTwR//+tSqAAKnsDM4l1Kdg\n",
       "fw5i88/YUc4YAJ1tZgh6X92cYXzlvX6CPPojAPUd9cEcv/w06hPlf9mQJEEU+8hTEYrxCXbBcCia\n",
       "BFDQetKKLwjNYbQAAABZAZ4QakN/AAOqPEXG9witAAhxD5QqjQ7GBl1n0H8UUcKQO9a6GojDIwDu\n",
       "seeGx9MePUJoBIo+guCQ3gM/1za8snP0DGTeftmCrx6Bsl/QU7PkiAQP/6XmOWAAAAAyQZoTSeEK\n",
       "UmUwUsEf/rUqgACpdRh40f8Ybi35e2/WX9i08azqZKzLMzOAR4cWIPDE+VEAAAAdAZ4yakN/AAOf\n",
       "2sIw2HJRV80wr/PDcqut1Yzyh3AAAAAjQZo3SeEOiZTAgh/+qlUAAThZdgWAcfuF1yQqEgMKdaUr\n",
       "6KEAAAAeQZ5VRRU8O/8AAmEf151IGw27u7daKGMNEDv23UCwAAAAGwGedHRDfwADN9VSCaHoKXmy\n",
       "FDytMBKqzdPqQQAAAHsBnnZqQ38ABP0RAAXVZpH8pzt91B+a/Cb38uGkvUiyFfdl3rLxxcj9Ip7e\n",
       "NHleKoxJmb0azGhJc9v0ks8/VMSgQ1PrV0CiS5ek6A6wDHFu4YmhbTB4mLXx7QsrQkYehiZX/+34\n",
       "YMjXXN0J1ZpuWiW7ID2YKZyhh8qrARcAAAAoQZp5SahBaJlMFPBH//61KoAAnB5zrl8daKyVViBU\n",
       "ZsyYYocjVEfRQQAAABsBnphqQ38AA2AAofRwa35jhX3wcLd4cVvg3R8AAACMQZqcSeEKUmUwII//\n",
       "/rUqgACylDqACt/SsrbEvR6scYfu1BGcFnnaVuheAD7GaBAoClLt9Y7870W2aCm+HiHfLDtQERdj\n",
       "ZWqwp9fsXv6dlK+SznGZN2/v2iR4AMaujlaXlnIb5j4N2d3Qco/wNrAq0gZG4vWGuu46jLhyfNUf\n",
       "RAdiv/f91rbCauz/D4AAAAAjQZ66RTRMN/8AA8xQgOc9GkIetxvCm0UdgfGEUe5gmTi8umAAAAAc\n",
       "AZ7bakN/AAPMUIDnPRprT5MlXvbwlp3qdvUumQAAAFNBmt5JqEFomUwU8Ef//rUqgADGfP4awMwU\n",
       "TMTVigCxbgZcA/NMiKvwBO4ABIVSRXFRMgpdROqQ/wWzIZP/h3FyqMJl+XJOC8M3p0HxbGqiNNr1\n",
       "owAAABsBnv1qQ38ABDa9AF0dJNwMjLlth7IhEvE2sWAAAAAyQZriSeEKUmUwII///rUqgADFTSI8\n",
       "+y1NqEvtODFPsKE56/bW24fhHhH6/7pksmm0nhMAAAAzQZ8ARTRMO/8AAwG0tl4AIQVd+IcnYp6k\n",
       "qABC+Pvco1Xtd21Pxhjcyz+iQvFJzvVkLv5hAAAAHAGfP3RDfwAENfWaqsUVu6rHfSxx5AADoicy\n",
       "w2EAAAATAZ8hakN/AAPL2sIymBwfOwyvdwAAAFtBmyZJqEFomUwII//+tSqAAKmUOoAOZemTNGeX\n",
       "rk05//Q31jhuo+ay18/MxSwJlcs09OUEBB/OsnVL/+DqWZSy4mn1G0k9rhRD13SHcRevnOxCGhK3\n",
       "chJaMltSAAAAGkGfREURLDv/AAKUYpuV6j0MJyM6nQzMGQlNAAAAGwGfY3RDfwADn6bSquFxOhRx\n",
       "dwPPW3oW9hu6YAAAAAwBn2VqQ38AAAMArYAAAACCQZtqSahBbJlMCCP//rUqgADjxadYBuEavhH4\n",
       "MD/r/Uc6zoAx51Z4M/nFJ1oPJQoly8EjEPU+X5GBI1sIULQfXknt01e1HxN3QQSl+vHgB1T7/+B2\n",
       "Snh7iADdflUhDYxz0GHfct7M/hDFUOfYaxC6uUzav9P6vnKId/qBPgDFSO+XgQAAAB5Bn4hFFSw7\n",
       "/wADegj/p23Ovo0+eIdBahWKmOK3E9IAAAAMAZ+ndEN/AAADAK2BAAAAMgGfqWpDfwAE+efI510K\n",
       "x4hDxfDSkOAAOMxisHf4zTqBc4ry60kb5fvKpUP8cJg5Zr+PAAAAOkGbrEmoQWyZTBRMEf/+tSqA\n",
       "AOOZmHjSy2/YX0wB/f+nwFSn0zP4W12WGIYuc5To4y4CWg+zbWp6BCgAAABBAZ/LakN/AAT558jX\n",
       "TRnamt608jjv5diWsmFE8QCE/duADnbB8DF1d0D9tA0syXovTbAoV4rPEsCN5DgFyoOw6bkAAAA+\n",
       "QZvQSeEKUmUwIIf//qpVAAEoWXYFfXeY8QZgtpL+LONEjAAk1bvbTV/0r6jxvQsEj1qQas534oHU\n",
       "Q870qYAAAAAcQZ/uRTRMO/8AAkDkm0RvVs+DYHqwGs40oJVdLwAAABsBng10Q38AAzfVUgmh6Cl5\n",
       "shQ8rTASqs3T6kEAAAAPAZ4PakN/AAGILsI2S/pAAAAAN0GaEkmoQWiZTBTwQ//+qlUAATg3G1bM\n",
       "07v+W1mfeN/eBlVQu/9j3zgP6P4bOa1ydtfYPgUnl8AAAAAdAZ4xakN/AANgXSW5McRMupDkLAbX\n",
       "PwPO9LboCCEAAAAUQZo0SeEKUmUwUsEf/rUqgAAAHrAAAAAYAZ5TakN/AANgppQDo8MQ8o+Yysql\n",
       "2PSBAAAAJEGaV0nhDomUwII//rUqgACcIuI9Ax/FaLF5+HdTS4zv/pRxwAAAAB1BnnVFFTw3/wAD\n",
       "YACh5zyXs8SSCHJFfl5Zm+DdHwAAABUBnpZqQ38AAzhdJiC/U3AWW9QStIEAAACFQZqbSahBaJlM\n",
       "CCH//qpVAAHHTlrgFJvONiDu692sAgBfNivXuBFlXee+z3+jP3sbBB7PYJBA5hMzoHCMbkGyxPy7\n",
       "c0fJ3dBBd/8eO5Dp7/+EaTkMPcC4lJWNhBVYe/yXA8fyrDnjDmkO7BjpBllvuUhMed/R/oqkxDsI\n",
       "WdqUqgtxjQPGdwAAACJBnrlFESw7/wADegj/p24qpUvJlWot7cLvfKtpKkP48ezBAAAAGwGe2HRD\n",
       "fwADN9VSCaHoKXmyFDytMBKqzdPqQAAAABUBntpqQ38ABPk6Q1vRgRooxAVbz6kAAACFQZrcSahB\n",
       "bJlMCCP//rUqgADZZwUJlP9srb+AYJqhhUCYAIQVZiqeu2qyILZ0/zmiIcv+Cm5bVgg8S00z7t/N\n",
       "G5hWA1+jhnc86cJF5Ag69MN6hkjVjjaIV9Vr77NIJQcw56X/kF94mwPqxA20bv7/R447rq7hGyyE\n",
       "TTUT4sp+8w3ZvYRlIQAAAEpBmv9J4QpSZTAgj//+tSqAAM9nBLuU/1K2Ex2sxVbVTzrCBY6hwA3J\n",
       "t18jg7pHK3GsNTWnYLiQ93QjcoAaA/gsjyRkbxo1TmkwEAAAACJBnx1FNEw3/wAEdr0A5z0a3S5w\n",
       "LYScvZwyTTToOwcvuWOAAAAAHQGfPmpDfwAEdjJPvs9HIL1JqgS4DhnB4N2E7ephAAAAYkGbIkmo\n",
       "QWiZTAgh//6qVQABd4sJDaSY60IA1ZAHyd/SAzV6nX2AApKIypb8Ofq+V32aRhuLnE0RxlrGfPSV\n",
       "i+xvHVtbYtv8p3Nw5189ogn+KoBvcjevs5kpgbXGXXYPloQLAAAAPEGfQEURLDf/AAP32r8R+Dyp\n",
       "DHOCwAhNWj6HDY1AUTyPl4kcch4Eglb9YTXdKa1769ZTPV9G3+pOtH4k4QAAACYBn2FqQ38AA8va\n",
       "wjKPfEAAO0Q8RZv7pwC9HFdOCvBgoAlRzhnepAAAACxBm2VJqEFsmUwIIf/+qlUAALJppmABnxLu\n",
       "5lg/UJ1yUHRZ4VcM7tfVRTZDwAAAABlBn4NFFSw3/wADzKUylVBepv7ida+8uyX3AAAAFgGfpGpD\n",
       "fwADzFCA51XBYCy3rYJsX1IAAAC+QZumSahBbJlMCCP//rUqgADGfP4awMwUTMTVigCHLwMuAfIF\n",
       "C6ehe9QAM8/EHbRk2y7cFf0WRNhgbD9gqH1/RgpKDo5dJXSHGCaZZy3I3K2kDYZGlt/2HzTw+2Tc\n",
       "dII+fYOJirVsPMm3LStjAoJZaa2sHmJ8yPXIfzLX//kt8+vTo/JRajnWEALPW/wMBV7+xGfSa6Xt\n",
       "lkXW+4BG4oUavvyECOdP/BrGhMpiX1FD15g0iGtwYFnGwnZ+2oyk4AAAAD9Bm8lJ4QpSZTAgh//+\n",
       "qlUAAYtEeSfU84wFwK9QeXd43zdkPz4aHkZamr2h3wEeRYPpfkRfnAHT+HdMbiUROCEAAAAnQZ/n\n",
       "RTRMN/8ABDYyUjDYbOEPw7BpwRvOocil+DDF+pIFLuqS7fNSAAAAFwGeCGpDfwADtlCBNQeWrObS\n",
       "GbKF8QXhAAAAFUGaC0moQWiZTBTwR//+tSqAAAAesQAAADMBnipqQ38AA8BV17ZNNpXIANo1fBdQ\n",
       "2NQFE8lSUwefoeBIJW+DCH3R+1Rz7HGneXBlZ1MAAAAUQZouSeEKUmUwII///rUqgAAAHrEAAAAv\n",
       "QZ5MRTRMN/8AA+64QHZAC6LoKco3LKMpAmLfIeBJTNR7bgvCeVUVvueW6s/fnQQAAAAUAZ5takN/\n",
       "AAP4UIDnVcFgLLeoJRsAAABHQZpySahBaJlMCCH//qpVAAGg+OgkUJZBrjI44/+hmIAAaNr7Q1Nu\n",
       "Yj0BR5yFpp7AV9Z3Q+7ZE12W/NmDF/3DF3cidQZrBRcAAAAfQZ6QRREsO/8AAyoI/3bL5rD72EAb\n",
       "zmp5+UhAH3lUwAAAABsBnq90Q38ABDbxFLDm1Ew9Qira9/X+AtK/wMAAAAAVAZ6xakN/AAR2vQDn\n",
       "VcFgLLeoJPyBAAAAl0GatEmoQWyZTBRMEP/+qlUAAZ7AhgXwbyRUDkmEIN8DWAwBS1AgBGl698QI\n",
       "50zRwzw0ClGTlFslFJetbpjH/tI80ph55XIpc524SHAk8DcfCZxFFM71PA7LsiZ0oMTUs+e1LtAj\n",
       "X//S+ZD0Na6cCO/CVJvQwovHaK0qormbcOy7E+yJpO9o2HAJkxHNIjbDDUyEExLCmVAAAAAeAZ7T\n",
       "akN/AAR2MlIw2IbS5Uns9wHFyluGqWO6g5Y5AAAAfEGa1UnhClJlMCCP//61KoAAu5Q6gALVB0Q+\n",
       "/ZIm/eBlwD80yIq/ACOoAGfNaOMRgE6s9Hp9uYRbnotlBOl4fws2OhNsegbASMb40tOnqp1z8lWk\n",
       "8RIq+rwGPZ2VMu8jYTfTT013hIdJYW9OA9NFKq0MEEYCB1Ozwl5rQsAAAAAmQZr3SeEOiZTBTRME\n",
       "f/61KoAAu3UYeNLHRa/AfoEgxBCuFGmdccEAAAAqAZ8WakN/AAQqT9kVXqGTAkAH7z58lQon3xlV\n",
       "x/H1kl1lWDI5afZVcT7pAAAAh0GbG0nhDyZTAgj//rUqgADjv3dAFBvPnNgAD4CLA7npuYxWq14w\n",
       "Itjv+fTr/0NsrB44EKvrPhcl22oetuU4fc8OKgeNmy6GvEHFoPZzkXUbNd/czyUZppOqNB5p7/MA\n",
       "jr0Zq3P7TtR6ZHsv7q2O5OIsBmeU/fiud5kKxx8enFgiU4G+sqrnJQAAACJBnzlFETw7/wADebS2\n",
       "Xf6p4xxz/vymIid2P7htmE+u8amhAAAAHgGfWHRDfwAE+iSksObUSTTnqiYgLHVpzKkHi2h/zAAA\n",
       "ABsBn1pqQ38AAzhdJbkxxE7doliiZ5RY4UIn9fAAAAAUQZteSahBaJlMCCP//rUqgAAAHrEAAAAa\n",
       "QZ98RREsN/8AAzimlBLWKn0wZSuH620PZ5UAAAAVAZ+dakN/AAM4XSYgv1NwFlvUErSAAAAAR0Gb\n",
       "gkmoQWyZTAgj//61KoAAnPM3/ocI4AA7LZBdaj4pTdN8yv8X7uWans4HAnIcKoPB4Ysqxf/n8CBP\n",
       "JbB2f0pL2cWvhH0VAAAAF0GfoEUVLDv/AAJhH9eba3iU44NJ3j0hAAAAUAGf33RDfwADOGhrAsVH\n",
       "BJyQkAH72vuqC9er/XAgRlx234Hnt8KN8d/c1dYCYXPBH+3wDUA3E5eBp6hwVVyGSv4l8CBzFtRG\n",
       "YBjcjMezMOhZAAAAdwGfwWpDfwADqjujZrfPBATgA2UEHWFa2uMDLrPoP4oo4Ugd610Nb5oU6BO9\n",
       "y9cn4e2iYAsj9J6kqHO0cRuH0L8pjdW20VZbot1EK4VRW9+4Zs+0l/2EXHapc5b4JvnD11GwhxMi\n",
       "M6kIdYScowdteJ4jMqGkohU+AAAAkEGbxkmoQWyZTAgh//6qVQABx05a4BSbzjYSTT/fOyZbgx+c\n",
       "xJ3+l577PiG5eNAzTcwZanAD44GJwzdjxm6oazQ5sfiMDAaxUC8ghncNzMc+YzHjrk0uwf/w9vse\n",
       "7Me3elmaaDQxyilkWg/AnMBNSqA97fzNPRDoETZb5uKO5j3XDJPYUjtmXvHqdABwhrpRagAAAChB\n",
       "n+RFFSw7/wADegj/p26hvQ23VsuOnyL8+Ar+wLqRzSKjeDVa2tTdAAAAGQGeA3RDfwADX8BkeSCz\n",
       "stbVkzV1y+afqaAAAAAcAZ4FakN/AAT558jnXRNowGho31tEHPTSEyJ6QAAAADxBmglJqEFsmUwI\n",
       "If/+qlUAAbKVkGuPHLRBCJTyuT77CF6N+QuNueKmQysGevD9Z9xeddv8xzXiLPRNuoEAAAAbQZ4n\n",
       "RRUsN/8ABLa9AOc9Gq5hY7M74H31p6ZAAAAAMAGeSGpDfwAE/REABO3tuNGTzLbH5JgzCb3/SRwq\n",
       "+qSn63sWP0MyER1yELGgliCqmQAAACRBmkpJqEFsmUwIIf/+qlUAAaD45eVy03si+dzAj22Q6aSv\n",
       "eMEAAABkQZpsSeEKUmUwUVLBD/6qVQABnsCGB0iG8PQ5XOyiILAgAGxIA+TvqWiZh6MxmACkZSNe\n",
       "Pr1EXZu+zSMNxc9LjrppktPHI7u7ziAu9/yUfezX/xa1JCRextmfMeg+KElsnjs72AAAAB0Bnotq\n",
       "Q38ABHYyUjDRQ9UfOmVWYOPWeSQQqKLVMQAAAClBmo5J4Q6JlMFEwQ/+qlUAAYrLnJsLlX7VAfj6\n",
       "MeXxVXz+0oT5WM/HzAAAABsBnq1qQ38ABDa9AF0dJNwMjLlth7IhEvE2sWEAAAAjQZqvSeEPJlMC\n",
       "CP/+tSqAAMVNGHq4/iieVvhi1QZFj/XJmzEAAAA7QZrSSeEPJlMCCH/+qlUAAaD46CRZyf+hmMQA\n",
       "ZbZ71+eNee24xlTI84Zjzz124/Ot2yTR9MCJGOQVdSAAAAAbQZ7wRRE8N/8ABHa9APEgCu9DFnuo\n",
       "Lop155eAAAAAFQGfEWpDfwAEdr0A51XBYCy3qCT8gQAAAIRBmxVJqEFomUwIIf/+qlUAAZ7AhgXw\n",
       "bsi9A6Y+hCAR6ACiFn4o9ZZGgI6gAjSuRiRMAod9AF+SQ6w7WQ4cyoED9t6rmCfKEiJIdXCaj6XN\n",
       "7ghQwjZTQ0gyQRDQj2bxL5I8b3tMshCqtaWDEbaYPNo9CRDOF3R5ZzUFp64aJcvjPd1nS4AAAAAd\n",
       "QZ8zRREsN/8ABHYyUjDcAU2X9ak2w577EGfgWYsAAAAVAZ9UakN/AAP32sIw2Hsns9HNxdEwAAAA\n",
       "m0GbWEmoQWyZTAgh//6qVQABx0C/gDcItfZzCoGEeBlvtlQP7Kicr0RcO9VwtngtYv6cH2Ml5uVL\n",
       "JUnlQn5zli4NyYtbctJg5Hh2WikRr3PV9EY3LQ4kAzhgAcGad9+JCf+Z//76/kA9nc54PSlUEXev\n",
       "l7c7fn86Vjl3hv9iE45SYA66lUVnLudf3TyxxYYSwQirgke3GBIlzoXDAAAAbUGfdkUVLDf/AAT5\n",
       "OkNZyUPVHxYbgQZv2VnwfPOoAQgh8oVRodjAy6z6D+KKOFIHetdDR9yfO4DuseeGx9MePUJoBIo+\n",
       "guCQ3gM/1+tkpsudqRhI/asgUbNjliC1DOXDhQ0nUdFWVvIGOU3qNmEAAAAaAZ+XakN/AAR2MlIw\n",
       "2IaucaGhjqdUB2iEU0EAAAAsQZuZSahBbJlMCCH//qpVAAEoY7mmrP3JegaU9fyzjE3oWhnjqdod\n",
       "avZo0YEAAAA7QZu6SeEKUmUwII///rUqgACcM87/+LhPJYrctODY6VvbYnoqszapAM/7cGTqfqwy\n",
       "BlbHH/K0RIYyOAwAAAApQZveSeEOiZTAgh/+qlUAATn6neVyzP4bLG84G3nmhHMYgwfGJpNmjHgA\n",
       "AAAlQZ/8RRE8O/8AAyoouoizFuqpdlivWhyC1E9a4RJSacwAHWi6YQAAACUBnht0Q38ABHbxFp/W\n",
       "o9T5Mng/ZEeZFQTKFvaP3k9RNmaKGjZgAAAAFgGeHWpDfwAEdjJSM6uEMpYXYcu3peAAAABWQZof\n",
       "SahBaJlMCCH//qpVAAEZ5c/9DifAAGiTbuYuyiES4fhseGGy6JMe3FZktp2P773JFLpWrU/+J+LK\n",
       "YlzYK6n9zmfY8rr52uYHJAvJLVwCls0ml4EAAABVQZogSeEKUmUwII///rUqgACcM87/+LhPJYDw\n",
       "3AA7NGl/stxXw36U//6FkaoJeN3SFL/477AaGn/n8CGlI6ks7yiUwcspwHl3JpXUl5HoncNTrNlC\n",
       "aQAAABNBmkRJ4Q6JlMCCP/61KoAAAB6xAAAAHEGeYkURPDv/AAJhSngyOF2M5ovaD1GYEQeZxsAA\n",
       "AAAWAZ6BdEN/AANf1VKqxRW7qsfCuchekAAAABsBnoNqQ38AA2BdJbkxxE7dol24uaYjgXE2vSEA\n",
       "AAAkQZqISahBaJlMCCP//rUqgACcHnOvkP4onlb4YviUD05aiPooAAAASUGepkURLDv/AAJg5JtM\n",
       "dh+7S6vQAXSg2mwUKSrdcUiydCYB2Kk7NIhrbvrk+LI3/ODTaQ/x1WMUc//xhAl1nCXF4xNql9bG\n",
       "fPgAAAAaAZ7FdEN/AANf1VK7qxbxwwjZpKyAJWheBYEAAAAaAZ7HakN/AAM4XSYgrtFXMLHZjXzN\n",
       "TL/BQrAAAAAlQZrMSahBbJlMCCP//rUqgACUHnOuXuyorJVWH8OHR6NILXJo+QAAABdBnupFFSw7\n",
       "/wACQR/Xm2t4lOODSd4/wQAAAAwBnwl0Q38AAAMArYAAAAAVAZ8LakN/AAM4XSYgv1NwFlvUErSB\n",
       "AAAAm0GbD0moQWyZTAgj//61KoAA48WnWAbhGr4YFmy7PzcjGvQQU77E/nFLUJgbIu4DAtJ3Vnm+\n",
       "Zx1uT7LE6pwUB0ylYICwGWZicdlcIVVhQjN0iaHdujPcPzZjzi/HbmqUj/8FjtwxzAC497n+gm7o\n",
       "gOfIOY6Q2XRVAaf1dfVb+LdhPEBRmGJxEX1SvZGKJ1mr3CT8CDgELia+txzYAAAAJUGfLUUVLDf/\n",
       "AAT5OkBD5zMXkruWxKbxYG6njqUxD0C1YdNiGm8AAAAXAZ9OakN/AAS2MlIw2Hsns9HN6zBHuLEA\n",
       "AACQQZtSSahBbJlMCCP//rUqgADFUbihMp/tTb/0NniAK3sC/jy2HCWQenE0QdzoZ88ZgCaO6Vve\n",
       "V5RQCgFi1G4jwIAUWQopqMNlJgk+5iFk2cmgBq4nBB9xPtQBdi8yU662Vu7l4E9D1W8spX4hUgqk\n",
       "FZDMgDY1zTIBvkAR2do9tzd4cqO9JYRbnSAJuqD4pc2UAAAAKkGfcEUVLDf/AAQ2MlIw2M6YANqk\n",
       "XOIHKfAFzVpwJvsBxI5sXrE8PEb5YAAAABUBn5FqQ38AA8vawjDYeyez0c3F0jEAAAApQZuWSahB\n",
       "bJlMCCP//rUqgACydRh40f+9/bhM276ppS/wKB8ZLZr8i4AAAAAfQZ+0RRUsO/8AArir1436CL8F\n",
       "gXYCdEC+vqbsD1a2YQAAABQBn9N0Q38AA5+m0qsChcDxb33HHAAAABQBn9VqQ38AA8xQgOdVwWAs\n",
       "t6glKwAAABRBm9pJqEFsmUwII//+tSqAAAAesQAAAF9Bn/hFFSw7/wADe+agA2q48KaMKCCiByIY\n",
       "n+HGJiUdSEWR/6RRKJMukc0NO++kMrlEek64r/vfR99+TrEvU/OJbuOSHmkdl287t3fvbU48oAEa\n",
       "rkOu5iFmbbI3qcaBwQAAADsBnhd0Q38ABPokpp+xj1l0+IThKEAITVo+hw2NQFE8gpVEGTQ8CQSt\n",
       "5M89mkrfiuVow5xsV01RP1J20QAAADoBnhlqQ38ABPk6Q10xm1yNuGaRzZYQAf3gGLYAcRG+jPoE\n",
       "L8Eu0iBSctEQ3e8bWIOSbykRIgiI+lbAAAAAVUGaHkmoQWyZTAgh//6qVQABoPjoJFCWQa4yLDsv\n",
       "Y8qBoArSe72RJkmLmNoDi/kGFfP+yjJLm7Z1y7nlat7wh7vgqAA+yWgcyXQkmBZmtmENUJNU82gA\n",
       "AAAvQZ48RRUsO/8AA3pH7SqLnfk4suk1w2fo800otRT3rBlenX6MAyb6g2xKDFVqt60AAAAiAZ5b\n",
       "dEN/AAT6JKaeuoN1KlYJEuR9yIliKonlV65HB+UFJwAAABgBnl1qQ38ABPk6Q1nQYJmhl/b987+u\n",
       "m34AAAAyQZpASahBbJlMFEwQ//6qVQABtPjoJFP5UhAESo+DwRG1LijW63M04Zc4mMQ5WVwR7mkA\n",
       "AAAbAZ5/akN/AAS2vQDXTNUOjWdZdv8lRqHIDZuzAAAALkGaYUnhClJlMCCP//61KoAA2U0YeUcK\n",
       "KR2DxNGbXqg/drLnRsXX5wEsVY8WgmMAAAB9QZqFSeEOiZTAgh/+qlUAAYzaX/obSUAR4i4AoAdx\n",
       "IJ9PQJu0lCzZrxYga7J19Wa3Outcx2c4q39THd3DJh7QRa9JcFvvWFLjeeS60XGBf8zS415Dsh/G\n",
       "G3xOF6f1M08E3SbBOs71wMr+IqXaGoGtNViKGwkNUymk1lsC2oAAAAAfQZ6jRRE8O/8AAwG0tk7N\n",
       "D1VFmeSEiNXZztwZ5vp0wAAAABQBnsJ0Q38ABDX1mqsChcDxb33GLQAAACYBnsRqQ38AA/fawjKY\n",
       "HP2gAAdoAgSDv48DETgTpfXRsNiVjCs9JAAAAFpBmshJqEFomUwIIf/+qlUAAcdAv4AWH5P4Au0L\n",
       "wNjt6wEHsou2UwdVHoyjbWNOLDEhelZzDaGEIZryRByatU8Px/DOAAt792HmVe/wB5fFMF478S7h\n",
       "OlFBfhoAAAAvQZ7mRREsN/8ABPnnyOc9GkIdYRlkme0/bkMgA5wBAkHfx4GInAnS9JHhMjHmbfcA\n",
       "AAAhAZ8HakN/AAT558jnPRpCHWgvTIPH+qz85047U/oNyfuAAAAAO0GbCkmoQWyZTBRMEP/+qlUA\n",
       "ARn6oCRQ0EiAFgT3eyJMl/ypF4decqxcuoTLcTUM2ZIzVf/hxOD5OlHzAAAAIAGfKWpDfwAE+mBE\n",
       "B0eUKs7RaxhV+xjkyKS+o1FAaDuBAAAAOEGbLEnhClJlMFLBD/6qVQABx27zzVn7kuifpUDAQNwv\n",
       "HJFDgusvfU3uAN1DFq5JduXGx2SRQBccAAAAIgGfS2pDfwAE+TpAQ+czF5K7lsSm8WBup46lMQ9A\n",
       "sjKgL0kAAAB8QZtNSeEOiZTAgh/+qlUAAYzaX/obSUAR4i4AoAdxIJ9PQJu0lCzZrxYga7J19Wa3\n",
       "Outcx2c4q39THd3DJh7b3RJMSDcPEgSqm1QN98fDbpphfP8w/w0FTdxNyrG9mVx8wXtWMCyO5cWW\n",
       "x/ovhEEDuzWCFsun/zJsLYFtQAAAAI9Bm3BJ4Q8mUwIIf/6qVQABtPjoJFFuaPJiUYd2s4N4g5qq\n",
       "h+AB7umgBpY0FZLS2dP8bIySF25uFhNEQeHMLEbT/mbCJToBGNgIisSjym6jIuoGmKQFiIV+FQ4y\n",
       "0cgkZB/1qYpHyLbZqJFkVjLD/3WnNSclhy4Ea3dSuVV49qzAPgYMdI0BumWmergzizYBOQAAAEhB\n",
       "n45FETw3/wAEtr0A5z0aQh1bcWS/h/4ZirPOwAALHcfZy5aWH7dDe+a62Ccss0Xs0SwPBSVFxcuZ\n",
       "BtInARtb82Vr6G5lLaEAAAAcAZ+vakN/AAS2vQDnPRpCHWEY+JM161CplLGVgAAAAKBBm7JJqEFo\n",
       "mUwU8EP//qpVAAHHQL+AEZXeQRGoAPXqCllY6xxSAxpy2/9DfztNfpuiEu5JrEfBM5qizD8sIU/q\n",
       "KtSSjIslwX4B0FKqOzL579cql9dbbe0fq1/2rTiWklTovOgoMaf4ryui+zXCvGdDmCl5grc9aPxt\n",
       "P/1AXMUxDYyvPaO7wWRKpO4frLU1muNJ0lsB4AsOz8oNFiDgsHpAAAAAOwGf0WpDfwAE+efI52d2\n",
       "jUtpgM7bLRtYKohaCxOqbK22lPKkgAnGMz/mMPGwIhI+HYk0snipmcX2n4ObAAAAZEGb00nhClJl\n",
       "MCCH//6qVQABZRCgURJUAAlUyrC+/MJ7WAIkrVBrGEq7UmyCLJ9goD9TqYtURBtx59X5aiUaofw/\n",
       "ITpgjf+udqY+KTJx71/UMjkG6s6PjA/ffADG0eImOqe9aF4AAABBQZv3SeEOiZTAh//+qZYABvMc\n",
       "Cu9L9g3IwpAtCS+ka+PRro+QUHVYo9oSdKNA5TYOUmL6t0jEFPCGuAF3e43jJIEAAAAkQZ4VRRE8\n",
       "O/8AA3oI/6djen5krweRZvF9zBYtN4qIWkNC0500AAAAGwGeNHRDfwADN9VSCaHoKXmyHjJ/g0od\n",
       "Pda/wQAAAB0BnjZqQ38ABPk6QEPnMxeSuktW7DpRVIGBxtO4gQAAACNBmjhJqEFomUwId//+qZYA\n",
       "Blvh/GVtvZlZKgkd1QITqlFKCQAAACpBmllJ4QpSZTAhv/6nhAAMjaZnUj83amDw/aGtj0jQnTDD\n",
       "l4HvUm3o7oEAAC+ebW9vdgAAAGxtdmhkAAAAAAAAAAAAAAAAAAAD6AABhqAAAQAAAQAAAAAAAAAA\n",
       "AAAAAAEAAAAAAAAAAAAAAAAAAAABAAAAAAAAAAAAAAAAAABAAAAAAAAAAAAAAAAAAAAAAAAAAAAA\n",
       "AAAAAAAAAAAAAgAALsh0cmFrAAAAXHRraGQAAAADAAAAAAAAAAAAAAABAAAAAAABhqAAAAAAAAAA\n",
       "AAAAAAAAAAAAAAEAAAAAAAAAAAAAAAAAAAABAAAAAAAAAAAAAAAAAABAAAAAAbAAAAEgAAAAAAAk\n",
       "ZWR0cwAAABxlbHN0AAAAAAAAAAEAAYagAAAIAAABAAAAAC5AbWRpYQAAACBtZGhkAAAAAAAAAAAA\n",
       "AAAAAAAoAAAPoABVxAAAAAAALWhkbHIAAAAAAAAAAHZpZGUAAAAAAAAAAAAAAABWaWRlb0hhbmRs\n",
       "ZXIAAAAt621pbmYAAAAUdm1oZAAAAAEAAAAAAAAAAAAAACRkaW5mAAAAHGRyZWYAAAAAAAAAAQAA\n",
       "AAx1cmwgAAAAAQAALatzdGJsAAAAt3N0c2QAAAAAAAAAAQAAAKdhdmMxAAAAAAAAAAEAAAAAAAAA\n",
       "AAAAAAAAAAAAAbABIABIAAAASAAAAAAAAAABAAAAAAAAAAAAAAAAAAAAAAAAAAAAAAAAAAAAAAAA\n",
       "AAAAGP//AAAANWF2Y0MBZAAV/+EAGGdkABWs2UGwloQAAAMABAAAAwBQPFi2WAEABmjr48siwP34\n",
       "+AAAAAAcdXVpZGtoQPJfJE/FujmlG88DI/MAAAAAAAAAGHN0dHMAAAAAAAAAAQAAA+gAAAQAAAAA\n",
       "IHN0c3MAAAAAAAAABAAAAAEAAAD7AAAB9QAAAu8AABzQY3R0cwAAAAAAAAOYAAAAAQAACAAAAAAB\n",
       "AAAUAAAAAAEAAAgAAAAAAQAAAAAAAAABAAAEAAAAAAEAABQAAAAAAQAACAAAAAABAAAAAAAAAAEA\n",
       "AAQAAAAAAQAADAAAAAABAAAEAAAAAAEAAAgAAAAAAQAAFAAAAAABAAAIAAAAAAEAAAAAAAAAAQAA\n",
       "BAAAAAABAAAUAAAAAAEAAAgAAAAAAQAAAAAAAAABAAAEAAAAAAEAABQAAAAAAQAACAAAAAABAAAA\n",
       "AAAAAAEAAAQAAAAAAQAAFAAAAAABAAAIAAAAAAEAAAAAAAAAAQAABAAAAAABAAAQAAAAAAIAAAQA\n",
       "AAAAAQAACAAAAAABAAAUAAAAAAEAAAgAAAAAAQAAAAAAAAABAAAEAAAAAAIAAAgAAAAAAQAAEAAA\n",
       "AAACAAAEAAAAAAEAABQAAAAAAQAACAAAAAABAAAAAAAAAAEAAAQAAAAAAQAAFAAAAAABAAAIAAAA\n",
       "AAEAAAAAAAAAAQAABAAAAAABAAAUAAAAAAEAAAgAAAAAAQAAAAAAAAABAAAEAAAAAAEAABQAAAAA\n",
       "AQAACAAAAAABAAAAAAAAAAEAAAQAAAAAAQAAFAAAAAABAAAIAAAAAAEAAAAAAAAAAQAABAAAAAAB\n",
       "AAAMAAAAAAEAAAQAAAAAAQAAEAAAAAACAAAEAAAAAAEAABQAAAAAAQAACAAAAAABAAAAAAAAAAEA\n",
       "AAQAAAAAAQAAFAAAAAABAAAIAAAAAAEAAAAAAAAAAQAABAAAAAABAAAUAAAAAAEAAAgAAAAAAQAA\n",
       "AAAAAAABAAAEAAAAAAEAABQAAAAAAQAACAAAAAABAAAAAAAAAAEAAAQAAAAAAQAACAAAAAABAAAU\n",
       "AAAAAAEAAAgAAAAAAQAAAAAAAAABAAAEAAAAAAEAABAAAAAAAgAABAAAAAABAAAQAAAAAAIAAAQA\n",
       "AAAAAQAAFAAAAAABAAAIAAAAAAEAAAAAAAAAAQAABAAAAAABAAAMAAAAAAEAAAQAAAAAAQAACAAA\n",
       "AAABAAAUAAAAAAEAAAgAAAAAAQAAAAAAAAABAAAEAAAAAAEAABAAAAAAAgAABAAAAAABAAAMAAAA\n",
       "AAEAAAQAAAAAAQAADAAAAAABAAAEAAAAAAEAABQAAAAAAQAACAAAAAABAAAAAAAAAAEAAAQAAAAA\n",
       "AQAACAAAAAABAAAMAAAAAAEAAAQAAAAAAQAAFAAAAAABAAAIAAAAAAEAAAAAAAAAAQAABAAAAAAB\n",
       "AAAQAAAAAAIAAAQAAAAAAQAAFAAAAAABAAAIAAAAAAEAAAAAAAAAAQAABAAAAAABAAAIAAAAAAEA\n",
       "ABQAAAAAAQAACAAAAAABAAAAAAAAAAEAAAQAAAAAAQAAFAAAAAABAAAIAAAAAAEAAAAAAAAAAQAA\n",
       "BAAAAAABAAAUAAAAAAEAAAgAAAAAAQAAAAAAAAABAAAEAAAAAAEAABQAAAAAAQAACAAAAAABAAAA\n",
       "AAAAAAEAAAQAAAAAAQAAFAAAAAABAAAIAAAAAAEAAAAAAAAAAQAABAAAAAABAAAUAAAAAAEAAAgA\n",
       "AAAAAQAAAAAAAAABAAAEAAAAAAEAABQAAAAAAQAACAAAAAABAAAAAAAAAAEAAAQAAAAAAQAAFAAA\n",
       "AAABAAAIAAAAAAEAAAAAAAAAAQAABAAAAAABAAAIAAAAAAEAABAAAAAAAgAABAAAAAABAAAMAAAA\n",
       "AAEAAAQAAAAAAQAAFAAAAAABAAAIAAAAAAEAAAAAAAAAAQAABAAAAAABAAAUAAAAAAEAAAgAAAAA\n",
       "AQAAAAAAAAABAAAEAAAAAAEAAAgAAAAAAQAAFAAAAAABAAAIAAAAAAEAAAAAAAAAAQAABAAAAAAB\n",
       "AAAIAAAAAAEAAAwAAAAAAQAABAAAAAABAAAMAAAAAAEAAAQAAAAAAQAAFAAAAAABAAAIAAAAAAEA\n",
       "AAAAAAAAAQAABAAAAAABAAAIAAAAAAEAAAwAAAAAAQAABAAAAAABAAAQAAAAAAIAAAQAAAAAAQAA\n",
       "FAAAAAABAAAIAAAAAAEAAAAAAAAAAQAABAAAAAABAAAUAAAAAAEAAAgAAAAAAQAAAAAAAAABAAAE\n",
       "AAAAAAEAABQAAAAAAQAACAAAAAABAAAAAAAAAAEAAAQAAAAAAQAAFAAAAAABAAAIAAAAAAEAAAAA\n",
       "AAAAAQAABAAAAAABAAAIAAAAAAEAAAwAAAAAAQAABAAAAAABAAAMAAAAAAEAAAQAAAAAAQAAFAAA\n",
       "AAABAAAIAAAAAAEAAAAAAAAAAQAABAAAAAABAAAIAAAAAAEAABAAAAAAAgAABAAAAAABAAAUAAAA\n",
       "AAEAAAgAAAAAAQAAAAAAAAABAAAEAAAAAAEAABQAAAAAAQAACAAAAAABAAAAAAAAAAEAAAQAAAAA\n",
       "AQAADAAAAAABAAAEAAAAAAEAAAwAAAAAAQAABAAAAAABAAAMAAAAAAEAAAQAAAAAAQAAFAAAAAAB\n",
       "AAAIAAAAAAEAAAAAAAAAAQAABAAAAAABAAAIAAAAAAEAABAAAAAAAgAABAAAAAABAAAIAAAAAAEA\n",
       "AAwAAAAAAQAABAAAAAADAAAIAAAAAAEAABAAAAAAAgAABAAAAAABAAAMAAAAAAEAAAQAAAAAAQAA\n",
       "EAAAAAACAAAEAAAAAAEAABAAAAAAAgAABAAAAAABAAAQAAAAAAIAAAQAAAAAAQAAFAAAAAABAAAI\n",
       "AAAAAAEAAAAAAAAAAQAABAAAAAABAAAIAAAAAAEAABQAAAAAAQAACAAAAAABAAAAAAAAAAEAAAQA\n",
       "AAAAAQAAEAAAAAACAAAEAAAAAAEAABQAAAAAAQAACAAAAAABAAAAAAAAAAEAAAQAAAAAAQAAFAAA\n",
       "AAABAAAIAAAAAAEAAAAAAAAAAQAABAAAAAABAAAQAAAAAAIAAAQAAAAAAQAACAAAAAABAAAUAAAA\n",
       "AAEAAAgAAAAAAQAAAAAAAAABAAAEAAAAAAEAAAwAAAAAAQAABAAAAAABAAAIAAAAAAEAABQAAAAA\n",
       "AQAACAAAAAABAAAAAAAAAAEAAAQAAAAAAQAAFAAAAAABAAAIAAAAAAEAAAAAAAAAAQAABAAAAAAB\n",
       "AAAQAAAAAAIAAAQAAAAAAQAAFAAAAAABAAAIAAAAAAEAAAAAAAAAAQAABAAAAAABAAAUAAAAAAEA\n",
       "AAgAAAAAAQAAAAAAAAABAAAEAAAAAAEAABAAAAAAAgAABAAAAAABAAAMAAAAAAEAAAQAAAAAAQAA\n",
       "EAAAAAACAAAEAAAAAAEAAAwAAAAAAQAABAAAAAABAAAUAAAAAAEAAAgAAAAAAQAAAAAAAAABAAAE\n",
       "AAAAAAEAABQAAAAAAQAACAAAAAABAAAAAAAAAAEAAAQAAAAAAQAACAAAAAABAAAMAAAAAAEAAAQA\n",
       "AAAAAQAAFAAAAAABAAAIAAAAAAEAAAAAAAAAAQAABAAAAAABAAAQAAAAAAIAAAQAAAAAAQAAFAAA\n",
       "AAABAAAIAAAAAAEAAAAAAAAAAQAABAAAAAABAAAMAAAAAAEAAAQAAAAAAQAACAAAAAABAAAMAAAA\n",
       "AAEAAAQAAAAAAQAAFAAAAAABAAAIAAAAAAEAAAAAAAAAAQAABAAAAAABAAAIAAAAAAEAABAAAAAA\n",
       "AgAABAAAAAABAAAMAAAAAAEAAAQAAAAAAQAAEAAAAAACAAAEAAAAAAEAABAAAAAAAgAABAAAAAAB\n",
       "AAAUAAAAAAEAAAgAAAAAAQAAAAAAAAABAAAEAAAAAAEAABAAAAAAAgAABAAAAAABAAAQAAAAAAIA\n",
       "AAQAAAAAAQAAFAAAAAABAAAIAAAAAAEAAAAAAAAAAQAABAAAAAABAAAIAAAAAAEAAAwAAAAAAQAA\n",
       "BAAAAAABAAAUAAAAAAEAAAgAAAAAAQAAAAAAAAABAAAEAAAAAAEAAAwAAAAAAQAABAAAAAABAAAU\n",
       "AAAAAAEAAAgAAAAAAQAAAAAAAAABAAAEAAAAAAEAAAwAAAAAAQAABAAAAAABAAAUAAAAAAEAAAgA\n",
       "AAAAAQAAAAAAAAABAAAEAAAAAAEAABAAAAAAAgAABAAAAAABAAAIAAAAAAEAABAAAAAAAgAABAAA\n",
       "AAABAAAIAAAAAAEAAAwAAAAAAQAABAAAAAABAAAUAAAAAAEAAAgAAAAAAQAAAAAAAAABAAAEAAAA\n",
       "AAEAAAwAAAAAAQAABAAAAAABAAAQAAAAAAIAAAQAAAAAAQAAFAAAAAABAAAIAAAAAAEAAAAAAAAA\n",
       "AQAABAAAAAABAAAMAAAAAAEAAAQAAAAAAQAAEAAAAAACAAAEAAAAAAEAAAgAAAAAAQAAFAAAAAAB\n",
       "AAAIAAAAAAEAAAAAAAAAAQAABAAAAAACAAAIAAAAAAEAAAwAAAAAAQAABAAAAAABAAAIAAAAAAEA\n",
       "ABQAAAAAAQAACAAAAAABAAAAAAAAAAEAAAQAAAAAAQAAFAAAAAABAAAIAAAAAAEAAAAAAAAAAQAA\n",
       "BAAAAAABAAAMAAAAAAEAAAQAAAAAAQAADAAAAAABAAAEAAAAAAEAAAwAAAAAAQAABAAAAAABAAAU\n",
       "AAAAAAEAAAgAAAAAAQAAAAAAAAABAAAEAAAAAAEAAAwAAAAAAQAABAAAAAABAAAQAAAAAAIAAAQA\n",
       "AAAAAQAAFAAAAAABAAAIAAAAAAEAAAAAAAAAAQAABAAAAAABAAAMAAAAAAEAAAQAAAAAAQAAEAAA\n",
       "AAACAAAEAAAAAAEAABQAAAAAAQAACAAAAAABAAAAAAAAAAEAAAQAAAAAAQAADAAAAAABAAAEAAAA\n",
       "AAIAAAgAAAAAAQAAEAAAAAACAAAEAAAAAAEAABQAAAAAAQAACAAAAAABAAAAAAAAAAEAAAQAAAAA\n",
       "AQAACAAAAAABAAAUAAAAAAEAAAgAAAAAAQAAAAAAAAABAAAEAAAAAAEAABAAAAAAAgAABAAAAAAB\n",
       "AAAMAAAAAAEAAAQAAAAAAwAACAAAAAABAAAQAAAAAAIAAAQAAAAAAQAAFAAAAAABAAAIAAAAAAEA\n",
       "AAAAAAAAAQAABAAAAAABAAAUAAAAAAEAAAgAAAAAAQAAAAAAAAABAAAEAAAAAAEAABAAAAAAAgAA\n",
       "BAAAAAABAAAQAAAAAAIAAAQAAAAAAQAACAAAAAABAAAUAAAAAAEAAAgAAAAAAQAAAAAAAAABAAAE\n",
       "AAAAAAEAABAAAAAAAgAABAAAAAABAAAUAAAAAAEAAAgAAAAAAQAAAAAAAAABAAAEAAAAAAEAABQA\n",
       "AAAAAQAACAAAAAABAAAAAAAAAAEAAAQAAAAAAQAACAAAAAABAAAUAAAAAAEAAAgAAAAAAQAAAAAA\n",
       "AAABAAAEAAAAAAEAABQAAAAAAQAACAAAAAABAAAAAAAAAAEAAAQAAAAAAQAADAAAAAABAAAEAAAA\n",
       "AAEAABQAAAAAAQAACAAAAAABAAAAAAAAAAEAAAQAAAAAAQAAFAAAAAABAAAIAAAAAAEAAAAAAAAA\n",
       "AQAABAAAAAABAAAMAAAAAAEAAAQAAAAAAQAADAAAAAABAAAEAAAAAAEAAAgAAAAAAQAAFAAAAAAB\n",
       "AAAIAAAAAAEAAAAAAAAAAQAABAAAAAABAAAMAAAAAAEAAAQAAAAAAQAAFAAAAAABAAAIAAAAAAEA\n",
       "AAAAAAAAAQAABAAAAAABAAAUAAAAAAEAAAgAAAAAAQAAAAAAAAABAAAEAAAAAAEAABQAAAAAAQAA\n",
       "CAAAAAABAAAAAAAAAAEAAAQAAAAAAQAAFAAAAAABAAAIAAAAAAEAAAAAAAAAAQAABAAAAAABAAAQ\n",
       "AAAAAAIAAAQAAAAAAQAACAAAAAABAAAUAAAAAAEAAAgAAAAAAQAAAAAAAAABAAAEAAAAAAEAABQA\n",
       "AAAAAQAACAAAAAABAAAAAAAAAAEAAAQAAAAAAQAADAAAAAABAAAEAAAAAAEAABQAAAAAAQAACAAA\n",
       "AAABAAAAAAAAAAEAAAQAAAAAAQAAEAAAAAACAAAEAAAAAAEAABQAAAAAAQAACAAAAAABAAAAAAAA\n",
       "AAEAAAQAAAAAAQAADAAAAAABAAAEAAAAAAEAAAwAAAAAAQAABAAAAAABAAAMAAAAAAEAAAQAAAAA\n",
       "AQAADAAAAAABAAAEAAAAAAEAABQAAAAAAQAACAAAAAABAAAAAAAAAAEAAAQAAAAAAQAAEAAAAAAC\n",
       "AAAEAAAAAAEAABQAAAAAAQAACAAAAAABAAAAAAAAAAEAAAQAAAAAAQAAFAAAAAABAAAIAAAAAAEA\n",
       "AAAAAAAAAQAABAAAAAABAAAUAAAAAAEAAAgAAAAAAQAAAAAAAAABAAAEAAAAAAEAABQAAAAAAQAA\n",
       "CAAAAAABAAAAAAAAAAEAAAQAAAAAAQAAFAAAAAABAAAIAAAAAAEAAAAAAAAAAQAABAAAAAABAAAI\n",
       "AAAAAAEAABAAAAAAAgAABAAAAAABAAAUAAAAAAEAAAgAAAAAAQAAAAAAAAABAAAEAAAAAAEAAAgA\n",
       "AAAAAQAADAAAAAABAAAEAAAAAAEAAAwAAAAAAQAABAAAAAABAAAIAAAAAAEAAAwAAAAAAQAABAAA\n",
       "AAABAAAQAAAAAAIAAAQAAAAAAQAACAAAAAABAAAMAAAAAAEAAAQAAAAAAQAAFAAAAAABAAAIAAAA\n",
       "AAEAAAAAAAAAAQAABAAAAAABAAAIAAAAAAEAABQAAAAAAQAACAAAAAABAAAAAAAAAAEAAAQAAAAA\n",
       "AQAADAAAAAABAAAEAAAAAAEAAAgAAAAAAQAAFAAAAAABAAAIAAAAAAEAAAAAAAAAAQAABAAAAAAB\n",
       "AAAIAAAAAAEAABQAAAAAAQAACAAAAAABAAAAAAAAAAEAAAQAAAAAAQAACAAAAAABAAAUAAAAAAEA\n",
       "AAgAAAAAAQAAAAAAAAABAAAEAAAAAAEAABQAAAAAAQAACAAAAAABAAAAAAAAAAEAAAQAAAAAAQAA\n",
       "FAAAAAABAAAIAAAAAAEAAAAAAAAAAQAABAAAAAABAAAUAAAAAAEAAAgAAAAAAQAAAAAAAAABAAAE\n",
       "AAAAAAEAABQAAAAAAQAACAAAAAABAAAAAAAAAAEAAAQAAAAAAQAAFAAAAAABAAAIAAAAAAEAAAAA\n",
       "AAAAAQAABAAAAAABAAAMAAAAAAEAAAQAAAAAAQAADAAAAAABAAAEAAAAAAEAABAAAAAAAgAABAAA\n",
       "AAABAAAUAAAAAAEAAAgAAAAAAQAAAAAAAAABAAAEAAAAAAIAAAgAAAAAAQAADAAAAAABAAAEAAAA\n",
       "AAEAABQAAAAAAQAACAAAAAABAAAAAAAAAAEAAAQAAAAAAQAAEAAAAAACAAAEAAAAAAEAAAwAAAAA\n",
       "AQAABAAAAAABAAAUAAAAAAEAAAgAAAAAAQAAAAAAAAABAAAEAAAAAAEAABQAAAAAAQAACAAAAAAB\n",
       "AAAAAAAAAAEAAAQAAAAAAQAACAAAAAABAAAQAAAAAAIAAAQAAAAAAQAADAAAAAABAAAEAAAAAAEA\n",
       "ABQAAAAAAQAACAAAAAABAAAAAAAAAAEAAAQAAAAAAQAACAAAAAABAAAUAAAAAAEAAAgAAAAAAQAA\n",
       "AAAAAAABAAAEAAAAAAEAABAAAAAAAgAABAAAAAABAAAUAAAAAAEAAAgAAAAAAQAAAAAAAAABAAAE\n",
       "AAAAAAEAABAAAAAAAgAABAAAAAABAAAUAAAAAAEAAAgAAAAAAQAAAAAAAAABAAAEAAAAAAEAABQA\n",
       "AAAAAQAACAAAAAABAAAAAAAAAAEAAAQAAAAAAQAACAAAAAABAAAMAAAAAAEAAAQAAAAAAQAAFAAA\n",
       "AAABAAAIAAAAAAEAAAAAAAAAAQAABAAAAAABAAAUAAAAAAEAAAgAAAAAAQAAAAAAAAABAAAEAAAA\n",
       "AAEAABAAAAAAAgAABAAAAAABAAAUAAAAAAEAAAgAAAAAAQAAAAAAAAABAAAEAAAAAAEAABQAAAAA\n",
       "AQAACAAAAAABAAAAAAAAAAEAAAQAAAAAAQAAFAAAAAABAAAIAAAAAAEAAAAAAAAAAQAABAAAAAAB\n",
       "AAAUAAAAAAEAAAgAAAAAAQAAAAAAAAABAAAEAAAAAAIAAAgAAAAAAQAAFAAAAAABAAAIAAAAAAEA\n",
       "AAAAAAAAAQAABAAAAAACAAAIAAAAAAEAABQAAAAAAQAACAAAAAABAAAAAAAAAAEAAAQAAAAAAQAA\n",
       "CAAAAAABAAAUAAAAAAEAAAgAAAAAAQAAAAAAAAABAAAEAAAAAAEAAAgAAAAAAQAADAAAAAABAAAE\n",
       "AAAAAAIAAAgAAAAAAQAADAAAAAABAAAEAAAAAAEAABAAAAAAAgAABAAAAAABAAAMAAAAAAEAAAQA\n",
       "AAAAAQAADAAAAAABAAAEAAAAAAEAABQAAAAAAQAACAAAAAABAAAAAAAAAAEAAAQAAAAAAQAADAAA\n",
       "AAABAAAEAAAAAAEAABAAAAAAAgAABAAAAAABAAAMAAAAAAEAAAQAAAAAAQAAFAAAAAABAAAIAAAA\n",
       "AAEAAAAAAAAAAQAABAAAAAABAAAUAAAAAAEAAAgAAAAAAQAAAAAAAAABAAAEAAAAAAEAABQAAAAA\n",
       "AQAACAAAAAABAAAAAAAAAAEAAAQAAAAAAQAADAAAAAABAAAEAAAAAAEAABQAAAAAAQAACAAAAAAB\n",
       "AAAAAAAAAAEAAAQAAAAAAQAADAAAAAABAAAEAAAAAAEAAAwAAAAAAQAABAAAAAABAAAQAAAAAAIA\n",
       "AAQAAAAAAQAAFAAAAAABAAAIAAAAAAEAAAAAAAAAAQAABAAAAAABAAAIAAAAAAEAABAAAAAAAgAA\n",
       "BAAAAAABAAAQAAAAAAIAAAQAAAAAAQAAEAAAAAACAAAEAAAAAAEAAAgAAAAAAQAAEAAAAAACAAAE\n",
       "AAAAAAEAAAwAAAAAAQAABAAAAAABAAAQAAAAAAIAAAQAAAAAAQAAFAAAAAABAAAIAAAAAAEAAAAA\n",
       "AAAAAQAABAAAAAABAAAMAAAAAAEAAAQAAAAAAQAACAAAAAABAAAMAAAAAAEAAAQAAAAAAQAAFAAA\n",
       "AAABAAAIAAAAAAEAAAAAAAAAAQAABAAAAAABAAAQAAAAAAIAAAQAAAAAAQAAFAAAAAABAAAIAAAA\n",
       "AAEAAAAAAAAAAQAABAAAAAABAAAUAAAAAAEAAAgAAAAAAQAAAAAAAAABAAAEAAAAAAEAABAAAAAA\n",
       "AgAABAAAAAABAAAIAAAAAAEAAAwAAAAAAQAABAAAAAABAAAMAAAAAAEAAAQAAAAAAQAACAAAAAAB\n",
       "AAAQAAAAAAIAAAQAAAAAAQAAEAAAAAACAAAEAAAAAAEAABAAAAAAAgAABAAAAAACAAAIAAAAAAEA\n",
       "ABQAAAAAAQAACAAAAAABAAAAAAAAAAEAAAQAAAAAAgAACAAAAAABAAAUAAAAAAEAAAgAAAAAAQAA\n",
       "AAAAAAABAAAEAAAAAAEAABQAAAAAAQAACAAAAAABAAAAAAAAAAEAAAQAAAAAAQAAFAAAAAABAAAI\n",
       "AAAAAAEAAAAAAAAAAQAABAAAAAABAAAQAAAAAAIAAAQAAAAAAQAAEAAAAAACAAAEAAAAAAEAABQA\n",
       "AAAAAQAACAAAAAABAAAAAAAAAAEAAAQAAAAAAQAAFAAAAAABAAAIAAAAAAEAAAAAAAAAAQAABAAA\n",
       "AAABAAAUAAAAAAEAAAgAAAAAAQAAAAAAAAABAAAEAAAAAAEAAAwAAAAAAQAABAAAAAABAAAIAAAA\n",
       "AAEAABQAAAAAAQAACAAAAAABAAAAAAAAAAEAAAQAAAAAAQAAEAAAAAACAAAEAAAAAAEAAAwAAAAA\n",
       "AQAABAAAAAABAAAMAAAAAAEAAAQAAAAAAQAACAAAAAABAAAQAAAAAAIAAAQAAAAAAQAADAAAAAAB\n",
       "AAAEAAAAAAEAAAgAAAAAAQAAFAAAAAABAAAIAAAAAAEAAAAAAAAAAQAABAAAAAACAAAIAAAAABxz\n",
       "dHNjAAAAAAAAAAEAAAABAAAD6AAAAAEAAA+0c3RzegAAAAAAAAAAAAAD6AAABbQAAAERAAAAKAAA\n",
       "AB0AAAAnAAAALAAAADwAAAAbAAAAGwAAAEQAAAAaAAAATAAAANkAAAAwAAAAZQAAACUAAAB0AAAA\n",
       "HgAAABMAAAAzAAAAGAAAADEAAAAYAAAAFwAAAEgAAAAjAAAAGQAAABkAAAC2AAAAIAAAAEcAAACJ\n",
       "AAAATwAAADAAAABRAAAAIAAAADEAAABJAAAAiAAAACcAAAAeAAAAdgAAAC8AAABhAAAAGQAAAEoA\n",
       "AAAoAAAAHwAAABcAAAC4AAAAKAAAAB0AAAAgAAAAnAAAAC4AAAAYAAAAJQAAACoAAAA6AAAAGAAA\n",
       "ABkAAAAoAAAAFwAAAJAAAAAfAAAANwAAAFkAAAAqAAAAGwAAACcAAACaAAAALgAAAB8AAAAfAAAA\n",
       "eQAAACQAAAAQAAAAbAAAABkAAAAmAAAAHwAAACoAAABTAAAALAAAAB8AAAAdAAAAGQAAAIYAAAAe\n",
       "AAAAHwAAABgAAAAfAAAAGAAAAH4AAAAhAAAALgAAAB8AAAC7AAAALwAAAHsAAABhAAAAHwAAACMA\n",
       "AAARAAAARAAAACMAAAAaAAAAMAAAABoAAACGAAAAPAAAAIAAAAAvAAAAGwAAACkAAAAoAAAAMgAA\n",
       "AB0AAABNAAAAIwAAACEAAAArAAAANgAAAC4AAAAkAAAARwAAACcAAABfAAAAHQAAAHMAAAAvAAAA\n",
       "PQAAABkAAAAiAAAAKAAAAGgAAAAcAAAALQAAAGcAAAAgAAAAIAAAADEAAACiAAAALAAAABYAAAB+\n",
       "AAAAaAAAACMAAAAaAAAAGQAAAJEAAAAqAAAAHgAAAGIAAAC8AAAARwAAAC8AAAAmAAAAWQAAACQA\n",
       "AAAhAAAAfQAAACkAAABfAAAAJAAAACEAAABKAAAAZAAAAOAAAAAuAAAAYQAAABoAAACEAAAAKAAA\n",
       "ADgAAAAuAAAAJwAAAK0AAACYAAAAeAAAADIAAABlAAAAMgAAAB8AAABFAAAAGgAAALkAAAAtAAAA\n",
       "HAAAACUAAABrAAAATQAAAC0AAABbAAAAJgAAABkAAACRAAAAJgAAABoAAAAiAAAAOgAAACAAAAAl\n",
       "AAAAEQAAAKgAAAAuAAAAGgAAACYAAADFAAAANQAAACQAAABJAAAAogAAAFYAAAAsAAAAZQAAADIA\n",
       "AADaAAAALgAAAEYAAAAnAAAAPQAAAM0AAABLAAAANwAAAHgAAAArAAAAHgAAAC0AAABaAAAAIwAA\n",
       "ACEAAAARAAAAaAAAABsAAAAuAAAAHwAAABgAAAAbAAAAcgAAACgAAAAhAAAAHAAAAC0AAAAZAAAA\n",
       "IAAAACUAAAA1AAAAtAAAACcAAAM+AAAAvwAAAFEAAABLAAAAJgAAACgAAADBAAAAKwAAACwAAAAb\n",
       "AAAAIAAAAJ0AAAAmAAAAIQAAABgAAAAeAAAAIwAAACoAAAAbAAAAHQAAABgAAACSAAAAHAAAADUA\n",
       "AAAYAAAAGQAAAEcAAAAeAAAAGQAAAFcAAAAjAAAAHgAAADEAAACNAAAAIgAAABAAAAAjAAAALwAA\n",
       "AB8AAAAZAAAALQAAAFkAAAAmAAAAIAAAABkAAAAsAAAAGQAAAHgAAAAbAAAAEwAAAC4AAAAQAAAA\n",
       "eQAAACcAAAAYAAAAIQAAAC4AAAAfAAAAHwAAANIAAABCAAAAIQAAADAAAACjAAAATAAAACgAAAAZ\n",
       "AAAAKAAAADAAAAAhAAAANQAAABkAAACyAAAAJAAAAB8AAABTAAAAXQAAAHAAAAAoAAAAHwAAABoA\n",
       "AAA0AAAAHQAAACAAAAAhAAAAigAAAFoAAAAfAAAAPAAAAB8AAAAaAAAAEQAAAGgAAAAiAAAAGAAA\n",
       "AC8AAABaAAAAIAAAADcAAABmAAAAGgAAACgAAAAqAAAAFwAAADYAAAAdAAAAIAAAABAAAABTAAAA\n",
       "KAAAACUAAABqAAAALwAAAB0AAADiAAAAKAAAADgAAAA6AAAAIAAAACkAAAAwAAAAHQAAADAAAABc\n",
       "AAAAuQAAADAAAAA3AAAApgAAACQAAAA8AAAAYQAAACUAAAAaAAAAGwAAAEgAAACyAAAAKwAAADkA\n",
       "AAAkAAAAOwAAABsAAAB6AAAAIwAAAFEAAAAuAAAALgAAAB4AAABVAAAAHwAAAEQAAAAsAAAAIgAA\n",
       "AB8AAACkAAAAZwAAACcAAABmAAAAagAAADAAAAAsAAAAaQAAAJMAAAAiAAAAWAAAACkAAABRAAAA\n",
       "HAAAAGYAAAAgAAAAogAAAEwAAAA2AAAANQAAAB4AAAAdAAAAHAAAAC8AAAAfAAAAKwAAACEAAAAZ\n",
       "AAAAcQAAAMMAAAAvAAAAGQAAACQAAABEAAAAOwAAARcAAAArAAAAVQAAAFwAAAAjAAAAGgAAACEA\n",
       "AAC0AAAAKQAAABgAAAAkAAAAXgAAABsAAAAvAAAAGQAAAD0AAACZAAAAtQAAACQAAAAkAAAAGgAA\n",
       "AK0AAAAmAAAAhQAAAEYAAABEAAAAywAAACoAAAAeAAAAHgAAACwAAAA0AAAAawAAACkAAAAcAAAA\n",
       "rgAAAEAAAAAtAAAAJQAAAFoAAAAfAAAAOgAAAKkAAAAvAAAAHgAAABgAAADfAAAAMgAAACgAAAAn\n",
       "AAAAvQAAAG0AAAAuAAAAOQAAACcAAAAmAAAAGQAAADYAAADEAAAAIQAAAD4AAABAAAADhAAAADkA\n",
       "AAAxAAAAGQAAAEEAAAAdAAAAIAAAABAAAABQAAAAUgAAAB4AAAAaAAAAUwAAACsAAAAZAAAAQwAA\n",
       "AHAAAABJAAAARwAAAEAAAACaAAAASAAAACUAAABCAAAAVAAAAEMAAAAxAAAAIQAAABgAAAAXAAAA\n",
       "KAAAAC4AAAAcAAAAGgAAACgAAADKAAAAIgAAABkAAAAgAAAAMQAAACoAAAAgAAAAGQAAAGAAAAAZ\n",
       "AAAAMwAAACQAAAAfAAAAWgAAABkAAABQAAAAGQAAABwAAABQAAAAGAAAAFIAAAAZAAAAJwAAAJMA\n",
       "AAAlAAAAIgAAABcAAAAqAAAALgAAAEAAAABPAAAAIgAAACcAAAAYAAAAFAAAABAAAAAQAAAArwAA\n",
       "AGkAAAA1AAAAIAAAAF4AAAAvAAAAEwAAACgAAABYAAAAMgAAACEAAAAoAAAASgAAABoAAAAYAAAA\n",
       "EAAAAHgAAAA2AAAAHAAAACsAAABSAAAAdwAAADYAAAAgAAAAJAAAABcAAAArAAAAVQAAAHsAAAAZ\n",
       "AAAAEgAAACAAAAAdAAAAzwAAACsAAACvAAAANwAAAC0AAAAlAAAAswAAACMAAABkAAAALQAAACMA\n",
       "AAAiAAAAKAAAABsAAAAXAAAAGAAAABwAAAAYAAAAGQAAABgAAAAcAAAAGAAAABcAAACzAAAAJQAA\n",
       "ABkAAAAgAAAAKgAAABsAAAAQAAAAFwAAAL0AAAAvAAAAHQAAAGoAAAB3AAAANAAAABwAAAAQAAAA\n",
       "mAAAAJMAAAAmAAAAOgAAACkAAAA4AAAAJgAAACsAAABMAAAAJwAAACgAAAAXAAAAMAAAABkAAAAQ\n",
       "AAAAlwAAAD8AAAAgAAAAxgAAADEAAAAbAAAAWgAAAGcAAAB2AAAAIAAAACAAAAAYAAAAZwAAACUA\n",
       "AAA2AAAAcQAAAC8AAAAtAAAAGQAAAC8AAAEOAAAAKgAAACEAAAAlAAAAPQAAABgAAABQAAAAKQAA\n",
       "ABwAAACSAAAAZwAAACAAAABBAAAANAAAAB0AAAAQAAAAGQAAAC8AAABGAAAALwAAAB8AAAApAAAA\n",
       "GwAAADUAAAAZAAAArQAAAEkAAAAqAAAAJQAAADMAAABNAAAAKAAAACMAAABvAAAAOQAAACIAAABJ\n",
       "AAAALAAAABoAAAAgAAAALAAAAEQAAAA9AAAAIAAAAHYAAAApAAAAVgAAACAAAAA1AAAANgAAACcA\n",
       "AAA4AAAAHgAAAIkAAAAyAAAAIwAAACAAAAB2AAAAMAAAAEoAAAAZAAAAVgAAAIgAAAAmAAAALAAA\n",
       "ADAAAAAnAAAAxAAAACgAAAAxAAAAEQAAA4YAAACtAAAAIgAAABwAAAB5AAAArwAAACMAAABaAAAA\n",
       "sgAAACQAAAAaAAAAIAAAABwAAAA/AAAAGQAAAG0AAAAeAAAAOAAAACcAAABzAAAAMQAAABsAAAAn\n",
       "AAAAKwAAAGsAAAAeAAAAZAAAABsAAAAgAAAAEAAAAFgAAABpAAAALAAAACAAAAA9AAAAIwAAABcA\n",
       "AACpAAAALAAAACcAAAAnAAAAowAAACsAAAAnAAAAHwAAACkAAAAbAAAAEAAAABgAAAA5AAAAHQAA\n",
       "ACIAAABkAAAAlgAAAIwAAACgAAAAKAAAABsAAAAuAAAAMgAAADgAAAC0AAAARQAAACoAAAAeAAAA\n",
       "NAAAADUAAAAfAAAAGwAAABAAAAClAAAALQAAACAAAAAvAAAAJwAAABkAAABIAAAAJwAAABoAAAA/\n",
       "AAAAYgAAAF0AAAA2AAAAIQAAACcAAAAiAAAAHwAAAH8AAAAsAAAAHwAAAJAAAAAnAAAAIAAAAFcA\n",
       "AAAfAAAANgAAADcAAAAgAAAAFwAAAF8AAAAeAAAAHwAAABAAAACGAAAAIgAAABAAAAA2AAAAPgAA\n",
       "AEUAAABCAAAAIAAAAB8AAAATAAAAOwAAACEAAAAYAAAAHAAAACgAAAAhAAAAGQAAAIkAAAAmAAAA\n",
       "HwAAABkAAACJAAAATgAAACYAAAAhAAAAZgAAAEAAAAAqAAAAMAAAAB0AAAAaAAAAwgAAAEMAAAAr\n",
       "AAAAGwAAABkAAAA3AAAAGAAAADMAAAAYAAAASwAAACMAAAAfAAAAGQAAAJsAAAAiAAAAgAAAACoA\n",
       "AAAuAAAAiwAAACYAAAAiAAAAHwAAABgAAAAeAAAAGQAAAEsAAAAbAAAAVAAAAHsAAACUAAAALAAA\n",
       "AB0AAAAgAAAAQAAAAB8AAAA0AAAAKAAAAGgAAAAhAAAALQAAAB8AAAAnAAAAPwAAAB8AAAAZAAAA\n",
       "iAAAACEAAAAZAAAAnwAAAHEAAAAeAAAAMAAAAD8AAAAtAAAAKQAAACkAAAAaAAAAWgAAAFkAAAAX\n",
       "AAAAIAAAABoAAAAfAAAAKAAAAE0AAAAeAAAAHgAAACkAAAAbAAAAEAAAABkAAACfAAAAKQAAABsA\n",
       "AACUAAAALgAAABkAAAAtAAAAIwAAABgAAAAYAAAAGAAAAGMAAAA/AAAAPgAAAFkAAAAzAAAAJgAA\n",
       "ABwAAAA2AAAAHwAAADIAAACBAAAAIwAAABgAAAAqAAAAXgAAADMAAAAlAAAAPwAAACQAAAA8AAAA\n",
       "JgAAAIAAAACTAAAATAAAACAAAACkAAAAPwAAAGgAAABFAAAAKAAAAB8AAAAhAAAAJwAAAC4AAAAU\n",
       "c3RjbwAAAAAAAAABAAAAMAAAAGJ1ZHRhAAAAWm1ldGEAAAAAAAAAIWhkbHIAAAAAAAAAAG1kaXJh\n",
       "cHBsAAAAAAAAAAAAAAAALWlsc3QAAAAlqXRvbwAAAB1kYXRhAAAAAQAAAABMYXZmNTguNDUuMTAw\n",
       "\">\n",
       "  Your browser does not support the video tag.\n",
       "</video>"
      ],
      "text/plain": [
       "<IPython.core.display.HTML object>"
      ]
     },
     "execution_count": 9,
     "metadata": {},
     "output_type": "execute_result"
    },
    {
     "data": {
      "image/png": "[encoded data removed]",
      "text/plain": [
       "<Figure size 432x288 with 1 Axes>"
      ]
     },
     "metadata": {},
     "output_type": "display_data"
    }
   ],
   "source": [
    "# reinitialize so we're back at a T=infinity state\n",
    "ising = RandomBondIsing1DPBC(10, J=1)\n",
    "print(ising.spins)  # print the starting configuration\n",
    "\n",
    "# NOTE: sometimes the animation gets stuck displaying a single image\n",
    "# The most reliable way to fix this is by restarting the notebook.\n",
    "# Initializing the Ising Model in the same cell as the one where you\n",
    "# run the animation also seems to work.\n",
    "IsingAnimator(ising).run_animation([T] * n_steps)"
   ]
  },
  {
   "cell_type": "code",
   "execution_count": 10,
   "metadata": {},
   "outputs": [
    {
     "data": {
      "text/plain": [
       "-8"
      ]
     },
     "execution_count": 10,
     "metadata": {},
     "output_type": "execute_result"
    }
   ],
   "source": [
    "dim = np.arange(2 ** ising.num_spins)\n",
    "space = ((dim[:, None] & (1 << np.arange(ising.num_spins))) > 0)\n",
    "\n",
    "space = 2*space.astype(int) - 1\n",
    "ising.energy(space).min()"
   ]
  },
  {
   "cell_type": "markdown",
   "metadata": {},
   "source": [
    "Now of course, we're limited in the size of the systems for which we can compute this energy exactly, hence why we need an annealing procedure which (we hope) would help us find the ground state of the Ising model of interest (or at least a state that is close enough)."
   ]
  },
  {
   "cell_type": "markdown",
   "metadata": {},
   "source": [
    "Your task is to come up with an annealing procedure to help find the ground state (or something close enough) of this model for several different chain sizes: 10, 20, 50, 100.\n",
    "\n",
    "For the small systems, compute the ground state energy exactly, and compare it to the result of your annealer.\n",
    "\n",
    "Since it's impossible to find the exact ground state for large systems, you will be evaluated on your algorithm's performance on the small systems, as well as the overall ingenuity of your method."
   ]
  },
  {
   "cell_type": "markdown",
   "metadata": {},
   "source": [
    "We now build an AnnealSchedule class to hold different schedules which we can compare."
   ]
  },
  {
   "cell_type": "code",
   "execution_count": 11,
   "metadata": {},
   "outputs": [],
   "source": [
    "class AnnealSchedule():\n",
    "    def __init__(self, N = 500):\n",
    "        self.N = N\n",
    "        \n",
    "    def expSchedule(self, T_i = 500, T_f = 0.01):\n",
    "        t = np.arange(self.N)\n",
    "        return T_i * ((T_f/T_i) ** (t/self.N)), t\n",
    "    \n",
    "    def logSchedule(self, d = 1):\n",
    "        t = np.arange(1, self.N+1)\n",
    "        return self.N / (np.log2(t + d)), t\n",
    "    \n",
    "    def HSSchedule(self, D = 100, t_start = 2, t_end = 500, t_step = 1):\n",
    "        t = np.arange(t_start, t_end, t_step)\n",
    "        return (D - 1) / np.log(t), t\n",
    "    \n",
    "    def linearSchedule(self, T_i = 500, nu = 1):\n",
    "        t = np.arange(self.N)\n",
    "        return T_i - nu*t, t\n",
    "    \n",
    "    def expOscillateSchedule(self, T_i = 500, T_f = 0.01, sinExpFactor = 1/2, sinScaleFactor = 5, amplitude = 20):\n",
    "        t = np.arange(self.N)\n",
    "        return T_i * ((T_f/T_i) ** (t/self.N)) + np.abs((amplitude/t**0.2)*np.sin(sinScaleFactor*t**sinExpFactor)), t"
   ]
  },
  {
   "cell_type": "markdown",
   "metadata": {},
   "source": [
    "We can see how each schedule changes in scaling as they are ploted."
   ]
  },
  {
   "cell_type": "code",
   "execution_count": 12,
   "metadata": {},
   "outputs": [
    {
     "name": "stderr",
     "output_type": "stream",
     "text": [
      "C:\\ProgramData\\Miniconda3\\envs\\pyQ\\lib\\site-packages\\ipykernel_launcher.py:23: RuntimeWarning: divide by zero encountered in true_divide\n",
      "C:\\ProgramData\\Miniconda3\\envs\\pyQ\\lib\\site-packages\\ipykernel_launcher.py:23: RuntimeWarning: invalid value encountered in multiply\n"
     ]
    },
    {
     "data": {
      "text/plain": [
       "<matplotlib.legend.Legend at 0x285f35d6308>"
      ]
     },
     "execution_count": 12,
     "metadata": {},
     "output_type": "execute_result"
    },
    {
     "data": {
      "image/png": "[encoded data removed]",
      "text/plain": [
       "<Figure size 432x288 with 1 Axes>"
      ]
     },
     "metadata": {
      "needs_background": "light"
     },
     "output_type": "display_data"
    }
   ],
   "source": [
    "N = 500\n",
    "aSch= AnnealSchedule(N)\n",
    "T_exp, t_exp = aSch.expSchedule()[0], aSch.expSchedule()[1]\n",
    "T_log, t_log = aSch.logSchedule()[0], aSch.logSchedule()[1]\n",
    "T_HS, t_HS = aSch.HSSchedule()[0], aSch.HSSchedule()[1]\n",
    "T_linear, t_linear = aSch.linearSchedule()[0], aSch.linearSchedule()[1]\n",
    "T_expOsc, t_expOsc = aSch.expOscillateSchedule()[0], aSch.expOscillateSchedule()[1]\n",
    "\n",
    "plt.plot(t_exp, T_exp, label=\"exp\")\n",
    "plt.plot(t_log, T_log, label=\"log\")\n",
    "plt.plot(t_HS, T_HS, label=\"HS\")\n",
    "plt.plot(t_linear, T_linear, label=\"linear\")\n",
    "plt.plot(t_expOsc, T_expOsc, label=\"expOsc\")\n",
    "plt.title(\"Annealing Schedule Comparison\")\n",
    "plt.ylabel(\"$T$\")\n",
    "plt.xlabel(\"time\")\n",
    "plt.legend(loc=\"upper right\")"
   ]
  },
  {
   "cell_type": "code",
   "execution_count": 13,
   "metadata": {},
   "outputs": [],
   "source": [
    "def mc_ground_state_energy(ising, n, steps=1000):\n",
    "    ising = ising(n, J=1)\n",
    "    E_vals = []\n",
    "    for t in range(steps):\n",
    "        E_vals.append(ising.mc_step(T=1.0))\n",
    "        \n",
    "    return np.min(E_vals)"
   ]
  },
  {
   "cell_type": "code",
   "execution_count": 14,
   "metadata": {},
   "outputs": [
    {
     "name": "stdout",
     "output_type": "stream",
     "text": [
      "For each output the order of schedules computed are \n",
      "Exponential, Logorithmic, HoffSala, Linear, and Exponetial Oscialtion\n",
      "MC ground state energy for chain length of 10, E =  -10\n",
      "Exact ground state energy for chain length of 10, E =  -10\n",
      "\n",
      "\n",
      "MC ground state energy for chain length of 20, E =  -18\n",
      "Exact ground state energy for chain length of 20, E =  -20\n",
      "\n",
      "\n",
      "MC ground state energy for chain length of 50, E =  -50\n",
      "Exact ground state energy for chain length of 50, E =  -50\n",
      "\n",
      "\n",
      "MC ground state energy for chain length of 100, E =  -94\n",
      "Exact ground state energy for chain length of 100, E =  -100\n",
      "\n",
      "\n"
     ]
    },
    {
     "data": {
      "image/png": "[encoded data removed]",
      "text/plain": [
       "<Figure size 432x288 with 1 Axes>"
      ]
     },
     "metadata": {},
     "output_type": "display_data"
    },
    {
     "data": {
      "image/png": "[encoded data removed]",
      "text/plain": [
       "<Figure size 432x288 with 1 Axes>"
      ]
     },
     "metadata": {},
     "output_type": "display_data"
    },
    {
     "data": {
      "image/png": "[encoded data removed]",
      "text/plain": [
       "<Figure size 432x288 with 1 Axes>"
      ]
     },
     "metadata": {},
     "output_type": "display_data"
    },
    {
     "data": {
      "image/png": "[encoded data removed]",
      "text/plain": [
       "<Figure size 432x288 with 1 Axes>"
      ]
     },
     "metadata": {},
     "output_type": "display_data"
    },
    {
     "data": {
      "image/png": "[encoded data removed]",
      "text/plain": [
       "<Figure size 432x288 with 1 Axes>"
      ]
     },
     "metadata": {},
     "output_type": "display_data"
    },
    {
     "data": {
      "image/png": "[encoded data removed]",
      "text/plain": [
       "<Figure size 432x288 with 1 Axes>"
      ]
     },
     "metadata": {},
     "output_type": "display_data"
    },
    {
     "data": {
      "image/png": "[encoded data removed]",
      "text/plain": [
       "<Figure size 432x288 with 1 Axes>"
      ]
     },
     "metadata": {},
     "output_type": "display_data"
    },
    {
     "data": {
      "image/png": "[encoded data removed]",
      "text/plain": [
       "<Figure size 432x288 with 1 Axes>"
      ]
     },
     "metadata": {},
     "output_type": "display_data"
    },
    {
     "data": {
      "image/png": "[encoded data removed]",
      "text/plain": [
       "<Figure size 432x288 with 1 Axes>"
      ]
     },
     "metadata": {},
     "output_type": "display_data"
    },
    {
     "data": {
      "image/png": "[encoded data removed]",
      "text/plain": [
       "<Figure size 432x288 with 1 Axes>"
      ]
     },
     "metadata": {},
     "output_type": "display_data"
    },
    {
     "data": {
      "image/png": "[encoded data removed]",
      "text/plain": [
       "<Figure size 432x288 with 1 Axes>"
      ]
     },
     "metadata": {},
     "output_type": "display_data"
    },
    {
     "data": {
      "image/png": "[encoded data removed]",
      "text/plain": [
       "<Figure size 432x288 with 1 Axes>"
      ]
     },
     "metadata": {},
     "output_type": "display_data"
    },
    {
     "data": {
      "image/png": "[encoded data removed]",
      "text/plain": [
       "<Figure size 432x288 with 1 Axes>"
      ]
     },
     "metadata": {},
     "output_type": "display_data"
    },
    {
     "data": {
      "image/png": "[encoded data removed]",
      "text/plain": [
       "<Figure size 432x288 with 1 Axes>"
      ]
     },
     "metadata": {},
     "output_type": "display_data"
    },
    {
     "data": {
      "image/png": "[encoded data removed]",
      "text/plain": [
       "<Figure size 432x288 with 1 Axes>"
      ]
     },
     "metadata": {},
     "output_type": "display_data"
    },
    {
     "data": {
      "image/png": "[encoded data removed]",
      "text/plain": [
       "<Figure size 432x288 with 1 Axes>"
      ]
     },
     "metadata": {},
     "output_type": "display_data"
    },
    {
     "data": {
      "image/png": "[encoded data removed]",
      "text/plain": [
       "<Figure size 432x288 with 1 Axes>"
      ]
     },
     "metadata": {},
     "output_type": "display_data"
    },
    {
     "data": {
      "image/png": "[encoded data removed]",
      "text/plain": [
       "<Figure size 432x288 with 1 Axes>"
      ]
     },
     "metadata": {},
     "output_type": "display_data"
    },
    {
     "data": {
      "image/png": "[encoded data removed]",
      "text/plain": [
       "<Figure size 432x288 with 1 Axes>"
      ]
     },
     "metadata": {},
     "output_type": "display_data"
    },
    {
     "data": {
      "image/png": "[encoded data removed]",
      "text/plain": [
       "<Figure size 432x288 with 1 Axes>"
      ]
     },
     "metadata": {},
     "output_type": "display_data"
    }
   ],
   "source": [
    "print('For each output the order of schedules computed are \\nExponential, Logarithmic, HoffSala, Linear, and Exponential Oscialtion')\n",
    "for n in [10, 20, 50, 100]:\n",
    "    ising = RandomBondIsing1DPBC(n, J=1)\n",
    "    for T in [T_exp, T_log, T_HS, T_linear, T_expOsc]:\n",
    "        IsingAnimator(ising).run_animation(T)  \n",
    "    print(f'\\nMC ground state energy for chain length of {n}, E = ', mc_ground_state_energy(RandomBondIsing1DPBC, n))\n",
    "    print(f'Exact ground state energy for chain length of {n}, E = ', -n)"
   ]
  },
  {
   "cell_type": "code",
   "execution_count": 15,
   "metadata": {},
   "outputs": [
    {
     "name": "stdout",
     "output_type": "stream",
     "text": [
      "MC ground state energy for chain length of 10, E =  -10\n",
      "Exact ground state energy for chain length of 10, E =  -10\n",
      "\n",
      "\n",
      "MC ground state energy for chain length of 20, E =  -18\n",
      "Exact ground state energy for chain length of 20, E =  -20\n",
      "\n",
      "\n",
      "MC ground state energy for chain length of 50, E =  -48\n",
      "Exact ground state energy for chain length of 50, E =  -50\n",
      "\n",
      "\n",
      "MC ground state energy for chain length of 100, E =  -96\n",
      "Exact ground state energy for chain length of 100, E =  -100\n",
      "\n",
      "\n"
     ]
    },
    {
     "data": {
      "image/png": "[encoded data removed]",
      "text/plain": [
       "<Figure size 432x288 with 1 Axes>"
      ]
     },
     "metadata": {},
     "output_type": "display_data"
    },
    {
     "data": {
      "image/png": "[encoded data removed]",
      "text/plain": [
       "<Figure size 432x288 with 1 Axes>"
      ]
     },
     "metadata": {},
     "output_type": "display_data"
    },
    {
     "data": {
      "image/png": "[encoded data removed]",
      "text/plain": [
       "<Figure size 432x288 with 1 Axes>"
      ]
     },
     "metadata": {},
     "output_type": "display_data"
    },
    {
     "data": {
      "image/png": "[encoded data removed]",
      "text/plain": [
       "<Figure size 432x288 with 1 Axes>"
      ]
     },
     "metadata": {},
     "output_type": "display_data"
    }
   ],
   "source": [
    "#from experimentation, T_exp gave the best results\n",
    "for n in [10, 20, 50, 100]:\n",
    "    ising = RandomBondIsing1DPBC(n, J=1)\n",
    "    IsingAnimator(ising).run_animation(T_exp)  \n",
    "    print(f'MC ground state energy for chain length of {n}, E = ', mc_ground_state_energy(RandomBondIsing1DPBC, n))\n",
    "    print(f'Exact ground state energy for chain length of {n}, E = ', -n)\n",
    "    print('\\n')"
   ]
  },
  {
   "cell_type": "markdown",
   "metadata": {},
   "source": [
    "# Fully Connected Random Bond Ising\n",
    "\n",
    "The Fully Connected Random Bond Ising Hamiltonian takes the form:\n",
    "\n",
    "$$H = J \\sum_{i<j} B_{ij} \\sigma_i \\sigma_j$$\n",
    "\n",
    "where $B_{ij} = \\pm 1$ which is selected randomly (uniformly) and independently for each bond $ij$ when the model is initialized."
   ]
  },
  {
   "cell_type": "code",
   "execution_count": 16,
   "metadata": {},
   "outputs": [],
   "source": [
    "class FullyConnectedRandomBondIsing(AbstractIsing):\n",
    "    def __init__(self, N, J=1.):\n",
    "        self.J, self.N = J, N\n",
    "        self.num_spins = self.N\n",
    "        \n",
    "        # initialize system at infinite temperature\n",
    "        # i.e. spins are completely random and uncorrelated\n",
    "        self.spins = 2*(np.random.rand(self.N) < 0.5) - 1\n",
    "    \n",
    "        self.bonds = np.zeros((self.N, self.N))\n",
    "        for i in range(self.N):\n",
    "            for j in range(i+1, self.N):\n",
    "                self.bonds[i, j] = 2*(np.random.rand() < 0.5) - 1\n",
    "    \n",
    "    def energy(self):\n",
    "        \"\"\"Returns the energy of the current spin configuration\"\"\"\n",
    "        interaction = self.spins.dot(self.bonds.dot(self.spins))\n",
    "        return self.J * interaction\n",
    "\n",
    "    def energy_diff(self, i):\n",
    "        \"\"\"Returns the energy difference resulting from flipping the i'th site\"\"\"\n",
    "        return -2 * self.J * self.spins[i] * (\n",
    "            self.bonds[i, :].dot(self.spins) \n",
    "            + self.bonds[:, i].dot(self.spins)\n",
    "        )\n",
    "    \n",
    "    def rand_site(self):\n",
    "        \"\"\"Selects a site in the lattice at random\"\"\"\n",
    "        return (np.random.randint(self.N),)"
   ]
  },
  {
   "cell_type": "code",
   "execution_count": 17,
   "metadata": {},
   "outputs": [
    {
     "data": {
      "text/plain": [
       "array([ 1, -1, -1, -1, -1,  1,  1, -1,  1, -1])"
      ]
     },
     "execution_count": 17,
     "metadata": {},
     "output_type": "execute_result"
    }
   ],
   "source": [
    "ising = FullyConnectedRandomBondIsing(10, J=1)\n",
    "ising.spins"
   ]
  },
  {
   "cell_type": "code",
   "execution_count": 18,
   "metadata": {},
   "outputs": [
    {
     "data": {
      "text/plain": [
       "13.0"
      ]
     },
     "execution_count": 18,
     "metadata": {},
     "output_type": "execute_result"
    }
   ],
   "source": [
    "ising.energy()"
   ]
  },
  {
   "cell_type": "code",
   "execution_count": 20,
   "metadata": {},
   "outputs": [
    {
     "data": {
      "text/html": [
       "<video width=\"432\" height=\"288\" controls autoplay loop>\n",
       "  <source type=\"video/mp4\" src=\"data:video/mp4;base64,AAAAIGZ0eXBNNFYgAAACAE00ViBpc29taXNvMmF2YzEAAAAIZnJlZQAAl9NtZGF0AAACoAYF//+c\n",
       "3EXpvebZSLeWLNgg2SPu73gyNjQgLSBjb3JlIDE2MCAtIEguMjY0L01QRUctNCBBVkMgY29kZWMg\n",
       "LSBDb3B5bGVmdCAyMDAzLTIwMjAgLSBodHRwOi8vd3d3LnZpZGVvbGFuLm9yZy94MjY0Lmh0bWwg\n",
       "LSBvcHRpb25zOiBjYWJhYz0xIHJlZj0zIGRlYmxvY2s9MTowOjAgYW5hbHlzZT0weDM6MHgxMTMg\n",
       "bWU9aGV4IHN1Ym1lPTcgcHN5PTEgcHN5X3JkPTEuMDA6MC4wMCBtaXhlZF9yZWY9MSBtZV9yYW5n\n",
       "ZT0xNiBjaHJvbWFfbWU9MSB0cmVsbGlzPTEgOHg4ZGN0PTEgY3FtPTAgZGVhZHpvbmU9MjEsMTEg\n",
       "ZmFzdF9wc2tpcD0xIGNocm9tYV9xcF9vZmZzZXQ9LTIgdGhyZWFkcz05IGxvb2thaGVhZF90aHJl\n",
       "YWRzPTEgc2xpY2VkX3RocmVhZHM9MCBucj0wIGRlY2ltYXRlPTEgaW50ZXJsYWNlZD0wIGJsdXJh\n",
       "eV9jb21wYXQ9MCBjb25zdHJhaW5lZF9pbnRyYT0wIGJmcmFtZXM9MyBiX3B5cmFtaWQ9MiBiX2Fk\n",
       "YXB0PTEgYl9iaWFzPTAgZGlyZWN0PTEgd2VpZ2h0Yj0xIG9wZW5fZ29wPTAgd2VpZ2h0cD0yIGtl\n",
       "eWludD0yNTAga2V5aW50X21pbj0xMCBzY2VuZWN1dD00MCBpbnRyYV9yZWZyZXNoPTAgcmNfbG9v\n",
       "a2FoZWFkPTQwIHJjPWNyZiBtYnRyZWU9MSBjcmY9MjMuMCBxY29tcD0wLjYwIHFwbWluPTAgcXBt\n",
       "YXg9NjkgcXBzdGVwPTQgaXBfcmF0aW89MS40MCBhcT0xOjEuMDAAgAAAA2FliIQAEf/+94gfMstp\n",
       "+TrXchHnrS6tH1DuRnFepL3+IAAAAwAWnJlD+2HHTlrDQABCgACFi9NLN/H2eQipRB4gFsbBaOLC\n",
       "NLfzJYQ+fFdTnfUXMxw7RS0CABCVoC/y9PgmlNXKIqK8Q8i7gkYQEm43+VvXZr+YkAe5ecAgYLJK\n",
       "z6kMSCr5ylXKRtGjOS6SmPUsQOIb/y9cfuXuDmLp2blN3XNvv8qf8YXtEcBMxWqN8GtNhOWNSfVY\n",
       "LAx8AUzdP171ipwX+unKqPTOJC8w9DsKCEdesO37EYtw56XgXA8uDb9zptClsrjhy7KJ1t872Ffa\n",
       "LHgtLAxFBfbVzVZjfAv5PCS9rAh6BiBqNJikmS6XXgWlLlunPNnrICvoSe2DDiJRsaWUNXTDoCa6\n",
       "Mly53lH0nNowIcd7c8dGby+tb6x6gkCqoY4lQzB/nNK/fwdX2RGtrC9hKElAhzH6vXEsD9DBXgy2\n",
       "Cs1Fdoj4+Jbnf80Q9b8Iy+O41DJZu2ueDblp1euYTFYu24grEstWKgWKNVKnrmjTePoY/uItJ4Jx\n",
       "RSsH5IY2iHvSRt8PDC6JvB7059C/CDMthlbXHiMK0EZqjmKXAaUIJznQq/53ZDarGss+KKtwIc1P\n",
       "MiU6cQzQeOf72J0yw7TWjsp8mXJmNdLuD5HOF8tENq9naZ9guaYXJuD9MnPIEbIp1WmWWlFzMML1\n",
       "vFOI476kYaS0rAms+h/ggKopYNe/4YuRvjHdz0Ohn6oH8HH4C9jqtzAOcg8oOpPAQz71FxuPWAmL\n",
       "X89uTcVnx4227SW9qPp5dpz5JY58T8wpf+kMtwtUeYem+f9/ftc1YA9wh306MvdhUEpJ2X8QseBv\n",
       "q/TBT9iStCNp7Gu3pEmXuMvadkwxNCnbKL6yctbc7CRFQJcAyIDRbEBa6hxyWBl4a0XLCZfbuP/v\n",
       "treUJDnDsRjxK2zh6oEF+piPOxcM1O5ZDvQDpCXsKRhwmAjUl36ZcglxCIIc/s5w83f/2bd12Gcv\n",
       "YywssJyvLjxCiWW/D33Dh1oOaLnXwnqrb1y7uvSFAuu+v5coNDFZQgAAFP6aT6S6q1LFIOdav9OT\n",
       "OIQbX4w2AwIZNK3fJRYfxUb4RCPjjDk2zlx9wRygfJL0k8zzVcn/dNgB5h0QAAADAAADAE1BAAAA\n",
       "vEGaJGxBH/61KoABbh7FgFBuJfK1hSBQmNa7eP90/Wml+lKEkKbehZkbSkoeBdxuNOZsXd517rEk\n",
       "biZdGgCu0zfcms0SJqvj76cOomiNGryQqUO2ZG7kdOaRqMwAEvXsbk+MpAlzamCRhiNU+vCR9xPF\n",
       "Kfmr5CI/d5pAbVYNf0Ante0CfaD+DFtjoZv1bzsIy9eJ97qp63bE4rG1qC7XyAr8/DAcmRYrApzk\n",
       "RNyUDpVFZSQuA7P84DjAwGKfAAAAGkGeQniHfwAFlMU4IOtvAtmuRBVmOq0IwBCnAAAAGwGeYXRD\n",
       "fwAHw02l+iY7TIUARqgEwF1Zr2eQpgAAAAwBnmNqQ38AAAMArYEAAAAUQZpoSahBaJlMCCP//rUq\n",
       "gAAAHrEAAAAOQZ6GRREsO/8AAAMAeEEAAAAMAZ6ldEN/AAADAK2BAAAADAGep2pDfwAAAwCtgAAA\n",
       "ABRBmqxJqEFsmUwII//+tSqAAAAesAAAAA5BnspFFSw7/wAAAwB4QQAAAAwBnul0Q38AAAMArYAA\n",
       "AAAMAZ7rakN/AAADAK2AAAAAkUGa8EmoQWyZTAgj//61KoAArexO0IQAFhsyZ3VZP/KgpLNBolsZ\n",
       "f6YCkjuojjYreXilciDwVlP7x0bkKPOBlhV2egJmnfHzAbnvNtAnb9ejh23ebKctB4u0wmHeaaLk\n",
       "vLdl9DkP3c936emFBWrfpFf3KJTyUm/EF/eNj/XQ8cLBF9NKO4y7kXVz2fBg7hxDj4EAAAAbQZ8O\n",
       "RRUsO/8AAqar17lqhmQ3Xi0XcBcqmB0xAAAADAGfLXRDfwAAAwCtgQAAABgBny9qQ38AA7ZQgTyI\n",
       "1asQbzLsV9ldqFMAAACfQZszSahBbJlMCCP//rUqgACuawP4ANx1i4srA1rDHTdgwOWxUIBnpamw\n",
       "zAPLDy6ZT4tpcm8ZU9TwwYDAR/wu/2838LqgD6NwTFZcyskMRh+Uw9h/j7/3YApVA3h9gOZKBkKf\n",
       "EDGeP/5WPL1Luiabx3FO5/17/K1CqkfSwSTp5NXRz2SyQ9yRSsFpCbw/7bLxbiP0ViyJ1xDNr5/l\n",
       "epQQAAAAHEGfUUUVLDf/AAO2UIE1B5as5tIUkM4kwnpn7UkAAAAWAZ9yakN/AAO12sP0KsA5VK8d\n",
       "J/kF4AAAAIxBm3dJqEFsmUwII//+tSqAAK3ueZa7kABtyrJemNNFkUkeC/Zb/3/aExb/9DmSbP/f\n",
       "q8nEUcryiy5utQmyZAADJYZblYLnJjr9Edat+OVoSxggJjdvDC5X64joebfV4ZpITN+YXdgWVT6K\n",
       "zLS07+m3P/Q0itNzR4EyyiuyFfvQn7zHiwdjNSxSd9wC0gAAABtBn5VFFSw7/wACpqvXuWqLfFfM\n",
       "WJOvUH+UD4EAAAAYAZ+0dEN/AAO2DOcPHT3FSh+0ynnlX2VAAAAAFwGftmpDfwADtlCBPIjVrNn8\n",
       "uzRi+IHxAAAAGUGbu0moQWyZTAgj//61KoAAFKHgtLLFaLkAAAAOQZ/ZRRUsO/8AAAMAeEAAAAAM\n",
       "AZ/4dEN/AAADAK2BAAAADAGf+mpDfwAAAwCtgAAAAKRBm/5JqEFsmUwII//+tSqAAK4VsWAIfZkz\n",
       "75uHnBuUubDSWFvBBlvHsJK7G+eQpIDRvcgJBXlZOXOi1lI6jhkFdWo0L602k17t0tlGHAJoQovy\n",
       "vjEVXxGOphv4HNPRL4bchxVcehbdqe98N3kcuX0wM2APLzm8lGAKF+9P5+WV7j1EgNKntY+pYVPy\n",
       "n0zcWYSJMP3J4ALEcys4xcBceQN6uiQXwQAAABlBnhxFFSw3/wADtlCBPIjVrNn8uzRi+IHxAAAA\n",
       "FwGePWpDfwADtlCBPIjVrNn8uzRi+IHwAAAANEGaIkmoQWyZTAgj//61KoAArfVU4gCovUZWd1x4\n",
       "giAcVFWZ+tvsyPdyeBhhBV6Woq/S7dAAAAAYQZ5ARRUsO/8AAqZinH13WasOGwaRI/ZVAAAAFwGe\n",
       "f3RDfwADtabTPWraQMQANLoNJ2VAAAAADAGeYWpDfwAAAwCtgQAAABlBmmZJqEFsmUwII//+tSqA\n",
       "ABZR3fssVn+AAAAADkGehEUVLDv/AAADAHhBAAAADAGeo3RDfwAAAwCtgQAAAAwBnqVqQ38AAAMA\n",
       "rYEAAAAZQZqqSahBbJlMCCP//rUqgAAW4d37LFZ8wQAAAA5BnshFFSw7/wAAAwB4QAAAAAwBnud0\n",
       "Q38AAAMArYAAAAAMAZ7pakN/AAADAK2BAAAAGUGa7kmoQWyZTAgj//61KoAAF3Hd+yxWekAAAAAO\n",
       "QZ8MRRUsO/8AAAMAeEAAAAAMAZ8rdEN/AAADAK2BAAAADAGfLWpDfwAAAwCtgQAAABlBmzJJqEFs\n",
       "mUwII//+tSqAABgM3fssVndBAAAADkGfUEUVLDv/AAADAHhAAAAADAGfb3RDfwAAAwCtgAAAAAwB\n",
       "n3FqQ38AAAMArYEAAAAZQZt2SahBbJlMCCP//rUqgAAYrN37LFZ0wAAAAA5Bn5RFFSw7/wAAAwB4\n",
       "QAAAAAwBn7N0Q38AAAMArYEAAAAMAZ+1akN/AAADAK2AAAAApkGbukmoQWyZTAgj//61KoAArexH\n",
       "hM1gBuOsXFv2yT+qhH9SqXhOa/7dJnDTBLecQhFr0UTIEAFjZv06bY6Jye/2JFRLI0DFx/O/UIPh\n",
       "u+b9+lJNIv3ZgtuR2ACJVP71YpE9SjtQBQE5UrHq+g2rdxAqA/ep1xNGauUnfR+fllfE6MFIiyHY\n",
       "ZR1reP+mWWbizCRItRf7NkUyEJzOzTkW+sB7VIj51IEAAAAZQZ/YRRUsO/8AAqar17lqhmR2Rg+L\n",
       "DnHbywAAAAwBn/d0Q38AAAMArYAAAAAXAZ/5akN/AAO2UIE8iNWs2fy60Ha/47EAAAArQZv+SahB\n",
       "bJlMCCP//rUqgACt9Rh644c0o3cVJDEtFlBiCFcKRUynWpc3dAAAACNBnhxFFSw7/wACpqvXuWqG\n",
       "ZHZGD1BlqKAD6H6vFkv5QRyCcQAAABkBnjt0Q38AA7YM5w8dPcVKH7THa9jtQdpBAAAAFwGePWpD\n",
       "fwADtlCBPIjVrNn8uzRphnsqAAAAGUGaIkmoQWyZTAgj//61KoAAGozd+yxWbMAAAAAOQZ5ARRUs\n",
       "O/8AAAMAeEEAAAAMAZ5/dEN/AAADAK2AAAAADAGeYWpDfwAAAwCtgQAAABhBmmZJqEFsmUwIIf/+\n",
       "qlUAADZSq7ElxUkAAAAOQZ6ERRUsO/8AAAMAeEEAAAAMAZ6jdEN/AAADAK2BAAAADAGepWpDfwAA\n",
       "AwCtgQAAAKVBmqdJqEFsmUwII//+tSqAAK4VsWAKoBi4ubn66cnOvtNDvopyxcQ5mwkpSdHsQJDH\n",
       "iK8HqwXlfLpxTUhb9wEfritDp3HWjfZTFHZ3G/9W4TYFbMqEt5Z3GtsJPUs1r1x4v5RYDwcehbdq\n",
       "qLSn5c02FZkDNfIRiWY/lN5w7f0/n5ZXuPUPrrkh98KlZoeJ7aAlHKEJEm7Kt+BTJnuu4u8CRitQ\n",
       "3pEAAAAXQZrKSeEKUmUwII///rUqgABIDz7a4oIAAAAbQZ7oRTRMN/8AA7alMp+V2c/vI2hFV3uf\n",
       "p2k4AAAAFwGfCWpDfwADtlCBPIjVrNn8uzRi+IHxAAAAFEGbDUmoQWiZTAgj//61KoAAAB6wAAAA\n",
       "GkGfK0URLDf/AAO2pTKfldnP7yNoRZ5/CkD4AAAAFwGfTGpDfwADtlCBPIjVrNn8uzRi+IHxAAAA\n",
       "JkGbUUmoQWyZTAgj//61KoAArfUYeuOHNKN3FSQxitj5orqr2DelAAAAGEGfb0UVLDv/AAKmYpx9\n",
       "d1mrDhsGkSP2VQAAABcBn450Q38AA7Wm0z1q2kDEADS6DSdlQAAAAAwBn5BqQ38AAAMArYAAAAAU\n",
       "QZuVSahBbJlMCCP//rUqgAAAHrEAAAAOQZ+zRRUsO/8AAAMAeEAAAAAMAZ/SdEN/AAADAK2AAAAA\n",
       "DAGf1GpDfwAAAwCtgQAAABRBm9lJqEFsmUwII//+tSqAAAAesAAAAA5Bn/dFFSw7/wAAAwB4QQAA\n",
       "AAwBnhZ0Q38AAAMArYEAAAAMAZ4YakN/AAADAK2AAAAAFEGaHUmoQWyZTAgj//61KoAAAB6xAAAA\n",
       "DkGeO0UVLDv/AAADAHhAAAAADAGeWnRDfwAAAwCtgQAAAAwBnlxqQ38AAAMArYEAAAAUQZpBSahB\n",
       "bJlMCCP//rUqgAAAHrAAAAAOQZ5/RRUsO/8AAAMAeEAAAAAMAZ6edEN/AAADAK2BAAAADAGegGpD\n",
       "fwAAAwCtgAAAABRBmoVJqEFsmUwII//+tSqAAAAesQAAAA5BnqNFFSw7/wAAAwB4QAAAAAwBnsJ0\n",
       "Q38AAAMArYEAAAAMAZ7EakN/AAADAK2BAAAAmEGayUmoQWyZTAgh//6qVQABW79m/doAElHyVKxr\n",
       "B32rNnG8bWh7ZKad4zl4xXW1w35MFCDKd4bE/NiYp4AoRgiOcYjKzyDfvlGmXJrnP53ENcCMDyUV\n",
       "yNwwmPyR/myVrfmCUO+wgkQHxMhGJTMd5g4snmOp1MTDfKZILwNXMGTQ7r3Me4EpQj9ssT8uQC/b\n",
       "dOmaKljcwb0hAAAAGUGe50UVLDv/AAKmq9e5aoZkdkYPmFJ3nZUAAAAMAZ8GdEN/AAADAK2AAAAA\n",
       "GAGfCGpDfwADtdrEGymE+UfTxvdZrCioWAAAAJ1BmwpJqEFsmUwII//+tSqAAMXYxK4ALsIu/tIZ\n",
       "bx+czapXoH8DrHGIOevf15A05Hk7i1MsQ+Crmh9w4pdWxoXtDrWve5NJI3IUfN4tZg8lNMsAro1Z\n",
       "XgfltKv4AZZeAYPQsO3Xc2Yb1rbvdRqu66LrvMhUDpvdIavGxss6E40aEqXIXpW5v56ZynEI19dj\n",
       "fuTWcaNTXvYz87QU8v2LAAAAMkGbLknhClJlMCCP//61KoAAxU0YeNLScwFVNAMmZLfmdThqMMQ0\n",
       "UzXDr2IdOZwJxjz4AAAAHUGfTEU0TDv/AAMBtLZfSAhpI287SPKg+DR/CyCsAAAAHAGfa3RDfwAE\n",
       "NfWaqyxUMlHMH9GVWLryYuR0QVkAAAAMAZ9takN/AAADAK2BAAAAhEGbcUmoQWiZTAgj//61KoAA\n",
       "roQqqAAsNmTPro41rDHWlQm5PNcM+HpXSFSmI7/nY7l7AbcoUHcraM+yGxH/C8kLdikNYilpJ9tb\n",
       "nly/V95qtPaxHj40CTlh32q0LFNg7WoQQuY2+4Qzc8/z2iUBooB0M2rG0I8L6/+kZ0F5JazrEEQ3\n",
       "pQAAABlBn49FESw3/wADtlCBPIjVrNn8uzRi+IHwAAAAFwGfsGpDfwADtlCBPIjVrNn8uzRi+IHw\n",
       "AAAAJkGbtUmoQWyZTAgj//61KoAArfUYeuOHNKN3FSQxitj5orqr2DelAAAAGEGf00UVLDv/AAKm\n",
       "Ypx9d1mrDhsGkSP2VAAAABcBn/J0Q38AA7Wm0z1q2kDEADS6DSdlQAAAAAwBn/RqQ38AAAMArYEA\n",
       "AAAUQZv5SahBbJlMCCP//rUqgAAAHrAAAAAOQZ4XRRUsO/8AAAMAeEEAAAAMAZ42dEN/AAADAK2B\n",
       "AAAADAGeOGpDfwAAAwCtgAAAABVBmj1JqEFsmUwIIf/+qlUAAAMAPWEAAAAOQZ5bRRUsO/8AAAMA\n",
       "eEAAAAAMAZ56dEN/AAADAK2BAAAADAGefGpDfwAAAwCtgQAAAI1Bmn9JqEFsmUwUTBH//rUqgACt\n",
       "7E7QhAASUli4YlOVYBVE8kQPeAnur4OwbFZTbWiK7nAOBLaKUBZXP7i8MfmP5GttQUUZg8WjKwl3\n",
       "Rw5TGWk1yvkT8XBlc29RvliObqhVCdz3fp6YUFat+kVz5m0/Uyscn/pS7/XQ8cLBF9RNUBf2yxy4\n",
       "9lLEHcOIcfAAAAAYAZ6eakN/AAO2UIE8iNWrEG8y7FfZXahTAAAAmEGagUnhClJlMFLBH/61KoAA\n",
       "rmsD+ADcdYuLKwNawx1pUJuTzXDPh6V9UzvRkIo/5cnYDblCg9hrRn2Q2I/4XnpbsUhrEUtJPtre\n",
       "4uX5g+mrFYdxAYnpfvcGyk7sK5h2tLGLbH7HuyXrQCG3MtEqv+Df77n/Xv8rTHtSZbAu003FyIf/\n",
       "x5R2TXGXODOcGS0kE/HsUE86y5vRAAAAGwGeoGpDfwADtqUyn5XZz+u6bnrOuQXIArhGwAAAAClB\n",
       "mqVJ4Q6JlMCCP/61KoAArfpLjxaHrUlibkCPT/bS2ELJfin8u80/pwAAABhBnsNFFTw7/wACpmKc\n",
       "fXdZqw4a9X0JGHgAAAAXAZ7idEN/AAO1ptM9atpAxAAzMelW8sEAAAAMAZ7kakN/AAADAK2BAAAA\n",
       "FEGa6UmoQWiZTAgj//61KoAAAB6xAAAADkGfB0URLDv/AAADAHhBAAAADAGfJnRDfwAAAwCtgAAA\n",
       "AAwBnyhqQ38AAAMArYAAAAAUQZstSahBbJlMCCP//rUqgAAAHrEAAAAOQZ9LRRUsO/8AAAMAeEAA\n",
       "AAAMAZ9qdEN/AAADAK2AAAAADAGfbGpDfwAAAwCtgQAAAIpBm3BJqEFsmUwIIf/+qlUAAVu/faJ0\n",
       "ACw1yVIYpyq/EXnkh68Yk+5e4gOJf9NtaIqc/KGQWuy7kK31y0pLux/I1tqCgMMK60YwEQZZPIle\n",
       "SdIi4TZR9ctk0qExGxoicDadP45UxU5/0bHIT/xKaX5TBn+rnroTtZc/HOOMFktFTo74fM3OSiHE\n",
       "OPkAAAAaQZ+ORRUsN/8AA7ZQgTyI1asQbzLsV9ldqFMAAAAqAZ+vakN/AAO12sQbKYSzW5nJdIjK\n",
       "AA4wce2lu7sxJ0L5DTFw3WM/AOmAAAAAlEGbsUmoQWyZTAgj//61KoAArhWxYAWuzJn1xpXxcSSe\n",
       "AcUiNlPeZ6KtoI39+uEno9ZPFqaj8W9aeg3dULcWvCfgNJmfBZNaeSLcbCU+VU9axzWbSfufBMFm\n",
       "hSln/QXLjrOCV75omTxLRl+ZDncdpoeTmyC6aFW9gJp+L1krbaf0ZbzeKNXc5pt4MS2iLsgcUH6j\n",
       "bBYAAAAoQZvVSeEKUmUwII///rUqgACt+kuPFoetSWJuQI9P9tLZwlAnNx2NVwAAABhBn/NFNEw7\n",
       "/wACpmKcfXdZqw4bBpEj9lQAAAAXAZ4SdEN/AAO1ptM9atpAxAA0ug0nZUAAAAAMAZ4UakN/AAAD\n",
       "AK2BAAAAo0GaGUmoQWiZTAgj//61KoAAspQ6gBNfpWV2gScqsB15mXdKoHkFojj3SFfSrmKupA6D\n",
       "/gNGTrs8MxOZrYQw0RVnVRPuvRk7Aqp3wgRXI2c/iQzT4Qz6FZFwHo+6AHOmE1KJ8xCOrFE5JwDO\n",
       "qGgijr69nbIjFyj5ZSiPrAxlA4vwGcS5ZOTCPpkoxJy0BZNSZn4JJxQv0H9Zz78HMSOTFJrkzugA\n",
       "AAAXQZ43RREsO/8AArir15treJTjg0neNmEAAAAMAZ5WdEN/AAADAK2BAAAAFAGeWGpDfwADzFCA\n",
       "51XBYCy3qCUrAAAAI0GaXUmoQWyZTAgj//61KoAAsnUYeNLHRa/D6Nm6B+R/JndBAAAAFkGee0UV\n",
       "LDv/AAK4YpuWhDFlHV/sbMAAAAAUAZ6adEN/AAPLptKrAoXA8W99xs0AAAAMAZ6cakN/AAADAK2B\n",
       "AAAAFEGagUmoQWyZTAgj//61KoAAAB6wAAAADkGev0UVLDv/AAADAHhAAAAADAGe3nRDfwAAAwCt\n",
       "gQAAAAwBnsBqQ38AAAMArYAAAAAUQZrFSahBbJlMCCP//rUqgAAAHrEAAAAOQZ7jRRUsO/8AAAMA\n",
       "eEAAAAAMAZ8CdEN/AAADAK2BAAAADAGfBGpDfwAAAwCtgQAAABRBmwlJqEFsmUwII//+tSqAAAAe\n",
       "sQAAAA5BnydFFSw7/wAAAwB4QQAAAAwBn0Z0Q38AAAMArYAAAAAMAZ9IakN/AAADAK2AAAAAFEGb\n",
       "TUmoQWyZTAgj//61KoAAAB6xAAAADkGfa0UVLDv/AAADAHhAAAAADAGfinRDfwAAAwCtgAAAAAwB\n",
       "n4xqQ38AAAMArYEAAACkQZuRSahBbJlMCCP//rUqgACuFbFgCH2ZM++bh5wblLmw0lhbwQZbx7CS\n",
       "uxvnkKSA0b3ICQV5WTlzotZSOo4ZBXVqNC+tNpNe7dLZRhwCaEKL8r4xFV8RjqhTcDmnoRHduQ5h\n",
       "uPR17X6qWKXdWJQ9UG24QKxgiwZmJY1439H5+WV7j1D67HYnztedxLvf20BKOUISJLwpH9ym/uuq\n",
       "KzjFwGgcG9MAAAAZQZ+vRRUsO/8AAqar17lqhmR2Rg+LDnHbywAAAAwBn850Q38AAAMArYAAAAAX\n",
       "AZ/QakN/AAO2UIE8iNWs2fy60Ha/47AAAAAnQZvVSahBbJlMCCP//rUqgACt9Rh644c0o3cVJDEt\n",
       "FlBiCFcKNCdTAAAAIkGf80UVLDv/AAKmq9e5aoZkdkYPUGcnAAQsHNrBfOdHG0gAAAANAZ4SdEN/\n",
       "AAGR6wEIWAAAABYBnhRqQ38AA7XaxBsphPlIYsgvDzKhAAAAFEGaGUmoQWyZTAgj//61KoAAAB6w\n",
       "AAAADkGeN0UVLDv/AAADAHhBAAAADAGeVnRDfwAAAwCtgQAAAAwBnlhqQ38AAAMArYAAAAAUQZpd\n",
       "SahBbJlMCCP//rUqgAAAHrEAAAAOQZ57RRUsO/8AAAMAeEAAAAAMAZ6adEN/AAADAK2BAAAADAGe\n",
       "nGpDfwAAAwCtgQAAABRBmoFJqEFsmUwII//+tSqAAAAesAAAAA5Bnr9FFSw7/wAAAwB4QAAAAAwB\n",
       "nt50Q38AAAMArYEAAAAMAZ7AakN/AAADAK2AAAAAFEGaxUmoQWyZTAgj//61KoAAAB6xAAAADkGe\n",
       "40UVLDv/AAADAHhAAAAADAGfAnRDfwAAAwCtgQAAAAwBnwRqQ38AAAMArYEAAAAUQZsJSahBbJlM\n",
       "CCP//rUqgAAAHrEAAAAOQZ8nRRUsO/8AAAMAeEEAAAAMAZ9GdEN/AAADAK2AAAAADAGfSGpDfwAA\n",
       "AwCtgAAAABRBm01JqEFsmUwII//+tSqAAAAesQAAAA5Bn2tFFSw7/wAAAwB4QAAAAAwBn4p0Q38A\n",
       "AAMArYAAAAAMAZ+MakN/AAADAK2BAAAAFEGbkUmoQWyZTAgj//61KoAAAB6xAAAADkGfr0UVLDv/\n",
       "AAADAHhBAAAADAGfznRDfwAAAwCtgAAAAAwBn9BqQ38AAAMArYAAAACpQZvVSahBbJlMCCP//rUq\n",
       "gADF2MSuAC7CLv7SGW8fnM2qYmAdpMUx/v70PoqCgAOapfORvZqew2nIrg0aoWzby3RCmmF+oH49\n",
       "VzlEByd2GBgZQpN7d7wx5YZBdzsdeo9/HKexh1GvHCuCs5s2Z6zaU0+KNjxNE41Mf/wWzgFwCWCc\n",
       "4TToiAhq2mq5nr+pxoR+Er/DoIkemOBA3AkXWb7kQBbq19a0/IQy4QAAABlBn/NFFSw7/wADAgj/\n",
       "p3L6+m2a5dKU0vqCAAAADAGeEnRDfwAAAwCtgAAAABcBnhRqQ38ABDa9AOdud1imx9rOa/OoIQAA\n",
       "ACVBmhlJqEFsmUwII//+tSqAAMVNGHjS0m47djAMaR6WboH3m5ErAAAAGEGeN0UVLDv/AAMBtLZf\n",
       "SAhco7ax4kfqCQAAABcBnlZ0Q38ABDX1mqssVDBd1JJUqcPxwQAAAAwBnlhqQ38AAAMArYAAAAAU\n",
       "QZpdSahBbJlMCCP//rUqgAAAHrEAAAAOQZ57RRUsO/8AAAMAeEAAAAAMAZ6adEN/AAADAK2BAAAA\n",
       "DAGenGpDfwAAAwCtgQAAABRBmoFJqEFsmUwII//+tSqAAAAesAAAAA5Bnr9FFSw7/wAAAwB4QAAA\n",
       "AAwBnt50Q38AAAMArYEAAAAMAZ7AakN/AAADAK2AAAAAFEGaxUmoQWyZTAgj//61KoAAAB6xAAAA\n",
       "DkGe40UVLDv/AAADAHhAAAAADAGfAnRDfwAAAwCtgQAAAAwBnwRqQ38AAAMArYEAAAAUQZsJSahB\n",
       "bJlMCCP//rUqgAAAHrEAAAAOQZ8nRRUsO/8AAAMAeEEAAAAMAZ9GdEN/AAADAK2AAAAADAGfSGpD\n",
       "fwAAAwCtgAAAABRBm01JqEFsmUwII//+tSqAAAAesQAAAA5Bn2tFFSw7/wAAAwB4QAAAAAwBn4p0\n",
       "Q38AAAMArYAAAAAMAZ+MakN/AAADAK2BAAAAFEGbkUmoQWyZTAgj//61KoAAAB6xAAAADkGfr0UV\n",
       "LDv/AAADAHhBAAAADAGfznRDfwAAAwCtgAAAAAwBn9BqQ38AAAMArYAAAAAUQZvVSahBbJlMCCP/\n",
       "/rUqgAAAHrEAAAAOQZ/zRRUsO/8AAAMAeEAAAAAMAZ4SdEN/AAADAK2AAAAADAGeFGpDfwAAAwCt\n",
       "gQAAALtBmhdJqEFsmUwUTBH//rUqgADF2MSuAC7CLv7SGW8fnM2qYmAdpMUx/v70PoqCgAOaZv/+\n",
       "rSb2aPyyzb6J0W+8kMmtWow673FTDpaRFPW+NtPSjcsv6RZwP8DWFpxiyPbo5lscqs42NL9wTPbx\n",
       "O446U2ig4lqTh4Utdosy8RT+163Meb2lQlgBbR3dznFKE5pGADOE1+ydny8Jj4AglY/t+jstcPFj\n",
       "iBNwmJ6FAsELSxfjYeimzTH/Ax58AAAAHAGeNmpDfwAENr0A5253WaDekeP4eXdmw9ROABsAAAAu\n",
       "QZo5SeEKUmUwUsO//qmWAAYC5oqfewugl2cO+eZ+oJYA5+2gvkYFm2n+3/5lMQAAABsBnlhqQ38A\n",
       "BDYyUjPjWRmwW3ZJ5hSyVwOwamAAAAOrZYiCAAU//vfHT8Cm6Plmy51FPSEwitj6SCi9WOzQMnUA\n",
       "AAMAAETAxxFtXcuPAeYAAGEAAJYNG6l4WHS4SKpecwC8nvP1hJ5iz+L687ri+FIxrSBSv3bnvtfp\n",
       "zTbFao7DWNuCrStBp9P2sqtmeNulFQfctCPAsfkbYovrGksmi28Gh8+DA2kYIoXyrHfK7BvgTngx\n",
       "kBs3jMUl05I6jBml06bIVca4RWnieP408q7tyjpr5az0BEaaOeslWWqmUk/cKGoKIbYQZddJ9kU5\n",
       "l6PM0utrt5unPLrhd2klTlclAJTxgyRpLPoTRQO7eQ34qE/qWoJV8B06aavHTjn9gG6zewzo9+Qi\n",
       "EV/5gVkUozRjR9MNF2fF5f0vhZ1uK7wGuOWjU6JEtoe5sRHzY9k4MmHofJ/has6JRDMO+0RrofS4\n",
       "SeOAF4ij/xocTbwDwlcBgyTD2zd5B19bY4ZiH2zcEDyJa9H4vmD3w8P9xEAnr+UbHYN7TEPhD1LK\n",
       "hX0bP8ayieofOo0u0f0W8cjGKeXdng//eYon38aMv29dkSu64e3n+BL1EG9+kpSyhdXnB7/ZMnC3\n",
       "oV4Q1E18NngvgX+tOlZVhOuxmde5KL3dGyfG2BAqDB7svRzUNhOtjhBkiOiekR2Z8Ai6prgkTeAb\n",
       "2GfoMFuLUgVBPCHAmfbH6zXUCQ9pP0I9QtLWVum/JMf/1A5pcfavdP/OXG32gTfLZVqgxmvGWuP4\n",
       "CfMr8B91UcIRBtU20tvQJ6hxz5dhLIXHMpxLvP64fqAy6ldoCCNSCOaVAwaB4vbT/f/nawhklQsP\n",
       "iBmSmZdV8hdFYzEuQGq6sjU7G8/e6pB3mhM7mKhUuwsMeitkOtL6K2O4rirs7rhgn5jIjYcuqHQM\n",
       "l+fc9vhIV8Y/zr9QS3LTjVr6R6xTBa60mThQjPpbSGJAnJCVfd7TRmzzerg8b2Q/AMKlnlsvLNpn\n",
       "SLGDG6NhEUXvDECuNhY3zqIzp2QuIMfCIMCTctrw3o5jjSsik7eJyLJWPZ58hOMav3ImIRrffXX/\n",
       "+UJDISygPHrOyXz6u+GCkJyNpNVfZqESBL8MNkEs6/QgnMuSlESoqfgWrnpMc0Xf7+KREc3K0Gr6\n",
       "NMNvyPL0ZpCUurFT3VfScqKIcnvbcrPBiRJDKIsAwIgF91/3aqvZEWMAACknJMoFLt6fwSs0lyBp\n",
       "m0jTs4KX6QSGVAUHG2P/wfgfWJA0Qo7t5QUJ/fXWRMtgI1LxSPokIB10E4HkAAADAAmpAAAASkGa\n",
       "JGxBH/61KoABbh9ugBCPpWWLjP9mClUpn6cdJfrbjg2Px7Tc4NgqJMaXNUDHxm/KXLLI1pGXX2jK\n",
       "hHuYCFsfUpwfeDz1NYR8AAAAEkGeQniHfwAFlMU4IOtLGBQpoQAAABIBnmF0Q38AB5dPLbMMTCGi\n",
       "ZkEAAAAMAZ5jakN/AAADAK2AAAAAFEGaaEmoQWiZTAgj//61KoAAAB6wAAAADkGehkURLDv/AAAD\n",
       "AHhBAAAADAGepXRDfwAAAwCtgAAAAAwBnqdqQ38AAAMArYEAAACdQZqrSahBbJlMCCP//rUqgACu\n",
       "FbFgBa7MmffNxE73BSZYfES/VdzSWwkr8xTJo+P+C8DHz5WPPytdqTLqOxG0OboVxCVMhxJqIsDH\n",
       "dRflfydrQJtAaDcszYn025K5MNx6OUP92KBHpmD0xC06EJj8WTW+NHr9PH9P5+WV7j3eWGm0251h\n",
       "UsKn5T6ZuLMJEf3YJ5wcYfoVnGLgP2Y1XAAAABlBnslFFSw3/wADtlCBPIjVrNn8uzRi+IHxAAAA\n",
       "GQGe6mpDfwADtdrEGymE+UhVhebuSoNKNpEAAAAnQZrvSahBbJlMCCP//rUqgACt9Rh644c0o3cV\n",
       "JDEtFlBiCFcKNCdTAAAAGEGfDUUVLDv/AAKmYpx9d1mrDhr1fQkYeQAAABcBnyx0Q38AA7Wm0z1q\n",
       "2kDEADMx6VbywAAAAAwBny5qQ38AAAMArYAAAAAUQZszSahBbJlMCCP//rUqgAAAHrEAAAAOQZ9R\n",
       "RRUsO/8AAAMAeEAAAAAMAZ9wdEN/AAADAK2AAAAADAGfcmpDfwAAAwCtgQAAAJtBm3ZJqEFsmUwI\n",
       "I//+tSqAAK4VsWAFrsyZ983ETvcFJlh8RL9V3NJbCSvzFMmj4/4LwMfPlY8/K12pMuo7EbQ5uhXE\n",
       "JUyHEmoiwMd1F+V/J2tAm0BoNyzNifTbkrkw3Ho5Q/3YoEemYPTELToQmPxZNb40ev08f0/n5ZXu\n",
       "PatXQMjerQ8T20BKOUISJVdA/ci1ydGdmnItFdzUgQAAABlBn5RFFSw3/wADtlCBPIjVrNn8uzRi\n",
       "+IHxAAAAFwGftWpDfwADtlCBPIjVrNn8uzRi+IHwAAAAjEGbuUmoQWyZTAgj//61KoAAre54PmtB\n",
       "ADL+AAZf4oD/zm87ZD+4CLxOQuiyH/nbTFY65pCt0LRxTXhbn0ZuDvBalPPn7eSGE8JoyUK1s0VP\n",
       "BgKU0pXwOdsfxsfi7OWpNuaexy8JAZvB+/T0vhT9SUXVtFzT8biT+U+mkvuiEP4AbUwKQZr8vCfN\n",
       "XeVAAAAAHUGf10UVLDf/AAO2pTKfldnP6wkjmMOMyXSgLg6ZAAAAIAGf+GpDfwADtdrEGymEs1uZ\n",
       "yK9EP0nGcPbjDVN3ipumAAAAIUGb/UmoQWyZTAgj//61KoAASH79TOsVmaaXgiSyaXFtWAAAAB1B\n",
       "nhtFFSw7/wACpsWqm6p9nY5L/M4D0gumTdQXgQAAABcBnjp0Q38AA7Wm0zKD4OutQDS9jSdqQAAA\n",
       "ABcBnjxqQ38AA7ZQgTUHlqzm0hmyhfEF4QAAACZBmiFJqEFsmUwII//+tSqAAK31GHreGtykHvZB\n",
       "An4EGIIVwhg3+QAAAGJBnl9FFSw7/wACndAAg2kAAraFyaTEG5KQ8Qh+iJI/iaCGyAyMaJbwbmNd\n",
       "LN9cc96mDXdgypATiHr4T8dHRq3+1CLaWfPHW5pX/zOHektHkru090lHgkeKj5U6dmPe8dP0gAAA\n",
       "ABgBnn50Q38AA7Wm0z1q2j2eZDL4WHmGh00AAAAXAZ5gakN/AAO2UIE8iNWs2fy7NGL4gfAAAAA+\n",
       "QZplSahBbJlMCCP//rUqgACt9fIwBGHyITYCVJ/Bi/A/pAwW1dvnmknQ8YnDQ76KtZavoSEe5lce\n",
       "XJmIN6UAAAAYQZ6DRRUsO/8AAqZinH13WasOGwaRI/ZVAAAAFwGeonRDfwADtabTPWraQMQANLoN\n",
       "J2VAAAAADAGepGpDfwAAAwCtgAAAABRBmqlJqEFsmUwII//+tSqAAAAesQAAAA5BnsdFFSw7/wAA\n",
       "AwB4QAAAAAwBnuZ0Q38AAAMArYEAAAAMAZ7oakN/AAADAK2AAAAAFEGa7UmoQWyZTAgj//61KoAA\n",
       "AB6xAAAADkGfC0UVLDv/AAADAHhBAAAADAGfKnRDfwAAAwCtgQAAAAwBnyxqQ38AAAMArYEAAAAU\n",
       "QZsxSahBbJlMCCP//rUqgAAAHrAAAAAOQZ9PRRUsO/8AAAMAeEAAAAAMAZ9udEN/AAADAK2BAAAA\n",
       "DAGfcGpDfwAAAwCtgAAAAIRBm3RJqEFsmUwII//+tSqAANp8/hrAzBRNXj7VI1UcANfRiHqSh66s\n",
       "HmWrlY1gnuLeT2rsl+NT2qUQyygE61kCYeLTjdJxI+DNOUPyJer4/r03FVWQ/5o+Cm2YUhpjLpa1\n",
       "4mmZszvYuMbYI9M4583z6AOE8WT7aiZShOHCX4DiUlqnQekAAAAZQZ+SRRUsN/8ABLa9AOdmvoxZ\n",
       "X45r1fnR8QAAABcBn7NqQ38ABLa9AOdmvoxZX45r1fnR8QAAAJ1Bm7dJqEFsmUwII//+tSqAANlN\n",
       "GHjSzxwxQAbcV+7a6x/KRe5SLKyLq9IlRHxa5dKuQ+4aVSFNtw0pd9qSZgj18CrgdbD5UXy59HP8\n",
       "8qhRcCXcFLtb9TX7XZQ9jlQD1ZEBLVYiVcpsmnFAODSnJqcWwUG9bbv0xZDdPLZhFQmA0OxpMcdp\n",
       "8JS7BKxN/J+X/fgvN6lfVEP3/myt5rZRAAAAH0Gf1UUVLDf/AAS2MlIzgbWeN5NDGWMzpUP7e3ER\n",
       "AKwAAAAXAZ/2akN/AAO2UIE8iNWs2fy7NGL4gfAAAAAzQZv7SahBbJlMCCP//rUqgACt9fIwBRpy\n",
       "TctmPlHTU/+hme+8olSAYMFs1eLomZgHBvSBAAAAGEGeGUUVLDv/AAKmYpx9d1mrDhsGkSP2VAAA\n",
       "ABcBnjh0Q38AA7Wm0z1q2kDEADS6DSdlQAAAAAwBnjpqQ38AAAMArYEAAAAUQZo/SahBbJlMCCP/\n",
       "/rUqgAAAHrAAAAAOQZ5dRRUsO/8AAAMAeEEAAAAMAZ58dEN/AAADAK2BAAAADAGefmpDfwAAAwCt\n",
       "gAAAABRBmmNJqEFsmUwII//+tSqAAAAesQAAAA5BnoFFFSw7/wAAAwB4QAAAAAwBnqB0Q38AAAMA\n",
       "rYEAAAAMAZ6iakN/AAADAK2BAAAAFEGap0moQWyZTAgj//61KoAAAB6wAAAADkGexUUVLDv/AAAD\n",
       "AHhAAAAADAGe5HRDfwAAAwCtgQAAAAwBnuZqQ38AAAMArYAAAAAVQZrrSahBbJlMCCH//qpVAAAD\n",
       "AD1hAAAADkGfCUUVLDv/AAADAHhAAAAADAGfKHRDfwAAAwCtgQAAAAwBnypqQ38AAAMArYEAAACg\n",
       "QZssSahBbJlMCCP//rUqgACuFbFgBuOsXFylXzhEQ9PFRQsH0+i7iIHJnkH2MwchzNzjGOmPJMVm\n",
       "ecAwEnx3HbQ57y9DTmxmPtTGneI4SjmY3thUEEyoQU/mdCnATw3ns849HbF2p790VliItEBQABJc\n",
       "fx7PovSQKePnu/T0vce7mw80oAAtTEu9/bQEo5QhIj8kRL8iZxgKzjFwH7MarwAAACdBm1BJ4QpS\n",
       "ZTAgj//+tSqAAK31GHrjhzSjdxUkMS0WUGIIVwo0J1MAAAAYQZ9uRTRMO/8AAqZinH13WasOGvV9\n",
       "CRh4AAAAFwGfjXRDfwADtabTPWraQMQAMzHpVvLAAAAADAGfj2pDfwAAAwCtgQAAABRBm5RJqEFo\n",
       "mUwII//+tSqAAAAesAAAAA5Bn7JFESw7/wAAAwB4QAAAAAwBn9F0Q38AAAMArYEAAAAMAZ/TakN/\n",
       "AAADAK2BAAAAFUGb2EmoQWyZTAgh//6qVQAAAwA9YQAAAA5Bn/ZFFSw7/wAAAwB4QAAAAAwBnhV0\n",
       "Q38AAAMArYAAAAAMAZ4XakN/AAADAK2BAAAAo0GaGUmoQWyZTAgj//61KoAArhWxYAh9mTPvm4ec\n",
       "G5ReEoQnMh1/6+YISZxLCfgpGo10rzODde5/z2CwEL3Tss2O0OoM9Nx5nCNW348UYnBWURzLuH9I\n",
       "35L81InHWDX5t82DDBoPQtu1Pfx7hNQOX0TXgzlRuRf9XALKI9H5+WV7j3PuU8kNZyH9SWt4/6ZZ\n",
       "ZuLMJEeojBaoEEkaM7NORbI7mpAAAAAnQZo9SeEKUmUwII///rUqgACt9Rh644c0o3cVJDEtFlBi\n",
       "CFcKNCdTAAAAGEGeW0U0TDv/AAKmYpx9d1mrDhr1fQkYeQAAABcBnnp0Q38AA7Wm0z1q2kDEADMx\n",
       "6VbywAAAAAwBnnxqQ38AAAMArYEAAAAUQZphSahBaJlMCCP//rUqgAAAHrEAAAAOQZ6fRREsO/8A\n",
       "AAMAeEAAAAAMAZ6+dEN/AAADAK2BAAAADAGeoGpDfwAAAwCtgAAAABRBmqVJqEFsmUwII//+tSqA\n",
       "AAAesQAAAA5BnsNFFSw7/wAAAwB4QQAAAAwBnuJ0Q38AAAMArYAAAAAMAZ7kakN/AAADAK2AAAAA\n",
       "FEGa6UmoQWyZTAgj//61KoAAAB6xAAAADkGfB0UVLDv/AAADAHhAAAAADAGfJnRDfwAAAwCtgQAA\n",
       "AAwBnyhqQ38AAAMArYAAAAAUQZstSahBbJlMCCP//rUqgAAAHrEAAAAOQZ9LRRUsO/8AAAMAeEEA\n",
       "AAAMAZ9qdEN/AAADAK2BAAAADAGfbGpDfwAAAwCtgQAAABRBm3FJqEFsmUwII//+tSqAAAAesAAA\n",
       "AA5Bn49FFSw7/wAAAwB4QAAAAAwBn650Q38AAAMArYEAAAAMAZ+wakN/AAADAK2AAAAAFEGbtUmo\n",
       "QWyZTAgj//61KoAAAB6wAAAADkGf00UVLDv/AAADAHhBAAAADAGf8nRDfwAAAwCtgQAAAAwBn/Rq\n",
       "Q38AAAMArYEAAAAVQZv5SahBbJlMCCH//qpVAAADAD1gAAAADkGeF0UVLDv/AAADAHhAAAAADAGe\n",
       "NnRDfwAAAwCtgQAAAAwBnjhqQ38AAAMArYAAAACgQZo6SahBbJlMCCP//rUqgACuFbFgCH2ZM++b\n",
       "h5wblF4ShCcyHX/r5ghJnEsJ+CkajXSvM4N17n/PYLAQvdOyzY7Q6gz03HmcI1bfjxRicFZRHMu4\n",
       "f0jfkvzUicdYNfm3zYMMGg9C27U9/HuE1A5fRNeDOVG5F/1cAsoj0fn5ZXuPURU0pTUzLEu9/bQE\n",
       "o5QhIkw/cjVA8FdxnZpyMEg3pAAAACZBml5J4QpSZTAgj//+tSqAAK31GHrjhzSjdxUkMYrY+aK6\n",
       "q9g3pQAAABhBnnxFNEw7/wACpmKcfXdZqw4bBpEj9lQAAAAXAZ6bdEN/AAO1ptM9atpAxAA0ug0n\n",
       "ZUEAAAAMAZ6dakN/AAADAK2BAAAAFEGagkmoQWiZTAgj//61KoAAAB6wAAAADkGeoEURLDv/AAAD\n",
       "AHhBAAAADAGe33RDfwAAAwCtgAAAAAwBnsFqQ38AAAMArYEAAAAUQZrGSahBbJlMCCP//rUqgAAA\n",
       "HrEAAAAOQZ7kRRUsO/8AAAMAeEAAAAAMAZ8DdEN/AAADAK2AAAAADAGfBWpDfwAAAwCtgQAAABRB\n",
       "mwpJqEFsmUwII//+tSqAAAAesAAAAA5BnyhFFSw7/wAAAwB4QQAAAAwBn0d0Q38AAAMArYAAAAAM\n",
       "AZ9JakN/AAADAK2BAAAAFEGbTkmoQWyZTAgj//61KoAAAB6xAAAADkGfbEUVLDv/AAADAHhBAAAA\n",
       "DAGfi3RDfwAAAwCtgQAAAAwBn41qQ38AAAMArYAAAACgQZuRSahBbJlMCCP//rUqgACuFbFgBuOs\n",
       "XFylXzhEQ9PFRQsH0+i7iIHJnkH2MwchzNzjGOmPJMVmecAwEnx3HbQ57y9DTmxmPtTGneI4SjmY\n",
       "3thUEEyoQU/mdCnATw3ns849HbF2p790VliItEBQABJcfx7PovSQKePnu/T0vceod/WhNFu/RiXe\n",
       "/toCUcoQkSWgMFqgaDX7i7wJMmDekAAAABlBn69FFSw3/wADtlCBPIjVrNn8uzRi+IHxAAAAFwGf\n",
       "0GpDfwADtlCBPIjVrNn8uzRi+IHwAAAAJkGb1UmoQWyZTAgj//61KoAArfUYeuOHNKN3FSQxitj5\n",
       "orqr2DekAAAAGEGf80UVLDv/AAKmYpx9d1mrDhsGkSP2VQAAABcBnhJ0Q38AA7Wm0z1q2kDEADS6\n",
       "DSdlQQAAAAwBnhRqQ38AAAMArYEAAAAUQZoZSahBbJlMCCP//rUqgAAAHrAAAAAOQZ43RRUsO/8A\n",
       "AAMAeEAAAAAMAZ5WdEN/AAADAK2BAAAADAGeWGpDfwAAAwCtgAAAABRBml1JqEFsmUwII//+tSqA\n",
       "AAAesAAAAA5BnntFFSw7/wAAAwB4QQAAAAwBnpp0Q38AAAMArYAAAAAMAZ6cakN/AAADAK2BAAAA\n",
       "FEGagUmoQWyZTAgj//61KoAAAB6xAAAADkGev0UVLDv/AAADAHhAAAAADAGe3nRDfwAAAwCtgQAA\n",
       "AAwBnsBqQ38AAAMArYAAAACYQZrESahBbJlMCCP//rUqgACuFbFgBNHWLi36F80PQa0Wlipci0ho\n",
       "f2bUsb+tRQZymlnx5bjyi6NkdlggFkQzZkRdjfLWz54ac37XqiKDqZ1IdhkIt77MZ4n1rYKUs20J\n",
       "8D85kPJt65Tubs+rgjrwRCU7Fu8936el7j3MXKsykoOJd7+2gJRyhCRIh1E+rxSa2wPzwJLqDekA\n",
       "AAAZQZ7iRRUsN/8AA7ZQgTyI1azZ/Ls0YviB8QAAABcBnwNqQ38AA7ZQgTyI1azZ/Ls0YviB8AAA\n",
       "ACZBmwhJqEFsmUwII//+tSqAAK31GHrjhzSjdxUkMYrY+aK6q9g3pAAAABhBnyZFFSw7/wACpmKc\n",
       "fXdZqw4bBpEj9lUAAAAXAZ9FdEN/AAO1ptM9atpAxAA0ug0nZUAAAAAMAZ9HakN/AAADAK2BAAAA\n",
       "KEGbS0moQWyZTAgj//61KoAArfpLjxaHrUlibkR37Z2q0OcYnkwQDekAAAAZQZ9pRRUsN/8AA7ZQ\n",
       "gTyI1azZ/Ls0YviB8QAAABcBn4pqQ38AA7ZQgTyI1azZ/Ls0YviB8QAAACZBm49JqEFsmUwII//+\n",
       "tSqAAK31GHrjhzSjdxUkMYrY+aK6q9g3pQAAABhBn61FFSw7/wACpmKcfXdZqw4bBpEj9lUAAAAX\n",
       "AZ/MdEN/AAO1ptM9atpAxAA0ug0nZUAAAAAMAZ/OakN/AAADAK2AAAAAq0Gb0UmoQWyZTBRMEf/+\n",
       "tSqAAMXYxK4ALsIu/tIZbx+czapiYB2kII/8EmH0ZUHQDmqXzTcc1O0JwsmfwxdvgRoTPetl6lWK\n",
       "FxKRPU0yHMWitAmj3JF3W3q1HBjIm3BJ7Jjy1BEtNKFAg/LxLIq7YhhdGP2BlPIjK2UQOkkrUo6+\n",
       "Y+nQIX/g7lZ2Jxo3UZD435wISesNAjLgTXV/5kqvDgrEks256Ka6ATJHnwAAAB0Bn/BqQ38ABDa9\n",
       "AOdud1mg3pHj+Hl3dWJsP9yVgAAAAC9Bm/VJ4QpSZTAgj//+tSqAAMVNGHjS0m47fJfC0sEPXfcQ\n",
       "B0fNVdZeM4am6Qvs+AAAAGdBnhNFNEw7/wADAbS2X0GYw0jzAAPir1QSRv8ONI0Gt0E4T67KYaIn\n",
       "OUOzXNLti1kEdoE4+yyL74J8AdepMZe5sJnEOngkqTlh7rpkzLUkYhwooBIx/zobALtpVxGVxvYa\n",
       "SWiciOStAAAAFwGeMnRDfwAENfWaqyxUMF3UklSpw/HBAAAAFgGeNGpDfwADtdrEGymE+UhiyC8P\n",
       "MqEAAAAUQZo5SahBaJlMCCP//rUqgAAAHrAAAAAOQZ5XRREsO/8AAAMAeEAAAAAMAZ52dEN/AAAD\n",
       "AK2BAAAADAGeeGpDfwAAAwCtgAAAABRBmn1JqEFsmUwII//+tSqAAAAesAAAAA5BnptFFSw7/wAA\n",
       "AwB4QQAAAAwBnrp0Q38AAAMArYAAAAAMAZ68akN/AAADAK2BAAAAFUGaoUmoQWyZTAgh//6qVQAA\n",
       "AwA9YQAAAA5Bnt9FFSw7/wAAAwB4QAAAAAwBnv50Q38AAAMArYEAAAAMAZ7gakN/AAADAK2AAAAA\n",
       "oEGa4kmoQWyZTAgj//61KoAArhWxYAh9mTPvm4ecG5ReEoQnMh1/6+YISZxLCfgpGo10rzODde5/\n",
       "z2CwEL3Tss2O0OoM9Nx5nCNW348UYnBWURzLuH9I35L81InHWDX5t82DDBoPQtu1Pfx7hNQOX0TX\n",
       "gzlRuRf9XALKI9H5+WV7j1EVNKU1MyxLvf20BKOUISJMP3I1QPBXcZ2acjBIN6UAAAAmQZsGSeEK\n",
       "UmUwII///rUqgACt9Rh644c0o3cVJDGK2PmiuqvYN6UAAAAYQZ8kRTRMO/8AAqZinH13WasOGwaR\n",
       "I/ZUAAAAFwGfQ3RDfwADtabTPWraQMQANLoNJ2VAAAAADAGfRWpDfwAAAwCtgQAAABRBm0pJqEFo\n",
       "mUwII//+tSqAAAAesAAAAA5Bn2hFESw7/wAAAwB4QQAAAAwBn4d0Q38AAAMArYAAAAAMAZ+JakN/\n",
       "AAADAK2BAAAAFEGbjkmoQWyZTAgj//61KoAAAB6xAAAADkGfrEUVLDv/AAADAHhBAAAADAGfy3RD\n",
       "fwAAAwCtgQAAAAwBn81qQ38AAAMArYAAAAAUQZvSSahBbJlMCCP//rUqgAAAHrAAAAAOQZ/wRRUs\n",
       "O/8AAAMAeEEAAAAMAZ4PdEN/AAADAK2AAAAADAGeEWpDfwAAAwCtgAAAABRBmhZJqEFsmUwII//+\n",
       "tSqAAAAesQAAAA5BnjRFFSw7/wAAAwB4QQAAAAwBnlN0Q38AAAMArYEAAAAMAZ5VakN/AAADAK2A\n",
       "AAAAFUGaWkmoQWyZTAgh//6qVQAAAwA9YAAAAA5BnnhFFSw7/wAAAwB4QQAAAAwBnpd0Q38AAAMA\n",
       "rYAAAAAMAZ6ZakN/AAADAK2AAAAAoEGam0moQWyZTAgj//61KoAArhWxYAbjrFxcpV84REPTxUUL\n",
       "B9Pou4iByZ5B9jMHIczc4xjpjyTFZnnAMBJ8dx20Oe8vQ05sZj7Uxp3iOEo5mN7YVBBMqEFP5nQp\n",
       "wE8N57POPR2xdqe/dFZYiLRAUAASXH8ez6L0kCnj57v09L3HuROVNKDH+spYVPyn0zcWYSJBRiS/\n",
       "IdjE0PzwJLqDekEAAAAmQZq/SeEKUmUwII///rUqgACt9Rh644c0o3cVJDGK2PmiuqvYN6QAAAAY\n",
       "QZ7dRTRMO/8AAqZinH13WasOGwaRI/ZVAAAAFwGe/HRDfwADtabTPWraQMQANLoNJ2VBAAAADAGe\n",
       "/mpDfwAAAwCtgAAAABVBmuNJqEFomUwIIf/+qlUAAAMAPWEAAAAOQZ8BRREsO/8AAAMAeEAAAAAM\n",
       "AZ8gdEN/AAADAK2BAAAADAGfImpDfwAAAwCtgQAAAKBBmyRJqEFsmUwII//+tSqAAK4VsWAIfZkz\n",
       "75uHnBuUXhKEJzIdf+vmCEmcSwn4KRqNdK8zg3Xuf89gsBC907LNjtDqDPTceZwjVt+PFGJwVlEc\n",
       "y7h/SN+S/NSJx1g1+bfNgwwaD0LbtT38e4TUDl9E14M5UbkX/VwCyiPR+flle49RFTSlNTMsS739\n",
       "tASjlCEiTD9yNUDwV3GdmnIwSDekAAAAJkGbSEnhClJlMCCP//61KoAArfUYeuOHNKN3FSQxitj5\n",
       "orqr2DekAAAAGEGfZkU0TDv/AAKmYpx9d1mrDhsGkSP2VQAAABcBn4V0Q38AA7Wm0z1q2kDEADS6\n",
       "DSdlQAAAAAwBn4dqQ38AAAMArYEAAAAUQZuMSahBaJlMCCP//rUqgAAAHrAAAAAOQZ+qRREsO/8A\n",
       "AAMAeEEAAAAMAZ/JdEN/AAADAK2BAAAADAGfy2pDfwAAAwCtgQAAABRBm9BJqEFsmUwII//+tSqA\n",
       "AAAesQAAAA5Bn+5FFSw7/wAAAwB4QAAAAAwBng10Q38AAAMArYAAAAAMAZ4PakN/AAADAK2BAAAA\n",
       "FEGaFEmoQWyZTAgj//61KoAAAB6wAAAADkGeMkUVLDv/AAADAHhAAAAADAGeUXRDfwAAAwCtgQAA\n",
       "AAwBnlNqQ38AAAMArYEAAAAUQZpYSahBbJlMCCP//rUqgAAAHrEAAAAOQZ52RRUsO/8AAAMAeEAA\n",
       "AAAMAZ6VdEN/AAADAK2AAAAADAGel2pDfwAAAwCtgQAAABRBmplJqEFsmUwIb//+p4QAAAMB3QAA\n",
       "A6lliIQAFP/+98dPwKbo+WbLnUU9ITCK2PpIKL1Y7NAydQAAAwAARMDHEW1dy48B5gAAYQAAlg0b\n",
       "qXhYdLhIql5zALye8/WEnmLP4vrzuuL4UjGtIFK/due+1+nNNsVqjsNY24KtK0Gn0/ayq2Z426UV\n",
       "B9y0I8Cx+Rtii+saSyaLbwaHz4MDaRgihfKsd8rsG+BOeDGQGzeMxSXTkjqMGaXTpshVxrhFaeJ4\n",
       "/jTyru3KOmvlrPQERpo56yVZaqZST9woagohthBl10n2RTmXo8zS62u3m6c8uuF3aSVOVyUAlPGD\n",
       "JGks+hNFA7t5DfioT+paglXwHTppq8dOOf2AbrN7DOj35CIRX/mBWRSjNGNH0w0XZ8Xl/S+FnW4r\n",
       "vAa45aNTokS2h7mxEfNj2TgyYeh8n+FqzolEMw77RGuh9LhJ44AXiKP/GhxNvAPCVwGDJMPbN3kH\n",
       "X1tjhmIfbNwQPIlr0fi+YPfDw/3EQCev5Rsdg3tMQ+EPUsqFfRs/xrKJ6h86jS7R/RbxyMYp5d2e\n",
       "D/95iiffxoy/b12RK7rh7ef4EvUQb36SlLKF1ecHv9kycLehXhDUTXw2eC+Bf606VlWE67GZ17ko\n",
       "vd0bJ8bYECoMHuy9HNQ2E62OEGSI6J6RHZnwCLqmuCRN4BvYZ+gwW4tSBUE8IcCZ9sfrNdQJD2k/\n",
       "Qj1C0tZW6b8kx//UDmlx9q90/85cbfaBN8tlWqDGa8ZbAjGVkyumyyJ8tdKnocc1JOjRBzYFEvKT\n",
       "+KNdQFo4FcugUa0Y3rBl8FMOACdIEBA1x2CCvZufAxe1u2Q4+uDMvWJwnwjC66o72zxI5znR8EuH\n",
       "e0jIDg81g5DsTZVsqdqZ4tzfWG8WxfUTjovGztINB65S2BlPLb6QFLL5uoNucWGYn6waqGIiMBfF\n",
       "prCcwkj79qkTyQialsy/PtiO3J/PjtHNWy9pOSK4dy4WDeXeSkbzZB9iU8c6/4st2f/0yggyu51+\n",
       "tO/3/2Jw419EA8VGeE8NITk+QnMaWYbcSf/4kmUSKtJlOjAkjdUi4JfTuk4qyy5NmIBCauLjgWm8\n",
       "3N+7v5+CBpLdcoOcrSnSL0TaMsGZRK34zyw+mSA0IvvfZDERh9wdBNykJb1tF1Hx+n6pxUQMUtcd\n",
       "6biYrFbsF/cjtoZxXkdTDqwAADlTV7xcNRrv142Q1B37VOdzE3N3aQSGVAU/mNX/U/BkGNA0Qook\n",
       "r2+g7XwNYyC1ASPZBbaVwBuPE4AAAAMAAAsYAAAARUGaJGxBH/61KoABbh9ugBCPpWWLjP9mClUp\n",
       "n6cdJfrbjg2Px7Tc4NgqJMaXNUDHxm/KXLLI1pGXX2jKhMoAHO6M3L1hHwAAABJBnkJ4h38ABZTF\n",
       "OCDrSxgUKaAAAAAQAZ5hdEN/AAeXTy2zAOB/gQAAAAwBnmNqQ38AAAMArYEAAAAUQZpoSahBaJlM\n",
       "CCP//rUqgAAAHrAAAAAOQZ6GRREsO/8AAAMAeEEAAAAMAZ6ldEN/AAADAK2AAAAADAGep2pDfwAA\n",
       "AwCtgQAAAKhBmqxJqEFsmUwII//+tSqAAK4VsWAG46xcXKWyY0YL2xXY7VaHO+GzBCSvxUlm3EzF\n",
       "E/atgr36BoZgaEAsa+h2uNzZIYC3J7nLWoQd6d169TNcSY9E1649g45syrZR+34G49HbF2p7+7hN\n",
       "bThILa83a2QaUKwDITM9f0/n5Lf/6G7QNoYZDjczeNZ1wac4miLZmRiCPm9Io5gDS/c6Iq3YavwL\n",
       "U08KGq8AAAAjQZ7KRRUsO/8AAqZinH13WasOF+A2oAAQUPchnBhozgy3BOAAAAAWAZ7pdEN/AAO2\n",
       "e9uOHKQNRggM5mV2VAAAABIBnutqQ38AAZwukyJV6cmwwcEAAAEPQZrvSahBbJlMCCP//rUqgAC7\n",
       "lDqADmSBb7ax3CTLRMef4XQIBOgBGKb8EC49UQaHHNtFEhsRv5KCeEkqd7424jHDA+Gol3sLwfGQ\n",
       "rNWX7eILRq/wyWz32QDFg3bDeT4MBNjZll8BdfVfKtPY/XioD33ItPs/aHBD61mxEcmZ4bMQWmk6\n",
       "PRuMoSYCC+RjeLXmCe602wEe9ba+KMTpNzrfoxlJCukj31L2C0MGpPzLCTiRaqEhSyv2TANH2lDS\n",
       "gk0GKCNaN7eC696E/C+dcJzCDilyiDQFg+n9oo2A97qHz0V7ZehaomC1g0cIxbt+HkkbScED0yod\n",
       "qgjNuJADqLT/G6WnqYS6YUfxl8PW6RQ3cAAAACdBnw1FFSw3/wAD+FCBQJbtXVE0c2C7hut9YXd+\n",
       "r0fonwnybg7BWYEAAABYAZ8uakN/AAP32sIsbCNDvWAAEJRqZQF+Qkupctku33+DNrepR6fZAu8T\n",
       "IQkZJjNbQJ6Y/L/zXzT9Pj3XXh2eyqHCoX39oyyP9psnyXjtgy1Qw1gtCSjpgAAAAJhBmzNJqEFs\n",
       "mUwII//+tSqAALt1GHjvUuK+KAICiAC4YFEem73SQj8UXwn0SwWUZ+Oe8hXIaLoNQ5wyhiEVTCP4\n",
       "DjF1WWIUJaII4Tj7/B+d3QvHvND1n6AWEj3bEoClq4nwP6SyxWVyw/0+oIYbi5w1kVJRsL5pxHXu\n",
       "DZ13xzUVxcxfZSvPF0rVswAYLdBPL9AH3g+fwsXLpwAAADNBn1FFFSw7/wAC3KvXm2N6lf9yRsvU\n",
       "ON40TwOP/AB71gfYPfwV9hCPmqT8/dyRKQTiO4EAAAANAZ9wdEN/AAGH6wEImQAAABwBn3JqQ38A\n",
       "A/hQgOc9GtVMhZJwWM2PSq/h3EdxAAAAFEGbd0moQWyZTAgj//61KoAAAB6wAAAADkGflUUVLDv/\n",
       "AAADAHhAAAAADAGftHRDfwAAAwCtgQAAAAwBn7ZqQ38AAAMArYAAAAAUQZu7SahBbJlMCCP//rUq\n",
       "gAAAHrAAAAAOQZ/ZRRUsO/8AAAMAeEEAAAAMAZ/4dEN/AAADAK2BAAAADAGf+mpDfwAAAwCtgQAA\n",
       "ABRBm/9JqEFsmUwII//+tSqAAAAesAAAAA5Bnh1FFSw7/wAAAwB4QAAAAAwBnjx0Q38AAAMArYEA\n",
       "AAAMAZ4+akN/AAADAK2AAAAAFEGaI0moQWyZTAgj//61KoAAAB6wAAAADkGeQUUVLDv/AAADAHhB\n",
       "AAAADAGeYHRDfwAAAwCtgAAAAAwBnmJqQ38AAAMArYEAAAChQZpnSahBbJlMCCP//rUqgACuFbFg\n",
       "CH2ZM++bh5wblLonxAW6Yqshn1uSuySLmIrvu9F/IoLysm0oerqUP/PgGO0ObJkq2h9zhTr/GuZ+\n",
       "GtsbLB1Ebaydb1RQXmxYMoeTAGihSj9e1Pfe2KNCWjaW47nHLPDtm9Eah+hxw5bw+6Ro1AS2EXT7\n",
       "Yl639ZDwfHUITXC0/6gXNceoIWCR0DSMDekAAAAZQZ6FRRUsO/8AAqar17lqhmR2Rg+YUnedlQAA\n",
       "AAwBnqR0Q38AAAMArYEAAAAXAZ6makN/AAO2UIE8iNWs2fy7NGL4gfAAAAAmQZqrSahBbJlMCCP/\n",
       "/rUqgACt9Rh644c0o3cVJDGK2PmiuqvYN6UAAAAaQZ7JRRUsO/8AAqZinIO/en5e6ORznMX6zKkA\n",
       "AAAYAZ7odEN/AAO2e9uOHKQNRggM2ak0g7KgAAAADAGe6mpDfwAAAwCtgAAAABRBmu9JqEFsmUwI\n",
       "I//+tSqAAAAesQAAABBBnw1FFSw7/wACcUqIwPCAAAAADAGfLHRDfwAAAwCtgQAAAAwBny5qQ38A\n",
       "AAMArYAAAAAUQZszSahBbJlMCCP//rUqgAAAHrEAAAAQQZ9RRRUsO/8AAnFKiMDwgQAAAAwBn3B0\n",
       "Q38AAAMArYEAAAAMAZ9yakN/AAADAK2BAAAAFEGbd0moQWyZTAgj//61KoAAAB6wAAAAEEGflUUV\n",
       "LDv/AAJxSojA8IAAAAAMAZ+0dEN/AAADAK2BAAAADAGftmpDfwAAAwCtgAAAABRBm7tJqEFsmUwI\n",
       "I//+tSqAAAAesAAAABBBn9lFFSw7/wACcUqIwPCBAAAADAGf+HRDfwAAAwCtgQAAAAwBn/pqQ38A\n",
       "AAMArYEAAACcQZv/SahBbJlMCCP//rUqgACuFbFgBa7MmfdkS9IcFJlh8RLIfrce7CS2Azj2j6A3\n",
       "TE53lufOv0V3TbPnIEebovPr2OL+5DJt6XTwUvbLFG8NQFD90Bc7yNzK8RkmcejuWv1M9q6ovpyo\n",
       "NA7hcMEXTgULVUCPOx5wHZg6BOSdAD1sLiBrfI/HIIPjqEJnk0D4/D2iiCG5hHIBkargAAAAG0Ge\n",
       "HUUVLDv/AAKmq9e7DXQDB5s4iHPExh9lQAAAAAwBnjx0Q38AAAMArYEAAAAXAZ4+akN/AAO2UIE8\n",
       "iNWs2fy7NGL4gfAAAAAnQZojSahBbJlMCCP//rUqgACt9Rh644c0o3cVJDEtFlBiCFcKNCdTAAAA\n",
       "GUGeQUUVLDv/AAKmYpyIzOfU9xxZLxOf8ysAAAAXAZ5gdEN/AAO1ptM9atpAxAA0ug0nZUAAAAAM\n",
       "AZ5iakN/AAADAK2BAAAAFEGaZ0moQWyZTAgj//61KoAAAB6xAAAAEEGehUUVLDv/AAJxSojA8IAA\n",
       "AAAMAZ6kdEN/AAADAK2BAAAADAGepmpDfwAAAwCtgAAAALtBmqtJqEFsmUwII//+tSqAAMXYxK4A\n",
       "LsIu/tIZbx+czapiYB2kII/8EmH0ZUHQDmmb//q0m9mj8ss2+jhFugpzrWrbsKZoZ++Twb9djth8\n",
       "R6ohjspGMe/e3sFl3EQHjJOsRii0tqKkDWvtwTPblZea1wcvGY/j9BPwBE4J23StVJNNbNygnx5+\n",
       "egzTilkClCc0jABnA4fvTMQ4THwBBKx/b9HpbtnLHEDTgaje++/dFxYK6gYtvKyg2R59AAAAYEGe\n",
       "yUUVLDv/AAMCCP+ncvOoYALssSuLLwbN3DupDc9NnQvzodknFWopsrGOamiA6Kx6TG9iv41h3icK\n",
       "pXIDhV1epq/uGPcI77em2IYdstIHrtJJRtJOWOFFtzog4wqnwQAAABYBnuh0Q38AA7Z7244cpA1G\n",
       "CAzmZXZUAAAAGAGe6mpDfwAENjJSM+NY55KQ8nRD6V7gcAAAADJBmu9JqEFsmUwII//+tSqAAMVN\n",
       "GHjS0nMBVTQDJmS35nU4ajDENFM1w69iHTmcCcY8+QAAAB5Bnw1FFSw7/wADAbS2X0gIa28wuez6\n",
       "LK8iV8JnhT4AAABcAZ8sdEN/AAQ19ZqrLMErgA1czOVpJhs18O6kNzuHUZplRRz4q1EPBDu6nI+O\n",
       "rFBSY3sVylV6C/Iqlay7QNa8NJ7rw/im4veNsQrlQOQPV4cM/wIILzqd4mei8lcAAAAMAZ8uakN/\n",
       "AAADAK2AAAAAFEGbM0moQWyZTAgj//61KoAAAB6xAAAAEEGfUUUVLDv/AAJxSojA8IEAAAAMAZ9w\n",
       "dEN/AAADAK2BAAAADAGfcmpDfwAAAwCtgQAAAJ5Bm3VJqEFsmUwUTBH//rUqgACuFbFgBa7Mmfdk\n",
       "S9IcFJlh8RLIfrce7CS2Azj2j6A3TE53lufOv0V3TbPnIEebovPr2OL+5DJt6XTwUvbLFG8NQFD9\n",
       "0Bc7yNzK8RkmcejlD/sqHZ1V1FZZGcB3C22PMimlEJogr+iwwZbw+6BI1AD6c9g2FrfI/HIIPjqE\n",
       "Jq2yiecD/crcrp0DSMDekAAAABgBn5RqQ38AA7ZQgUDueRqWPcS2ud55bywAAAAnQZuZSeEKUmUw\n",
       "II///rUqgACt9Rh644c0o3cVJDEtFlBiCFcKNCdTAAAAGUGft0U0TDv/AAKmYpyIpOoSU44slaoR\n",
       "ow8AAAAXAZ/WdEN/AAO1ptM9atpAxAAzMelW8sAAAAAMAZ/YakN/AAADAK2BAAAArkGb20moQWiZ\n",
       "TBTwR//+tSqAALuUOoAOZIFvtrHcJMtEx5/hdAgE6AEYpvwQLj1RBocc20USGxG/koJ4SSp3xOOt\n",
       "JteXDFnMJ9JVq1gooCgSfrg8NxxLrkLl9Ia8r/UtBcuTrGEOUpIIRUDwIAsHAZCIoCfM06m5LZhd\n",
       "XIG+UWPZgpsZHuF0qVsybrUQvw1RjbsEMI3iikbUpqd9cP4kzH7J3wIw1Bl4b/HvmQj4WQAAABgB\n",
       "n/pqQ38AA/fawjDYiBxWWHTLU+oX+LkAAAAlQZv/SeEKUmUwII///rUqgAC7dRh40f8Y8XZhpbkA\n",
       "Zt6hTSjAgAAAABhBnh1FNEw7/wAC3GKblepHBBjpHrTreOAAAAAUAZ48dEN/AAP3ptKqxRW7quNX\n",
       "W/MAAAAMAZ4+akN/AAADAK2AAAAAFEGaI0moQWiZTAgj//61KoAAAB6wAAAAEEGeQUURLDv/AAJx\n",
       "SojA8IEAAAAMAZ5gdEN/AAADAK2AAAAADAGeYmpDfwAAAwCtgQAAABRBmmdJqEFsmUwII//+tSqA\n",
       "AAAesQAAABBBnoVFFSw7/wACcUqIwPCAAAAADAGepHRDfwAAAwCtgQAAAAwBnqZqQ38AAAMArYAA\n",
       "AAAUQZqrSahBbJlMCCP//rUqgAAAHrEAAAAQQZ7JRRUsO/8AAnFKiMDwgQAAAAwBnuh0Q38AAAMA\n",
       "rYAAAAAMAZ7qakN/AAADAK2AAAAAFEGa70moQWyZTAgj//61KoAAAB6xAAAAEEGfDUUVLDv/AAJx\n",
       "SojA8IAAAAAMAZ8sdEN/AAADAK2BAAAADAGfLmpDfwAAAwCtgAAAAJ5BmzNJqEFsmUwIIf/+qlUA\n",
       "AVv1mYANxvJUrvaXpAwObUN2dAchJNPVAqYDOPaPoDdMTnBu0u6/RXdNs+cgPJte8+vY4v7kMm3p\n",
       "dPBSfDPNbw1AUP3OqwzI3MrxGSY2ZIwYdnrvjLjUVlkZwA1abesyKaUQmiCv6KSfgL9ubWh3VNhz\n",
       "0Vp0sOp7ACawS8TjVaEf3JLoItOB+/S10Me5qQAAABtBn1FFFSw7/wACpqvXuw10AwebOIhxBNF2\n",
       "8sEAAAAMAZ9wdEN/AAADAK2BAAAAFwGfcmpDfwADtlCBPIjVrNn8utB2v+OxAAAAGkGbdkmoQWyZ\n",
       "TAgh//6qVQAAkCzNfvzQMzkHAAAAHEGflEUVLDf/AAO2pTKgHZnP6cNuIDCt8YewdpAAAAAXAZ+1\n",
       "akN/AAO2UIE8iNWs2fy7NGL4gfEAAACtQZu3SahBbJlMCCH//qpVAAGeofAABoq73094uTqh3Gnf\n",
       "Z2WwJzwK9UxXJ74ys81MZNHSt6PsGH92FNxOwg52LxSS2NyIA+wcb03TQMqX9q3HOG7oAzFfh/FQ\n",
       "U4Pcm3/2d2jJHUMg2HyJLEX0b4pzBepCE5iP3z7qmfZQPwy/tDaaUe8k8PhtEnrpNZ/E5pGDMrtx\n",
       "7+QdSnRmqZEtXHy7vrbrxulhADO1fgoDuXgAAAA8QZvYSeEKUmUwII///rUqgADPTRh5mOxAAJeo\n",
       "zP6USzYALIyDY9iCTKnaGJ+vh6WPWl0dgBbcCYeXTg2VAAAAgkGb/EnhDomUwII//rUqgADFUkuO\n",
       "40TRw5AADOxgAmnlD2lsN8JaNpTHHv5ACnpbIa7MzKSmLYiBf8Oopyr9gM+x0lASd94ZCGbfXEBt\n",
       "BwFKQso3JEU83khwO/wrK5Yf6QWHuQ8tZayKkhr6vyUuP7u/pizjj5/df+8w50qYwtmEs4EAAAAa\n",
       "QZ4aRRE8O/8AAwG0tl9JEa0BvmkoBHzuNasAAAAXAZ45dEN/AAQ19ZqrLFQwXdSSVKnD8cEAAAAM\n",
       "AZ47akN/AAADAK2AAAAAj0GaIEmoQWiZTAgj//61KoAAxVJLjuNE0OaeABCbMmYf5YTpOWfdblAR\n",
       "6J66oJqWh/6Knfg6R953VQjqUzeVNPFhuBnBft3txNmumCGRUUBvDHH5x0mKhigh6YkXHn+MJDH5\n",
       "3JG0EoaXdgXAP69nlzFW3gIPw9J0qEJDOWN//+JBHwor+TuxzmznMYnvjHnwAAAAIUGeXkURLDv/\n",
       "AAMCCP+ncwMUwbk6Xn2Ho6qZ1YQgqPyVgQAAAAwBnn10Q38AAAMArYAAAAAcAZ5/akN/AAQ2MlIz\n",
       "41kZsFt1k3eEjAAB+2PuLgAAAC5BmmRJqEFsmUwII//+tSqAAMVNGHjS0m47fJfC0sEPXfcQB0fN\n",
       "VFglwVVp+MefAAAAZUGegkUVLDv/AAMBtLZfRucmcAE0WJXGBshhXVnKRTnOF6Wn0pXdHKWOs5Ek\n",
       "558o3XYj9YWGMMvrDfvJLpLb/TiFAnCgcOuwLbXMjaflLnAvWeZSVIQO70HAnTLRfgCA92W7wuSs\n",
       "AAAAFwGeoXRDfwAENfWaqyxUMF3UklSpw/HBAAAAFgGeo2pDfwADtdrEGymE+UhiyC8PMqEAAAAU\n",
       "QZqoSahBbJlMCCP//rUqgAAAHrAAAAAQQZ7GRRUsO/8AAnFKiMDwgQAAAAwBnuV0Q38AAAMArYAA\n",
       "AAAMAZ7nakN/AAADAK2BAAAAFEGa7EmoQWyZTAgj//61KoAAAB6xAAAAEEGfCkUVLDv/AAJxSojA\n",
       "8IAAAAAMAZ8pdEN/AAADAK2AAAAADAGfK2pDfwAAAwCtgQAAAK5BmzBJqEFsmUwIIf/+qlUAAXbx\n",
       "8AAoMfd+bhsVJ2ZgBqGLqYz33j1dNwAQnHI1MZDIe9t74AMHjpusb0YkBpJ3IqKOxSBfeAjv+GyF\n",
       "YbS3T+lXysKZuLY3zOV6X1Dn0qVkVG60SGOknKMUbZr/Z4wEagvOkUJx9gaS52M3wvevG0burd3F\n",
       "69+PXXvvRyg31Hw7R1wSwTcLUNXuUSl/nef3l+7sa0mcurjHVx3pRgQAAAAZQZ9ORRUsO/8AAtyr\n",
       "15tjepgwRXANaB944QAAAAwBn210Q38AAAMArYAAAAAUAZ9vakN/AAP4UIDnPRquYXGkUUEAAAAi\n",
       "QZtySahBbJlMFEwQ//6qVQAAWb4va4JnOJGtfKcKUoeTgQAAAMcBn5FqQ38ABHj7IATSnDWzYLbg\n",
       "kIuUfuhZTNF5vrHjT9BDrHtB2blTmDJ4sHXDfm2QWRYkompqwIPLXOCxWnqMNJhxUB4dR2cfpQsy\n",
       "6+oTi+JzRGd+xrefgWd1NvoYuOK2cWxiKqOlZPyfSldqBEWWRwIt00Insenh+aRobdyxNg8paJEU\n",
       "qNVu7+AFjyfH6w1lYUUFKFe02el/dCORoMZxx4hH7YgmznNaPdtFaozlO1Ean/Lhy/kHewIA/mZr\n",
       "fo2PXfSxlGM/AAAAoEGbk0nhClJlMCCP//61KoAAu3pLjuNDa1LoALIkOwxLIdb/BY6CZNqvTzB2\n",
       "IqD1ZEkMGa05HRQR4ZhsP8c5rZ6wCBCVWe8PYCeJxMA6Ua6MWMv4Azi4Pv0qg0k/l01m4+HJrv2S\n",
       "W71qp5g85gl3QasCrH88EFSseDIJViSvwQSlFX7WhE+VG5/472oDuHkTB5g5l2QMwnOjSUR6Z7wa\n",
       "yoEAAAB9QZu3SeEOiZTAgj/+tSqAAK318jADcdYuLZ8Snu6e8L+yZdEgCLyl9TiibX+DnxOQx2Qn\n",
       "KM9c5W2tB9Si2nkIwPKclS3oRqSITM/fTSzRKQbU/APThtoBCwLQTQjTrbQ0/x43Y8j1t/zbin8r\n",
       "OcUYtP919CQj3ifjmkQDDVcAAAAaQZ/VRRE8O/8AAqbFqpy+VnMnjDlfYQuzzKgAAAAXAZ/0dEN/\n",
       "AAO1ptM9atpAxAA0ug0nZUEAAAAMAZ/2akN/AAADAK2AAAAAIEGb+0moQWiZTAgj//61KoAAFKMI\n",
       "HSOYQvhm2aNLEWfAAAAAEEGeGUURLDv/AAJxSojA8IEAAAAMAZ44dEN/AAADAK2BAAAADAGeOmpD\n",
       "fwAAAwCtgQAAAMNBmj9JqEFsmUwII//+tSqAALKUOoATX6VldoEnKrTGJBUx3liSzz9cIvvcrzkW\n",
       "uG9VIeVynAJOfRpBO+qPvF2lfiqaWgJWfSxa6yk0gh/+99RJJyQvk/dArmiOPFwz7F8//0I8sGoD\n",
       "WX46S9X3YywSWyK87K0egzvASKABO7S4Z7bYZp5KCYzULZsUUoFqTFYNKbrxyIITWT3Y1cSQFF/n\n",
       "CQ4vXccPyeYeTAks23/wI+LZfnjssBah81c/vlcsLfLekXAAAAAZQZ5dRRUsO/8AArir15tjfS9u\n",
       "M00dt1xbKAAAAAwBnnx0Q38AAAMArYEAAABJAZ5+akN/AAPMUAAe4AB/mknKfSlpglPyABrMavB9\n",
       "HhOkEFOL2Q6DUC/C3aOj2OFWLK4leI1dDzMNWSgfCWbSNdgEmvLvEOZwOAAAAClBmmNJqEFsmUwI\n",
       "I//+tSqAALJ1GHjR/xjxdmGgj5orrcEye4I4NJn5FwAAABdBnoFFFSw7/wACuGKblepDyATyb3IW\n",
       "ywAAABYBnqB0Q38AA8um0qrFFbuqx8K5yFswAAAADAGeompDfwAAAwCtgQAAAIVBmqdJqEFsmUwI\n",
       "I//+tSqAAK3u9UWLwAWuvpvro6RNWlQrDfsCfpcEADZ8Vab+sbvpL6zuNqP+CaqGBjJEu6hJ2LqX\n",
       "rwZNOS1NIGtntTXROcErQdoF37TVxNQno//o/K6yndpCKouhtXWbdKWFB8p3s3F+EiUcSHZM5FoK\n",
       "TyoefeyZMG9JAAAAGUGexUUVLDv/AAKmq9e5aoZkdkYPmFJ3nZUAAAAMAZ7kdEN/AAADAK2BAAAA\n",
       "FwGe5mpDfwADtlCBPIjVrNn8uzRi+IHwAAAAsUGa6UmoQWyZTBRMEf/+tSqAAM9sOoAC0+yyghFV\n",
       "pqh4PPla3QHQKHtA/TRXh+oyu+2ZhrH9V2f5XAQ2zqW5sUE3Sj1eXB1q2e3FZ3dn0pyCYkLN1WE0\n",
       "iuhOkGMrutRjKmBXFrBggDbP/MYKoA4QZSFRTLmMdZcYqTkahhv/qOOTDfXf5z6tNSLWfpQpanYb\n",
       "Qd/qcYAlEuvm0yJcikstfaznbr7gEfYKDVhJ3gkB3Gy76wAAABkBnwhqQ38ABHYyUjDYhq5xnU7J\n",
       "eDay6fHBAAAAdEGbC0nhClJlMFLBH/61KoAAz00YeZjsQACXqMz+lFtNY3rK8Vtd5VYevi96DHRM\n",
       "G8joHmN6Q37WzWIfsBepjghbJGUdis6f535FDnFG1PuXJBof2wTMW4BGbbPSDCHvP2U4I+/iPLfP\n",
       "AOw5Fv8ammiXBkRsAAAAFgGfKmpDfwAEdjJSM6uEMpYXYcu3peAAAACNQZsvSeEOiZTAgj/+tSqA\n",
       "AMVSS47jRNByarqu0AG3GtOf4QJRVFaslujmCP6okePc66uZklbmx3gwWadxIxOvz8CfQjVwjgB+\n",
       "y3NJKEVYAYLEi9Qb1cKJwM4PT6tz7dF9M3VudehcSNVnqcRp65v0vKj7lzKxnPXZmxt5jHc7yKl4\n",
       "h4hGOHXxBowWmR59AAAAHUGfTUUVPDv/AAMBtLZfSAhpI287SPKg+DR/CyCsAAAAXAGfbHRDfwAE\n",
       "NfWaqywQEBQAgarNfn0la8hMje4tnppI9BSc/9riJOyX8UB8eupJ7o/Jfuj1ifu4n3vKMgTtcwFl\n",
       "nxbWBiKmoDMhOp8skB6UAeinWQF7e5PDpclZAAAADAGfbmpDfwAAAwCtgAAAABRBm3NJqEFomUwI\n",
       "I//+tSqAAAAesQAAAA5Bn5FFESw7/wAAAwB4QQAAAAwBn7B0Q38AAAMArYEAAAAMAZ+yakN/AAAD\n",
       "AK2BAAAAFEGbt0moQWyZTAgj//61KoAAAB6wAAAADkGf1UUVLDv/AAADAHhAAAAADAGf9HRDfwAA\n",
       "AwCtgQAAAAwBn/ZqQ38AAAMArYAAAAAUQZv7SahBbJlMCCP//rUqgAAAHrAAAAAOQZ4ZRRUsO/8A\n",
       "AAMAeEEAAAAMAZ44dEN/AAADAK2BAAAADAGeOmpDfwAAAwCtgQAAAIVBmj9JqEFsmUwII//+tSqA\n",
       "ANp8/hrAzBRNXj7VI1UcALLXz7ySh7tQgoV6zuwxj/BX9JrDB7FKcCeydBwea3bCLV1yEbKz4MnT\n",
       "5ytmufZMpb19Ky6AR2jYunUNGs/C4jtnYnKE6fwtm1BYF0ny3mSve7q/hPGTe2omUoThwl+A4lJa\n",
       "p0HpAAAAGUGeXUUVLDv/AANSCP+ncJ6xN9r023J3nR8AAAAMAZ58dEN/AAADAK2BAAAAFwGefmpD\n",
       "fwAEtr0A52a+jFlfjmvV+dHwAAAAokGaYUmoQWyZTBRMEf/+tSqAANlNGHjSzxwxQAVpIdhj/awo\n",
       "B9WjpPEwJh7XigDoXrREKh2Ziyh5bMDq3L/wof5NLGwM/NGfDtIH2LADxFNN4hBhG0SWewBc3J0b\n",
       "smmRCfnmomgLt11aUY30Q7vcRsQivgdBtt36YshunmnH7AU/Lg8H/3U0/9njNk6hCb7kAmqwMFT6\n",
       "25hBVEP3/nD8BbNbKAAAAB0BnoBqQ38ABLYyUjOBtZ43k0MZYzOlQsgaRXcXUwAAABtBmoVJ4QpS\n",
       "ZTAgj//+tSqAAEgPPt+/Zu0yMaAAAAAcQZ6jRTRMO/8AAqbFqpxbHLOJ9Qs8g3sfcu3aQQAAABcB\n",
       "nsJ0Q38AA7Wm0z1q2kDEADMx6VbywQAAABcBnsRqQ38AA7ZQgTyI1azZ/Ls0YviB8AAAAJtBmslJ\n",
       "qEFomUwIIf/+qlUAAYsnihgAaLZ73rolWJ5mDBdjsnNYT7/BHR9GVB0A5U6UHZrUumy4SbLNpO7h\n",
       "vgMe5H01GFM0M/fbYTnrHGM7FtFV/LQem3FJTj41Ug0c9a5fOHjTAsV4tgxFEAhuAsXYxJVPNeRF\n",
       "2Y4A+MUx4vUCD/U405F8qQ+9zezyuKieRJg99/chrlgCOMJZwQAAABlBnudFESw7/wADAgj/p3L6\n",
       "+m2a5dKU0vqCAAAADAGfBnRDfwAAAwCtgQAAABcBnwhqQ38ABDYyUjPjWOeSkPJ0yIXKCQAAACVB\n",
       "mwpJqEFsmUwII//+tSqAAMVNGHjS0m47djAMaR6WboH3m5ErAAAAFUGbLEnhClJlMFFSwR/+tSqA\n",
       "AAAesAAAABoBn0tqQ38ABDci9WnH0oYdLW2Qn7mjTAfjgQAAAIRBm1BJ4Q6JlMCCP/61KoAArfqO\n",
       "LAFUAxcWz/9LWsfca0Hhbonrhn5FVMwOy68abz5yp8PGOih49byVpMjlBupyQRZHRTrs2jE6Gt/R\n",
       "eQC06s/S5r6aC9BkA6fE1Fz9eN3AUO2vtb9p+7dulh+XimduMwlphefm8VcmvjaGUw8ZrissDekA\n",
       "AAAYQZ9uRRU8O/8AAqZinH13WasOGwaRI/ZVAAAAFwGfjXRDfwADtabTPWraQMQANLoNJ2VAAAAA\n",
       "DAGfj2pDfwAAAwCtgQAAABRBm5RJqEFomUwII//+tSqAAAAesQAAAA5Bn7JFESw7/wAAAwB4QQAA\n",
       "AAwBn9F0Q38AAAMArYEAAAAMAZ/TakN/AAADAK2AAAAAFEGb2EmoQWyZTAgj//61KoAAAB6wAAAA\n",
       "DkGf9kUVLDv/AAADAHhBAAAADAGeFXRDfwAAAwCtgAAAAAwBnhdqQ38AAAMArYAAAAAUQZocSahB\n",
       "bJlMCCP//rUqgAAAHrEAAAAOQZ46RRUsO/8AAAMAeEEAAAAMAZ5ZdEN/AAADAK2BAAAADAGeW2pD\n",
       "fwAAAwCtgAAAABRBmkBJqEFsmUwII//+tSqAAAAesAAAAA5Bnn5FFSw7/wAAAwB4QQAAAAwBnp10\n",
       "Q38AAAMArYAAAAAMAZ6fakN/AAADAK2AAAAAFEGahEmoQWyZTAgj//61KoAAAB6xAAAADkGeokUV\n",
       "LDv/AAADAHhAAAAADAGewXRDfwAAAwCtgQAAAAwBnsNqQ38AAAMArYEAAAAUQZrISahBbJlMCCP/\n",
       "/rUqgAAAHrAAAAAOQZ7mRRUsO/8AAAMAeEEAAAAMAZ8FdEN/AAADAK2AAAAADAGfB2pDfwAAAwCt\n",
       "gQAAALVBmwxJqEFsmUwII//+tSqAAMXYxK4ALsIu/tIZbx+czapiYB2kII/8EmH0ZUHQDmm2VS6Z\n",
       "q3s0NTHB12SVoHsQ35arZM3P0VS8FFSvlcePNborgGULGd3bkgWELGRhPyCYSyRX7sMnX1nUmYlh\n",
       "N5LpffbP44DHJN8wTi3rcx5vaXJh1Hasd3wpQnNIwBGMS/YnyiMKFTmkGsf2/R2WuHixxA04IU2O\n",
       "U/mg65UNqkmiAEtFEjz5AAAAH0GfKkUVLDv/AAMCCP+ncvr6mJ6bwvxpMm0vWg+xrUgAAAAMAZ9J\n",
       "dEN/AAADAK2AAAAAHwGfS2pDfwAENjJSM+NZGbBbdZEamLeHV65KtlNKkrEAAAAvQZtQSahBbJlM\n",
       "CCP//rUqgADFTRh40tJuO3yXwtLBD133DD58fNVFuBwVVqX/5lMAAAAdQZ9uRRUsO/8AAwG0tl9I\n",
       "CGkjbztI8qDlgvVyDU0AAABeAZ+NdEN/AAQ19ZqrLMErgA1czOVpJhs18OuYW8HG+j3G/1kuzYqb\n",
       "5NADW+nHqhz1QgwUUnpNKMbIhWNT5tlFLE7VCUAo/2ZZ3gILbqwCiPDhn+BBBeXigfwLCaW8bAAA\n",
       "AAwBn49qQ38AAAMArYEAAACEQZuTSahBbJlMCCP//rUqgACt+o4sANx1i4stThV3EknfzWTYAzgc\n",
       "PS0vWxGGHSYVX7xcnIUKf8rGQrwprEOfs7ppZIJU3FcV3gRv0zvknjqd/mtnYI5N8Z/+M9Bluq6x\n",
       "mCSQeXA3I2qaP6tG2xXp/PyyvaWzQ8T3fy661AFzNWWqA3pBAAAAGEGfsUUVLDf/AAO12sQbKYT5\n",
       "SGLILw8yoQAAAAwBn9JqQ38AAAMArYEAAAApQZvXSahBbJlMCCP//rUqgACt+kuPFoetSWJuQI9P\n",
       "9tLqGfYdXl3+Gq4AAAAYQZ/1RRUsO/8AAqZinH13WasOGwaRI/ZUAAAAFwGeFHRDfwADtabTPWra\n",
       "QMQANLoNJ2VBAAAADAGeFmpDfwAAAwCtgAAAABZBmhlJqEFsmUwUTDv//qmWAAADAPCAAAAADAGe\n",
       "OGpDfwAAAwCtgQAAA6pliIIABT/+98dPwKbo+WbLnUU9ITCK2PpIKL1Y7NAydQAAAwAARMDHEW1d\n",
       "y48B5gAAYQAAlg0bqXhYdLhIql5zALye8/WEnmLP4vrzuuL4UjGtIFK/due+1+nNNsVqjsNY24Kt\n",
       "K0Gn0/ayq2Z426UVB9y0I8Cx+Rtii+saSyaLbwaHz4MDaRgihfKsd8rsG+BOeDGQGzeMxSXTkjqM\n",
       "GaXTpshVxrhFaeJ4/jTyru3KOmvlrPQERpo56yVZaqZST9woagohthBl10n2RTmXo8zS62u3m6c8\n",
       "uuF3aSVOVyUAlPGDJGks+hNFA7t5DfioT+paglXwHTppq8dOOf2AbrN7DOj35CIRX/mBWRSjNGNH\n",
       "0w0XZ8Xl/S+FnW4rvAa45aNTokS2h7mxEfNj2TgyYeh8n+FqzolEMw77RGuh9LhJ44AXiKP/GhxN\n",
       "vAPCVwGDJMPbN3kHX1tjhmIfbNwQPIlr0fi+YPfDw/3EQCev5Rsdg3tMQ+EPUsqFfRs/xrKJ6h86\n",
       "jS7R/RbxyMYp5d2eD/95iiffxoy/b12RK7rh7ef4EvUQb36SlLKF1ecHv9kycLehXhDUTXw2eC+B\n",
       "f606VlWE67GZ17kovd0bJ8bYECoMHuy9HNQ2E62OEGSI6J6RHZnwCLqmuCRN4BvYZ+gwW4tSBUE8\n",
       "IcCZ9sfrNdQJD2k/Qj1C0tZW6b8kx//UDmlx9q90/85cbfaBN8tlWqDGa8ZbAjGVkyumyyJ8tdKn\n",
       "occ1JOjRBzYFEvKT+KNdQFo4FcugUa0Y3rBl8FMOACdIEBA1x2CCvZufAxe1u2Q4+uDMvWJwnwjC\n",
       "66o72zxI5znR8EuHe0jIDg81g5DsTZVsqdqZ4tzfWG8WxfUTjovGztINB65S2BlPLb6QFLL5uoNu\n",
       "cWGYn6waqGIiMBfFprCcwkj79qkTyQialsy/PtiO3J/PjtHNWy9pOSK4dy4WDeXeSkbzZB9iU8c6\n",
       "/4st2f/0yggyu51+tO/3/2Jw419EA8VGeE8NITk+QnGiqVqxJxwd64P/8Sf65ms4dB/xlVxwx77X\n",
       "8NA31BPMtdQB5tPxPG54xiGrP78rm6Avibx6D8qnB6hwvbPYrHMslFE1p5HmUP/IBGdO5P6QliJg\n",
       "u6A3SOkTpBKcCWH/o5D48oGVrzQp9eYdvudy4MHngAAS1vJlHo57s/ZjZX/3ftU53MTc4YtMYoW1\n",
       "Gnzn/+VzTSiikE1leENTFC0KB9yGh4SdndsIJCgIa0YomQAAAwAD0wAAAEVBmiRsQR/+tSqAAW4f\n",
       "boAQj6Vli4z/ZgpVKZ+nHSX6244Nj8e03ODYKiTGlzVAx8ZvylyyyNaRl19oyoTKABzujNy9YR8A\n",
       "AAASQZ5CeId/AAWUxTgg60sYFCmgAAAAEAGeYXRDfwAHl08tswDgf4AAAAAMAZ5jakN/AAADAK2B\n",
       "AAAAFEGaaEmoQWiZTAgj//61KoAAAB6wAAAADkGehkURLDv/AAADAHhAAAAADAGepXRDfwAAAwCt\n",
       "gQAAAAwBnqdqQ38AAAMArYAAAACgQZqsSahBbJlMCCP//rUqgACt7EeEzWAFrsyZ9daTH16YU5+9\n",
       "/pQJKCEmhJN+hbYNUujSE1dAAzzRztKgDmyHfxzit8MD5ZheuCKmeL1Xsz/F0Oc0K9tt/YmWhIT4\n",
       "/bBepRyc1N4Usc0gnyMwxjA17j420nmLCil76Pz8sr4nRjJHG+lGSnUsKFdtAWbjzEKRmUNMfBHx\n",
       "Ct2Z2aci3zw1XQAAABlBnspFFSw7/wACpqvXuWqGZHZGD4sOcdvLAAAADAGe6XRDfwAAAwCtgAAA\n",
       "ABcBnutqQ38AA7ZQgTyI1azZ/LrQdr/jsQAAABtBmvBJqEFsmUwII//+tSqAAEgPPt+/Zu0yMaAA\n",
       "AAAbQZ8ORRUsO/8AAqbhbTFa/gvCaa7nHGyb+EpPAAAAGQGfLXRDfwADtnvbjhykDUYH02WHaRx8\n",
       "NpEAAAAXAZ8vakN/AAO2UIE8iNWs2fy7NGL4gfAAAAAmQZs0SahBbJlMCCP//rUqgACt9Rh644c0\n",
       "o3cVJDGK2PmiuqvYN6QAAAAYQZ9SRRUsO/8AAqZinH13WasOGwaRI/ZVAAAAFwGfcXRDfwADtabT\n",
       "PWraQMQANLoNJ2VAAAAADAGfc2pDfwAAAwCtgQAAAClBm3hJqEFsmUwII//+tSqAAK36S48Wh61J\n",
       "Ym5Ed+2dr/AsnAIvFnuakAAAABlBn5ZFFSw7/wACpqvXuWqGZHZGD5hSd52VAAAADAGftXRDfwAA\n",
       "AwCtgQAAABYBn7dqQ38AA7XaxBsphPlIYsgvDzKhAAAAgUGbvEmoQWyZTAgj//61KoAAre54Pmms\n",
       "ANx1i4YlOVYBNZGbkD3gJ90AeCGKPS9lXkbb56BKtyKm5Ht8jQcVmbqpPEnZMnPWklXLkAVYwP1F\n",
       "rmTFlCz9FmvNfGJguZW6JdHxr7t5+WV8KgFnWp1kt6rQK7aAsqqZVwfOnDlE9eDf4QAAAHFBn9pF\n",
       "FSw7/wADe+agBLVxoWyuFkgQ9EoNzTb+cDExKOsPU4cbKlmP+ThtrGHSFZZU67BM3kkV0ON97m7o\n",
       "W41Skv1RLub2/2KIG70KV20lZSbho0Lse7UZYTk4AP3/+pCt+AAeP/+S5sVLhLS6+ogHTAAAAB8B\n",
       "n/l0Q38ABPokpp+uHYyY1iE+gghtkCGS3stgH6LuAAAAHAGf+2pDfwAE+efI52QOUl6sDlkyIzlb\n",
       "yEZmKdkAAAAwQZvgSahBbJlMCCP//rUqgACt+kuPFf3rRLE3a+0G+AAM8tab6YH0urFpVNHf4a0g\n",
       "AAAAYEGeHkUVLDv/AAKd0ACDRwASUIjJXiQ3eFTh1TqjcYE7bSlf0ZjReTYA3Mv62SIIuwwTvguE\n",
       "saFO02qa+um7i4FSqnDZ6c/q4zGNu9EtHkru090lHgk42j5U6dmPe8dP0gAAABgBnj10Q38AA7Wm\n",
       "0z1q2j2eZDL4WHmGh00AAAAXAZ4/akN/AAO2UIE8iNWs2fy7NGL4gfEAAAA2QZokSahBbJlMCCP/\n",
       "/rUqgACt9fIwBCeBZsoCsiIetLN5Jc+cNO+8olSAYMFs1gHomZgHBvSBAAAAGEGeQkUVLDv/AAKm\n",
       "Ypx9d1mrDhsGkSP2VAAAABYBnmF0Q38AA7Z7244cpA1GCAzmZXZUAAAADAGeY2pDfwAAAwCtgQAA\n",
       "ABRBmmhJqEFsmUwII//+tSqAAAAesAAAAA5BnoZFFSw7/wAAAwB4QAAAAAwBnqV0Q38AAAMArYEA\n",
       "AAAMAZ6nakN/AAADAK2AAAAAFEGarEmoQWyZTAgj//61KoAAAB6xAAAADkGeykUVLDv/AAADAHhB\n",
       "AAAADAGe6XRDfwAAAwCtgAAAAAwBnutqQ38AAAMArYEAAACaQZrwSahBbJlMCCP//rUqgACuFbFg\n",
       "BNHWLi36IAhawShh1i1ci0g/W5LUr/d42TOE+GhnzBBX9SzA0EgB9ocTudoxfXEdmL4P3egq/HMr\n",
       "N1yC4PafgZe5y4SNpyXHo5oPbb/VGRhnV5HjQhSNeasuULj1t59P5+WV7j1D/9ZJkHKBEu7T0yzZ\n",
       "uPMQpO7xbxvQMTAis4xcNcG9IAAAABlBnw5FFSw7/wACpqvXuWqGZHZGD5hSd52VAAAADAGfLXRD\n",
       "fwAAAwCtgQAAABcBny9qQ38AA7ZQgTyI1azZ/Ls0YviB8AAAAJtBmzRJqEFsmUwII//+tSqAAMXY\n",
       "xK4ALsIu/tIZbx+czapiYB2kII/8EmH0ZUHQDmnTtv/SVnjmiDuWz/Zm2ZkYhvy1HhwKq/jyS+vb\n",
       "/EiStIZLcG6uvNoa036kBUqiN2xVa1EDGWBJm9a7GWELDfJwflm3dMTb9ujTZmWdCcaNCUAYIuFN\n",
       "Fzd2B8BXZzWtb7/N8bRnPkebVy8YsAAAACFBn1JFFSw7/wADAgj/p3MDE7bMqtot6sj+iKzB3egg\n",
       "p8EAAAAXAZ9xdEN/AAO1ptM9atpAxAA0ug0nZUAAAAAdAZ9zakN/AAQ2vQDnbndZoN6R4/h5d3Vi\n",
       "bD/clYEAAAAvQZt4SahBbJlMCCP//rUqgADFTRh40tJuO3yXwtLBD133EAdHzVXWXjOGpukL7PgA\n",
       "AAAdQZ+WRRUsO/8AAwG0tl9ICGkjbztI8qD4NH8LIK0AAAAcAZ+1dEN/AAQ19ZqrLFQyUcwf0ZVY\n",
       "uvJi5HRBWQAAAAwBn7dqQ38AAAMArYEAAAB9QZu7SahBbJlMCCP//rUqgACupi3vABNHWLiysFvT\n",
       "8uFCcllFNL6iwhY0Jlpk6t1G4ZaqwFIW5D9zLkMc03P7RsjJMwVP74EHwraN8lODs2S4CEj64DPd\n",
       "UHQNFuDfGNM8okXbz4mZE04foZ1TzJxSItK9m4vXRXMA6Dxw3pEAAAAZQZ/ZRRUsN/8AA7ZQgTyI\n",
       "1azZ/Ls0YviB8AAAABcBn/pqQ38AA7ZQgTyI1azZ/Ls0YviB8AAAACZBm/9JqEFsmUwII//+tSqA\n",
       "AK31GHrjhzSjdxUkMYrY+aK6q9g3pQAAABhBnh1FFSw7/wACpmKcfXdZqw4bBpEj9lQAAAAXAZ48\n",
       "dEN/AAO1ptM9atpAxAA0ug0nZUAAAAAMAZ4+akN/AAADAK2BAAAAKUGaIUmoQWyZTBRMEf/+tSqA\n",
       "AK36S48Wh61JYm5Ed+2dqtDnGJ5MEA3pAAAAFwGeQGpDfwADtlCBPIjVrNn8uzRi+IHxAAAAJkGa\n",
       "RUnhClJlMCCP//61KoAArfUYeuOHNKN3FSQxitj5orqr2DekAAAAGEGeY0U0TDv/AAKmYpx9d1mr\n",
       "DhsGkSP2VAAAABcBnoJ0Q38AA7Wm0z1q2kDEADS6DSdlQQAAAAwBnoRqQ38AAAMArYAAAAAUQZqJ\n",
       "SahBaJlMCCP//rUqgAAAHrAAAAAOQZ6nRREsO/8AAAMAeEEAAAAMAZ7GdEN/AAADAK2AAAAADAGe\n",
       "yGpDfwAAAwCtgQAAAJpBms1JqEFsmUwII//+tSqAAK4VsWAE0dYuLfogCFrBKGHWLVyLSD9bktSv\n",
       "93jZM4T4aGfMEFf1LMDQSAH2hxO52jF9cR2Yvg/d6Cr8cys3XILg9p+Bl7nLhI2nJcejmg9tv9UZ\n",
       "GGdXkeNCFI15qy5QuPW3n0/n5ZXuPd86g2hIOZpod1e2gLNx5iFIKLv+UgcLMdj88CS6g3pBAAAA\n",
       "GUGe60UVLDv/AAKmq9e5aoZkdkYPmFJ3nZUAAAAMAZ8KdEN/AAADAK2BAAAAFwGfDGpDfwADtdrE\n",
       "GymE+Ue83+Zro7uAAAAAJkGbEUmoQWyZTAgj//61KoAArfUYeuOHNKN3FSQxitj5orqr2DelAAAA\n",
       "GEGfL0UVLDv/AAKmYpx9d1mrDhsGkSP2VQAAABcBn050Q38AA7Wm0z1q2kDEADS6DSdlQAAAAAwB\n",
       "n1BqQ38AAAMArYAAAAAoQZtVSahBbJlMCCP//rUqgACt+kuPFoetSWJuRHftnarQ5xieTBAN6QAA\n",
       "ABlBn3NFFSw7/wACpqvXuWqGZHZGD5hSd52VAAAADAGfknRDfwAAAwCtgQAAABcBn5RqQ38AA7ZQ\n",
       "gTyI1azZ/Ls0YviB8AAAALhBm5lJqEFsmUwII//+tSqAAMXYxK4ALsIu/tIZbx+czapv4B2kII/8\n",
       "EmHhPfvD0xoak7BNUsSifM1m1V7uZ1GZQHfz86Molj5u/JWVJt3mCHiaMeybVEyLeqxY2MngKdu0\n",
       "YcECBoKrPYmeMzAab1vmbzr45gfg+m7vkiGGFbuWGCVpCEe53ui720+iZuMJxo1z52MGL2Ve22rt\n",
       "YICN7Kv09117lcKmK7AMxPG/JkurujjtrDdS7+dlAAAAI0Gft0UVLDv/AAMCCP+ncwMTrcNQznIc\n",
       "21VOw+w1Rb2LHCLhAAAAFgGf1nRDfwADtnvbjhykDUYIDOZldlUAAABJAZ/YakN/AAQ2vQDnbND+\n",
       "XuHigBCCIxsltI1ij6gzz7GxDvFhJ5b0f7M86cMXTOst4j8ECsTn1lW87shboGUvlOOZx8qmLqws\n",
       "DQAAADVBm91JqEFsmUwIIf/+qlUAAYrAhgWApwRVDH0/vqgcZ9lwMqOg8Q2fT0iPDJq7Gu5yn9ds\n",
       "+AAAACJBn/tFFSw7/wADAbS2X0lJdbvvqQbC+/QjlPUaijwVfCLgAAAAGwGeGnRDfwAENfWaqyxU\n",
       "LXXfhzLK65lTBTntoQAAABcBnhxqQ38AA7ZQgTyI1azZ/Ls0YviB8AAAAENBmh5JqEFsmUwII//+\n",
       "tSqAANp8/hrAzBRNYarxXS8QI+EviL8IQkSP0Q+tOivaO8QlQji3UQgelG2mxBARnK4P/oyAAAAA\n",
       "L0GaIknhClJlMCCP//61KoAA2U0YeNLTe7tGaJo8d72JqXezU0Pmqt5Ry8NVUXFxAAAAHUGeQEU0\n",
       "TDv/AANRtLZfVoCxEE7hhfNTlRCC67STAAAATQGef3RDfwAEtvEWoAFsECYBvDVXtOKAEDUH8DVR\n",
       "7etlRjZEW7naYGGCUvq5t/WqGT2fHmJ8wxUfh54Jor4GXppxu3flpExtSgy5UJJBAAAADAGeYWpD\n",
       "fwAAAwCtgAAAABRBmmZJqEFomUwII//+tSqAAAAesAAAAA5BnoRFESw7/wAAAwB4QQAAAAwBnqN0\n",
       "Q38AAAMArYAAAAAMAZ6lakN/AAADAK2AAAAAoUGaqEmoQWyZTBRMEf/+tSqAAK4VsWAIfZkz75uH\n",
       "mdW2XSfD+FvBBlvmJ7DtBPXW12GiZFU1hi1dDJysULVtlq4XsNWWSgzhCLDIkq6t9eAcypkJ2TTh\n",
       "zwaLVQ14wMEqLE+QG0LuyD0LZ5/+2mwInLlHlPjr/+ykpJjSIX70fn5ZXuPURjwP9UMPa3ia6ZZs\n",
       "3HmIUmH7k6gL5tqzjFwFGDVdAAAAFwGex2pDfwADtlCBPIjVrNn8uzRi+IHwAAAAMUGazEnhClJl\n",
       "MCCP//61KoAArfYFDACq4kjc0xMGRwThsdsSR/u5tZbNXi6JmYBwb0kAAAAYQZ7qRTRMO/8AAqZi\n",
       "nH13WasOGwaRI/ZVAAAAFwGfCXRDfwADtabTPWraQMQANLoNJ2VAAAAADAGfC2pDfwAAAwCtgQAA\n",
       "ABRBmxBJqEFomUwII//+tSqAAAAesAAAAA5Bny5FESw7/wAAAwB4QQAAAAwBn010Q38AAAMArYEA\n",
       "AAAMAZ9PakN/AAADAK2AAAAAFEGbVEmoQWyZTAgj//61KoAAAB6wAAAADkGfckUVLDv/AAADAHhB\n",
       "AAAADAGfkXRDfwAAAwCtgAAAAAwBn5NqQ38AAAMArYEAAAAUQZuYSahBbJlMCCP//rUqgAAAHrAA\n",
       "AAAOQZ+2RRUsO/8AAAMAeEEAAAAMAZ/VdEN/AAADAK2BAAAADAGf12pDfwAAAwCtgQAAABRBm9xJ\n",
       "qEFsmUwII//+tSqAAAAesQAAAA5Bn/pFFSw7/wAAAwB4QAAAAAwBnhl0Q38AAAMArYAAAAAMAZ4b\n",
       "akN/AAADAK2BAAAAFEGaAEmoQWyZTAgj//61KoAAAB6wAAAADkGePkUVLDv/AAADAHhAAAAADAGe\n",
       "XXRDfwAAAwCtgQAAAAwBnl9qQ38AAAMArYEAAAAUQZpESahBbJlMCCP//rUqgAAAHrEAAAAOQZ5i\n",
       "RRUsO/8AAAMAeEAAAAAMAZ6BdEN/AAADAK2AAAAADAGeg2pDfwAAAwCtgQAAAJ9BmoZJqEFsmUwU\n",
       "TBH//rUqgACt7/WrPAYAWuzJfvW2BJHfG35B1C/D4v3XM2Bd0LoVueU0mdbstq2KE4KcIY/st2da\n",
       "gMnAJiRkp6j9pHVgqKUezrl/rhdufhDz/1f9DNE40JEjCatB/83p17VNTvengDZfeNSEMRyV57v0\n",
       "9L4ZLdZ16Iarui1vE10yzZuPMQpAkKdCkYF/R1d4El1BvSAAAAAXAZ6lakN/AAO12sQbKYT5R7zf\n",
       "5muju4AAAAAmQZqqSeEKUmUwII///rUqgACt9Rh644c0o3cVJDGK2PmiuqvYN6UAAAAYQZ7IRTRM\n",
       "O/8AAqZinH13WasOGwaRI/ZUAAAAFwGe53RDfwADtabTPWraQMQANLoNJ2VBAAAADAGe6WpDfwAA\n",
       "AwCtgQAAABRBmu5JqEFomUwII//+tSqAAAAesAAAAA5BnwxFESw7/wAAAwB4QQAAAAwBnyt0Q38A\n",
       "AAMArYAAAAAMAZ8takN/AAADAK2BAAAAn0GbMEmoQWyZTBRMEf/+tSqAAK3v9as8BgBa7Ml+9bYE\n",
       "kd8bfkHUL8Pi/dczYF3QuhW55TSZ1uy2rYoTgpwhj+y3Z1qAycAmJGSnqP2kdWCopR7OuX+uF25+\n",
       "EPP/V/0M0TjQkSMJq0H/zenXtU1O96eANl941IQxHJXnu/T0vhkt1nXohqu6LW8TXTLNm48xCkCQ\n",
       "p0KRgX9HV3gSXUG9IQAAABcBn09qQ38AA7ZQgTyI1azZ/Ls0YviB8AAAACZBm1RJ4QpSZTAgj//+\n",
       "tSqAAK31GHrjhzSjdxUkMYrY+aK6q9g3pAAAABhBn3JFNEw7/wACpmKcfXdZqw4bBpEj9lUAAAAX\n",
       "AZ+RdEN/AAO1ptM9atpAxAA0ug0nZUAAAAAMAZ+TakN/AAADAK2BAAAAKEGbmEmoQWiZTAgj//61\n",
       "KoAArfpLjxaHrUlibkR37Z2q0OcYnkwQDekAAAAZQZ+2RREsO/8AAqar17lqhmR2Rg+YUnedlQAA\n",
       "AAwBn9V0Q38AAAMArYEAAAAXAZ/XakN/AAO2UIE8iNWs2fy7NGL4gfEAAAAUQZvcSahBbJlMCCP/\n",
       "/rUqgAAAHrEAAAAaQZ/6RRUsO/8AAqbhbTFa/gvCaa7nMjy73ZUAAAAWAZ4ZdEN/AAO2e9uOHKQN\n",
       "RggM5mV2VAAAABcBnhtqQ38AA7ZQgTyI1azZ/Ls0YviB8QAAACZBmgBJqEFsmUwII//+tSqAAK31\n",
       "GHrjhzSjdxUkMYrY+aK6q9g3pAAAABhBnj5FFSw7/wACpmKcfXdZqw4bBpEj9lQAAAAXAZ5ddEN/\n",
       "AAO1ptM9atpAxAA0ug0nZUEAAAAMAZ5fakN/AAADAK2BAAAAFUGaREmoQWyZTAgh//6qVQAAAwA9\n",
       "YQAAAA5BnmJFFSw7/wAAAwB4QAAAAAwBnoF0Q38AAAMArYAAAAAMAZ6DakN/AAADAK2BAAAAnUGa\n",
       "hUmoQWyZTAgj//61KoAAre/1qzwGAFrsyX71tgSR3xt+QdQvw+L91zNgXdC6FbnlNJnW7LatihOC\n",
       "nCGP7LdnWoDJwCYkZKeo/aR1YKilHs65f64Xbn4Q8/9X/QzRONCRIwmrQf/N6de1TU73p4A2X3jU\n",
       "hDEclee79PS+GSylzCoiOvYl3aemWbNx5iFIbGhiFD3OBnZpyXUG9IAAAAAmQZqpSeEKUmUwII//\n",
       "/rUqgACt9Rh644c0o3cVJDGK2PmiuqvYN6QAAAAYQZ7HRTRMO/8AAqZinH13WasOGwaRI/ZVAAAA\n",
       "FwGe5nRDfwADtabTPWraQMQANLoNJ2VAAAAADAGe6GpDfwAAAwCtgQAAAKVBmu1JqEFomUwII//+\n",
       "tSqAAMXYxK4ALsIu/tIZbx+czapiYB2kII/8EmH0ZUHQDmmb//pKzxzRB3LZ/szbMyQya1arbNVS\n",
       "7wmekQz3chq8fmuPs117AP7zW96wOI3HCj5VrUNpEYEmcrpdjLqFIOcSPoYW/heT3XyarM8uK/NC\n",
       "gWzsTjRuoHcU+FLegHn/hBesJrqd80HkOwT6XHVMLGTdfCjZHn0AAAAgQZ8LRREsO/8AAwII/6dy\n",
       "/5qE0JBFASdU6zeHozg5BWAAAAAWAZ8qdEN/AAO2e9uOHKQNRggM5mV2VQAAABcBnyxqQ38ABDa9\n",
       "AOdud1imx9rOa/OoIAAAADNBmzFJqEFsmUwII//+tSqAAMVNGHjS0nMBVTQDJmS35nU4ajDENCyX\n",
       "XDr8w+6nargL7PkAAAAgQZ9PRRUsO/8AAwG0tl9JSXZZe/k9DXlmptlIId6Op8EAAAAXAZ9udEN/\n",
       "AAQ19ZqrLFQwXdSSVKnD8cAAAAAWAZ9wakN/AAO12sQbKYT5SGLILw8yoAAAACVBm3VJqEFsmUwI\n",
       "I//+tSqAAK31GHrjhzSjdxUkMYrY+aKhlg3pAAAAGUGfk0UVLDv/AAKmq9e5aoZkdkYPmFJ3nZUA\n",
       "AAAMAZ+ydEN/AAADAK2BAAAAFwGftGpDfwADtlCBPIjVrNn8uzRi+IHwAAAAJkGbuUmoQWyZTAgj\n",
       "//61KoAArfUYeuOHNKN3FSQxitj5orqr2DelAAAAGEGf10UVLDv/AAKmYpx9d1mrDhsGkSP2VQAA\n",
       "ABYBn/Z0Q38AA7Z7244cpA1GCAzmZXZVAAAADAGf+GpDfwAAAwCtgQAAAChBm/xJqEFsmUwII//+\n",
       "tSqAAK36S48Wh61JYm5Ed+2dqtDnGJ5MEA3pAAAAGUGeGkUVLDf/AAO2UIE8iNWs2fy7NGL4gfAA\n",
       "AAAXAZ47akN/AAO2UIE8iNWs2fy7NGL4gfEAAAAvQZogSahBbJlMCCP//rUqgACt9Rio3PADPN0Z\n",
       "W/QzZ2xJH+7m1ls1dXomZgHBvSAAAAAYQZ5eRRUsO/8AAqZinH13WasOGwaRI/ZUAAAAFwGefXRD\n",
       "fwADtabTPWraQMQANLoNJ2VBAAAADAGef2pDfwAAAwCtgQAAABRBmmRJqEFsmUwII//+tSqAAAAe\n",
       "sQAAAA5BnoJFFSw7/wAAAwB4QAAAAG0BnqF0Q38AA833IANqkHDVk/7mA+9RiK2St44hw+tJ0Lm2\n",
       "wpqXdwhAJuPOphAlvsAsgk42OfJI7A8mzX27laZ3owUWslC5mLtNHBQ6x8QNNtjAfNqLR/HMSjSd\n",
       "yRN9Krc4HcGrLBxXwygGhu6AAAAADAGeo2pDfwAAAwCtgQAAABRBmqhJqEFsmUwII//+tSqAAAAe\n",
       "sAAAAA5BnsZFFSw7/wAAAwB4QAAAAAwBnuV0Q38AAAMArYEAAAAMAZ7nakN/AAADAK2AAAAAFEGa\n",
       "7EmoQWyZTAgj//61KoAAAB6xAAAADkGfCkUVLDv/AAADAHhBAAAADAGfKXRDfwAAAwCtgAAAAAwB\n",
       "nytqQ38AAAMArYEAAAAVQZswSahBbJlMCCH//qpVAAADAD1gAAAADkGfTkUVLDv/AAADAHhBAAAA\n",
       "DAGfbXRDfwAAAwCtgQAAAAwBn29qQ38AAAMArYAAAACfQZtxSahBbJlMCCP//rUqgACuFbFgBuOs\n",
       "XFv2l4kRD08VEyGaj8x6CAktPKks70Y2IYaKsIuHb/NViVTXzHbdtDjbK23C7+DR6OEuewDhepbF\n",
       "2g4x1/lOqccBIz9ThEUvQpS2UpcQfu1UVjmsm0vSDYK2anaSWUjj6Pz8sr3Hu5sSRKgk8ltbxNdM\n",
       "s2bjzEKPyREvyHjTeGdmnItkdzUgAAAAJ0GblUnhClJlMCCP//61KoAArfUYeuOHNKN3FSQxLRZQ\n",
       "YghXCjQnUwAAABhBn7NFNEw7/wACpmKcfXdZqw4a9X0JGHgAAAAXAZ/SdEN/AAO1ptM9atpAxAAz\n",
       "MelW8sEAAAAMAZ/UakN/AAADAK2AAAAAFEGb2UmoQWiZTAgj//61KoAAAB6xAAAADkGf90URLDv/\n",
       "AAADAHhBAAAADAGeFnRDfwAAAwCtgQAAAAwBnhhqQ38AAAMArYEAAAAUQZodSahBbJlMCCP//rUq\n",
       "gAAAHrAAAAAOQZ47RRUsO/8AAAMAeEAAAAAMAZ5adEN/AAADAK2BAAAADAGeXGpDfwAAAwCtgAAA\n",
       "AKFBml9JqEFsmUwUTBH//rUqgACuFbFgCH2ZM++bh5nVtl0nw/hbwQZb5ghJXJIpCpJ6YnTQpj66\n",
       "9+gc04frpKfUmLnaHTugz4BaDVLguJpWIfJdepmm8eNJGlawCgYJU6agovwW/kHoW3anvfIspVDl\n",
       "9E6d/peqcVq33Kwj0fn5ZXuPURhEunix9NDur20BZuPMQpMP3J4AQRRZnZpyMEg3pAAAABgBnn5q\n",
       "Q38AA7XaxBsphPlH08b3WawoqFkAAAAmQZpjSeEKUmUwII///rUqgACt9Rh644c0o3cVJDGK2Pmi\n",
       "uqvYN6UAAAAYQZ6BRTRMO/8AAqZinH13WasOGwaRI/ZVAAAAFwGeoHRDfwADtabTPWraQMQANLoN\n",
       "J2VAAAAADAGeompDfwAAAwCtgAAAABRBmqdJqEFomUwII//+tSqAAAAesQAAAA5BnsVFESw7/wAA\n",
       "AwB4QAAAAAwBnuR0Q38AAAMArYAAAAAMAZ7makN/AAADAK2BAAAAFEGa60moQWyZTAgj//61KoAA\n",
       "AB6wAAAADkGfCUUVLDv/AAADAHhBAAAADAGfKHRDfwAAAwCtgQAAAAwBnypqQ38AAAMArYAAAAAU\n",
       "QZsvSahBbJlMCCP//rUqgAAAHrEAAAAOQZ9NRRUsO/8AAAMAeEAAAAAMAZ9sdEN/AAADAK2BAAAA\n",
       "DAGfbmpDfwAAAwCtgQAAABVBm3NJqEFsmUwIIf/+qlUAAAMAPWAAAAAOQZ+RRRUsO/8AAAMAeEAA\n",
       "AAAMAZ+wdEN/AAADAK2BAAAADAGfsmpDfwAAAwCtgAAAABVBm7dJqEFsmUwIf//+qZYAAAMA8IEA\n",
       "AAAOQZ/VRRUsO/8AAAMAeEAAAAAMAZ/0dEN/AAADAK2BAAAADAGf9mpDfwAAAwCtgQAAABVBm/lJ\n",
       "qEFsmUwUTDf//qeEAAADAd0AAAAMAZ4YakN/AAADAK2BAAAxdm1vb3YAAABsbXZoZAAAAAAAAAAA\n",
       "AAAAAAAAA+gAAYagAAEAAAEAAAAAAAAAAAAAAAABAAAAAAAAAAAAAAAAAAAAAQAAAAAAAAAAAAAA\n",
       "AAAAQAAAAAAAAAAAAAAAAAAAAAAAAAAAAAAAAAAAAAAAAAIAADCgdHJhawAAAFx0a2hkAAAAAwAA\n",
       "AAAAAAAAAAAAAQAAAAAAAYagAAAAAAAAAAAAAAAAAAAAAAABAAAAAAAAAAAAAAAAAAAAAQAAAAAA\n",
       "AAAAAAAAAAAAQAAAAAGwAAABIAAAAAAAJGVkdHMAAAAcZWxzdAAAAAAAAAABAAGGoAAACAAAAQAA\n",
       "AAAwGG1kaWEAAAAgbWRoZAAAAAAAAAAAAAAAAAAAKAAAD6AAVcQAAAAAAC1oZGxyAAAAAAAAAAB2\n",
       "aWRlAAAAAAAAAAAAAAAAVmlkZW9IYW5kbGVyAAAAL8NtaW5mAAAAFHZtaGQAAAABAAAAAAAAAAAA\n",
       "AAAkZGluZgAAABxkcmVmAAAAAAAAAAEAAAAMdXJsIAAAAAEAAC+Dc3RibAAAALdzdHNkAAAAAAAA\n",
       "AAEAAACnYXZjMQAAAAAAAAABAAAAAAAAAAAAAAAAAAAAAAGwASAASAAAAEgAAAAAAAAAAQAAAAAA\n",
       "AAAAAAAAAAAAAAAAAAAAAAAAAAAAAAAAAAAAABj//wAAADVhdmNDAWQAFf/hABhnZAAVrNlBsJaE\n",
       "AAADAAQAAAMAUDxYtlgBAAZo6+PLIsD9+PgAAAAAHHV1aWRraEDyXyRPxbo5pRvPAyPzAAAAAAAA\n",
       "ABhzdHRzAAAAAAAAAAEAAAPoAAAEAAAAACBzdHNzAAAAAAAAAAQAAAABAAAA+wAAAfUAAALvAAAe\n",
       "qGN0dHMAAAAAAAAD0wAAAAEAAAgAAAAAAQAAFAAAAAABAAAIAAAAAAEAAAAAAAAAAQAABAAAAAAB\n",
       "AAAUAAAAAAEAAAgAAAAAAQAAAAAAAAABAAAEAAAAAAEAABQAAAAAAQAACAAAAAABAAAAAAAAAAEA\n",
       "AAQAAAAAAQAAFAAAAAABAAAIAAAAAAEAAAAAAAAAAQAABAAAAAABAAAQAAAAAAIAAAQAAAAAAQAA\n",
       "FAAAAAABAAAIAAAAAAEAAAAAAAAAAQAABAAAAAABAAAUAAAAAAEAAAgAAAAAAQAAAAAAAAABAAAE\n",
       "AAAAAAEAABAAAAAAAgAABAAAAAABAAAUAAAAAAEAAAgAAAAAAQAAAAAAAAABAAAEAAAAAAEAABQA\n",
       "AAAAAQAACAAAAAABAAAAAAAAAAEAAAQAAAAAAQAAFAAAAAABAAAIAAAAAAEAAAAAAAAAAQAABAAA\n",
       "AAABAAAUAAAAAAEAAAgAAAAAAQAAAAAAAAABAAAEAAAAAAEAABQAAAAAAQAACAAAAAABAAAAAAAA\n",
       "AAEAAAQAAAAAAQAAFAAAAAABAAAIAAAAAAEAAAAAAAAAAQAABAAAAAABAAAUAAAAAAEAAAgAAAAA\n",
       "AQAAAAAAAAABAAAEAAAAAAEAABQAAAAAAQAACAAAAAABAAAAAAAAAAEAAAQAAAAAAQAAFAAAAAAB\n",
       "AAAIAAAAAAEAAAAAAAAAAQAABAAAAAABAAAUAAAAAAEAAAgAAAAAAQAAAAAAAAABAAAEAAAAAAEA\n",
       "AAgAAAAAAQAAEAAAAAACAAAEAAAAAAEAABAAAAAAAgAABAAAAAABAAAUAAAAAAEAAAgAAAAAAQAA\n",
       "AAAAAAABAAAEAAAAAAEAABQAAAAAAQAACAAAAAABAAAAAAAAAAEAAAQAAAAAAQAAFAAAAAABAAAI\n",
       "AAAAAAEAAAAAAAAAAQAABAAAAAABAAAUAAAAAAEAAAgAAAAAAQAAAAAAAAABAAAEAAAAAAEAABQA\n",
       "AAAAAQAACAAAAAABAAAAAAAAAAEAAAQAAAAAAQAAFAAAAAABAAAIAAAAAAEAAAAAAAAAAQAABAAA\n",
       "AAABAAAUAAAAAAEAAAgAAAAAAQAAAAAAAAABAAAEAAAAAAEAAAgAAAAAAQAAFAAAAAABAAAIAAAA\n",
       "AAEAAAAAAAAAAQAABAAAAAABAAAQAAAAAAIAAAQAAAAAAQAAFAAAAAABAAAIAAAAAAEAAAAAAAAA\n",
       "AQAABAAAAAABAAAUAAAAAAEAAAgAAAAAAQAAAAAAAAABAAAEAAAAAAEAABQAAAAAAQAACAAAAAAB\n",
       "AAAAAAAAAAEAAAQAAAAAAQAADAAAAAABAAAEAAAAAAEAAAwAAAAAAQAABAAAAAABAAAUAAAAAAEA\n",
       "AAgAAAAAAQAAAAAAAAABAAAEAAAAAAEAABQAAAAAAQAACAAAAAABAAAAAAAAAAEAAAQAAAAAAQAA\n",
       "FAAAAAABAAAIAAAAAAEAAAAAAAAAAQAABAAAAAABAAAQAAAAAAIAAAQAAAAAAQAACAAAAAABAAAU\n",
       "AAAAAAEAAAgAAAAAAQAAAAAAAAABAAAEAAAAAAEAABQAAAAAAQAACAAAAAABAAAAAAAAAAEAAAQA\n",
       "AAAAAQAAFAAAAAABAAAIAAAAAAEAAAAAAAAAAQAABAAAAAABAAAUAAAAAAEAAAgAAAAAAQAAAAAA\n",
       "AAABAAAEAAAAAAEAABQAAAAAAQAACAAAAAABAAAAAAAAAAEAAAQAAAAAAQAAFAAAAAABAAAIAAAA\n",
       "AAEAAAAAAAAAAQAABAAAAAABAAAUAAAAAAEAAAgAAAAAAQAAAAAAAAABAAAEAAAAAAEAABQAAAAA\n",
       "AQAACAAAAAABAAAAAAAAAAEAAAQAAAAAAQAAFAAAAAABAAAIAAAAAAEAAAAAAAAAAQAABAAAAAAB\n",
       "AAAUAAAAAAEAAAgAAAAAAQAAAAAAAAABAAAEAAAAAAEAABQAAAAAAQAACAAAAAABAAAAAAAAAAEA\n",
       "AAQAAAAAAQAAFAAAAAABAAAIAAAAAAEAAAAAAAAAAQAABAAAAAABAAAUAAAAAAEAAAgAAAAAAQAA\n",
       "AAAAAAABAAAEAAAAAAEAABQAAAAAAQAACAAAAAABAAAAAAAAAAEAAAQAAAAAAQAAFAAAAAABAAAI\n",
       "AAAAAAEAAAAAAAAAAQAABAAAAAABAAAUAAAAAAEAAAgAAAAAAQAAAAAAAAABAAAEAAAAAAEAABQA\n",
       "AAAAAQAACAAAAAABAAAAAAAAAAEAAAQAAAAAAQAAFAAAAAABAAAIAAAAAAEAAAAAAAAAAQAABAAA\n",
       "AAABAAAUAAAAAAEAAAgAAAAAAQAAAAAAAAABAAAEAAAAAAEAABQAAAAAAQAACAAAAAABAAAAAAAA\n",
       "AAEAAAQAAAAAAQAAFAAAAAABAAAIAAAAAAEAAAAAAAAAAQAABAAAAAABAAAUAAAAAAEAAAgAAAAA\n",
       "AQAAAAAAAAABAAAEAAAAAAEAABQAAAAAAQAACAAAAAABAAAAAAAAAAEAAAQAAAAAAQAAFAAAAAAB\n",
       "AAAIAAAAAAEAAAAAAAAAAQAABAAAAAABAAAUAAAAAAEAAAgAAAAAAQAAAAAAAAABAAAEAAAAAAEA\n",
       "AAwAAAAAAQAABAAAAAABAAAMAAAAAAEAAAQAAAAAAQAACAAAAAABAAAUAAAAAAEAAAgAAAAAAQAA\n",
       "AAAAAAABAAAEAAAAAAEAABQAAAAAAQAACAAAAAABAAAAAAAAAAEAAAQAAAAAAQAAEAAAAAACAAAE\n",
       "AAAAAAEAABQAAAAAAQAACAAAAAABAAAAAAAAAAEAAAQAAAAAAQAAFAAAAAABAAAIAAAAAAEAAAAA\n",
       "AAAAAQAABAAAAAABAAAQAAAAAAIAAAQAAAAAAQAAEAAAAAACAAAEAAAAAAEAABQAAAAAAQAACAAA\n",
       "AAABAAAAAAAAAAEAAAQAAAAAAQAAFAAAAAABAAAIAAAAAAEAAAAAAAAAAQAABAAAAAABAAAUAAAA\n",
       "AAEAAAgAAAAAAQAAAAAAAAABAAAEAAAAAAEAABQAAAAAAQAACAAAAAABAAAAAAAAAAEAAAQAAAAA\n",
       "AQAAFAAAAAABAAAIAAAAAAEAAAAAAAAAAQAABAAAAAABAAAUAAAAAAEAAAgAAAAAAQAAAAAAAAAB\n",
       "AAAEAAAAAAEAABAAAAAAAgAABAAAAAABAAAQAAAAAAIAAAQAAAAAAQAAFAAAAAABAAAIAAAAAAEA\n",
       "AAAAAAAAAQAABAAAAAABAAAUAAAAAAEAAAgAAAAAAQAAAAAAAAABAAAEAAAAAAEAABQAAAAAAQAA\n",
       "CAAAAAABAAAAAAAAAAEAAAQAAAAAAQAAFAAAAAABAAAIAAAAAAEAAAAAAAAAAQAABAAAAAABAAAU\n",
       "AAAAAAEAAAgAAAAAAQAAAAAAAAABAAAEAAAAAAEAAAgAAAAAAQAAFAAAAAABAAAIAAAAAAEAAAAA\n",
       "AAAAAQAABAAAAAABAAAUAAAAAAEAAAgAAAAAAQAAAAAAAAABAAAEAAAAAAEAABQAAAAAAQAACAAA\n",
       "AAABAAAAAAAAAAEAAAQAAAAAAQAACAAAAAABAAAUAAAAAAEAAAgAAAAAAQAAAAAAAAABAAAEAAAA\n",
       "AAEAABQAAAAAAQAACAAAAAABAAAAAAAAAAEAAAQAAAAAAQAAFAAAAAABAAAIAAAAAAEAAAAAAAAA\n",
       "AQAABAAAAAABAAAUAAAAAAEAAAgAAAAAAQAAAAAAAAABAAAEAAAAAAEAABQAAAAAAQAACAAAAAAB\n",
       "AAAAAAAAAAEAAAQAAAAAAQAAFAAAAAABAAAIAAAAAAEAAAAAAAAAAQAABAAAAAABAAAUAAAAAAEA\n",
       "AAgAAAAAAQAAAAAAAAABAAAEAAAAAAEAABQAAAAAAQAACAAAAAABAAAAAAAAAAEAAAQAAAAAAQAA\n",
       "CAAAAAABAAAUAAAAAAEAAAgAAAAAAQAAAAAAAAABAAAEAAAAAAEAABQAAAAAAQAACAAAAAABAAAA\n",
       "AAAAAAEAAAQAAAAAAQAAFAAAAAABAAAIAAAAAAEAAAAAAAAAAQAABAAAAAABAAAUAAAAAAEAAAgA\n",
       "AAAAAQAAAAAAAAABAAAEAAAAAAEAABQAAAAAAQAACAAAAAABAAAAAAAAAAEAAAQAAAAAAQAAEAAA\n",
       "AAACAAAEAAAAAAEAABQAAAAAAQAACAAAAAABAAAAAAAAAAEAAAQAAAAAAQAAFAAAAAABAAAIAAAA\n",
       "AAEAAAAAAAAAAQAABAAAAAABAAAUAAAAAAEAAAgAAAAAAQAAAAAAAAABAAAEAAAAAAEAABQAAAAA\n",
       "AQAACAAAAAABAAAAAAAAAAEAAAQAAAAAAQAAEAAAAAACAAAEAAAAAAEAABQAAAAAAQAACAAAAAAB\n",
       "AAAAAAAAAAEAAAQAAAAAAQAAEAAAAAACAAAEAAAAAAEAABQAAAAAAQAACAAAAAABAAAAAAAAAAEA\n",
       "AAQAAAAAAQAADAAAAAABAAAEAAAAAAEAABQAAAAAAQAACAAAAAABAAAAAAAAAAEAAAQAAAAAAQAA\n",
       "FAAAAAABAAAIAAAAAAEAAAAAAAAAAQAABAAAAAABAAAUAAAAAAEAAAgAAAAAAQAAAAAAAAABAAAE\n",
       "AAAAAAEAABQAAAAAAQAACAAAAAABAAAAAAAAAAEAAAQAAAAAAQAACAAAAAABAAAUAAAAAAEAAAgA\n",
       "AAAAAQAAAAAAAAABAAAEAAAAAAEAABQAAAAAAQAACAAAAAABAAAAAAAAAAEAAAQAAAAAAQAAFAAA\n",
       "AAABAAAIAAAAAAEAAAAAAAAAAQAABAAAAAABAAAUAAAAAAEAAAgAAAAAAQAAAAAAAAABAAAEAAAA\n",
       "AAEAABQAAAAAAQAACAAAAAABAAAAAAAAAAEAAAQAAAAAAQAAFAAAAAABAAAIAAAAAAEAAAAAAAAA\n",
       "AQAABAAAAAABAAAIAAAAAAEAABQAAAAAAQAACAAAAAABAAAAAAAAAAEAAAQAAAAAAQAAFAAAAAAB\n",
       "AAAIAAAAAAEAAAAAAAAAAQAABAAAAAABAAAIAAAAAAEAABQAAAAAAQAACAAAAAABAAAAAAAAAAEA\n",
       "AAQAAAAAAQAAFAAAAAABAAAIAAAAAAEAAAAAAAAAAQAABAAAAAABAAAUAAAAAAEAAAgAAAAAAQAA\n",
       "AAAAAAABAAAEAAAAAAEAABQAAAAAAQAACAAAAAABAAAAAAAAAAEAAAQAAAAAAQAAFAAAAAABAAAI\n",
       "AAAAAAEAAAAAAAAAAQAABAAAAAACAAAIAAAAAAEAABQAAAAAAQAACAAAAAABAAAAAAAAAAEAAAQA\n",
       "AAAAAQAAFAAAAAABAAAIAAAAAAEAAAAAAAAAAQAABAAAAAABAAAUAAAAAAEAAAgAAAAAAQAAAAAA\n",
       "AAABAAAEAAAAAAEAABAAAAAAAgAABAAAAAABAAAUAAAAAAEAAAgAAAAAAQAAAAAAAAABAAAEAAAA\n",
       "AAEAABQAAAAAAQAACAAAAAABAAAAAAAAAAEAAAQAAAAAAQAAFAAAAAABAAAIAAAAAAEAAAAAAAAA\n",
       "AQAABAAAAAABAAAUAAAAAAEAAAgAAAAAAQAAAAAAAAABAAAEAAAAAAEAABQAAAAAAQAACAAAAAAB\n",
       "AAAAAAAAAAEAAAQAAAAAAQAAFAAAAAABAAAIAAAAAAEAAAAAAAAAAQAABAAAAAABAAAUAAAAAAEA\n",
       "AAgAAAAAAQAAAAAAAAABAAAEAAAAAAEAABQAAAAAAQAACAAAAAABAAAAAAAAAAEAAAQAAAAAAQAA\n",
       "FAAAAAABAAAIAAAAAAEAAAAAAAAAAQAABAAAAAABAAAUAAAAAAEAAAgAAAAAAQAAAAAAAAABAAAE\n",
       "AAAAAAEAABQAAAAAAQAACAAAAAABAAAAAAAAAAEAAAQAAAAAAQAAFAAAAAABAAAIAAAAAAEAAAAA\n",
       "AAAAAQAABAAAAAABAAAUAAAAAAEAAAgAAAAAAQAAAAAAAAABAAAEAAAAAAEAABQAAAAAAQAACAAA\n",
       "AAABAAAAAAAAAAEAAAQAAAAAAQAAFAAAAAABAAAIAAAAAAEAAAAAAAAAAQAABAAAAAABAAAUAAAA\n",
       "AAEAAAgAAAAAAQAAAAAAAAABAAAEAAAAAAEAABQAAAAAAQAACAAAAAABAAAAAAAAAAEAAAQAAAAA\n",
       "AQAADAAAAAABAAAEAAAAAAEAABQAAAAAAQAACAAAAAABAAAAAAAAAAEAAAQAAAAAAQAADAAAAAAB\n",
       "AAAEAAAAAAEAABQAAAAAAQAACAAAAAABAAAAAAAAAAEAAAQAAAAAAQAAFAAAAAABAAAIAAAAAAEA\n",
       "AAAAAAAAAQAABAAAAAABAAAUAAAAAAEAAAgAAAAAAQAAAAAAAAABAAAEAAAAAAEAABQAAAAAAQAA\n",
       "CAAAAAABAAAAAAAAAAEAAAQAAAAAAQAAFAAAAAABAAAIAAAAAAEAAAAAAAAAAQAABAAAAAABAAAU\n",
       "AAAAAAEAAAgAAAAAAQAAAAAAAAABAAAEAAAAAAEAABAAAAAAAgAABAAAAAACAAAIAAAAAAEAABQA\n",
       "AAAAAQAACAAAAAABAAAAAAAAAAEAAAQAAAAAAQAAFAAAAAABAAAIAAAAAAEAAAAAAAAAAQAABAAA\n",
       "AAABAAAUAAAAAAEAAAgAAAAAAQAAAAAAAAABAAAEAAAAAAEAABQAAAAAAQAACAAAAAABAAAAAAAA\n",
       "AAEAAAQAAAAAAQAAFAAAAAABAAAIAAAAAAEAAAAAAAAAAQAABAAAAAABAAAUAAAAAAEAAAgAAAAA\n",
       "AQAAAAAAAAABAAAEAAAAAAEAAAwAAAAAAQAABAAAAAABAAAIAAAAAAEAABQAAAAAAQAACAAAAAAB\n",
       "AAAAAAAAAAEAAAQAAAAAAQAAFAAAAAABAAAIAAAAAAEAAAAAAAAAAQAABAAAAAABAAAUAAAAAAEA\n",
       "AAgAAAAAAQAAAAAAAAABAAAEAAAAAAEAABQAAAAAAQAACAAAAAABAAAAAAAAAAEAAAQAAAAAAQAA\n",
       "FAAAAAABAAAIAAAAAAEAAAAAAAAAAQAABAAAAAABAAAMAAAAAAEAAAQAAAAAAQAADAAAAAABAAAE\n",
       "AAAAAAEAABQAAAAAAQAACAAAAAABAAAAAAAAAAEAAAQAAAAAAQAAFAAAAAABAAAIAAAAAAEAAAAA\n",
       "AAAAAQAABAAAAAABAAAUAAAAAAEAAAgAAAAAAQAAAAAAAAABAAAEAAAAAAEAABQAAAAAAQAACAAA\n",
       "AAABAAAAAAAAAAEAAAQAAAAAAQAAFAAAAAABAAAIAAAAAAEAAAAAAAAAAQAABAAAAAABAAAMAAAA\n",
       "AAEAAAQAAAAAAQAAFAAAAAABAAAIAAAAAAEAAAAAAAAAAQAABAAAAAABAAAUAAAAAAEAAAgAAAAA\n",
       "AQAAAAAAAAABAAAEAAAAAAEAAAgAAAAAAQAADAAAAAABAAAEAAAAAAEAABQAAAAAAQAACAAAAAAB\n",
       "AAAAAAAAAAEAAAQAAAAAAQAAFAAAAAABAAAIAAAAAAEAAAAAAAAAAQAABAAAAAABAAAUAAAAAAEA\n",
       "AAgAAAAAAQAAAAAAAAABAAAEAAAAAAEAABQAAAAAAQAACAAAAAABAAAAAAAAAAEAAAQAAAAAAQAA\n",
       "FAAAAAABAAAIAAAAAAEAAAAAAAAAAQAABAAAAAABAAAUAAAAAAEAAAgAAAAAAQAAAAAAAAABAAAE\n",
       "AAAAAAEAABQAAAAAAQAACAAAAAABAAAAAAAAAAEAAAQAAAAAAQAAFAAAAAABAAAIAAAAAAEAAAAA\n",
       "AAAAAQAABAAAAAABAAAUAAAAAAEAAAgAAAAAAQAAAAAAAAABAAAEAAAAAAEAABAAAAAAAgAABAAA\n",
       "AAABAAAUAAAAAAEAAAgAAAAAAQAAAAAAAAABAAAEAAAAAAEAAAwAAAAAAQAABAAAAAABAAAIAAAA\n",
       "AAEAABQAAAAAAQAACAAAAAABAAAAAAAAAAEAAAQAAAAAAQAAFAAAAAABAAAIAAAAAAEAAAAAAAAA\n",
       "AQAABAAAAAABAAAUAAAAAAEAAAgAAAAAAQAAAAAAAAABAAAEAAAAAAEAABQAAAAAAQAACAAAAAAB\n",
       "AAAAAAAAAAEAAAQAAAAAAQAAFAAAAAABAAAIAAAAAAEAAAAAAAAAAQAABAAAAAABAAAUAAAAAAEA\n",
       "AAgAAAAAAQAAAAAAAAABAAAEAAAAAAEAABQAAAAAAQAACAAAAAABAAAAAAAAAAEAAAQAAAAAAQAA\n",
       "FAAAAAABAAAIAAAAAAEAAAAAAAAAAQAABAAAAAABAAAUAAAAAAEAAAgAAAAAAQAAAAAAAAABAAAE\n",
       "AAAAAAEAABQAAAAAAQAACAAAAAABAAAAAAAAAAEAAAQAAAAAAQAAFAAAAAABAAAIAAAAAAEAAAAA\n",
       "AAAAAQAABAAAAAABAAAUAAAAAAEAAAgAAAAAAQAAAAAAAAABAAAEAAAAAAEAABQAAAAAAQAACAAA\n",
       "AAABAAAAAAAAAAEAAAQAAAAAAQAAFAAAAAABAAAIAAAAAAEAAAAAAAAAAQAABAAAAAABAAAQAAAA\n",
       "AAIAAAQAAAAAAQAAFAAAAAABAAAIAAAAAAEAAAAAAAAAAQAABAAAAAABAAAMAAAAAAEAAAQAAAAA\n",
       "AQAAFAAAAAABAAAIAAAAAAEAAAAAAAAAAQAABAAAAAABAAAUAAAAAAEAAAgAAAAAAQAAAAAAAAAB\n",
       "AAAEAAAAAAEAABQAAAAAAQAACAAAAAABAAAAAAAAAAEAAAQAAAAAAQAAFAAAAAABAAAIAAAAAAEA\n",
       "AAAAAAAAAQAABAAAAAABAAAUAAAAAAEAAAgAAAAAAQAAAAAAAAABAAAEAAAAAAEAABQAAAAAAQAA\n",
       "CAAAAAABAAAAAAAAAAEAAAQAAAAAAQAAFAAAAAABAAAIAAAAAAEAAAAAAAAAAQAABAAAAAABAAAI\n",
       "AAAAAAEAABQAAAAAAQAACAAAAAABAAAAAAAAAAEAAAQAAAAAAQAAFAAAAAABAAAIAAAAAAEAAAAA\n",
       "AAAAAQAABAAAAAABAAAMAAAAAAEAAAQAAAAAAQAAFAAAAAABAAAIAAAAAAEAAAAAAAAAAQAABAAA\n",
       "AAABAAAUAAAAAAEAAAgAAAAAAQAAAAAAAAABAAAEAAAAAAEAABQAAAAAAQAACAAAAAABAAAAAAAA\n",
       "AAEAAAQAAAAAAQAAFAAAAAABAAAIAAAAAAEAAAAAAAAAAQAABAAAAAABAAAUAAAAAAEAAAgAAAAA\n",
       "AQAAAAAAAAABAAAEAAAAAAEAABQAAAAAAQAACAAAAAABAAAAAAAAAAEAAAQAAAAAAQAAFAAAAAAB\n",
       "AAAIAAAAAAEAAAAAAAAAAQAABAAAAAABAAAMAAAAAAEAAAQAAAAAAQAAFAAAAAABAAAIAAAAAAEA\n",
       "AAAAAAAAAQAABAAAAAABAAAUAAAAAAEAAAgAAAAAAQAAAAAAAAABAAAEAAAAAAEAAAwAAAAAAQAA\n",
       "BAAAAAABAAAUAAAAAAEAAAgAAAAAAQAAAAAAAAABAAAEAAAAAAEAABQAAAAAAQAACAAAAAABAAAA\n",
       "AAAAAAEAAAQAAAAAAQAAFAAAAAABAAAIAAAAAAEAAAAAAAAAAQAABAAAAAABAAAUAAAAAAEAAAgA\n",
       "AAAAAQAAAAAAAAABAAAEAAAAAAEAABQAAAAAAQAACAAAAAABAAAAAAAAAAEAAAQAAAAAAQAACAAA\n",
       "AAABAAAUAAAAAAEAAAgAAAAAAQAAAAAAAAABAAAEAAAAAAEAABQAAAAAAQAACAAAAAABAAAAAAAA\n",
       "AAEAAAQAAAAAAQAAFAAAAAABAAAIAAAAAAEAAAAAAAAAAQAABAAAAAABAAAUAAAAAAEAAAgAAAAA\n",
       "AQAAAAAAAAABAAAEAAAAAAEAABQAAAAAAQAACAAAAAABAAAAAAAAAAEAAAQAAAAAAQAAEAAAAAAC\n",
       "AAAEAAAAAAEAABQAAAAAAQAACAAAAAABAAAAAAAAAAEAAAQAAAAAAQAAFAAAAAABAAAIAAAAAAEA\n",
       "AAAAAAAAAQAABAAAAAABAAAUAAAAAAEAAAgAAAAAAQAAAAAAAAABAAAEAAAAAAEAABQAAAAAAQAA\n",
       "CAAAAAABAAAAAAAAAAEAAAQAAAAAAQAAFAAAAAABAAAIAAAAAAEAAAAAAAAAAQAABAAAAAABAAAI\n",
       "AAAAAAEAABQAAAAAAQAACAAAAAABAAAAAAAAAAEAAAQAAAAAAQAAFAAAAAABAAAIAAAAAAEAAAAA\n",
       "AAAAAQAABAAAAAABAAAUAAAAAAEAAAgAAAAAAQAAAAAAAAABAAAEAAAAAAEAAAwAAAAAAQAABAAA\n",
       "AAABAAAUAAAAAAEAAAgAAAAAAQAAAAAAAAABAAAEAAAAAAEAABQAAAAAAQAACAAAAAABAAAAAAAA\n",
       "AAEAAAQAAAAAAQAAFAAAAAABAAAIAAAAAAEAAAAAAAAAAQAABAAAAAABAAAUAAAAAAEAAAgAAAAA\n",
       "AQAAAAAAAAABAAAEAAAAAAEAABQAAAAAAQAACAAAAAABAAAAAAAAAAEAAAQAAAAAAQAAFAAAAAAB\n",
       "AAAIAAAAAAEAAAAAAAAAAQAABAAAAAABAAAMAAAAAAEAAAQAAAAAHHN0c2MAAAAAAAAAAQAAAAEA\n",
       "AAPoAAAAAQAAD7RzdHN6AAAAAAAAAAAAAAPoAAAGCQAAAMAAAAAeAAAAHwAAABAAAAAYAAAAEgAA\n",
       "ABAAAAAQAAAAGAAAABIAAAAQAAAAEAAAAJUAAAAfAAAAEAAAABwAAACjAAAAIAAAABoAAACQAAAA\n",
       "HwAAABwAAAAbAAAAHQAAABIAAAAQAAAAEAAAAKgAAAAdAAAAGwAAADgAAAAcAAAAGwAAABAAAAAd\n",
       "AAAAEgAAABAAAAAQAAAAHQAAABIAAAAQAAAAEAAAAB0AAAASAAAAEAAAABAAAAAdAAAAEgAAABAA\n",
       "AAAQAAAAHQAAABIAAAAQAAAAEAAAAKoAAAAdAAAAEAAAABsAAAAvAAAAJwAAAB0AAAAbAAAAHQAA\n",
       "ABIAAAAQAAAAEAAAABwAAAASAAAAEAAAABAAAACpAAAAGwAAAB8AAAAbAAAAGAAAAB4AAAAbAAAA\n",
       "KgAAABwAAAAbAAAAEAAAABgAAAASAAAAEAAAABAAAAAYAAAAEgAAABAAAAAQAAAAGAAAABIAAAAQ\n",
       "AAAAEAAAABgAAAASAAAAEAAAABAAAAAYAAAAEgAAABAAAAAQAAAAnAAAAB0AAAAQAAAAHAAAAKEA\n",
       "AAA2AAAAIQAAACAAAAAQAAAAiAAAAB0AAAAbAAAAKgAAABwAAAAbAAAAEAAAABgAAAASAAAAEAAA\n",
       "ABAAAAAZAAAAEgAAABAAAAAQAAAAkQAAABwAAACcAAAAHwAAAC0AAAAcAAAAGwAAABAAAAAYAAAA\n",
       "EgAAABAAAAAQAAAAGAAAABIAAAAQAAAAEAAAAI4AAAAeAAAALgAAAJgAAAAsAAAAHAAAABsAAAAQ\n",
       "AAAApwAAABsAAAAQAAAAGAAAACcAAAAaAAAAGAAAABAAAAAYAAAAEgAAABAAAAAQAAAAGAAAABIA\n",
       "AAAQAAAAEAAAABgAAAASAAAAEAAAABAAAAAYAAAAEgAAABAAAAAQAAAAqAAAAB0AAAAQAAAAGwAA\n",
       "ACsAAAAmAAAAEQAAABoAAAAYAAAAEgAAABAAAAAQAAAAGAAAABIAAAAQAAAAEAAAABgAAAASAAAA\n",
       "EAAAABAAAAAYAAAAEgAAABAAAAAQAAAAGAAAABIAAAAQAAAAEAAAABgAAAASAAAAEAAAABAAAAAY\n",
       "AAAAEgAAABAAAAAQAAAArQAAAB0AAAAQAAAAGwAAACkAAAAcAAAAGwAAABAAAAAYAAAAEgAAABAA\n",
       "AAAQAAAAGAAAABIAAAAQAAAAEAAAABgAAAASAAAAEAAAABAAAAAYAAAAEgAAABAAAAAQAAAAGAAA\n",
       "ABIAAAAQAAAAEAAAABgAAAASAAAAEAAAABAAAAAYAAAAEgAAABAAAAAQAAAAvwAAACAAAAAyAAAA\n",
       "HwAAA68AAABOAAAAFgAAABYAAAAQAAAAGAAAABIAAAAQAAAAEAAAAKEAAAAdAAAAHQAAACsAAAAc\n",
       "AAAAGwAAABAAAAAYAAAAEgAAABAAAAAQAAAAnwAAAB0AAAAbAAAAkAAAACEAAAAkAAAAJQAAACEA\n",
       "AAAbAAAAGwAAACoAAABmAAAAHAAAABsAAABCAAAAHAAAABsAAAAQAAAAGAAAABIAAAAQAAAAEAAA\n",
       "ABgAAAASAAAAEAAAABAAAAAYAAAAEgAAABAAAAAQAAAAiAAAAB0AAAAbAAAAoQAAACMAAAAbAAAA\n",
       "NwAAABwAAAAbAAAAEAAAABgAAAASAAAAEAAAABAAAAAYAAAAEgAAABAAAAAQAAAAGAAAABIAAAAQ\n",
       "AAAAEAAAABkAAAASAAAAEAAAABAAAACkAAAAKwAAABwAAAAbAAAAEAAAABgAAAASAAAAEAAAABAA\n",
       "AAAZAAAAEgAAABAAAAAQAAAApwAAACsAAAAcAAAAGwAAABAAAAAYAAAAEgAAABAAAAAQAAAAGAAA\n",
       "ABIAAAAQAAAAEAAAABgAAAASAAAAEAAAABAAAAAYAAAAEgAAABAAAAAQAAAAGAAAABIAAAAQAAAA\n",
       "EAAAABgAAAASAAAAEAAAABAAAAAZAAAAEgAAABAAAAAQAAAApAAAACoAAAAcAAAAGwAAABAAAAAY\n",
       "AAAAEgAAABAAAAAQAAAAGAAAABIAAAAQAAAAEAAAABgAAAASAAAAEAAAABAAAAAYAAAAEgAAABAA\n",
       "AAAQAAAApAAAAB0AAAAbAAAAKgAAABwAAAAbAAAAEAAAABgAAAASAAAAEAAAABAAAAAYAAAAEgAA\n",
       "ABAAAAAQAAAAGAAAABIAAAAQAAAAEAAAAJwAAAAdAAAAGwAAACoAAAAcAAAAGwAAABAAAAAsAAAA\n",
       "HQAAABsAAAAqAAAAHAAAABsAAAAQAAAArwAAACEAAAAzAAAAawAAABsAAAAaAAAAGAAAABIAAAAQ\n",
       "AAAAEAAAABgAAAASAAAAEAAAABAAAAAZAAAAEgAAABAAAAAQAAAApAAAACoAAAAcAAAAGwAAABAA\n",
       "AAAYAAAAEgAAABAAAAAQAAAAGAAAABIAAAAQAAAAEAAAABgAAAASAAAAEAAAABAAAAAYAAAAEgAA\n",
       "ABAAAAAQAAAAGQAAABIAAAAQAAAAEAAAAKQAAAAqAAAAHAAAABsAAAAQAAAAGQAAABIAAAAQAAAA\n",
       "EAAAAKQAAAAqAAAAHAAAABsAAAAQAAAAGAAAABIAAAAQAAAAEAAAABgAAAASAAAAEAAAABAAAAAY\n",
       "AAAAEgAAABAAAAAQAAAAGAAAABIAAAAQAAAAEAAAABgAAAOtAAAASQAAABYAAAAUAAAAEAAAABgA\n",
       "AAASAAAAEAAAABAAAACsAAAAJwAAABoAAAAWAAABEwAAACsAAABcAAAAnAAAADcAAAARAAAAIAAA\n",
       "ABgAAAASAAAAEAAAABAAAAAYAAAAEgAAABAAAAAQAAAAGAAAABIAAAAQAAAAEAAAABgAAAASAAAA\n",
       "EAAAABAAAAClAAAAHQAAABAAAAAbAAAAKgAAAB4AAAAcAAAAEAAAABgAAAAUAAAAEAAAABAAAAAY\n",
       "AAAAFAAAABAAAAAQAAAAGAAAABQAAAAQAAAAEAAAABgAAAAUAAAAEAAAABAAAACgAAAAHwAAABAA\n",
       "AAAbAAAAKwAAAB0AAAAbAAAAEAAAABgAAAAUAAAAEAAAABAAAAC/AAAAZAAAABoAAAAcAAAANgAA\n",
       "ACIAAABgAAAAEAAAABgAAAAUAAAAEAAAABAAAACiAAAAHAAAACsAAAAdAAAAGwAAABAAAACyAAAA\n",
       "HAAAACkAAAAcAAAAGAAAABAAAAAYAAAAFAAAABAAAAAQAAAAGAAAABQAAAAQAAAAEAAAABgAAAAU\n",
       "AAAAEAAAABAAAAAYAAAAFAAAABAAAAAQAAAAogAAAB8AAAAQAAAAGwAAAB4AAAAgAAAAGwAAALEA\n",
       "AABAAAAAhgAAAB4AAAAbAAAAEAAAAJMAAAAlAAAAEAAAACAAAAAyAAAAaQAAABsAAAAaAAAAGAAA\n",
       "ABQAAAAQAAAAEAAAABgAAAAUAAAAEAAAABAAAACyAAAAHQAAABAAAAAYAAAAJgAAAMsAAACkAAAA\n",
       "gQAAAB4AAAAbAAAAEAAAACQAAAAUAAAAEAAAABAAAADHAAAAHQAAABAAAABNAAAALQAAABsAAAAa\n",
       "AAAAEAAAAIkAAAAdAAAAEAAAABsAAAC1AAAAHQAAAHgAAAAaAAAAkQAAACEAAABgAAAAEAAAABgA\n",
       "AAASAAAAEAAAABAAAAAYAAAAEgAAABAAAAAQAAAAGAAAABIAAAAQAAAAEAAAAIkAAAAdAAAAEAAA\n",
       "ABsAAACmAAAAIQAAAB8AAAAgAAAAGwAAABsAAACfAAAAHQAAABAAAAAbAAAAKQAAABkAAAAeAAAA\n",
       "iAAAABwAAAAbAAAAEAAAABgAAAASAAAAEAAAABAAAAAYAAAAEgAAABAAAAAQAAAAGAAAABIAAAAQ\n",
       "AAAAEAAAABgAAAASAAAAEAAAABAAAAAYAAAAEgAAABAAAAAQAAAAGAAAABIAAAAQAAAAEAAAALkA\n",
       "AAAjAAAAEAAAACMAAAAzAAAAIQAAAGIAAAAQAAAAiAAAABwAAAAQAAAALQAAABwAAAAbAAAAEAAA\n",
       "ABoAAAAQAAADrgAAAEkAAAAWAAAAFAAAABAAAAAYAAAAEgAAABAAAAAQAAAApAAAAB0AAAAQAAAA\n",
       "GwAAAB8AAAAfAAAAHQAAABsAAAAqAAAAHAAAABsAAAAQAAAALQAAAB0AAAAQAAAAGgAAAIUAAAB1\n",
       "AAAAIwAAACAAAAA0AAAAZAAAABwAAAAbAAAAOgAAABwAAAAaAAAAEAAAABgAAAASAAAAEAAAABAA\n",
       "AAAYAAAAEgAAABAAAAAQAAAAngAAAB0AAAAQAAAAGwAAAJ8AAAAlAAAAGwAAACEAAAAzAAAAIQAA\n",
       "ACAAAAAQAAAAgQAAAB0AAAAbAAAAKgAAABwAAAAbAAAAEAAAAC0AAAAbAAAAKgAAABwAAAAbAAAA\n",
       "EAAAABgAAAASAAAAEAAAABAAAACeAAAAHQAAABAAAAAbAAAAKgAAABwAAAAbAAAAEAAAACwAAAAd\n",
       "AAAAEAAAABsAAAC8AAAAJwAAABoAAABNAAAAOQAAACYAAAAfAAAAGwAAAEcAAAAzAAAAIQAAAFEA\n",
       "AAAQAAAAGAAAABIAAAAQAAAAEAAAAKUAAAAbAAAANQAAABwAAAAbAAAAEAAAABgAAAASAAAAEAAA\n",
       "ABAAAAAYAAAAEgAAABAAAAAQAAAAGAAAABIAAAAQAAAAEAAAABgAAAASAAAAEAAAABAAAAAYAAAA\n",
       "EgAAABAAAAAQAAAAGAAAABIAAAAQAAAAEAAAAKMAAAAbAAAAKgAAABwAAAAbAAAAEAAAABgAAAAS\n",
       "AAAAEAAAABAAAACjAAAAGwAAACoAAAAcAAAAGwAAABAAAAAsAAAAHQAAABAAAAAbAAAAGAAAAB4A\n",
       "AAAaAAAAGwAAACoAAAAcAAAAGwAAABAAAAAZAAAAEgAAABAAAAAQAAAAoQAAACoAAAAcAAAAGwAA\n",
       "ABAAAACpAAAAJAAAABoAAAAbAAAANwAAACQAAAAbAAAAGgAAACkAAAAdAAAAEAAAABsAAAAqAAAA\n",
       "HAAAABoAAAAQAAAALAAAAB0AAAAbAAAAMwAAABwAAAAbAAAAEAAAABgAAAASAAAAcQAAABAAAAAY\n",
       "AAAAEgAAABAAAAAQAAAAGAAAABIAAAAQAAAAEAAAABkAAAASAAAAEAAAABAAAACjAAAAKwAAABwA\n",
       "AAAbAAAAEAAAABgAAAASAAAAEAAAABAAAAAYAAAAEgAAABAAAAAQAAAApQAAABwAAAAqAAAAHAAA\n",
       "ABsAAAAQAAAAGAAAABIAAAAQAAAAEAAAABgAAAASAAAAEAAAABAAAAAYAAAAEgAAABAAAAAQAAAA\n",
       "GQAAABIAAAAQAAAAEAAAABkAAAASAAAAEAAAABAAAAAZAAAAEAAAABRzdGNvAAAAAAAAAAEAAAAw\n",
       "AAAAYnVkdGEAAABabWV0YQAAAAAAAAAhaGRscgAAAAAAAAAAbWRpcmFwcGwAAAAAAAAAAAAAAAAt\n",
       "aWxzdAAAACWpdG9vAAAAHWRhdGEAAAABAAAAAExhdmY1OC40NS4xMDA=\n",
       "\">\n",
       "  Your browser does not support the video tag.\n",
       "</video>"
      ],
      "text/plain": [
       "<IPython.core.display.HTML object>"
      ]
     },
     "execution_count": 20,
     "metadata": {},
     "output_type": "execute_result"
    },
    {
     "data": {
      "image/png": "[encoded data removed]",
      "text/plain": [
       "<Figure size 432x288 with 1 Axes>"
      ]
     },
     "metadata": {},
     "output_type": "display_data"
    }
   ],
   "source": [
    "T = 1.0\n",
    "n_steps = 1000\n",
    "IsingAnimator(ising).run_animation([T] * n_steps)"
   ]
  },
  {
   "cell_type": "code",
   "execution_count": 21,
   "metadata": {},
   "outputs": [
    {
     "data": {
      "text/plain": [
       "-19.0"
      ]
     },
     "execution_count": 21,
     "metadata": {},
     "output_type": "execute_result"
    }
   ],
   "source": [
    "ising.energy()"
   ]
  },
  {
   "cell_type": "code",
   "execution_count": 22,
   "metadata": {},
   "outputs": [
    {
     "data": {
      "text/plain": [
       "-19.0"
      ]
     },
     "execution_count": 22,
     "metadata": {},
     "output_type": "execute_result"
    }
   ],
   "source": [
    "dim = np.arange(2 ** ising.num_spins)\n",
    "space = ((dim[:, None] & (1 << np.arange(ising.num_spins))) > 0)\n",
    "space = 2*space.astype(int) - 1\n",
    "np.einsum(\"bi,ij,bj->b\", space, ising.bonds, space).min()"
   ]
  },
  {
   "cell_type": "markdown",
   "metadata": {},
   "source": [
    "Repeat the previous problem with the Fully Connected Random Bond Ising Model for the same system sizes (10, 20, 50, 100)."
   ]
  },
  {
   "cell_type": "code",
   "execution_count": 23,
   "metadata": {
    "scrolled": true
   },
   "outputs": [
    {
     "name": "stdout",
     "output_type": "stream",
     "text": [
      "For each output, the order of schedules computed are \n",
      "Exponential, Logorithmic, HoffSala, Linear, and Exponetial Oscialtion\n",
      "\n",
      "Appoximate MC ground state energy for chain length of 10, E =  -21.0\n",
      "\n",
      "Appoximate MC ground state energy for chain length of 20, E =  -54.0\n",
      "\n",
      "Appoximate MC ground state energy for chain length of 50, E =  -285.0\n",
      "\n",
      "Appoximate MC ground state energy for chain length of 100, E =  -688.0\n"
     ]
    },
    {
     "data": {
      "image/png": "[encoded data removed]",
      "text/plain": [
       "<Figure size 432x288 with 1 Axes>"
      ]
     },
     "metadata": {},
     "output_type": "display_data"
    },
    {
     "data": {
      "image/png": "[encoded data removed]",
      "text/plain": [
       "<Figure size 432x288 with 1 Axes>"
      ]
     },
     "metadata": {},
     "output_type": "display_data"
    },
    {
     "data": {
      "image/png": "[encoded data removed]",
      "text/plain": [
       "<Figure size 432x288 with 1 Axes>"
      ]
     },
     "metadata": {},
     "output_type": "display_data"
    },
    {
     "data": {
      "image/png": "[encoded data removed]",
      "text/plain": [
       "<Figure size 432x288 with 1 Axes>"
      ]
     },
     "metadata": {},
     "output_type": "display_data"
    },
    {
     "data": {
      "image/png": "[encoded data removed]",
      "text/plain": [
       "<Figure size 432x288 with 1 Axes>"
      ]
     },
     "metadata": {},
     "output_type": "display_data"
    },
    {
     "data": {
      "image/png": "[encoded data removed]",
      "text/plain": [
       "<Figure size 432x288 with 1 Axes>"
      ]
     },
     "metadata": {},
     "output_type": "display_data"
    },
    {
     "data": {
      "image/png": "[encoded data removed]",
      "text/plain": [
       "<Figure size 432x288 with 1 Axes>"
      ]
     },
     "metadata": {},
     "output_type": "display_data"
    },
    {
     "data": {
      "image/png": "[encoded data removed]",
      "text/plain": [
       "<Figure size 432x288 with 1 Axes>"
      ]
     },
     "metadata": {},
     "output_type": "display_data"
    },
    {
     "data": {
      "image/png": "[encoded data removed]",
      "text/plain": [
       "<Figure size 432x288 with 1 Axes>"
      ]
     },
     "metadata": {},
     "output_type": "display_data"
    },
    {
     "data": {
      "image/png": "[encoded data removed]",
      "text/plain": [
       "<Figure size 432x288 with 1 Axes>"
      ]
     },
     "metadata": {},
     "output_type": "display_data"
    },
    {
     "data": {
      "image/png": "[encoded data removed]",
      "text/plain": [
       "<Figure size 432x288 with 1 Axes>"
      ]
     },
     "metadata": {},
     "output_type": "display_data"
    },
    {
     "data": {
      "image/png": "[encoded data removed]",
      "text/plain": [
       "<Figure size 432x288 with 1 Axes>"
      ]
     },
     "metadata": {},
     "output_type": "display_data"
    },
    {
     "data": {
      "image/png": "[encoded data removed]",
      "text/plain": [
       "<Figure size 432x288 with 1 Axes>"
      ]
     },
     "metadata": {},
     "output_type": "display_data"
    },
    {
     "data": {
      "image/png": "[encoded data removed]",
      "text/plain": [
       "<Figure size 432x288 with 1 Axes>"
      ]
     },
     "metadata": {},
     "output_type": "display_data"
    },
    {
     "data": {
      "image/png": "[encoded data removed]",
      "text/plain": [
       "<Figure size 432x288 with 1 Axes>"
      ]
     },
     "metadata": {},
     "output_type": "display_data"
    },
    {
     "data": {
      "image/png": "[encoded data removed]",
      "text/plain": [
       "<Figure size 432x288 with 1 Axes>"
      ]
     },
     "metadata": {},
     "output_type": "display_data"
    },
    {
     "data": {
      "image/png": "[encoded data removed]",
      "text/plain": [
       "<Figure size 432x288 with 1 Axes>"
      ]
     },
     "metadata": {},
     "output_type": "display_data"
    },
    {
     "data": {
      "image/png": "[encoded data removed]",
      "text/plain": [
       "<Figure size 432x288 with 1 Axes>"
      ]
     },
     "metadata": {},
     "output_type": "display_data"
    },
    {
     "data": {
      "image/png": "[encoded data removed]",
      "text/plain": [
       "<Figure size 432x288 with 1 Axes>"
      ]
     },
     "metadata": {},
     "output_type": "display_data"
    },
    {
     "data": {
      "image/png": "[encoded data removed]",
      "text/plain": [
       "<Figure size 432x288 with 1 Axes>"
      ]
     },
     "metadata": {},
     "output_type": "display_data"
    }
   ],
   "source": [
    "print('For each output, the order of schedules computed are \\nExponential, Logarithmic, HoffSala, Linear, and Exponential Oscialtion')\n",
    "for n in [10, 20, 50, 100]:\n",
    "    ising = FullyConnectedRandomBondIsing(n, J=1)\n",
    "    for T in [T_exp, T_log, T_HS, T_linear, T_expOsc]:\n",
    "        IsingAnimator(ising).run_animation(T)  \n",
    "    print(f'\\nAppoximate MC ground state energy for chain length of {n}, E = ', mc_ground_state_energy(FullyConnectedRandomBondIsing, n))"
   ]
  },
  {
   "cell_type": "code",
   "execution_count": 24,
   "metadata": {},
   "outputs": [
    {
     "name": "stdout",
     "output_type": "stream",
     "text": [
      "Appoximate MC ground state energy for chain length of 10, E =  -19.0\n",
      "\n",
      "\n",
      "Appoximate MC ground state energy for chain length of 20, E =  -54.0\n",
      "\n",
      "\n",
      "Appoximate MC ground state energy for chain length of 50, E =  -279.0\n",
      "\n",
      "\n",
      "Appoximate MC ground state energy for chain length of 100, E =  -682.0\n",
      "\n",
      "\n"
     ]
    },
    {
     "data": {
      "image/png": "[encoded data removed]",
      "text/plain": [
       "<Figure size 432x288 with 1 Axes>"
      ]
     },
     "metadata": {},
     "output_type": "display_data"
    },
    {
     "data": {
      "image/png": "[encoded data removed]",
      "text/plain": [
       "<Figure size 432x288 with 1 Axes>"
      ]
     },
     "metadata": {},
     "output_type": "display_data"
    },
    {
     "data": {
      "image/png": "[encoded data removed]",
      "text/plain": [
       "<Figure size 432x288 with 1 Axes>"
      ]
     },
     "metadata": {},
     "output_type": "display_data"
    },
    {
     "data": {
      "image/png": "[encoded data removed]",
      "text/plain": [
       "<Figure size 432x288 with 1 Axes>"
      ]
     },
     "metadata": {},
     "output_type": "display_data"
    }
   ],
   "source": [
    "#from experimentation, T_exp gave the best results\n",
    "for n in [10, 20, 50, 100]:\n",
    "    ising = FullyConnectedRandomBondIsing(n, J=1)\n",
    "    IsingAnimator(ising).run_animation(T_exp)  \n",
    "    print(f'Appoximate MC ground state energy for chain length of {n}, E = ', mc_ground_state_energy(FullyConnectedRandomBondIsing, n))\n",
    "    print('\\n')"
   ]
  },
  {
   "cell_type": "markdown",
   "metadata": {},
   "source": [
    "# Challenge 1: The Fully Connected Mattis Model\n",
    "\n",
    "Another model of interest is the Mattis Model which is a specific instance of a Random Bond Ising Model:\n",
    "\n",
    "$$H = J\\sum_{i<j} B_{ij}\\sigma_i\\sigma_j$$\n",
    "\n",
    "however, the random bonds take the form:\n",
    "\n",
    "$$B_{ij} = -\\xi_i \\xi_j$$\n",
    "\n",
    "where $\\xi_i = \\pm 1$ with the sign selected randomly (uniformly) when the model is initialized."
   ]
  },
  {
   "cell_type": "code",
   "execution_count": 25,
   "metadata": {},
   "outputs": [],
   "source": [
    "class FullyConnectedMattisModel(FullyConnectedRandomBondIsing):\n",
    "    def __init__(self, N, J=1.):\n",
    "        self.J, self.N = J, N\n",
    "        self.num_spins = self.N\n",
    "        \n",
    "        self.xi = 2*(np.random.rand(self.N) < 0.5) - 1\n",
    "        \n",
    "        # initialize system at infinite temperature\n",
    "        # i.e. spins are completely random and uncorrelated\n",
    "        self.spins = 2*(np.random.rand(self.N) < 0.5) - 1\n",
    "    \n",
    "        self.bonds = np.zeros((self.N, self.N))\n",
    "        for i in range(self.N):\n",
    "            for j in range(i+1, self.N):\n",
    "                self.bonds[i, j] = -self.xi[i] * self.xi[j]"
   ]
  },
  {
   "cell_type": "code",
   "execution_count": 26,
   "metadata": {},
   "outputs": [
    {
     "data": {
      "text/plain": [
       "array([-1,  1, -1,  1, -1,  1,  1, -1, -1, -1])"
      ]
     },
     "execution_count": 26,
     "metadata": {},
     "output_type": "execute_result"
    }
   ],
   "source": [
    "ising = FullyConnectedMattisModel(10, J=1)\n",
    "ising.spins"
   ]
  },
  {
   "cell_type": "code",
   "execution_count": 27,
   "metadata": {},
   "outputs": [
    {
     "data": {
      "text/plain": [
       "array([[ 0.,  1., -1., -1.,  1., -1., -1.,  1., -1., -1.],\n",
       "       [ 0.,  0.,  1.,  1., -1.,  1.,  1., -1.,  1.,  1.],\n",
       "       [ 0.,  0.,  0., -1.,  1., -1., -1.,  1., -1., -1.],\n",
       "       [ 0.,  0.,  0.,  0.,  1., -1., -1.,  1., -1., -1.],\n",
       "       [ 0.,  0.,  0.,  0.,  0.,  1.,  1., -1.,  1.,  1.],\n",
       "       [ 0.,  0.,  0.,  0.,  0.,  0., -1.,  1., -1., -1.],\n",
       "       [ 0.,  0.,  0.,  0.,  0.,  0.,  0.,  1., -1., -1.],\n",
       "       [ 0.,  0.,  0.,  0.,  0.,  0.,  0.,  0.,  1.,  1.],\n",
       "       [ 0.,  0.,  0.,  0.,  0.,  0.,  0.,  0.,  0., -1.],\n",
       "       [ 0.,  0.,  0.,  0.,  0.,  0.,  0.,  0.,  0.,  0.]])"
      ]
     },
     "execution_count": 27,
     "metadata": {},
     "output_type": "execute_result"
    }
   ],
   "source": [
    "ising.bonds"
   ]
  },
  {
   "cell_type": "code",
   "execution_count": 28,
   "metadata": {},
   "outputs": [
    {
     "data": {
      "text/plain": [
       "5.0"
      ]
     },
     "execution_count": 28,
     "metadata": {},
     "output_type": "execute_result"
    }
   ],
   "source": [
    "ising.energy()"
   ]
  },
  {
   "cell_type": "code",
   "execution_count": 29,
   "metadata": {},
   "outputs": [
    {
     "name": "stdout",
     "output_type": "stream",
     "text": [
      "-27.0\n",
      "-45.0\n",
      "-45.0\n",
      "-45.0\n",
      "-45.0\n",
      "-45.0\n",
      "-45.0\n",
      "-45.0\n",
      "-45.0\n",
      "-45.0\n",
      "-45.0\n",
      "-45.0\n",
      "-45.0\n",
      "-45.0\n",
      "-45.0\n",
      "-45.0\n",
      "-45.0\n",
      "-45.0\n",
      "-45.0\n",
      "-45.0\n",
      "-45.0\n"
     ]
    }
   ],
   "source": [
    "T = 0.1\n",
    "# perform 1000 MC steps at low temperature to find the ground state\n",
    "# it's fairly easy to find in this case as we'll discuss soon\n",
    "for t in range(1000+1):\n",
    "    # take a look at the abstract_ising.py file to see how mc_step works\n",
    "    E = ising.mc_step(T=T)\n",
    "    \n",
    "    if t % 50 == 0:\n",
    "        print(E)"
   ]
  },
  {
   "cell_type": "code",
   "execution_count": 30,
   "metadata": {},
   "outputs": [
    {
     "data": {
      "text/plain": [
       "array([ 1, -1,  1,  1, -1,  1,  1, -1,  1,  1])"
      ]
     },
     "execution_count": 30,
     "metadata": {},
     "output_type": "execute_result"
    }
   ],
   "source": [
    "ising.spins"
   ]
  },
  {
   "cell_type": "code",
   "execution_count": 31,
   "metadata": {},
   "outputs": [
    {
     "data": {
      "text/plain": [
       "-45.0"
      ]
     },
     "execution_count": 31,
     "metadata": {},
     "output_type": "execute_result"
    }
   ],
   "source": [
    "dim = np.arange(2 ** ising.num_spins)\n",
    "space = ((dim[:, None] & (1 << np.arange(ising.num_spins))) > 0)\n",
    "space = 2*space.astype(int) - 1\n",
    "np.einsum(\"bi,ij,bj->b\", space, ising.bonds, space).min()"
   ]
  },
  {
   "cell_type": "markdown",
   "metadata": {},
   "source": [
    "While at first glance the `bonds` matrix for the Mattis Model appears to produce the glassy model, it is in fact not a glass at all. We can convert this into a simple fully connected Ising Model using a *gauge transformation*.\n",
    "But first, make sure the MC simulation has converged to the ground state energy we computed exactly in the previous cell. If it hasn't done so yet, let it run a few more times."
   ]
  },
  {
   "cell_type": "markdown",
   "metadata": {},
   "source": [
    "Now let's look at our ground state spin configuration:"
   ]
  },
  {
   "cell_type": "code",
   "execution_count": 32,
   "metadata": {},
   "outputs": [
    {
     "data": {
      "text/plain": [
       "array([ 1, -1,  1,  1, -1,  1,  1, -1,  1,  1])"
      ]
     },
     "execution_count": 32,
     "metadata": {},
     "output_type": "execute_result"
    }
   ],
   "source": [
    "ising.spins"
   ]
  },
  {
   "cell_type": "markdown",
   "metadata": {},
   "source": [
    "Next we'll look at the Mattis parameters $\\xi$"
   ]
  },
  {
   "cell_type": "code",
   "execution_count": 33,
   "metadata": {},
   "outputs": [
    {
     "data": {
      "text/plain": [
       "array([ 1, -1,  1,  1, -1,  1,  1, -1,  1,  1])"
      ]
     },
     "execution_count": 33,
     "metadata": {},
     "output_type": "execute_result"
    }
   ],
   "source": [
    "ising.xi"
   ]
  },
  {
   "cell_type": "markdown",
   "metadata": {},
   "source": [
    "If we did indeed find the ground state, the spins should match with $\\xi$ (upto a global sign). This gives us a hint as to what this Mattis Model actually is."
   ]
  },
  {
   "cell_type": "markdown",
   "metadata": {},
   "source": [
    "Let's look again at the Hamiltonian:\n",
    "\n",
    "$$H = J \\sum_{i<j} B_{ij} \\sigma_i \\sigma_j = -J\\sum_{i < j} \\xi_i \\xi_j \\sigma_i \\sigma_j = -J\\sum_{i < j} (\\xi_i \\sigma_i) (\\xi_j\\sigma_j)$$\n",
    "\n",
    "We introduce some new variables $s_i = \\xi_i \\sigma_i \\in \\lbrace 0, 1 \\rbrace$. Then our Hamiltonian becomes:\n",
    "\n",
    "$$H = -J \\sum_{i < j} s_i s_j$$\n",
    "\n",
    "which is just a fully connected Ising Model. If we compute $s_i$ for the state found in the previous simulation, we get:"
   ]
  },
  {
   "cell_type": "code",
   "execution_count": 34,
   "metadata": {},
   "outputs": [
    {
     "data": {
      "text/plain": [
       "array([1, 1, 1, 1, 1, 1, 1, 1, 1, 1])"
      ]
     },
     "execution_count": 34,
     "metadata": {},
     "output_type": "execute_result"
    }
   ],
   "source": [
    "ising.spins * ising.xi"
   ]
  },
  {
   "cell_type": "markdown",
   "metadata": {},
   "source": [
    "which is one of the ground states of the fully connected Ising Model."
   ]
  },
  {
   "cell_type": "markdown",
   "metadata": {},
   "source": [
    "As an (unmarked) bonus problem, you can apply the annealing algorithm you developed in the two previous parts to this model. \n",
    "At the end of the annealing procedure, confirm that you've found the ground state by checking that $\\xi_i$ is equal to $\\sigma_i$ upto a global sign."
   ]
  },
  {
   "cell_type": "code",
   "execution_count": 35,
   "metadata": {},
   "outputs": [
    {
     "name": "stdout",
     "output_type": "stream",
     "text": [
      "For each output the order of schedules computed are \n",
      "Exponential, Logorithmic, HoffSala, Linear, and Exponetial Oscialtion\n",
      "\n",
      "Appoximate MC ground state energy for chain length of 10, E =  -45.0\n",
      "\n",
      "Appoximate MC ground state energy for chain length of 20, E =  -190.0\n",
      "\n",
      "Appoximate MC ground state energy for chain length of 50, E =  -1225.0\n",
      "\n",
      "Appoximate MC ground state energy for chain length of 100, E =  -4950.0\n"
     ]
    },
    {
     "data": {
      "image/png": "[encoded data removed]",
      "text/plain": [
       "<Figure size 432x288 with 1 Axes>"
      ]
     },
     "metadata": {},
     "output_type": "display_data"
    },
    {
     "data": {
      "image/png": "[encoded data removed]",
      "text/plain": [
       "<Figure size 432x288 with 1 Axes>"
      ]
     },
     "metadata": {},
     "output_type": "display_data"
    },
    {
     "data": {
      "image/png": "[encoded data removed]",
      "text/plain": [
       "<Figure size 432x288 with 1 Axes>"
      ]
     },
     "metadata": {},
     "output_type": "display_data"
    },
    {
     "data": {
      "image/png": "[encoded data removed]",
      "text/plain": [
       "<Figure size 432x288 with 1 Axes>"
      ]
     },
     "metadata": {},
     "output_type": "display_data"
    },
    {
     "data": {
      "image/png": "[encoded data removed]",
      "text/plain": [
       "<Figure size 432x288 with 1 Axes>"
      ]
     },
     "metadata": {},
     "output_type": "display_data"
    },
    {
     "data": {
      "image/png": "[encoded data removed]",
      "text/plain": [
       "<Figure size 432x288 with 1 Axes>"
      ]
     },
     "metadata": {},
     "output_type": "display_data"
    },
    {
     "data": {
      "image/png": "[encoded data removed]",
      "text/plain": [
       "<Figure size 432x288 with 1 Axes>"
      ]
     },
     "metadata": {},
     "output_type": "display_data"
    },
    {
     "data": {
      "image/png": "[encoded data removed]",
      "text/plain": [
       "<Figure size 432x288 with 1 Axes>"
      ]
     },
     "metadata": {},
     "output_type": "display_data"
    },
    {
     "data": {
      "image/png": "[encoded data removed]",
      "text/plain": [
       "<Figure size 432x288 with 1 Axes>"
      ]
     },
     "metadata": {},
     "output_type": "display_data"
    },
    {
     "data": {
      "image/png": "[encoded data removed]",
      "text/plain": [
       "<Figure size 432x288 with 1 Axes>"
      ]
     },
     "metadata": {},
     "output_type": "display_data"
    },
    {
     "data": {
      "image/png": "[encoded data removed]",
      "text/plain": [
       "<Figure size 432x288 with 1 Axes>"
      ]
     },
     "metadata": {},
     "output_type": "display_data"
    },
    {
     "data": {
      "image/png": "[encoded data removed]",
      "text/plain": [
       "<Figure size 432x288 with 1 Axes>"
      ]
     },
     "metadata": {},
     "output_type": "display_data"
    },
    {
     "data": {
      "image/png": "[encoded data removed]",
      "text/plain": [
       "<Figure size 432x288 with 1 Axes>"
      ]
     },
     "metadata": {},
     "output_type": "display_data"
    },
    {
     "data": {
      "image/png": "[encoded data removed]",
      "text/plain": [
       "<Figure size 432x288 with 1 Axes>"
      ]
     },
     "metadata": {},
     "output_type": "display_data"
    },
    {
     "data": {
      "image/png": "[encoded data removed]",
      "text/plain": [
       "<Figure size 432x288 with 1 Axes>"
      ]
     },
     "metadata": {},
     "output_type": "display_data"
    },
    {
     "data": {
      "image/png": "[encoded data removed]",
      "text/plain": [
       "<Figure size 432x288 with 1 Axes>"
      ]
     },
     "metadata": {},
     "output_type": "display_data"
    },
    {
     "data": {
      "image/png": "[encoded data removed]",
      "text/plain": [
       "<Figure size 432x288 with 1 Axes>"
      ]
     },
     "metadata": {},
     "output_type": "display_data"
    },
    {
     "data": {
      "image/png": "[encoded data removed]",
      "text/plain": [
       "<Figure size 432x288 with 1 Axes>"
      ]
     },
     "metadata": {},
     "output_type": "display_data"
    },
    {
     "data": {
      "image/png": "[encoded data removed]",
      "text/plain": [
       "<Figure size 432x288 with 1 Axes>"
      ]
     },
     "metadata": {},
     "output_type": "display_data"
    },
    {
     "data": {
      "image/png": "[encoded data removed]",
      "text/plain": [
       "<Figure size 432x288 with 1 Axes>"
      ]
     },
     "metadata": {},
     "output_type": "display_data"
    }
   ],
   "source": [
    "print('For each output the order of schedules computed are \\nExponential, Logarithmic, HoffSala, Linear, and Exponential Oscialtion')\n",
    "for n in [10, 20, 50, 100]:\n",
    "    ising = FullyConnectedMattisModel(n, J=1)\n",
    "    for T in [T_exp, T_log, T_HS, T_linear, T_expOsc]:\n",
    "        IsingAnimator(ising).run_animation(T)  \n",
    "    print(f'\\nAppoximate MC ground state energy for chain length of {n}, E = ', mc_ground_state_energy(FullyConnectedMattisModel, n))"
   ]
  },
  {
   "cell_type": "code",
   "execution_count": 36,
   "metadata": {},
   "outputs": [
    {
     "name": "stdout",
     "output_type": "stream",
     "text": [
      "Appoximate MC ground state energy for chain length of 10, E =  -45.0\n",
      "\n",
      "\n",
      "Appoximate MC ground state energy for chain length of 20, E =  -190.0\n",
      "\n",
      "\n",
      "Appoximate MC ground state energy for chain length of 50, E =  -1225.0\n",
      "\n",
      "\n",
      "Appoximate MC ground state energy for chain length of 100, E =  -4950.0\n",
      "\n",
      "\n"
     ]
    },
    {
     "data": {
      "image/png": "[encoded data removed]",
      "text/plain": [
       "<Figure size 432x288 with 1 Axes>"
      ]
     },
     "metadata": {},
     "output_type": "display_data"
    },
    {
     "data": {
      "image/png": "[encoded data removed]",
      "text/plain": [
       "<Figure size 432x288 with 1 Axes>"
      ]
     },
     "metadata": {},
     "output_type": "display_data"
    },
    {
     "data": {
      "image/png": "[encoded data removed]",
      "text/plain": [
       "<Figure size 432x288 with 1 Axes>"
      ]
     },
     "metadata": {},
     "output_type": "display_data"
    },
    {
     "data": {
      "image/png": "[encoded data removed]",
      "text/plain": [
       "<Figure size 432x288 with 1 Axes>"
      ]
     },
     "metadata": {},
     "output_type": "display_data"
    }
   ],
   "source": [
    "#from experimentation, T_expOsc gave the best results\n",
    "for n in [10, 20, 50, 100]:\n",
    "    ising = FullyConnectedMattisModel(n, J=1)\n",
    "    IsingAnimator(ising).run_animation(T_expOsc)  \n",
    "    print(f'Appoximate MC ground state energy for chain length of {n}, E = ', mc_ground_state_energy(FullyConnectedMattisModel, n))\n",
    "    print('\\n')"
   ]
  },
  {
   "cell_type": "code",
   "execution_count": null,
   "metadata": {},
   "outputs": [],
   "source": []
  }
 ],
 "metadata": {
  "kernelspec": {
   "display_name": "Python 3",
   "language": "python",
   "name": "python3"
  },
  "language_info": {
   "codemirror_mode": {
    "name": "ipython",
    "version": 3
   },
   "file_extension": ".py",
   "mimetype": "text/x-python",
   "name": "python",
   "nbconvert_exporter": "python",
   "pygments_lexer": "ipython3",
   "version": "3.7.7"
  }
 },
 "nbformat": 4,
 "nbformat_minor": 4
}
