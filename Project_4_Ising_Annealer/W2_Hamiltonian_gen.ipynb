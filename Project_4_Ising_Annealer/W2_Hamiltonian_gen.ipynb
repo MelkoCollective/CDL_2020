{
 "cells": [
  {
   "cell_type": "markdown",
   "metadata": {},
   "source": [
    "# Quantum Circuits\n",
    "Quantum computers can only use a specific set of gates (universal gate set). Given the entanglers and their amplitudes found in Step 3, one can find corresponding representation of these operators in terms of elementary gates using the following procedure."
   ]
  },
  {
   "cell_type": "code",
   "execution_count": 7,
   "metadata": {},
   "outputs": [],
   "source": [
    "\n",
    "import tequila as tq\n",
    "from utility import *\n",
    "import time"
   ]
  },
  {
   "cell_type": "code",
   "execution_count": null,
   "metadata": {},
   "outputs": [],
   "source": [
    "#Running with cell goes over all possible optinons  \n",
    "molecules=['h2','h4','lih','h2o','n2','nh3']\n",
    "methods=['hf','cisd','ccsd','fci']\n",
    "basies=['sto-3g','6-31g']\n",
    "qubit_transfms=['jw','bk'] "
   ]
  },
  {
   "cell_type": "code",
   "execution_count": 85,
   "metadata": {},
   "outputs": [],
   "source": [
    "#Fcus on one molecule\n",
    "molecules=['h2']\n",
    "methods=['cisd']\n",
    "basies=['sto-3g']\n",
    "qubit_transfms=['jw'] \n",
    "\n",
    "qubit_transf = 'jw' # Jordan-Wigner transformations"
   ]
  },
  {
   "cell_type": "code",
   "execution_count": 86,
   "metadata": {},
   "outputs": [
    {
     "name": "stdout",
     "output_type": "stream",
     "text": [
      "Take a look at H!\n",
      "r=1.0000, E =  -1.10115 Eh\n",
      "CISD  ground state energy is: [-1.10115033]\n",
      "Numbers of electrons: 2 \n",
      "Using  JW  in  STO-3G basis. \n",
      "Number of spin-orbitals (qubits): 4 \n",
      "Number of Hamiltonian terms: 15\n",
      "Number of terms in Taper effective Hamiltonian (H_eff): 3\n",
      "The eigenvalues of the effective Hamiltonian:[-1.10115031  0.03904763]\n",
      "H2 Hamiltonian using  JW  in basis: STO-3G generated for: 1.2697703838348389  sec\n",
      "\n"
     ]
    }
   ],
   "source": [
    "R=1 #bond_length\n",
    "\n",
    "for mol in molecules:\n",
    "\n",
    "    for basis in basies:\n",
    "\n",
    "        for qubit_transf in qubit_transfms:\n",
    "                    \n",
    "            start=time.time()\n",
    "            \n",
    "            H = get_qubit_hamiltonian(mol, geometry=R, basis=basis, qubit_transf=qubit_transf)\n",
    "            print(\"Take a look at H!\")\n",
    "            \n",
    "            xyz_data = get_molecular_data(mol, geometry=R, xyz_format=True)\n",
    "            Htq = tq.quantumchemistry.Molecule(geometry=xyz_data, basis_set=basis)\n",
    "\n",
    "            E_cisd=obtain_PES(mol, [R], basis, 'cisd')\n",
    "            print('cisd'.upper(),\" ground state energy is:\",E_cisd)\n",
    "            \n",
    "            n_spin_orbitals=2*Htq.n_orbitals\n",
    "            n_electrons=Htq.n_electrons\n",
    "            print(\"Numbers of electrons:\",n_electrons,\n",
    "                  \"\\nUsing \",qubit_transf.upper(),\" in \",basis.upper(),\"basis.\",\n",
    "                  \"\\nNumber of spin-orbitals (qubits):\",n_spin_orbitals,\n",
    "                  \"\\nNumber of Hamiltonian terms:\",len(H.terms)) \n",
    "\n",
    "            H_eff=taper_hamiltonian(H, n_spin_orbitals, n_electrons, qubit_transf)\n",
    "            print(\"Number of terms in Taper effective Hamiltonian (H_eff):\",len(H_eff.terms))\n",
    "\n",
    "            \n",
    "            if mol=='h2':\n",
    "                # Building the matrix representation of the effective Hamiltonian\n",
    "                I, X, Z = np.identity(2), np.array([[0, 1], [1, 0]]), np.array([[1, 0], [0, -1]])\n",
    "                H_matrix = -0.53105134 * I + 0.19679058 * X - 0.53505729 * Z\n",
    "\n",
    "                # Obtain the eigenvalues\n",
    "                eigvals, _ = np.linalg.eigh(H_matrix)\n",
    "                print(\"The eigenvalues of the effective Hamiltonian:{}\".format(eigvals))\n",
    "            else:\n",
    "                print(\"H_matrix for qubit-tapering technique not yet implemeneted for \",mol.upper())\n",
    "\n",
    "            print(mol.upper(),\"Hamiltonian using \",qubit_transf.upper(),\" in basis:\",\n",
    "                  basis.upper(),\"generated for:\",time.time()-start,\" sec\\n\")\n",
    "            \n",
    "            "
   ]
  },
  {
   "cell_type": "code",
   "execution_count": 87,
   "metadata": {},
   "outputs": [
    {
     "data": {
      "text/plain": [
       "-0.32760818967480887 [] +\n",
       "-0.04919764587136755 [X0 X1 Y2 Y3] +\n",
       "0.04919764587136755 [X0 Y1 Y2 X3] +\n",
       "0.04919764587136755 [Y0 X1 X2 Y3] +\n",
       "-0.04919764587136755 [Y0 Y1 X2 X3] +\n",
       "0.13716572937099497 [Z0] +\n",
       "0.15660062488237947 [Z0 Z1] +\n",
       "0.10622904490856075 [Z0 Z2] +\n",
       "0.15542669077992832 [Z0 Z3] +\n",
       "0.13716572937099492 [Z1] +\n",
       "0.15542669077992832 [Z1 Z2] +\n",
       "0.10622904490856075 [Z1 Z3] +\n",
       "-0.13036292057109117 [Z2] +\n",
       "0.16326768673564346 [Z2 Z3] +\n",
       "-0.13036292057109117 [Z3]"
      ]
     },
     "execution_count": 87,
     "metadata": {},
     "output_type": "execute_result"
    }
   ],
   "source": [
    "H"
   ]
  },
  {
   "cell_type": "code",
   "execution_count": 88,
   "metadata": {},
   "outputs": [
    {
     "data": {
      "text/plain": [
       "-0.5310513494337641 [] +\n",
       "0.1967905834854702 [X0] +\n",
       "-0.5350572998841723 [Z0]"
      ]
     },
     "execution_count": 88,
     "metadata": {},
     "output_type": "execute_result"
    }
   ],
   "source": [
    "H_eff"
   ]
  },
  {
   "cell_type": "code",
   "execution_count": 89,
   "metadata": {},
   "outputs": [
    {
     "name": "stdout",
     "output_type": "stream",
     "text": [
      "Fragments 1: \n",
      "-0.32760818967480887 [] +\n",
      "0.04919764587136755 [X0 Y1 Y2 X3]\n",
      "\n",
      "Fragments 2:\n",
      "-0.04919764587136755 [X0 X1 Y2 Y3]\n",
      "\n",
      "Number of fragments: 5\n"
     ]
    }
   ],
   "source": [
    "qwc_list = get_qwc_group(H)\n",
    "print('Fragments 1: \\n{}\\n'.format(qwc_list[0]))\n",
    "print('Fragments 2:\\n{}\\n'.format(qwc_list[1]))\n",
    "print('Number of fragments: {}'.format(len(qwc_list)))"
   ]
  },
  {
   "cell_type": "code",
   "execution_count": 90,
   "metadata": {},
   "outputs": [
    {
     "name": "stdout",
     "output_type": "stream",
     "text": [
      "Number of mutually commuting fragments: 2\n",
      "The first commuting group\n",
      "-0.32760818967480887 [] +\n",
      "-0.04919764587136755 [X0 X1 Y2 Y3] +\n",
      "0.04919764587136755 [X0 Y1 Y2 X3] +\n",
      "0.04919764587136755 [Y0 X1 X2 Y3] +\n",
      "-0.04919764587136755 [Y0 Y1 X2 X3] +\n",
      "0.15660062488237947 [Z0 Z1] +\n",
      "0.10622904490856075 [Z0 Z2] +\n",
      "0.15542669077992832 [Z0 Z3] +\n",
      "0.15542669077992832 [Z1 Z2] +\n",
      "0.10622904490856075 [Z1 Z3] +\n",
      "0.16326768673564346 [Z2 Z3]\n",
      "0.13716572937099497 [Z0] +\n",
      "0.13716572937099492 [Z1] +\n",
      "-0.13036292057109117 [Z2] +\n",
      "-0.13036292057109117 [Z3]\n"
     ]
    }
   ],
   "source": [
    "comm_groups = get_commuting_group(H)\n",
    "print('Number of mutually commuting fragments: {}'.format(len(comm_groups)))\n",
    "print('The first commuting group')\n",
    "print(comm_groups[1])\n",
    "print(comm_groups[2])"
   ]
  },
  {
   "cell_type": "code",
   "execution_count": 96,
   "metadata": {},
   "outputs": [
    {
     "name": "stdout",
     "output_type": "stream",
     "text": [
      "Checking whether U * U^+ is identity: 0.9999999999999998 []\n",
      "\n",
      "The all-z form of qwc fragment:\n",
      "-0.3276081896748086 [] +\n",
      "0.15542669077992813 [Z0] +\n",
      "0.15660062488237922 [Z0 Z1] +\n",
      "0.049197645871367504 [Z0 Z1 Z3] +\n",
      "0.10622904490856065 [Z0 Z2] +\n",
      "-0.049197645871367504 [Z0 Z3] +\n",
      "0.10622904490856065 [Z1] +\n",
      "0.15542669077992813 [Z1 Z2] +\n",
      "-0.049197645871367504 [Z1 Z2 Z3] +\n",
      "0.16326768673564326 [Z2] +\n",
      "0.049197645871367504 [Z2 Z3]\n",
      "Checking whether U * U^+ is identity: 0.9999999999999996 []\n",
      "\n",
      "The all-z form of qwc fragment:\n",
      "0.13716572937099475 [Z0] +\n",
      "0.13716572937099467 [Z1] +\n",
      "-0.13036292057109095 [Z2] +\n",
      "-0.13036292057109095 [Z3]\n",
      "CPU times: user 75.6 ms, sys: 30 µs, total: 75.6 ms\n",
      "Wall time: 74.6 ms\n"
     ]
    }
   ],
   "source": [
    "%%time\n",
    "#One has to loop over all groups\n",
    "\n",
    "for i in range(1,len(comm_groups)+1):\n",
    "    uqwc = get_qwc_unitary(comm_groups[i])\n",
    "    qwc = remove_complex(uqwc * comm_groups[i] * uqwc)\n",
    "\n",
    "    uz = get_zform_unitary(qwc)\n",
    "    print(\"Checking whether U * U^+ is identity: {}\".format(uz * uz))\n",
    "\n",
    "    allz = remove_complex(uz * qwc * uz)\n",
    "    print(\"\\nThe all-z form of qwc fragment:\\n{}\".format(allz))"
   ]
  },
  {
   "cell_type": "code",
   "execution_count": 94,
   "metadata": {},
   "outputs": [
    {
     "data": {
      "text/plain": [
       "2"
      ]
     },
     "execution_count": 94,
     "metadata": {},
     "output_type": "execute_result"
    }
   ],
   "source": [
    "len(comm_groups)"
   ]
  },
  {
   "cell_type": "code",
   "execution_count": 61,
   "metadata": {},
   "outputs": [
    {
     "data": {
      "text/plain": [
       "-1.0661086493179361"
      ]
     },
     "execution_count": 61,
     "metadata": {},
     "output_type": "execute_result"
    }
   ],
   "source": [
    "#This is E0 at R=1 for h2 using H_eff\n",
    "-0.531051349433764-0.5350572998841723"
   ]
  },
  {
   "cell_type": "code",
   "execution_count": null,
   "metadata": {},
   "outputs": [],
   "source": []
  }
 ],
 "metadata": {
  "kernelspec": {
   "display_name": "Python 3",
   "language": "python",
   "name": "python3"
  },
  "language_info": {
   "codemirror_mode": {
    "name": "ipython",
    "version": 3
   },
   "file_extension": ".py",
   "mimetype": "text/x-python",
   "name": "python",
   "nbconvert_exporter": "python",
   "pygments_lexer": "ipython3",
   "version": "3.7.1"
  }
 },
 "nbformat": 4,
 "nbformat_minor": 2
}
