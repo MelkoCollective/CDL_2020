{
  "nbformat": 4,
  "nbformat_minor": 0,
  "metadata": {
    "anaconda-cloud": {},
    "colab": {
      "name": "Car Rental Schedule.ipynb",
      "provenance": [],
      "collapsed_sections": [],
      "include_colab_link": true
    },
    "kernelspec": {
      "display_name": "Python 3",
      "language": "python",
      "name": "python3"
    },
    "language_info": {
      "codemirror_mode": {
        "name": "ipython",
        "version": 3
      },
      "file_extension": ".py",
      "mimetype": "text/x-python",
      "name": "python",
      "nbconvert_exporter": "python",
      "pygments_lexer": "ipython3",
      "version": "3.7.6"
    },
    "papermill": {
      "duration": 14348.105008,
      "end_time": "2020-03-12T07:55:21.779384",
      "environment_variables": {},
      "exception": null,
      "input_path": "max_cut_only_15q.ipynb",
      "output_path": "max_cut_only_15q-background-results.ipynb",
      "parameters": {},
      "start_time": "2020-03-12T03:56:13.674376",
      "version": "2.0.0"
    },
    "varInspector": {
      "cols": {
        "lenName": 16,
        "lenType": 16,
        "lenVar": 40
      },
      "kernels_config": {
        "python": {
          "delete_cmd_postfix": "",
          "delete_cmd_prefix": "del ",
          "library": "var_list.py",
          "varRefreshCmd": "print(var_dic_list())"
        },
        "r": {
          "delete_cmd_postfix": ") ",
          "delete_cmd_prefix": "rm(",
          "library": "var_list.r",
          "varRefreshCmd": "cat(var_dic_list()) "
        }
      },
      "types_to_exclude": [
        "module",
        "function",
        "builtin_function_or_method",
        "instance",
        "_Feature"
      ],
      "window_display": false
    }
  },
  "cells": [
    {
      "cell_type": "markdown",
      "metadata": {
        "id": "view-in-github",
        "colab_type": "text"
      },
      "source": [
        "<a href=\"https://colab.research.google.com/github/hay-k/CohortProject_2020_w4g4/blob/master/Project_4_Ising_Annealer/Car_Rental_Schedule.ipynb\" target=\"_parent\"><img src=\"https://colab.research.google.com/assets/colab-badge.svg\" alt=\"Open In Colab\"/></a>"
      ]
    },
    {
      "cell_type": "code",
      "metadata": {
        "id": "fzQQSYwBfDCg",
        "colab_type": "code",
        "colab": {}
      },
      "source": [
        "#Note you need to do the pip install and git clone only once!\n",
        "#That is, at the begining of your runtime on the Google Colab."
      ],
      "execution_count": null,
      "outputs": []
    },
    {
      "cell_type": "markdown",
      "metadata": {
        "id": "dXoBuI8Raql2",
        "colab_type": "text"
      },
      "source": [
        "#Car Rental Schedule\n",
        "based on the annealing for the Travelling Salesman Problem\n",
        "https://github.com/perrygeo/simanneal"
      ]
    },
    {
      "cell_type": "code",
      "metadata": {
        "id": "42ZF4-e9ciZ9",
        "colab_type": "code",
        "colab": {
          "base_uri": "https://localhost:8080/",
          "height": 136
        },
        "outputId": "2b28ec1e-8723-4ea4-a8f0-03f244637cc8"
      },
      "source": [
        " #!git clone https://github.com/perrygeo/simanneal.git"
      ],
      "execution_count": null,
      "outputs": [
        {
          "output_type": "stream",
          "text": [
            "Cloning into 'simanneal'...\n",
            "remote: Enumerating objects: 37, done.\u001b[K\n",
            "remote: Counting objects:   2% (1/37)\u001b[K\rremote: Counting objects:   5% (2/37)\u001b[K\rremote: Counting objects:   8% (3/37)\u001b[K\rremote: Counting objects:  10% (4/37)\u001b[K\rremote: Counting objects:  13% (5/37)\u001b[K\rremote: Counting objects:  16% (6/37)\u001b[K\rremote: Counting objects:  18% (7/37)\u001b[K\rremote: Counting objects:  21% (8/37)\u001b[K\rremote: Counting objects:  24% (9/37)\u001b[K\rremote: Counting objects:  27% (10/37)\u001b[K\rremote: Counting objects:  29% (11/37)\u001b[K\rremote: Counting objects:  32% (12/37)\u001b[K\rremote: Counting objects:  35% (13/37)\u001b[K\rremote: Counting objects:  37% (14/37)\u001b[K\rremote: Counting objects:  40% (15/37)\u001b[K\rremote: Counting objects:  43% (16/37)\u001b[K\rremote: Counting objects:  45% (17/37)\u001b[K\rremote: Counting objects:  48% (18/37)\u001b[K\rremote: Counting objects:  51% (19/37)\u001b[K\rremote: Counting objects:  54% (20/37)\u001b[K\rremote: Counting objects:  56% (21/37)\u001b[K\rremote: Counting objects:  59% (22/37)\u001b[K\rremote: Counting objects:  62% (23/37)\u001b[K\rremote: Counting objects:  64% (24/37)\u001b[K\rremote: Counting objects:  67% (25/37)\u001b[K\rremote: Counting objects:  70% (26/37)\u001b[K\rremote: Counting objects:  72% (27/37)\u001b[K\rremote: Counting objects:  75% (28/37)\u001b[K\rremote: Counting objects:  78% (29/37)\u001b[K\rremote: Counting objects:  81% (30/37)\u001b[K\rremote: Counting objects:  83% (31/37)\u001b[K\rremote: Counting objects:  86% (32/37)\u001b[K\rremote: Counting objects:  89% (33/37)\u001b[K\rremote: Counting objects:  91% (34/37)\u001b[K\rremote: Counting objects:  94% (35/37)\u001b[K\rremote: Counting objects:  97% (36/37)\u001b[K\rremote: Counting objects: 100% (37/37)\u001b[K\rremote: Counting objects: 100% (37/37), done.\u001b[K\n",
            "remote: Compressing objects: 100% (29/29), done.\u001b[K\n",
            "remote: Total 312 (delta 15), reused 23 (delta 8), pack-reused 275\u001b[K\n",
            "Receiving objects: 100% (312/312), 819.28 KiB | 7.25 MiB/s, done.\n",
            "Resolving deltas: 100% (135/135), done.\n"
          ],
          "name": "stdout"
        }
      ]
    },
    {
      "cell_type": "code",
      "metadata": {
        "id": "BryE2khLdDvT",
        "colab_type": "code",
        "colab": {
          "base_uri": "https://localhost:8080/",
          "height": 136
        },
        "outputId": "31e95a50-14ff-4692-ecbd-a93ff5396387"
      },
      "source": [
        "#!cd ./simanneal/ && pip install -e ."
      ],
      "execution_count": null,
      "outputs": [
        {
          "output_type": "stream",
          "text": [
            "Obtaining file:///content/simanneal\n",
            "Installing collected packages: simanneal\n",
            "  Found existing installation: simanneal 0.5.0\n",
            "    Uninstalling simanneal-0.5.0:\n",
            "      Successfully uninstalled simanneal-0.5.0\n",
            "  Running setup.py develop for simanneal\n",
            "Successfully installed simanneal\n"
          ],
          "name": "stdout"
        }
      ]
    },
    {
      "cell_type": "code",
      "metadata": {
        "id": "KsqCUKLMa1QA",
        "colab_type": "code",
        "colab": {
          "base_uri": "https://localhost:8080/",
          "height": 204
        },
        "outputId": "79f3de1a-8e63-4787-df69-939861429dbb"
      },
      "source": [
        "#pip install -e git+https://github.com/perrygeo/simanneal.git  # latest from github\n",
        "#!pip install simanneal  # from pypi\n",
        "\n",
        "!pip show simanneal  # from pypi"
      ],
      "execution_count": null,
      "outputs": [
        {
          "output_type": "stream",
          "text": [
            "Requirement already satisfied: simanneal in ./simanneal (0.5.0)\n",
            "Name: simanneal\n",
            "Version: 0.5.0\n",
            "Summary: Simulated Annealing in Python\n",
            "Home-page: https://github.com/perrygeo/simanneal\n",
            "Author: Matthew Perry\n",
            "Author-email: perrygeo@gmail.com\n",
            "License: BSD\n",
            "Location: /content/simanneal\n",
            "Requires: \n",
            "Required-by: \n"
          ],
          "name": "stdout"
        }
      ]
    },
    {
      "cell_type": "code",
      "metadata": {
        "id": "EDKD8CogcyD0",
        "colab_type": "code",
        "colab": {}
      },
      "source": [
        "import sys\n",
        "f_loc=\"./simanneal/tests/\"\n",
        "if f_loc not in sys.path: sys.path.append(f_loc)"
      ],
      "execution_count": null,
      "outputs": []
    },
    {
      "cell_type": "code",
      "metadata": {
        "id": "S2-JtBP2cEsY",
        "colab_type": "code",
        "colab": {}
      },
      "source": [
        "import random\n",
        "import sys\n",
        "import time\n",
        "\n",
        "from helper import distance, cities, distance_matrix\n",
        "from simanneal import Annealer\n",
        "\n",
        "if sys.version_info.major >= 3:  # pragma: no cover\n",
        "    from io import StringIO\n",
        "else:\n",
        "    from StringIO import StringIO"
      ],
      "execution_count": null,
      "outputs": []
    },
    {
      "cell_type": "code",
      "metadata": {
        "id": "p4VuqzfnbOqD",
        "colab_type": "code",
        "colab": {
          "base_uri": "https://localhost:8080/",
          "height": 190
        },
        "outputId": "fc7a55af-8623-4e72-f8c7-de124501324b"
      },
      "source": [
        "%%time\n",
        "#see ./simanneal/examples/salesman.py\n",
        "# -*- coding: utf-8 -*-\n",
        "from __future__ import print_function\n",
        "import math\n",
        "import random\n",
        "from simanneal import Annealer\n",
        "\n",
        "\n",
        "def distance(a, b):\n",
        "    \"\"\"Calculates distance between two latitude-longitude coordinates.\"\"\"\n",
        "    R = 3963  # radius of Earth (miles)\n",
        "    lat1, lon1 = math.radians(a[0]), math.radians(a[1])\n",
        "    lat2, lon2 = math.radians(b[0]), math.radians(b[1])\n",
        "    return math.acos(math.sin(lat1) * math.sin(lat2) +\n",
        "                     math.cos(lat1) * math.cos(lat2) * math.cos(lon1 - lon2)) * R\n",
        "\n",
        "\n",
        "class TravellingSalesmanProblem(Annealer):\n",
        "\n",
        "    \"\"\"Test annealer with a travelling salesman problem.\n",
        "    \"\"\"\n",
        "\n",
        "    # pass extra data (the distance matrix) into the constructor\n",
        "    def __init__(self, state, distance_matrix):\n",
        "        self.distance_matrix = distance_matrix\n",
        "        super(TravellingSalesmanProblem, self).__init__(state)  # important!\n",
        "\n",
        "    def move(self):\n",
        "        \"\"\"Swaps two cities in the route.\"\"\"\n",
        "        # no efficiency gain, just proof of concept\n",
        "        # demonstrates returning the delta energy (optional)\n",
        "        initial_energy = self.energy()\n",
        "\n",
        "        a = random.randint(0, len(self.state) - 1)\n",
        "        b = random.randint(0, len(self.state) - 1)\n",
        "        self.state[a], self.state[b] = self.state[b], self.state[a]\n",
        "\n",
        "        return self.energy() - initial_energy\n",
        "\n",
        "    def energy(self):\n",
        "        \"\"\"Calculates the length of the route.\"\"\"\n",
        "        e = 0\n",
        "        for i in range(len(self.state)):\n",
        "            e += self.distance_matrix[self.state[i-1]][self.state[i]]\n",
        "        return e\n",
        "\n",
        "\n",
        "if __name__ == '__main__':\n",
        "\n",
        "    # latitude and longitude for the twenty largest U.S. cities\n",
        "    cities = {\n",
        "        'New York City': (40.72, 74.00),\n",
        "        'Los Angeles': (34.05, 118.25),\n",
        "        'Chicago': (41.88, 87.63),\n",
        "        'Houston': (29.77, 95.38),\n",
        "        'Phoenix': (33.45, 112.07),\n",
        "        'Philadelphia': (39.95, 75.17),\n",
        "        'San Antonio': (29.53, 98.47),\n",
        "        'Dallas': (32.78, 96.80),\n",
        "        'San Diego': (32.78, 117.15),\n",
        "        'San Jose': (37.30, 121.87),\n",
        "        'Detroit': (42.33, 83.05),\n",
        "        'San Francisco': (37.78, 122.42),\n",
        "        'Jacksonville': (30.32, 81.70),\n",
        "        'Indianapolis': (39.78, 86.15),\n",
        "        'Austin': (30.27, 97.77),\n",
        "        'Columbus': (39.98, 82.98),\n",
        "        'Fort Worth': (32.75, 97.33),\n",
        "        'Charlotte': (35.23, 80.85),\n",
        "        'Memphis': (35.12, 89.97),\n",
        "        'Baltimore': (39.28, 76.62)\n",
        "    }\n",
        "\n",
        "    # initial state, a randomly-ordered itinerary\n",
        "    init_state = list(cities.keys())\n",
        "    random.shuffle(init_state)\n",
        "\n",
        "    # create a distance matrix\n",
        "    distance_matrix = {}\n",
        "    for ka, va in cities.items():\n",
        "        distance_matrix[ka] = {}\n",
        "        for kb, vb in cities.items():\n",
        "            if kb == ka:\n",
        "                distance_matrix[ka][kb] = 0.0\n",
        "            else:\n",
        "                distance_matrix[ka][kb] = distance(va, vb)\n",
        "\n",
        "    tsp = TravellingSalesmanProblem(init_state, distance_matrix)\n",
        "    tsp.set_schedule(tsp.auto(minutes=0.2))\n",
        "    # since our state is just a list, slice is the fastest way to copy\n",
        "    tsp.copy_strategy = \"slice\"\n",
        "    state, e = tsp.anneal()\n",
        "\n",
        "    while state[0] != 'New York City':\n",
        "        state = state[1:] + state[:1]  # rotate NYC to start\n",
        "\n",
        "    print()\n",
        "    print(\"%i mile route:\" % e)\n",
        "    print(\" ➞  \".join(state))\n"
      ],
      "execution_count": null,
      "outputs": [
        {
          "output_type": "stream",
          "text": [
            "\n",
            " Temperature        Energy    Accept   Improve     Elapsed   Remaining\n",
            "     5.80000       6887.06     5.80%     0.00%     0:00:02    -1:59:59\n",
            " Temperature        Energy    Accept   Improve     Elapsed   Remaining\n",
            "     5.80000       6801.84     5.24%     0.00%     0:00:06     0:00:00"
          ],
          "name": "stderr"
        },
        {
          "output_type": "stream",
          "text": [
            "\n",
            "6801 mile route:\n",
            "New York City ➞  Detroit ➞  Columbus ➞  Indianapolis ➞  Chicago ➞  San Francisco ➞  San Jose ➞  Los Angeles ➞  San Diego ➞  Phoenix ➞  San Antonio ➞  Austin ➞  Houston ➞  Fort Worth ➞  Dallas ➞  Memphis ➞  Jacksonville ➞  Charlotte ➞  Baltimore ➞  Philadelphia\n",
            "CPU times: user 8.2 s, sys: 104 ms, total: 8.3 s\n",
            "Wall time: 8.31 s\n"
          ],
          "name": "stdout"
        }
      ]
    },
    {
      "cell_type": "code",
      "metadata": {
        "id": "shXu4MOvpxoR",
        "colab_type": "code",
        "colab": {
          "base_uri": "https://localhost:8080/",
          "height": 357
        },
        "outputId": "173a8411-e9c8-4ff7-8361-351b0ed3f3bb"
      },
      "source": [
        "cities"
      ],
      "execution_count": null,
      "outputs": [
        {
          "output_type": "execute_result",
          "data": {
            "text/plain": [
              "{'Austin': (30.27, 97.77),\n",
              " 'Baltimore': (39.28, 76.62),\n",
              " 'Charlotte': (35.23, 80.85),\n",
              " 'Chicago': (41.88, 87.63),\n",
              " 'Columbus': (39.98, 82.98),\n",
              " 'Dallas': (32.78, 96.8),\n",
              " 'Detroit': (42.33, 83.05),\n",
              " 'Fort Worth': (32.75, 97.33),\n",
              " 'Houston': (29.77, 95.38),\n",
              " 'Indianapolis': (39.78, 86.15),\n",
              " 'Jacksonville': (30.32, 81.7),\n",
              " 'Los Angeles': (34.05, 118.25),\n",
              " 'Memphis': (35.12, 89.97),\n",
              " 'New York City': (40.72, 74.0),\n",
              " 'Philadelphia': (39.95, 75.17),\n",
              " 'Phoenix': (33.45, 112.07),\n",
              " 'San Antonio': (29.53, 98.47),\n",
              " 'San Diego': (32.78, 117.15),\n",
              " 'San Francisco': (37.78, 122.42),\n",
              " 'San Jose': (37.3, 121.87)}"
            ]
          },
          "metadata": {
            "tags": []
          },
          "execution_count": 15
        }
      ]
    },
    {
      "cell_type": "code",
      "metadata": {
        "id": "FFXRoFW4bivu",
        "colab_type": "code",
        "colab": {}
      },
      "source": [
        "def make_itinerary(current_location,initial_state):\n",
        "\n",
        "  if current_location not in initial_state:\n",
        "    print(\"Add you current location to the initial_state!\")\n",
        "    return\n",
        "\n",
        "  # initial state, a randomly-ordered itinerary\n",
        "  init_state = initial_state\n",
        "  random.shuffle(init_state)\n",
        "\n",
        "  # populate your cities list with coordinate information\n",
        "  my_cities={}\n",
        "  for city in initial_state:\n",
        "    if city in cities.keys():\n",
        "      my_cities[city]=cities[city]\n",
        "    else:\n",
        "      print(\"No location coordinates for \",city)\n",
        "      if city==current_location:\n",
        "        print(\"Add your location coordinates!\")\n",
        "        return\n",
        "\n",
        "  # create a distance matrix\n",
        "  distance_matrix = {}\n",
        "  for ka, va in my_cities.items():\n",
        "      distance_matrix[ka] = {}\n",
        "      for kb, vb in my_cities.items():\n",
        "          if kb == ka:\n",
        "              distance_matrix[ka][kb] = 0.0\n",
        "          else:\n",
        "              distance_matrix[ka][kb] = distance(va, vb)\n",
        "\n",
        "  tsp = TravellingSalesmanProblem(init_state, distance_matrix)\n",
        "  '''\n",
        "  tsp.set_schedule(tsp.auto(minutes=0.2))\n",
        "  # since our state is just a list, slice is the fastest way to copy\n",
        "  tsp.copy_strategy = \"slice\"\n",
        "  '''\n",
        "  itinerary, miles = tsp.anneal()\n",
        "\n",
        "  while itinerary[0] != current_location:\n",
        "      itinerary = itinerary[1:] + itinerary[:1]  # rotate to start correctly\n",
        "\n",
        "  print()\n",
        "  print(\"%i mile route:\" % miles)\n",
        "  print(\" ➞  \".join(itinerary))\n"
      ],
      "execution_count": null,
      "outputs": []
    },
    {
      "cell_type": "code",
      "metadata": {
        "id": "YWDz4YgLozkQ",
        "colab_type": "code",
        "colab": {
          "base_uri": "https://localhost:8080/",
          "height": 156
        },
        "outputId": "5098e86e-3977-4f5a-9de6-b02c30923155"
      },
      "source": [
        "%%time\n",
        "initial_state = ['New York City', 'Los Angeles', 'Philadelphia', 'Houston']\n",
        "initial_state = list(cities.keys())\n",
        "current_location= 'Los Angeles'\n",
        "\n",
        "make_itinerary(current_location,initial_state)"
      ],
      "execution_count": null,
      "outputs": [
        {
          "output_type": "stream",
          "text": [
            "\n",
            " Temperature        Energy    Accept   Improve     Elapsed   Remaining\n",
            "     2.50000       6845.62     5.00%     0.00%     0:00:02     0:00:00"
          ],
          "name": "stderr"
        },
        {
          "output_type": "stream",
          "text": [
            "\n",
            "6845 mile route:\n",
            "Los Angeles ➞  San Jose ➞  San Francisco ➞  Fort Worth ➞  Dallas ➞  Memphis ➞  Indianapolis ➞  Chicago ➞  Detroit ➞  Columbus ➞  New York City ➞  Philadelphia ➞  Baltimore ➞  Charlotte ➞  Jacksonville ➞  Houston ➞  Austin ➞  San Antonio ➞  Phoenix ➞  San Diego\n",
            "CPU times: user 1.56 s, sys: 34.3 ms, total: 1.59 s\n",
            "Wall time: 1.62 s\n"
          ],
          "name": "stdout"
        }
      ]
    }
  ]
}