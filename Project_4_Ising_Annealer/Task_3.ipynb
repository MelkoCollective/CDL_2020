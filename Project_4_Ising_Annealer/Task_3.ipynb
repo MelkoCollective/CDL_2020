{
 "cells": [
  {
   "cell_type": "markdown",
   "metadata": {},
   "source": [
    "# Electronic Structure Calculations using Generalized Ising Hamiltonians\n",
    "\n",
    "Your final task is to calculate the ground state energy of a hydrogen molecule using a Generalized Ising Hamiltonian:\n",
    "\n",
    "$$ \n",
    "H = E_0 + \\sum_i h_i\\sigma_i + \\sum_{ij} J_{ij}\\sigma_i\\sigma_j\n",
    "+ \\sum_{ijk} K_{ijk}\\sigma_i\\sigma_j\\sigma_k\n",
    "+ \\sum_{ijkl} L_{ijkl}\\sigma_i\\sigma_j\\sigma_k\\sigma_l\n",
    "+ \\cdots\n",
    "$$\n",
    "\n",
    "where the Hamiltonian parameters ($E_0, h_i, J_{ij}, K_{ijk}, L_{ijkl}$) will be provided to you by the `read_generalized_ising_hamiltonian` function below.\n",
    "\n",
    "These Ising Hamiltonians were produced using the *Iterative Qubit Coupled Cluster* method (https://arxiv.org/abs/1906.11192).\n",
    "\n",
    "The $H_2$ Ising Hamiltonian only needs 4 spins to fully describe the ground state, hence our Hamiltonian only needs a 4-point interaction at most."
   ]
  },
  {
   "cell_type": "code",
   "execution_count": 1,
   "metadata": {},
   "outputs": [],
   "source": [
    "import numpy as np\n",
    "\n",
    "from abstract_ising import AbstractIsing\n",
    "from ising_animator import IsingAnimator\n",
    "import copy\n",
    "%matplotlib inline"
   ]
  },
  {
   "cell_type": "code",
   "execution_count": 2,
   "metadata": {},
   "outputs": [],
   "source": [
    "def read_generalized_ising_hamiltonian(path):\n",
    "    with open(path, \"r\") as f:\n",
    "        f.readline()  # discard first line\n",
    "        compressed_hamiltonian = [\n",
    "            tuple(line.strip().split())\n",
    "            for line in f.readlines()\n",
    "        ]\n",
    "    \n",
    "    num_sites = len(compressed_hamiltonian[0][0])\n",
    "    hamiltonian_terms = [np.zeros((num_sites,)*i) for i in range(num_sites+1)]\n",
    "\n",
    "    for sites, val in compressed_hamiltonian:\n",
    "        num_zs = 0\n",
    "        site_nums = []\n",
    "        for i, x in enumerate(sites):\n",
    "            if x == 'z':\n",
    "                site_nums.append(i)\n",
    "                num_zs += 1\n",
    "\n",
    "        hamiltonian_terms[num_zs][tuple(site_nums)] = float(val)\n",
    "\n",
    "    return hamiltonian_terms"
   ]
  },
  {
   "cell_type": "code",
   "execution_count": 3,
   "metadata": {},
   "outputs": [],
   "source": [
    "E0, h, J, K, L = read_generalized_ising_hamiltonian(\"./hamiltonians/Ising-H2-STO-3G-bk-samespin-R=0.65.inp\")"
   ]
  },
  {
   "cell_type": "code",
   "execution_count": 4,
   "metadata": {},
   "outputs": [
    {
     "name": "stdout",
     "output_type": "stream",
     "text": [
      "[[ 0  1  2  3  4]\n",
      " [ 5  6  7  8  9]\n",
      " [10 11 12 13 14]\n",
      " [15 16 17 18 19]\n",
      " [20 21 22 23 24]]\n",
      "60\n",
      "---\n",
      "[ 0  6 12 18 24]\n",
      "---\n",
      "[[ 0  1  2  3  4]\n",
      " [ 5  6  7  8  9]\n",
      " [10 11 12 13 14]\n",
      " [15 16 17 18 19]\n",
      " [20 21 22 23 24]]\n"
     ]
    }
   ],
   "source": [
    "a = np.arange(25).reshape(5,5)\n",
    "b = np.arange(5)\n",
    "c = np.arange(6).reshape(2,3)\n",
    "print(a)\n",
    "print(np.einsum('ii', a))\n",
    "print(\"---\")\n",
    "print(np.einsum('ii->i', a))\n",
    "print(\"---\")\n",
    "print(np.einsum('ij', a))"
   ]
  },
  {
   "cell_type": "markdown",
   "metadata": {},
   "source": [
    "First, you must write a class that describes the Generalized Ising Model given the arrays containing the Hamiltonian parameters. You will need to write a function which computes energy of the stored spin configuration (see the previous tasks for inspiration), as well as a function which computes the change in energy resulting from a single-spin-flip (you could of course use the naive approach and simply compute the energy of two spin configurations and subtract one from the other)."
   ]
  },
  {
   "cell_type": "code",
   "execution_count": 5,
   "metadata": {},
   "outputs": [],
   "source": [
    "# Write a class to describe the generalized Ising Model given its Hamiltonian parameters\n",
    "\n",
    "class GeneralizedIsingModel(AbstractIsing):\n",
    "    def __init__(self,E0,h,J,K,L,N):\n",
    "        self.E0  = E0\n",
    "        self.h, self.J = h , J\n",
    "        self.K, self.L = K, L\n",
    "        self.N = N\n",
    "        self.num_spins = self.N\n",
    "        \n",
    "        # initialize system at infinite temperature\n",
    "        # i.e. spins are completely random and uncorrelated\n",
    "        self.spins = 2*(np.random.rand(self.N) < 0.5) - 1\n",
    "    \n",
    "    def energy(self):\n",
    "        \"\"\"Returns the energy of the current spin configuration\"\"\"\n",
    "        tot_h = 0.0\n",
    "        tot_J = 0.0\n",
    "        tot_K = 0.0\n",
    "        tot_L = 0.0\n",
    "        for i in range(0,self.N):\n",
    "            tot_h += self.h[i]*self.spins[i]\n",
    "            for j in range(0,self.N):\n",
    "                tot_J += (self.J[i,j])*(self.spins[i]*self.spins[j])\n",
    "                for k in range(0,self.N):\n",
    "                    tot_K += (self.K[i,j,k])*(self.spins[i]*self.spins[j]*self.spins[k])\n",
    "                    for l in range(0,self.N):\n",
    "                        tot_L += (self.L[i,j,k,l])*(self.spins[i]*self.spins[j]*self.spins[k]*self.spins[l])\n",
    "        \n",
    "        return self.E0 + tot_h + tot_J + tot_K + tot_L\n",
    "        \n",
    "    \n",
    "    def energy_diff(self, i):\n",
    "        #temp_spins = copy.deepcopy(self.spins)\n",
    "        e1 = self.energy()\n",
    "        \n",
    "        #Flip i temporarily \n",
    "        self.spins[i] = (-1)*self.spins[i]\n",
    "        \n",
    "        e2 = self.energy()\n",
    "        \n",
    "        #Revert\n",
    "        self.spins[i] = (-1)*self.spins[i]\n",
    "        \n",
    "        return e2-e1\n",
    "    \n",
    "    def rand_site(self):\n",
    "        return (np.random.randint(self.N),)"
   ]
  },
  {
   "cell_type": "code",
   "execution_count": 6,
   "metadata": {},
   "outputs": [
    {
     "name": "stdout",
     "output_type": "stream",
     "text": [
      "[-1 -1 -1 -1]\n",
      "-0.7967113953728346\n",
      "[-1 -1 -1 -1]\n"
     ]
    }
   ],
   "source": [
    "np.random.seed(4)\n",
    "ising = GeneralizedIsingModel(E0,h,J,K,L,4)\n",
    "ising.energy()\n",
    "print(ising.spins)\n",
    "print(ising.energy_diff(0))\n",
    "print(ising.spins)"
   ]
  },
  {
   "cell_type": "markdown",
   "metadata": {},
   "source": [
    "Next you'll run a Monte Carlo simulation for this model at some finite temperature for 1000 steps, printing out the energy of the state every so often"
   ]
  },
  {
   "cell_type": "code",
   "execution_count": 7,
   "metadata": {},
   "outputs": [
    {
     "name": "stdout",
     "output_type": "stream",
     "text": [
      "-0.4855710768185992\n",
      "0.5724567781741282\n",
      "-1.1299047752322906\n",
      "-1.1299047752322906\n",
      "-1.1299047752322906\n",
      "-0.19222515402425988\n",
      "-1.1299047752322906\n",
      "-0.4020519317130593\n",
      "-0.3331933798594561\n",
      "-1.1299047752322906\n",
      "-0.4020519317130593\n",
      "-0.333193379859456\n",
      "-1.1299047752322906\n",
      "-0.19222515402425988\n",
      "-0.25924181243352884\n",
      "-0.333193379859456\n",
      "-0.33319337985945596\n",
      "-0.48557107681859907\n",
      "-0.3331933798594562\n",
      "-0.19222515402425988\n"
     ]
    }
   ],
   "source": [
    "# your MC simulation here\n",
    "np.random.seed(4)\n",
    "ising = GeneralizedIsingModel(E0,h,J,K,L,4)\n",
    "\n",
    "for t in range(1000):\n",
    "    E = ising.mc_step(T=1.0)\n",
    "    \n",
    "    if t % 50 == 0:\n",
    "        print(E)\n"
   ]
  },
  {
   "cell_type": "code",
   "execution_count": null,
   "metadata": {},
   "outputs": [],
   "source": []
  },
  {
   "cell_type": "markdown",
   "metadata": {},
   "source": [
    "Now, apply (one of) the annealing procedure(s) you came up with in the previous task to this problem to find a ground state of the system:"
   ]
  },
  {
   "cell_type": "code",
   "execution_count": 12,
   "metadata": {},
   "outputs": [
    {
     "name": "stdout",
     "output_type": "stream",
     "text": [
      "-0.4855710768185992\n",
      "-0.25924181243352884\n",
      "-0.19222515402425988\n",
      "1.144680802606227\n",
      "0.39731238040938205\n",
      "0.7256454984385436\n",
      "-0.4855710768185992\n",
      "0.5724567781741281\n",
      "-0.40205193171305953\n",
      "-0.48557107681859907\n",
      "-1.1299047752322906\n",
      "-1.1299047752322906\n",
      "-0.25924181243352884\n",
      "-0.48557107681859907\n",
      "-1.1299047752322906\n",
      "-1.1299047752322906\n",
      "-1.1299047752322906\n",
      "-1.1299047752322906\n",
      "-1.1299047752322906\n",
      "-1.1299047752322906\n",
      "-1.1299047752322906\n"
     ]
    }
   ],
   "source": [
    "# your annealing code here\n",
    "N = 2000\n",
    "t = np.arange(N)\n",
    "T_i = 100\n",
    "T_f = 0.01\n",
    "\n",
    "#Exponential works the best and is default for many systems, lets try with that\n",
    "T_exp = T_i * ((T_f/T_i) ** (t/N))\n",
    "\n",
    "#Reinitialize\n",
    "np.random.seed(4)\n",
    "ising = GeneralizedIsingModel(E0,h,J,K,L,4)\n",
    "for t in range(1000):\n",
    "    E = ising.mc_step(T=T_exp[t])\n",
    "    \n",
    "    if t % 50 == 0:\n",
    "        print(E)"
   ]
  },
  {
   "cell_type": "markdown",
   "metadata": {},
   "source": [
    "Finally, iterate over the entire spin configuration space (this is tractable since we only have 4 spins) to find the exact ground state energy. Compare this energy to the one you found above using your annealer."
   ]
  },
  {
   "cell_type": "code",
   "execution_count": 9,
   "metadata": {},
   "outputs": [
    {
     "name": "stdout",
     "output_type": "stream",
     "text": [
      "----Exhaustive search------\n",
      "[ 0  1  2  3  4  5  6  7  8  9 10 11 12 13 14 15]\n",
      "Spins:  [-1 -1 -1 -1]\n",
      "Energy:  -0.333193379859456\n",
      "Spins:  [ 1 -1 -1 -1]\n",
      "Energy:  -1.1299047752322906\n",
      "Spins:  [-1  1 -1 -1]\n",
      "Energy:  -0.48557107681859907\n",
      "Spins:  [ 1  1 -1 -1]\n",
      "Energy:  -0.25924181243352884\n",
      "Spins:  [-1 -1  1 -1]\n",
      "Energy:  -0.33319337985945613\n",
      "Spins:  [ 1 -1  1 -1]\n",
      "Energy:  1.144680802606227\n",
      "Spins:  [-1  1  1 -1]\n",
      "Energy:  0.5724567781741281\n",
      "Spins:  [ 1  1  1 -1]\n",
      "Energy:  -0.40205193171305953\n",
      "Spins:  [-1 -1 -1  1]\n",
      "Energy:  0.5724567781741281\n",
      "Spins:  [ 1 -1 -1  1]\n",
      "Energy:  -0.19222515402425988\n",
      "Spins:  [-1  1 -1  1]\n",
      "Energy:  0.39731238040938205\n",
      "Spins:  [ 1  1 -1  1]\n",
      "Energy:  0.7256454984385436\n",
      "Spins:  [-1 -1  1  1]\n",
      "Energy:  -0.4855710768185992\n",
      "Spins:  [ 1 -1  1  1]\n",
      "Energy:  -0.40205193171305936\n",
      "Spins:  [-1  1  1  1]\n",
      "Energy:  0.39731238040938194\n",
      "Spins:  [1 1 1 1]\n",
      "Energy:  0.8171587078823377\n",
      "The ground state is:  -1.1299047752322906\n"
     ]
    }
   ],
   "source": [
    "# exact ground state calculation\n",
    "#Consider all the permutations of the configurations of spins\n",
    "print(\"----Exhaustive search------\")\n",
    "dim = np.arange(2 ** ising.num_spins)\n",
    "print(dim)\n",
    "space = ((dim[:, None] & (1 << np.arange(ising.num_spins))) > 0)\n",
    "#print(space)\n",
    "space = 2*space.astype(int) - 1\n",
    "min = None\n",
    "for i in range(0,2**ising.num_spins):\n",
    "    ising.spins = space[i]\n",
    "    print(\"Spins: \",space[i])\n",
    "    temp_energy = ising.energy()\n",
    "    print(\"Energy: \",temp_energy)\n",
    "    if min == None:\n",
    "        min = temp_energy\n",
    "    elif min > temp_energy:\n",
    "        min = temp_energy\n",
    "print(\"The ground state is: \",min)"
   ]
  },
  {
   "cell_type": "markdown",
   "metadata": {},
   "source": [
    "Now, clean up your code a little, and write a for-loop that iterates over all the different values of the Hydrogen seperation distance $R$ available in the `hamiltonians` directory. \n",
    "\n",
    "For each $R$ you must:\n",
    "- Read in the associated Ising Hamiltonian\n",
    "- Perform an annealed Monte Carlo simulation to find a candidate ground state energy\n",
    "- Compute the exact ground state energy\n",
    "- Compare the two results"
   ]
  },
  {
   "cell_type": "code",
   "execution_count": 17,
   "metadata": {},
   "outputs": [
    {
     "name": "stdout",
     "output_type": "stream",
     "text": [
      "-----R=0.65-----\n",
      "MC State Energy:  -1.1299047752322906\n",
      "Ground State Energy:  -1.1299047752322906\n",
      "Annealing could find the ground state\n",
      "-----R=0.8-----\n",
      "MC State Energy:  -1.134147672223387\n",
      "Ground State Energy:  -1.134147672223387\n",
      "Annealing could find the ground state\n",
      "-----R=0.95-----\n",
      "MC State Energy:  -1.1113394317141148\n",
      "Ground State Energy:  -1.1113394317141148\n",
      "Annealing could find the ground state\n",
      "-----R=1.1-----\n",
      "MC State Energy:  -1.0791929635915072\n",
      "Ground State Energy:  -1.0791929635915072\n",
      "Annealing could find the ground state\n",
      "-----R=1.25-----\n",
      "MC State Energy:  -0.8427811750184449\n",
      "Ground State Energy:  -1.0457831649744005\n",
      "Annealing couldn't find the ground state\n",
      "-----R=1.4-----\n",
      "MC State Energy:  -1.0154682691531116\n",
      "Ground State Energy:  -1.0154682691531116\n",
      "Annealing could find the ground state\n",
      "-----R=1.55-----\n",
      "MC State Energy:  -0.9904763585526107\n",
      "Ground State Energy:  -0.9904763585526107\n",
      "Annealing could find the ground state\n",
      "-----R=1.7-----\n",
      "MC State Energy:  -0.9714267029717627\n",
      "Ground State Energy:  -0.9714267029717627\n",
      "Annealing could find the ground state\n",
      "-----R=1.85-----\n",
      "MC State Energy:  -0.9578329791835556\n",
      "Ground State Energy:  -0.9578329791835556\n",
      "Annealing could find the ground state\n",
      "-----R=2.0-----\n",
      "MC State Energy:  -0.9245373170007651\n",
      "Ground State Energy:  -0.9486411206967023\n",
      "Annealing couldn't find the ground state\n",
      "-----R=2.15-----\n",
      "MC State Energy:  -0.927955101634237\n",
      "Ground State Energy:  -0.9426777920320298\n",
      "Annealing couldn't find the ground state\n",
      "-----R=2.3-----\n",
      "MC State Energy:  -0.9300586385130121\n",
      "Ground State Energy:  -0.9389223907402543\n",
      "Annealing couldn't find the ground state\n",
      "-----R=2.45-----\n",
      "MC State Energy:  -0.9313379086467222\n",
      "Ground State Energy:  -0.9366052600789352\n",
      "Annealing couldn't find the ground state\n",
      "-----R=2.6-----\n",
      "MC State Energy:  -0.9321061010259798\n",
      "Ground State Energy:  -0.9351960337828165\n",
      "Annealing couldn't find the ground state\n",
      "-----R=2.75-----\n",
      "MC State Energy:  -0.9325609565542741\n",
      "Ground State Energy:  -0.9343489902069895\n",
      "Annealing couldn't find the ground state\n",
      "-----R=2.9-----\n",
      "MC State Energy:  -0.9338457529323186\n",
      "Ground State Energy:  -0.9338457529323186\n",
      "Annealing could find the ground state\n",
      "-----R=3.05-----\n",
      "MC State Energy:  -0.9335506069059255\n",
      "Ground State Energy:  -0.9335506069059255\n",
      "Annealing could find the ground state\n",
      "-----R=3.2-----\n",
      "MC State Energy:  -0.9330632179924311\n",
      "Ground State Energy:  -0.9333799791852521\n",
      "Annealing couldn't find the ground state\n",
      "-----R=3.35-----\n",
      "MC State Energy:  -0.9332828445659483\n",
      "Ground State Energy:  -0.9332828445659483\n",
      "Annealing could find the ground state\n",
      "-----R=3.5-----\n",
      "MC State Energy:  -0.9332284072659004\n",
      "Ground State Energy:  -0.9332284072659004\n",
      "Annealing could find the ground state\n"
     ]
    }
   ],
   "source": [
    "filestr = \"Ising-H2-STO-3G-bk-samespin-R=\"\n",
    "r_0 = 0.65\n",
    "cur_r = r_0\n",
    "\n",
    "#Exponential decay increased steps\n",
    "N = 2000\n",
    "t = np.arange(N)\n",
    "T_i = 100\n",
    "T_f = 0.01\n",
    "\n",
    "T_exp = T_i * ((T_f/T_i) ** (t/N))\n",
    "\n",
    "for i in range(0,20):\n",
    "    filename = \"./hamiltonians/\" + filestr + str(round(cur_r,2)) + \".inp\"\n",
    "    print(\"-----R=\"+str(round(cur_r,2))+\"-----\")\n",
    "    E0, h, J, K, L = read_generalized_ising_hamiltonian(filename)\n",
    "    \n",
    "    #Initialize\n",
    "    np.random.seed(4)\n",
    "    ising = GeneralizedIsingModel(E0,h,J,K,L,4)\n",
    "    \n",
    "    #MC procedure\n",
    "    for t in range(2000):\n",
    "        E = ising.mc_step(T=T_exp[t])\n",
    "    \n",
    "    mc_energy = ising.energy()\n",
    "    \n",
    "    #Brute force\n",
    "    min = None\n",
    "    for i in range(0,2**ising.num_spins):\n",
    "        ising.spins = space[i]\n",
    "        temp_energy = ising.energy()\n",
    "        if min == None:\n",
    "            min = temp_energy\n",
    "        elif min > temp_energy:\n",
    "            min = temp_energy\n",
    "    \n",
    "    print(\"MC State Energy: \",mc_energy)\n",
    "    print(\"Ground State Energy: \",min)\n",
    "    if min == mc_energy:\n",
    "        print(\"Annealing could find the ground state\")\n",
    "    else:\n",
    "        print(\"Annealing couldn't find the ground state\")\n",
    "    \n",
    "    cur_r += 0.15"
   ]
  },
  {
   "cell_type": "markdown",
   "metadata": {},
   "source": [
    "For many of the <b>R</b> values where Annealing couldn't find solution (eg R=2.75), the final energies are pretty close to the ground state. A longer anneal schedule can hopefully help in fixing some of them. "
   ]
  },
  {
   "cell_type": "code",
   "execution_count": null,
   "metadata": {},
   "outputs": [],
   "source": []
  }
 ],
 "metadata": {
  "kernelspec": {
   "display_name": "newtq37",
   "language": "python",
   "name": "newtq37"
  },
  "language_info": {
   "codemirror_mode": {
    "name": "ipython",
    "version": 3
   },
   "file_extension": ".py",
   "mimetype": "text/x-python",
   "name": "python",
   "nbconvert_exporter": "python",
   "pygments_lexer": "ipython3",
   "version": "3.7.1"
  }
 },
 "nbformat": 4,
 "nbformat_minor": 4
}
