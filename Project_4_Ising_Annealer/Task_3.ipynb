{
 "cells": [
  {
   "cell_type": "markdown",
   "metadata": {},
   "source": [
    "# Electronic Structure Calculations using Generalized Ising Hamiltonians\n",
    "\n",
    "Your final task is to calculate the ground state energy of a hydrogen molecule using a Generalized Ising Hamiltonian:\n",
    "\n",
    "$$ H = E_0 + \\sum_i h_i\\sigma_i + \\sum_{ij} J_{ij}\\sigma_i\\sigma_j + \\sum_{ijk} K_{ijk}\\sigma_i\\sigma_j\\sigma_k + \\sum_{ijkl} L_{ijkl}\\sigma_i\\sigma_j\\sigma_k\\sigma_l + \\cdots $$\n",
    "\n",
    "where the Hamiltonian parameters ($E_0, h_i, J_{ij}, K_{ijk}, L_{ijkl}$) will be provided to you by the `read_generalized_ising_hamiltonian` function below.\n",
    "\n",
    "These Ising Hamiltonians were produced using the *Iterative Qubit Coupled Cluster* method (https://arxiv.org/abs/1906.11192).\n",
    "\n",
    "The $H_2$ Ising Hamiltonian only needs 4 spins to fully describe the ground state, hence our Hamiltonian only needs a 4-point interaction at most."
   ]
  },
  {
   "cell_type": "code",
   "execution_count": 1,
   "metadata": {},
   "outputs": [],
   "source": [
    "import numpy as np\n",
    "\n",
    "from abstract_ising import AbstractIsing\n",
    "from ising_animator import IsingAnimator\n",
    "\n",
    "%matplotlib inline"
   ]
  },
  {
   "cell_type": "code",
   "execution_count": 3,
   "metadata": {},
   "outputs": [],
   "source": [
    "def read_generalized_ising_hamiltonian(path):\n",
    "    with open(path, \"r\") as f:\n",
    "        f.readline()  # discard first line\n",
    "        compressed_hamiltonian = [\n",
    "            tuple(line.strip().split())\n",
    "            for line in f.readlines()\n",
    "        ]\n",
    "    \n",
    "    num_sites = len(compressed_hamiltonian[0][0])\n",
    "    hamiltonian_terms = [np.zeros((num_sites,)*i) for i in range(num_sites+1)]\n",
    "\n",
    "    for sites, val in compressed_hamiltonian:\n",
    "        num_zs = 0\n",
    "        site_nums = []\n",
    "        for i, x in enumerate(sites):\n",
    "            if x == 'z':\n",
    "                site_nums.append(i)\n",
    "                num_zs += 1\n",
    "\n",
    "        hamiltonian_terms[num_zs][tuple(site_nums)] = float(val)\n",
    "\n",
    "    return hamiltonian_terms"
   ]
  },
  {
   "cell_type": "code",
   "execution_count": 4,
   "metadata": {},
   "outputs": [],
   "source": [
    "E0, h, J, K, L = read_generalized_ising_hamiltonian(\"./hamiltonians/Ising-H2-STO-3G-bk-samespin-R=0.65.inp\")"
   ]
  },
  {
   "cell_type": "markdown",
   "metadata": {},
   "source": [
    "First, you must write a class that describes the Generalized Ising Model given the arrays containing the\n",
    " Hamiltonian parameters. You will need to write a function which computes energy of the stored spin configuration\n",
    " (see the previous tasks for inspiration), as well as a function which computes the change in energy resulting from\n",
    " a single-spin-flip (you could of course use the naive approach and simply compute the energy of two spin configurations\n",
    "  and subtract one from the other)."
   ]
  },
  {
   "cell_type": "code",
   "execution_count": 68,
   "outputs": [
    {
     "name": "stdout",
     "output_type": "stream",
     "text": [
      "0.6214728053893763\n"
     ]
    },
    {
     "data": {
      "text/plain": "0.6214728053893763"
     },
     "execution_count": 68,
     "metadata": {},
     "output_type": "execute_result"
    }
   ],
   "source": [
    "spins = 2 * (np.random.rand(4) < 0.5) - 1\n",
    "\n",
    "res = 0\n",
    "for i, s0 in enumerate(spins):\n",
    "    for j, s1 in enumerate(np.roll(spins, 1)):\n",
    "        for k, s2 in enumerate(np.roll(spins, 2)):\n",
    "                res += s0 * s1 * s2*  K[i][j][k]\n",
    "print(res)\n",
    "np.einsum(spins, [0],  np.roll(spins, 1), [1],  np.roll(spins, 2), [2],  K, [0,1,2])"
   ],
   "metadata": {
    "collapsed": false,
    "pycharm": {
     "name": "#%%\n"
    }
   }
  },
  {
   "cell_type": "code",
   "execution_count": 107,
   "outputs": [
    {
     "name": "stdout",
     "output_type": "stream",
     "text": [
      "[0.03775117547636375, -0.13421845044578246, -0.32839586407884513, 0.07570471329069535, 0.1699209802656651]\n",
      "[0.03775117547636375, -0.13421845044578246, -0.32839586407884513, 0.07570471329069535, 0.1699209802656651]\n",
      "None\n"
     ]
    }
   ],
   "source": [
    "spins = 2 * (np.random.rand(4) < 0.5) - 1\n",
    "terms = (E0, h, J, K, L)\n",
    "\n",
    "energy = []\n",
    "for dim, term in enumerate(terms):\n",
    "    prog = []\n",
    "    for d in range(dim):\n",
    "        prog.extend([np.roll(spins, d), [d]])\n",
    "    prog.extend([term, list(range(dim))])\n",
    "    energy.append(np.einsum(*prog))\n",
    "\n",
    "energy1 = []\n",
    "energy1.append(float(E0))\n",
    "energy1.append(np.einsum('i, i', h, spins))\n",
    "energy1.append(np.einsum('i,j,ij', spins, np.roll(spins, 1), J))\n",
    "energy1.append(np.einsum('i,j,k, ijk', spins, np.roll(spins, 1), np.roll(spins, 2), K))\n",
    "energy1.append(np.einsum('i,j,k,l, ijkl', spins, np.roll(spins, 1), np.roll(spins, 2), np.roll(spins, 3), L))\n",
    "\n",
    "print(energy)\n",
    "print(energy1)\n",
    "print(np.testing.assert_array_equal(energy, energy1))"
   ],
   "metadata": {
    "collapsed": false,
    "pycharm": {
     "name": "#%%\n"
    }
   }
  },
  {
   "cell_type": "code",
   "execution_count": 81,
   "metadata": {},
   "outputs": [],
   "source": [
    "# Write a class to describe the generalized Ising Model given its Hamiltonian parameters\n",
    "\n",
    "class GeneralizedIsingModel(AbstractIsing):\n",
    "    def __init__(self, terms):\n",
    "        self.terms = terms\n",
    "        for t0, t1 in zip(terms, terms[1:]):\n",
    "            if len(t1.shape) < len(t0.shape):\n",
    "                raise ValueError('The terms have not been provided in the right order. Please provide them in order of '\n",
    "                                 'increasing dimension')\n",
    "\n",
    "        self.n_spins = terms[1].shape[0]\n",
    "        self.spins = 2 * (np.random.rand(self.n_spins) < 0.5) - 1\n",
    "    \n",
    "    def energy(self):\n",
    "        energy = 0\n",
    "        for dim, term in enumerate(self.terms):\n",
    "            prog = []\n",
    "            for d in range(dim):\n",
    "                prog.extend([np.roll(self.spins, d), [d]])\n",
    "            prog.extend([term, list(range(dim))])\n",
    "            energy += np.einsum(*prog)\n",
    "            return energy\n",
    "    \n",
    "    def energy_diff(self, *coords):\n",
    "        pass\n",
    "    \n",
    "    def rand_site(self):\n",
    "        pass"
   ]
  },
  {
   "cell_type": "markdown",
   "metadata": {},
   "source": [
    "Next you'll run a Monte Carlo simulation for this model at some finite temperature for 1000 steps, printing out the energy of the state every so often"
   ]
  },
  {
   "cell_type": "code",
   "execution_count": 5,
   "metadata": {},
   "outputs": [],
   "source": [
    "# your MC simulation here"
   ]
  },
  {
   "cell_type": "markdown",
   "metadata": {},
   "source": [
    "Now, apply (one of) the annealing procedure(s) you came up with in the previous task to this problem to find a ground state of the system:"
   ]
  },
  {
   "cell_type": "code",
   "execution_count": 6,
   "metadata": {},
   "outputs": [],
   "source": [
    "# your annealing code here"
   ]
  },
  {
   "cell_type": "markdown",
   "metadata": {},
   "source": [
    "Finally, iterate over the entire spin configuration space (this is tractable since we only have 4 spins) to find the exact ground state energy. Compare this energy to the one you found above using your annealer."
   ]
  },
  {
   "cell_type": "code",
   "execution_count": 7,
   "metadata": {},
   "outputs": [],
   "source": [
    "# exact ground state calculation"
   ]
  },
  {
   "cell_type": "markdown",
   "metadata": {},
   "source": [
    "Now, clean up your code a little, and write a for-loop that iterates over all the different values of the Hydrogen seperation distance $R$ available in the `hamiltonians` directory. \n",
    "\n",
    "For each $R$ you must:\n",
    "- Read in the associated Ising Hamiltonian\n",
    "- Perform an annealed Monte Carlo simulation to find a candidate ground state energy\n",
    "- Compute the exact ground state energy\n",
    "- Compare the two results"
   ]
  },
  {
   "cell_type": "code",
   "execution_count": null,
   "metadata": {},
   "outputs": [],
   "source": []
  }
 ],
 "metadata": {
  "kernelspec": {
   "display_name": "Python 3",
   "language": "python",
   "name": "python3"
  },
  "language_info": {
   "codemirror_mode": {
    "name": "ipython",
    "version": 3
   },
   "file_extension": ".py",
   "mimetype": "text/x-python",
   "name": "python",
   "nbconvert_exporter": "python",
   "pygments_lexer": "ipython3",
   "version": "3.8.0"
  }
 },
 "nbformat": 4,
 "nbformat_minor": 4
}