{
 "cells": [
  {
   "cell_type": "markdown",
   "metadata": {},
   "source": [
    "# Electronic Structure Calculations using Generalized Ising Hamiltonians\n",
    "\n",
    "Your final task is to calculate the ground state energy of a hydrogen molecule using a Generalized Ising Hamiltonian:\n",
    "\n",
    "$$ \n",
    "H = E_0 + \\sum_i h_i\\sigma_i + \\sum_{ij} J_{ij}\\sigma_i\\sigma_j\n",
    "+ \\sum_{ijk} K_{ijk}\\sigma_i\\sigma_j\\sigma_k\n",
    "+ \\sum_{ijkl} L_{ijkl}\\sigma_i\\sigma_j\\sigma_k\\sigma_l\n",
    "+ \\cdots\n",
    "$$\n",
    "\n",
    "where the Hamiltonian parameters ($E_0, h_i, J_{ij}, K_{ijk}, L_{ijkl}$) will be provided to you by the `read_generalized_ising_hamiltonian` function below.\n",
    "\n",
    "These Ising Hamiltonians were produced using the *Iterative Qubit Coupled Cluster* method (https://arxiv.org/abs/1906.11192).\n",
    "\n",
    "The $H_2$ Ising Hamiltonian only needs 4 spins to fully describe the ground state, hence our Hamiltonian only needs a 4-point interaction at most."
   ]
  },
  {
   "cell_type": "code",
   "execution_count": 1,
   "metadata": {},
   "outputs": [],
   "source": [
    "import numpy as np\n",
    "\n",
    "from abstract_ising import AbstractIsing\n",
    "from ising_animator import IsingAnimator\n",
    "\n",
    "%matplotlib inline"
   ]
  },
  {
   "cell_type": "code",
   "execution_count": 2,
   "metadata": {},
   "outputs": [],
   "source": [
    "def read_generalized_ising_hamiltonian(path):\n",
    "    with open(path, \"r\") as f:\n",
    "        f.readline()  # discard first line\n",
    "        compressed_hamiltonian = [\n",
    "            tuple(line.strip().split())\n",
    "            for line in f.readlines()\n",
    "        ]\n",
    "    \n",
    "    num_sites = len(compressed_hamiltonian[0][0])\n",
    "    hamiltonian_terms = [np.zeros((num_sites,)*i) for i in range(num_sites+1)]\n",
    "\n",
    "    for sites, val in compressed_hamiltonian:\n",
    "        num_zs = 0\n",
    "        site_nums = []\n",
    "        for i, x in enumerate(sites):\n",
    "            if x == 'z':\n",
    "                site_nums.append(i)\n",
    "                num_zs += 1\n",
    "\n",
    "        hamiltonian_terms[num_zs][tuple(site_nums)] = float(val)\n",
    "\n",
    "    return hamiltonian_terms"
   ]
  },
  {
   "cell_type": "code",
   "execution_count": 10,
   "metadata": {},
   "outputs": [],
   "source": [
    "E0, h, J, K, L = read_generalized_ising_hamiltonian(\"./hamiltonians/Ising-H2-STO-3G-bk-samespin-R=0.65.inp\")\n",
    "\n",
    "#print(E0)\n",
    "#print(h)\n",
    "#print(J)\n",
    "#print(K)\n",
    "#print(L)"
   ]
  },
  {
   "cell_type": "markdown",
   "metadata": {},
   "source": [
    "First, you must write a class that describes the Generalized Ising Model given the arrays containing the Hamiltonian parameters. You will need to write a function which computes energy of the stored spin configuration (see the previous tasks for inspiration), as well as a function which computes the change in energy resulting from a single-spin-flip (you could of course use the naive approach and simply compute the energy of two spin configurations and subtract one from the other)."
   ]
  },
  {
   "cell_type": "code",
   "execution_count": 23,
   "metadata": {},
   "outputs": [],
   "source": [
    "# Write a class to describe the generalized Ising Model given its Hamiltonian parameters\n",
    "# Only need 4 spins\n",
    "class GeneralizedIsingModel(AbstractIsing):\n",
    "    def __init__(self, N, E0, h, J, K, L):\n",
    "        self.N = N\n",
    "        self.E0 = E0\n",
    "        self.h = h\n",
    "        self.J = J\n",
    "        self.K = K\n",
    "        self.L = L\n",
    "        self.num_spins = self.N\n",
    "        \n",
    "        # initialize system at infinite temperature\n",
    "        # i.e. spins are completely random and uncorrelated\n",
    "        self.spins = 2*(np.random.rand(self.N) < 0.5) - 1\n",
    "    \n",
    "    def energy(self):\n",
    "        # hint: np.einsum may be helpful here\n",
    "        \"\"\"Returns the energy of the current spin configuration\"\"\"\n",
    "        spins = self.spins if spins is None else spins\n",
    "        # E0 + h_i + J_ij + K_ijk + L_ijkl\n",
    "        # Einsum kicks ass!\n",
    "        total = self.E0 + np.einsum(\"i,i\",spins,h) + np.einsum(\"i,j,ij\", spins, spins, J) +\n",
    "        np.einsum(\"i,j,k,ijk\", spins, spins, spins, K) + np.einsum(\"i,j,k,l,ijkl\",spins,spins,spins,spins,L)\n",
    "        return total\n",
    "        \n",
    "    \n",
    "    def energy_diff(self, *coords):\n",
    "        \"\"\"Returns the energy difference resulting from flipping the i'th site\"\"\"\n",
    "        # sum the nearest neighbour sites\n",
    "        pass\n",
    "\n",
    "        #return -2 * self.J * self.spins[i] * nn_sum\n",
    "        \n",
    "    \n",
    "    def rand_site(self):\n",
    "        \"\"\"Selects a site in the lattice at random\"\"\"\n",
    "        return (np.random.randint(self.N),)\n",
    "    \n"
   ]
  },
  {
   "cell_type": "markdown",
   "metadata": {},
   "source": [
    "Next you'll run a Monte Carlo simulation for this model at some finite temperature for 1000 steps, printing out the energy of the state every so often"
   ]
  },
  {
   "cell_type": "code",
   "execution_count": 24,
   "metadata": {},
   "outputs": [
    {
     "ename": "UnboundLocalError",
     "evalue": "local variable 'spins' referenced before assignment",
     "output_type": "error",
     "traceback": [
      "\u001b[0;31m---------------------------------------------------------------------------\u001b[0m",
      "\u001b[0;31mUnboundLocalError\u001b[0m                         Traceback (most recent call last)",
      "\u001b[0;32m<ipython-input-24-ae825a5c2323>\u001b[0m in \u001b[0;36m<module>\u001b[0;34m\u001b[0m\n\u001b[1;32m      4\u001b[0m \u001b[0;32mfor\u001b[0m \u001b[0mt\u001b[0m \u001b[0;32min\u001b[0m \u001b[0mrange\u001b[0m\u001b[0;34m(\u001b[0m\u001b[0;36m1000\u001b[0m\u001b[0;34m)\u001b[0m\u001b[0;34m:\u001b[0m\u001b[0;34m\u001b[0m\u001b[0;34m\u001b[0m\u001b[0m\n\u001b[1;32m      5\u001b[0m \u001b[0;34m\u001b[0m\u001b[0m\n\u001b[0;32m----> 6\u001b[0;31m     \u001b[0mE\u001b[0m \u001b[0;34m=\u001b[0m \u001b[0mising\u001b[0m\u001b[0;34m.\u001b[0m\u001b[0mmc_step\u001b[0m\u001b[0;34m(\u001b[0m\u001b[0mT\u001b[0m\u001b[0;34m=\u001b[0m\u001b[0;36m1.0\u001b[0m\u001b[0;34m)\u001b[0m\u001b[0;34m\u001b[0m\u001b[0;34m\u001b[0m\u001b[0m\n\u001b[0m\u001b[1;32m      7\u001b[0m \u001b[0;34m\u001b[0m\u001b[0m\n\u001b[1;32m      8\u001b[0m     \u001b[0;31m# Print out E ever so often...\u001b[0m\u001b[0;34m\u001b[0m\u001b[0;34m\u001b[0m\u001b[0;34m\u001b[0m\u001b[0m\n",
      "\u001b[0;32m~/CohortProject_2020/Project_4_Ising_Annealer/abstract_ising.py\u001b[0m in \u001b[0;36mmc_step\u001b[0;34m(self, T)\u001b[0m\n\u001b[1;32m     18\u001b[0m     \u001b[0;32mdef\u001b[0m \u001b[0mmc_step\u001b[0m\u001b[0;34m(\u001b[0m\u001b[0mself\u001b[0m\u001b[0;34m,\u001b[0m \u001b[0mT\u001b[0m\u001b[0;34m)\u001b[0m\u001b[0;34m:\u001b[0m\u001b[0;34m\u001b[0m\u001b[0;34m\u001b[0m\u001b[0m\n\u001b[1;32m     19\u001b[0m         \u001b[0;34m\"\"\"Performs a full update of the given Ising model using the Metropolis-Hastings algorithm\"\"\"\u001b[0m\u001b[0;34m\u001b[0m\u001b[0;34m\u001b[0m\u001b[0m\n\u001b[0;32m---> 20\u001b[0;31m         \u001b[0mcurrent_energy\u001b[0m \u001b[0;34m=\u001b[0m \u001b[0mself\u001b[0m\u001b[0;34m.\u001b[0m\u001b[0menergy\u001b[0m\u001b[0;34m(\u001b[0m\u001b[0;34m)\u001b[0m\u001b[0;34m\u001b[0m\u001b[0;34m\u001b[0m\u001b[0m\n\u001b[0m\u001b[1;32m     21\u001b[0m         \u001b[0;32mfor\u001b[0m \u001b[0m_\u001b[0m \u001b[0;32min\u001b[0m \u001b[0mrange\u001b[0m\u001b[0;34m(\u001b[0m\u001b[0mself\u001b[0m\u001b[0;34m.\u001b[0m\u001b[0mnum_spins\u001b[0m\u001b[0;34m)\u001b[0m\u001b[0;34m:\u001b[0m\u001b[0;34m\u001b[0m\u001b[0;34m\u001b[0m\u001b[0m\n\u001b[1;32m     22\u001b[0m             \u001b[0msite\u001b[0m \u001b[0;34m=\u001b[0m \u001b[0mself\u001b[0m\u001b[0;34m.\u001b[0m\u001b[0mrand_site\u001b[0m\u001b[0;34m(\u001b[0m\u001b[0;34m)\u001b[0m\u001b[0;34m\u001b[0m\u001b[0;34m\u001b[0m\u001b[0m\n",
      "\u001b[0;32m<ipython-input-23-ba59459dcdff>\u001b[0m in \u001b[0;36menergy\u001b[0;34m(self)\u001b[0m\n\u001b[1;32m     18\u001b[0m         \u001b[0;31m# hint: np.einsum may be helpful here\u001b[0m\u001b[0;34m\u001b[0m\u001b[0;34m\u001b[0m\u001b[0;34m\u001b[0m\u001b[0m\n\u001b[1;32m     19\u001b[0m         \u001b[0;34m\"\"\"Returns the energy of the current spin configuration\"\"\"\u001b[0m\u001b[0;34m\u001b[0m\u001b[0;34m\u001b[0m\u001b[0m\n\u001b[0;32m---> 20\u001b[0;31m         \u001b[0mspins\u001b[0m \u001b[0;34m=\u001b[0m \u001b[0mself\u001b[0m\u001b[0;34m.\u001b[0m\u001b[0mspins\u001b[0m \u001b[0;32mif\u001b[0m \u001b[0mspins\u001b[0m \u001b[0;32mis\u001b[0m \u001b[0;32mNone\u001b[0m \u001b[0;32melse\u001b[0m \u001b[0mspins\u001b[0m\u001b[0;34m\u001b[0m\u001b[0;34m\u001b[0m\u001b[0m\n\u001b[0m\u001b[1;32m     21\u001b[0m         \u001b[0;31m# E0 + h_i + J_ij + K_ijk + L_ijkl\u001b[0m\u001b[0;34m\u001b[0m\u001b[0;34m\u001b[0m\u001b[0;34m\u001b[0m\u001b[0m\n\u001b[1;32m     22\u001b[0m         \u001b[0;31m# Einsum kicks ass!\u001b[0m\u001b[0;34m\u001b[0m\u001b[0;34m\u001b[0m\u001b[0;34m\u001b[0m\u001b[0m\n",
      "\u001b[0;31mUnboundLocalError\u001b[0m: local variable 'spins' referenced before assignment"
     ]
    }
   ],
   "source": [
    "ising = GeneralizedIsingModel(4,E0, h, J, K, L)\n",
    "# your MC simulation here\n",
    "# perform 1000 MC steps\n",
    "for t in range(1000):\n",
    "\n",
    "    E = ising.mc_step(T=1.0)\n",
    "    \n",
    "    # Print out E ever so often...\n",
    "    if t % 50 == 0:\n",
    "        print(E)"
   ]
  },
  {
   "cell_type": "markdown",
   "metadata": {},
   "source": [
    "Now, apply (one of) the annealing procedure(s) you came up with in the previous task to this problem to find a ground state of the system:"
   ]
  },
  {
   "cell_type": "code",
   "execution_count": 6,
   "metadata": {},
   "outputs": [],
   "source": [
    "# your annealing code here\n",
    "def annealing_schedule(steps, start_temp, final_temp):\n",
    "    N = steps\n",
    "    T_i = start_temp\n",
    "    T_f = final_temp\n",
    "    for t in range(N):\n",
    "        # Annealing\n",
    "        T = T_i * ((T_f/T_i) ** (t/N))\n",
    "        E = ising.mc_step(T=T)\n",
    "\n",
    "        if t % 50 == 0:\n",
    "            print(E)\n",
    "            \n",
    "    return E\n",
    "\n",
    "# Steps in MC\n",
    "N = 1000\n",
    "\n",
    "# Starting temperature\n",
    "T_i = 1000\n",
    "\n",
    "# Final Temperature\n",
    "T_f = 0.01\n",
    "\n",
    "print(\"\\n=== Annealing Energy Calculation for 4 spins ===\")\n",
    "annealed_energy = annealing_schedule(N,T_i,T_f)"
   ]
  },
  {
   "cell_type": "markdown",
   "metadata": {},
   "source": [
    "Finally, iterate over the entire spin configuration space (this is tractable since we only have 4 spins) to find the exact ground state energy. Compare this energy to the one you found above using your annealer."
   ]
  },
  {
   "cell_type": "code",
   "execution_count": 7,
   "metadata": {},
   "outputs": [],
   "source": [
    "# exact ground state calculation\n",
    "# This is getting ground state exactly  \n",
    "# N, E0, h, J, K, L\n",
    "ising = GeneralizedIsingModel(4,E0, h, J, K, L)\n",
    "dim = np.arange(2 ** ising.num_spins)\n",
    "space = ((dim[:, None] & (1 << np.arange(ising.num_spins))) > 0)\n",
    "space = 2*space.astype(int) - 1\n",
    "ising.energy(space).min()\n",
    "print(\"=== Exact Energy Calculation for 4 spins ===\")\n",
    "print(ising.energy(space).min())"
   ]
  },
  {
   "cell_type": "markdown",
   "metadata": {},
   "source": [
    "Now, clean up your code a little, and write a for-loop that iterates over all the different values of the Hydrogen seperation distance $R$ available in the `hamiltonians` directory. \n",
    "\n",
    "For each $R$ you must:\n",
    "- Read in the associated Ising Hamiltonian\n",
    "- Perform an annealed Monte Carlo simulation to find a candidate ground state energy\n",
    "- Compute the exact ground state energy\n",
    "- Compare the two results"
   ]
  },
  {
   "cell_type": "code",
   "execution_count": null,
   "metadata": {},
   "outputs": [],
   "source": []
  }
 ],
 "metadata": {
  "kernelspec": {
   "display_name": "Python 3",
   "language": "python",
   "name": "python3"
  },
  "language_info": {
   "codemirror_mode": {
    "name": "ipython",
    "version": 3
   },
   "file_extension": ".py",
   "mimetype": "text/x-python",
   "name": "python",
   "nbconvert_exporter": "python",
   "pygments_lexer": "ipython3",
   "version": "3.7.2"
  }
 },
 "nbformat": 4,
 "nbformat_minor": 4
}
