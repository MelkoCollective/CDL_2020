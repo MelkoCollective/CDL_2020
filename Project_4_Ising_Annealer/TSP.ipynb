{
 "cells": [
  {
   "cell_type": "code",
   "execution_count": 1,
   "metadata": {},
   "outputs": [],
   "source": [
    "import numpy as np\n",
    "import matplotlib.pyplot as plt\n",
    "import itertools\n",
    "%matplotlib inline"
   ]
  },
  {
   "cell_type": "code",
   "execution_count": 2,
   "metadata": {},
   "outputs": [],
   "source": [
    "def create_random_cities(n):\n",
    "    \"\"\"Returns an array of random cities (points) of given size.\"\"\"\n",
    "    cities = []\n",
    "    for i in range(n):\n",
    "        cities.append(np.random.rand(2))\n",
    "    return np.array(cities)"
   ]
  },
  {
   "cell_type": "code",
   "execution_count": 3,
   "metadata": {},
   "outputs": [],
   "source": [
    "node_count = 5\n",
    "cities = create_random_cities(node_count)"
   ]
  },
  {
   "cell_type": "code",
   "execution_count": 4,
   "metadata": {},
   "outputs": [],
   "source": [
    "def plot_cities(cities):\n",
    "    plt.scatter(cities[:, 0], cities[:, 1], s=200, c='blue', alpha=0.1)\n",
    "    for i, city in enumerate(cities):\n",
    "        x = city[0]\n",
    "        y = city[1]\n",
    "        plt.annotate(i, (x, y), size=8, color='blue', ha='center', va='center')"
   ]
  },
  {
   "cell_type": "code",
   "execution_count": 5,
   "metadata": {},
   "outputs": [],
   "source": [
    "def distance_between_points(point_A, point_B):\n",
    "    return np.sqrt((point_A[0] - point_B[0])**2 + (point_A[1] - point_B[1])**2)\n",
    "\n",
    "def get_distance_matrix(cities):\n",
    "    number_of_cities = len(cities)\n",
    "    matrix = np.zeros((number_of_cities, number_of_cities))\n",
    "    for i in range(number_of_cities):\n",
    "        for j in range(i, number_of_cities):\n",
    "            distance = distance_between_points(cities[i], cities[j])\n",
    "            matrix[i][j] = distance\n",
    "            matrix[j][i] = distance\n",
    "    return matrix"
   ]
  },
  {
   "cell_type": "code",
   "execution_count": 6,
   "metadata": {},
   "outputs": [],
   "source": [
    "def calculate_cost(cost_matrix, solution):\n",
    "    cost = 0\n",
    "    # Skipping one pair (first, last), since we don't return to the starting point\n",
    "    return sum([cost_matrix[a][b] for a, b in zip(solution[:-1], solution[1:])])"
   ]
  },
  {
   "cell_type": "code",
   "execution_count": 7,
   "metadata": {},
   "outputs": [],
   "source": [
    "def solve_tsp_brute_force(cities, starting_city, verbose=True):\n",
    "    number_of_cities = len(cities)\n",
    "    initial_order = range(number_of_cities)\n",
    "    cost_matrix = get_distance_matrix(cities)\n",
    "    \n",
    "    # We create all the possible routes\n",
    "    all_permutations = [list(x) for x in itertools.permutations(initial_order)]\n",
    "    best_permutation = all_permutations[0]\n",
    "    best_cost = calculate_cost(cost_matrix, best_permutation)*1000\n",
    "    \n",
    "    # We iterate through all the permutations and calculate their cost\n",
    "    for permutation in all_permutations:\n",
    "        if permutation[0] != starting_city:\n",
    "            continue\n",
    "        current_cost = calculate_cost(cost_matrix, permutation)\n",
    "        if current_cost < best_cost:\n",
    "            best_permutation = permutation\n",
    "            best_cost = current_cost\n",
    "    if verbose:\n",
    "        print(\"Best route:\", best_permutation)\n",
    "        print(\"Cost:\", best_cost)\n",
    "    return best_permutation"
   ]
  },
  {
   "cell_type": "code",
   "execution_count": 8,
   "metadata": {},
   "outputs": [],
   "source": [
    "def key(a, b):\n",
    "    \"\"\"key returns a key for QUBO dictionary.\"\"\"\n",
    "    return a * node_count + b"
   ]
  },
  {
   "cell_type": "code",
   "execution_count": 9,
   "metadata": {},
   "outputs": [],
   "source": [
    "A = 8500\n",
    "B = 1\n",
    "\n",
    "def qubo(distances):\n",
    "    \"\"\"qubo generates and returns QUBO dictionary\"\"\"\n",
    "    q = {}\n",
    "    for i in range(node_count*node_count):\n",
    "        for j in range(node_count*node_count):\n",
    "            q.update({(i, j): 0})\n",
    "\n",
    "    # Constraint that each row has exactly one 1, constant = N*A\n",
    "    for v in range(node_count):\n",
    "        for j in range(node_count):\n",
    "            q[(key(v, j), key(v, j))] += -1*A\n",
    "            for k in range(j+1, node_count):\n",
    "                q[(key(v, j), key(v, k))] += 2*A\n",
    "                q[(key(v, k), key(v, j))] += 2*A\n",
    "\n",
    "    # Constraint that each column has exactly one 1\n",
    "    for j in range(node_count):\n",
    "        for v in range(node_count):\n",
    "            q[(key(v, j), key(v, j))] += -1*A\n",
    "            for w in range(v+1, node_count):\n",
    "                q[(key(v, j), key(w, j))] += 2*A\n",
    "                q[(key(w, j), key(v, j))] += 2*A\n",
    "\n",
    "    # Objective that minimizes distance\n",
    "    for u in range(node_count):\n",
    "        for v in range(node_count):\n",
    "            if u != v:\n",
    "                for j in range(node_count):\n",
    "                    q[(key(u, j), key(\n",
    "                        v, (j+1) % node_count))] += B*distances[u][v]\n",
    "\n",
    "    return q"
   ]
  },
  {
   "cell_type": "code",
   "execution_count": 10,
   "metadata": {},
   "outputs": [
    {
     "name": "stdout",
     "output_type": "stream",
     "text": [
      "Best route: [0, 1, 4, 3, 2]\n",
      "Cost: 1.6175973894390312\n"
     ]
    }
   ],
   "source": [
    "brute_force_solution = solve_tsp_brute_force(cities, 0)"
   ]
  },
  {
   "cell_type": "code",
   "execution_count": 11,
   "metadata": {},
   "outputs": [],
   "source": [
    "def plot_solution(cities, solution, title):\n",
    "    print(title)\n",
    "    plot_cities(cities)\n",
    "    \n",
    "    plt.xlim([min(cities[:, 0]) - 1, max(cities[:, 0]) + 1])\n",
    "    plt.ylim([min(cities[:, 1]) - 1, max(cities[:, 1]) + 1])\n",
    "    for i in range(len(solution) - 1):\n",
    "        a = i%len(solution)\n",
    "        b = (i+1)%len(solution)\n",
    "        A = solution[a]\n",
    "        B = solution[b]\n",
    "        plt.plot([cities[A, 0], cities[B, 0]], [cities[A, 1], cities[B, 1]], c='r')\n",
    "\n",
    "    cost = calculate_cost(get_distance_matrix(cities), solution)\n",
    "    title_string = \"Cost:\" + str(cost)\n",
    "    title_string += \"\\n\" + str(solution)\n",
    "    plt.title(title_string)"
   ]
  },
  {
   "cell_type": "code",
   "execution_count": 12,
   "metadata": {},
   "outputs": [],
   "source": [
    "distance_matrix = get_distance_matrix(cities)\n",
    "q = qubo(distance_matrix)"
   ]
  },
  {
   "cell_type": "code",
   "execution_count": 13,
   "metadata": {},
   "outputs": [],
   "source": [
    "from dwave_qbsolv import QBSolv\n",
    "dwave_qbsolv_resp = QBSolv().sample_qubo(q)"
   ]
  },
  {
   "cell_type": "code",
   "execution_count": 14,
   "metadata": {},
   "outputs": [],
   "source": [
    "dwave_qbsolv_sample = next(iter(dwave_qbsolv_resp))"
   ]
  },
  {
   "cell_type": "code",
   "execution_count": 15,
   "metadata": {},
   "outputs": [],
   "source": [
    "dwave_qbsolv_route = [-1]*node_count\n",
    "for node in dwave_qbsolv_sample:\n",
    "    if dwave_qbsolv_sample[node]>0:\n",
    "        j = node%node_count\n",
    "        v = (node-j)/node_count\n",
    "        dwave_qbsolv_route[j] = int(v)"
   ]
  },
  {
   "cell_type": "code",
   "execution_count": 16,
   "metadata": {},
   "outputs": [
    {
     "name": "stdout",
     "output_type": "stream",
     "text": [
      "Brute Force Route\n"
     ]
    },
    {
     "data": {
      "image/png": "[encoded data removed]",
      "text/plain": [
       "<Figure size 432x288 with 1 Axes>"
      ]
     },
     "metadata": {
      "needs_background": "light"
     },
     "output_type": "display_data"
    }
   ],
   "source": [
    "plot_solution(cities, brute_force_solution, \"Brute Force Route\")"
   ]
  },
  {
   "cell_type": "code",
   "execution_count": 17,
   "metadata": {},
   "outputs": [
    {
     "name": "stdout",
     "output_type": "stream",
     "text": [
      "D-Wave QBSolv Route\n"
     ]
    },
    {
     "data": {
      "image/png": "[encoded data removed]",
      "text/plain": [
       "<Figure size 432x288 with 1 Axes>"
      ]
     },
     "metadata": {
      "needs_background": "light"
     },
     "output_type": "display_data"
    }
   ],
   "source": [
    "plot_solution(cities, dwave_qbsolv_route, \"D-Wave QBSolv Route\")"
   ]
  }
 ],
 "metadata": {
  "kernelspec": {
   "display_name": "cdl_vqe_py3.7.1",
   "language": "python",
   "name": "cdl_vqe_py3.7.1"
  },
  "language_info": {
   "codemirror_mode": {
    "name": "ipython",
    "version": 3
   },
   "file_extension": ".py",
   "mimetype": "text/x-python",
   "name": "python",
   "nbconvert_exporter": "python",
   "pygments_lexer": "ipython3",
   "version": "3.7.1"
  }
 },
 "nbformat": 4,
 "nbformat_minor": 4
}
