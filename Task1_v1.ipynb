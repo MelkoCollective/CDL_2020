{
  "nbformat": 4,
  "nbformat_minor": 0,
  "metadata": {
    "kernelspec": {
      "display_name": "Python 3",
      "language": "python",
      "name": "python3"
    },
    "language_info": {
      "codemirror_mode": {
        "name": "ipython",
        "version": 3
      },
      "file_extension": ".py",
      "mimetype": "text/x-python",
      "name": "python",
      "nbconvert_exporter": "python",
      "pygments_lexer": "ipython3",
      "version": "3.7.3"
    },
    "toc": {
      "base_numbering": 1,
      "nav_menu": {},
      "number_sections": true,
      "sideBar": true,
      "skip_h1_title": false,
      "title_cell": "Table of Contents",
      "title_sidebar": "Contents",
      "toc_cell": false,
      "toc_position": {},
      "toc_section_display": true,
      "toc_window_display": false
    },
    "varInspector": {
      "cols": {
        "lenName": 16,
        "lenType": 16,
        "lenVar": 40
      },
      "kernels_config": {
        "python": {
          "delete_cmd_postfix": "",
          "delete_cmd_prefix": "del ",
          "library": "var_list.py",
          "varRefreshCmd": "print(var_dic_list())"
        },
        "r": {
          "delete_cmd_postfix": ") ",
          "delete_cmd_prefix": "rm(",
          "library": "var_list.r",
          "varRefreshCmd": "cat(var_dic_list()) "
        }
      },
      "types_to_exclude": [
        "module",
        "function",
        "builtin_function_or_method",
        "instance",
        "_Feature"
      ],
      "window_display": false
    },
    "colab": {
      "name": "Task1_v1.ipynb",
      "provenance": [],
      "collapsed_sections": [],
      "toc_visible": true,
      "include_colab_link": true
    },
    "accelerator": "GPU"
  },
  "cells": [
    {
      "cell_type": "markdown",
      "metadata": {
        "id": "view-in-github",
        "colab_type": "text"
      },
      "source": [
        "<a href=\"https://colab.research.google.com/github/VGGatGitHub/CohortProject_2020_week1/blob/master/Task1_v1.ipynb\" target=\"_parent\"><img src=\"https://colab.research.google.com/assets/colab-badge.svg\" alt=\"Open In Colab\"/></a>"
      ]
    },
    {
      "cell_type": "markdown",
      "metadata": {
        "id": "6zanBY5XU0hl",
        "colab_type": "text"
      },
      "source": [
        "# Task #1 \n",
        "\n",
        "A template code for training an RBM on H$_2$ data for $r = 1.2$ is shown here. Modify this!\n",
        "\n",
        "Imports and loading in data:"
      ]
    },
    {
      "cell_type": "code",
      "metadata": {
        "id": "K9FdZvDwWzUo",
        "colab_type": "code",
        "colab": {
          "base_uri": "https://localhost:8080/",
          "height": 102
        },
        "outputId": "6511200a-a7c3-472b-c314-427c6f9aaac1"
      },
      "source": [
        "! git clone https://github.com/VGGatGitHub/CohortProject_2020_week1.git"
      ],
      "execution_count": 1,
      "outputs": [
        {
          "output_type": "stream",
          "text": [
            "Cloning into 'CohortProject_2020_week1'...\n",
            "remote: Enumerating objects: 723, done.\u001b[K\n",
            "remote: Total 723 (delta 0), reused 0 (delta 0), pack-reused 723\u001b[K\n",
            "Receiving objects: 100% (723/723), 19.37 MiB | 7.26 MiB/s, done.\n",
            "Resolving deltas: 100% (393/393), done.\n"
          ],
          "name": "stdout"
        }
      ]
    },
    {
      "cell_type": "code",
      "metadata": {
        "id": "qsWe-9BxXLOR",
        "colab_type": "code",
        "colab": {
          "base_uri": "https://localhost:8080/",
          "height": 51
        },
        "outputId": "e73ffa21-f7d8-4a81-8488-62c66667c750"
      },
      "source": [
        "!pwd\n",
        "!ls\n",
        "f_loc=\"/content/CohortProject_2020_week1/Project_1_RBM_and_Tomography/\""
      ],
      "execution_count": 2,
      "outputs": [
        {
          "output_type": "stream",
          "text": [
            "/content\n",
            "CohortProject_2020_week1  sample_data\n"
          ],
          "name": "stdout"
        }
      ]
    },
    {
      "cell_type": "code",
      "metadata": {
        "id": "PtA6o9fie0Q9",
        "colab_type": "code",
        "colab": {
          "base_uri": "https://localhost:8080/",
          "height": 34
        },
        "outputId": "a09a786f-dcdd-43e6-f9a8-889f777a732c"
      },
      "source": [
        "import sys\n",
        "sys.path.append(f_loc)\n",
        "\n",
        "import os\n",
        "print(os.getcwd())\n",
        "\n",
        "r_list=[]\n",
        "for dirname, _, filenames in os.walk(f_loc+\"./H2_data/\"):\n",
        "    for filename in filenames:\n",
        "        #print(os.path.join(dirname, filename))\n",
        "        i1=filename.find(\"R_\")\n",
        "        i2=filename.find(\"_s\")\n",
        "        if i2-i1>2:\n",
        "          #print(os.path.join(filename))\n",
        "          r_list.append(filename[i1+2:i2])"
      ],
      "execution_count": 3,
      "outputs": [
        {
          "output_type": "stream",
          "text": [
            "/content\n"
          ],
          "name": "stdout"
        }
      ]
    },
    {
      "cell_type": "code",
      "metadata": {
        "id": "q9nSpQzwiTrw",
        "colab_type": "code",
        "colab": {
          "base_uri": "https://localhost:8080/",
          "height": 935
        },
        "outputId": "83abbb28-aa32-41e3-e321-4bb7e194cb13"
      },
      "source": [
        "r_list"
      ],
      "execution_count": 4,
      "outputs": [
        {
          "output_type": "execute_result",
          "data": {
            "text/plain": [
              "['1.3',\n",
              " '2.3',\n",
              " '2.25',\n",
              " '0.65',\n",
              " '1.85',\n",
              " '2.6',\n",
              " '1.55',\n",
              " '1.75',\n",
              " '1.65',\n",
              " '1.1',\n",
              " '2.4',\n",
              " '1.6',\n",
              " '1.15',\n",
              " '0.6',\n",
              " '2.7',\n",
              " '0.7',\n",
              " '1.45',\n",
              " '1.9',\n",
              " '2.05',\n",
              " '1.8',\n",
              " '2.1',\n",
              " '1.7',\n",
              " '2.5',\n",
              " '0.5',\n",
              " '2.15',\n",
              " '2.75',\n",
              " '2.45',\n",
              " '2.85',\n",
              " '0.45',\n",
              " '1.95',\n",
              " '0.85',\n",
              " '1.0',\n",
              " '1.2',\n",
              " '2.8',\n",
              " '2.35',\n",
              " '0.55',\n",
              " '0.35',\n",
              " '0.2',\n",
              " '0.25',\n",
              " '1.5',\n",
              " '0.3',\n",
              " '0.8',\n",
              " '1.4',\n",
              " '2.2',\n",
              " '1.05',\n",
              " '2.55',\n",
              " '0.95',\n",
              " '2.0',\n",
              " '0.9',\n",
              " '1.35',\n",
              " '0.75',\n",
              " '0.4',\n",
              " '1.25',\n",
              " '2.65']"
            ]
          },
          "metadata": {
            "tags": []
          },
          "execution_count": 4
        }
      ]
    },
    {
      "cell_type": "code",
      "metadata": {
        "id": "c91D_sUVexo8",
        "colab_type": "code",
        "colab": {}
      },
      "source": [
        "import numpy as np\n",
        "import torch\n",
        "import matplotlib.pyplot as plt\n",
        "\n",
        "from RBM_helper import RBM\n",
        "\n",
        "import H2_energy_calculator\n"
      ],
      "execution_count": 5,
      "outputs": []
    },
    {
      "cell_type": "code",
      "metadata": {
        "ExecuteTime": {
          "end_time": "2020-06-26T14:55:19.174279Z",
          "start_time": "2020-06-26T14:55:16.177972Z"
        },
        "id": "aCKBqLsgU0hn",
        "colab_type": "code",
        "colab": {
          "base_uri": "https://localhost:8080/",
          "height": 34
        },
        "outputId": "1c70246d-472e-4830-9011-7b96ae4dd88c"
      },
      "source": [
        "coefficients = np.loadtxt(f_loc+\"H2_data/H2_coefficients.txt\")\n",
        "coeff=coefficients[20,:]\n",
        "r=coeff[0]\n",
        "\n",
        "training_data = torch.from_numpy(np.loadtxt(f_loc+\"H2_data/R_\"+str(r)+\"_samples.txt\"))\n",
        "true_energy = H2_energy_calculator.energy_from_freq(training_data, coeff)\n",
        "print(\"H2 energy for r = \",r,\" :\",true_energy)"
      ],
      "execution_count": 6,
      "outputs": [
        {
          "output_type": "stream",
          "text": [
            "H2 energy for r =  1.2  : -1.0642022250418146\n"
          ],
          "name": "stdout"
        }
      ]
    },
    {
      "cell_type": "code",
      "metadata": {
        "id": "RPvjr4Ff9X0T",
        "colab_type": "code",
        "colab": {
          "base_uri": "https://localhost:8080/",
          "height": 34
        },
        "outputId": "9877faeb-65f0-4a67-ac3e-b4935ab8173c"
      },
      "source": [
        "len(r_list)"
      ],
      "execution_count": 7,
      "outputs": [
        {
          "output_type": "execute_result",
          "data": {
            "text/plain": [
              "54"
            ]
          },
          "metadata": {
            "tags": []
          },
          "execution_count": 7
        }
      ]
    },
    {
      "cell_type": "code",
      "metadata": {
        "id": "jif_j1Xnlx_0",
        "colab_type": "code",
        "colab": {
          "base_uri": "https://localhost:8080/",
          "height": 34
        },
        "outputId": "4e3eeadc-246f-4229-ab06-eaff6d53851a"
      },
      "source": [
        "len(coefficients)"
      ],
      "execution_count": 8,
      "outputs": [
        {
          "output_type": "execute_result",
          "data": {
            "text/plain": [
              "54"
            ]
          },
          "metadata": {
            "tags": []
          },
          "execution_count": 8
        }
      ]
    },
    {
      "cell_type": "code",
      "metadata": {
        "id": "liEXoLKskGdn",
        "colab_type": "code",
        "colab": {
          "base_uri": "https://localhost:8080/",
          "height": 51
        },
        "outputId": "04c9753c-bfcc-4266-cfd6-67cca18e589c"
      },
      "source": [
        "coeff\n"
      ],
      "execution_count": 9,
      "outputs": [
        {
          "output_type": "execute_result",
          "data": {
            "text/plain": [
              "array([ 1.2   , -0.1253,  0.2374, -0.1603,  0.4892,  0.105 ,  0.105 ,\n",
              "        5.9509])"
            ]
          },
          "metadata": {
            "tags": []
          },
          "execution_count": 9
        }
      ]
    },
    {
      "cell_type": "code",
      "metadata": {
        "id": "kptqcCAykxiR",
        "colab_type": "code",
        "colab": {
          "base_uri": "https://localhost:8080/",
          "height": 34
        },
        "outputId": "9287ad99-3ac4-415c-ac8b-59db076f1f3a"
      },
      "source": [
        "training_data.detach().numpy().shape"
      ],
      "execution_count": 10,
      "outputs": [
        {
          "output_type": "execute_result",
          "data": {
            "text/plain": [
              "(10000, 2)"
            ]
          },
          "metadata": {
            "tags": []
          },
          "execution_count": 10
        }
      ]
    },
    {
      "cell_type": "markdown",
      "metadata": {
        "id": "DeN2tCwUU0hs",
        "colab_type": "text"
      },
      "source": [
        "Define the RBM:"
      ]
    },
    {
      "cell_type": "code",
      "metadata": {
        "id": "B1yURYyQm1aN",
        "colab_type": "code",
        "colab": {}
      },
      "source": [
        "rs=[]\n",
        "for i in range(len(coefficients)):\n",
        "  coeff=coefficients[i,:]\n",
        "  r=coeff[0]\n",
        "  rs.append(r)"
      ],
      "execution_count": 11,
      "outputs": []
    },
    {
      "cell_type": "code",
      "metadata": {
        "ExecuteTime": {
          "end_time": "2020-06-26T14:55:21.183670Z",
          "start_time": "2020-06-26T14:55:21.179123Z"
        },
        "id": "iT6Ory-LU0ht",
        "colab_type": "code",
        "colab": {}
      },
      "source": [
        "n_vis = 2\n",
        "n_hin = 10\n",
        "\n",
        "rbm = RBM(n_vis, n_hin)"
      ],
      "execution_count": 12,
      "outputs": []
    },
    {
      "cell_type": "markdown",
      "metadata": {
        "id": "qzqhqLmPU0hw",
        "colab_type": "text"
      },
      "source": [
        "Train the RBM:"
      ]
    },
    {
      "cell_type": "code",
      "metadata": {
        "ExecuteTime": {
          "end_time": "2020-06-26T14:56:24.307961Z",
          "start_time": "2020-06-26T14:55:39.819468Z"
        },
        "id": "Wc9qzvX1U0hx",
        "colab_type": "code",
        "colab": {
          "base_uri": "https://localhost:8080/",
          "height": 935
        },
        "outputId": "cd533753-aeba-42ff-d545-e4c00d703f4b"
      },
      "source": [
        "epochs = 500 # number of training steps\n",
        "num_samples = 1000 # number of samples to generate from the RBM to calculate the H2 energy\n",
        "printing=100 # when to print intermidiate results\n",
        "\n",
        "rs=[]\n",
        "true_energies=[]\n",
        "computed_Es=[]\n",
        "cmpted_Es=np.empty((epochs//printing,len(coefficients)))\n",
        "\n",
        "for i in range(len(coefficients)-1,-1,-1):\n",
        "  coeff=coefficients[i,:]\n",
        "  r=coeff[0]\n",
        "  rs.append(r)\n",
        "  #rbm = RBM(n_vis, n_hin)\n",
        "\n",
        "  training_data = torch.from_numpy(np.loadtxt(f_loc+\"H2_data/R_\"+str(r)+\"_samples.txt\"))\n",
        "  true_energy = H2_energy_calculator.energy_from_freq(training_data, coeff)\n",
        "\n",
        "  true_energies.append(true_energy)\n",
        "  #print(\"H2 energy for r =\\t\",r,\"\\t:\",true_energy)\n",
        "\n",
        "  for e in range(1, epochs+1):\n",
        "      # do one epoch of training\n",
        "      rbm.train(training_data)   \n",
        "  \n",
        "      # now generate samples and calculate the energy\n",
        "      if e % printing == 0:\n",
        "          #print(\"\\nEpoch: \", e)\n",
        "          #print(\"Sampling the RBM...\")\n",
        "\n",
        "          # For sampling the RBM, we need to do Gibbs sampling.\n",
        "          # Initialize the Gibbs sampling chain with init_state as defined below.\n",
        "          init_state = torch.zeros(num_samples, n_vis)\n",
        "          RBM_samples = rbm.draw_samples(15, init_state)\n",
        "\n",
        "          #print(\"Done sampling. Calculating energy...\")       \n",
        "  \n",
        "          energies = H2_energy_calculator.energy(RBM_samples, coeff, rbm.wavefunction)\n",
        "          #print(\"Energy from RBM samples: \", energies.item())\n",
        "  \n",
        "          cmpted_Es[e//printing-1,i]=energies.item()\n",
        "      \n",
        "      init_state = torch.zeros(num_samples, n_vis)\n",
        "      RBM_samples = rbm.draw_samples(15, init_state)\n",
        "      energies = H2_energy_calculator.energy(RBM_samples, coeff, rbm.wavefunction)\n",
        "      RBM_energy = energies.item()\n",
        "      if 100*abs(1-RBM_energy/true_energy) < 1.0:\n",
        "        break\n",
        "  \n",
        "  energies = H2_energy_calculator.energy(RBM_samples, coeff, rbm.wavefunction)\n",
        "  RBM_energy = energies.item()\n",
        "  computed_Es.append(RBM_energy)\n",
        "  print(\"H2 energy for r ={:6.3f}, E={:7.3f}, E_rmb={:7.3f}, diff:{:5.1f}%\".format(\n",
        "      r,true_energy,RBM_energy,100*abs(1-RBM_energy/true_energy)))\n"
      ],
      "execution_count": 13,
      "outputs": [
        {
          "output_type": "stream",
          "text": [
            "H2 energy for r = 2.850, E= -0.943, E_rmb= -0.936, diff:  0.7%\n",
            "H2 energy for r = 2.800, E= -0.943, E_rmb= -0.937, diff:  0.7%\n",
            "H2 energy for r = 2.750, E= -0.943, E_rmb= -0.937, diff:  0.6%\n",
            "H2 energy for r = 2.700, E= -0.944, E_rmb= -0.935, diff:  0.9%\n",
            "H2 energy for r = 2.650, E= -0.944, E_rmb= -0.936, diff:  0.9%\n",
            "H2 energy for r = 2.600, E= -0.944, E_rmb= -0.939, diff:  0.6%\n",
            "H2 energy for r = 2.550, E= -0.945, E_rmb= -0.935, diff:  1.0%\n",
            "H2 energy for r = 2.500, E= -0.945, E_rmb= -0.937, diff:  0.8%\n",
            "H2 energy for r = 2.450, E= -0.945, E_rmb= -0.939, diff:  0.7%\n",
            "H2 energy for r = 2.400, E= -0.946, E_rmb= -0.937, diff:  0.9%\n",
            "H2 energy for r = 2.350, E= -0.947, E_rmb= -0.940, diff:  0.7%\n",
            "H2 energy for r = 2.300, E= -0.948, E_rmb= -0.942, diff:  0.6%\n",
            "H2 energy for r = 2.250, E= -0.949, E_rmb= -0.940, diff:  1.0%\n",
            "H2 energy for r = 2.200, E= -0.950, E_rmb= -0.942, diff:  0.9%\n",
            "H2 energy for r = 2.150, E= -0.952, E_rmb= -0.945, diff:  0.7%\n",
            "H2 energy for r = 2.100, E= -0.953, E_rmb= -0.948, diff:  0.6%\n",
            "H2 energy for r = 2.050, E= -0.955, E_rmb= -0.950, diff:  0.6%\n",
            "H2 energy for r = 2.000, E= -0.958, E_rmb= -0.949, diff:  0.9%\n",
            "H2 energy for r = 1.950, E= -0.960, E_rmb= -0.951, diff:  1.0%\n",
            "H2 energy for r = 1.900, E= -0.963, E_rmb= -0.955, diff:  0.9%\n",
            "H2 energy for r = 1.850, E= -0.967, E_rmb= -0.959, diff:  0.8%\n",
            "H2 energy for r = 1.800, E= -0.971, E_rmb= -0.965, diff:  0.6%\n",
            "H2 energy for r = 1.750, E= -0.975, E_rmb= -0.966, diff:  0.9%\n",
            "H2 energy for r = 1.700, E= -0.980, E_rmb= -0.970, diff:  1.0%\n",
            "H2 energy for r = 1.650, E= -0.986, E_rmb= -0.976, diff:  1.0%\n",
            "H2 energy for r = 1.600, E= -0.992, E_rmb= -0.988, diff:  0.4%\n",
            "H2 energy for r = 1.550, E= -0.999, E_rmb= -0.994, diff:  0.5%\n",
            "H2 energy for r = 1.500, E= -1.007, E_rmb= -0.997, diff:  1.0%\n",
            "H2 energy for r = 1.450, E= -1.015, E_rmb= -1.005, diff:  1.0%\n",
            "H2 energy for r = 1.400, E= -1.024, E_rmb= -1.014, diff:  1.0%\n",
            "H2 energy for r = 1.350, E= -1.033, E_rmb= -1.028, diff:  0.5%\n",
            "H2 energy for r = 1.300, E= -1.043, E_rmb= -1.033, diff:  1.0%\n",
            "H2 energy for r = 1.250, E= -1.053, E_rmb= -1.044, diff:  0.9%\n",
            "H2 energy for r = 1.200, E= -1.064, E_rmb= -1.056, diff:  0.7%\n",
            "H2 energy for r = 1.150, E= -1.075, E_rmb= -1.065, diff:  0.9%\n",
            "H2 energy for r = 1.100, E= -1.087, E_rmb= -1.076, diff:  1.0%\n",
            "H2 energy for r = 1.050, E= -1.098, E_rmb= -1.091, diff:  0.7%\n",
            "H2 energy for r = 1.000, E= -1.109, E_rmb= -1.099, diff:  0.8%\n",
            "H2 energy for r = 0.950, E= -1.119, E_rmb= -1.109, diff:  1.0%\n",
            "H2 energy for r = 0.900, E= -1.129, E_rmb= -1.124, diff:  0.4%\n",
            "H2 energy for r = 0.850, E= -1.137, E_rmb= -1.126, diff:  0.9%\n",
            "H2 energy for r = 0.800, E= -1.143, E_rmb= -1.136, diff:  0.6%\n",
            "H2 energy for r = 0.750, E= -1.146, E_rmb= -1.139, diff:  0.6%\n",
            "H2 energy for r = 0.700, E= -1.145, E_rmb= -1.136, diff:  0.8%\n",
            "H2 energy for r = 0.650, E= -1.139, E_rmb= -1.131, diff:  0.7%\n",
            "H2 energy for r = 0.600, E= -1.126, E_rmb= -1.117, diff:  0.8%\n",
            "H2 energy for r = 0.550, E= -1.102, E_rmb= -1.093, diff:  0.8%\n",
            "H2 energy for r = 0.500, E= -1.065, E_rmb= -1.056, diff:  0.8%\n",
            "H2 energy for r = 0.450, E= -1.009, E_rmb= -1.000, diff:  0.9%\n",
            "H2 energy for r = 0.400, E= -0.925, E_rmb= -0.916, diff:  0.9%\n",
            "H2 energy for r = 0.350, E= -0.801, E_rmb= -0.793, diff:  0.9%\n",
            "H2 energy for r = 0.300, E= -0.613, E_rmb= -0.611, diff:  0.4%\n",
            "H2 energy for r = 0.250, E= -0.324, E_rmb= -0.322, diff:  0.7%\n",
            "H2 energy for r = 0.200, E=  0.144, E_rmb=  0.145, diff:  0.8%\n"
          ],
          "name": "stdout"
        }
      ]
    },
    {
      "cell_type": "code",
      "metadata": {
        "id": "d8osCOoCAix5",
        "colab_type": "code",
        "colab": {
          "base_uri": "https://localhost:8080/",
          "height": 285
        },
        "outputId": "1cbb7172-aebe-4c9f-bd1a-91435c3a773a"
      },
      "source": [
        "import matplotlib.pyplot as plt\n",
        "%matplotlib inline\n",
        "#plt.xlim(-2, 2)\n",
        "#plt.ylim(0, 1.1)\n",
        "plt.plot(rs, true_energies,'k')\n",
        "plt.plot(rs, computed_Es,'r')"
      ],
      "execution_count": 16,
      "outputs": [
        {
          "output_type": "execute_result",
          "data": {
            "text/plain": [
              "[<matplotlib.lines.Line2D at 0x7f0a0868ce80>]"
            ]
          },
          "metadata": {
            "tags": []
          },
          "execution_count": 16
        },
        {
          "output_type": "display_data",
          "data": {
            "image/png": "[encoded data removed]",
            "text/plain": [
              "<Figure size 432x288 with 1 Axes>"
            ]
          },
          "metadata": {
            "tags": [],
            "needs_background": "light"
          }
        }
      ]
    },
    {
      "cell_type": "code",
      "metadata": {
        "id": "Y0ZXmQV3uNsY",
        "colab_type": "code",
        "colab": {
          "base_uri": "https://localhost:8080/",
          "height": 269
        },
        "outputId": "a7d148a1-3ddb-49f8-ff32-e090458d4576"
      },
      "source": [
        "import matplotlib.pyplot as plt\n",
        "%matplotlib inline\n",
        "plt.xlim(0, 3)\n",
        "plt.ylim(-1.2, 0.2)\n",
        "plt.plot(rs, true_energies,'k')\n",
        "plt.plot(rs, computed_Es,'r')\n",
        "for i in range(epochs//printing):\n",
        "  plt.plot(rs, cmpted_Es[i,:])"
      ],
      "execution_count": 17,
      "outputs": [
        {
          "output_type": "display_data",
          "data": {
            "image/png": "[encoded data removed]",
            "text/plain": [
              "<Figure size 432x288 with 1 Axes>"
            ]
          },
          "metadata": {
            "tags": [],
            "needs_background": "light"
          }
        }
      ]
    }
  ]
}