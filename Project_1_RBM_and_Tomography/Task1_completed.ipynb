{
 "cells": [
  {
   "cell_type": "markdown",
   "metadata": {},
   "source": [
    "# Task #1 \n",
    "\n",
    "Training an RBM to reconstruct the potential energy of moleculary Hydrogen as the distance between the H atoms changes.\n",
    "\n"
   ]
  },
  {
   "cell_type": "code",
   "execution_count": 1,
   "metadata": {
    "ExecuteTime": {
     "end_time": "2020-06-26T14:55:19.174279Z",
     "start_time": "2020-06-26T14:55:16.177972Z"
    }
   },
   "outputs": [],
   "source": [
    "# importing necessary library and classes\n",
    "import numpy as np\n",
    "import torch\n",
    "import matplotlib.pyplot as plt\n",
    "\n",
    "from RBM_helper import RBM\n",
    "\n",
    "import H2_energy_calculator\n"
   ]
  },
  {
   "cell_type": "markdown",
   "metadata": {},
   "source": [
    "# Training over all values of r"
   ]
  },
  {
   "cell_type": "code",
   "execution_count": 14,
   "metadata": {},
   "outputs": [],
   "source": [
    "from glob import glob\n",
    "\n",
    "coeff = np.loadtxt(\"H2_coefficients.txt\")\n",
    "data_set = []\n",
    "\n",
    "\n",
    "n_vis = 2\n",
    "n_hin = 10\n",
    "\n",
    "epochs = 900 # number of training steps\n",
    "num_samples = 1000 # number of samples to generate from the RBM to calculate the H2 energy\n",
    "\n",
    "#loading all the data files\n",
    "for file in glob(\"R_*.*_samples.txt\"):\n",
    "    r_data = []\n",
    "    \n",
    "    training_data = torch.from_numpy(np.loadtxt(file))\n",
    "    r = float(file.split(\"_\")[1])\n",
    "    \n",
    "    r_data.append(r)\n",
    "    \n",
    "    for i in range(len(coeff)):\n",
    "        if coeff[i][0] == r:\n",
    "            r_coeff = coeff[i,:]          \n",
    "    \n",
    "    true_E = H2_energy_calculator.energy_from_freq(training_data, r_coeff)\n",
    "    r_data.append(true_E)\n",
    "    \n",
    "    #print(\"True Energies for r = {} : {}\".format(r,true_E))\n",
    "    \n",
    "    rbm = RBM(n_vis, n_hin)\n",
    "    # training of RBM\n",
    "    for e in range(1, epochs+1):\n",
    "        rbm.train(training_data, batch_size = 150, lr = 0.02 )# parameters that affect the performance of RBM\n",
    "        \n",
    "    init_state = torch.zeros(num_samples, n_vis)\n",
    "    RBM_samples = rbm.draw_samples(30, init_state) # number of gibbs steps for eg 30\n",
    "    \n",
    "    energies = H2_energy_calculator.energy(RBM_samples, r_coeff, rbm.wavefunction)\n",
    "    #print(\"RBM Engeries:\", energies.item())\n",
    "    \n",
    "    r_data.append(energies.item())\n",
    "    data_set.append(r_data)"
   ]
  },
  {
   "cell_type": "code",
   "execution_count": 15,
   "metadata": {},
   "outputs": [],
   "source": [
    "data_set_1 = np.array(data_set)\n",
    "data_set_1 = data_set_1[np.argsort(data_set_1[:,0])] #Sort the Array by the values of r"
   ]
  },
  {
   "cell_type": "markdown",
   "metadata": {},
   "source": [
    "# Plotting the data"
   ]
  },
  {
   "cell_type": "code",
   "execution_count": 16,
   "metadata": {},
   "outputs": [
    {
     "data": {
      "image/png": "[encoded data removed]",
      "text/plain": [
       "<Figure size 432x288 with 1 Axes>"
      ]
     },
     "metadata": {
      "needs_background": "light"
     },
     "output_type": "display_data"
    }
   ],
   "source": [
    "%matplotlib inline\n",
    "\n",
    "r_values      = data_set_1[:,0]\n",
    "true_Energies = data_set_1[:,1]\n",
    "RBM_Energies  = data_set_1[:,2]\n",
    "\n",
    "from matplotlib import pyplot as plt\n",
    "\n",
    "plt.title(\"H2 Energies\") \n",
    "plt.xlabel(\"radius A\") \n",
    "plt.ylabel(\"Energy\") \n",
    "plt.plot(r_values,true_Energies,label=\"True Engery\") \n",
    "plt.plot(r_values,RBM_Energies,label=\"RBM Energy\")\n",
    "plt.legend(loc=\"upper right\")\n",
    "plt.show()"
   ]
  },
  {
   "cell_type": "code",
   "execution_count": 2,
   "metadata": {},
   "outputs": [],
   "source": [
    "## T.Anandakkoomar , Sabhyata Gupta"
   ]
  },
  {
   "cell_type": "code",
   "execution_count": null,
   "metadata": {},
   "outputs": [],
   "source": []
  }
 ],
 "metadata": {
  "kernelspec": {
   "display_name": "Python 3",
   "language": "python",
   "name": "python3"
  },
  "language_info": {
   "codemirror_mode": {
    "name": "ipython",
    "version": 3
   },
   "file_extension": ".py",
   "mimetype": "text/x-python",
   "name": "python",
   "nbconvert_exporter": "python",
   "pygments_lexer": "ipython3",
   "version": "3.7.3"
  },
  "toc": {
   "base_numbering": 1,
   "nav_menu": {},
   "number_sections": true,
   "sideBar": true,
   "skip_h1_title": false,
   "title_cell": "Table of Contents",
   "title_sidebar": "Contents",
   "toc_cell": false,
   "toc_position": {},
   "toc_section_display": true,
   "toc_window_display": false
  },
  "varInspector": {
   "cols": {
    "lenName": 16,
    "lenType": 16,
    "lenVar": 40
   },
   "kernels_config": {
    "python": {
     "delete_cmd_postfix": "",
     "delete_cmd_prefix": "del ",
     "library": "var_list.py",
     "varRefreshCmd": "print(var_dic_list())"
    },
    "r": {
     "delete_cmd_postfix": ") ",
     "delete_cmd_prefix": "rm(",
     "library": "var_list.r",
     "varRefreshCmd": "cat(var_dic_list()) "
    }
   },
   "types_to_exclude": [
    "module",
    "function",
    "builtin_function_or_method",
    "instance",
    "_Feature"
   ],
   "window_display": false
  }
 },
 "nbformat": 4,
 "nbformat_minor": 2
}
