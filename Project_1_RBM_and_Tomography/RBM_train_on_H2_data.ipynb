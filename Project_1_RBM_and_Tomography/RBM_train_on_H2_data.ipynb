{
 "cells": [
  {
   "cell_type": "code",
   "execution_count": 1,
   "metadata": {
    "ExecuteTime": {
     "end_time": "2020-06-08T09:38:34.336672Z",
     "start_time": "2020-06-08T09:38:33.550726Z"
    }
   },
   "outputs": [],
   "source": [
    "import numpy as np\n",
    "import matplotlib.pyplot as plt"
   ]
  },
  {
   "cell_type": "markdown",
   "metadata": {},
   "source": [
    "## Get Energy of H2 molecule from samples"
   ]
  },
  {
   "cell_type": "code",
   "execution_count": 2,
   "metadata": {
    "ExecuteTime": {
     "end_time": "2020-06-08T08:27:54.768459Z",
     "start_time": "2020-06-08T08:27:54.548219Z"
    }
   },
   "outputs": [],
   "source": [
    "folder = \"H2_data/\"\n",
    "filename_wvfct = \"R_0.2_psi.txt\"\n",
    "filename_samples = \"R_0.2_samples.txt\"\n",
    "\n",
    "samples = np.loadtxt(folder + filename_samples)\n",
    "wvfct = np.loadtxt(folder + filename_wvfct)"
   ]
  },
  {
   "cell_type": "markdown",
   "metadata": {},
   "source": [
    "### Load coefficients\n",
    "\n",
    "The coefficients are from https://arxiv.org/pdf/1512.06860.pdf from the appendix"
   ]
  },
  {
   "cell_type": "code",
   "execution_count": 3,
   "metadata": {
    "ExecuteTime": {
     "end_time": "2020-06-08T09:33:53.298148Z",
     "start_time": "2020-06-08T09:33:53.291168Z"
    }
   },
   "outputs": [],
   "source": [
    "coeff = np.loadtxt(\"H2_coefficients.txt\")"
   ]
  },
  {
   "cell_type": "markdown",
   "metadata": {},
   "source": [
    "### Find frequency / probability of all measurements"
   ]
  },
  {
   "cell_type": "code",
   "execution_count": 4,
   "metadata": {
    "ExecuteTime": {
     "end_time": "2020-06-08T08:51:42.837902Z",
     "start_time": "2020-06-08T08:51:42.831349Z"
    }
   },
   "outputs": [
    {
     "name": "stdout",
     "output_type": "stream",
     "text": [
      "[0.     0.0015 0.9985 0.    ]\n"
     ]
    }
   ],
   "source": [
    "basis = np.array([[0.0, 0.0], [0.0, 1.0], [1.0, 0.0], [1.0, 1.0]])\n",
    "\n",
    "def find_sample_frequency(samples):\n",
    "    freq = []\n",
    "    for b in basis:\n",
    "        l = len(np.where((samples == b).all(axis=1))[0])\n",
    "        freq.append(l)\n",
    "    return np.array(freq) / samples.shape[0]\n",
    "\n",
    "freq = find_sample_frequency(samples)\n",
    "print(freq)"
   ]
  },
  {
   "cell_type": "markdown",
   "metadata": {},
   "source": [
    "### Define all operators of Hamiltonian"
   ]
  },
  {
   "cell_type": "code",
   "execution_count": 5,
   "metadata": {
    "ExecuteTime": {
     "end_time": "2020-06-08T12:28:30.030318Z",
     "start_time": "2020-06-08T12:28:30.010919Z"
    }
   },
   "outputs": [],
   "source": [
    "def one(freq):\n",
    "    return freq.sum()\n",
    "\n",
    "def Z0(freq):\n",
    "    return freq[:2].sum() - freq[2:4].sum()\n",
    "\n",
    "def Z1(freq):\n",
    "    return freq[[0,2]].sum() - freq[[1,3]].sum()\n",
    "\n",
    "def Z0Z1(freq):\n",
    "    return freq[[0,3]].sum() - freq[[1,2]].sum()\n",
    "\n",
    "def X0X1(freq):\n",
    "    return 2*np.sqrt(freq)[[1,2]].prod() + 2*np.sqrt(freq)[[0,3]].prod()\n",
    "\n",
    "def Y0Y1(freq):\n",
    "    return 2*np.sqrt(freq)[[1,2]].prod() - 2*np.sqrt(freq)[[0,3]].prod() # Y0Y1 gives minus sign to [00] and [11]"
   ]
  },
  {
   "cell_type": "code",
   "execution_count": 6,
   "metadata": {},
   "outputs": [
    {
     "name": "stdout",
     "output_type": "stream",
     "text": [
      "[0.03872983 0.99924972]\n",
      "-0.9970000000000001\n"
     ]
    }
   ],
   "source": [
    "print(np.sqrt(freq)[[1,2]])\n",
    "\n",
    "print(Z0(freq))"
   ]
  },
  {
   "cell_type": "markdown",
   "metadata": {},
   "source": [
    "### Define Hamiltonian"
   ]
  },
  {
   "cell_type": "code",
   "execution_count": 7,
   "metadata": {
    "ExecuteTime": {
     "end_time": "2020-06-08T12:24:41.893679Z",
     "start_time": "2020-06-08T12:24:41.889212Z"
    }
   },
   "outputs": [],
   "source": [
    "def energy(samples, coeff):\n",
    "    f = find_sample_frequency(samples)\n",
    "    c1, c2, c3, c4, c5, c6 = coeff[1:-1]\n",
    "    return c1*one(f) + c2*Z0(f) + c3*Z1(f) + c4*Z0Z1(f) - c5*X0X1(f) - c5*Y0Y1(f)"
   ]
  },
  {
   "cell_type": "code",
   "execution_count": 8,
   "metadata": {
    "ExecuteTime": {
     "end_time": "2020-06-08T12:24:42.465695Z",
     "start_time": "2020-06-08T12:24:42.459124Z"
    }
   },
   "outputs": [
    {
     "data": {
      "text/plain": [
       "0.1442108747311382"
      ]
     },
     "execution_count": 8,
     "metadata": {},
     "output_type": "execute_result"
    }
   ],
   "source": [
    "energy(samples, coeff[0])"
   ]
  },
  {
   "cell_type": "markdown",
   "metadata": {},
   "source": [
    "### Get all the energies for different R"
   ]
  },
  {
   "cell_type": "code",
   "execution_count": 9,
   "metadata": {
    "ExecuteTime": {
     "end_time": "2020-06-08T12:24:46.318791Z",
     "start_time": "2020-06-08T12:24:43.499139Z"
    },
    "scrolled": true
   },
   "outputs": [
    {
     "name": "stdout",
     "output_type": "stream",
     "text": [
      "0.1442108747311382\n",
      "-0.32393547532546085\n",
      "-0.6129039934108025\n",
      "-0.8005095231150423\n",
      "-0.9252580817605964\n",
      "-1.0090086249753596\n",
      "-1.065391290215357\n",
      "-1.1022968998091112\n",
      "-1.1255870371941183\n",
      "-1.1389408436501118\n",
      "-1.1449518561275118\n",
      "-1.1455985374846123\n",
      "-1.1426275996357371\n",
      "-1.1366197707399515\n",
      "-1.1285246121015233\n",
      "-1.11929731061878\n",
      "-1.1088894817596542\n",
      "-1.0980083757150465\n",
      "-1.0868155659324854\n",
      "-1.0753656599951447\n",
      "-1.0642022250418144\n",
      "-1.0534371372280913\n",
      "-1.0429909176307628\n",
      "-1.0329255626795484\n",
      "-1.0235793844779455\n",
      "-1.0148219637906388\n",
      "-1.0066304034616804\n",
      "-0.999024596529867\n",
      "-0.9922208295295207\n",
      "-0.9858019801897506\n",
      "-0.9800155269872983\n",
      "-0.9751547052866762\n",
      "-0.9708063813726301\n",
      "-0.96681942503982\n",
      "-0.9632910274850662\n",
      "-0.9603380642016857\n",
      "-0.9576117229960117\n",
      "-0.9552226828746919\n",
      "-0.953433481076329\n",
      "-0.9515983821584779\n",
      "-0.9501822397766282\n",
      "-0.9490056352051296\n",
      "-0.9478686468761977\n",
      "-0.9469689234886284\n",
      "-0.9461560561584954\n",
      "-0.9454307947133702\n",
      "-0.9448669090603317\n",
      "-0.9445449709801791\n",
      "-0.9441460761802778\n",
      "-0.9438417682698375\n",
      "-0.9436642235552213\n",
      "-0.9432234998867721\n",
      "-0.9431717178456401\n"
     ]
    },
    {
     "data": {
      "image/png": "[encoded data removed]",
      "text/plain": [
       "<Figure size 432x288 with 1 Axes>"
      ]
     },
     "metadata": {
      "needs_background": "light"
     },
     "output_type": "display_data"
    }
   ],
   "source": [
    "energies = []\n",
    "x_axis = []\n",
    "for i in range(53):\n",
    "    R = coeff[i][0]\n",
    "    try: \n",
    "        filename_samples = \"R_{}_samples.txt\".format(R)\n",
    "        samples = np.loadtxt(folder + filename_samples)\n",
    "        E = energy(samples, coeff[i])\n",
    "        energies.append(E)\n",
    "        x_axis.append(R)\n",
    "        print(E)\n",
    "    except:\n",
    "        print(\"No sample file for R = {}\".format(R))\n",
    "        \n",
    "plt.plot(x_axis, energies)\n",
    "plt.show()"
   ]
  },
  {
   "cell_type": "markdown",
   "metadata": {},
   "source": [
    "## Next step: Train RBM on this data and sample from it\n",
    "\n",
    "\n"
   ]
  },
  {
   "cell_type": "code",
   "execution_count": null,
   "metadata": {},
   "outputs": [],
   "source": []
  }
 ],
 "metadata": {
  "kernelspec": {
   "display_name": "Python 3",
   "language": "python",
   "name": "python3"
  },
  "language_info": {
   "codemirror_mode": {
    "name": "ipython",
    "version": 3
   },
   "file_extension": ".py",
   "mimetype": "text/x-python",
   "name": "python",
   "nbconvert_exporter": "python",
   "pygments_lexer": "ipython3",
   "version": "3.7.3"
  },
  "toc": {
   "base_numbering": 1,
   "nav_menu": {},
   "number_sections": true,
   "sideBar": true,
   "skip_h1_title": false,
   "title_cell": "Table of Contents",
   "title_sidebar": "Contents",
   "toc_cell": false,
   "toc_position": {},
   "toc_section_display": true,
   "toc_window_display": false
  },
  "varInspector": {
   "cols": {
    "lenName": 16,
    "lenType": 16,
    "lenVar": 40
   },
   "kernels_config": {
    "python": {
     "delete_cmd_postfix": "",
     "delete_cmd_prefix": "del ",
     "library": "var_list.py",
     "varRefreshCmd": "print(var_dic_list())"
    },
    "r": {
     "delete_cmd_postfix": ") ",
     "delete_cmd_prefix": "rm(",
     "library": "var_list.r",
     "varRefreshCmd": "cat(var_dic_list()) "
    }
   },
   "types_to_exclude": [
    "module",
    "function",
    "builtin_function_or_method",
    "instance",
    "_Feature"
   ],
   "window_display": false
  }
 },
 "nbformat": 4,
 "nbformat_minor": 4
}
