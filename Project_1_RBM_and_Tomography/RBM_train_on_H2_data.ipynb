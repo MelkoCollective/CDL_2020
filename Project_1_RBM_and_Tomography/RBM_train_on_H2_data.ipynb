{
 "cells": [
  {
   "cell_type": "code",
   "execution_count": 57,
   "metadata": {
    "ExecuteTime": {
     "end_time": "2020-06-08T09:38:34.336672Z",
     "start_time": "2020-06-08T09:38:33.550726Z"
    }
   },
   "outputs": [],
   "source": [
    "import numpy as np\n",
    "import matplotlib.pyplot as plt"
   ]
  },
  {
   "cell_type": "code",
   "execution_count": 9,
   "metadata": {
    "ExecuteTime": {
     "end_time": "2020-06-08T08:27:54.768459Z",
     "start_time": "2020-06-08T08:27:54.548219Z"
    }
   },
   "outputs": [],
   "source": [
    "folder = \"H2_data/\"\n",
    "filename_wvfct = \"R_0.2_psi.txt\"\n",
    "filename_samples = \"R_0.2_samples.txt\"\n",
    "\n",
    "samples = np.loadtxt(folder + filename_samples)\n",
    "wvfct = np.loadtxt(folder + filename_wvfct)"
   ]
  },
  {
   "cell_type": "code",
   "execution_count": 50,
   "metadata": {
    "ExecuteTime": {
     "end_time": "2020-06-08T09:33:53.298148Z",
     "start_time": "2020-06-08T09:33:53.291168Z"
    }
   },
   "outputs": [],
   "source": [
    "coeff = np.loadtxt(\"H2_coefficients.txt\")"
   ]
  },
  {
   "cell_type": "code",
   "execution_count": 13,
   "metadata": {
    "ExecuteTime": {
     "end_time": "2020-06-08T08:36:23.544906Z",
     "start_time": "2020-06-08T08:36:23.524626Z"
    }
   },
   "outputs": [
    {
     "data": {
      "text/plain": [
       "10000"
      ]
     },
     "execution_count": 13,
     "metadata": {},
     "output_type": "execute_result"
    }
   ],
   "source": [
    "len(samples)"
   ]
  },
  {
   "cell_type": "code",
   "execution_count": 26,
   "metadata": {
    "ExecuteTime": {
     "end_time": "2020-06-08T08:51:42.837902Z",
     "start_time": "2020-06-08T08:51:42.831349Z"
    }
   },
   "outputs": [],
   "source": [
    "basis = np.array([[0.0, 0.0], [0.0, 1.0], [1.0, 0.0], [1.0, 1.0]])\n",
    "\n",
    "def find_sample_frequency(samples):\n",
    "    freq = []\n",
    "    for b in basis:\n",
    "        l = len(np.where((samples == b).all(axis=1))[0])\n",
    "        freq.append(l)\n",
    "    return np.array(freq) / samples.shape[0]\n",
    "\n",
    "freq = find_sample_frequency(samples)"
   ]
  },
  {
   "cell_type": "code",
   "execution_count": 52,
   "metadata": {
    "ExecuteTime": {
     "end_time": "2020-06-08T09:34:20.111515Z",
     "start_time": "2020-06-08T09:34:20.098972Z"
    }
   },
   "outputs": [
    {
     "data": {
      "text/plain": [
       "0.07740155037206943"
      ]
     },
     "execution_count": 52,
     "metadata": {},
     "output_type": "execute_result"
    }
   ],
   "source": [
    "def one(freq):\n",
    "    return freq.sum()\n",
    "\n",
    "def Z0(freq):\n",
    "    return freq[:2].sum() - freq[2:4].sum()\n",
    "\n",
    "def Z1(freq):\n",
    "    return freq[[0,2]].sum() - freq[[1,3]].sum()\n",
    "\n",
    "def Z0Z1(freq):\n",
    "    return freq[[0,3]].sum() - freq[[1,2]].sum()\n",
    "\n",
    "def X0X1(freq):\n",
    "    return 2*np.sqrt(freq)[[1,2]].prod() + 2*np.sqrt(freq)[[0,3]].prod()\n",
    "\n",
    "def Y0Y1(freq):\n",
    "    return 2*np.sqrt(freq)[[1,2]].prod() - 2*np.sqrt(freq)[[0,3]].prod() # Y0Y1 gives minus sign to [00] and [11]\n",
    "\n",
    "X0X1(freq)"
   ]
  },
  {
   "cell_type": "code",
   "execution_count": 62,
   "metadata": {
    "ExecuteTime": {
     "end_time": "2020-06-08T09:41:27.605219Z",
     "start_time": "2020-06-08T09:41:27.596786Z"
    }
   },
   "outputs": [],
   "source": [
    "def energy(samples, coeff):\n",
    "    f = find_sample_frequency(samples)\n",
    "    c1, c2, c3, c4, c5, c6 = coeff[1:-1]\n",
    "    return c1*one(f) + c2*Z0(f) + c3*Z1(f) + c4*Z0Z1(f) + c5*X0X1(f) - c5*Y0Y1(f)"
   ]
  },
  {
   "cell_type": "code",
   "execution_count": 63,
   "metadata": {
    "ExecuteTime": {
     "end_time": "2020-06-08T09:41:27.984374Z",
     "start_time": "2020-06-08T09:41:27.976125Z"
    }
   },
   "outputs": [
    {
     "data": {
      "text/plain": [
       "1.9376684400000006"
      ]
     },
     "execution_count": 63,
     "metadata": {},
     "output_type": "execute_result"
    }
   ],
   "source": [
    "energy(samples, coeff[0])"
   ]
  },
  {
   "cell_type": "code",
   "execution_count": 64,
   "metadata": {
    "ExecuteTime": {
     "end_time": "2020-06-08T09:41:32.444017Z",
     "start_time": "2020-06-08T09:41:29.519362Z"
    },
    "scrolled": true
   },
   "outputs": [
    {
     "name": "stdout",
     "output_type": "stream",
     "text": [
      "0.1564557999999996\n",
      "-0.31040516000000007\n",
      "-0.59886426\n",
      "-0.7829793599999997\n",
      "-0.90604868\n",
      "-0.9871539200000001\n",
      "-1.0412864000000002\n",
      "-1.0764598199999997\n",
      "-1.09477854\n",
      "-1.10485816\n",
      "-1.1084201\n",
      "-1.1043668\n",
      "-1.0945216800000002\n",
      "-1.08654736\n",
      "-1.07047836\n",
      "-1.056978\n",
      "-1.04226548\n",
      "-1.02404594\n",
      "-1.0060718\n",
      "-0.9843746\n",
      "-0.96853254\n",
      "-0.9458456399999999\n",
      "-0.9266827599999998\n",
      "-0.907448\n",
      "-0.8893622999999999\n",
      "-0.87084496\n",
      "-0.8515612\n",
      "-0.8364150399999999\n",
      "-0.82116704\n",
      "-0.8041076\n",
      "-0.79460412\n",
      "-0.77643098\n",
      "-0.76447374\n",
      "-0.75122224\n",
      "-0.7407156\n",
      "-0.7304936\n",
      "-0.72234428\n",
      "-0.71692124\n",
      "-0.7084005600000001\n",
      "-0.6999503\n",
      "-0.6946763999999999\n",
      "-0.6882368\n",
      "-0.6841991999999999\n",
      "-0.67865144\n",
      "-0.6763679599999999\n",
      "-0.6720788799999999\n",
      "-0.6683117599999999\n",
      "-0.66395792\n",
      "-0.6617004\n",
      "-0.65830368\n",
      "-0.6563190000000001\n",
      "-0.65349784\n",
      "-0.65170472\n"
     ]
    },
    {
     "data": {
      "image/png": "[encoded data removed]",
      "text/plain": [
       "<Figure size 432x288 with 1 Axes>"
      ]
     },
     "metadata": {
      "needs_background": "light"
     },
     "output_type": "display_data"
    }
   ],
   "source": [
    "energies = []\n",
    "x_axis = []\n",
    "for i in range(53):\n",
    "    R = coeff[i][0]\n",
    "    try: \n",
    "        filename_samples = \"R_{}_samples.txt\".format(R)\n",
    "        samples = np.loadtxt(folder + filename_samples)\n",
    "        E = energy(samples, coeff[i])\n",
    "        energies.append(E)\n",
    "        x_axis.append(R)\n",
    "        print(E)\n",
    "    except:\n",
    "        print(\"No sample file for R = {}\".format(R))\n",
    "        \n",
    "plt.plot(x_axis, energies)\n",
    "plt.show()"
   ]
  }
 ],
 "metadata": {
  "kernelspec": {
   "display_name": "Python 3",
   "language": "python",
   "name": "python3"
  },
  "language_info": {
   "codemirror_mode": {
    "name": "ipython",
    "version": 3
   },
   "file_extension": ".py",
   "mimetype": "text/x-python",
   "name": "python",
   "nbconvert_exporter": "python",
   "pygments_lexer": "ipython3",
   "version": "3.7.6"
  },
  "toc": {
   "base_numbering": 1,
   "nav_menu": {},
   "number_sections": true,
   "sideBar": true,
   "skip_h1_title": false,
   "title_cell": "Table of Contents",
   "title_sidebar": "Contents",
   "toc_cell": false,
   "toc_position": {},
   "toc_section_display": true,
   "toc_window_display": false
  },
  "varInspector": {
   "cols": {
    "lenName": 16,
    "lenType": 16,
    "lenVar": 40
   },
   "kernels_config": {
    "python": {
     "delete_cmd_postfix": "",
     "delete_cmd_prefix": "del ",
     "library": "var_list.py",
     "varRefreshCmd": "print(var_dic_list())"
    },
    "r": {
     "delete_cmd_postfix": ") ",
     "delete_cmd_prefix": "rm(",
     "library": "var_list.r",
     "varRefreshCmd": "cat(var_dic_list()) "
    }
   },
   "types_to_exclude": [
    "module",
    "function",
    "builtin_function_or_method",
    "instance",
    "_Feature"
   ],
   "window_display": false
  }
 },
 "nbformat": 4,
 "nbformat_minor": 4
}
