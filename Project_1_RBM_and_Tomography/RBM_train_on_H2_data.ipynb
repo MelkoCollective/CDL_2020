{
 "cells": [
  {
   "cell_type": "code",
   "execution_count": 98,
   "metadata": {
    "ExecuteTime": {
     "end_time": "2020-06-15T08:09:45.085691Z",
     "start_time": "2020-06-15T08:09:45.082499Z"
    }
   },
   "outputs": [],
   "source": [
    "import numpy as np\n",
    "import matplotlib.pyplot as plt\n",
    "from tqdm.notebook import tqdm"
   ]
  },
  {
   "cell_type": "markdown",
   "metadata": {},
   "source": [
    "## Get Energy of H2 molecule from samples"
   ]
  },
  {
   "cell_type": "code",
   "execution_count": 2,
   "metadata": {
    "ExecuteTime": {
     "end_time": "2020-06-08T08:27:54.768459Z",
     "start_time": "2020-06-08T08:27:54.548219Z"
    }
   },
   "outputs": [],
   "source": [
    "folder = \"H2_data/\"\n",
    "filename_wvfct = \"R_0.2_psi.txt\"\n",
    "filename_samples = \"R_0.2_samples.txt\"\n",
    "\n",
    "samples = np.loadtxt(folder + filename_samples)\n",
    "wvfct = np.loadtxt(folder + filename_wvfct)"
   ]
  },
  {
   "cell_type": "markdown",
   "metadata": {},
   "source": [
    "### Load coefficients\n",
    "\n",
    "The coefficients are from https://arxiv.org/pdf/1512.06860.pdf from the appendix"
   ]
  },
  {
   "cell_type": "code",
   "execution_count": 3,
   "metadata": {
    "ExecuteTime": {
     "end_time": "2020-06-08T09:33:53.298148Z",
     "start_time": "2020-06-08T09:33:53.291168Z"
    }
   },
   "outputs": [],
   "source": [
    "coeff = np.loadtxt(\"H2_coefficients.txt\")"
   ]
  },
  {
   "cell_type": "markdown",
   "metadata": {},
   "source": [
    "### Find frequency / probability of all measurements"
   ]
  },
  {
   "cell_type": "code",
   "execution_count": 4,
   "metadata": {
    "ExecuteTime": {
     "end_time": "2020-06-08T08:51:42.837902Z",
     "start_time": "2020-06-08T08:51:42.831349Z"
    }
   },
   "outputs": [
    {
     "name": "stdout",
     "output_type": "stream",
     "text": [
      "[0.     0.0015 0.9985 0.    ]\n"
     ]
    }
   ],
   "source": [
    "basis = np.array([[0.0, 0.0], [0.0, 1.0], [1.0, 0.0], [1.0, 1.0]])\n",
    "\n",
    "def find_sample_frequency(samples):\n",
    "    freq = []\n",
    "    for b in basis:\n",
    "        l = len(np.where((samples == b).all(axis=1))[0])\n",
    "        freq.append(l)\n",
    "    return np.array(freq) / samples.shape[0]\n",
    "\n",
    "freq = find_sample_frequency(samples)\n",
    "print(freq)"
   ]
  },
  {
   "cell_type": "markdown",
   "metadata": {},
   "source": [
    "### Define all operators of Hamiltonian"
   ]
  },
  {
   "cell_type": "code",
   "execution_count": 5,
   "metadata": {
    "ExecuteTime": {
     "end_time": "2020-06-08T12:28:30.030318Z",
     "start_time": "2020-06-08T12:28:30.010919Z"
    }
   },
   "outputs": [],
   "source": [
    "def one(freq):\n",
    "    return freq.sum()\n",
    "\n",
    "def Z0(freq):\n",
    "    return freq[:2].sum() - freq[2:4].sum()\n",
    "\n",
    "def Z1(freq):\n",
    "    return freq[[0,2]].sum() - freq[[1,3]].sum()\n",
    "\n",
    "def Z0Z1(freq):\n",
    "    return freq[[0,3]].sum() - freq[[1,2]].sum()\n",
    "\n",
    "def X0X1(freq):\n",
    "    return 2*np.sqrt(freq)[[1,2]].prod() + 2*np.sqrt(freq)[[0,3]].prod()\n",
    "\n",
    "def Y0Y1(freq):\n",
    "    return 2*np.sqrt(freq)[[1,2]].prod() - 2*np.sqrt(freq)[[0,3]].prod() # Y0Y1 gives minus sign to [00] and [11]"
   ]
  },
  {
   "cell_type": "code",
   "execution_count": 6,
   "metadata": {},
   "outputs": [
    {
     "name": "stdout",
     "output_type": "stream",
     "text": [
      "[0.03872983 0.99924972]\n",
      "-0.9970000000000001\n"
     ]
    }
   ],
   "source": [
    "print(np.sqrt(freq)[[1,2]])\n",
    "\n",
    "print(Z0(freq))"
   ]
  },
  {
   "cell_type": "markdown",
   "metadata": {},
   "source": [
    "### Define Hamiltonian"
   ]
  },
  {
   "cell_type": "code",
   "execution_count": 73,
   "metadata": {
    "ExecuteTime": {
     "end_time": "2020-06-15T08:00:14.560666Z",
     "start_time": "2020-06-15T08:00:14.548490Z"
    }
   },
   "outputs": [],
   "source": [
    "def energy(samples, coeff):\n",
    "    f = find_sample_frequency(samples)\n",
    "    c1, c2, c3, c4, c5, c6 = coeff[1:-1]\n",
    "    return c1*one(f) + c2*Z0(f) + c3*Z1(f) + c4*Z0Z1(f) - c5*X0X1(f) - c5*Y0Y1(f)"
   ]
  },
  {
   "cell_type": "code",
   "execution_count": 74,
   "metadata": {
    "ExecuteTime": {
     "end_time": "2020-06-15T08:00:14.903671Z",
     "start_time": "2020-06-15T08:00:14.896661Z"
    }
   },
   "outputs": [
    {
     "data": {
      "text/plain": [
       "1.7805107063286294"
      ]
     },
     "execution_count": 74,
     "metadata": {},
     "output_type": "execute_result"
    }
   ],
   "source": [
    "energy(samples, coeff[0])"
   ]
  },
  {
   "cell_type": "markdown",
   "metadata": {},
   "source": [
    "### Get all the energies for different R"
   ]
  },
  {
   "cell_type": "code",
   "execution_count": 99,
   "metadata": {
    "ExecuteTime": {
     "end_time": "2020-06-15T08:10:02.877758Z",
     "start_time": "2020-06-15T08:09:59.856453Z"
    },
    "scrolled": true
   },
   "outputs": [
    {
     "data": {
      "application/vnd.jupyter.widget-view+json": {
       "model_id": "a4dac8281a444f799942981f00de3582",
       "version_major": 2,
       "version_minor": 0
      },
      "text/plain": [
       "HBox(children=(FloatProgress(value=0.0, max=53.0), HTML(value='')))"
      ]
     },
     "metadata": {},
     "output_type": "display_data"
    },
    {
     "name": "stdout",
     "output_type": "stream",
     "text": [
      "\n"
     ]
    },
    {
     "data": {
      "image/png": "[encoded data removed]",
      "text/plain": [
       "<Figure size 432x288 with 1 Axes>"
      ]
     },
     "metadata": {
      "needs_background": "light"
     },
     "output_type": "display_data"
    }
   ],
   "source": [
    "energies = []\n",
    "x_axis = []\n",
    "for i in tqdm(range(53)):\n",
    "    R = coeff[i][0]\n",
    "    try: \n",
    "        filename_samples = \"R_{}_samples.txt\".format(R)\n",
    "        samples = np.loadtxt(folder + filename_samples)\n",
    "        E = energy(samples, coeff[i])\n",
    "        energies.append(E)\n",
    "        x_axis.append(R)\n",
    "    except:\n",
    "        print(\"No sample file for R = {}\".format(R))\n",
    "        \n",
    "plt.plot(x_axis, energies)\n",
    "plt.show()"
   ]
  },
  {
   "cell_type": "markdown",
   "metadata": {},
   "source": [
    "## Confirm result with wavefunction"
   ]
  },
  {
   "cell_type": "code",
   "execution_count": 76,
   "metadata": {
    "ExecuteTime": {
     "end_time": "2020-06-15T08:00:21.638570Z",
     "start_time": "2020-06-15T08:00:21.632695Z"
    }
   },
   "outputs": [],
   "source": [
    "Z = np.array([[1,0],[0,-1]])\n",
    "X = np.array([[0,1],[1,0]])\n",
    "Y = 1j*np.array([[0,-1],[1,0]])"
   ]
  },
  {
   "cell_type": "code",
   "execution_count": 77,
   "metadata": {
    "ExecuteTime": {
     "end_time": "2020-06-15T08:00:22.090062Z",
     "start_time": "2020-06-15T08:00:22.084357Z"
    }
   },
   "outputs": [],
   "source": [
    "def ex_one():\n",
    "    return np.eye(4)\n",
    "\n",
    "def ex_Z0():\n",
    "    return np.kron(np.eye(2), Z)\n",
    "\n",
    "def ex_Z1():\n",
    "    return np.kron(Z, np.eye(2))\n",
    "\n",
    "def ex_Z0Z1():\n",
    "    return np.kron(Z, Z)\n",
    "\n",
    "def ex_X0X1():\n",
    "    return np.kron(X, X)\n",
    "\n",
    "def ex_Y0Y1():\n",
    "    return np.kron(Y, Y)"
   ]
  },
  {
   "cell_type": "code",
   "execution_count": 78,
   "metadata": {
    "ExecuteTime": {
     "end_time": "2020-06-15T08:00:22.598167Z",
     "start_time": "2020-06-15T08:00:22.593099Z"
    }
   },
   "outputs": [],
   "source": [
    "def energy_exact(wave_fct, coeff):\n",
    "    w = wave_fct\n",
    "    c1, c2, c3, c4, c5, c6 = coeff[1:-1]\n",
    "    H = c1*ex_one() + c3*ex_Z0() + c2*ex_Z1() + c4*ex_Z0Z1() - c5*ex_X0X1() - c5*ex_Y0Y1()\n",
    "    w1 = H.dot(w)\n",
    "    return np.inner(w, w1)"
   ]
  },
  {
   "cell_type": "code",
   "execution_count": 101,
   "metadata": {
    "ExecuteTime": {
     "end_time": "2020-06-15T08:10:28.352371Z",
     "start_time": "2020-06-15T08:10:28.151760Z"
    }
   },
   "outputs": [
    {
     "data": {
      "application/vnd.jupyter.widget-view+json": {
       "model_id": "365c62115e7646869e488d733d403fec",
       "version_major": 2,
       "version_minor": 0
      },
      "text/plain": [
       "HBox(children=(FloatProgress(value=0.0, max=53.0), HTML(value='')))"
      ]
     },
     "metadata": {},
     "output_type": "display_data"
    },
    {
     "name": "stdout",
     "output_type": "stream",
     "text": [
      "\n"
     ]
    },
    {
     "data": {
      "image/png": "[encoded data removed]",
      "text/plain": [
       "<Figure size 432x288 with 1 Axes>"
      ]
     },
     "metadata": {
      "needs_background": "light"
     },
     "output_type": "display_data"
    }
   ],
   "source": [
    "energies_ex = []\n",
    "x_axis_ex = []\n",
    "for i in tqdm(range(53)):\n",
    "    R = coeff[i][0]\n",
    "    try: \n",
    "        filename_wvfct = \"R_{}_psi.txt\".format(R)\n",
    "        wvfct = np.loadtxt(folder + filename_wvfct)\n",
    "        E = energy_exact(wvfct, coeff[i])\n",
    "        energies_ex.append(E)\n",
    "        x_axis_ex.append(R)\n",
    "    except:\n",
    "        print(\"No sample file for R = {}\".format(R))\n",
    "        \n",
    "plt.plot(x_axis_ex, np.real(energies_ex))\n",
    "plt.show()"
   ]
  },
  {
   "cell_type": "markdown",
   "metadata": {},
   "source": [
    "## Next step: Train RBM on this data and sample from it\n",
    "\n",
    "\n"
   ]
  },
  {
   "cell_type": "code",
   "execution_count": 81,
   "metadata": {
    "ExecuteTime": {
     "end_time": "2020-06-15T08:01:46.064136Z",
     "start_time": "2020-06-15T08:01:46.059105Z"
    }
   },
   "outputs": [],
   "source": [
    "import torch\n",
    "import torch.utils.data\n",
    "import torch.nn as nn\n",
    "import torch.nn.functional as F\n",
    "import torch.optim as optim\n",
    "from torch.autograd import Variable\n",
    "from RBM_helper import RBM\n",
    "import gzip\n",
    "import pickle"
   ]
  },
  {
   "cell_type": "code",
   "execution_count": 108,
   "metadata": {
    "ExecuteTime": {
     "end_time": "2020-06-15T08:14:54.754541Z",
     "start_time": "2020-06-15T08:14:54.751884Z"
    }
   },
   "outputs": [],
   "source": [
    "batch_size = 128\n",
    "epochs = 20\n",
    "gpu = False"
   ]
  },
  {
   "cell_type": "code",
   "execution_count": 109,
   "metadata": {
    "ExecuteTime": {
     "end_time": "2020-06-15T08:14:56.947413Z",
     "start_time": "2020-06-15T08:14:56.886520Z"
    }
   },
   "outputs": [],
   "source": [
    "R = 0.2\n",
    "filename_samples = \"R_{}_samples.txt\".format(R)\n",
    "data = np.loadtxt(folder + filename_samples)\n",
    "data = torch.tensor(data).type(\"torch.FloatTensor\")"
   ]
  },
  {
   "cell_type": "code",
   "execution_count": 110,
   "metadata": {
    "ExecuteTime": {
     "end_time": "2020-06-15T08:14:58.856670Z",
     "start_time": "2020-06-15T08:14:58.850063Z"
    }
   },
   "outputs": [],
   "source": [
    "vis = len(data[0]) #input dimension\n",
    "\n",
    "rbm = RBM(n_vis = vis, n_hin = 4*vis, k=1, gpu = gpu)\n",
    "if gpu:\n",
    "    rbm = rbm.cuda()\n",
    "    all_spins = all_spins.cuda()\n",
    "\n",
    "train_loader = torch.utils.data.DataLoader(data, batch_size=batch_size,\n",
    "                                           shuffle=True)"
   ]
  },
  {
   "cell_type": "code",
   "execution_count": 111,
   "metadata": {
    "ExecuteTime": {
     "end_time": "2020-06-15T08:15:02.558010Z",
     "start_time": "2020-06-15T08:15:00.805533Z"
    }
   },
   "outputs": [
    {
     "data": {
      "application/vnd.jupyter.widget-view+json": {
       "model_id": "c1adbcf640104327be6d5cf34e897dc7",
       "version_major": 2,
       "version_minor": 0
      },
      "text/plain": [
       "HBox(children=(FloatProgress(value=0.0, max=20.0), HTML(value='')))"
      ]
     },
     "metadata": {},
     "output_type": "display_data"
    },
    {
     "name": "stdout",
     "output_type": "stream",
     "text": [
      "\n"
     ]
    }
   ],
   "source": [
    "for epoch in tqdm(range(epochs)):\n",
    "    train_loader = torch.utils.data.DataLoader(data, batch_size=batch_size,\n",
    "                                               shuffle=True)\n",
    "    momentum = 1 - 0.1*(epochs-epoch)/epochs #starts at 0.9 and goes up to 1\n",
    "    lr = (0.1*np.exp(-epoch/epochs*10))+0.0001\n",
    "    rbm.train(train_loader, lr = lr, momentum = momentum)"
   ]
  },
  {
   "cell_type": "markdown",
   "metadata": {},
   "source": [
    "## Compare sample frequencies of RBM and and train data"
   ]
  },
  {
   "cell_type": "code",
   "execution_count": 112,
   "metadata": {
    "ExecuteTime": {
     "end_time": "2020-06-15T08:15:05.783635Z",
     "start_time": "2020-06-15T08:15:05.772014Z"
    }
   },
   "outputs": [
    {
     "name": "stdout",
     "output_type": "stream",
     "text": [
      "Sample Frequency of Training Data: \n",
      " 00: 0.0 \n",
      " 01: 0.0015 \n",
      " 10: 0.9985 \n",
      " 11: 0.0\n"
     ]
    }
   ],
   "source": [
    "f = find_sample_frequency(data.detach().numpy())\n",
    "print(\"Sample Frequency of Training Data: \\n 00: {} \\n 01: {} \\n 10: {} \\n 11: {}\".format(f[0], f[1], f[2], f[3]))"
   ]
  },
  {
   "cell_type": "code",
   "execution_count": 119,
   "metadata": {
    "ExecuteTime": {
     "end_time": "2020-06-15T08:23:56.967445Z",
     "start_time": "2020-06-15T08:23:46.431186Z"
    }
   },
   "outputs": [
    {
     "name": "stdout",
     "output_type": "stream",
     "text": [
      "DRAW SAMPLES\n"
     ]
    },
    {
     "data": {
      "application/vnd.jupyter.widget-view+json": {
       "model_id": "c51279244c9c47b3998c62d1bfff6e5c",
       "version_major": 2,
       "version_minor": 0
      },
      "text/plain": [
       "HBox(children=(FloatProgress(value=0.0, max=10000.0), HTML(value='')))"
      ]
     },
     "metadata": {},
     "output_type": "display_data"
    },
    {
     "name": "stdout",
     "output_type": "stream",
     "text": [
      "\n",
      "Sample Frequency of RBM: \n",
      " 00: 0.0119 \n",
      " 01: 0.0005 \n",
      " 10: 0.9737 \n",
      " 11: 0.0139\n"
     ]
    }
   ],
   "source": [
    "nr_samples = 10000\n",
    "print('DRAW SAMPLES')\n",
    "samples = []\n",
    "for i in tqdm(range(nr_samples)):\n",
    "    a = rbm.draw_sample(10)\n",
    "    samples.append(a.detach().numpy())\n",
    "f = find_sample_frequency(np.array(samples))\n",
    "print(\"Sample Frequency of RBM: \\n 00: {} \\n 01: {} \\n 10: {} \\n 11: {}\".format(f[0], f[1], f[2], f[3]))"
   ]
  },
  {
   "cell_type": "markdown",
   "metadata": {},
   "source": [
    "## Train on whole data and get energy for all R"
   ]
  },
  {
   "cell_type": "code",
   "execution_count": 120,
   "metadata": {
    "ExecuteTime": {
     "end_time": "2020-06-15T08:24:08.558022Z",
     "start_time": "2020-06-15T08:24:08.548034Z"
    }
   },
   "outputs": [],
   "source": [
    "nr_samples = 1000 # Samples for each R to calculate energy\n",
    "batch_size = 128\n",
    "epochs = 20\n",
    "gpu = False\n",
    "\n",
    "hidden_factor = 4 # How much more hidden units than visible"
   ]
  },
  {
   "cell_type": "code",
   "execution_count": 123,
   "metadata": {
    "ExecuteTime": {
     "end_time": "2020-06-15T08:28:06.036498Z",
     "start_time": "2020-06-15T08:25:41.755453Z"
    }
   },
   "outputs": [
    {
     "data": {
      "application/vnd.jupyter.widget-view+json": {
       "model_id": "a46f042835834124a24e1c6816ed0183",
       "version_major": 2,
       "version_minor": 0
      },
      "text/plain": [
       "HBox(children=(FloatProgress(value=0.0, max=53.0), HTML(value='')))"
      ]
     },
     "metadata": {},
     "output_type": "display_data"
    },
    {
     "name": "stdout",
     "output_type": "stream",
     "text": [
      "Sample Frequency of RBM: \n",
      " 00: 0.0 \n",
      " 01: 0.0 \n",
      " 10: 0.999 \n",
      " 11: 0.001\n",
      "Sample Frequency of Training Data: \n",
      " 00: 0.0 \n",
      " 01: 0.0015 \n",
      " 10: 0.9985 \n",
      " 11: 0.0\n",
      "Sample Frequency of RBM: \n",
      " 00: 0.002 \n",
      " 01: 0.0 \n",
      " 10: 0.997 \n",
      " 11: 0.001\n",
      "Sample Frequency of Training Data: \n",
      " 00: 0.0 \n",
      " 01: 0.0018 \n",
      " 10: 0.9982 \n",
      " 11: 0.0\n",
      "Sample Frequency of RBM: \n",
      " 00: 0.001 \n",
      " 01: 0.0 \n",
      " 10: 0.998 \n",
      " 11: 0.001\n",
      "Sample Frequency of Training Data: \n",
      " 00: 0.0 \n",
      " 01: 0.0019 \n",
      " 10: 0.9981 \n",
      " 11: 0.0\n",
      "Sample Frequency of RBM: \n",
      " 00: 0.006 \n",
      " 01: 0.0 \n",
      " 10: 0.992 \n",
      " 11: 0.002\n",
      "Sample Frequency of Training Data: \n",
      " 00: 0.0 \n",
      " 01: 0.0029 \n",
      " 10: 0.9971 \n",
      " 11: 0.0\n",
      "Sample Frequency of RBM: \n",
      " 00: 0.003 \n",
      " 01: 0.0 \n",
      " 10: 0.996 \n",
      " 11: 0.001\n",
      "Sample Frequency of Training Data: \n",
      " 00: 0.0 \n",
      " 01: 0.0034 \n",
      " 10: 0.9966 \n",
      " 11: 0.0\n",
      "Sample Frequency of RBM: \n",
      " 00: 0.003 \n",
      " 01: 0.0 \n",
      " 10: 0.994 \n",
      " 11: 0.003\n",
      "Sample Frequency of Training Data: \n",
      " 00: 0.0 \n",
      " 01: 0.0043 \n",
      " 10: 0.9957 \n",
      " 11: 0.0\n",
      "Sample Frequency of RBM: \n",
      " 00: 0.003 \n",
      " 01: 0.0 \n",
      " 10: 0.993 \n",
      " 11: 0.004\n",
      "Sample Frequency of Training Data: \n",
      " 00: 0.0 \n",
      " 01: 0.0051 \n",
      " 10: 0.9949 \n",
      " 11: 0.0\n",
      "Sample Frequency of RBM: \n",
      " 00: 0.007 \n",
      " 01: 0.0 \n",
      " 10: 0.991 \n",
      " 11: 0.002\n",
      "Sample Frequency of Training Data: \n",
      " 00: 0.0 \n",
      " 01: 0.0057 \n",
      " 10: 0.9943 \n",
      " 11: 0.0\n",
      "Sample Frequency of RBM: \n",
      " 00: 0.01 \n",
      " 01: 0.0 \n",
      " 10: 0.985 \n",
      " 11: 0.005\n",
      "Sample Frequency of Training Data: \n",
      " 00: 0.0 \n",
      " 01: 0.0079 \n",
      " 10: 0.9921 \n",
      " 11: 0.0\n",
      "Sample Frequency of RBM: \n",
      " 00: 0.003 \n",
      " 01: 0.0 \n",
      " 10: 0.993 \n",
      " 11: 0.004\n",
      "Sample Frequency of Training Data: \n",
      " 00: 0.0 \n",
      " 01: 0.0094 \n",
      " 10: 0.9906 \n",
      " 11: 0.0\n",
      "Sample Frequency of RBM: \n",
      " 00: 0.003 \n",
      " 01: 0.001 \n",
      " 10: 0.991 \n",
      " 11: 0.005\n",
      "Sample Frequency of Training Data: \n",
      " 00: 0.0 \n",
      " 01: 0.0105 \n",
      " 10: 0.9895 \n",
      " 11: 0.0\n",
      "Sample Frequency of RBM: \n",
      " 00: 0.015 \n",
      " 01: 0.0 \n",
      " 10: 0.979 \n",
      " 11: 0.006\n",
      "Sample Frequency of Training Data: \n",
      " 00: 0.0 \n",
      " 01: 0.013 \n",
      " 10: 0.987 \n",
      " 11: 0.0\n",
      "Sample Frequency of RBM: \n",
      " 00: 0.01 \n",
      " 01: 0.0 \n",
      " 10: 0.983 \n",
      " 11: 0.007\n",
      "Sample Frequency of Training Data: \n",
      " 00: 0.0 \n",
      " 01: 0.0172 \n",
      " 10: 0.9828 \n",
      " 11: 0.0\n",
      "Sample Frequency of RBM: \n",
      " 00: 0.01 \n",
      " 01: 0.001 \n",
      " 10: 0.973 \n",
      " 11: 0.016\n",
      "Sample Frequency of Training Data: \n",
      " 00: 0.0 \n",
      " 01: 0.0181 \n",
      " 10: 0.9819 \n",
      " 11: 0.0\n",
      "Sample Frequency of RBM: \n",
      " 00: 0.021 \n",
      " 01: 0.002 \n",
      " 10: 0.961 \n",
      " 11: 0.016\n",
      "Sample Frequency of Training Data: \n",
      " 00: 0.0 \n",
      " 01: 0.0237 \n",
      " 10: 0.9763 \n",
      " 11: 0.0\n",
      "Sample Frequency of RBM: \n",
      " 00: 0.014 \n",
      " 01: 0.001 \n",
      " 10: 0.966 \n",
      " 11: 0.019\n",
      "Sample Frequency of Training Data: \n",
      " 00: 0.0 \n",
      " 01: 0.0265 \n",
      " 10: 0.9735 \n",
      " 11: 0.0\n",
      "Sample Frequency of RBM: \n",
      " 00: 0.024 \n",
      " 01: 0.0 \n",
      " 10: 0.958 \n",
      " 11: 0.018\n",
      "Sample Frequency of Training Data: \n",
      " 00: 0.0 \n",
      " 01: 0.0294 \n",
      " 10: 0.9706 \n",
      " 11: 0.0\n",
      "Sample Frequency of RBM: \n",
      " 00: 0.019 \n",
      " 01: 0.007 \n",
      " 10: 0.955 \n",
      " 11: 0.019\n",
      "Sample Frequency of Training Data: \n",
      " 00: 0.0 \n",
      " 01: 0.0353 \n",
      " 10: 0.9647 \n",
      " 11: 0.0\n",
      "Sample Frequency of RBM: \n",
      " 00: 0.024 \n",
      " 01: 0.009 \n",
      " 10: 0.942 \n",
      " 11: 0.025\n",
      "Sample Frequency of Training Data: \n",
      " 00: 0.0 \n",
      " 01: 0.041 \n",
      " 10: 0.959 \n",
      " 11: 0.0\n",
      "Sample Frequency of RBM: \n",
      " 00: 0.03 \n",
      " 01: 0.005 \n",
      " 10: 0.939 \n",
      " 11: 0.026\n",
      "Sample Frequency of Training Data: \n",
      " 00: 0.0 \n",
      " 01: 0.051 \n",
      " 10: 0.949 \n",
      " 11: 0.0\n",
      "Sample Frequency of RBM: \n",
      " 00: 0.029 \n",
      " 01: 0.013 \n",
      " 10: 0.927 \n",
      " 11: 0.031\n",
      "Sample Frequency of Training Data: \n",
      " 00: 0.0 \n",
      " 01: 0.0549 \n",
      " 10: 0.9451 \n",
      " 11: 0.0\n",
      "Sample Frequency of RBM: \n",
      " 00: 0.03 \n",
      " 01: 0.016 \n",
      " 10: 0.923 \n",
      " 11: 0.031\n",
      "Sample Frequency of Training Data: \n",
      " 00: 0.0 \n",
      " 01: 0.0682 \n",
      " 10: 0.9318 \n",
      " 11: 0.0\n",
      "Sample Frequency of RBM: \n",
      " 00: 0.032 \n",
      " 01: 0.02 \n",
      " 10: 0.92 \n",
      " 11: 0.028\n",
      "Sample Frequency of Training Data: \n",
      " 00: 0.0 \n",
      " 01: 0.0782 \n",
      " 10: 0.9218 \n",
      " 11: 0.0\n",
      "Sample Frequency of RBM: \n",
      " 00: 0.018 \n",
      " 01: 0.035 \n",
      " 10: 0.916 \n",
      " 11: 0.031\n",
      "Sample Frequency of Training Data: \n",
      " 00: 0.0 \n",
      " 01: 0.0893 \n",
      " 10: 0.9107 \n",
      " 11: 0.0\n",
      "Sample Frequency of RBM: \n",
      " 00: 0.031 \n",
      " 01: 0.04 \n",
      " 10: 0.908 \n",
      " 11: 0.021\n",
      "Sample Frequency of Training Data: \n",
      " 00: 0.0 \n",
      " 01: 0.1005 \n",
      " 10: 0.8995 \n",
      " 11: 0.0\n",
      "Sample Frequency of RBM: \n",
      " 00: 0.03 \n",
      " 01: 0.049 \n",
      " 10: 0.891 \n",
      " 11: 0.03\n",
      "Sample Frequency of Training Data: \n",
      " 00: 0.0 \n",
      " 01: 0.1139 \n",
      " 10: 0.8861 \n",
      " 11: 0.0\n",
      "Sample Frequency of RBM: \n",
      " 00: 0.022 \n",
      " 01: 0.12 \n",
      " 10: 0.831 \n",
      " 11: 0.027\n",
      "Sample Frequency of Training Data: \n",
      " 00: 0.0 \n",
      " 01: 0.131 \n",
      " 10: 0.869 \n",
      " 11: 0.0\n",
      "Sample Frequency of RBM: \n",
      " 00: 0.017 \n",
      " 01: 0.156 \n",
      " 10: 0.801 \n",
      " 11: 0.026\n",
      "Sample Frequency of Training Data: \n",
      " 00: 0.0 \n",
      " 01: 0.1419 \n",
      " 10: 0.8581 \n",
      " 11: 0.0\n",
      "Sample Frequency of RBM: \n",
      " 00: 0.034 \n",
      " 01: 0.165 \n",
      " 10: 0.768 \n",
      " 11: 0.033\n",
      "Sample Frequency of Training Data: \n",
      " 00: 0.0 \n",
      " 01: 0.1552 \n",
      " 10: 0.8448 \n",
      " 11: 0.0\n",
      "Sample Frequency of RBM: \n",
      " 00: 0.019 \n",
      " 01: 0.25 \n",
      " 10: 0.716 \n",
      " 11: 0.015\n",
      "Sample Frequency of Training Data: \n",
      " 00: 0.0 \n",
      " 01: 0.1748 \n",
      " 10: 0.8252 \n",
      " 11: 0.0\n",
      "Sample Frequency of RBM: \n",
      " 00: 0.029 \n",
      " 01: 0.254 \n",
      " 10: 0.688 \n",
      " 11: 0.029\n",
      "Sample Frequency of Training Data: \n",
      " 00: 0.0 \n",
      " 01: 0.1783 \n",
      " 10: 0.8217 \n",
      " 11: 0.0\n",
      "Sample Frequency of RBM: \n",
      " 00: 0.019 \n",
      " 01: 0.312 \n",
      " 10: 0.652 \n",
      " 11: 0.017\n",
      "Sample Frequency of Training Data: \n",
      " 00: 0.0 \n",
      " 01: 0.2071 \n",
      " 10: 0.7929 \n",
      " 11: 0.0\n",
      "Sample Frequency of RBM: \n",
      " 00: 0.008 \n",
      " 01: 0.371 \n",
      " 10: 0.608 \n",
      " 11: 0.013\n",
      "Sample Frequency of Training Data: \n",
      " 00: 0.0 \n",
      " 01: 0.2221 \n",
      " 10: 0.7779 \n",
      " 11: 0.0\n",
      "Sample Frequency of RBM: \n",
      " 00: 0.014 \n",
      " 01: 0.362 \n",
      " 10: 0.61 \n",
      " 11: 0.014\n",
      "Sample Frequency of Training Data: \n",
      " 00: 0.0 \n",
      " 01: 0.2434 \n",
      " 10: 0.7566 \n",
      " 11: 0.0\n",
      "Sample Frequency of RBM: \n",
      " 00: 0.014 \n",
      " 01: 0.408 \n",
      " 10: 0.569 \n",
      " 11: 0.009\n",
      "Sample Frequency of Training Data: \n",
      " 00: 0.0 \n",
      " 01: 0.2591 \n",
      " 10: 0.7409 \n",
      " 11: 0.0\n",
      "Sample Frequency of RBM: \n",
      " 00: 0.011 \n",
      " 01: 0.433 \n",
      " 10: 0.542 \n",
      " 11: 0.014\n",
      "Sample Frequency of Training Data: \n",
      " 00: 0.0 \n",
      " 01: 0.277 \n",
      " 10: 0.723 \n",
      " 11: 0.0\n",
      "Sample Frequency of RBM: \n",
      " 00: 0.008 \n",
      " 01: 0.423 \n",
      " 10: 0.557 \n",
      " 11: 0.012\n",
      "Sample Frequency of Training Data: \n",
      " 00: 0.0 \n",
      " 01: 0.2894 \n",
      " 10: 0.7106 \n",
      " 11: 0.0\n",
      "Sample Frequency of RBM: \n",
      " 00: 0.016 \n",
      " 01: 0.405 \n",
      " 10: 0.566 \n",
      " 11: 0.013\n",
      "Sample Frequency of Training Data: \n",
      " 00: 0.0 \n",
      " 01: 0.2922 \n",
      " 10: 0.7078 \n",
      " 11: 0.0\n",
      "Sample Frequency of RBM: \n",
      " 00: 0.013 \n",
      " 01: 0.446 \n",
      " 10: 0.533 \n",
      " 11: 0.008\n",
      "Sample Frequency of Training Data: \n",
      " 00: 0.0 \n",
      " 01: 0.3113 \n",
      " 10: 0.6887 \n",
      " 11: 0.0\n",
      "Sample Frequency of RBM: \n",
      " 00: 0.014 \n",
      " 01: 0.426 \n",
      " 10: 0.547 \n",
      " 11: 0.013\n",
      "Sample Frequency of Training Data: \n",
      " 00: 0.0 \n",
      " 01: 0.3329 \n",
      " 10: 0.6671 \n",
      " 11: 0.0\n",
      "Sample Frequency of RBM: \n",
      " 00: 0.007 \n",
      " 01: 0.427 \n",
      " 10: 0.556 \n",
      " 11: 0.01\n",
      "Sample Frequency of Training Data: \n",
      " 00: 0.0 \n",
      " 01: 0.3415 \n",
      " 10: 0.6585 \n",
      " 11: 0.0\n",
      "Sample Frequency of RBM: \n",
      " 00: 0.013 \n",
      " 01: 0.455 \n",
      " 10: 0.525 \n",
      " 11: 0.007\n",
      "Sample Frequency of Training Data: \n",
      " 00: 0.0 \n",
      " 01: 0.359 \n",
      " 10: 0.641 \n",
      " 11: 0.0\n",
      "Sample Frequency of RBM: \n",
      " 00: 0.012 \n",
      " 01: 0.442 \n",
      " 10: 0.536 \n",
      " 11: 0.01\n",
      "Sample Frequency of Training Data: \n",
      " 00: 0.0 \n",
      " 01: 0.364 \n",
      " 10: 0.636 \n",
      " 11: 0.0\n",
      "Sample Frequency of RBM: \n",
      " 00: 0.014 \n",
      " 01: 0.5 \n",
      " 10: 0.479 \n",
      " 11: 0.007\n",
      "Sample Frequency of Training Data: \n",
      " 00: 0.0 \n",
      " 01: 0.3814 \n",
      " 10: 0.6186 \n",
      " 11: 0.0\n",
      "Sample Frequency of RBM: \n",
      " 00: 0.009 \n",
      " 01: 0.488 \n",
      " 10: 0.494 \n",
      " 11: 0.009\n",
      "Sample Frequency of Training Data: \n",
      " 00: 0.0 \n",
      " 01: 0.3766 \n",
      " 10: 0.6234 \n",
      " 11: 0.0\n",
      "Sample Frequency of RBM: \n",
      " 00: 0.006 \n",
      " 01: 0.441 \n",
      " 10: 0.536 \n",
      " 11: 0.017\n",
      "Sample Frequency of Training Data: \n",
      " 00: 0.0 \n",
      " 01: 0.3886 \n",
      " 10: 0.6114 \n",
      " 11: 0.0\n",
      "Sample Frequency of RBM: \n",
      " 00: 0.009 \n",
      " 01: 0.439 \n",
      " 10: 0.543 \n",
      " 11: 0.009\n",
      "Sample Frequency of Training Data: \n",
      " 00: 0.0 \n",
      " 01: 0.3988 \n",
      " 10: 0.6012 \n",
      " 11: 0.0\n",
      "Sample Frequency of RBM: \n",
      " 00: 0.012 \n",
      " 01: 0.479 \n",
      " 10: 0.495 \n",
      " 11: 0.014\n",
      "Sample Frequency of Training Data: \n",
      " 00: 0.0 \n",
      " 01: 0.4184 \n",
      " 10: 0.5816 \n",
      " 11: 0.0\n",
      "Sample Frequency of RBM: \n",
      " 00: 0.008 \n",
      " 01: 0.466 \n",
      " 10: 0.516 \n",
      " 11: 0.01\n",
      "Sample Frequency of Training Data: \n",
      " 00: 0.0 \n",
      " 01: 0.4172 \n",
      " 10: 0.5828 \n",
      " 11: 0.0\n",
      "Sample Frequency of RBM: \n",
      " 00: 0.009 \n",
      " 01: 0.482 \n",
      " 10: 0.5 \n",
      " 11: 0.009\n",
      "Sample Frequency of Training Data: \n",
      " 00: 0.0 \n",
      " 01: 0.4322 \n",
      " 10: 0.5678 \n",
      " 11: 0.0\n",
      "Sample Frequency of RBM: \n",
      " 00: 0.003 \n",
      " 01: 0.453 \n",
      " 10: 0.53 \n",
      " 11: 0.014\n",
      "Sample Frequency of Training Data: \n",
      " 00: 0.0 \n",
      " 01: 0.4325 \n",
      " 10: 0.5675 \n",
      " 11: 0.0\n",
      "Sample Frequency of RBM: \n",
      " 00: 0.02 \n",
      " 01: 0.476 \n",
      " 10: 0.493 \n",
      " 11: 0.011\n",
      "Sample Frequency of Training Data: \n",
      " 00: 0.0 \n",
      " 01: 0.4434 \n",
      " 10: 0.5566 \n",
      " 11: 0.0\n",
      "Sample Frequency of RBM: \n",
      " 00: 0.009 \n",
      " 01: 0.493 \n",
      " 10: 0.489 \n",
      " 11: 0.009\n",
      "Sample Frequency of Training Data: \n",
      " 00: 0.0 \n",
      " 01: 0.4427 \n",
      " 10: 0.5573 \n",
      " 11: 0.0\n",
      "\n"
     ]
    }
   ],
   "source": [
    "x_axis = []\n",
    "energies = []\n",
    "\n",
    "for i in tqdm(range(53)):\n",
    "    R = coeff[i][0]\n",
    "    try: \n",
    "        filename_samples = \"R_{}_samples.txt\".format(R)\n",
    "        data = np.loadtxt(folder + filename_samples)\n",
    "        data = torch.tensor(data).type(\"torch.FloatTensor\")\n",
    "        x_axis_ex.append(R)\n",
    "    except:\n",
    "        print(\"No sample file for R = {}\".format(R))\n",
    "\n",
    "\n",
    "    vis = len(data[0]) #input dimension\n",
    "\n",
    "    rbm = RBM(n_vis = vis, n_hin = hidden_factor*vis, k=1, gpu = gpu)\n",
    "\n",
    "    if gpu:\n",
    "        rbm = rbm.cuda()\n",
    "        all_spins = all_spins.cuda()\n",
    "\n",
    "    train_loader = torch.utils.data.DataLoader(data, batch_size=batch_size,\n",
    "                                               shuffle=True)\n",
    "\n",
    "    for epoch in range(epochs):\n",
    "        train_loader = torch.utils.data.DataLoader(data, batch_size=batch_size,\n",
    "                                                   shuffle=True)\n",
    "        momentum = 1 - 0.1*(epochs-epoch)/epochs #starts at 0.9 and goes up to 1\n",
    "        lr = (0.1*np.exp(-epoch/epochs*10))+0.0001\n",
    "        rbm.train(train_loader, lr = lr, momentum = momentum)\n",
    "\n",
    "    samples = []\n",
    "    for _ in range(nr_samples):\n",
    "        a = rbm.draw_sample(10)\n",
    "        samples.append(a.detach().numpy())\n",
    "    f = find_sample_frequency(np.array(samples))\n",
    "    print(\"Sample Frequency of RBM: \\n 00: {} \\n 01: {} \\n 10: {} \\n 11: {}\".format(f[0], f[1], f[2], f[3]))\n",
    "    \n",
    "    f = find_sample_frequency(data.detach().numpy())\n",
    "    print(\"Sample Frequency of Training Data: \\n 00: {} \\n 01: {} \\n 10: {} \\n 11: {}\".format(f[0], f[1], f[2], f[3]))\n",
    "    \n",
    "    E = energy(np.array(samples), coeff[i])\n",
    "    energies.append(E)"
   ]
  },
  {
   "cell_type": "code",
   "execution_count": 124,
   "metadata": {
    "ExecuteTime": {
     "end_time": "2020-06-15T08:45:53.936162Z",
     "start_time": "2020-06-15T08:45:53.671435Z"
    }
   },
   "outputs": [
    {
     "ename": "ValueError",
     "evalue": "x and y must have same first dimension, but have shapes (0,) and (53,)",
     "output_type": "error",
     "traceback": [
      "\u001b[0;31m---------------------------------------------------------------------------\u001b[0m",
      "\u001b[0;31mValueError\u001b[0m                                Traceback (most recent call last)",
      "\u001b[0;32m<ipython-input-124-858b19afdda2>\u001b[0m in \u001b[0;36m<module>\u001b[0;34m\u001b[0m\n\u001b[0;32m----> 1\u001b[0;31m \u001b[0mplt\u001b[0m\u001b[0;34m.\u001b[0m\u001b[0mplot\u001b[0m\u001b[0;34m(\u001b[0m\u001b[0mx_axis\u001b[0m\u001b[0;34m,\u001b[0m \u001b[0menergies\u001b[0m\u001b[0;34m)\u001b[0m\u001b[0;34m\u001b[0m\u001b[0;34m\u001b[0m\u001b[0m\n\u001b[0m\u001b[1;32m      2\u001b[0m \u001b[0mplt\u001b[0m\u001b[0;34m.\u001b[0m\u001b[0mshow\u001b[0m\u001b[0;34m(\u001b[0m\u001b[0;34m)\u001b[0m\u001b[0;34m\u001b[0m\u001b[0;34m\u001b[0m\u001b[0m\n",
      "\u001b[0;32m~/anaconda3/envs/QC/lib/python3.7/site-packages/matplotlib/pyplot.py\u001b[0m in \u001b[0;36mplot\u001b[0;34m(scalex, scaley, data, *args, **kwargs)\u001b[0m\n\u001b[1;32m   2794\u001b[0m     return gca().plot(\n\u001b[1;32m   2795\u001b[0m         *args, scalex=scalex, scaley=scaley, **({\"data\": data} if data\n\u001b[0;32m-> 2796\u001b[0;31m         is not None else {}), **kwargs)\n\u001b[0m\u001b[1;32m   2797\u001b[0m \u001b[0;34m\u001b[0m\u001b[0m\n\u001b[1;32m   2798\u001b[0m \u001b[0;34m\u001b[0m\u001b[0m\n",
      "\u001b[0;32m~/anaconda3/envs/QC/lib/python3.7/site-packages/matplotlib/axes/_axes.py\u001b[0m in \u001b[0;36mplot\u001b[0;34m(self, scalex, scaley, data, *args, **kwargs)\u001b[0m\n\u001b[1;32m   1663\u001b[0m         \"\"\"\n\u001b[1;32m   1664\u001b[0m         \u001b[0mkwargs\u001b[0m \u001b[0;34m=\u001b[0m \u001b[0mcbook\u001b[0m\u001b[0;34m.\u001b[0m\u001b[0mnormalize_kwargs\u001b[0m\u001b[0;34m(\u001b[0m\u001b[0mkwargs\u001b[0m\u001b[0;34m,\u001b[0m \u001b[0mmlines\u001b[0m\u001b[0;34m.\u001b[0m\u001b[0mLine2D\u001b[0m\u001b[0;34m.\u001b[0m\u001b[0m_alias_map\u001b[0m\u001b[0;34m)\u001b[0m\u001b[0;34m\u001b[0m\u001b[0;34m\u001b[0m\u001b[0m\n\u001b[0;32m-> 1665\u001b[0;31m         \u001b[0mlines\u001b[0m \u001b[0;34m=\u001b[0m \u001b[0;34m[\u001b[0m\u001b[0;34m*\u001b[0m\u001b[0mself\u001b[0m\u001b[0;34m.\u001b[0m\u001b[0m_get_lines\u001b[0m\u001b[0;34m(\u001b[0m\u001b[0;34m*\u001b[0m\u001b[0margs\u001b[0m\u001b[0;34m,\u001b[0m \u001b[0mdata\u001b[0m\u001b[0;34m=\u001b[0m\u001b[0mdata\u001b[0m\u001b[0;34m,\u001b[0m \u001b[0;34m**\u001b[0m\u001b[0mkwargs\u001b[0m\u001b[0;34m)\u001b[0m\u001b[0;34m]\u001b[0m\u001b[0;34m\u001b[0m\u001b[0;34m\u001b[0m\u001b[0m\n\u001b[0m\u001b[1;32m   1666\u001b[0m         \u001b[0;32mfor\u001b[0m \u001b[0mline\u001b[0m \u001b[0;32min\u001b[0m \u001b[0mlines\u001b[0m\u001b[0;34m:\u001b[0m\u001b[0;34m\u001b[0m\u001b[0;34m\u001b[0m\u001b[0m\n\u001b[1;32m   1667\u001b[0m             \u001b[0mself\u001b[0m\u001b[0;34m.\u001b[0m\u001b[0madd_line\u001b[0m\u001b[0;34m(\u001b[0m\u001b[0mline\u001b[0m\u001b[0;34m)\u001b[0m\u001b[0;34m\u001b[0m\u001b[0;34m\u001b[0m\u001b[0m\n",
      "\u001b[0;32m~/anaconda3/envs/QC/lib/python3.7/site-packages/matplotlib/axes/_base.py\u001b[0m in \u001b[0;36m__call__\u001b[0;34m(self, *args, **kwargs)\u001b[0m\n\u001b[1;32m    223\u001b[0m                 \u001b[0mthis\u001b[0m \u001b[0;34m+=\u001b[0m \u001b[0margs\u001b[0m\u001b[0;34m[\u001b[0m\u001b[0;36m0\u001b[0m\u001b[0;34m]\u001b[0m\u001b[0;34m,\u001b[0m\u001b[0;34m\u001b[0m\u001b[0;34m\u001b[0m\u001b[0m\n\u001b[1;32m    224\u001b[0m                 \u001b[0margs\u001b[0m \u001b[0;34m=\u001b[0m \u001b[0margs\u001b[0m\u001b[0;34m[\u001b[0m\u001b[0;36m1\u001b[0m\u001b[0;34m:\u001b[0m\u001b[0;34m]\u001b[0m\u001b[0;34m\u001b[0m\u001b[0;34m\u001b[0m\u001b[0m\n\u001b[0;32m--> 225\u001b[0;31m             \u001b[0;32myield\u001b[0m \u001b[0;32mfrom\u001b[0m \u001b[0mself\u001b[0m\u001b[0;34m.\u001b[0m\u001b[0m_plot_args\u001b[0m\u001b[0;34m(\u001b[0m\u001b[0mthis\u001b[0m\u001b[0;34m,\u001b[0m \u001b[0mkwargs\u001b[0m\u001b[0;34m)\u001b[0m\u001b[0;34m\u001b[0m\u001b[0;34m\u001b[0m\u001b[0m\n\u001b[0m\u001b[1;32m    226\u001b[0m \u001b[0;34m\u001b[0m\u001b[0m\n\u001b[1;32m    227\u001b[0m     \u001b[0;32mdef\u001b[0m \u001b[0mget_next_color\u001b[0m\u001b[0;34m(\u001b[0m\u001b[0mself\u001b[0m\u001b[0;34m)\u001b[0m\u001b[0;34m:\u001b[0m\u001b[0;34m\u001b[0m\u001b[0;34m\u001b[0m\u001b[0m\n",
      "\u001b[0;32m~/anaconda3/envs/QC/lib/python3.7/site-packages/matplotlib/axes/_base.py\u001b[0m in \u001b[0;36m_plot_args\u001b[0;34m(self, tup, kwargs)\u001b[0m\n\u001b[1;32m    389\u001b[0m             \u001b[0mx\u001b[0m\u001b[0;34m,\u001b[0m \u001b[0my\u001b[0m \u001b[0;34m=\u001b[0m \u001b[0mindex_of\u001b[0m\u001b[0;34m(\u001b[0m\u001b[0mtup\u001b[0m\u001b[0;34m[\u001b[0m\u001b[0;34m-\u001b[0m\u001b[0;36m1\u001b[0m\u001b[0;34m]\u001b[0m\u001b[0;34m)\u001b[0m\u001b[0;34m\u001b[0m\u001b[0;34m\u001b[0m\u001b[0m\n\u001b[1;32m    390\u001b[0m \u001b[0;34m\u001b[0m\u001b[0m\n\u001b[0;32m--> 391\u001b[0;31m         \u001b[0mx\u001b[0m\u001b[0;34m,\u001b[0m \u001b[0my\u001b[0m \u001b[0;34m=\u001b[0m \u001b[0mself\u001b[0m\u001b[0;34m.\u001b[0m\u001b[0m_xy_from_xy\u001b[0m\u001b[0;34m(\u001b[0m\u001b[0mx\u001b[0m\u001b[0;34m,\u001b[0m \u001b[0my\u001b[0m\u001b[0;34m)\u001b[0m\u001b[0;34m\u001b[0m\u001b[0;34m\u001b[0m\u001b[0m\n\u001b[0m\u001b[1;32m    392\u001b[0m \u001b[0;34m\u001b[0m\u001b[0m\n\u001b[1;32m    393\u001b[0m         \u001b[0;32mif\u001b[0m \u001b[0mself\u001b[0m\u001b[0;34m.\u001b[0m\u001b[0mcommand\u001b[0m \u001b[0;34m==\u001b[0m \u001b[0;34m'plot'\u001b[0m\u001b[0;34m:\u001b[0m\u001b[0;34m\u001b[0m\u001b[0;34m\u001b[0m\u001b[0m\n",
      "\u001b[0;32m~/anaconda3/envs/QC/lib/python3.7/site-packages/matplotlib/axes/_base.py\u001b[0m in \u001b[0;36m_xy_from_xy\u001b[0;34m(self, x, y)\u001b[0m\n\u001b[1;32m    268\u001b[0m         \u001b[0;32mif\u001b[0m \u001b[0mx\u001b[0m\u001b[0;34m.\u001b[0m\u001b[0mshape\u001b[0m\u001b[0;34m[\u001b[0m\u001b[0;36m0\u001b[0m\u001b[0;34m]\u001b[0m \u001b[0;34m!=\u001b[0m \u001b[0my\u001b[0m\u001b[0;34m.\u001b[0m\u001b[0mshape\u001b[0m\u001b[0;34m[\u001b[0m\u001b[0;36m0\u001b[0m\u001b[0;34m]\u001b[0m\u001b[0;34m:\u001b[0m\u001b[0;34m\u001b[0m\u001b[0;34m\u001b[0m\u001b[0m\n\u001b[1;32m    269\u001b[0m             raise ValueError(\"x and y must have same first dimension, but \"\n\u001b[0;32m--> 270\u001b[0;31m                              \"have shapes {} and {}\".format(x.shape, y.shape))\n\u001b[0m\u001b[1;32m    271\u001b[0m         \u001b[0;32mif\u001b[0m \u001b[0mx\u001b[0m\u001b[0;34m.\u001b[0m\u001b[0mndim\u001b[0m \u001b[0;34m>\u001b[0m \u001b[0;36m2\u001b[0m \u001b[0;32mor\u001b[0m \u001b[0my\u001b[0m\u001b[0;34m.\u001b[0m\u001b[0mndim\u001b[0m \u001b[0;34m>\u001b[0m \u001b[0;36m2\u001b[0m\u001b[0;34m:\u001b[0m\u001b[0;34m\u001b[0m\u001b[0;34m\u001b[0m\u001b[0m\n\u001b[1;32m    272\u001b[0m             raise ValueError(\"x and y can be no greater than 2-D, but have \"\n",
      "\u001b[0;31mValueError\u001b[0m: x and y must have same first dimension, but have shapes (0,) and (53,)"
     ]
    },
    {
     "data": {
      "image/png": "[encoded data removed]",
      "text/plain": [
       "<Figure size 432x288 with 1 Axes>"
      ]
     },
     "metadata": {
      "needs_background": "light"
     },
     "output_type": "display_data"
    }
   ],
   "source": [
    "plt.plot(x_axis, energies)\n",
    "plt.show()"
   ]
  }
 ],
 "metadata": {
  "kernelspec": {
   "display_name": "Python 3",
   "language": "python",
   "name": "python3"
  },
  "language_info": {
   "codemirror_mode": {
    "name": "ipython",
    "version": 3
   },
   "file_extension": ".py",
   "mimetype": "text/x-python",
   "name": "python",
   "nbconvert_exporter": "python",
   "pygments_lexer": "ipython3",
   "version": "3.7.6"
  },
  "toc": {
   "base_numbering": 1,
   "nav_menu": {},
   "number_sections": true,
   "sideBar": true,
   "skip_h1_title": false,
   "title_cell": "Table of Contents",
   "title_sidebar": "Contents",
   "toc_cell": false,
   "toc_position": {},
   "toc_section_display": true,
   "toc_window_display": false
  },
  "varInspector": {
   "cols": {
    "lenName": 16,
    "lenType": 16,
    "lenVar": 40
   },
   "kernels_config": {
    "python": {
     "delete_cmd_postfix": "",
     "delete_cmd_prefix": "del ",
     "library": "var_list.py",
     "varRefreshCmd": "print(var_dic_list())"
    },
    "r": {
     "delete_cmd_postfix": ") ",
     "delete_cmd_prefix": "rm(",
     "library": "var_list.r",
     "varRefreshCmd": "cat(var_dic_list()) "
    }
   },
   "types_to_exclude": [
    "module",
    "function",
    "builtin_function_or_method",
    "instance",
    "_Feature"
   ],
   "window_display": false
  }
 },
 "nbformat": 4,
 "nbformat_minor": 4
}
