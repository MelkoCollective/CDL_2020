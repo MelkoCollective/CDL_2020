{
 "cells": [
  {
   "cell_type": "markdown",
   "metadata": {},
   "source": [
    "# Task #2\n",
    "\n",
    "A template code for training an RBM on Rydberg atom data (the full dataset) is provided below. For the first part of this task (determining the minimum number of hidden units), start with 20 hidden units. \n",
    "\n",
    "Imports and loadining in data:"
   ]
  },
  {
   "cell_type": "code",
   "execution_count": 1,
   "metadata": {},
   "outputs": [],
   "source": [
    "import numpy as np\n",
    "import torch\n",
    "from RBM_helper import RBM\n",
    "\n",
    "import Rydberg_energy_calculator\n",
    "\n",
    "training_data = torch.from_numpy(np.loadtxt(\"/home/isaac/Documents/Datasets/Rydberg/Rydberg_data.txt\"))"
   ]
  },
  {
   "cell_type": "markdown",
   "metadata": {},
   "source": [
    "Define the RBM:"
   ]
  },
  {
   "cell_type": "code",
   "execution_count": 4,
   "metadata": {},
   "outputs": [],
   "source": [
    "n_vis = training_data.shape[1]\n",
    "n_hin = 1\n",
    "\n",
    "rbm = RBM(n_vis, n_hin)"
   ]
  },
  {
   "cell_type": "markdown",
   "metadata": {},
   "source": [
    "Train the RBM:"
   ]
  },
  {
   "cell_type": "code",
   "execution_count": 5,
   "metadata": {},
   "outputs": [
    {
     "name": "stdout",
     "output_type": "stream",
     "text": [
      "Exact energy:  -4.1203519096\n",
      "\n",
      "Epoch:  100\n",
      "Sampling...\n",
      "Done sampling. Calculating energy...\n",
      "Energy from RBM samples:  -4.1199685433449424\n",
      "\n",
      "Epoch:  200\n",
      "Sampling...\n",
      "Done sampling. Calculating energy...\n",
      "Energy from RBM samples:  -4.120109184788488\n",
      "\n",
      "Epoch:  300\n",
      "Sampling...\n",
      "Done sampling. Calculating energy...\n",
      "Energy from RBM samples:  -4.120151539905979\n",
      "\n",
      "Epoch:  400\n",
      "Sampling...\n",
      "Done sampling. Calculating energy...\n",
      "Energy from RBM samples:  -4.12037457783455\n",
      "Learning criteria was achieved.\n"
     ]
    }
   ],
   "source": [
    "epochs = 500\n",
    "num_samples = 2000\n",
    "\n",
    "exact_energy = -4.1203519096\n",
    "print(\"Exact energy: \",exact_energy)\n",
    "\n",
    "for e in range(1, epochs+1):\n",
    "    # do one epoch of training\n",
    "    rbm.train(training_data)   \n",
    " \n",
    "    # now generate samples and calculate the energy\n",
    "    if e % 100 == 0:\n",
    "        print(\"\\nEpoch: \", e)\n",
    "        print(\"Sampling...\")\n",
    "\n",
    "        init_state = torch.zeros(num_samples, n_vis)\n",
    "        RBM_samples = rbm.draw_samples(100, init_state)\n",
    "\n",
    "        print(\"Done sampling. Calculating energy...\") \n",
    " \n",
    "        energies = Rydberg_energy_calculator.energy(RBM_samples, rbm.wavefunction) \n",
    "        print(\"Energy from RBM samples: \", energies.item())"
   ]
  }
 ],
 "metadata": {
  "kernelspec": {
   "display_name": "Python 3",
   "language": "python",
   "name": "python3"
  },
  "language_info": {
   "codemirror_mode": {
    "name": "ipython",
    "version": 3
   },
   "file_extension": ".py",
   "mimetype": "text/x-python",
   "name": "python",
   "nbconvert_exporter": "python",
   "pygments_lexer": "ipython3",
   "version": "3.7.3"
  }
 },
 "nbformat": 4,
 "nbformat_minor": 2
}
