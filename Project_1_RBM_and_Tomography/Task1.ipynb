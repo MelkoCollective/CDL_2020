{
 "cells": [
  {
   "cell_type": "markdown",
   "metadata": {},
   "source": [
    "# Task #1 \n",
    "\n",
    "A template code for training an RBM on H$_2$ data for $r = 1.2$ is shown here. Modify this!\n",
    "\n",
    "Imports and loading in data:"
   ]
  },
  {
   "cell_type": "code",
   "execution_count": 1,
   "metadata": {
    "ExecuteTime": {
     "end_time": "2020-06-26T14:55:19.174279Z",
     "start_time": "2020-06-26T14:55:16.177972Z"
    }
   },
   "outputs": [
    {
     "name": "stdout",
     "output_type": "stream",
     "text": [
      "H2 energy for r = 1.2:  -1.0642022250418146\n"
     ]
    }
   ],
   "source": [
    "import numpy as np\n",
    "import torch\n",
    "import matplotlib.pyplot as plt\n",
    "\n",
    "from RBM_helper import RBM\n",
    "\n",
    "import H2_energy_calculator\n",
    "\n",
    "training_data = torch.from_numpy(np.loadtxt(\"H2_data/R_1.2_samples.txt\"))\n",
    "coeff = np.loadtxt(\"H2_data/H2_coefficients.txt\")[20,:]\n",
    "\n",
    "true_energy = H2_energy_calculator.energy_from_freq(training_data, coeff)\n",
    "print(\"H2 energy for r = 1.2: \",true_energy)"
   ]
  },
  {
   "cell_type": "markdown",
   "metadata": {},
   "source": [
    "Define the RBM:"
   ]
  },
  {
   "cell_type": "code",
   "execution_count": 2,
   "metadata": {
    "ExecuteTime": {
     "end_time": "2020-06-26T14:55:21.183670Z",
     "start_time": "2020-06-26T14:55:21.179123Z"
    }
   },
   "outputs": [],
   "source": [
    "n_vis = 2\n",
    "n_hin = 10\n",
    "\n",
    "rbm = RBM(n_vis, n_hin)"
   ]
  },
  {
   "cell_type": "markdown",
   "metadata": {},
   "source": [
    "Train the RBM:"
   ]
  },
  {
   "cell_type": "code",
   "execution_count": 3,
   "metadata": {
    "ExecuteTime": {
     "end_time": "2020-06-26T14:56:24.307961Z",
     "start_time": "2020-06-26T14:55:39.819468Z"
    }
   },
   "outputs": [
    {
     "name": "stdout",
     "output_type": "stream",
     "text": [
      "True energy:  -1.0642022250418146\n",
      "\n",
      "Epoch:  100\n",
      "Sampling the RBM...\n",
      "Done sampling. Calculating energy...\n",
      "Energy from RBM samples:  -0.9876774028384503\n",
      "\n",
      "Epoch:  200\n",
      "Sampling the RBM...\n",
      "Done sampling. Calculating energy...\n",
      "Energy from RBM samples:  -1.0352087373372594\n",
      "\n",
      "Epoch:  300\n",
      "Sampling the RBM...\n",
      "Done sampling. Calculating energy...\n",
      "Energy from RBM samples:  -1.049262851634507\n",
      "\n",
      "Epoch:  400\n",
      "Sampling the RBM...\n",
      "Done sampling. Calculating energy...\n",
      "Energy from RBM samples:  -1.0643434313115818\n",
      "\n",
      "Epoch:  500\n",
      "Sampling the RBM...\n",
      "Done sampling. Calculating energy...\n",
      "Energy from RBM samples:  -1.0680363397082435\n"
     ]
    }
   ],
   "source": [
    "epochs = 500 # number of training steps\n",
    "num_samples = 1000 # number of samples to generate from the RBM to calculate the H2 energy\n",
    "\n",
    "true_energy = H2_energy_calculator.energy_from_freq(training_data, coeff)\n",
    "print(\"True energy: \",true_energy)\n",
    "\n",
    "for e in range(1, epochs+1):\n",
    "    # do one epoch of training\n",
    "    rbm.train(training_data)   \n",
    " \n",
    "    # now generate samples and calculate the energy\n",
    "    if e % 100 == 0:\n",
    "        print(\"\\nEpoch: \", e)\n",
    "        print(\"Sampling the RBM...\")\n",
    "\n",
    "        # For sampling the RBM, we need to do Gibbs sampling.\n",
    "        # Initialize the Gibbs sampling chain with init_state as defined below.\n",
    "        init_state = torch.zeros(num_samples, n_vis)\n",
    "        RBM_samples = rbm.draw_samples(15, init_state)\n",
    "\n",
    "        print(\"Done sampling. Calculating energy...\")       \n",
    " \n",
    "        energies = H2_energy_calculator.energy(RBM_samples, coeff, rbm.wavefunction) \n",
    "        print(\"Energy from RBM samples: \", energies.item())\n"
   ]
  },
  {
   "cell_type": "code",
   "execution_count": 4,
   "metadata": {},
   "outputs": [],
   "source": [
    "from glob import glob\n",
    "\n",
    "file_names = glob(\"H2_data/R_*.*_samples.txt\")\n",
    "coeff = np.loadtxt(\"H2_data/H2_coefficients.txt\")\n",
    "\n",
    "data_set = []\n",
    "\n",
    "n_vis = 2\n",
    "n_hin = 10\n",
    "\n",
    "epochs = 500 # number of training steps\n",
    "num_samples = 1000 # number of samples to generate from the RBM to calculate the H2 energy\n",
    "\n",
    "for f in file_names:\n",
    "    r_data = []\n",
    "    \n",
    "    training_data = torch.from_numpy(np.loadtxt(f))\n",
    "    r = float(f.split(\"_\")[2])\n",
    "    \n",
    "    r_data.append(r)\n",
    "    \n",
    "    for i in range(len(coeff)):\n",
    "        if coeff[i][0] == r:\n",
    "            r_coeff = coeff[i,:]\n",
    "    \n",
    "    true_E = H2_energy_calculator.energy_from_freq(training_data, r_coeff)\n",
    "    r_data.append(true_E)\n",
    "    \n",
    "    #print(\"True Energies for r = {} : {}\".format(r,true_E))\n",
    "    \n",
    "    rbm = RBM(n_vis, n_hin)\n",
    "    \n",
    "    for e in range(1, epochs+1):\n",
    "        rbm.train(training_data)\n",
    "        \n",
    "    init_state = torch.zeros(num_samples, n_vis)\n",
    "    RBM_samples = rbm.draw_samples(15, init_state)\n",
    "    \n",
    "    energies = H2_energy_calculator.energy(RBM_samples, r_coeff, rbm.wavefunction)\n",
    "    #print(\"RBM Engeries:\", energies.item())\n",
    "    \n",
    "    r_data.append(energies.item())\n",
    "    data_set.append(r_data)"
   ]
  },
  {
   "cell_type": "code",
   "execution_count": 10,
   "metadata": {},
   "outputs": [],
   "source": [
    "data_set_1 = np.array(data_set)\n",
    "data_set_1 = data_set_1[np.argsort(data_set_1[:,0])] #Sort the Array by the values of r "
   ]
  },
  {
   "cell_type": "code",
   "execution_count": 18,
   "metadata": {},
   "outputs": [
    {
     "data": {
      "image/png": "[encoded data removed]",
      "text/plain": [
       "<Figure size 432x288 with 1 Axes>"
      ]
     },
     "metadata": {
      "needs_background": "light"
     },
     "output_type": "display_data"
    }
   ],
   "source": [
    "%matplotlib inline\n",
    "\n",
    "r_values      = data_set_1[:,0]\n",
    "true_Energies = data_set_1[:,1]\n",
    "RBM_Energies  = data_set_1[:,2]\n",
    "\n",
    "from matplotlib import pyplot as plt\n",
    "\n",
    "plt.title(\"H2 Energies\") \n",
    "plt.xlabel(\"radius A\") \n",
    "plt.ylabel(\"Energy\") \n",
    "plt.plot(r_values,true_Energies,label=\"True Engery\") \n",
    "plt.plot(r_values,RBM_Energies,label=\"RBM Energy\")\n",
    "plt.legend(loc=\"upper right\")\n",
    "plt.show()"
   ]
  }
 ],
 "metadata": {
  "kernelspec": {
   "display_name": "Python 3",
   "language": "python",
   "name": "python3"
  },
  "language_info": {
   "codemirror_mode": {
    "name": "ipython",
    "version": 3
   },
   "file_extension": ".py",
   "mimetype": "text/x-python",
   "name": "python",
   "nbconvert_exporter": "python",
   "pygments_lexer": "ipython3",
   "version": "3.7.3"
  },
  "toc": {
   "base_numbering": 1,
   "nav_menu": {},
   "number_sections": true,
   "sideBar": true,
   "skip_h1_title": false,
   "title_cell": "Table of Contents",
   "title_sidebar": "Contents",
   "toc_cell": false,
   "toc_position": {},
   "toc_section_display": true,
   "toc_window_display": false
  },
  "varInspector": {
   "cols": {
    "lenName": 16,
    "lenType": 16,
    "lenVar": 40
   },
   "kernels_config": {
    "python": {
     "delete_cmd_postfix": "",
     "delete_cmd_prefix": "del ",
     "library": "var_list.py",
     "varRefreshCmd": "print(var_dic_list())"
    },
    "r": {
     "delete_cmd_postfix": ") ",
     "delete_cmd_prefix": "rm(",
     "library": "var_list.r",
     "varRefreshCmd": "cat(var_dic_list()) "
    }
   },
   "types_to_exclude": [
    "module",
    "function",
    "builtin_function_or_method",
    "instance",
    "_Feature"
   ],
   "window_display": false
  }
 },
 "nbformat": 4,
 "nbformat_minor": 2
}
