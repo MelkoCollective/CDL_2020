{
 "cells": [
  {
   "cell_type": "markdown",
   "metadata": {},
   "source": [
    "# Task #1 \n",
    "\n",
    "A template code for training an RBM on H$_2$ data for $r = 1.2$ is shown here. Modify this!\n",
    "\n",
    "Imports and loading in data:"
   ]
  },
  {
   "cell_type": "code",
   "execution_count": 1,
   "metadata": {},
   "outputs": [
    {
     "name": "stdout",
     "output_type": "stream",
     "text": [
      "H2 energy for r = 1.2:  -1.0642022250418146\n"
     ]
    }
   ],
   "source": [
    "import numpy as np\n",
    "import torch\n",
    "import matplotlib.pyplot as plt\n",
    "\n",
    "from RBM_helper import RBM\n",
    "\n",
    "import H2_energy_calculator\n",
    "\n",
    "training_data = torch.from_numpy(np.loadtxt(\"H2_data/R_1.2_samples.txt\"))\n",
    "coeff = np.loadtxt(\"H2_data/H2_coefficients.txt\")[20,:]\n",
    "\n",
    "true_energy = H2_energy_calculator.energy_from_freq(training_data, coeff)\n",
    "print(\"H2 energy for r = 1.2: \",true_energy)"
   ]
  },
  {
   "cell_type": "markdown",
   "metadata": {},
   "source": [
    "Define the RBM:"
   ]
  },
  {
   "cell_type": "code",
   "execution_count": 2,
   "metadata": {},
   "outputs": [],
   "source": [
    "n_vis = 2\n",
    "n_hin = 10\n",
    "\n",
    "rbm = RBM(n_vis, n_hin)"
   ]
  },
  {
   "cell_type": "markdown",
   "metadata": {},
   "source": [
    "Train the RBM:"
   ]
  },
  {
   "cell_type": "code",
   "execution_count": 3,
   "metadata": {},
   "outputs": [
    {
     "name": "stdout",
     "output_type": "stream",
     "text": [
      "True energy:  -1.0642022250418146\n",
      "\n",
      "Epoch:  100\n",
      "Sampling the RBM...\n",
      "Done sampling. Calculating energy...\n",
      "Energy from RBM samples:  -0.9666393135708504\n",
      "\n",
      "Epoch:  200\n",
      "Sampling the RBM...\n",
      "Done sampling. Calculating energy...\n",
      "Energy from RBM samples:  -0.9981075596198539\n",
      "\n",
      "Epoch:  300\n",
      "Sampling the RBM...\n",
      "Done sampling. Calculating energy...\n",
      "Energy from RBM samples:  -1.0107093781345333\n",
      "\n",
      "Epoch:  400\n",
      "Sampling the RBM...\n",
      "Done sampling. Calculating energy...\n",
      "Energy from RBM samples:  -1.022526536501867\n",
      "\n",
      "Epoch:  500\n",
      "Sampling the RBM...\n",
      "Done sampling. Calculating energy...\n",
      "Energy from RBM samples:  -1.0373082695190747\n",
      "\n",
      "Epoch:  600\n",
      "Sampling the RBM...\n",
      "Done sampling. Calculating energy...\n",
      "Energy from RBM samples:  -1.0292073261425594\n",
      "\n",
      "Epoch:  700\n",
      "Sampling the RBM...\n",
      "Done sampling. Calculating energy...\n",
      "Energy from RBM samples:  -1.0217214422655057\n",
      "\n",
      "Epoch:  800\n",
      "Sampling the RBM...\n",
      "Done sampling. Calculating energy...\n",
      "Energy from RBM samples:  -1.0436077856250416\n",
      "\n",
      "Epoch:  900\n",
      "Sampling the RBM...\n",
      "Done sampling. Calculating energy...\n",
      "Energy from RBM samples:  -1.045497304520094\n",
      "\n",
      "Epoch:  1000\n",
      "Sampling the RBM...\n",
      "Done sampling. Calculating energy...\n",
      "Energy from RBM samples:  -1.0418702882381037\n"
     ]
    }
   ],
   "source": [
    "epochs = 1000 # number of training steps\n",
    "num_samples = 1000 # number of samples to generate from the RBM to calculate the H2 energy\n",
    "\n",
    "true_energy = H2_energy_calculator.energy_from_freq(training_data, coeff)\n",
    "print(\"True energy: \",true_energy)\n",
    "\n",
    "for e in range(1, epochs+1):\n",
    "    # do one epoch of training\n",
    "    rbm.train(training_data)   \n",
    " \n",
    "    # now generate samples and calculate the energy\n",
    "    if e % 100 == 0:\n",
    "        print(\"\\nEpoch: \", e)\n",
    "        print(\"Sampling the RBM...\")\n",
    "\n",
    "        # For sampling the RBM, we need to do Gibbs sampling.\n",
    "        # Initialize the Gibbs sampling chain with init_state as defined below.\n",
    "        init_state = torch.zeros(num_samples, n_vis)\n",
    "        RBM_samples = rbm.draw_samples(15, init_state)\n",
    "\n",
    "        print(\"Done sampling. Calculating energy...\")       \n",
    " \n",
    "        energies = H2_energy_calculator.energy(RBM_samples, coeff, rbm.wavefunction) \n",
    "        print(\"Energy from RBM samples: \", energies.item())\n"
   ]
  }
 ],
 "metadata": {
  "kernelspec": {
   "display_name": "Python 3",
   "language": "python",
   "name": "python3"
  },
  "language_info": {
   "codemirror_mode": {
    "name": "ipython",
    "version": 3
   },
   "file_extension": ".py",
   "mimetype": "text/x-python",
   "name": "python",
   "nbconvert_exporter": "python",
   "pygments_lexer": "ipython3",
   "version": "3.7.3"
  }
 },
 "nbformat": 4,
 "nbformat_minor": 2
}
