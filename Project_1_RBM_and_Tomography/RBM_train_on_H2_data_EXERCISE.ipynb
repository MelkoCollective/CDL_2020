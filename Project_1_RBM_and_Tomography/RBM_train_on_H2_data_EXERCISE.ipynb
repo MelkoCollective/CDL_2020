{
 "cells": [
  {
   "cell_type": "markdown",
   "metadata": {},
   "source": [
    "## Train a RBM on H2 data\n",
    "\n",
    "This file gives you all the necessary tools to train an RBM on the sample date of a $H_2$ molecule. This [paper](https://arxiv.org/pdf/1512.06860.pdf) provides all the technical details of how to construct the spin Hamiltonian for a $H_2$ molecule.\n",
    "\n",
    "## Tasks\n",
    "\n",
    "### Handle data\n",
    "\n",
    "Load the data provided for the $H_2$ molecule in the `H2_data` folder and get familiar with it. The `R_XX_psi.txt` files provide the wave function for each radius of the $H_2$ molecule and the `R_XX_samples.txt` files provide each 10000 samples in the computational Z basis from the wavefunction. This is basically what you would get from a measurement in the lab when you would do measurements on the molecule in the Z basis.\n",
    "\n",
    "### Calculate Energy\n",
    "\n",
    "Find a way to calculate the energy from these samples. Equation (1) in the [paper](https://arxiv.org/pdf/1512.06860.pdf) shows you how to get the energy.\n",
    "\n",
    "**Caution: To provide sign free data we had to modify the Hamiltonian a bit. You will have to change the signs of $g_4$ and $g_5$ of [Equation (1)](https://arxiv.org/pdf/1512.06860.pdf) to obtain the correct energy!**\n",
    "\n",
    "You should be able to reproduce [Figure 3](https://arxiv.org/pdf/1512.06860.pdf). If you are more familiar with wave functions you can also start with the exact wave function provided in `R_XX_psi.txt` instead of starting directly with the sample data. After you manage to calculate the energy correctly from the wavefunction you can think of the sample data as a wave function. E.g. the sample $[0,0]$ translates to a wavefunction $[1,0,0,0]$ and the energy can be obtain by an average over all samples for a given radius $R$. This approach will work for a small system like the $H_2$ molecule. For bigger systems you will have to find a better way to estimate the energy.\n",
    "\n",
    "### Train an RBM on $H_2$ data\n",
    "\n",
    "Now train an RBM for each R. After successful training you will be able to sample from it and calculate the energy. Do this for each R and compare the energy from the learned wave function and the exact energy. How can you improve your result? "
   ]
  },
  {
   "cell_type": "code",
   "execution_count": 1,
   "metadata": {
    "ExecuteTime": {
     "end_time": "2020-06-15T08:48:43.083738Z",
     "start_time": "2020-06-15T08:48:42.564971Z"
    }
   },
   "outputs": [],
   "source": [
    "import numpy as np\n",
    "import matplotlib.pyplot as plt"
   ]
  },
  {
   "cell_type": "markdown",
   "metadata": {},
   "source": [
    "## Load H2 data\n",
    "\n",
    "Load the samples and the wavefunction for different $R$ from the `H2_data` folder."
   ]
  },
  {
   "cell_type": "code",
   "execution_count": 2,
   "metadata": {
    "ExecuteTime": {
     "end_time": "2020-06-15T08:49:43.212303Z",
     "start_time": "2020-06-15T08:49:43.136401Z"
    }
   },
   "outputs": [],
   "source": [
    "R = 0.2\n",
    "\n",
    "folder = \"H2_data/\"\n",
    "filename_wvfct = \"R_{}_psi.txt\".format(R)\n",
    "filename_samples = \"R_{}_samples.txt\".format(R)\n",
    "\n",
    "samples = np.loadtxt(folder + filename_samples)\n",
    "wvfct = np.loadtxt(folder + filename_wvfct)"
   ]
  },
  {
   "cell_type": "markdown",
   "metadata": {},
   "source": [
    "### Load coefficients\n",
    "\n",
    "The coefficients are from [this paper](https://arxiv.org/pdf/1512.06860.pdf) from the appendix"
   ]
  },
  {
   "cell_type": "code",
   "execution_count": 5,
   "metadata": {
    "ExecuteTime": {
     "end_time": "2020-06-15T10:01:24.687919Z",
     "start_time": "2020-06-15T10:01:24.621783Z"
    }
   },
   "outputs": [],
   "source": [
    "coeff = np.loadtxt(folder + \"H2_coefficients.txt\")"
   ]
  },
  {
   "cell_type": "markdown",
   "metadata": {},
   "source": [
    "## Calculate the energy from the samples and the wave function\n",
    "\n",
    "Figure out a way to calculate the energy from the data provided and the Hamiltonian in [Equation (1)](https://arxiv.org/pdf/1512.06860.pdf).\n",
    "\n",
    "**Again, be careful. You will have to change the sign of the coefficients $g_4$ and $g_5$!**"
   ]
  },
  {
   "cell_type": "code",
   "execution_count": null,
   "metadata": {},
   "outputs": [],
   "source": [
    "# YOUR CODE"
   ]
  },
  {
   "cell_type": "markdown",
   "metadata": {},
   "source": [
    "## Train an RBM on the sample data and check energy\n",
    "\n",
    "Train the RBM on the sample data for different $R$. After the training sample from the RBM and calculate the energy from the samples.\n",
    "Check if the energy is correct."
   ]
  },
  {
   "cell_type": "code",
   "execution_count": null,
   "metadata": {},
   "outputs": [],
   "source": [
    "## YOUR CODE"
   ]
  }
 ],
 "metadata": {
  "kernelspec": {
   "display_name": "Python 3",
   "language": "python",
   "name": "python3"
  },
  "language_info": {
   "codemirror_mode": {
    "name": "ipython",
    "version": 3
   },
   "file_extension": ".py",
   "mimetype": "text/x-python",
   "name": "python",
   "nbconvert_exporter": "python",
   "pygments_lexer": "ipython3",
   "version": "3.7.6"
  },
  "toc": {
   "base_numbering": 1,
   "nav_menu": {},
   "number_sections": true,
   "sideBar": true,
   "skip_h1_title": false,
   "title_cell": "Table of Contents",
   "title_sidebar": "Contents",
   "toc_cell": false,
   "toc_position": {},
   "toc_section_display": true,
   "toc_window_display": false
  },
  "varInspector": {
   "cols": {
    "lenName": 16,
    "lenType": 16,
    "lenVar": 40
   },
   "kernels_config": {
    "python": {
     "delete_cmd_postfix": "",
     "delete_cmd_prefix": "del ",
     "library": "var_list.py",
     "varRefreshCmd": "print(var_dic_list())"
    },
    "r": {
     "delete_cmd_postfix": ") ",
     "delete_cmd_prefix": "rm(",
     "library": "var_list.r",
     "varRefreshCmd": "cat(var_dic_list()) "
    }
   },
   "types_to_exclude": [
    "module",
    "function",
    "builtin_function_or_method",
    "instance",
    "_Feature"
   ],
   "window_display": false
  }
 },
 "nbformat": 4,
 "nbformat_minor": 4
}
