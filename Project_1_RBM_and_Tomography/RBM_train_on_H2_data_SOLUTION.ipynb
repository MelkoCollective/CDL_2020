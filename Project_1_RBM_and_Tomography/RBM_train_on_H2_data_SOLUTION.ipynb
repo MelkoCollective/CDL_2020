{
 "cells": [
  {
   "cell_type": "code",
   "execution_count": 98,
   "metadata": {
    "ExecuteTime": {
     "end_time": "2020-06-15T08:09:45.085691Z",
     "start_time": "2020-06-15T08:09:45.082499Z"
    }
   },
   "outputs": [],
   "source": [
    "import numpy as np\n",
    "import matplotlib.pyplot as plt\n",
    "from tqdm.notebook import tqdm"
   ]
  },
  {
   "cell_type": "markdown",
   "metadata": {},
   "source": [
    "## Load H2 data"
   ]
  },
  {
   "cell_type": "code",
   "execution_count": 128,
   "metadata": {
    "ExecuteTime": {
     "end_time": "2020-06-15T10:13:20.270725Z",
     "start_time": "2020-06-15T10:13:20.198868Z"
    }
   },
   "outputs": [],
   "source": [
    "folder = \"H2_data/\"\n",
    "filename_wvfct = \"R_0.2_psi.txt\"\n",
    "filename_samples = \"R_0.2_samples.txt\"\n",
    "\n",
    "samples = np.loadtxt(folder + filename_samples)\n",
    "wvfct = np.loadtxt(folder + filename_wvfct)"
   ]
  },
  {
   "cell_type": "markdown",
   "metadata": {},
   "source": [
    "### Load coefficients\n",
    "\n",
    "The coefficients are from https://arxiv.org/pdf/1512.06860.pdf from the appendix"
   ]
  },
  {
   "cell_type": "code",
   "execution_count": 131,
   "metadata": {
    "ExecuteTime": {
     "end_time": "2020-06-15T10:13:30.531890Z",
     "start_time": "2020-06-15T10:13:30.526222Z"
    }
   },
   "outputs": [],
   "source": [
    "coeff = np.loadtxt(folder + \"H2_coefficients.txt\")"
   ]
  },
  {
   "cell_type": "markdown",
   "metadata": {},
   "source": [
    "### Find frequency / probability of all measurements\n",
    "\n",
    "Calculate the frequency at which every measurement occurs."
   ]
  },
  {
   "cell_type": "code",
   "execution_count": 132,
   "metadata": {
    "ExecuteTime": {
     "end_time": "2020-06-15T10:13:31.241583Z",
     "start_time": "2020-06-15T10:13:31.230056Z"
    }
   },
   "outputs": [
    {
     "name": "stdout",
     "output_type": "stream",
     "text": [
      "[0.     0.0015 0.9985 0.    ]\n"
     ]
    }
   ],
   "source": [
    "basis = np.array([[0.0, 0.0], [0.0, 1.0], [1.0, 0.0], [1.0, 1.0]])\n",
    "\n",
    "def find_sample_frequency(samples):\n",
    "    freq = []\n",
    "    for b in basis:\n",
    "        l = len(np.where((samples == b).all(axis=1))[0])\n",
    "        freq.append(l)\n",
    "    return np.array(freq) / samples.shape[0]\n",
    "\n",
    "freq = find_sample_frequency(samples)\n",
    "print(freq)"
   ]
  },
  {
   "cell_type": "markdown",
   "metadata": {},
   "source": [
    "## Calculate Energy\n",
    "\n",
    "### Define all operators of Hamiltonian\n",
    "\n",
    "Define the different parts of the Hamiltonian.\n",
    "\n",
    "In this code below we calculate the energy directly from the sample frequency. If you prefer a solution with operators and wave function see below."
   ]
  },
  {
   "cell_type": "code",
   "execution_count": 133,
   "metadata": {
    "ExecuteTime": {
     "end_time": "2020-06-15T10:13:32.254170Z",
     "start_time": "2020-06-15T10:13:32.247233Z"
    }
   },
   "outputs": [],
   "source": [
    "def one(freq):\n",
    "    return freq.sum()\n",
    "\n",
    "def Z0(freq):\n",
    "    return freq[:2].sum() - freq[2:4].sum()\n",
    "\n",
    "def Z1(freq):\n",
    "    return freq[[0,2]].sum() - freq[[1,3]].sum()\n",
    "\n",
    "def Z0Z1(freq):\n",
    "    return freq[[0,3]].sum() - freq[[1,2]].sum()\n",
    "\n",
    "def X0X1(freq):\n",
    "    return 2*np.sqrt(freq)[[1,2]].prod() + 2*np.sqrt(freq)[[0,3]].prod()\n",
    "\n",
    "def Y0Y1(freq):\n",
    "    return 2*np.sqrt(freq)[[1,2]].prod() - 2*np.sqrt(freq)[[0,3]].prod() # Y0Y1 gives minus sign to [00] and [11]"
   ]
  },
  {
   "cell_type": "markdown",
   "metadata": {},
   "source": [
    "### Define Hamiltonian\n",
    "\n",
    "The Hamiltonian is the weighted sum (weighted with the coefficients) of all the parts defined above.\n",
    "\n",
    "**The coefficients $c_5$ and $c_6$ have a different sign, because we changed the Hamiltonian such that we do not have signs in the wavefunction.**"
   ]
  },
  {
   "cell_type": "code",
   "execution_count": 134,
   "metadata": {
    "ExecuteTime": {
     "end_time": "2020-06-15T10:13:33.444182Z",
     "start_time": "2020-06-15T10:13:33.437740Z"
    }
   },
   "outputs": [],
   "source": [
    "def energy(samples, coeff):\n",
    "    f = find_sample_frequency(samples)\n",
    "    c1, c2, c3, c4, c5, c6 = coeff[1:-1]\n",
    "    return c1*one(f) + c2*Z0(f) + c3*Z1(f) + c4*Z0Z1(f) - c5*X0X1(f) - c6*Y0Y1(f)"
   ]
  },
  {
   "cell_type": "markdown",
   "metadata": {},
   "source": [
    "### Get all the energies for different R\n",
    "\n",
    "Calculate the energies fro different $R$."
   ]
  },
  {
   "cell_type": "code",
   "execution_count": 136,
   "metadata": {
    "ExecuteTime": {
     "end_time": "2020-06-15T10:13:43.822217Z",
     "start_time": "2020-06-15T10:13:40.627080Z"
    },
    "scrolled": true
   },
   "outputs": [
    {
     "data": {
      "application/vnd.jupyter.widget-view+json": {
       "model_id": "d996c953149640babba71a8e50d3daf9",
       "version_major": 2,
       "version_minor": 0
      },
      "text/plain": [
       "HBox(children=(FloatProgress(value=0.0, max=53.0), HTML(value='')))"
      ]
     },
     "metadata": {},
     "output_type": "display_data"
    },
    {
     "name": "stdout",
     "output_type": "stream",
     "text": [
      "\n"
     ]
    },
    {
     "data": {
      "image/png": "[encoded data removed]",
      "text/plain": [
       "<Figure size 432x288 with 1 Axes>"
      ]
     },
     "metadata": {
      "needs_background": "light"
     },
     "output_type": "display_data"
    }
   ],
   "source": [
    "energies = []\n",
    "x_axis = []\n",
    "for i in tqdm(range(53)):\n",
    "    R = coeff[i][0]\n",
    "    try: \n",
    "        filename_samples = \"R_{}_samples.txt\".format(R)\n",
    "        samples = np.loadtxt(folder + filename_samples)\n",
    "        E = energy(samples, coeff[i])\n",
    "        energies.append(E)\n",
    "        x_axis.append(R)\n",
    "    except:\n",
    "        print(\"No sample file for R = {}\".format(R))\n",
    "        \n",
    "plt.plot(x_axis, energies)\n",
    "plt.show()"
   ]
  },
  {
   "cell_type": "markdown",
   "metadata": {},
   "source": [
    "### Confirm result with wavefunction\n",
    "\n",
    "Do the same but with the wavefunction and not the samples"
   ]
  },
  {
   "cell_type": "code",
   "execution_count": 76,
   "metadata": {
    "ExecuteTime": {
     "end_time": "2020-06-15T08:00:21.638570Z",
     "start_time": "2020-06-15T08:00:21.632695Z"
    }
   },
   "outputs": [],
   "source": [
    "Z = np.array([[1,0],[0,-1]])\n",
    "X = np.array([[0,1],[1,0]])\n",
    "Y = 1j*np.array([[0,-1],[1,0]])"
   ]
  },
  {
   "cell_type": "code",
   "execution_count": 77,
   "metadata": {
    "ExecuteTime": {
     "end_time": "2020-06-15T08:00:22.090062Z",
     "start_time": "2020-06-15T08:00:22.084357Z"
    }
   },
   "outputs": [],
   "source": [
    "def ex_one():\n",
    "    return np.eye(4)\n",
    "\n",
    "def ex_Z0():\n",
    "    return np.kron(np.eye(2), Z)\n",
    "\n",
    "def ex_Z1():\n",
    "    return np.kron(Z, np.eye(2))\n",
    "\n",
    "def ex_Z0Z1():\n",
    "    return np.kron(Z, Z)\n",
    "\n",
    "def ex_X0X1():\n",
    "    return np.kron(X, X)\n",
    "\n",
    "def ex_Y0Y1():\n",
    "    return np.kron(Y, Y)"
   ]
  },
  {
   "cell_type": "code",
   "execution_count": 78,
   "metadata": {
    "ExecuteTime": {
     "end_time": "2020-06-15T08:00:22.598167Z",
     "start_time": "2020-06-15T08:00:22.593099Z"
    }
   },
   "outputs": [],
   "source": [
    "def energy_exact(wave_fct, coeff):\n",
    "    w = wave_fct\n",
    "    c1, c2, c3, c4, c5, c6 = coeff[1:-1]\n",
    "    H = c1*ex_one() + c3*ex_Z0() + c2*ex_Z1() + c4*ex_Z0Z1() - c5*ex_X0X1() - c5*ex_Y0Y1()\n",
    "    w1 = H.dot(w)\n",
    "    return np.inner(w, w1)"
   ]
  },
  {
   "cell_type": "code",
   "execution_count": 101,
   "metadata": {
    "ExecuteTime": {
     "end_time": "2020-06-15T08:10:28.352371Z",
     "start_time": "2020-06-15T08:10:28.151760Z"
    }
   },
   "outputs": [
    {
     "data": {
      "application/vnd.jupyter.widget-view+json": {
       "model_id": "365c62115e7646869e488d733d403fec",
       "version_major": 2,
       "version_minor": 0
      },
      "text/plain": [
       "HBox(children=(FloatProgress(value=0.0, max=53.0), HTML(value='')))"
      ]
     },
     "metadata": {},
     "output_type": "display_data"
    },
    {
     "name": "stdout",
     "output_type": "stream",
     "text": [
      "\n"
     ]
    },
    {
     "data": {
      "image/png": "[encoded data removed]",
      "text/plain": [
       "<Figure size 432x288 with 1 Axes>"
      ]
     },
     "metadata": {
      "needs_background": "light"
     },
     "output_type": "display_data"
    }
   ],
   "source": [
    "energies_ex = []\n",
    "x_axis_ex = []\n",
    "for i in tqdm(range(53)):\n",
    "    R = coeff[i][0]\n",
    "    try: \n",
    "        filename_wvfct = \"R_{}_psi.txt\".format(R)\n",
    "        wvfct = np.loadtxt(folder + filename_wvfct)\n",
    "        E = energy_exact(wvfct, coeff[i])\n",
    "        energies_ex.append(E)\n",
    "        x_axis_ex.append(R)\n",
    "    except:\n",
    "        print(\"No sample file for R = {}\".format(R))\n",
    "        \n",
    "plt.plot(x_axis_ex, np.real(energies_ex))\n",
    "plt.show()"
   ]
  },
  {
   "cell_type": "markdown",
   "metadata": {},
   "source": [
    "## Train RBM on this data and sample from it\n",
    "\n",
    "Train a RBM for a single radius and sample from the trained RBM to see if it works."
   ]
  },
  {
   "cell_type": "code",
   "execution_count": 137,
   "metadata": {
    "ExecuteTime": {
     "end_time": "2020-06-15T10:17:42.509000Z",
     "start_time": "2020-06-15T10:17:42.500720Z"
    }
   },
   "outputs": [],
   "source": [
    "import torch\n",
    "import torch.utils.data\n",
    "import torch.nn as nn\n",
    "import torch.nn.functional as F\n",
    "import torch.optim as optim\n",
    "from torch.autograd import Variable\n",
    "from RBM_helper import RBM\n",
    "import gzip\n",
    "import pickle"
   ]
  },
  {
   "cell_type": "code",
   "execution_count": 138,
   "metadata": {
    "ExecuteTime": {
     "end_time": "2020-06-15T10:17:42.879333Z",
     "start_time": "2020-06-15T10:17:42.875932Z"
    }
   },
   "outputs": [],
   "source": [
    "batch_size = 128\n",
    "epochs = 20\n",
    "gpu = False"
   ]
  },
  {
   "cell_type": "code",
   "execution_count": 139,
   "metadata": {
    "ExecuteTime": {
     "end_time": "2020-06-15T10:17:43.322473Z",
     "start_time": "2020-06-15T10:17:43.265638Z"
    }
   },
   "outputs": [],
   "source": [
    "R = 0.2\n",
    "filename_samples = \"R_{}_samples.txt\".format(R)\n",
    "data = np.loadtxt(folder + filename_samples)\n",
    "data = torch.tensor(data).type(\"torch.FloatTensor\")"
   ]
  },
  {
   "cell_type": "code",
   "execution_count": 140,
   "metadata": {
    "ExecuteTime": {
     "end_time": "2020-06-15T10:17:45.257665Z",
     "start_time": "2020-06-15T10:17:45.249254Z"
    }
   },
   "outputs": [],
   "source": [
    "vis = len(data[0]) #input dimension\n",
    "\n",
    "rbm = RBM(n_vis = vis, n_hin = 4*vis, k=1, gpu = gpu)\n",
    "if gpu:\n",
    "    rbm = rbm.cuda()\n",
    "    all_spins = all_spins.cuda()\n",
    "\n",
    "train_loader = torch.utils.data.DataLoader(data, batch_size=batch_size,\n",
    "                                           shuffle=True)"
   ]
  },
  {
   "cell_type": "code",
   "execution_count": 142,
   "metadata": {
    "ExecuteTime": {
     "end_time": "2020-06-15T10:17:51.485337Z",
     "start_time": "2020-06-15T10:17:49.736953Z"
    }
   },
   "outputs": [
    {
     "data": {
      "application/vnd.jupyter.widget-view+json": {
       "model_id": "9ff518e998504afba5cb07a42566e062",
       "version_major": 2,
       "version_minor": 0
      },
      "text/plain": [
       "HBox(children=(FloatProgress(value=0.0, max=20.0), HTML(value='')))"
      ]
     },
     "metadata": {},
     "output_type": "display_data"
    },
    {
     "name": "stdout",
     "output_type": "stream",
     "text": [
      "\n"
     ]
    }
   ],
   "source": [
    "for epoch in tqdm(range(epochs)):\n",
    "    train_loader = torch.utils.data.DataLoader(data, batch_size=batch_size,\n",
    "                                               shuffle=True)\n",
    "    momentum = 1 - 0.1*(epochs-epoch)/epochs #starts at 0.9 and goes up to 1\n",
    "    lr = (0.1*np.exp(-epoch/epochs*10))+0.0001\n",
    "    rbm.train(train_loader, lr = lr, momentum = momentum)"
   ]
  },
  {
   "cell_type": "markdown",
   "metadata": {},
   "source": [
    "### Compare sample frequencies of RBM and and train data\n",
    "\n",
    "Check the sample frequency of the RBM and compare it to the sample frequency of the training data."
   ]
  },
  {
   "cell_type": "code",
   "execution_count": 143,
   "metadata": {
    "ExecuteTime": {
     "end_time": "2020-06-15T10:17:51.546407Z",
     "start_time": "2020-06-15T10:17:51.538630Z"
    }
   },
   "outputs": [
    {
     "name": "stdout",
     "output_type": "stream",
     "text": [
      "Sample Frequency of Training Data: \n",
      " 00: 0.0 \n",
      " 01: 0.0015 \n",
      " 10: 0.9985 \n",
      " 11: 0.0\n"
     ]
    }
   ],
   "source": [
    "f = find_sample_frequency(data.detach().numpy())\n",
    "print(\"Sample Frequency of Training Data: \\n 00: {} \\n 01: {} \\n 10: {} \\n 11: {}\".format(f[0], f[1], f[2], f[3]))"
   ]
  },
  {
   "cell_type": "code",
   "execution_count": 144,
   "metadata": {
    "ExecuteTime": {
     "end_time": "2020-06-15T10:18:02.410734Z",
     "start_time": "2020-06-15T10:17:52.373249Z"
    }
   },
   "outputs": [
    {
     "name": "stdout",
     "output_type": "stream",
     "text": [
      "DRAW SAMPLES\n"
     ]
    },
    {
     "data": {
      "application/vnd.jupyter.widget-view+json": {
       "model_id": "07d504a73d3c4f7fbb17429ec8a5d13f",
       "version_major": 2,
       "version_minor": 0
      },
      "text/plain": [
       "HBox(children=(FloatProgress(value=0.0, max=10000.0), HTML(value='')))"
      ]
     },
     "metadata": {},
     "output_type": "display_data"
    },
    {
     "name": "stdout",
     "output_type": "stream",
     "text": [
      "\n",
      "Sample Frequency of RBM: \n",
      " 00: 0.0008 \n",
      " 01: 0.0 \n",
      " 10: 0.9983 \n",
      " 11: 0.0009\n"
     ]
    }
   ],
   "source": [
    "nr_samples = 10000\n",
    "print('DRAW SAMPLES')\n",
    "samples = []\n",
    "for i in tqdm(range(nr_samples)):\n",
    "    a = rbm.draw_sample(10)\n",
    "    samples.append(a.detach().numpy())\n",
    "f = find_sample_frequency(np.array(samples))\n",
    "print(\"Sample Frequency of RBM: \\n 00: {} \\n 01: {} \\n 10: {} \\n 11: {}\".format(f[0], f[1], f[2], f[3]))"
   ]
  },
  {
   "cell_type": "markdown",
   "metadata": {},
   "source": [
    "## Train on whole data and get energy for all R\n",
    "\n",
    "Do the same but now for all R"
   ]
  },
  {
   "cell_type": "code",
   "execution_count": 145,
   "metadata": {
    "ExecuteTime": {
     "end_time": "2020-06-15T10:18:09.910250Z",
     "start_time": "2020-06-15T10:18:09.905634Z"
    }
   },
   "outputs": [],
   "source": [
    "nr_samples = 1000 # Samples for each R to calculate energy\n",
    "batch_size = 128\n",
    "epochs = 20\n",
    "gpu = False\n",
    "\n",
    "hidden_factor = 4 # How much more hidden units than visible"
   ]
  },
  {
   "cell_type": "code",
   "execution_count": 123,
   "metadata": {
    "ExecuteTime": {
     "end_time": "2020-06-15T08:28:06.036498Z",
     "start_time": "2020-06-15T08:25:41.755453Z"
    }
   },
   "outputs": [
    {
     "data": {
      "application/vnd.jupyter.widget-view+json": {
       "model_id": "a46f042835834124a24e1c6816ed0183",
       "version_major": 2,
       "version_minor": 0
      },
      "text/plain": [
       "HBox(children=(FloatProgress(value=0.0, max=53.0), HTML(value='')))"
      ]
     },
     "metadata": {},
     "output_type": "display_data"
    },
    {
     "name": "stdout",
     "output_type": "stream",
     "text": [
      "Sample Frequency of RBM: \n",
      " 00: 0.0 \n",
      " 01: 0.0 \n",
      " 10: 0.999 \n",
      " 11: 0.001\n",
      "Sample Frequency of Training Data: \n",
      " 00: 0.0 \n",
      " 01: 0.0015 \n",
      " 10: 0.9985 \n",
      " 11: 0.0\n",
      "Sample Frequency of RBM: \n",
      " 00: 0.002 \n",
      " 01: 0.0 \n",
      " 10: 0.997 \n",
      " 11: 0.001\n",
      "Sample Frequency of Training Data: \n",
      " 00: 0.0 \n",
      " 01: 0.0018 \n",
      " 10: 0.9982 \n",
      " 11: 0.0\n",
      "Sample Frequency of RBM: \n",
      " 00: 0.001 \n",
      " 01: 0.0 \n",
      " 10: 0.998 \n",
      " 11: 0.001\n",
      "Sample Frequency of Training Data: \n",
      " 00: 0.0 \n",
      " 01: 0.0019 \n",
      " 10: 0.9981 \n",
      " 11: 0.0\n",
      "Sample Frequency of RBM: \n",
      " 00: 0.006 \n",
      " 01: 0.0 \n",
      " 10: 0.992 \n",
      " 11: 0.002\n",
      "Sample Frequency of Training Data: \n",
      " 00: 0.0 \n",
      " 01: 0.0029 \n",
      " 10: 0.9971 \n",
      " 11: 0.0\n",
      "Sample Frequency of RBM: \n",
      " 00: 0.003 \n",
      " 01: 0.0 \n",
      " 10: 0.996 \n",
      " 11: 0.001\n",
      "Sample Frequency of Training Data: \n",
      " 00: 0.0 \n",
      " 01: 0.0034 \n",
      " 10: 0.9966 \n",
      " 11: 0.0\n",
      "Sample Frequency of RBM: \n",
      " 00: 0.003 \n",
      " 01: 0.0 \n",
      " 10: 0.994 \n",
      " 11: 0.003\n",
      "Sample Frequency of Training Data: \n",
      " 00: 0.0 \n",
      " 01: 0.0043 \n",
      " 10: 0.9957 \n",
      " 11: 0.0\n",
      "Sample Frequency of RBM: \n",
      " 00: 0.003 \n",
      " 01: 0.0 \n",
      " 10: 0.993 \n",
      " 11: 0.004\n",
      "Sample Frequency of Training Data: \n",
      " 00: 0.0 \n",
      " 01: 0.0051 \n",
      " 10: 0.9949 \n",
      " 11: 0.0\n",
      "Sample Frequency of RBM: \n",
      " 00: 0.007 \n",
      " 01: 0.0 \n",
      " 10: 0.991 \n",
      " 11: 0.002\n",
      "Sample Frequency of Training Data: \n",
      " 00: 0.0 \n",
      " 01: 0.0057 \n",
      " 10: 0.9943 \n",
      " 11: 0.0\n",
      "Sample Frequency of RBM: \n",
      " 00: 0.01 \n",
      " 01: 0.0 \n",
      " 10: 0.985 \n",
      " 11: 0.005\n",
      "Sample Frequency of Training Data: \n",
      " 00: 0.0 \n",
      " 01: 0.0079 \n",
      " 10: 0.9921 \n",
      " 11: 0.0\n",
      "Sample Frequency of RBM: \n",
      " 00: 0.003 \n",
      " 01: 0.0 \n",
      " 10: 0.993 \n",
      " 11: 0.004\n",
      "Sample Frequency of Training Data: \n",
      " 00: 0.0 \n",
      " 01: 0.0094 \n",
      " 10: 0.9906 \n",
      " 11: 0.0\n",
      "Sample Frequency of RBM: \n",
      " 00: 0.003 \n",
      " 01: 0.001 \n",
      " 10: 0.991 \n",
      " 11: 0.005\n",
      "Sample Frequency of Training Data: \n",
      " 00: 0.0 \n",
      " 01: 0.0105 \n",
      " 10: 0.9895 \n",
      " 11: 0.0\n",
      "Sample Frequency of RBM: \n",
      " 00: 0.015 \n",
      " 01: 0.0 \n",
      " 10: 0.979 \n",
      " 11: 0.006\n",
      "Sample Frequency of Training Data: \n",
      " 00: 0.0 \n",
      " 01: 0.013 \n",
      " 10: 0.987 \n",
      " 11: 0.0\n",
      "Sample Frequency of RBM: \n",
      " 00: 0.01 \n",
      " 01: 0.0 \n",
      " 10: 0.983 \n",
      " 11: 0.007\n",
      "Sample Frequency of Training Data: \n",
      " 00: 0.0 \n",
      " 01: 0.0172 \n",
      " 10: 0.9828 \n",
      " 11: 0.0\n",
      "Sample Frequency of RBM: \n",
      " 00: 0.01 \n",
      " 01: 0.001 \n",
      " 10: 0.973 \n",
      " 11: 0.016\n",
      "Sample Frequency of Training Data: \n",
      " 00: 0.0 \n",
      " 01: 0.0181 \n",
      " 10: 0.9819 \n",
      " 11: 0.0\n",
      "Sample Frequency of RBM: \n",
      " 00: 0.021 \n",
      " 01: 0.002 \n",
      " 10: 0.961 \n",
      " 11: 0.016\n",
      "Sample Frequency of Training Data: \n",
      " 00: 0.0 \n",
      " 01: 0.0237 \n",
      " 10: 0.9763 \n",
      " 11: 0.0\n",
      "Sample Frequency of RBM: \n",
      " 00: 0.014 \n",
      " 01: 0.001 \n",
      " 10: 0.966 \n",
      " 11: 0.019\n",
      "Sample Frequency of Training Data: \n",
      " 00: 0.0 \n",
      " 01: 0.0265 \n",
      " 10: 0.9735 \n",
      " 11: 0.0\n",
      "Sample Frequency of RBM: \n",
      " 00: 0.024 \n",
      " 01: 0.0 \n",
      " 10: 0.958 \n",
      " 11: 0.018\n",
      "Sample Frequency of Training Data: \n",
      " 00: 0.0 \n",
      " 01: 0.0294 \n",
      " 10: 0.9706 \n",
      " 11: 0.0\n",
      "Sample Frequency of RBM: \n",
      " 00: 0.019 \n",
      " 01: 0.007 \n",
      " 10: 0.955 \n",
      " 11: 0.019\n",
      "Sample Frequency of Training Data: \n",
      " 00: 0.0 \n",
      " 01: 0.0353 \n",
      " 10: 0.9647 \n",
      " 11: 0.0\n",
      "Sample Frequency of RBM: \n",
      " 00: 0.024 \n",
      " 01: 0.009 \n",
      " 10: 0.942 \n",
      " 11: 0.025\n",
      "Sample Frequency of Training Data: \n",
      " 00: 0.0 \n",
      " 01: 0.041 \n",
      " 10: 0.959 \n",
      " 11: 0.0\n",
      "Sample Frequency of RBM: \n",
      " 00: 0.03 \n",
      " 01: 0.005 \n",
      " 10: 0.939 \n",
      " 11: 0.026\n",
      "Sample Frequency of Training Data: \n",
      " 00: 0.0 \n",
      " 01: 0.051 \n",
      " 10: 0.949 \n",
      " 11: 0.0\n",
      "Sample Frequency of RBM: \n",
      " 00: 0.029 \n",
      " 01: 0.013 \n",
      " 10: 0.927 \n",
      " 11: 0.031\n",
      "Sample Frequency of Training Data: \n",
      " 00: 0.0 \n",
      " 01: 0.0549 \n",
      " 10: 0.9451 \n",
      " 11: 0.0\n",
      "Sample Frequency of RBM: \n",
      " 00: 0.03 \n",
      " 01: 0.016 \n",
      " 10: 0.923 \n",
      " 11: 0.031\n",
      "Sample Frequency of Training Data: \n",
      " 00: 0.0 \n",
      " 01: 0.0682 \n",
      " 10: 0.9318 \n",
      " 11: 0.0\n",
      "Sample Frequency of RBM: \n",
      " 00: 0.032 \n",
      " 01: 0.02 \n",
      " 10: 0.92 \n",
      " 11: 0.028\n",
      "Sample Frequency of Training Data: \n",
      " 00: 0.0 \n",
      " 01: 0.0782 \n",
      " 10: 0.9218 \n",
      " 11: 0.0\n",
      "Sample Frequency of RBM: \n",
      " 00: 0.018 \n",
      " 01: 0.035 \n",
      " 10: 0.916 \n",
      " 11: 0.031\n",
      "Sample Frequency of Training Data: \n",
      " 00: 0.0 \n",
      " 01: 0.0893 \n",
      " 10: 0.9107 \n",
      " 11: 0.0\n",
      "Sample Frequency of RBM: \n",
      " 00: 0.031 \n",
      " 01: 0.04 \n",
      " 10: 0.908 \n",
      " 11: 0.021\n",
      "Sample Frequency of Training Data: \n",
      " 00: 0.0 \n",
      " 01: 0.1005 \n",
      " 10: 0.8995 \n",
      " 11: 0.0\n",
      "Sample Frequency of RBM: \n",
      " 00: 0.03 \n",
      " 01: 0.049 \n",
      " 10: 0.891 \n",
      " 11: 0.03\n",
      "Sample Frequency of Training Data: \n",
      " 00: 0.0 \n",
      " 01: 0.1139 \n",
      " 10: 0.8861 \n",
      " 11: 0.0\n",
      "Sample Frequency of RBM: \n",
      " 00: 0.022 \n",
      " 01: 0.12 \n",
      " 10: 0.831 \n",
      " 11: 0.027\n",
      "Sample Frequency of Training Data: \n",
      " 00: 0.0 \n",
      " 01: 0.131 \n",
      " 10: 0.869 \n",
      " 11: 0.0\n",
      "Sample Frequency of RBM: \n",
      " 00: 0.017 \n",
      " 01: 0.156 \n",
      " 10: 0.801 \n",
      " 11: 0.026\n",
      "Sample Frequency of Training Data: \n",
      " 00: 0.0 \n",
      " 01: 0.1419 \n",
      " 10: 0.8581 \n",
      " 11: 0.0\n",
      "Sample Frequency of RBM: \n",
      " 00: 0.034 \n",
      " 01: 0.165 \n",
      " 10: 0.768 \n",
      " 11: 0.033\n",
      "Sample Frequency of Training Data: \n",
      " 00: 0.0 \n",
      " 01: 0.1552 \n",
      " 10: 0.8448 \n",
      " 11: 0.0\n",
      "Sample Frequency of RBM: \n",
      " 00: 0.019 \n",
      " 01: 0.25 \n",
      " 10: 0.716 \n",
      " 11: 0.015\n",
      "Sample Frequency of Training Data: \n",
      " 00: 0.0 \n",
      " 01: 0.1748 \n",
      " 10: 0.8252 \n",
      " 11: 0.0\n",
      "Sample Frequency of RBM: \n",
      " 00: 0.029 \n",
      " 01: 0.254 \n",
      " 10: 0.688 \n",
      " 11: 0.029\n",
      "Sample Frequency of Training Data: \n",
      " 00: 0.0 \n",
      " 01: 0.1783 \n",
      " 10: 0.8217 \n",
      " 11: 0.0\n",
      "Sample Frequency of RBM: \n",
      " 00: 0.019 \n",
      " 01: 0.312 \n",
      " 10: 0.652 \n",
      " 11: 0.017\n",
      "Sample Frequency of Training Data: \n",
      " 00: 0.0 \n",
      " 01: 0.2071 \n",
      " 10: 0.7929 \n",
      " 11: 0.0\n",
      "Sample Frequency of RBM: \n",
      " 00: 0.008 \n",
      " 01: 0.371 \n",
      " 10: 0.608 \n",
      " 11: 0.013\n",
      "Sample Frequency of Training Data: \n",
      " 00: 0.0 \n",
      " 01: 0.2221 \n",
      " 10: 0.7779 \n",
      " 11: 0.0\n",
      "Sample Frequency of RBM: \n",
      " 00: 0.014 \n",
      " 01: 0.362 \n",
      " 10: 0.61 \n",
      " 11: 0.014\n",
      "Sample Frequency of Training Data: \n",
      " 00: 0.0 \n",
      " 01: 0.2434 \n",
      " 10: 0.7566 \n",
      " 11: 0.0\n",
      "Sample Frequency of RBM: \n",
      " 00: 0.014 \n",
      " 01: 0.408 \n",
      " 10: 0.569 \n",
      " 11: 0.009\n",
      "Sample Frequency of Training Data: \n",
      " 00: 0.0 \n",
      " 01: 0.2591 \n",
      " 10: 0.7409 \n",
      " 11: 0.0\n",
      "Sample Frequency of RBM: \n",
      " 00: 0.011 \n",
      " 01: 0.433 \n",
      " 10: 0.542 \n",
      " 11: 0.014\n",
      "Sample Frequency of Training Data: \n",
      " 00: 0.0 \n",
      " 01: 0.277 \n",
      " 10: 0.723 \n",
      " 11: 0.0\n",
      "Sample Frequency of RBM: \n",
      " 00: 0.008 \n",
      " 01: 0.423 \n",
      " 10: 0.557 \n",
      " 11: 0.012\n",
      "Sample Frequency of Training Data: \n",
      " 00: 0.0 \n",
      " 01: 0.2894 \n",
      " 10: 0.7106 \n",
      " 11: 0.0\n",
      "Sample Frequency of RBM: \n",
      " 00: 0.016 \n",
      " 01: 0.405 \n",
      " 10: 0.566 \n",
      " 11: 0.013\n",
      "Sample Frequency of Training Data: \n",
      " 00: 0.0 \n",
      " 01: 0.2922 \n",
      " 10: 0.7078 \n",
      " 11: 0.0\n",
      "Sample Frequency of RBM: \n",
      " 00: 0.013 \n",
      " 01: 0.446 \n",
      " 10: 0.533 \n",
      " 11: 0.008\n",
      "Sample Frequency of Training Data: \n",
      " 00: 0.0 \n",
      " 01: 0.3113 \n",
      " 10: 0.6887 \n",
      " 11: 0.0\n",
      "Sample Frequency of RBM: \n",
      " 00: 0.014 \n",
      " 01: 0.426 \n",
      " 10: 0.547 \n",
      " 11: 0.013\n",
      "Sample Frequency of Training Data: \n",
      " 00: 0.0 \n",
      " 01: 0.3329 \n",
      " 10: 0.6671 \n",
      " 11: 0.0\n",
      "Sample Frequency of RBM: \n",
      " 00: 0.007 \n",
      " 01: 0.427 \n",
      " 10: 0.556 \n",
      " 11: 0.01\n",
      "Sample Frequency of Training Data: \n",
      " 00: 0.0 \n",
      " 01: 0.3415 \n",
      " 10: 0.6585 \n",
      " 11: 0.0\n",
      "Sample Frequency of RBM: \n",
      " 00: 0.013 \n",
      " 01: 0.455 \n",
      " 10: 0.525 \n",
      " 11: 0.007\n",
      "Sample Frequency of Training Data: \n",
      " 00: 0.0 \n",
      " 01: 0.359 \n",
      " 10: 0.641 \n",
      " 11: 0.0\n",
      "Sample Frequency of RBM: \n",
      " 00: 0.012 \n",
      " 01: 0.442 \n",
      " 10: 0.536 \n",
      " 11: 0.01\n",
      "Sample Frequency of Training Data: \n",
      " 00: 0.0 \n",
      " 01: 0.364 \n",
      " 10: 0.636 \n",
      " 11: 0.0\n",
      "Sample Frequency of RBM: \n",
      " 00: 0.014 \n",
      " 01: 0.5 \n",
      " 10: 0.479 \n",
      " 11: 0.007\n",
      "Sample Frequency of Training Data: \n",
      " 00: 0.0 \n",
      " 01: 0.3814 \n",
      " 10: 0.6186 \n",
      " 11: 0.0\n",
      "Sample Frequency of RBM: \n",
      " 00: 0.009 \n",
      " 01: 0.488 \n",
      " 10: 0.494 \n",
      " 11: 0.009\n",
      "Sample Frequency of Training Data: \n",
      " 00: 0.0 \n",
      " 01: 0.3766 \n",
      " 10: 0.6234 \n",
      " 11: 0.0\n",
      "Sample Frequency of RBM: \n",
      " 00: 0.006 \n",
      " 01: 0.441 \n",
      " 10: 0.536 \n",
      " 11: 0.017\n",
      "Sample Frequency of Training Data: \n",
      " 00: 0.0 \n",
      " 01: 0.3886 \n",
      " 10: 0.6114 \n",
      " 11: 0.0\n",
      "Sample Frequency of RBM: \n",
      " 00: 0.009 \n",
      " 01: 0.439 \n",
      " 10: 0.543 \n",
      " 11: 0.009\n",
      "Sample Frequency of Training Data: \n",
      " 00: 0.0 \n",
      " 01: 0.3988 \n",
      " 10: 0.6012 \n",
      " 11: 0.0\n",
      "Sample Frequency of RBM: \n",
      " 00: 0.012 \n",
      " 01: 0.479 \n",
      " 10: 0.495 \n",
      " 11: 0.014\n",
      "Sample Frequency of Training Data: \n",
      " 00: 0.0 \n",
      " 01: 0.4184 \n",
      " 10: 0.5816 \n",
      " 11: 0.0\n",
      "Sample Frequency of RBM: \n",
      " 00: 0.008 \n",
      " 01: 0.466 \n",
      " 10: 0.516 \n",
      " 11: 0.01\n",
      "Sample Frequency of Training Data: \n",
      " 00: 0.0 \n",
      " 01: 0.4172 \n",
      " 10: 0.5828 \n",
      " 11: 0.0\n",
      "Sample Frequency of RBM: \n",
      " 00: 0.009 \n",
      " 01: 0.482 \n",
      " 10: 0.5 \n",
      " 11: 0.009\n",
      "Sample Frequency of Training Data: \n",
      " 00: 0.0 \n",
      " 01: 0.4322 \n",
      " 10: 0.5678 \n",
      " 11: 0.0\n",
      "Sample Frequency of RBM: \n",
      " 00: 0.003 \n",
      " 01: 0.453 \n",
      " 10: 0.53 \n",
      " 11: 0.014\n",
      "Sample Frequency of Training Data: \n",
      " 00: 0.0 \n",
      " 01: 0.4325 \n",
      " 10: 0.5675 \n",
      " 11: 0.0\n",
      "Sample Frequency of RBM: \n",
      " 00: 0.02 \n",
      " 01: 0.476 \n",
      " 10: 0.493 \n",
      " 11: 0.011\n",
      "Sample Frequency of Training Data: \n",
      " 00: 0.0 \n",
      " 01: 0.4434 \n",
      " 10: 0.5566 \n",
      " 11: 0.0\n",
      "Sample Frequency of RBM: \n",
      " 00: 0.009 \n",
      " 01: 0.493 \n",
      " 10: 0.489 \n",
      " 11: 0.009\n",
      "Sample Frequency of Training Data: \n",
      " 00: 0.0 \n",
      " 01: 0.4427 \n",
      " 10: 0.5573 \n",
      " 11: 0.0\n",
      "\n"
     ]
    }
   ],
   "source": [
    "x_axis = []\n",
    "energies = []\n",
    "\n",
    "for i in tqdm(range(53)):\n",
    "    R = coeff[i][0]\n",
    "    try: \n",
    "        filename_samples = \"R_{}_samples.txt\".format(R)\n",
    "        data = np.loadtxt(folder + filename_samples)\n",
    "        data = torch.tensor(data).type(\"torch.FloatTensor\")\n",
    "        x_axis_ex.append(R)\n",
    "    except:\n",
    "        print(\"No sample file for R = {}\".format(R))\n",
    "\n",
    "\n",
    "    vis = len(data[0]) #input dimension\n",
    "\n",
    "    rbm = RBM(n_vis = vis, n_hin = hidden_factor*vis, k=1, gpu = gpu)\n",
    "\n",
    "    if gpu:\n",
    "        rbm = rbm.cuda()\n",
    "        all_spins = all_spins.cuda()\n",
    "\n",
    "    train_loader = torch.utils.data.DataLoader(data, batch_size=batch_size,\n",
    "                                               shuffle=True)\n",
    "\n",
    "    for epoch in range(epochs):\n",
    "        train_loader = torch.utils.data.DataLoader(data, batch_size=batch_size,\n",
    "                                                   shuffle=True)\n",
    "        momentum = 1 - 0.1*(epochs-epoch)/epochs #starts at 0.9 and goes up to 1\n",
    "        lr = (0.1*np.exp(-epoch/epochs*10))+0.0001\n",
    "        rbm.train(train_loader, lr = lr, momentum = momentum)\n",
    "\n",
    "    samples = []\n",
    "    for _ in range(nr_samples):\n",
    "        a = rbm.draw_sample(10)\n",
    "        samples.append(a.detach().numpy())\n",
    "    f = find_sample_frequency(np.array(samples))\n",
    "    print(\"Sample Frequency of RBM: \\n 00: {} \\n 01: {} \\n 10: {} \\n 11: {}\".format(f[0], f[1], f[2], f[3]))\n",
    "    \n",
    "    f = find_sample_frequency(data.detach().numpy())\n",
    "    print(\"Sample Frequency of Training Data: \\n 00: {} \\n 01: {} \\n 10: {} \\n 11: {}\".format(f[0], f[1], f[2], f[3]))\n",
    "    \n",
    "    E = energy(np.array(samples), coeff[i])\n",
    "    energies.append(E)"
   ]
  },
  {
   "cell_type": "code",
   "execution_count": 125,
   "metadata": {
    "ExecuteTime": {
     "end_time": "2020-06-15T08:46:20.802008Z",
     "start_time": "2020-06-15T08:46:20.668849Z"
    }
   },
   "outputs": [
    {
     "data": {
      "image/png": "[encoded data removed]",
      "text/plain": [
       "<Figure size 432x288 with 1 Axes>"
      ]
     },
     "metadata": {
      "needs_background": "light"
     },
     "output_type": "display_data"
    }
   ],
   "source": [
    "plt.plot(energies)\n",
    "plt.show()"
   ]
  }
 ],
 "metadata": {
  "kernelspec": {
   "display_name": "Python 3",
   "language": "python",
   "name": "python3"
  },
  "language_info": {
   "codemirror_mode": {
    "name": "ipython",
    "version": 3
   },
   "file_extension": ".py",
   "mimetype": "text/x-python",
   "name": "python",
   "nbconvert_exporter": "python",
   "pygments_lexer": "ipython3",
   "version": "3.7.6"
  },
  "toc": {
   "base_numbering": 1,
   "nav_menu": {},
   "number_sections": true,
   "sideBar": true,
   "skip_h1_title": false,
   "title_cell": "Table of Contents",
   "title_sidebar": "Contents",
   "toc_cell": false,
   "toc_position": {},
   "toc_section_display": true,
   "toc_window_display": false
  },
  "varInspector": {
   "cols": {
    "lenName": 16,
    "lenType": 16,
    "lenVar": 40
   },
   "kernels_config": {
    "python": {
     "delete_cmd_postfix": "",
     "delete_cmd_prefix": "del ",
     "library": "var_list.py",
     "varRefreshCmd": "print(var_dic_list())"
    },
    "r": {
     "delete_cmd_postfix": ") ",
     "delete_cmd_prefix": "rm(",
     "library": "var_list.r",
     "varRefreshCmd": "cat(var_dic_list()) "
    }
   },
   "types_to_exclude": [
    "module",
    "function",
    "builtin_function_or_method",
    "instance",
    "_Feature"
   ],
   "window_display": false
  }
 },
 "nbformat": 4,
 "nbformat_minor": 4
}
