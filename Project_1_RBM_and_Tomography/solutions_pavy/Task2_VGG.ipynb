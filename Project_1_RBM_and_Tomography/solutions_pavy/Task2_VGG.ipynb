{
  "nbformat": 4,
  "nbformat_minor": 0,
  "metadata": {
    "kernelspec": {
      "display_name": "Python 3",
      "language": "python",
      "name": "python3"
    },
    "language_info": {
      "codemirror_mode": {
        "name": "ipython",
        "version": 3
      },
      "file_extension": ".py",
      "mimetype": "text/x-python",
      "name": "python",
      "nbconvert_exporter": "python",
      "pygments_lexer": "ipython3",
      "version": "3.7.4"
    },
    "toc": {
      "base_numbering": 1,
      "nav_menu": {},
      "number_sections": true,
      "sideBar": true,
      "skip_h1_title": false,
      "title_cell": "Table of Contents",
      "title_sidebar": "Contents",
      "toc_cell": false,
      "toc_position": {},
      "toc_section_display": true,
      "toc_window_display": false
    },
    "varInspector": {
      "cols": {
        "lenName": 16,
        "lenType": 16,
        "lenVar": 40
      },
      "kernels_config": {
        "python": {
          "delete_cmd_postfix": "",
          "delete_cmd_prefix": "del ",
          "library": "var_list.py",
          "varRefreshCmd": "print(var_dic_list())"
        },
        "r": {
          "delete_cmd_postfix": ") ",
          "delete_cmd_prefix": "rm(",
          "library": "var_list.r",
          "varRefreshCmd": "cat(var_dic_list()) "
        }
      },
      "types_to_exclude": [
        "module",
        "function",
        "builtin_function_or_method",
        "instance",
        "_Feature"
      ],
      "window_display": false
    },
    "colab": {
      "name": "Task2_v1.ipynb",
      "provenance": [],
      "collapsed_sections": [],
      "include_colab_link": true
    },
    "accelerator": "GPU"
  },
  "cells": [
    {
      "cell_type": "markdown",
      "metadata": {
        "id": "view-in-github",
        "colab_type": "text"
      },
      "source": [
        "<a href=\"https://colab.research.google.com/github/VGGatGitHub/CohortProject_2020_week1/blob/master/Task2_v1.ipynb\" target=\"_parent\"><img src=\"https://colab.research.google.com/assets/colab-badge.svg\" alt=\"Open In Colab\"/></a>"
      ]
    },
    {
      "cell_type": "markdown",
      "metadata": {
        "id": "9gYJ-Y63i2qh",
        "colab_type": "text"
      },
      "source": [
        "# Task #2\n",
        "\n",
        "A template code for training an RBM on Rydberg atom data (the full dataset) is provided below. For the first part of this task (determining the minimum number of hidden units), start with 20 hidden units. \n",
        "\n",
        "Imports and loadining in data:"
      ]
    },
    {
      "cell_type": "code",
      "metadata": {
        "id": "UKjnnldsi8ry",
        "colab_type": "code",
        "colab": {
          "base_uri": "https://localhost:8080/",
          "height": 136
        },
        "outputId": "41fdb0d0-5666-418f-a546-d1258ca9c976"
      },
      "source": [
        "! git clone https://github.com/VGGatGitHub/CohortProject_2020_week1.git"
      ],
      "execution_count": 2,
      "outputs": [
        {
          "output_type": "stream",
          "text": [
            "Cloning into 'CohortProject_2020_week1'...\n",
            "remote: Enumerating objects: 3, done.\u001b[K\n",
            "remote: Counting objects: 100% (3/3), done.\u001b[K\n",
            "remote: Compressing objects: 100% (3/3), done.\u001b[K\n",
            "remote: Total 726 (delta 0), reused 0 (delta 0), pack-reused 723\u001b[K\n",
            "Receiving objects: 100% (726/726), 19.40 MiB | 14.90 MiB/s, done.\n",
            "Resolving deltas: 100% (393/393), done.\n"
          ],
          "name": "stdout"
        }
      ]
    },
    {
      "cell_type": "code",
      "metadata": {
        "id": "WnwQgK3pjDlg",
        "colab_type": "code",
        "colab": {
          "base_uri": "https://localhost:8080/",
          "height": 51
        },
        "outputId": "37719bab-6a3b-4d73-e701-1a722810d397"
      },
      "source": [
        "!pwd\n",
        "!ls\n",
        "f_loc=\"/content/CohortProject_2020_week1/Project_1_RBM_and_Tomography/\""
      ],
      "execution_count": 3,
      "outputs": [
        {
          "output_type": "stream",
          "text": [
            "/content\n",
            "CohortProject_2020_week1  sample_data\n"
          ],
          "name": "stdout"
        }
      ]
    },
    {
      "cell_type": "code",
      "metadata": {
        "id": "TSeW1AQujH0Y",
        "colab_type": "code",
        "colab": {
          "base_uri": "https://localhost:8080/",
          "height": 34
        },
        "outputId": "8fd7b12e-212b-44b0-a9df-ff8f2f276ecb"
      },
      "source": [
        "import sys\n",
        "sys.path.append(f_loc)\n",
        "\n",
        "import os\n",
        "print(os.getcwd())\n",
        "\n",
        "for dirname, _, filenames in os.walk(f_loc):\n",
        "    for filename in filenames:\n",
        "        #print(os.path.join(dirname, filename))\n",
        "        pass\n"
      ],
      "execution_count": 4,
      "outputs": [
        {
          "output_type": "stream",
          "text": [
            "/content\n"
          ],
          "name": "stdout"
        }
      ]
    },
    {
      "cell_type": "code",
      "metadata": {
        "id": "87bvF0tei2qj",
        "colab_type": "code",
        "colab": {}
      },
      "source": [
        "import numpy as np\n",
        "import torch\n",
        "from RBM_helper import RBM\n",
        "import time"
      ],
      "execution_count": 5,
      "outputs": []
    },
    {
      "cell_type": "code",
      "metadata": {
        "id": "tASo4eoY9sgW",
        "colab_type": "code",
        "colab": {
          "base_uri": "https://localhost:8080/",
          "height": 34
        },
        "outputId": "cc21915f-f3a7-40a0-94b8-a2a822a4c7ee"
      },
      "source": [
        "if torch.cuda.is_available():\n",
        "    gpu = True\n",
        "    device = torch.device(\"cuda:0\")  # you can continue going on here, like cuda:1 cuda:2....etc. \n",
        "    print(\"Running on the GPU\")\n",
        "else:\n",
        "    gpu = False\n",
        "    device = torch.device(\"cpu\")\n",
        "    print(\"Running on the CPU\")\n",
        "\n",
        "#VGG check out \n",
        "# https://github.com/PIQuIL/QuCumber/blob/master/qucumber/rbm/binary_rbm.py\n",
        "# https://pytorch.org/docs/stable/notes/cuda.html"
      ],
      "execution_count": 6,
      "outputs": [
        {
          "output_type": "stream",
          "text": [
            "Running on the GPU\n"
          ],
          "name": "stdout"
        }
      ]
    },
    {
      "cell_type": "code",
      "metadata": {
        "id": "qbIDgBkzwCfI",
        "colab_type": "code",
        "colab": {
          "base_uri": "https://localhost:8080/",
          "height": 34
        },
        "outputId": "c64ad051-0633-4bb9-8635-8e7d23eaedcb"
      },
      "source": [
        "import Rydberg_energy_calculator\n",
        "all_data=np.loadtxt(f_loc+\"Rydberg_data.txt\")\n",
        "all_data.shape"
      ],
      "execution_count": 7,
      "outputs": [
        {
          "output_type": "execute_result",
          "data": {
            "text/plain": [
              "(20000, 100)"
            ]
          },
          "metadata": {
            "tags": []
          },
          "execution_count": 7
        }
      ]
    },
    {
      "cell_type": "code",
      "metadata": {
        "id": "oYB8ZKd3tvUc",
        "colab_type": "code",
        "colab": {
          "base_uri": "https://localhost:8080/",
          "height": 153
        },
        "outputId": "d8b50c70-7fa4-4d18-faf2-5207993ce7ca"
      },
      "source": [
        "training_data = torch.from_numpy(all_data[0:1000,:]).cuda()\n",
        "print(training_data.detach().shape)\n",
        "training_data[2,:]"
      ],
      "execution_count": 8,
      "outputs": [
        {
          "output_type": "stream",
          "text": [
            "torch.Size([1000, 100])\n"
          ],
          "name": "stdout"
        },
        {
          "output_type": "execute_result",
          "data": {
            "text/plain": [
              "tensor([0., 0., 0., 0., 0., 0., 0., 0., 0., 0., 0., 0., 0., 0., 0., 0., 0., 0.,\n",
              "        0., 0., 0., 0., 0., 0., 0., 0., 0., 0., 0., 0., 0., 0., 0., 0., 0., 0.,\n",
              "        0., 0., 0., 0., 0., 0., 0., 0., 0., 0., 0., 0., 0., 0., 0., 0., 1., 0.,\n",
              "        0., 0., 0., 0., 0., 0., 0., 0., 0., 0., 0., 0., 0., 0., 0., 0., 0., 0.,\n",
              "        1., 0., 0., 0., 0., 0., 0., 0., 0., 1., 0., 0., 0., 0., 0., 0., 0., 0.,\n",
              "        0., 0., 0., 0., 0., 0., 0., 0., 0., 0.], device='cuda:0',\n",
              "       dtype=torch.float64)"
            ]
          },
          "metadata": {
            "tags": []
          },
          "execution_count": 8
        }
      ]
    },
    {
      "cell_type": "markdown",
      "metadata": {
        "id": "W-wN9ZUri2qr",
        "colab_type": "text"
      },
      "source": [
        "Define the RBM:"
      ]
    },
    {
      "cell_type": "code",
      "metadata": {
        "id": "fRfmDmi3i2qs",
        "colab_type": "code",
        "colab": {}
      },
      "source": [
        "n_vis = all_data.shape[1]\n",
        "n_hin = 1\n",
        "\n",
        "rbm = RBM(n_vis, n_hin)\n",
        "rbm.initialize_parameters()"
      ],
      "execution_count": 9,
      "outputs": []
    },
    {
      "cell_type": "code",
      "metadata": {
        "id": "hA4t-igJsaRa",
        "colab_type": "code",
        "colab": {
          "base_uri": "https://localhost:8080/",
          "height": 357
        },
        "outputId": "c61bdc08-6cc8-4ed4-c16a-ff9958546030"
      },
      "source": [
        "print(n_vis,n_hin,rbm.weights.data.detach().shape)\n",
        "print(rbm.visible_bias,\"\\n\",rbm.hidden_bias)\n",
        "rbm.weights.data"
      ],
      "execution_count": 10,
      "outputs": [
        {
          "output_type": "stream",
          "text": [
            "100 1 torch.Size([1, 100])\n",
            "tensor([0., 0., 0., 0., 0., 0., 0., 0., 0., 0., 0., 0., 0., 0., 0., 0., 0., 0., 0., 0., 0., 0., 0., 0.,\n",
            "        0., 0., 0., 0., 0., 0., 0., 0., 0., 0., 0., 0., 0., 0., 0., 0., 0., 0., 0., 0., 0., 0., 0., 0.,\n",
            "        0., 0., 0., 0., 0., 0., 0., 0., 0., 0., 0., 0., 0., 0., 0., 0., 0., 0., 0., 0., 0., 0., 0., 0.,\n",
            "        0., 0., 0., 0., 0., 0., 0., 0., 0., 0., 0., 0., 0., 0., 0., 0., 0., 0., 0., 0., 0., 0., 0., 0.,\n",
            "        0., 0., 0., 0.], dtype=torch.float64) \n",
            " tensor([0.], dtype=torch.float64)\n"
          ],
          "name": "stdout"
        },
        {
          "output_type": "execute_result",
          "data": {
            "text/plain": [
              "tensor([[ 0.1527, -0.0556, -0.1010,  0.0336,  0.0661, -0.1644,  0.2233, -0.0948,\n",
              "         -0.0867, -0.1342, -0.1621, -0.0603,  0.0235, -0.0334, -0.0415, -0.0436,\n",
              "          0.1434, -0.1273,  0.0051, -0.0489, -0.1687,  0.1263,  0.1597,  0.0491,\n",
              "         -0.0320,  0.0320, -0.0702,  0.0242,  0.0776, -0.1314, -0.1052,  0.1413,\n",
              "          0.0691,  0.0538, -0.1555,  0.0634,  0.0181,  0.0182,  0.2195, -0.0859,\n",
              "         -0.0928,  0.0234, -0.1278, -0.0543,  0.0537,  0.1190,  0.0318, -0.0051,\n",
              "          0.0036, -0.2381,  0.0181, -0.0689,  0.0121, -0.0278, -0.0798, -0.0709,\n",
              "          0.1309,  0.1428,  0.0252, -0.0501,  0.1466,  0.2103, -0.0052, -0.0807,\n",
              "         -0.0894, -0.0704,  0.0101,  0.0282, -0.1532, -0.1745,  0.0256,  0.1498,\n",
              "         -0.0763, -0.0235,  0.1480, -0.0072, -0.1119,  0.0423,  0.1848,  0.0329,\n",
              "          0.0974, -0.1076,  0.0248,  0.0065, -0.0464,  0.0218,  0.1021,  0.0874,\n",
              "          0.0383,  0.1828, -0.1135,  0.1064, -0.0355,  0.1333,  0.0420, -0.0597,\n",
              "          0.0853,  0.0591,  0.1224,  0.0990]], dtype=torch.float64)"
            ]
          },
          "metadata": {
            "tags": []
          },
          "execution_count": 10
        }
      ]
    },
    {
      "cell_type": "markdown",
      "metadata": {
        "id": "_cNjdbCyi2qw",
        "colab_type": "text"
      },
      "source": [
        "Train the RBM:"
      ]
    },
    {
      "cell_type": "code",
      "metadata": {
        "id": "668CWOoZi2qx",
        "colab_type": "code",
        "colab": {
          "base_uri": "https://localhost:8080/",
          "height": 921
        },
        "outputId": "8e2b2483-8503-4728-a9e1-06c13d6be447"
      },
      "source": [
        "epochs = 1000\n",
        "num_samples = 100\n",
        "\n",
        "exact_energy = -4.1203519096\n",
        "print(\"Exact energy: \",exact_energy)\n",
        "\n",
        "start_time = time.time()\n",
        "for e in range(1, epochs+1):\n",
        "    # do one epoch of training\n",
        "    rbm.train(training_data)  \n",
        " \n",
        "    # now generate samples and calculate the energy\n",
        "    if e % 100 == 0:\n",
        "        print(\"\\nEpoch: \", e)\n",
        "        print(\"Sampling...\")\n",
        "\n",
        "        init_state = torch.zeros(num_samples, n_vis).cuda()\n",
        "        RBM_samples = rbm.draw_samples(100, init_state)\n",
        "\n",
        "        print(\"Done sampling. Calculating energy...\") \n",
        " \n",
        "        energies = Rydberg_energy_calculator.energy(RBM_samples, rbm.wavefunction) \n",
        "        RBM_energy=energies.item()\n",
        "        print(\"Energy from RBM samples: E={:9.5f}, E_rmb={:9.5f}, diff*10e+4:{:5.1f}, time:{:.2f} sec.\".format(\n",
        "            exact_energy,RBM_energy,10**4*abs(exact_energy-RBM_energy),(time.time()-start_time)))\n",
        "        \n",
        "        if abs(exact_energy-RBM_energy) < 1.0e-4:\n",
        "          break \n",
        "       "
      ],
      "execution_count": 11,
      "outputs": [
        {
          "output_type": "stream",
          "text": [
            "Exact energy:  -4.1203519096\n",
            "\n",
            "Epoch:  100\n",
            "Sampling...\n",
            "Done sampling. Calculating energy...\n"
          ],
          "name": "stdout"
        },
        {
          "output_type": "stream",
          "text": [
            "/pytorch/aten/src/ATen/native/BinaryOps.cpp:81: UserWarning: Integer division of tensors using div or / is deprecated, and in a future release div will perform true division as in Python 3. Use true_divide or floor_divide (// in Python) instead.\n"
          ],
          "name": "stderr"
        },
        {
          "output_type": "stream",
          "text": [
            "Energy from RBM samples: E= -4.12035, E_rmb= -3.76405, diff*10e+4:3563.0, time:3.51 sec.\n",
            "\n",
            "Epoch:  200\n",
            "Sampling...\n",
            "Done sampling. Calculating energy...\n",
            "Energy from RBM samples: E= -4.12035, E_rmb= -4.03131, diff*10e+4:890.4, time:6.86 sec.\n",
            "\n",
            "Epoch:  300\n",
            "Sampling...\n",
            "Done sampling. Calculating energy...\n",
            "Energy from RBM samples: E= -4.12035, E_rmb= -4.08769, diff*10e+4:326.6, time:10.45 sec.\n",
            "\n",
            "Epoch:  400\n",
            "Sampling...\n",
            "Done sampling. Calculating energy...\n",
            "Energy from RBM samples: E= -4.12035, E_rmb= -4.09711, diff*10e+4:232.4, time:13.83 sec.\n",
            "\n",
            "Epoch:  500\n",
            "Sampling...\n",
            "Done sampling. Calculating energy...\n",
            "Energy from RBM samples: E= -4.12035, E_rmb= -4.10619, diff*10e+4:141.6, time:17.20 sec.\n",
            "\n",
            "Epoch:  600\n",
            "Sampling...\n",
            "Done sampling. Calculating energy...\n",
            "Energy from RBM samples: E= -4.12035, E_rmb= -4.11539, diff*10e+4: 49.6, time:20.58 sec.\n",
            "\n",
            "Epoch:  700\n",
            "Sampling...\n",
            "Done sampling. Calculating energy...\n",
            "Energy from RBM samples: E= -4.12035, E_rmb= -4.11769, diff*10e+4: 26.6, time:23.97 sec.\n",
            "\n",
            "Epoch:  800\n",
            "Sampling...\n",
            "Done sampling. Calculating energy...\n",
            "Energy from RBM samples: E= -4.12035, E_rmb= -4.11498, diff*10e+4: 53.7, time:27.34 sec.\n",
            "\n",
            "Epoch:  900\n",
            "Sampling...\n",
            "Done sampling. Calculating energy...\n",
            "Energy from RBM samples: E= -4.12035, E_rmb= -4.11847, diff*10e+4: 18.8, time:30.64 sec.\n",
            "\n",
            "Epoch:  1000\n",
            "Sampling...\n",
            "Done sampling. Calculating energy...\n",
            "Energy from RBM samples: E= -4.12035, E_rmb= -4.11907, diff*10e+4: 12.9, time:34.06 sec.\n"
          ],
          "name": "stdout"
        }
      ]
    },
    {
      "cell_type": "code",
      "metadata": {
        "id": "eR5_zk-3tA2c",
        "colab_type": "code",
        "colab": {
          "base_uri": "https://localhost:8080/",
          "height": 493
        },
        "outputId": "27f4d57a-01f5-4213-a8c0-0f1c9e387f46"
      },
      "source": [
        "print(n_vis,n_hin,rbm.weights.data.detach().shape)\n",
        "print(rbm.visible_bias,\"\\n\",rbm.hidden_bias)\n",
        "rbm.weights.data"
      ],
      "execution_count": 12,
      "outputs": [
        {
          "output_type": "stream",
          "text": [
            "100 1 torch.Size([1, 100])\n",
            "tensor([-2.8163, -3.1166, -2.8985, -2.9321, -3.2721, -3.1193, -3.2385, -3.1674,\n",
            "        -3.2198, -2.9844, -2.8442, -2.9407, -3.1874, -3.1295, -3.1467, -3.2273,\n",
            "        -3.2626, -3.3903, -3.2036, -3.1129, -3.0400, -3.1603, -3.3873, -3.2646,\n",
            "        -3.1262, -3.1983, -3.2408, -3.1816, -3.3470, -2.9574, -3.1002, -3.3796,\n",
            "        -3.2327, -3.0914, -3.1028, -3.2783, -3.2464, -2.9739, -3.1726, -3.0625,\n",
            "        -3.1814, -3.1439, -2.9908, -3.2282, -3.2304, -3.1177, -3.1546, -3.3666,\n",
            "        -3.2090, -3.1087, -3.2117, -3.0192, -2.9862, -3.0016, -3.2206, -3.1079,\n",
            "        -3.3339, -3.1649, -3.3322, -3.0841, -3.2371, -3.1418, -2.9604, -3.0724,\n",
            "        -3.1346, -3.2928, -3.2111, -3.2520, -3.2611, -3.1323, -3.0898, -3.2370,\n",
            "        -3.1382, -3.2727, -3.2072, -2.9786, -3.1263, -3.1180, -3.3220, -2.9483,\n",
            "        -3.2775, -3.0330, -3.2596, -3.1618, -3.1403, -3.3253, -3.2093, -3.0254,\n",
            "        -3.0894, -3.2895, -3.1418, -3.0022, -3.0920, -3.1985, -3.2978, -3.1490,\n",
            "        -3.2510, -3.2349, -3.2582, -2.6954], dtype=torch.float64) \n",
            " tensor([7.7985], dtype=torch.float64)\n"
          ],
          "name": "stdout"
        },
        {
          "output_type": "execute_result",
          "data": {
            "text/plain": [
              "tensor([[-0.8039, -1.3382, -1.1308, -1.0399, -1.3868, -1.4177, -1.2125, -1.4138,\n",
              "         -1.4590, -1.2613, -1.1278, -1.1430, -1.3270, -1.3137, -1.3555, -1.4315,\n",
              "         -1.3185, -1.6788, -1.3684, -1.3253, -1.3428, -1.2234, -1.4268, -1.3952,\n",
              "         -1.3084, -1.3198, -1.4803, -1.3313, -1.4633, -1.2335, -1.3409, -1.4321,\n",
              "         -1.3568, -1.2050, -1.4042, -1.3889, -1.4237, -1.1147, -1.1423, -1.3048,\n",
              "         -1.4188, -1.2864, -1.2654, -1.4405, -1.3498, -1.1672, -1.2873, -1.5429,\n",
              "         -1.3666, -1.4788, -1.3704, -1.2318, -1.1378, -1.1813, -1.4543, -1.3353,\n",
              "         -1.3895, -1.2189, -1.4824, -1.2931, -1.2862, -1.1149, -1.1107, -1.3024,\n",
              "         -1.3694, -1.5280, -1.3697, -1.3959, -1.5641, -1.4500, -1.2160, -1.2769,\n",
              "         -1.3725, -1.4630, -1.2366, -1.1490, -1.3952, -1.2358, -1.3351, -1.0690,\n",
              "         -1.3640, -1.2813, -1.4004, -1.3283, -1.3540, -1.4788, -1.2848, -1.0950,\n",
              "         -1.2306, -1.2993, -1.3900, -1.0641, -1.2875, -1.2404, -1.4281, -1.3649,\n",
              "         -1.3445, -1.3509, -1.3151, -0.7146]], dtype=torch.float64)"
            ]
          },
          "metadata": {
            "tags": []
          },
          "execution_count": 12
        }
      ]
    },
    {
      "cell_type": "code",
      "metadata": {
        "id": "ZGEpElvyxmmi",
        "colab_type": "code",
        "colab": {}
      },
      "source": [
        "def exolore(n_data_min,*n_hins):\n",
        "  all_data=np.loadtxt(f_loc+\"Rydberg_data.txt\")\n",
        "  n_vis = all_data.shape[1]\n",
        "  n_data_max=all_data.shape[0]\n",
        "  n_data_max=5000\n",
        "  results=[]\n",
        "\n",
        "  if len(n_hins)==2:\n",
        "    n_hin_range=range(n_hins[0],n_hins[1])\n",
        "  elif len(n_hins)==1:\n",
        "    n_hin_range=range(1,n_hins[0])\n",
        "  else:\n",
        "    n_hin_range=range(1,2)\n",
        "\n",
        "  for n_hin in n_hin_range:\n",
        "    print(\"\\nn_hin: \", n_hin)\n",
        "\n",
        "    rbm = RBM(n_vis, n_hin)\n",
        "    #rbm.initialize_parameters() \n",
        "    \n",
        "    for n_data in range(n_data_min,n_data_max,500):\n",
        "\n",
        "      print(\"\\tn_data: \", n_data)\n",
        "      training_data = torch.from_numpy(all_data[0:n_data,:]).cuda()  \n",
        "      \n",
        "\n",
        "      start_time = time.time()\n",
        "      for e in range(1, epochs+1):\n",
        "          # do one epoch of training\n",
        "          rbm.train(training_data)  \n",
        "      \n",
        "          # now generate samples and calculate the energy\n",
        "          if e % 100 == 0:\n",
        "              #print(\"\\nEpoch: \", e)\n",
        "              #print(\"Sampling...\")\n",
        "\n",
        "              init_state = torch.zeros(num_samples, n_vis).cuda()\n",
        "              RBM_samples = rbm.draw_samples(100, init_state)\n",
        "\n",
        "              #print(\"Done sampling. Calculating energy...\") \n",
        "      \n",
        "              energies = Rydberg_energy_calculator.energy(RBM_samples, rbm.wavefunction) \n",
        "              RBM_energy=energies.item()\n",
        "              #print(\"Energy from RBM samples: E={:9.5f}, E_rmb={:9.5f}, diff*10e+4:{:5.1f}\".format(\n",
        "              #    exact_energy,RBM_energy,10**4*abs(exact_energy-RBM_energy)))\n",
        "              \n",
        "              if abs(exact_energy-RBM_energy) < 1.0e-4:\n",
        "                break\n",
        "      \n",
        "\n",
        "      print(\"\\t\\t\\t\",[n_hin,n_data,e,'{:.2f}'.format(10**4*(exact_energy-RBM_energy))],\n",
        "            \" time:{:.2f} sec.\".format((time.time()-start_time)))\n",
        "      results.append([n_hin,n_data,e,10**4*(exact_energy-RBM_energy)])\n",
        "\n",
        "      if abs(exact_energy-RBM_energy) < 1.0e-4:\n",
        "        break\n",
        "\n",
        "  return results   "
      ],
      "execution_count": 13,
      "outputs": []
    },
    {
      "cell_type": "code",
      "metadata": {
        "id": "sYjP772K0RW7",
        "colab_type": "code",
        "colab": {
          "base_uri": "https://localhost:8080/",
          "height": 1000
        },
        "outputId": "15dfdfed-ee40-4992-e7aa-0aa5ddf0ff5a"
      },
      "source": [
        "%%time\n",
        "results=exolore(500,20)"
      ],
      "execution_count": 14,
      "outputs": [
        {
          "output_type": "stream",
          "text": [
            "\n",
            "n_hin:  1\n",
            "\tn_data:  500\n",
            "\t\t\t [1, 500, 1000, '-148.24']  time:18.24 sec.\n",
            "\tn_data:  1000\n",
            "\t\t\t [1, 1000, 1000, '-25.09']  time:35.62 sec.\n",
            "\tn_data:  1500\n",
            "\t\t\t [1, 1500, 400, '0.93']  time:20.78 sec.\n",
            "\n",
            "n_hin:  2\n",
            "\tn_data:  500\n",
            "\t\t\t [2, 500, 1000, '-81.32']  time:18.99 sec.\n",
            "\tn_data:  1000\n",
            "\t\t\t [2, 1000, 1000, '-24.62']  time:37.25 sec.\n",
            "\tn_data:  1500\n",
            "\t\t\t [2, 1500, 1000, '-27.55']  time:55.29 sec.\n",
            "\tn_data:  2000\n",
            "\t\t\t [2, 2000, 600, '-0.98']  time:44.27 sec.\n",
            "\n",
            "n_hin:  3\n",
            "\tn_data:  500\n",
            "\t\t\t [3, 500, 1000, '-81.22']  time:20.40 sec.\n",
            "\tn_data:  1000\n",
            "\t\t\t [3, 1000, 1000, '-18.81']  time:38.99 sec.\n",
            "\tn_data:  1500\n",
            "\t\t\t [3, 1500, 1000, '-7.53']  time:58.74 sec.\n",
            "\tn_data:  2000\n",
            "\t\t\t [3, 2000, 1000, '-16.58']  time:77.46 sec.\n",
            "\tn_data:  2500\n",
            "\t\t\t [3, 2500, 1000, '-11.26']  time:95.08 sec.\n",
            "\tn_data:  3000\n",
            "\t\t\t [3, 3000, 1000, '-8.66']  time:113.93 sec.\n",
            "\tn_data:  3500\n",
            "\t\t\t [3, 3500, 100, '-0.29']  time:13.56 sec.\n",
            "\n",
            "n_hin:  4\n",
            "\tn_data:  500\n",
            "\t\t\t [4, 500, 1000, '-154.10']  time:21.48 sec.\n",
            "\tn_data:  1000\n",
            "\t\t\t [4, 1000, 1000, '-0.22']  time:40.65 sec.\n",
            "\n",
            "n_hin:  5\n",
            "\tn_data:  500\n",
            "\t\t\t [5, 500, 1000, '-33.47']  time:21.26 sec.\n",
            "\tn_data:  1000\n",
            "\t\t\t [5, 1000, 1000, '-22.46']  time:40.49 sec.\n",
            "\tn_data:  1500\n",
            "\t\t\t [5, 1500, 1000, '-30.32']  time:60.40 sec.\n",
            "\tn_data:  2000\n",
            "\t\t\t [5, 2000, 800, '-0.89']  time:63.58 sec.\n",
            "\n",
            "n_hin:  6\n",
            "\tn_data:  500\n",
            "\t\t\t [6, 500, 1000, '-51.10']  time:22.04 sec.\n",
            "\tn_data:  1000\n",
            "\t\t\t [6, 1000, 1000, '8.60']  time:41.07 sec.\n",
            "\tn_data:  1500\n",
            "\t\t\t [6, 1500, 1000, '-34.42']  time:61.72 sec.\n",
            "\tn_data:  2000\n",
            "\t\t\t [6, 2000, 400, '-0.17']  time:33.04 sec.\n",
            "\n",
            "n_hin:  7\n",
            "\tn_data:  500\n",
            "\t\t\t [7, 500, 1000, '-21.81']  time:22.40 sec.\n",
            "\tn_data:  1000\n",
            "\t\t\t [7, 1000, 1000, '-18.79']  time:42.19 sec.\n",
            "\tn_data:  1500\n",
            "\t\t\t [7, 1500, 1000, '-20.39']  time:61.47 sec.\n",
            "\tn_data:  2000\n",
            "\t\t\t [7, 2000, 1000, '-12.56']  time:81.52 sec.\n",
            "\tn_data:  2500\n",
            "\t\t\t [7, 2500, 1000, '0.20']  time:102.48 sec.\n",
            "\n",
            "n_hin:  8\n",
            "\tn_data:  500\n",
            "\t\t\t [8, 500, 1000, '-52.83']  time:22.58 sec.\n",
            "\tn_data:  1000\n",
            "\t\t\t [8, 1000, 1000, '16.18']  time:42.17 sec.\n",
            "\tn_data:  1500\n",
            "\t\t\t [8, 1500, 1000, '-28.02']  time:62.92 sec.\n",
            "\tn_data:  2000\n",
            "\t\t\t [8, 2000, 1000, '-27.72']  time:83.23 sec.\n",
            "\tn_data:  2500\n",
            "\t\t\t [8, 2500, 1000, '-17.55']  time:104.86 sec.\n",
            "\tn_data:  3000\n",
            "\t\t\t [8, 3000, 1000, '-15.93']  time:123.05 sec.\n",
            "\tn_data:  3500\n",
            "\t\t\t [8, 3500, 1000, '2.76']  time:132.91 sec.\n",
            "\tn_data:  4000\n",
            "\t\t\t [8, 4000, 1000, '-7.71']  time:144.24 sec.\n",
            "\tn_data:  4500\n",
            "\t\t\t [8, 4500, 500, '0.33']  time:79.27 sec.\n",
            "\n",
            "n_hin:  9\n",
            "\tn_data:  500\n",
            "\t\t\t [9, 500, 1000, '-55.09']  time:20.02 sec.\n",
            "\tn_data:  1000\n",
            "\t\t\t [9, 1000, 900, '0.37']  time:34.08 sec.\n",
            "\n",
            "n_hin:  10\n",
            "\tn_data:  500\n",
            "\t\t\t [10, 500, 1000, '-56.22']  time:20.02 sec.\n",
            "\tn_data:  1000\n",
            "\t\t\t [10, 1000, 1000, '-12.98']  time:36.57 sec.\n",
            "\tn_data:  1500\n",
            "\t\t\t [10, 1500, 1000, '-32.62']  time:54.31 sec.\n",
            "\tn_data:  2000\n",
            "\t\t\t [10, 2000, 1000, '-13.43']  time:71.44 sec.\n",
            "\tn_data:  2500\n",
            "\t\t\t [10, 2500, 1000, '-5.62']  time:87.68 sec.\n",
            "\tn_data:  3000\n",
            "\t\t\t [10, 3000, 1000, '-13.26']  time:105.56 sec.\n",
            "\tn_data:  3500\n",
            "\t\t\t [10, 3500, 1000, '-8.45']  time:119.93 sec.\n",
            "\tn_data:  4000\n",
            "\t\t\t [10, 4000, 1000, '-15.15']  time:143.84 sec.\n",
            "\tn_data:  4500\n",
            "\t\t\t [10, 4500, 1000, '3.84']  time:164.98 sec.\n",
            "\n",
            "n_hin:  11\n",
            "\tn_data:  500\n",
            "\t\t\t [11, 500, 1000, '-79.34']  time:20.12 sec.\n",
            "\tn_data:  1000\n",
            "\t\t\t [11, 1000, 1000, '-9.56']  time:37.92 sec.\n",
            "\tn_data:  1500\n",
            "\t\t\t [11, 1500, 1000, '-0.91']  time:54.80 sec.\n",
            "\n",
            "n_hin:  12\n",
            "\tn_data:  500\n",
            "\t\t\t [12, 500, 1000, '-92.67']  time:20.47 sec.\n",
            "\tn_data:  1000\n",
            "\t\t\t [12, 1000, 1000, '-42.26']  time:38.40 sec.\n",
            "\tn_data:  1500\n",
            "\t\t\t [12, 1500, 1000, '-6.37']  time:55.06 sec.\n",
            "\tn_data:  2000\n",
            "\t\t\t [12, 2000, 1000, '1.24']  time:71.32 sec.\n",
            "\tn_data:  2500\n",
            "\t\t\t [12, 2500, 1000, '-7.18']  time:89.76 sec.\n",
            "\tn_data:  3000\n",
            "\t\t\t [12, 3000, 300, '-0.60']  time:32.14 sec.\n",
            "\n",
            "n_hin:  13\n",
            "\tn_data:  500\n",
            "\t\t\t [13, 500, 1000, '-62.61']  time:20.39 sec.\n",
            "\tn_data:  1000\n",
            "\t\t\t [13, 1000, 1000, '-45.87']  time:37.72 sec.\n",
            "\tn_data:  1500\n",
            "\t\t\t [13, 1500, 1000, '-30.62']  time:54.03 sec.\n",
            "\tn_data:  2000\n",
            "\t\t\t [13, 2000, 700, '-0.81']  time:49.52 sec.\n",
            "\n",
            "n_hin:  14\n",
            "\tn_data:  500\n",
            "\t\t\t [14, 500, 800, '0.08']  time:15.86 sec.\n",
            "\n",
            "n_hin:  15\n",
            "\tn_data:  500\n",
            "\t\t\t [15, 500, 1000, '-71.50']  time:19.58 sec.\n",
            "\tn_data:  1000\n",
            "\t\t\t [15, 1000, 1000, '-48.05']  time:37.38 sec.\n",
            "\tn_data:  1500\n",
            "\t\t\t [15, 1500, 1000, '-18.90']  time:54.39 sec.\n",
            "\tn_data:  2000\n",
            "\t\t\t [15, 2000, 1000, '-10.79']  time:73.73 sec.\n",
            "\tn_data:  2500\n",
            "\t\t\t [15, 2500, 1000, '-4.07']  time:96.91 sec.\n",
            "\tn_data:  3000\n",
            "\t\t\t [15, 3000, 1000, '-17.09']  time:123.32 sec.\n",
            "\tn_data:  3500\n",
            "\t\t\t [15, 3500, 1000, '-16.97']  time:144.96 sec.\n",
            "\tn_data:  4000\n",
            "\t\t\t [15, 4000, 1000, '-10.99']  time:169.03 sec.\n",
            "\tn_data:  4500\n",
            "\t\t\t [15, 4500, 1000, '1.55']  time:186.47 sec.\n",
            "\n",
            "n_hin:  16\n",
            "\tn_data:  500\n",
            "\t\t\t [16, 500, 1000, '-42.62']  time:23.18 sec.\n",
            "\tn_data:  1000\n",
            "\t\t\t [16, 1000, 1000, '-7.79']  time:43.58 sec.\n",
            "\tn_data:  1500\n",
            "\t\t\t [16, 1500, 1000, '-28.57']  time:65.67 sec.\n",
            "\tn_data:  2000\n",
            "\t\t\t [16, 2000, 1000, '-36.44']  time:87.96 sec.\n",
            "\tn_data:  2500\n",
            "\t\t\t [16, 2500, 100, '0.04']  time:10.89 sec.\n",
            "\n",
            "n_hin:  17\n",
            "\tn_data:  500\n",
            "\t\t\t [17, 500, 1000, '-60.23']  time:23.44 sec.\n",
            "\tn_data:  1000\n",
            "\t\t\t [17, 1000, 1000, '-29.57']  time:45.60 sec.\n",
            "\tn_data:  1500\n",
            "\t\t\t [17, 1500, 1000, '-32.71']  time:66.63 sec.\n",
            "\tn_data:  2000\n",
            "\t\t\t [17, 2000, 1000, '-36.93']  time:86.51 sec.\n",
            "\tn_data:  2500\n",
            "\t\t\t [17, 2500, 1000, '-13.28']  time:109.51 sec.\n",
            "\tn_data:  3000\n",
            "\t\t\t [17, 3000, 800, '0.10']  time:105.71 sec.\n",
            "\n",
            "n_hin:  18\n",
            "\tn_data:  500\n",
            "\t\t\t [18, 500, 1000, '-127.38']  time:24.37 sec.\n",
            "\tn_data:  1000\n",
            "\t\t\t [18, 1000, 1000, '-32.25']  time:45.92 sec.\n",
            "\tn_data:  1500\n",
            "\t\t\t [18, 1500, 500, '-0.92']  time:33.76 sec.\n",
            "\n",
            "n_hin:  19\n",
            "\tn_data:  500\n",
            "\t\t\t [19, 500, 1000, '-110.24']  time:24.72 sec.\n",
            "\tn_data:  1000\n",
            "\t\t\t [19, 1000, 1000, '-42.88']  time:45.81 sec.\n",
            "\tn_data:  1500\n",
            "\t\t\t [19, 1500, 1000, '2.48']  time:68.12 sec.\n",
            "\tn_data:  2000\n",
            "\t\t\t [19, 2000, 500, '0.27']  time:45.45 sec.\n",
            "CPU times: user 1h 31min 2s, sys: 16.7 s, total: 1h 31min 18s\n",
            "Wall time: 1h 31min 19s\n"
          ],
          "name": "stdout"
        }
      ]
    },
    {
      "cell_type": "code",
      "metadata": {
        "id": "343xyCcM3-vg",
        "colab_type": "code",
        "colab": {
          "base_uri": "https://localhost:8080/",
          "height": 306
        },
        "outputId": "6d837041-26ef-44a7-a344-0c10b17a5455"
      },
      "source": [
        "abs_v=[abs(v) for n,n_data, epochs, v in results]\n",
        "abs_v=np.array(abs_v)\n",
        "nn_data=[[n,n_data] for n,n_data, epochs, v in results]\n",
        "nn_data=np.array(nn_data)\n",
        "boolArr=(abs_v<1)\n",
        "toplot=nn_data[boolArr]\n",
        "toplot"
      ],
      "execution_count": 15,
      "outputs": [
        {
          "output_type": "execute_result",
          "data": {
            "text/plain": [
              "array([[   1, 1500],\n",
              "       [   2, 2000],\n",
              "       [   3, 3500],\n",
              "       [   4, 1000],\n",
              "       [   5, 2000],\n",
              "       [   6, 2000],\n",
              "       [   7, 2500],\n",
              "       [   8, 4500],\n",
              "       [   9, 1000],\n",
              "       [  11, 1500],\n",
              "       [  12, 3000],\n",
              "       [  13, 2000],\n",
              "       [  14,  500],\n",
              "       [  16, 2500],\n",
              "       [  17, 3000],\n",
              "       [  18, 1500],\n",
              "       [  19, 2000]])"
            ]
          },
          "metadata": {
            "tags": []
          },
          "execution_count": 15
        }
      ]
    },
    {
      "cell_type": "code",
      "metadata": {
        "id": "Qwgi3sU__dWy",
        "colab_type": "code",
        "colab": {
          "base_uri": "https://localhost:8080/",
          "height": 282
        },
        "outputId": "adafe38c-5c1b-46a7-a756-86b5590bc7bf"
      },
      "source": [
        "import matplotlib.pyplot as plt\n",
        "%matplotlib inline\n",
        "#plt.xlim(0,20)\n",
        "#plt.ylim(-1.2, 0.2)\n",
        "#plt.plot(rs, true_energies,'k')\n",
        "plt.xticks(np.arange(0, 20, step=2))\n",
        "plt.scatter(toplot[:,0],toplot[:,1])"
      ],
      "execution_count": 16,
      "outputs": [
        {
          "output_type": "execute_result",
          "data": {
            "text/plain": [
              "<matplotlib.collections.PathCollection at 0x7f82b8f8ef28>"
            ]
          },
          "metadata": {
            "tags": []
          },
          "execution_count": 16
        },
        {
          "output_type": "display_data",
          "data": {
            "image/png": "[encoded data removed]",
            "text/plain": [
              "<Figure size 432x288 with 1 Axes>"
            ]
          },
          "metadata": {
            "tags": [],
            "needs_background": "light"
          }
        }
      ]
    },
    {
      "cell_type": "code",
      "metadata": {
        "id": "VNmcIFAfYFox",
        "colab_type": "code",
        "colab": {
          "base_uri": "https://localhost:8080/",
          "height": 265
        },
        "outputId": "6ad84935-34fb-4e79-af99-fa1f0f22148c"
      },
      "source": [
        "plt.hist(toplot[:,1], bins = 9)\n",
        "plt.show()"
      ],
      "execution_count": 25,
      "outputs": [
        {
          "output_type": "display_data",
          "data": {
            "image/png": "[encoded data removed]",
            "text/plain": [
              "<Figure size 432x288 with 1 Axes>"
            ]
          },
          "metadata": {
            "tags": [],
            "needs_background": "light"
          }
        }
      ]
    }
  ]
}
