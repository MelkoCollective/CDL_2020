{
  "nbformat": 4,
  "nbformat_minor": 0,
  "metadata": {
    "kernelspec": {
      "display_name": "Python 3",
      "language": "python",
      "name": "python3"
    },
    "language_info": {
      "codemirror_mode": {
        "name": "ipython",
        "version": 3
      },
      "file_extension": ".py",
      "mimetype": "text/x-python",
      "name": "python",
      "nbconvert_exporter": "python",
      "pygments_lexer": "ipython3",
      "version": "3.7.3"
    },
    "toc": {
      "base_numbering": 1,
      "nav_menu": {},
      "number_sections": true,
      "sideBar": true,
      "skip_h1_title": false,
      "title_cell": "Table of Contents",
      "title_sidebar": "Contents",
      "toc_cell": false,
      "toc_position": {},
      "toc_section_display": true,
      "toc_window_display": false
    },
    "varInspector": {
      "cols": {
        "lenName": 16,
        "lenType": 16,
        "lenVar": 40
      },
      "kernels_config": {
        "python": {
          "delete_cmd_postfix": "",
          "delete_cmd_prefix": "del ",
          "library": "var_list.py",
          "varRefreshCmd": "print(var_dic_list())"
        },
        "r": {
          "delete_cmd_postfix": ") ",
          "delete_cmd_prefix": "rm(",
          "library": "var_list.r",
          "varRefreshCmd": "cat(var_dic_list()) "
        }
      },
      "types_to_exclude": [
        "module",
        "function",
        "builtin_function_or_method",
        "instance",
        "_Feature"
      ],
      "window_display": false
    },
    "colab": {
      "name": "Task1_v1.ipynb",
      "provenance": [],
      "collapsed_sections": [],
      "include_colab_link": true
    }
  },
  "cells": [
    {
      "cell_type": "markdown",
      "metadata": {
        "id": "view-in-github",
        "colab_type": "text"
      },
      "source": [
        "<a href=\"https://colab.research.google.com/github/VGGatGitHub/CohortProject_2020_week1/blob/master/Task1_v1.ipynb\" target=\"_parent\"><img src=\"https://colab.research.google.com/assets/colab-badge.svg\" alt=\"Open In Colab\"/></a>"
      ]
    },
    {
      "cell_type": "markdown",
      "metadata": {
        "id": "6zanBY5XU0hl",
        "colab_type": "text"
      },
      "source": [
        "# Task #1 \n",
        "\n",
        "A template code for training an RBM on H$_2$ data for $r = 1.2$ is shown here. Modify this!\n",
        "\n",
        "Imports and loading in data:"
      ]
    },
    {
      "cell_type": "code",
      "metadata": {
        "id": "K9FdZvDwWzUo",
        "colab_type": "code",
        "colab": {
          "base_uri": "https://localhost:8080/",
          "height": 34
        },
        "outputId": "1fcd6cf5-d4c7-4e99-d7a8-266263a6cd0f"
      },
      "source": [
        "!git clone https://github.com/VGGatGitHub/CohortProject_2020_week1.git"
      ],
      "execution_count": null,
      "outputs": [
        {
          "output_type": "stream",
          "text": [
            "fatal: destination path 'CohortProject_2020_week1' already exists and is not an empty directory.\n"
          ],
          "name": "stdout"
        }
      ]
    },
    {
      "cell_type": "code",
      "metadata": {
        "id": "qsWe-9BxXLOR",
        "colab_type": "code",
        "colab": {
          "base_uri": "https://localhost:8080/",
          "height": 51
        },
        "outputId": "3a7f6e78-f483-461c-927e-fc8ecd036b39"
      },
      "source": [
        "!pwd\n",
        "!ls\n",
        "f_loc=\"/content/CohortProject_2020_week1/Project_1_RBM_and_Tomography/\""
      ],
      "execution_count": null,
      "outputs": [
        {
          "output_type": "stream",
          "text": [
            "/content\n",
            "CohortProject_2020_week1  sample_data\n"
          ],
          "name": "stdout"
        }
      ]
    },
    {
      "cell_type": "code",
      "metadata": {
        "id": "PtA6o9fie0Q9",
        "colab_type": "code",
        "colab": {
          "base_uri": "https://localhost:8080/",
          "height": 34
        },
        "outputId": "4ad89024-e4fc-4b89-ac00-86b868b4b6fd"
      },
      "source": [
        "import sys\n",
        "sys.path.append(f_loc)\n",
        "\n",
        "import os\n",
        "print(os.getcwd())\n",
        "\n",
        "r_list=[]\n",
        "for dirname, _, filenames in os.walk(f_loc+\"./H2_data/\"):\n",
        "    for filename in filenames:\n",
        "        #print(os.path.join(dirname, filename))\n",
        "        i1=filename.find(\"R_\")\n",
        "        i2=filename.find(\"_s\")\n",
        "        if i2-i1>2:\n",
        "          #print(os.path.join(filename))\n",
        "          r_list.append(filename[i1+2:i2])"
      ],
      "execution_count": null,
      "outputs": [
        {
          "output_type": "stream",
          "text": [
            "/content\n"
          ],
          "name": "stdout"
        }
      ]
    },
    {
      "cell_type": "code",
      "metadata": {
        "id": "q9nSpQzwiTrw",
        "colab_type": "code",
        "colab": {
          "base_uri": "https://localhost:8080/",
          "height": 34
        },
        "outputId": "a699ba77-a2ee-494a-b0cf-92983df90cd0"
      },
      "source": [
        "r_list[0:10]"
      ],
      "execution_count": null,
      "outputs": [
        {
          "output_type": "execute_result",
          "data": {
            "text/plain": [
              "['2.0', '1.1', '1.15', '1.2', '2.45', '2.85', '2.05', '0.5', '1.8', '1.65']"
            ]
          },
          "metadata": {
            "tags": []
          },
          "execution_count": 4
        }
      ]
    },
    {
      "cell_type": "code",
      "metadata": {
        "id": "c91D_sUVexo8",
        "colab_type": "code",
        "colab": {}
      },
      "source": [
        "import numpy as np\n",
        "import torch\n",
        "import time\n",
        "import matplotlib.pyplot as plt\n",
        "%matplotlib inline\n",
        "\n",
        "from RBM_helper import RBM\n",
        "\n",
        "import H2_energy_calculator\n"
      ],
      "execution_count": null,
      "outputs": []
    },
    {
      "cell_type": "code",
      "metadata": {
        "ExecuteTime": {
          "end_time": "2020-06-26T14:55:19.174279Z",
          "start_time": "2020-06-26T14:55:16.177972Z"
        },
        "id": "aCKBqLsgU0hn",
        "colab_type": "code",
        "colab": {
          "base_uri": "https://localhost:8080/",
          "height": 34
        },
        "outputId": "e899911d-1976-4c62-ba50-e5675a443f17"
      },
      "source": [
        "coefficients = np.loadtxt(f_loc+\"H2_data/H2_coefficients.txt\")\n",
        "coeff=coefficients[20,:]\n",
        "r=coeff[0]\n",
        "\n",
        "training_data = torch.from_numpy(np.loadtxt(f_loc+\"H2_data/R_\"+str(r)+\"_samples.txt\"))\n",
        "true_energy = H2_energy_calculator.energy_from_freq(training_data, coeff)\n",
        "print(\"H2 energy for r = \",r,\" :\",true_energy)"
      ],
      "execution_count": null,
      "outputs": [
        {
          "output_type": "stream",
          "text": [
            "H2 energy for r =  1.2  : -1.0642022250418146\n"
          ],
          "name": "stdout"
        }
      ]
    },
    {
      "cell_type": "code",
      "metadata": {
        "id": "RPvjr4Ff9X0T",
        "colab_type": "code",
        "colab": {
          "base_uri": "https://localhost:8080/",
          "height": 34
        },
        "outputId": "a016f530-d2fb-4886-c83c-95cab1da364e"
      },
      "source": [
        "len(r_list)"
      ],
      "execution_count": null,
      "outputs": [
        {
          "output_type": "execute_result",
          "data": {
            "text/plain": [
              "54"
            ]
          },
          "metadata": {
            "tags": []
          },
          "execution_count": 7
        }
      ]
    },
    {
      "cell_type": "code",
      "metadata": {
        "id": "jif_j1Xnlx_0",
        "colab_type": "code",
        "colab": {
          "base_uri": "https://localhost:8080/",
          "height": 34
        },
        "outputId": "eaa9eab6-b4ab-4e07-9e60-9eb38cf34c7a"
      },
      "source": [
        "len(coefficients)"
      ],
      "execution_count": null,
      "outputs": [
        {
          "output_type": "execute_result",
          "data": {
            "text/plain": [
              "54"
            ]
          },
          "metadata": {
            "tags": []
          },
          "execution_count": 8
        }
      ]
    },
    {
      "cell_type": "code",
      "metadata": {
        "id": "liEXoLKskGdn",
        "colab_type": "code",
        "colab": {
          "base_uri": "https://localhost:8080/",
          "height": 51
        },
        "outputId": "9ab21fd5-213f-4b72-8c9b-75bab9c65ab5"
      },
      "source": [
        "coeff\n"
      ],
      "execution_count": null,
      "outputs": [
        {
          "output_type": "execute_result",
          "data": {
            "text/plain": [
              "array([ 1.2   , -0.1253,  0.2374, -0.1603,  0.4892,  0.105 ,  0.105 ,\n",
              "        5.9509])"
            ]
          },
          "metadata": {
            "tags": []
          },
          "execution_count": 9
        }
      ]
    },
    {
      "cell_type": "code",
      "metadata": {
        "id": "kptqcCAykxiR",
        "colab_type": "code",
        "colab": {
          "base_uri": "https://localhost:8080/",
          "height": 34
        },
        "outputId": "e094e15b-e830-4ffa-bfbb-c87052eac748"
      },
      "source": [
        "training_data.detach().numpy().shape"
      ],
      "execution_count": null,
      "outputs": [
        {
          "output_type": "execute_result",
          "data": {
            "text/plain": [
              "(10000, 2)"
            ]
          },
          "metadata": {
            "tags": []
          },
          "execution_count": 10
        }
      ]
    },
    {
      "cell_type": "markdown",
      "metadata": {
        "id": "DeN2tCwUU0hs",
        "colab_type": "text"
      },
      "source": [
        "Define the RBM:"
      ]
    },
    {
      "cell_type": "code",
      "metadata": {
        "id": "B1yURYyQm1aN",
        "colab_type": "code",
        "colab": {}
      },
      "source": [
        "rs=[]\n",
        "for i in range(len(coefficients)):\n",
        "  coeff=coefficients[i,:]\n",
        "  r=coeff[0]\n",
        "  rs.append(r)"
      ],
      "execution_count": null,
      "outputs": []
    },
    {
      "cell_type": "code",
      "metadata": {
        "ExecuteTime": {
          "end_time": "2020-06-26T14:55:21.183670Z",
          "start_time": "2020-06-26T14:55:21.179123Z"
        },
        "id": "iT6Ory-LU0ht",
        "colab_type": "code",
        "colab": {
          "base_uri": "https://localhost:8080/",
          "height": 68
        },
        "outputId": "a556fca4-0798-4fb1-9a3e-a02e16afde86"
      },
      "source": [
        "n_vis = 2\n",
        "n_hin = 10\n",
        "\n",
        "start_time = time.time()\n",
        "%time rbm = RBM(n_vis, n_hin)\n",
        "print(\"time {:.2f} sec\".format((time.time()-start_time)))"
      ],
      "execution_count": null,
      "outputs": [
        {
          "output_type": "stream",
          "text": [
            "CPU times: user 563 µs, sys: 0 ns, total: 563 µs\n",
            "Wall time: 1.01 ms\n",
            "time 0.00 sec\n"
          ],
          "name": "stdout"
        }
      ]
    },
    {
      "cell_type": "markdown",
      "metadata": {
        "id": "qzqhqLmPU0hw",
        "colab_type": "text"
      },
      "source": [
        "Train the RBMs by using the preivius r-point Weights and break out when under 1% of the exact result.\n",
        "\n",
        "---\n",
        "\n"
      ]
    },
    {
      "cell_type": "code",
      "metadata": {
        "ExecuteTime": {
          "end_time": "2020-06-26T14:56:24.307961Z",
          "start_time": "2020-06-26T14:55:39.819468Z"
        },
        "id": "Wc9qzvX1U0hx",
        "colab_type": "code",
        "colab": {
          "base_uri": "https://localhost:8080/",
          "height": 969
        },
        "outputId": "74baafc2-d72e-4f54-a675-e157f1342a70"
      },
      "source": [
        "%%time\n",
        "epochs = 500 # number of training steps\n",
        "num_samples = 200 # number of samples to generate from the RBM to calculate the H2 energy\n",
        "printing=100 # when to print intermidiate results\n",
        "\n",
        "E_min=0.0\n",
        "saved_weights = []\n",
        "\n",
        "rs=[]\n",
        "true_energies=[]\n",
        "computed_Es=[]\n",
        "cmpted_Es=np.empty((epochs//printing,len(coefficients)))\n",
        "\n",
        "for i in range(len(coefficients)-1,-1,-1):\n",
        "  coeff=coefficients[i,:]\n",
        "  r=coeff[0]\n",
        "  rs.append(r)\n",
        "  #rbm = RBM(n_vis, n_hin)\n",
        "\n",
        "  training_data = torch.from_numpy(np.loadtxt(f_loc+\"H2_data/R_\"+str(r)+\"_samples.txt\"))\n",
        "  true_energy = H2_energy_calculator.energy_from_freq(training_data, coeff)\n",
        "\n",
        "  true_energies.append(true_energy)\n",
        "  #print(\"H2 energy for r =\\t\",r,\"\\t:\",true_energy)\n",
        "  \n",
        "  start_time = time.time()\n",
        "\n",
        "  for epoch in range(1, epochs+1):\n",
        "      # do one epoch of training\n",
        "      lr = (0.1*np.exp(-epoch/epochs*10))+0.0001\n",
        "      rbm.train(training_data,lr = lr)   \n",
        "  \n",
        "      # now generate samples and calculate the energy\n",
        "      if epoch % printing == 0:\n",
        "          #print(\"\\nEpoch: \", e)\n",
        "          #print(\"Sampling the RBM...\")\n",
        "\n",
        "          # For sampling the RBM, we need to do Gibbs sampling.\n",
        "          # Initialize the Gibbs sampling chain with init_state as defined below.\n",
        "          init_state = torch.zeros(num_samples, n_vis)\n",
        "          RBM_samples = rbm.draw_samples(15, init_state)\n",
        "\n",
        "          #print(\"Done sampling. Calculating energy...\")       \n",
        "  \n",
        "          energies = H2_energy_calculator.energy(RBM_samples, coeff, rbm.wavefunction)\n",
        "          #print(\"Energy from RBM samples: \", energies.item())\n",
        "  \n",
        "          cmpted_Es[e//printing-1,i]=energies.item()\n",
        "      \n",
        "      init_state = torch.zeros(num_samples, n_vis)\n",
        "      RBM_samples = rbm.draw_samples(num_samples, init_state)\n",
        "      energies = H2_energy_calculator.energy(RBM_samples, coeff, rbm.wavefunction)\n",
        "      RBM_energy = energies.item()\n",
        "\n",
        "      if 100*abs(1-RBM_energy/true_energy) < .9:\n",
        "        break\n",
        "\n",
        "  energies = H2_energy_calculator.energy(RBM_samples, coeff, rbm.wavefunction)\n",
        "  RBM_energy = energies.item()\n",
        "  computed_Es.append(RBM_energy)\n",
        "  print(\"H2 energy for r ={:6.3f}, E={:7.3f}, E_rmb={:7.3f}, diff:{:5.1f}%, epohs:{:4d}, time:{:.2f} sec.\".format(\n",
        "      r,true_energy,RBM_energy,100*abs(1-RBM_energy/true_energy),epoch,(time.time()-start_time)))\n",
        "\n",
        "  if E_min > RBM_energy:\n",
        "    E_min = RBM_energy\n",
        "    j_min=len(coefficients)-1-i\n",
        "    r_min=r\n",
        "\n",
        "  saved_weights.append([i,r,RBM_energy])\n",
        "  \n",
        "  tmp=np.zeros((n_hin,n_vis))\n",
        "  tmp+=rbm.weights.detach().numpy()\n",
        "  saved_weights.append(tmp)\n",
        "  \n",
        "  tmp=np.zeros(n_vis)\n",
        "  tmp+=rbm.visible_bias.detach().numpy()\n",
        "  saved_weights.append(tmp)\n",
        "\n",
        "  tmp=np.zeros(n_hin)\n",
        "  tmp+=rbm.hidden_bias.detach().numpy()\n",
        "  saved_weights.append(tmp)\n"
      ],
      "execution_count": null,
      "outputs": [
        {
          "output_type": "stream",
          "text": [
            "H2 energy for r = 2.850, E= -0.943, E_rmb= -0.938, diff:  0.5%, epohs:  19, time:2.78 sec.\n",
            "H2 energy for r = 2.800, E= -0.943, E_rmb= -0.935, diff:  0.9%, epohs:   4, time:0.60 sec.\n",
            "H2 energy for r = 2.750, E= -0.943, E_rmb= -0.943, diff:  0.0%, epohs:   3, time:0.45 sec.\n",
            "H2 energy for r = 2.700, E= -0.944, E_rmb= -0.938, diff:  0.6%, epohs:   1, time:0.16 sec.\n",
            "H2 energy for r = 2.650, E= -0.944, E_rmb= -0.939, diff:  0.6%, epohs:   2, time:0.31 sec.\n",
            "H2 energy for r = 2.600, E= -0.944, E_rmb= -0.945, diff:  0.1%, epohs:   1, time:0.17 sec.\n",
            "H2 energy for r = 2.550, E= -0.945, E_rmb= -0.941, diff:  0.4%, epohs:   2, time:0.33 sec.\n",
            "H2 energy for r = 2.500, E= -0.945, E_rmb= -0.945, diff:  0.0%, epohs:   1, time:0.17 sec.\n",
            "H2 energy for r = 2.450, E= -0.945, E_rmb= -0.937, diff:  0.8%, epohs:   1, time:0.17 sec.\n",
            "H2 energy for r = 2.400, E= -0.946, E_rmb= -0.946, diff:  0.0%, epohs:   1, time:0.17 sec.\n",
            "H2 energy for r = 2.350, E= -0.947, E_rmb= -0.947, diff:  0.0%, epohs:   2, time:0.31 sec.\n",
            "H2 energy for r = 2.300, E= -0.948, E_rmb= -0.947, diff:  0.1%, epohs:   1, time:0.17 sec.\n",
            "H2 energy for r = 2.250, E= -0.949, E_rmb= -0.944, diff:  0.6%, epohs:   1, time:0.17 sec.\n",
            "H2 energy for r = 2.200, E= -0.950, E_rmb= -0.943, diff:  0.8%, epohs:   1, time:0.16 sec.\n",
            "H2 energy for r = 2.150, E= -0.952, E_rmb= -0.952, diff:  0.0%, epohs:   2, time:0.37 sec.\n",
            "H2 energy for r = 2.100, E= -0.953, E_rmb= -0.949, diff:  0.5%, epohs:   1, time:0.16 sec.\n",
            "H2 energy for r = 2.050, E= -0.955, E_rmb= -0.950, diff:  0.5%, epohs:   2, time:0.31 sec.\n",
            "H2 energy for r = 2.000, E= -0.958, E_rmb= -0.950, diff:  0.8%, epohs:   1, time:0.16 sec.\n",
            "H2 energy for r = 1.950, E= -0.960, E_rmb= -0.959, diff:  0.1%, epohs:   1, time:0.16 sec.\n",
            "H2 energy for r = 1.900, E= -0.963, E_rmb= -0.961, diff:  0.2%, epohs:   1, time:0.16 sec.\n",
            "H2 energy for r = 1.850, E= -0.967, E_rmb= -0.959, diff:  0.8%, epohs:   1, time:0.17 sec.\n",
            "H2 energy for r = 1.800, E= -0.971, E_rmb= -0.973, diff:  0.3%, epohs:   1, time:0.17 sec.\n",
            "H2 energy for r = 1.750, E= -0.975, E_rmb= -0.975, diff:  0.0%, epohs:   1, time:0.16 sec.\n",
            "H2 energy for r = 1.700, E= -0.980, E_rmb= -0.977, diff:  0.3%, epohs:   1, time:0.16 sec.\n",
            "H2 energy for r = 1.650, E= -0.986, E_rmb= -0.983, diff:  0.3%, epohs:   1, time:0.17 sec.\n",
            "H2 energy for r = 1.600, E= -0.992, E_rmb= -0.986, diff:  0.6%, epohs:   2, time:0.31 sec.\n",
            "H2 energy for r = 1.550, E= -0.999, E_rmb= -0.999, diff:  0.0%, epohs:   2, time:0.32 sec.\n",
            "H2 energy for r = 1.500, E= -1.007, E_rmb= -1.010, diff:  0.3%, epohs:   1, time:0.16 sec.\n",
            "H2 energy for r = 1.450, E= -1.015, E_rmb= -1.006, diff:  0.8%, epohs:   1, time:0.18 sec.\n",
            "H2 energy for r = 1.400, E= -1.024, E_rmb= -1.016, diff:  0.7%, epohs:   2, time:0.32 sec.\n",
            "H2 energy for r = 1.350, E= -1.033, E_rmb= -1.031, diff:  0.2%, epohs:   1, time:0.17 sec.\n",
            "H2 energy for r = 1.300, E= -1.043, E_rmb= -1.052, diff:  0.9%, epohs:   1, time:0.17 sec.\n",
            "H2 energy for r = 1.250, E= -1.053, E_rmb= -1.056, diff:  0.3%, epohs:   1, time:0.17 sec.\n",
            "H2 energy for r = 1.200, E= -1.064, E_rmb= -1.059, diff:  0.4%, epohs:   1, time:0.16 sec.\n",
            "H2 energy for r = 1.150, E= -1.075, E_rmb= -1.076, diff:  0.0%, epohs:   2, time:0.31 sec.\n",
            "H2 energy for r = 1.100, E= -1.087, E_rmb= -1.086, diff:  0.1%, epohs:   1, time:0.17 sec.\n",
            "H2 energy for r = 1.050, E= -1.098, E_rmb= -1.091, diff:  0.7%, epohs:   1, time:0.24 sec.\n",
            "H2 energy for r = 1.000, E= -1.109, E_rmb= -1.107, diff:  0.2%, epohs:   1, time:0.17 sec.\n",
            "H2 energy for r = 0.950, E= -1.119, E_rmb= -1.116, diff:  0.3%, epohs:   1, time:0.17 sec.\n",
            "H2 energy for r = 0.900, E= -1.129, E_rmb= -1.119, diff:  0.8%, epohs:   3, time:0.46 sec.\n",
            "H2 energy for r = 0.850, E= -1.137, E_rmb= -1.135, diff:  0.2%, epohs:   1, time:0.16 sec.\n",
            "H2 energy for r = 0.800, E= -1.143, E_rmb= -1.144, diff:  0.1%, epohs:   2, time:0.31 sec.\n",
            "H2 energy for r = 0.750, E= -1.146, E_rmb= -1.146, diff:  0.0%, epohs:   1, time:0.16 sec.\n",
            "H2 energy for r = 0.700, E= -1.145, E_rmb= -1.144, diff:  0.1%, epohs:   2, time:0.32 sec.\n",
            "H2 energy for r = 0.650, E= -1.139, E_rmb= -1.138, diff:  0.1%, epohs:   1, time:0.17 sec.\n",
            "H2 energy for r = 0.600, E= -1.126, E_rmb= -1.125, diff:  0.0%, epohs:   2, time:0.45 sec.\n",
            "H2 energy for r = 0.550, E= -1.102, E_rmb= -1.101, diff:  0.1%, epohs:   3, time:0.47 sec.\n",
            "H2 energy for r = 0.500, E= -1.065, E_rmb= -1.060, diff:  0.5%, epohs:   1, time:0.16 sec.\n",
            "H2 energy for r = 0.450, E= -1.009, E_rmb= -1.005, diff:  0.4%, epohs:   1, time:0.17 sec.\n",
            "H2 energy for r = 0.400, E= -0.925, E_rmb= -0.922, diff:  0.3%, epohs:   2, time:0.32 sec.\n",
            "H2 energy for r = 0.350, E= -0.801, E_rmb= -0.798, diff:  0.3%, epohs:   8, time:1.82 sec.\n",
            "H2 energy for r = 0.300, E= -0.613, E_rmb= -0.609, diff:  0.7%, epohs:   2, time:0.49 sec.\n",
            "H2 energy for r = 0.250, E= -0.324, E_rmb= -0.326, diff:  0.6%, epohs:   1, time:0.34 sec.\n",
            "H2 energy for r = 0.200, E=  0.144, E_rmb=  0.143, diff:  0.6%, epohs:  11, time:2.74 sec.\n",
            "CPU times: user 48.2 s, sys: 39.2 ms, total: 48.2 s\n",
            "Wall time: 48.4 s\n"
          ],
          "name": "stdout"
        }
      ]
    },
    {
      "cell_type": "code",
      "metadata": {
        "id": "d8osCOoCAix5",
        "colab_type": "code",
        "colab": {
          "base_uri": "https://localhost:8080/",
          "height": 285
        },
        "outputId": "b9937016-5e77-41be-937a-f9dd18647605"
      },
      "source": [
        "#plt.xlim(-2, 2)\n",
        "#plt.ylim(0, 1.1)\n",
        "plt.plot(rs, true_energies,'k')\n",
        "plt.plot(rs, computed_Es,'r')"
      ],
      "execution_count": null,
      "outputs": [
        {
          "output_type": "execute_result",
          "data": {
            "text/plain": [
              "[<matplotlib.lines.Line2D at 0x7fc245d98fd0>]"
            ]
          },
          "metadata": {
            "tags": []
          },
          "execution_count": 14
        },
        {
          "output_type": "display_data",
          "data": {
            "image/png": "[encoded data removed]",
            "text/plain": [
              "<Figure size 432x288 with 1 Axes>"
            ]
          },
          "metadata": {
            "tags": [],
            "needs_background": "light"
          }
        }
      ]
    },
    {
      "cell_type": "code",
      "metadata": {
        "id": "2dS_YNo1VRMf",
        "colab_type": "code",
        "colab": {
          "base_uri": "https://localhost:8080/",
          "height": 34
        },
        "outputId": "7f978870-d183-4906-fa15-dcf0b2f319b9"
      },
      "source": [
        "j_min"
      ],
      "execution_count": null,
      "outputs": [
        {
          "output_type": "execute_result",
          "data": {
            "text/plain": [
              "42"
            ]
          },
          "metadata": {
            "tags": []
          },
          "execution_count": 15
        }
      ]
    },
    {
      "cell_type": "code",
      "metadata": {
        "id": "30BGzl2T_oDg",
        "colab_type": "code",
        "colab": {
          "base_uri": "https://localhost:8080/",
          "height": 34
        },
        "outputId": "1ed38fb3-643a-4241-d752-a7f19e2023f4"
      },
      "source": [
        "saved_weights[4*(j_min)]"
      ],
      "execution_count": null,
      "outputs": [
        {
          "output_type": "execute_result",
          "data": {
            "text/plain": [
              "[11, 0.75, -1.1457876562007312]"
            ]
          },
          "metadata": {
            "tags": []
          },
          "execution_count": 16
        }
      ]
    },
    {
      "cell_type": "markdown",
      "metadata": {
        "id": "I-w2pt7fCN0e",
        "colab_type": "text"
      },
      "source": [
        "Use the RMB at the minimum to compute the energy curve."
      ]
    },
    {
      "cell_type": "code",
      "metadata": {
        "id": "0lifhzJGtlCV",
        "colab_type": "code",
        "colab": {
          "base_uri": "https://localhost:8080/",
          "height": 935
        },
        "outputId": "5e7573ef-c885-41ac-ce28-aa3fd4160abc"
      },
      "source": [
        "rbm = RBM(n_vis, n_hin)\n",
        "\n",
        "#Use the weights from the minimum \n",
        "ii=4*(j_min-13)\n",
        "i=saved_weights[ii][0]\n",
        "r=saved_weights[ii][1]\n",
        "rbm.weights=torch.from_numpy(saved_weights[ii+1])\n",
        "rbm.visible_bias=torch.from_numpy(saved_weights[ii+2])\n",
        "rbm.hidden_bias=torch.from_numpy(saved_weights[ii+3])\n",
        "\n",
        "coeff=coefficients[i,:]\n",
        "r=coeff[0]\n",
        "if abs(r-coeff[0]) > 10**(-2):\n",
        "  print(r,coeff[0])\n",
        "\n",
        "num_samples = 1000 # number of samples to generate from the RBM to calculate the H2 energy\n",
        "\n",
        "rs=[] #lets do the r values again\n",
        "true_energies=[]\n",
        "rbm_Es=[]\n",
        "\n",
        "for i in range(len(coefficients)):\n",
        "  coeff=coefficients[i,:]\n",
        "  r=coeff[0]\n",
        "  rs.append(r)\n",
        "\n",
        "  in_data=np.loadtxt(f_loc+\"H2_data/R_\"+str(r)+\"_samples.txt\")\n",
        "  all_in_data = torch.from_numpy(in_data)\n",
        "  true_energy = H2_energy_calculator.energy_from_freq(all_in_data, coeff)\n",
        "  true_energies.append(true_energy)\n",
        "\n",
        "  # For sampling the RBM, we need to do Gibbs sampling.\n",
        "  # Initialize the Gibbs sampling chain with init_state as the input.\n",
        "  init_state = torch.zeros(num_samples, n_vis)\n",
        "  #init_state = torch.from_numpy(in_data[0:num_samples,:])\n",
        "  RBM_samples = rbm.draw_samples(num_samples, init_state)\n",
        "  energies = H2_energy_calculator.energy(RBM_samples, coeff, rbm.wavefunction)\n",
        "  RBM_energy = energies.item()\n",
        "\n",
        "  rbm_Es.append(RBM_energy)\n",
        "  print(\"H2 energy for r ={:6.3f}, E={:7.3f}, E_rmb={:7.3f}, diff:{:5.1f}%\".format(\n",
        "      r,true_energy,RBM_energy,100*abs(1-RBM_energy/true_energy)))\n"
      ],
      "execution_count": null,
      "outputs": [
        {
          "output_type": "stream",
          "text": [
            "H2 energy for r = 0.200, E=  0.144, E_rmb=  0.404, diff:180.1%\n",
            "H2 energy for r = 0.250, E= -0.324, E_rmb= -0.051, diff: 84.2%\n",
            "H2 energy for r = 0.300, E= -0.613, E_rmb= -0.427, diff: 30.4%\n",
            "H2 energy for r = 0.350, E= -0.801, E_rmb= -0.590, diff: 26.3%\n",
            "H2 energy for r = 0.400, E= -0.925, E_rmb= -0.767, diff: 17.1%\n",
            "H2 energy for r = 0.450, E= -1.009, E_rmb= -0.889, diff: 11.9%\n",
            "H2 energy for r = 0.500, E= -1.065, E_rmb= -0.904, diff: 15.1%\n",
            "H2 energy for r = 0.550, E= -1.102, E_rmb= -0.976, diff: 11.4%\n",
            "H2 energy for r = 0.600, E= -1.126, E_rmb= -1.012, diff: 10.1%\n",
            "H2 energy for r = 0.650, E= -1.139, E_rmb= -1.061, diff:  6.9%\n",
            "H2 energy for r = 0.700, E= -1.145, E_rmb= -1.084, diff:  5.3%\n",
            "H2 energy for r = 0.750, E= -1.146, E_rmb= -1.088, diff:  5.0%\n",
            "H2 energy for r = 0.800, E= -1.143, E_rmb= -1.086, diff:  4.9%\n",
            "H2 energy for r = 0.850, E= -1.137, E_rmb= -1.095, diff:  3.7%\n",
            "H2 energy for r = 0.900, E= -1.129, E_rmb= -1.082, diff:  4.1%\n",
            "H2 energy for r = 0.950, E= -1.119, E_rmb= -1.093, diff:  2.3%\n",
            "H2 energy for r = 1.000, E= -1.109, E_rmb= -1.086, diff:  2.1%\n",
            "H2 energy for r = 1.050, E= -1.098, E_rmb= -1.078, diff:  1.8%\n",
            "H2 energy for r = 1.100, E= -1.087, E_rmb= -1.078, diff:  0.9%\n",
            "H2 energy for r = 1.150, E= -1.075, E_rmb= -1.069, diff:  0.6%\n",
            "H2 energy for r = 1.200, E= -1.064, E_rmb= -1.057, diff:  0.7%\n",
            "H2 energy for r = 1.250, E= -1.053, E_rmb= -1.052, diff:  0.2%\n",
            "H2 energy for r = 1.300, E= -1.043, E_rmb= -1.040, diff:  0.3%\n",
            "H2 energy for r = 1.350, E= -1.033, E_rmb= -1.032, diff:  0.1%\n",
            "H2 energy for r = 1.400, E= -1.024, E_rmb= -1.021, diff:  0.3%\n",
            "H2 energy for r = 1.450, E= -1.015, E_rmb= -1.013, diff:  0.2%\n",
            "H2 energy for r = 1.500, E= -1.007, E_rmb= -1.005, diff:  0.1%\n",
            "H2 energy for r = 1.550, E= -0.999, E_rmb= -0.988, diff:  1.1%\n",
            "H2 energy for r = 1.600, E= -0.992, E_rmb= -0.983, diff:  0.9%\n",
            "H2 energy for r = 1.650, E= -0.986, E_rmb= -0.977, diff:  0.8%\n",
            "H2 energy for r = 1.700, E= -0.980, E_rmb= -0.968, diff:  1.2%\n",
            "H2 energy for r = 1.750, E= -0.975, E_rmb= -0.955, diff:  2.1%\n",
            "H2 energy for r = 1.800, E= -0.971, E_rmb= -0.951, diff:  2.0%\n",
            "H2 energy for r = 1.850, E= -0.967, E_rmb= -0.939, diff:  2.9%\n",
            "H2 energy for r = 1.900, E= -0.963, E_rmb= -0.930, diff:  3.5%\n",
            "H2 energy for r = 1.950, E= -0.960, E_rmb= -0.922, diff:  4.0%\n",
            "H2 energy for r = 2.000, E= -0.958, E_rmb= -0.911, diff:  4.8%\n",
            "H2 energy for r = 2.050, E= -0.955, E_rmb= -0.914, diff:  4.3%\n",
            "H2 energy for r = 2.100, E= -0.953, E_rmb= -0.898, diff:  5.9%\n",
            "H2 energy for r = 2.150, E= -0.952, E_rmb= -0.902, diff:  5.2%\n",
            "H2 energy for r = 2.200, E= -0.950, E_rmb= -0.905, diff:  4.8%\n",
            "H2 energy for r = 2.250, E= -0.949, E_rmb= -0.901, diff:  5.1%\n",
            "H2 energy for r = 2.300, E= -0.948, E_rmb= -0.878, diff:  7.3%\n",
            "H2 energy for r = 2.350, E= -0.947, E_rmb= -0.877, diff:  7.4%\n",
            "H2 energy for r = 2.400, E= -0.946, E_rmb= -0.871, diff:  7.9%\n",
            "H2 energy for r = 2.450, E= -0.945, E_rmb= -0.870, diff:  7.9%\n",
            "H2 energy for r = 2.500, E= -0.945, E_rmb= -0.851, diff:  9.9%\n",
            "H2 energy for r = 2.550, E= -0.945, E_rmb= -0.844, diff: 10.6%\n",
            "H2 energy for r = 2.600, E= -0.944, E_rmb= -0.854, diff:  9.6%\n",
            "H2 energy for r = 2.650, E= -0.944, E_rmb= -0.857, diff:  9.2%\n",
            "H2 energy for r = 2.700, E= -0.944, E_rmb= -0.850, diff:  9.9%\n",
            "H2 energy for r = 2.750, E= -0.943, E_rmb= -0.834, diff: 11.5%\n",
            "H2 energy for r = 2.800, E= -0.943, E_rmb= -0.842, diff: 10.7%\n",
            "H2 energy for r = 2.850, E= -0.943, E_rmb= -0.833, diff: 11.6%\n"
          ],
          "name": "stdout"
        }
      ]
    },
    {
      "cell_type": "code",
      "metadata": {
        "id": "m6Ki_N2PxMB7",
        "colab_type": "code",
        "colab": {
          "base_uri": "https://localhost:8080/",
          "height": 282
        },
        "outputId": "d77c3a97-1d75-4750-a37f-04005dbaad42"
      },
      "source": [
        "#plt.xlim(-2, 2)\n",
        "#plt.ylim(0, 1.1)\n",
        "plt.plot(rs, true_energies,'k')\n",
        "plt.plot(rs, rbm_Es,'r')"
      ],
      "execution_count": null,
      "outputs": [
        {
          "output_type": "execute_result",
          "data": {
            "text/plain": [
              "[<matplotlib.lines.Line2D at 0x7fc1fca1ae80>]"
            ]
          },
          "metadata": {
            "tags": []
          },
          "execution_count": 18
        },
        {
          "output_type": "display_data",
          "data": {
            "image/png": "[encoded data removed]",
            "text/plain": [
              "<Figure size 432x288 with 1 Axes>"
            ]
          },
          "metadata": {
            "tags": [],
            "needs_background": "light"
          }
        }
      ]
    },
    {
      "cell_type": "code",
      "metadata": {
        "id": "gi4VQwQOqv4O",
        "colab_type": "code",
        "colab": {
          "base_uri": "https://localhost:8080/",
          "height": 969
        },
        "outputId": "b0bdf2c3-ecde-422a-bb52-46d54af9ab57"
      },
      "source": [
        "%%time\n",
        "epochs = 190 # number of training steps\n",
        "num_samples = 500 # number of samples to generate from the RBM to calculate the H2 energy\n",
        "printing=40 # when to print intermidiate results\n",
        "\n",
        "rs=[]\n",
        "true_energies=[]\n",
        "computed_Es=[]\n",
        "cmpted_Es=np.empty((epochs//printing,len(coefficients)))\n",
        "\n",
        "for i in range(len(coefficients)):\n",
        "  coeff=coefficients[i,:]\n",
        "  r=coeff[0]\n",
        "  rs.append(r)\n",
        "  rbm = RBM(n_vis, n_hin)\n",
        "\n",
        "  training_data = torch.from_numpy(np.loadtxt(f_loc+\"H2_data/R_\"+str(r)+\"_samples.txt\"))\n",
        "  true_energy = H2_energy_calculator.energy_from_freq(training_data, coeff)\n",
        "\n",
        "  true_energies.append(true_energy)\n",
        "  #print(\"H2 energy for r =\\t\",r,\"\\t:\",true_energy)\n",
        "  \n",
        "  start_time = time.time()\n",
        "\n",
        "  for epoch in range(1, epochs+1):\n",
        "      # do one epoch of training\n",
        "      lr = (0.1*np.exp(-epoch/epochs*10))+0.0001\n",
        "      rbm.train(training_data,lr = lr)   \n",
        "  \n",
        "      # now generate samples and calculate the energy\n",
        "      if epoch % printing == 0:\n",
        "          #print(\"\\nEpoch: \", e)\n",
        "          #print(\"Sampling the RBM...\")\n",
        "\n",
        "          # For sampling the RBM, we need to do Gibbs sampling.\n",
        "          # Initialize the Gibbs sampling chain with init_state as defined below.\n",
        "          init_state = torch.zeros(num_samples, n_vis)\n",
        "          RBM_samples = rbm.draw_samples(15, init_state)\n",
        "\n",
        "          #print(\"Done sampling. Calculating energy...\")       \n",
        "  \n",
        "          energies = H2_energy_calculator.energy(RBM_samples, coeff, rbm.wavefunction)\n",
        "          #print(\"Energy from RBM samples: \", energies.item())\n",
        "  \n",
        "          cmpted_Es[epoch//printing-1,i]=energies.item()\n",
        "      \n",
        "      init_state = torch.zeros(num_samples, n_vis)\n",
        "      RBM_samples = rbm.draw_samples(num_samples, init_state)\n",
        "      energies = H2_energy_calculator.energy(RBM_samples, coeff, rbm.wavefunction)\n",
        "      RBM_energy = energies.item()\n",
        "      if 100*abs(1-RBM_energy/true_energy) < 0.9:\n",
        "        #break #VGG keep on going \n",
        "        pass\n",
        "  \n",
        "  energies = H2_energy_calculator.energy(RBM_samples, coeff, rbm.wavefunction)\n",
        "  RBM_energy = energies.item()\n",
        "  computed_Es.append(RBM_energy)\n",
        "  print(\"H2 energy for r ={:6.3f}, E={:7.3f}, E_rmb={:7.3f}, diff:{:5.1f}%, epohs:{:}, time:{:.2f} sec.\".format(\n",
        "      r,true_energy,RBM_energy,100*abs(1-RBM_energy/true_energy),epoch,(time.time()-start_time)))\n",
        "\n"
      ],
      "execution_count": null,
      "outputs": [
        {
          "output_type": "stream",
          "text": [
            "H2 energy for r = 0.200, E=  0.144, E_rmb=  0.150, diff:  3.9%, epohs:190, time:50.76 sec.\n",
            "H2 energy for r = 0.250, E= -0.324, E_rmb= -0.289, diff: 10.7%, epohs:190, time:51.11 sec.\n",
            "H2 energy for r = 0.300, E= -0.613, E_rmb= -0.594, diff:  3.1%, epohs:190, time:50.89 sec.\n",
            "H2 energy for r = 0.350, E= -0.801, E_rmb= -0.779, diff:  2.7%, epohs:190, time:50.59 sec.\n",
            "H2 energy for r = 0.400, E= -0.925, E_rmb= -0.894, diff:  3.4%, epohs:190, time:51.33 sec.\n",
            "H2 energy for r = 0.450, E= -1.009, E_rmb= -0.985, diff:  2.4%, epohs:190, time:50.17 sec.\n",
            "H2 energy for r = 0.500, E= -1.065, E_rmb= -1.021, diff:  4.1%, epohs:190, time:55.47 sec.\n",
            "H2 energy for r = 0.550, E= -1.102, E_rmb= -1.077, diff:  2.3%, epohs:190, time:51.34 sec.\n",
            "H2 energy for r = 0.600, E= -1.126, E_rmb= -1.097, diff:  2.5%, epohs:190, time:50.84 sec.\n",
            "H2 energy for r = 0.650, E= -1.139, E_rmb= -1.108, diff:  2.7%, epohs:190, time:50.77 sec.\n",
            "H2 energy for r = 0.700, E= -1.145, E_rmb= -1.114, diff:  2.7%, epohs:190, time:50.58 sec.\n",
            "H2 energy for r = 0.750, E= -1.146, E_rmb= -1.099, diff:  4.1%, epohs:190, time:50.57 sec.\n",
            "H2 energy for r = 0.800, E= -1.143, E_rmb= -1.085, diff:  5.0%, epohs:190, time:50.27 sec.\n",
            "H2 energy for r = 0.850, E= -1.137, E_rmb= -1.081, diff:  4.9%, epohs:190, time:51.04 sec.\n",
            "H2 energy for r = 0.900, E= -1.129, E_rmb= -1.049, diff:  7.1%, epohs:190, time:50.82 sec.\n",
            "H2 energy for r = 0.950, E= -1.119, E_rmb= -1.022, diff:  8.7%, epohs:190, time:50.72 sec.\n",
            "H2 energy for r = 1.000, E= -1.109, E_rmb= -1.044, diff:  5.8%, epohs:190, time:49.94 sec.\n",
            "H2 energy for r = 1.050, E= -1.098, E_rmb= -1.062, diff:  3.3%, epohs:190, time:50.96 sec.\n",
            "H2 energy for r = 1.100, E= -1.087, E_rmb= -1.029, diff:  5.4%, epohs:190, time:50.89 sec.\n",
            "H2 energy for r = 1.150, E= -1.075, E_rmb= -1.034, diff:  3.8%, epohs:190, time:51.34 sec.\n",
            "H2 energy for r = 1.200, E= -1.064, E_rmb= -1.036, diff:  2.6%, epohs:190, time:51.60 sec.\n",
            "H2 energy for r = 1.250, E= -1.053, E_rmb= -1.019, diff:  3.3%, epohs:190, time:51.28 sec.\n",
            "H2 energy for r = 1.300, E= -1.043, E_rmb= -1.036, diff:  0.7%, epohs:190, time:50.90 sec.\n",
            "H2 energy for r = 1.350, E= -1.033, E_rmb= -1.003, diff:  2.9%, epohs:190, time:50.13 sec.\n",
            "H2 energy for r = 1.400, E= -1.024, E_rmb= -0.998, diff:  2.5%, epohs:190, time:50.29 sec.\n",
            "H2 energy for r = 1.450, E= -1.015, E_rmb= -0.990, diff:  2.4%, epohs:190, time:50.50 sec.\n",
            "H2 energy for r = 1.500, E= -1.007, E_rmb= -0.999, diff:  0.8%, epohs:190, time:50.42 sec.\n",
            "H2 energy for r = 1.550, E= -0.999, E_rmb= -0.977, diff:  2.2%, epohs:190, time:50.03 sec.\n",
            "H2 energy for r = 1.600, E= -0.992, E_rmb= -0.974, diff:  1.8%, epohs:190, time:50.42 sec.\n",
            "H2 energy for r = 1.650, E= -0.986, E_rmb= -0.957, diff:  3.0%, epohs:190, time:51.18 sec.\n",
            "H2 energy for r = 1.700, E= -0.980, E_rmb= -0.963, diff:  1.7%, epohs:190, time:50.94 sec.\n",
            "H2 energy for r = 1.750, E= -0.975, E_rmb= -0.957, diff:  1.8%, epohs:190, time:50.40 sec.\n",
            "H2 energy for r = 1.800, E= -0.971, E_rmb= -0.953, diff:  1.8%, epohs:190, time:51.45 sec.\n",
            "H2 energy for r = 1.850, E= -0.967, E_rmb= -0.951, diff:  1.7%, epohs:190, time:50.51 sec.\n",
            "H2 energy for r = 1.900, E= -0.963, E_rmb= -0.936, diff:  2.8%, epohs:190, time:51.47 sec.\n",
            "H2 energy for r = 1.950, E= -0.960, E_rmb= -0.942, diff:  1.9%, epohs:190, time:50.78 sec.\n",
            "H2 energy for r = 2.000, E= -0.958, E_rmb= -0.942, diff:  1.7%, epohs:190, time:50.94 sec.\n",
            "H2 energy for r = 2.050, E= -0.955, E_rmb= -0.940, diff:  1.6%, epohs:190, time:50.67 sec.\n",
            "H2 energy for r = 2.100, E= -0.953, E_rmb= -0.935, diff:  1.9%, epohs:190, time:51.30 sec.\n",
            "H2 energy for r = 2.150, E= -0.952, E_rmb= -0.942, diff:  1.0%, epohs:190, time:50.61 sec.\n",
            "H2 energy for r = 2.200, E= -0.950, E_rmb= -0.937, diff:  1.4%, epohs:190, time:50.32 sec.\n",
            "H2 energy for r = 2.250, E= -0.949, E_rmb= -0.945, diff:  0.4%, epohs:190, time:51.44 sec.\n",
            "H2 energy for r = 2.300, E= -0.948, E_rmb= -0.940, diff:  0.9%, epohs:190, time:50.41 sec.\n",
            "H2 energy for r = 2.350, E= -0.947, E_rmb= -0.940, diff:  0.8%, epohs:190, time:50.16 sec.\n",
            "H2 energy for r = 2.400, E= -0.946, E_rmb= -0.940, diff:  0.7%, epohs:190, time:50.91 sec.\n",
            "H2 energy for r = 2.450, E= -0.945, E_rmb= -0.935, diff:  1.1%, epohs:190, time:50.38 sec.\n",
            "H2 energy for r = 2.500, E= -0.945, E_rmb= -0.926, diff:  2.0%, epohs:190, time:51.71 sec.\n",
            "H2 energy for r = 2.550, E= -0.945, E_rmb= -0.932, diff:  1.3%, epohs:190, time:50.64 sec.\n",
            "H2 energy for r = 2.600, E= -0.944, E_rmb= -0.931, diff:  1.4%, epohs:190, time:51.21 sec.\n",
            "H2 energy for r = 2.650, E= -0.944, E_rmb= -0.930, diff:  1.5%, epohs:190, time:50.50 sec.\n",
            "H2 energy for r = 2.700, E= -0.944, E_rmb= -0.925, diff:  2.0%, epohs:190, time:50.83 sec.\n",
            "H2 energy for r = 2.750, E= -0.943, E_rmb= -0.934, diff:  0.9%, epohs:190, time:50.94 sec.\n",
            "H2 energy for r = 2.800, E= -0.943, E_rmb= -0.930, diff:  1.4%, epohs:190, time:50.49 sec.\n",
            "H2 energy for r = 2.850, E= -0.943, E_rmb= -0.934, diff:  0.9%, epohs:190, time:50.20 sec.\n",
            "CPU times: user 46min 11s, sys: 421 ms, total: 46min 12s\n",
            "Wall time: 46min 13s\n"
          ],
          "name": "stdout"
        }
      ]
    },
    {
      "cell_type": "code",
      "metadata": {
        "id": "J7VWI3XvsrIt",
        "colab_type": "code",
        "colab": {
          "base_uri": "https://localhost:8080/",
          "height": 284
        },
        "outputId": "8cdb0472-6c0e-448c-ac0b-8116dacb7924"
      },
      "source": [
        "plt.plot(rs, true_energies,'k')\n",
        "plt.plot(rs, computed_Es,'r')\n"
      ],
      "execution_count": null,
      "outputs": [
        {
          "output_type": "execute_result",
          "data": {
            "text/plain": [
              "[<matplotlib.lines.Line2D at 0x7fc1fca8ed68>]"
            ]
          },
          "metadata": {
            "tags": []
          },
          "execution_count": 21
        },
        {
          "output_type": "display_data",
          "data": {
            "image/png": "[encoded data removed]",
            "text/plain": [
              "<Figure size 432x288 with 1 Axes>"
            ]
          },
          "metadata": {
            "tags": [],
            "needs_background": "light"
          }
        }
      ]
    },
    {
      "cell_type": "code",
      "metadata": {
        "id": "pag0tNentGHL",
        "colab_type": "code",
        "colab": {
          "base_uri": "https://localhost:8080/",
          "height": 34
        },
        "outputId": "30872f18-62b8-4bb1-ea8d-e2e236d9425c"
      },
      "source": [
        "epochs//printing"
      ],
      "execution_count": null,
      "outputs": [
        {
          "output_type": "execute_result",
          "data": {
            "text/plain": [
              "4"
            ]
          },
          "metadata": {
            "tags": []
          },
          "execution_count": 22
        }
      ]
    },
    {
      "cell_type": "code",
      "metadata": {
        "id": "Y0ZXmQV3uNsY",
        "colab_type": "code",
        "colab": {
          "base_uri": "https://localhost:8080/",
          "height": 269
        },
        "outputId": "e2128288-2a2f-4294-a0ce-e65cea2e9b92"
      },
      "source": [
        "plt.xlim(0, 3)\n",
        "plt.ylim(-1.2, 0.2)\n",
        "plt.plot(rs, true_energies,'k')\n",
        "plt.plot(rs, computed_Es,'r')\n",
        "for i in range(epochs//printing):\n",
        "  plt.plot(rs, cmpted_Es[i,:])\n"
      ],
      "execution_count": null,
      "outputs": [
        {
          "output_type": "display_data",
          "data": {
            "image/png": "[encoded data removed]",
            "text/plain": [
              "<Figure size 432x288 with 1 Axes>"
            ]
          },
          "metadata": {
            "tags": [],
            "needs_background": "light"
          }
        }
      ]
    }
  ]
}
