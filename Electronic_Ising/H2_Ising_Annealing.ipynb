{
 "cells": [
  {
   "cell_type": "markdown",
   "metadata": {},
   "source": [
    "# Electronic structure through (quantum) annealing\n",
    "\n",
    "In this project we map the electronic structure Hamiltonian to an Ising Hamiltonian and find the ground state energy.  Refer to the following references:\n",
    "\n",
    "[1] https://arxiv.org/abs/1706.00271\n",
    "\n",
    "[2] https://arxiv.org/abs/1811.05256\n",
    "\n",
    "[3] https://arxiv.org/abs/1208.5986\n",
    "\n",
    "We use molecular Hydrogen $H_2$ as an example. Assuming the atomic nucleus does not move due to its larger mass, the Hamiltonian which governs the electronic state can be transformed to a qubit representation appropriate for simulation on a quantum computer [3].  See Ref. [2], Eq. (6) for the $n$ qubit Hamiltonian, which encodes the electronic structure problem. Following Ref. [1], we then encode this problem in a classical Ising model, appropriate for annealing. This requires $r$ ancillary bit for each $n$ qubit.\n",
    "\n",
    "The qubit Hamiltonian for moledular hydrogen $H_2$ is given by Eq. (37) in Ref. [1].  After the mapping described above, the problem eventually maps to the 2-local Ising-type Hamiltonian Eq. (41).  This goal becomes the calculation of the ground state energy of this Hamiltonian.\n"
   ]
  },
  {
   "cell_type": "code",
   "execution_count": null,
   "metadata": {},
   "outputs": [],
   "source": []
  }
 ],
 "metadata": {
  "kernelspec": {
   "display_name": "Python 3",
   "language": "python",
   "name": "python3"
  },
  "language_info": {
   "codemirror_mode": {
    "name": "ipython",
    "version": 3
   },
   "file_extension": ".py",
   "mimetype": "text/x-python",
   "name": "python",
   "nbconvert_exporter": "python",
   "pygments_lexer": "ipython3",
   "version": "3.7.6"
  }
 },
 "nbformat": 4,
 "nbformat_minor": 2
}
