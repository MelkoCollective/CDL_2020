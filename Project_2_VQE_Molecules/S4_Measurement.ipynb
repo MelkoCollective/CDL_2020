{
 "cells": [
  {
   "cell_type": "markdown",
   "metadata": {},
   "source": [
    "# Measurement Grouping\n",
    "\n",
    "Since current quantum hardware is limited to single-qubit projective measurement, only terms commuting within individual qubit's subspace can be measured together. These terms are said to be qubit-wise commuting (QWC). \n",
    "\n",
    "Thus, one can not measure the entire electronic Hamiltonian $\\hat H$ at once, and instead needs to separate it into fragments. \n",
    "$$\\hat H = \\sum_n \\hat H_n$$\n",
    "where each $\\hat H_n$ is a QWC fragment. "
   ]
  },
  {
   "cell_type": "code",
   "execution_count": 15,
   "metadata": {},
   "outputs": [],
   "source": [
    "from utility import * "
   ]
  },
  {
   "cell_type": "markdown",
   "metadata": {},
   "source": [
    "Here we use $H_2$ as an example for finding QWC fragments. Notice below that each fragment has the same terms on all qubits.  \n",
    "\n",
    "To show differences between QWC and more advanced grouping, we didn't use the qubit-tappering techinique shown in step 2."
   ]
  },
  {
   "cell_type": "code",
   "execution_count": 2,
   "metadata": {
    "tags": []
   },
   "outputs": [
    {
     "name": "stdout",
     "output_type": "stream",
     "text": [
      "Fragments 1: \n",
      "0.13716572937099494 [Z0] +\n",
      "0.15660062488237958 [Z0 Z1] +\n",
      "0.10622904490856085 [Z0 Z2] +\n",
      "0.15542669077992843 [Z0 Z3] +\n",
      "0.13716572937099494 [Z1] +\n",
      "0.15542669077992843 [Z1 Z2] +\n",
      "0.10622904490856085 [Z1 Z3] +\n",
      "-0.1303629205710914 [Z2] +\n",
      "0.1632676867356435 [Z2 Z3] +\n",
      "-0.13036292057109133 [Z3]\n",
      "\n",
      "Fragments 2:\n",
      "-0.04919764587136759 [X0 X1 Y2 Y3]\n",
      "\n",
      "Number of fragments: 5\n"
     ]
    }
   ],
   "source": [
    "h2 = get_qubit_hamiltonian(mol='h2', geometry=1, basis='sto3g', qubit_transf='jw')\n",
    "\n",
    "qwc_list = get_qwc_group(h2)\n",
    "print('Fragments 1: \\n{}\\n'.format(qwc_list[4]))\n",
    "print('Fragments 2:\\n{}\\n'.format(qwc_list[1]))\n",
    "print('Number of fragments: {}'.format(len(qwc_list)))"
   ]
  },
  {
   "cell_type": "markdown",
   "metadata": {},
   "source": [
    "By applying extra unitaries, one may rotate more terms of $\\hat H$ into a QWC fragment.  \n",
    "\n",
    "Recall that in digital quantum computing, the expectation value of $\\hat H_n$ given a trial wavefunction $|\\psi\\rangle$ is \n",
    "$$ E_n =\\ \\langle\\psi| \\hat H_n | \\psi\\rangle$$\n",
    "Inserting unitary transformation $\\hat U_n$ does not change the expectation value.\n",
    "$$ E_n =\\ \\langle\\psi| \\hat U_n^\\dagger \\hat U_n \\hat H_n \\hat U_n^\\dagger \\hat U_n  |\\psi\\rangle$$ \n",
    "This nonetheless changes the trial wavefunction and the terms to be measured. \n",
    "$$ |\\psi\\rangle \\rightarrow \\hat U_n |\\psi\\rangle = |\\phi\\rangle$$\n",
    "$$ \\hat H_n \\rightarrow \\hat U_n \\hat H_n \\hat U_n^\\dagger = \\hat A_n$$\n",
    "The transformation of $|\\psi \\rangle$ can be done on the quantum computer, and the transformation of $\\hat H_n$ is possible on the classical computer. \n",
    "\n",
    "Now, although $\\hat A_n$ needs to be a QWC fragment to be measurable on a quantum computer, $\\hat H_n$ does not. \n",
    "Instead, if we restrict $\\hat U_n$ to be a clifford operation, the terms in $\\hat H$ need only mutually commute. \n",
    "\n",
    "Here, we obtain measurable parts of $H_2$ by partitioning its terms into mutually commuting fragments. "
   ]
  },
  {
   "cell_type": "code",
   "execution_count": 3,
   "metadata": {
    "tags": []
   },
   "outputs": [
    {
     "name": "stdout",
     "output_type": "stream",
     "text": [
      "Number of mutually commuting fragments: 2\n",
      "The first commuting group\n",
      "-0.3276081896748089 [] +\n",
      "-0.04919764587136759 [X0 X1 Y2 Y3] +\n",
      "0.04919764587136759 [X0 Y1 Y2 X3] +\n",
      "0.04919764587136759 [Y0 X1 X2 Y3] +\n",
      "-0.04919764587136759 [Y0 Y1 X2 X3] +\n",
      "0.15660062488237958 [Z0 Z1] +\n",
      "0.10622904490856085 [Z0 Z2] +\n",
      "0.15542669077992843 [Z0 Z3] +\n",
      "0.15542669077992843 [Z1 Z2] +\n",
      "0.10622904490856085 [Z1 Z3] +\n",
      "0.1632676867356435 [Z2 Z3]\n"
     ]
    }
   ],
   "source": [
    "comm_groups = get_commuting_group(h2)\n",
    "print('Number of mutually commuting fragments: {}'.format(len(comm_groups)))\n",
    "print('The first commuting group')\n",
    "print(comm_groups[1])"
   ]
  },
  {
   "cell_type": "markdown",
   "metadata": {},
   "source": [
    "To see this fragment is indeed measurable, one can construct the corresponding unitary operator $\\hat U_n$."
   ]
  },
  {
   "cell_type": "code",
   "execution_count": 4,
   "metadata": {
    "tags": []
   },
   "outputs": [
    {
     "name": "stdout",
     "output_type": "stream",
     "text": [
      "This is unitary, U * U^+ = I \n",
      "(0.9999999999999996+0j) []\n"
     ]
    }
   ],
   "source": [
    "uqwc = get_qwc_unitary(comm_groups[1])\n",
    "print('This is unitary, U * U^+ = I ')\n",
    "print(uqwc * uqwc)"
   ]
  },
  {
   "cell_type": "markdown",
   "metadata": {},
   "source": [
    "Applying this unitary gives the qubit-wise commuting form of the first mutually commuting group"
   ]
  },
  {
   "cell_type": "code",
   "execution_count": 5,
   "metadata": {
    "tags": []
   },
   "outputs": [
    {
     "name": "stdout",
     "output_type": "stream",
     "text": [
      "-0.32760818967480876 [] +\n",
      "0.15542669077992827 [X0] +\n",
      "0.15660062488237952 [X0 X1] +\n",
      "0.04919764587136755 [X0 X1 Z3] +\n",
      "0.10622904490856076 [X0 X2] +\n",
      "-0.04919764587136755 [X0 Z3] +\n",
      "0.10622904490856076 [X1] +\n",
      "0.15542669077992827 [X1 X2] +\n",
      "-0.04919764587136755 [X1 X2 Z3] +\n",
      "0.16326768673564335 [X2] +\n",
      "0.04919764587136755 [X2 Z3]\n"
     ]
    }
   ],
   "source": [
    "qwc = remove_complex(uqwc * comm_groups[1] * uqwc)\n",
    "print(qwc)"
   ]
  },
  {
   "cell_type": "markdown",
   "metadata": {},
   "source": [
    "In addition, current quantum computer can measure only the $z$ operators. Thus, QWC fragments with $x$ or $y$ operators require extra single-qubit unitaries that rotate them into $z$.  "
   ]
  },
  {
   "cell_type": "code",
   "execution_count": 6,
   "metadata": {
    "tags": []
   },
   "outputs": [
    {
     "name": "stdout",
     "output_type": "stream",
     "text": [
      "Checking whether U * U^+ is identity: 0.9999999999999998 []\n",
      "\n",
      "The all-z form of qwc fragment:\n",
      "-0.3276081896748086 [] +\n",
      "0.15542669077992818 [Z0] +\n",
      "0.15660062488237944 [Z0 Z1] +\n",
      "0.04919764587136754 [Z0 Z1 Z3] +\n",
      "0.1062290449085607 [Z0 Z2] +\n",
      "-0.04919764587136754 [Z0 Z3] +\n",
      "0.1062290449085607 [Z1] +\n",
      "0.15542669077992818 [Z1 Z2] +\n",
      "-0.04919764587136754 [Z1 Z2 Z3] +\n",
      "0.16326768673564326 [Z2] +\n",
      "0.04919764587136754 [Z2 Z3]\n"
     ]
    }
   ],
   "source": [
    "uz = get_zform_unitary(qwc)\n",
    "print(\"Checking whether U * U^+ is identity: {}\".format(uz * uz))\n",
    "\n",
    "allz = remove_complex(uz * qwc * uz)\n",
    "print(\"\\nThe all-z form of qwc fragment:\\n{}\".format(allz))"
   ]
  },
  {
   "cell_type": "code",
   "execution_count": 16,
   "metadata": {},
   "outputs": [
    {
     "name": "stdout",
     "output_type": "stream",
     "text": [
      "Fragments 1: \n",
      "-0.003240390291191435 [X0 Z1 Z2 Y3 Y4 Z5 Z6 Z7 Z8 Z9 Z10 X11] +\n",
      "0.06558452315458399 [Z6 Z8] +\n",
      "0.0698018080330067 [Z6 Z9] +\n",
      "0.0698018080330067 [Z7 Z8] +\n",
      "0.06558452315458399 [Z7 Z9]\n",
      "\n",
      "Fragments 2:\n",
      "-0.000908468984579296 [Y0 Z1 Z2 Z3 Z4 Z5 Y6 Y7 Z8 Z9 Z10 Y11] +\n",
      "0.0990222572034093 [Z1 Z8] +\n",
      "0.09654955103502404 [Z1 Z9] +\n",
      "0.06832924266505011 [Z2 Z8] +\n",
      "0.07512476934747571 [Z2 Z9] +\n",
      "0.07512476934747571 [Z3 Z8] +\n",
      "0.06832924266505011 [Z3 Z9] +\n",
      "0.06009702977667714 [Z4 Z8] +\n",
      "0.07068762352443513 [Z4 Z9] +\n",
      "0.07068762352443513 [Z5 Z8] +\n",
      "0.06009702977667714 [Z5 Z9] +\n",
      "-0.21675429323818457 [Z8] +\n",
      "0.0782363777898522 [Z8 Z9] +\n",
      "0.06428519917726595 [Z8 Z10] +\n",
      "-0.2167542932381843 [Z9] +\n",
      "0.06811818560946907 [Z9 Z10]\n",
      "\n",
      "Number of fragments: 154\n"
     ]
    }
   ],
   "source": [
    "lih = get_qubit_hamiltonian(mol='lih', geometry=1, basis='sto3g', qubit_transf='jw')\n",
    "\n",
    "qwc_list = get_qwc_group(lih)\n",
    "print('Fragments 1: \\n{}\\n'.format(qwc_list[4]))\n",
    "print('Fragments 2:\\n{}\\n'.format(qwc_list[1]))\n",
    "print('Number of fragments: {}'.format(len(qwc_list)))"
   ]
  },
  {
   "cell_type": "code",
   "execution_count": 17,
   "metadata": {},
   "outputs": [
    {
     "name": "stdout",
     "output_type": "stream",
     "text": [
      "Number of mutually commuting fragments: 36\n",
      "The first commuting group\n",
      "-3.93444195675791 [] +\n",
      "0.007923321157850617 [X0 Y1 Y2 X3] +\n",
      "-0.00015507836015021543 [X0 Z1 Z2 X3 Y4 Y5] +\n",
      "-0.0020778869026622905 [X0 Z1 Z2 X3 Y6 Y7] +\n",
      "-0.0020778869026622914 [X0 Z1 Z2 X3 Y8 Y9] +\n",
      "-0.0021028659073762243 [X0 Z1 Z2 X3 Y10 Y11] +\n",
      "0.007923321157850617 [Y0 X1 X2 Y3] +\n",
      "-0.00015507836015021543 [Y0 Z1 Z2 Y3 X4 X5] +\n",
      "-0.0020778869026622905 [Y0 Z1 Z2 Y3 X6 X7] +\n",
      "-0.0020778869026622914 [Y0 Z1 Z2 Y3 X8 X9] +\n",
      "-0.0021028659073762243 [Y0 Z1 Z2 Y3 X10 X11] +\n",
      "0.11709373561826503 [Z0 Z3] +\n",
      "-0.00015507836015021543 [X1 X2 X4 X5] +\n",
      "-0.0020778869026622905 [X1 X2 X6 X7] +\n",
      "-0.0020778869026622914 [X1 X2 X8 X9] +\n",
      "-0.0021028659073762243 [X1 X2 X10 X11] +\n",
      "-0.00015507836015021543 [Y1 Y2 Y4 Y5] +\n",
      "-0.0020778869026622905 [Y1 Y2 Y6 Y7] +\n",
      "-0.0020778869026622914 [Y1 Y2 Y8 Y9] +\n",
      "-0.0021028659073762243 [Y1 Y2 Y10 Y11] +\n",
      "0.11709373561826503 [Z1 Z2] +\n",
      "-0.01059059374775798 [X4 X5 Y6 Y7] +\n",
      "-0.010590593747757988 [X4 X5 Y8 Y9] +\n",
      "-0.006733030780881178 [X4 X5 Y10 Y11] +\n",
      "-0.01059059374775798 [Y4 Y5 X6 X7] +\n",
      "-0.010590593747757988 [Y4 Y5 X8 X9] +\n",
      "-0.006733030780881178 [Y4 Y5 X10 X11] +\n",
      "0.08475100244618898 [Z4 Z5] +\n",
      "-0.004217284878422704 [X6 X7 Y8 Y9] +\n",
      "-0.0038329864322031175 [X6 X7 Y10 Y11] +\n",
      "-0.004217284878422704 [Y6 Y7 X8 X9] +\n",
      "-0.0038329864322031175 [Y6 Y7 X10 X11] +\n",
      "0.07823637778985211 [Z6 Z7] +\n",
      "-0.0038329864322031205 [X8 X9 Y10 Y11] +\n",
      "-0.0038329864322031205 [Y8 Y9 X10 X11] +\n",
      "0.0782363777898522 [Z8 Z9] +\n",
      "0.10993969044870443 [Z10 Z11]\n"
     ]
    }
   ],
   "source": [
    "comm_groups = get_commuting_group(lih)\n",
    "print('Number of mutually commuting fragments: {}'.format(len(comm_groups)))\n",
    "print('The first commuting group')\n",
    "print(comm_groups[1])"
   ]
  },
  {
   "cell_type": "code",
   "execution_count": 18,
   "metadata": {},
   "outputs": [],
   "source": [
    "uqwc = get_qwc_unitary(comm_groups[1])"
   ]
  },
  {
   "cell_type": "code",
   "execution_count": null,
   "metadata": {},
   "outputs": [],
   "source": [
    "qwc = remove_complex(uqwc * comm_groups[1] * uqwc)"
   ]
  },
  {
   "cell_type": "code",
   "execution_count": null,
   "metadata": {},
   "outputs": [],
   "source": []
  }
 ],
 "metadata": {
  "kernelspec": {
   "display_name": "quantumhack",
   "language": "python",
   "name": "quantumhack"
  },
  "language_info": {
   "codemirror_mode": {
    "name": "ipython",
    "version": 3
   },
   "file_extension": ".py",
   "mimetype": "text/x-python",
   "name": "python",
   "nbconvert_exporter": "python",
   "pygments_lexer": "ipython3",
   "version": "3.7.1"
  }
 },
 "nbformat": 4,
 "nbformat_minor": 2
}
