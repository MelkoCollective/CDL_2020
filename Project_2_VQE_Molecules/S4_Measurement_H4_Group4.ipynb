{
 "cells": [
  {
   "cell_type": "markdown",
   "metadata": {},
   "source": [
    "# Measurement Grouping\n",
    "\n",
    "Since current quantum hardware is limited to single-qubit projective measurement, only terms commuting within individual qubit's subspace can be measured together. These terms are said to be qubit-wise commuting (QWC). \n",
    "\n",
    "Thus, one can not measure the entire electronic Hamiltonian $\\hat H$ at once, and instead needs to separate it into fragments. \n",
    "$$\\hat H = \\sum_n \\hat H_n$$\n",
    "where each $\\hat H_n$ is a QWC fragment. "
   ]
  },
  {
   "cell_type": "code",
   "execution_count": 1,
   "metadata": {},
   "outputs": [],
   "source": [
    "from utility import * "
   ]
  },
  {
   "cell_type": "markdown",
   "metadata": {},
   "source": [
    "Here we use $H_4$ as an example for finding QWC fragments. Notice below that each fragment has the same terms on all qubits.  \n",
    "\n",
    "To show differences between QWC and more advanced grouping, we didn't use the qubit-tappering techinique shown in step 2."
   ]
  },
  {
   "cell_type": "code",
   "execution_count": 3,
   "metadata": {
    "tags": []
   },
   "outputs": [
    {
     "name": "stdout",
     "output_type": "stream",
     "text": [
      "Fragments 1: \n",
      "-0.03364279213332279 [Y0 Z1 Z2 Z3 Y4 Y5 Z6 Y7] +\n",
      "0.1287476489275114 [Z1 Z2] +\n",
      "0.09566918130687388 [Z1 Z3] +\n",
      "-0.008917138825534923 [Z2] +\n",
      "0.1484641089788795 [Z2 Z3] +\n",
      "0.09494715992203566 [Z2 Z6] +\n",
      "-0.008917138825534975 [Z3] +\n",
      "0.1330052385758922 [Z3 Z6]\n",
      "\n",
      "Fragments 2:\n",
      "0.033551136411865544 [Y0 Z1 Y2 X3 Z4 Z5 Z6 X7]\n",
      "\n",
      "Number of fragments: 25\n"
     ]
    }
   ],
   "source": [
    "h4 = get_qubit_hamiltonian(mol='h4', geometry=1, basis='sto3g', qubit_transf='jw')\n",
    "\n",
    "qwc_list = get_qwc_group(h4)\n",
    "print('Fragments 1: \\n{}\\n'.format(qwc_list[4]))\n",
    "print('Fragments 2:\\n{}\\n'.format(qwc_list[1]))\n",
    "print('Number of fragments: {}'.format(len(qwc_list)))"
   ]
  },
  {
   "cell_type": "markdown",
   "metadata": {},
   "source": [
    "By applying extra unitaries, one may rotate more terms of $\\hat H$ into a QWC fragment.  \n",
    "\n",
    "Recall that in digital quantum computing, the expectation value of $\\hat H_n$ given a trial wavefunction $|\\psi\\rangle$ is \n",
    "$$ E_n =\\ \\langle\\psi| \\hat H_n | \\psi\\rangle$$\n",
    "Inserting unitary transformation $\\hat U_n$ does not change the expectation value.\n",
    "$$ E_n =\\ \\langle\\psi| \\hat U_n^\\dagger \\hat U_n \\hat H_n \\hat U_n^\\dagger \\hat U_n  |\\psi\\rangle$$ \n",
    "This nonetheless changes the trial wavefunction and the terms to be measured. \n",
    "$$ |\\psi\\rangle \\rightarrow \\hat U_n |\\psi\\rangle = |\\phi\\rangle$$\n",
    "$$ \\hat H_n \\rightarrow \\hat U_n \\hat H_n \\hat U_n^\\dagger = \\hat A_n$$\n",
    "The transformation of $|\\psi \\rangle$ can be done on the quantum computer, and the transformation of $\\hat H_n$ is possible on the classical computer. \n",
    "\n",
    "Now, although $\\hat A_n$ needs to be a QWC fragment to be measurable on a quantum computer, $\\hat H_n$ does not. \n",
    "Instead, if we restrict $\\hat U_n$ to be a clifford operation, the terms in $\\hat H$ need only mutually commute. \n",
    "\n",
    "Here, we obtain measurable parts of $H_4$ by partitioning its terms into mutually commuting fragments. "
   ]
  },
  {
   "cell_type": "code",
   "execution_count": 5,
   "metadata": {
    "tags": []
   },
   "outputs": [
    {
     "name": "stdout",
     "output_type": "stream",
     "text": [
      "Number of mutually commuting fragments: 8\n",
      "The first commuting group\n",
      "-0.24347573739328326 [] +\n",
      "-0.019379615157033403 [X0 X1 Y6 Y7] +\n",
      "0.019379615157033403 [X0 Y1 Y6 X7] +\n",
      "0.019379615157033403 [Y0 X1 X6 Y7] +\n",
      "-0.019379615157033403 [Y0 Y1 X6 X7] +\n",
      "0.13336368496137166 [Z0 Z1] +\n",
      "0.11120069420693829 [Z0 Z6] +\n",
      "0.1305803093639717 [Z0 Z7] +\n",
      "0.1305803093639717 [Z1 Z6] +\n",
      "0.11120069420693829 [Z1 Z7] +\n",
      "-0.0027728737704306758 [X2 X3 Y4 Y5] +\n",
      "0.0027728737704306758 [X2 Y3 Y4 X5] +\n",
      "0.0027728737704306758 [Y2 X3 X4 Y5] +\n",
      "-0.0027728737704306758 [Y2 Y3 X4 X5] +\n",
      "0.1484641089788795 [Z2 Z3] +\n",
      "0.10669392951173001 [Z2 Z4] +\n",
      "0.10946680328216069 [Z2 Z5] +\n",
      "0.10946680328216069 [Z3 Z4] +\n",
      "0.10669392951173001 [Z3 Z5] +\n",
      "0.14846410897887957 [Z4 Z5] +\n",
      "0.1383904089654409 [Z6 Z7]\n"
     ]
    }
   ],
   "source": [
    "comm_groups = get_commuting_group(h4)\n",
    "print('Number of mutually commuting fragments: {}'.format(len(comm_groups)))\n",
    "print('The first commuting group')\n",
    "print(comm_groups[1])"
   ]
  },
  {
   "cell_type": "markdown",
   "metadata": {},
   "source": [
    "To see this fragment is indeed measurable, one can construct the corresponding unitary operator $\\hat U_n$."
   ]
  },
  {
   "cell_type": "code",
   "execution_count": 6,
   "metadata": {
    "tags": []
   },
   "outputs": [
    {
     "name": "stdout",
     "output_type": "stream",
     "text": [
      "This is unitary, U * U^+ = I \n",
      "(0.9999999999999999+0j) []\n"
     ]
    }
   ],
   "source": [
    "uqwc = get_qwc_unitary(comm_groups[1])\n",
    "print('This is unitary, U * U^+ = I ')\n",
    "print(uqwc * uqwc)"
   ]
  },
  {
   "cell_type": "markdown",
   "metadata": {},
   "source": [
    "Applying this unitary gives the qubit-wise commuting form of the first mutually commuting group"
   ]
  },
  {
   "cell_type": "code",
   "execution_count": 7,
   "metadata": {
    "tags": []
   },
   "outputs": [
    {
     "name": "stdout",
     "output_type": "stream",
     "text": [
      "-0.24347573739328257 [] +\n",
      "0.1305803093639712 [X0] +\n",
      "0.13336368496137127 [X0 X1] +\n",
      "0.01937961515703348 [X0 X1 Z7] +\n",
      "0.11120069420693847 [X0 X6] +\n",
      "-0.01937961515703348 [X0 Z7] +\n",
      "0.11120069420693847 [X1] +\n",
      "0.1305803093639712 [X1 X6] +\n",
      "-0.01937961515703348 [X1 X6 Z7] +\n",
      "0.10946680328216025 [X2] +\n",
      "0.14846410897887868 [X2 X3] +\n",
      "0.0027728737704306723 [X2 X3 Z5] +\n",
      "0.10669392951173048 [X2 X4] +\n",
      "-0.0027728737704306723 [X2 Z5] +\n",
      "0.10669392951173048 [X3] +\n",
      "0.10946680328216025 [X3 X4] +\n",
      "-0.0027728737704306723 [X3 X4 Z5] +\n",
      "0.14846410897887868 [X4] +\n",
      "0.0027728737704306723 [X4 Z5] +\n",
      "0.1383904089654414 [X6] +\n",
      "0.01937961515703348 [X6 Z7]\n"
     ]
    }
   ],
   "source": [
    "qwc = remove_complex(uqwc * comm_groups[1] * uqwc)\n",
    "print(qwc)"
   ]
  },
  {
   "cell_type": "markdown",
   "metadata": {},
   "source": [
    "In addition, current quantum computer can measure only the $z$ operators. Thus, QWC fragments with $x$ or $y$ operators require extra single-qubit unitaries that rotate them into $z$.  "
   ]
  },
  {
   "cell_type": "code",
   "execution_count": 8,
   "metadata": {
    "tags": []
   },
   "outputs": [
    {
     "name": "stdout",
     "output_type": "stream",
     "text": [
      "Checking whether U * U^+ is identity: 0.9999999999999999 []\n",
      "\n",
      "The all-z form of qwc fragment:\n",
      "-0.24347573739328252 [] +\n",
      "0.13058030936397105 [Z0] +\n",
      "0.1333636849613712 [Z0 Z1] +\n",
      "0.019379615157033483 [Z0 Z1 Z7] +\n",
      "0.11120069420693836 [Z0 Z6] +\n",
      "-0.019379615157033483 [Z0 Z7] +\n",
      "0.11120069420693836 [Z1] +\n",
      "0.13058030936397105 [Z1 Z6] +\n",
      "-0.019379615157033483 [Z1 Z6 Z7] +\n",
      "0.10946680328216017 [Z2] +\n",
      "0.14846410897887863 [Z2 Z3] +\n",
      "0.002772873770430672 [Z2 Z3 Z5] +\n",
      "0.10669392951173055 [Z2 Z4] +\n",
      "-0.002772873770430672 [Z2 Z5] +\n",
      "0.10669392951173055 [Z3] +\n",
      "0.10946680328216017 [Z3 Z4] +\n",
      "-0.002772873770430672 [Z3 Z4 Z5] +\n",
      "0.14846410897887863 [Z4] +\n",
      "0.002772873770430672 [Z4 Z5] +\n",
      "0.13839040896544136 [Z6] +\n",
      "0.019379615157033483 [Z6 Z7]\n"
     ]
    }
   ],
   "source": [
    "uz = get_zform_unitary(qwc)\n",
    "print(\"Checking whether U * U^+ is identity: {}\".format(uz * uz))\n",
    "\n",
    "allz = remove_complex(uz * qwc * uz)\n",
    "print(\"\\nThe all-z form of qwc fragment:\\n{}\".format(allz))"
   ]
  },
  {
   "cell_type": "code",
   "execution_count": null,
   "metadata": {},
   "outputs": [],
   "source": []
  }
 ],
 "metadata": {
  "kernelspec": {
   "display_name": "task02",
   "language": "python",
   "name": "task02"
  },
  "language_info": {
   "codemirror_mode": {
    "name": "ipython",
    "version": 3
   },
   "file_extension": ".py",
   "mimetype": "text/x-python",
   "name": "python",
   "nbconvert_exporter": "python",
   "pygments_lexer": "ipython3",
   "version": "3.7.1"
  }
 },
 "nbformat": 4,
 "nbformat_minor": 2
}
