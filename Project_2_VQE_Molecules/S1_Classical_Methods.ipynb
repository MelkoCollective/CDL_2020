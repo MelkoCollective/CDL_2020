{
 "cells": [
  {
   "cell_type": "markdown",
   "metadata": {},
   "source": [
    "# Review of classical electronic structure methods \n",
    "\n",
    "In order to assess the performance of quantum computing algorithms in addressing the electronic structure problem, we will briefly review a few commonly employed classical electronic structure methods of varying level of approximation. \n",
    "\n",
    "## Hartree-Fock\n",
    "\n",
    "The Hartree-Fock (HF) method employs a **mean-field approximation**, where Coulomb correlation of electrons is neglected. The HF wavefunction is hence restricted to the form of a single Slater determinant, for which the optimal form may be acquired by an optimization of the underlying single particle basis (orbitals). Once the optimal HF orbitals have been found, the HF state may be written as \n",
    "\n",
    "$$ | \\text{HF} \\rangle = \\prod_{p \\in \\text{occ}} \\hat a^\\dagger_p | \\text{vac} \\rangle $$\n",
    "\n",
    "where $\\hat a^\\dagger_p$ creates an electron in the $p^{\\rm{th}}$ optimized HF spin orbital, and  $| \\text{vac} \\rangle$ is the vacuum state (all spin-orbitals unoccupied). Due to the restriction to a single Slater determinant, the HF energy may be obtained very efficiently and can be applied to very large molecules, however it becomes qualitatively incorrect when **electronic correlations** become sufficiently strong. The HF wavefunction is often used as a starting point in more accurate treatments of electronic correlation. \n",
    "\n",
    "## Coupled cluster\n",
    "\n",
    "The Coupled cluster (CC) method introduces electronic correlation to the wavefunction ansatz by operating on the HF reference state with the exponential of excitation operators\n",
    "\n",
    "$$|\\text{CC} \\rangle = e^{\\hat T} | \\text{HF}\\rangle, \\quad \\hat T = \\hat T_1 + \\hat T_2 + ...$$\n",
    "\n",
    "where $\\hat T_1 = \\sum_{ia} t^{a}_i \\hat a^\\dagger_a \\hat a_i$ are referred to as 'singles', $\\hat T_2 = \\sum_{ijab} t^{ab}_{ij} \\hat a^\\dagger_a \\hat a^\\dagger_b \\hat a_i \\hat a_j$ as 'doubles', etc. When the excitation rank is truncated to only singles (S) and doubles (D), $\\hat T = \\hat T_1 + \\hat T_2$, the corresponding ansatz is referred to as CCSD. Since the number of possible single and double excitations for a system of $N$ electrons in $M$ orbitals is polynomial in $M$, one can efficiently solve a system of equations to obtain the optimized CCSD amplitudes. CCSD often gives accurate energies and can be applied to modestly sized chemical systems. However, due to its implementation, it can **violate the variational principle** and give energies lower than the ground state.\n",
    "\n",
    "## Full Configuration Interaction\n",
    "The full configuration interaction (FCI) method yields the **exact ground state energy** within a given basis set. The FCI wavefunction is written as a linear combination of all possible $N$-particle Slater determinants over the orbital basis\n",
    "$$|\\text{FCI} \\rangle =  \\left( \\sum_{ia} C^{a}_i \\hat a^\\dagger_a \\hat a_i + \\sum_{ijab} C^{ab}_{ij} \\hat a^\\dagger_a \\hat a^\\dagger_b \\hat a_i \\hat a_j + ...  \\right) | \\text{HF} \\rangle $$\n",
    "where the sum includes up to $N$-electron excitations, and hence there are an exponential number of coefficients to optimize in $| \\text{FCI} \\rangle$. Due to its **exponential complexity**, FCI is often reserved for only the smallest chemical systems. However, it serves as a useful result to compare to when assessing tractable electronic structure methods."
   ]
  },
  {
   "cell_type": "markdown",
   "metadata": {},
   "source": [
    "# Benchmarking for electronic PESs in minimal basis (STO-3G)\n",
    "\n",
    "We will apply HF, CCSD, and FCI to obtaining the PESs for a few molecular dissociation processes in minimal (STO-3G) basis."
   ]
  },
  {
   "cell_type": "code",
   "execution_count": 1,
   "metadata": {},
   "outputs": [],
   "source": [
    "import numpy as np\n",
    "import matplotlib.pyplot as plt\n",
    "from utility import get_molecular_data, obtain_PES\n",
    "\n",
    "basis = 'sto-3g'"
   ]
  },
  {
   "cell_type": "markdown",
   "metadata": {},
   "source": [
    "## H<sub>2</sub>"
   ]
  },
  {
   "cell_type": "code",
   "execution_count": 7,
   "metadata": {},
   "outputs": [],
   "source": [
    "bond_lengths = np.linspace(0.2,2.6,15)"
   ]
  },
  {
   "cell_type": "code",
   "execution_count": 8,
   "metadata": {
    "scrolled": true
   },
   "outputs": [
    {
     "name": "stdout",
     "output_type": "stream",
     "text": [
      "E = 0.15748213365503272 Eh\n",
      "E = -0.8488991062024303 Eh\n",
      "E = -1.0882281844069168 Eh\n",
      "E = -1.136928959400571 Eh\n",
      "E = -1.1229570527982327 Eh\n",
      "E = -1.0887645364963472 Eh\n",
      "E = -1.050442037218747 Eh\n",
      "E = -1.0154682491653277 Eh\n",
      "E = -0.987392996293216 Eh\n",
      "E = -0.9670259116093083 Eh\n",
      "E = -0.9534242125062942 Eh\n",
      "E = -0.9449089870950516 Eh\n",
      "E = -0.9398197912188275 Eh\n",
      "E = -0.9368706035283361 Eh\n",
      "E = -0.9351960308386078 Eh\n"
     ]
    }
   ],
   "source": [
    "#Run FCI\n",
    "FCI_PES = obtain_PES('h2', bond_lengths, basis, method='fci')"
   ]
  },
  {
   "cell_type": "code",
   "execution_count": 9,
   "metadata": {
    "scrolled": true
   },
   "outputs": [
    {
     "name": "stdout",
     "output_type": "stream",
     "text": [
      "E = 0.16412595411335862 Eh\n",
      "E = -0.8397057843499789 Eh\n",
      "E = -1.074887931719117 Eh\n",
      "E = -1.1175258568986912 Eh\n",
      "E = -1.0951595815644795 Eh\n",
      "E = -1.0495617842752072 Eh\n",
      "E = -0.9960202460350677 Eh\n",
      "E = -0.9415475409906814 Eh\n",
      "E = -0.8899750208893146 Eh\n",
      "E = -0.8432718025417755 Eh\n",
      "E = -0.8022428650141384 Eh\n",
      "E = -0.7669825247359998 Eh\n",
      "E = -0.7371545448988288 Eh\n",
      "E = -0.7121961606082431 Eh\n",
      "E = -0.6914700512624794 Eh\n"
     ]
    }
   ],
   "source": [
    "#Run HF\n",
    "HF_PES = obtain_PES('h2', bond_lengths, basis,  method='hf')"
   ]
  },
  {
   "cell_type": "code",
   "execution_count": 10,
   "metadata": {
    "scrolled": true
   },
   "outputs": [
    {
     "name": "stdout",
     "output_type": "stream",
     "text": [
      "E = 0.15748412056436217 Eh\n",
      "E = -0.8488985094851161 Eh\n",
      "E = -1.0882310174307857 Eh\n",
      "E = -1.1369333351418656 Eh\n",
      "E = -1.1229593878059763 Eh\n",
      "E = -1.0887606905920533 Eh\n",
      "E = -1.050426089327126 Eh\n",
      "E = -1.015441636439638 Eh\n",
      "E = -0.9873692257052735 Eh\n",
      "E = -0.9670168314563374 Eh\n",
      "E = -0.9534301294889956 Eh\n",
      "E = -0.9449225613845066 Eh\n",
      "E = -0.9398332746700124 Eh\n",
      "E = -0.9368793989542732 Eh\n",
      "E = -0.9351989265367034 Eh\n"
     ]
    }
   ],
   "source": [
    "#Run CCSD\n",
    "CCSD_PES = obtain_PES('h2', bond_lengths, basis,  method='ccsd')"
   ]
  },
  {
   "cell_type": "code",
   "execution_count": 11,
   "metadata": {},
   "outputs": [
    {
     "data": {
      "text/plain": [
       "<matplotlib.legend.Legend at 0x7f032cad6630>"
      ]
     },
     "execution_count": 11,
     "metadata": {},
     "output_type": "execute_result"
    },
    {
     "data": {
      "image/png": "[encoded data removed]",
      "text/plain": [
       "<Figure size 432x288 with 1 Axes>"
      ]
     },
     "metadata": {
      "needs_background": "light"
     },
     "output_type": "display_data"
    }
   ],
   "source": [
    "#Plot H2 PESs\n",
    "\n",
    "plt.title('H2 dissociation, STO-3G')\n",
    "plt.xlabel('R, Angstrom')\n",
    "plt.ylabel('E, Hartree')\n",
    "\n",
    "plt.plot(bond_lengths, FCI_PES, label='FCI')\n",
    "plt.scatter(bond_lengths, HF_PES, label='HF', color='orange')\n",
    "plt.scatter(bond_lengths, CCSD_PES, label='CCSD', color='purple')\n",
    "plt.legend()"
   ]
  },
  {
   "cell_type": "markdown",
   "metadata": {},
   "source": [
    "<img src=\"figs/testimage.png\">"
   ]
  },
  {
   "cell_type": "markdown",
   "metadata": {},
   "source": [
    "## H<sub>2</sub>O symmetric O-H dissociation"
   ]
  },
  {
   "cell_type": "code",
   "execution_count": 10,
   "metadata": {},
   "outputs": [],
   "source": [
    "bond_lengths = np.linspace(0.5,2.7,15)"
   ]
  },
  {
   "cell_type": "code",
   "execution_count": 11,
   "metadata": {},
   "outputs": [
    {
     "name": "stdout",
     "output_type": "stream",
     "text": [
      "E = -73.14278405998414 Eh\n",
      "E = -74.47523205268014 Eh\n",
      "E = -74.90413378058017 Eh\n",
      "E = -75.01383133956654 Eh\n",
      "E = -75.00356512166928 Eh\n",
      "E = -74.95170869126783 Eh\n",
      "E = -74.89218648216018 Eh\n",
      "E = -74.83923063661699 Eh\n",
      "E = -74.79866365936574 Eh\n",
      "E = -74.77161515186775 Eh\n",
      "E = -74.75568947214684 Eh\n",
      "E = -74.74704715251242 Eh\n",
      "E = -74.74248898749448 Eh\n",
      "E = -74.74007426712959 Eh\n",
      "Could not converge\n"
     ]
    }
   ],
   "source": [
    "#Run FCI\n",
    "FCI_PES = obtain_PES('h2o', bond_lengths, basis, method='fci')"
   ]
  },
  {
   "cell_type": "code",
   "execution_count": 12,
   "metadata": {},
   "outputs": [
    {
     "name": "stdout",
     "output_type": "stream",
     "text": [
      "E = -73.12948161321476 Eh\n",
      "E = -74.45343797011796 Eh\n",
      "E = -74.87055361047916 Eh\n",
      "E = -74.96308510923626 Eh\n",
      "E = -74.92817508740148 Eh\n",
      "E = -74.84281942863211 Eh\n",
      "E = -74.74051950148022 Eh\n",
      "E = -74.63577758413845 Eh\n",
      "E = -74.53576638656821 Eh\n",
      "E = -74.44494384742121 Eh\n",
      "E = -74.36975504260424 Eh\n",
      "E = -74.29778481417813 Eh\n",
      "E = -74.2416722005104 Eh\n",
      "E = -74.27129957698466 Eh\n",
      "Could not converge\n"
     ]
    }
   ],
   "source": [
    "#Run HF\n",
    "HF_PES = obtain_PES('h2o', bond_lengths, basis,  method='hf')"
   ]
  },
  {
   "cell_type": "code",
   "execution_count": 13,
   "metadata": {},
   "outputs": [
    {
     "name": "stdout",
     "output_type": "stream",
     "text": [
      "E = -73.14276363918694 Eh\n",
      "E = -74.47519485717145 Eh\n",
      "E = -74.90406353010552 Eh\n",
      "E = -75.01370018934803 Eh\n",
      "E = -75.00330155818898 Eh\n",
      "E = -74.95116757042634 Eh\n",
      "E = -74.89128367467829 Eh\n",
      "E = -74.83853401139109 Eh\n",
      "E = -74.80070162376026 Eh\n",
      "E = -74.7810573871734 Eh\n",
      "E = -74.74394274758566 Eh\n",
      "E = -74.77972801511767 Eh\n",
      "E = -74.7833896345312 Eh\n",
      "E = -74.64224434262873 Eh\n",
      "Could not converge\n"
     ]
    }
   ],
   "source": [
    "#Run CCSD\n",
    "CCSD_PES = obtain_PES('h2o', bond_lengths, basis,  method='ccsd')"
   ]
  },
  {
   "cell_type": "code",
   "execution_count": 14,
   "metadata": {},
   "outputs": [
    {
     "data": {
      "text/plain": [
       "<matplotlib.legend.Legend at 0x7fd2515ee668>"
      ]
     },
     "execution_count": 14,
     "metadata": {},
     "output_type": "execute_result"
    },
    {
     "data": {
      "image/png": "[encoded data removed]",
      "text/plain": [
       "<Figure size 432x288 with 1 Axes>"
      ]
     },
     "metadata": {
      "needs_background": "light"
     },
     "output_type": "display_data"
    }
   ],
   "source": [
    "#Plot H2O PESs\n",
    "\n",
    "plt.title('H2O symmetric dissociation, STO-3G')\n",
    "plt.xlabel('R, Angstrom')\n",
    "plt.ylabel('E, Hartree')\n",
    "\n",
    "plt.plot(bond_lengths, FCI_PES, label='FCI')\n",
    "plt.scatter(bond_lengths, HF_PES, label='HF', color='orange')\n",
    "plt.scatter(bond_lengths, CCSD_PES, label='CCSD', color='purple')\n",
    "plt.legend()"
   ]
  },
  {
   "cell_type": "markdown",
   "metadata": {},
   "source": [
    "#  A partir de acá es lo nuevo"
   ]
  },
  {
   "cell_type": "markdown",
   "metadata": {},
   "source": [
    "## LiH"
   ]
  },
  {
   "cell_type": "code",
   "execution_count": 4,
   "metadata": {},
   "outputs": [],
   "source": [
    "bond_lengths = np.linspace(0.2,2.6,15)"
   ]
  },
  {
   "cell_type": "code",
   "execution_count": 5,
   "metadata": {},
   "outputs": [
    {
     "name": "stdout",
     "output_type": "stream",
     "text": [
      "E = -4.041729928511248 Eh\n",
      "E = -6.476001431266474 Eh\n",
      "E = -7.178193643340489 Eh\n",
      "E = -7.526498486565391 Eh\n",
      "E = -7.712630400158973 Eh\n",
      "E = -7.809958142660568 Eh\n",
      "E = -7.858103655150282 Eh\n",
      "E = -7.878453652319019 Eh\n",
      "E = -7.882668561853681 Eh\n",
      "E = -7.877535303598006 Eh\n",
      "E = -7.867261893022058 Eh\n",
      "E = -7.854568284484584 Eh\n",
      "E = -7.841269334302725 Eh\n",
      "E = -7.828604512640165 Eh\n",
      "E = -7.8173999273756625 Eh\n"
     ]
    }
   ],
   "source": [
    "#Run FCI\n",
    "\n",
    "FCI_PES = obtain_PES('lih', bond_lengths, basis, method='fci')"
   ]
  },
  {
   "cell_type": "code",
   "execution_count": 6,
   "metadata": {},
   "outputs": [
    {
     "name": "stdout",
     "output_type": "stream",
     "text": [
      "E = -3.999938081850282 Eh\n",
      "E = -6.442865006638948 Eh\n",
      "E = -7.157727610056979 Eh\n",
      "E = -7.507561971836502 Eh\n",
      "E = -7.69493922797108 Eh\n",
      "E = -7.793148010030828 Eh\n",
      "E = -7.84129823610769 Eh\n",
      "E = -7.86062131505413 Eh\n",
      "E = -7.862747590802051 Eh\n",
      "E = -7.854432789114544 Eh\n",
      "E = -7.839814814258682 Eh\n",
      "E = -7.821502044433597 Eh\n",
      "E = -7.801168740856861 Eh\n",
      "E = -7.779919081959606 Eh\n",
      "E = -7.758519166159427 Eh\n"
     ]
    }
   ],
   "source": [
    "#Run HF\n",
    "HF_PES = obtain_PES('lih', bond_lengths, basis,  method='hf')"
   ]
  },
  {
   "cell_type": "code",
   "execution_count": 7,
   "metadata": {},
   "outputs": [
    {
     "name": "stdout",
     "output_type": "stream",
     "text": [
      "E = -4.04162633762092 Eh\n",
      "E = -6.475814567885648 Eh\n",
      "E = -7.178151795208303 Eh\n",
      "E = -7.526489297627454 Eh\n",
      "E = -7.712624094698165 Eh\n",
      "E = -7.809951465614481 Eh\n",
      "E = -7.8580960299230584 Eh\n",
      "E = -7.878444199417256 Eh\n",
      "E = -7.882656692757964 Eh\n",
      "E = -7.877520997837847 Eh\n",
      "E = -7.867244957206116 Eh\n",
      "E = -7.854547794592297 Eh\n",
      "E = -7.8412435153040905 Eh\n",
      "E = -7.828570729160714 Eh\n",
      "E = -7.817355013474601 Eh\n"
     ]
    }
   ],
   "source": [
    "#Run CCSD\n",
    "CCSD_PES = obtain_PES('lih', bond_lengths, basis,  method='ccsd')"
   ]
  },
  {
   "cell_type": "code",
   "execution_count": 8,
   "metadata": {},
   "outputs": [
    {
     "data": {
      "text/plain": [
       "<matplotlib.legend.Legend at 0x7f09c6061ac8>"
      ]
     },
     "execution_count": 8,
     "metadata": {},
     "output_type": "execute_result"
    },
    {
     "data": {
      "image/png": "[encoded data removed]",
      "text/plain": [
       "<Figure size 432x288 with 1 Axes>"
      ]
     },
     "metadata": {
      "needs_background": "light"
     },
     "output_type": "display_data"
    }
   ],
   "source": [
    "#Plot LiH PESs\n",
    "\n",
    "plt.title('LiH, STO-3G')\n",
    "plt.xlabel('R, Angstrom')\n",
    "plt.ylabel('E, Hartree')\n",
    "\n",
    "plt.plot(bond_lengths, FCI_PES, label='FCI')\n",
    "plt.scatter(bond_lengths, HF_PES, label='HF', color='orange')\n",
    "plt.scatter(bond_lengths, CCSD_PES, label='CCSD', color='purple')\n",
    "plt.legend()"
   ]
  },
  {
   "cell_type": "markdown",
   "metadata": {},
   "source": [
    "## N2"
   ]
  },
  {
   "cell_type": "code",
   "execution_count": 2,
   "metadata": {},
   "outputs": [],
   "source": [
    "bond_lengths = np.linspace(0.2,1.5,15)"
   ]
  },
  {
   "cell_type": "code",
   "execution_count": 4,
   "metadata": {},
   "outputs": [
    {
     "name": "stdout",
     "output_type": "stream",
     "text": [
      "E = -52.69986446095194 Eh\n",
      "E = -81.05760938012973 Eh\n",
      "E = -93.2443318403264 Eh\n",
      "E = -99.60123355455747 Eh\n",
      "E = -103.17505056193382 Eh\n",
      "E = -105.23126196578697 Eh\n",
      "E = -106.41151907971572 Eh\n",
      "E = -107.0736921056797 Eh\n",
      "E = -107.42762072030334 Eh\n",
      "E = -107.59968822078781 Eh\n",
      "E = -107.66688975402047 Eh\n",
      "E = -107.6759689561566 Eh\n",
      "E = -107.65493138420831 Eh\n",
      "E = -107.62027371024917 Eh\n",
      "E = -107.58163492166238 Eh\n"
     ]
    }
   ],
   "source": [
    "#Run FCI\n",
    "\n",
    "FCI_PES = obtain_PES('n2', bond_lengths, basis, method='fci')"
   ]
  },
  {
   "cell_type": "code",
   "execution_count": 5,
   "metadata": {},
   "outputs": [
    {
     "name": "stdout",
     "output_type": "stream",
     "text": [
      "E = -52.640880298460615 Eh\n",
      "E = -81.02717409134755 Eh\n",
      "E = -93.21263061913106 Eh\n",
      "E = -99.56462664446966 Eh\n",
      "E = -103.1284602169845 Eh\n",
      "E = -105.16999019396872 Eh\n",
      "E = -106.33415214551931 Eh\n",
      "E = -106.97862990623153 Eh\n",
      "E = -107.31221149488115 Eh\n",
      "E = -107.46067951455798 Eh\n",
      "E = -107.50079260668029 Eh\n",
      "E = -107.4792707477221 Eh\n",
      "E = -107.42419836176701 Eh\n",
      "E = -107.35213907332398 Eh\n",
      "E = -107.27267306962891 Eh\n"
     ]
    }
   ],
   "source": [
    "#Run HF\n",
    "HF_PES = obtain_PES('n2', bond_lengths, basis,  method='hf')"
   ]
  },
  {
   "cell_type": "code",
   "execution_count": 3,
   "metadata": {},
   "outputs": [
    {
     "name": "stdout",
     "output_type": "stream",
     "text": [
      "E = -52.6936422207812 Eh\n",
      "E = -81.0573576711355 Eh\n",
      "E = -93.24415663560093 Eh\n",
      "E = -99.60098215536046 Eh\n",
      "E = -103.17464787699214 Eh\n",
      "E = -105.2306245849548 Eh\n",
      "E = -106.41056679975341 Eh\n",
      "E = -107.07230280791323 Eh\n",
      "E = -107.42558858705299 Eh\n",
      "E = -107.59669125383832 Eh\n",
      "E = -107.6624696143396 Eh\n",
      "E = -107.66955616568615 Eh\n",
      "E = -107.64597232013608 Eh\n",
      "E = -107.60854261833094 Eh\n",
      "E = -107.56786511076726 Eh\n"
     ]
    }
   ],
   "source": [
    "#Run CCSD\n",
    "CCSD_PES = obtain_PES('n2', bond_lengths, basis,  method='ccsd')"
   ]
  },
  {
   "cell_type": "code",
   "execution_count": 6,
   "metadata": {},
   "outputs": [
    {
     "data": {
      "text/plain": [
       "<matplotlib.legend.Legend at 0x7f032d59ceb8>"
      ]
     },
     "execution_count": 6,
     "metadata": {},
     "output_type": "execute_result"
    },
    {
     "data": {
      "image/png": "[encoded data removed]",
      "text/plain": [
       "<Figure size 432x288 with 1 Axes>"
      ]
     },
     "metadata": {
      "needs_background": "light"
     },
     "output_type": "display_data"
    }
   ],
   "source": [
    "#Plot N2 PESs\n",
    "\n",
    "plt.title('N2, STO-3G')\n",
    "plt.xlabel('R, Angstrom')\n",
    "plt.ylabel('E, Hartree')\n",
    "\n",
    "plt.plot(bond_lengths, FCI_PES, label='FCI')\n",
    "plt.scatter(bond_lengths, HF_PES, label='HF', color='orange')\n",
    "plt.scatter(bond_lengths, CCSD_PES, label='CCSD', color='purple')\n",
    "plt.legend()"
   ]
  },
  {
   "cell_type": "code",
   "execution_count": null,
   "metadata": {},
   "outputs": [],
   "source": []
  }
 ],
 "metadata": {
  "kernelspec": {
   "display_name": "quantumhack",
   "language": "python",
   "name": "quantumhack"
  },
  "language_info": {
   "codemirror_mode": {
    "name": "ipython",
    "version": 3
   },
   "file_extension": ".py",
   "mimetype": "text/x-python",
   "name": "python",
   "nbconvert_exporter": "python",
   "pygments_lexer": "ipython3",
   "version": "3.7.1"
  }
 },
 "nbformat": 4,
 "nbformat_minor": 2
}
