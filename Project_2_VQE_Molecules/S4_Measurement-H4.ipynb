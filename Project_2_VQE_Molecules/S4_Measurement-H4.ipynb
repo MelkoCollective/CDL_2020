{
 "cells": [
  {
   "cell_type": "markdown",
   "metadata": {},
   "source": [
    "# Measurement Grouping\n",
    "\n",
    "Since current quantum hardware is limited to single-qubit projective measurement, only terms commuting within individual qubit's subspace can be measured together. These terms are said to be qubit-wise commuting (QWC). \n",
    "\n",
    "Thus, one can not measure the entire electronic Hamiltonian $\\hat H$ at once, and instead needs to separate it into fragments. \n",
    "$$\\hat H = \\sum_n \\hat H_n$$\n",
    "where each $\\hat H_n$ is a QWC fragment. "
   ]
  },
  {
   "cell_type": "code",
   "execution_count": 2,
   "metadata": {},
   "outputs": [],
   "source": [
    "from utility import * "
   ]
  },
  {
   "cell_type": "markdown",
   "metadata": {},
   "source": [
    "# $H_4$\n",
    "To show differences between QWC and more advanced grouping, we didn't use the qubit-tappering techinique shown in step 2."
   ]
  },
  {
   "cell_type": "code",
   "execution_count": 5,
   "metadata": {
    "tags": []
   },
   "outputs": [
    {
     "name": "stdout",
     "output_type": "stream",
     "text": [
      "Fragments 1: \n",
      "0.1895238150168329 [Z0] +\n",
      "0.08254029550391208 [Z0 Z2] +\n",
      "0.08478266177100145 [Z0 Z4] +\n",
      "0.09761833645634976 [Z0 Z6] +\n",
      "-0.014277925412794486 [X1 Z2 X3 X5 Z6 X7] +\n",
      "0.09432480368691577 [Z2 Z4] +\n",
      "-0.007757209496477228 [Z4] +\n",
      "0.08149422168047316 [Z4 Z6]\n",
      "\n",
      "Fragments 2:\n",
      "0.03302178088935298 [X0 Z1 Z2 X3 Y4 Z5 Z6 Y7]\n",
      "\n",
      "Number of fragments: 37\n"
     ]
    }
   ],
   "source": [
    "h4 = get_qubit_hamiltonian(mol='h4', geometry=85, basis='sto3g', qubit_transf='jw')\n",
    "\n",
    "qwc_list = get_qwc_group(h4)\n",
    "print('Fragments 1: \\n{}\\n'.format(qwc_list[4]))\n",
    "print('Fragments 2:\\n{}\\n'.format(qwc_list[1]))\n",
    "print('Number of fragments: {}'.format(len(qwc_list)))"
   ]
  },
  {
   "cell_type": "markdown",
   "metadata": {},
   "source": [
    "By applying extra unitaries, one may rotate more terms of $\\hat H$ into a QWC fragment.  \n",
    "\n",
    "Recall that in digital quantum computing, the expectation value of $\\hat H_n$ given a trial wavefunction $|\\psi\\rangle$ is \n",
    "$$ E_n =\\ \\langle\\psi| \\hat H_n | \\psi\\rangle$$\n",
    "Inserting unitary transformation $\\hat U_n$ does not change the expectation value.\n",
    "$$ E_n =\\ \\langle\\psi| \\hat U_n^\\dagger \\hat U_n \\hat H_n \\hat U_n^\\dagger \\hat U_n  |\\psi\\rangle$$ \n",
    "This nonetheless changes the trial wavefunction and the terms to be measured. \n",
    "$$ |\\psi\\rangle \\rightarrow \\hat U_n |\\psi\\rangle = |\\phi\\rangle$$\n",
    "$$ \\hat H_n \\rightarrow \\hat U_n \\hat H_n \\hat U_n^\\dagger = \\hat A_n$$\n",
    "The transformation of $|\\psi \\rangle$ can be done on the quantum computer, and the transformation of $\\hat H_n$ is possible on the classical computer. \n",
    "\n",
    "Now, although $\\hat A_n$ needs to be a QWC fragment to be measurable on a quantum computer, $\\hat H_n$ does not. \n",
    "Instead, if we restrict $\\hat U_n$ to be a clifford operation, the terms in $\\hat H$ need only mutually commute. \n",
    "\n",
    "Here, we obtain measurable parts of $H_4$ by partitioning its terms into mutually commuting fragments. "
   ]
  },
  {
   "cell_type": "code",
   "execution_count": 6,
   "metadata": {
    "tags": []
   },
   "outputs": [
    {
     "name": "stdout",
     "output_type": "stream",
     "text": [
      "Number of mutually commuting fragments: 4\n",
      "The first commuting group\n",
      "-0.6362710050108029 [] +\n",
      "-0.03245891907320156 [X0 X1 Y4 Y5] +\n",
      "-0.020882678880093687 [X0 X1 Y6 Y7] +\n",
      "-0.011726041549656178 [X0 Z1 Y2 Y4 Z5 X6] +\n",
      "0.03302178088935298 [X0 Z1 Z2 X3 Y4 Z5 Z6 Y7] +\n",
      "0.021295739339696803 [X0 Z1 Z2 X3 X5 X6] +\n",
      "-0.03245891907320156 [Y0 Y1 X4 X5] +\n",
      "-0.020882678880093687 [Y0 Y1 X6 X7] +\n",
      "-0.011726041549656178 [Y0 Z1 X2 X4 Z5 Y6] +\n",
      "0.03302178088935298 [Y0 Z1 Z2 Y3 X4 Z5 Z6 X7] +\n",
      "0.021295739339696803 [Y0 Z1 Z2 Y3 Y5 Y6] +\n",
      "0.021295739339696803 [X1 X2 X4 Z5 Z6 X7] +\n",
      "0.03302178088935298 [X1 X2 Y5 Y6] +\n",
      "-0.011726041549656178 [X1 Z2 Y3 Y5 Z6 X7] +\n",
      "0.021295739339696803 [Y1 Y2 Y4 Z5 Z6 Y7] +\n",
      "0.03302178088935298 [Y1 Y2 X5 X6] +\n",
      "-0.011726041549656178 [Y1 Z2 X3 X5 Z6 Y7] +\n",
      "-0.021728632837408966 [X2 X3 Y4 Y5] +\n",
      "-0.03617627181461982 [X2 X3 Y6 Y7] +\n",
      "-0.021728632837408966 [Y2 Y3 X4 X5] +\n",
      "-0.03617627181461982 [Y2 Y3 X6 X7]\n"
     ]
    }
   ],
   "source": [
    "comm_groups = get_commuting_group(h4)\n",
    "print('Number of mutually commuting fragments: {}'.format(len(comm_groups)))\n",
    "print('The first commuting group')\n",
    "print(comm_groups[1])"
   ]
  },
  {
   "cell_type": "markdown",
   "metadata": {},
   "source": [
    "To see this fragment is indeed measurable, one can construct the corresponding unitary operator $\\hat U_n$."
   ]
  },
  {
   "cell_type": "code",
   "execution_count": 7,
   "metadata": {
    "tags": []
   },
   "outputs": [
    {
     "name": "stdout",
     "output_type": "stream",
     "text": [
      "This is unitary, U * U^+ = I \n",
      "(0.9999999999999999+0j) []\n"
     ]
    }
   ],
   "source": [
    "uqwc = get_qwc_unitary(comm_groups[1])\n",
    "print('This is unitary, U * U^+ = I ')\n",
    "print(uqwc * uqwc)"
   ]
  },
  {
   "cell_type": "markdown",
   "metadata": {},
   "source": [
    "Applying this unitary gives the qubit-wise commuting form of the first mutually commuting group"
   ]
  },
  {
   "cell_type": "code",
   "execution_count": 8,
   "metadata": {
    "tags": []
   },
   "outputs": [
    {
     "name": "stdout",
     "output_type": "stream",
     "text": [
      "-0.6362710050107999 [] +\n",
      "-0.021295739339696723 [X0 X1 X2 Z3 Z5 Z6] +\n",
      "-0.03302178088935293 [X0 X1 X2 Z3 Z7] +\n",
      "0.0324589190732016 [X0 X1 Z5] +\n",
      "0.0117260415496561 [X0 X1 Z6] +\n",
      "-0.020882678880093743 [X0 X1 Z6 Z7] +\n",
      "-0.03302178088935293 [X1 X2 Z3 X4 Z7] +\n",
      "-0.021295739339696723 [X1 X2 Z3 Z5 Z6] +\n",
      "-0.0117260415496561 [X1 X2 Z3 Z5 Z7] +\n",
      "0.0117260415496561 [X1 X2 X4 Z6] +\n",
      "0.021295739339696723 [X1 X2 X4 Z7] +\n",
      "0.03302178088935293 [X1 X2 Z5 Z6] +\n",
      "0.021728632837408914 [X2 Z3 Z5] +\n",
      "-0.0117260415496561 [X2 Z3 Z5 Z7] +\n",
      "-0.03617627181461987 [X2 Z3 Z6 Z7] +\n",
      "0.021728632837408914 [Z3 X4 Z5] +\n",
      "-0.03617627181461987 [Z3 Z6 Z7] +\n",
      "0.0324589190732016 [X4 Z5] +\n",
      "0.03302178088935293 [Z5 Z6] +\n",
      "-0.020882678880093743 [Z6 Z7] +\n",
      "0.021295739339696723 [Z7]\n"
     ]
    }
   ],
   "source": [
    "qwc = remove_complex(uqwc * comm_groups[1] * uqwc)\n",
    "print(qwc)"
   ]
  },
  {
   "cell_type": "markdown",
   "metadata": {},
   "source": [
    "In addition, current quantum computer can measure only the $z$ operators. Thus, QWC fragments with $x$ or $y$ operators require extra single-qubit unitaries that rotate them into $z$.  "
   ]
  },
  {
   "cell_type": "code",
   "execution_count": 9,
   "metadata": {
    "tags": []
   },
   "outputs": [
    {
     "name": "stdout",
     "output_type": "stream",
     "text": [
      "Checking whether U * U^+ is identity: 0.9999999999999996 []\n",
      "\n",
      "The all-z form of qwc fragment:\n",
      "-0.6362710050107995 [] +\n",
      "-0.021295739339696702 [Z0 Z1 Z2 Z3 Z5 Z6] +\n",
      "-0.03302178088935291 [Z0 Z1 Z2 Z3 Z7] +\n",
      "0.03245891907320158 [Z0 Z1 Z5] +\n",
      "0.011726041549656093 [Z0 Z1 Z6] +\n",
      "-0.020882678880093725 [Z0 Z1 Z6 Z7] +\n",
      "-0.03302178088935291 [Z1 Z2 Z3 Z4 Z7] +\n",
      "-0.021295739339696702 [Z1 Z2 Z3 Z5 Z6] +\n",
      "-0.011726041549656093 [Z1 Z2 Z3 Z5 Z7] +\n",
      "0.011726041549656093 [Z1 Z2 Z4 Z6] +\n",
      "0.021295739339696702 [Z1 Z2 Z4 Z7] +\n",
      "0.03302178088935291 [Z1 Z2 Z5 Z6] +\n",
      "0.021728632837408893 [Z2 Z3 Z5] +\n",
      "-0.011726041549656093 [Z2 Z3 Z5 Z7] +\n",
      "-0.03617627181461984 [Z2 Z3 Z6 Z7] +\n",
      "0.021728632837408893 [Z3 Z4 Z5] +\n",
      "-0.03617627181461984 [Z3 Z6 Z7] +\n",
      "0.03245891907320158 [Z4 Z5] +\n",
      "0.03302178088935291 [Z5 Z6] +\n",
      "-0.020882678880093725 [Z6 Z7] +\n",
      "0.021295739339696702 [Z7]\n"
     ]
    }
   ],
   "source": [
    "uz = get_zform_unitary(qwc)\n",
    "print(\"Checking whether U * U^+ is identity: {}\".format(uz * uz))\n",
    "\n",
    "allz = remove_complex(uz * qwc * uz)\n",
    "print(\"\\nThe all-z form of qwc fragment:\\n{}\".format(allz))"
   ]
  }
 ],
 "metadata": {
  "kernelspec": {
   "display_name": "tequila",
   "language": "python",
   "name": "tequila"
  },
  "language_info": {
   "codemirror_mode": {
    "name": "ipython",
    "version": 3
   },
   "file_extension": ".py",
   "mimetype": "text/x-python",
   "name": "python",
   "nbconvert_exporter": "python",
   "pygments_lexer": "ipython3",
   "version": "3.7.1"
  }
 },
 "nbformat": 4,
 "nbformat_minor": 2
}
